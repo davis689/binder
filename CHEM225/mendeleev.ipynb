{
  "nbformat": 4,
  "nbformat_minor": 0,
  "metadata": {
    "colab": {
      "provenance": [],
      "authorship_tag": "ABX9TyNqBWMYT+SqCBRPVpgXCWQe",
      "include_colab_link": true
    },
    "kernelspec": {
      "name": "python3",
      "display_name": "Python 3"
    },
    "language_info": {
      "name": "python"
    }
  },
  "cells": [
    {
      "cell_type": "markdown",
      "metadata": {
        "id": "view-in-github",
        "colab_type": "text"
      },
      "source": [
        "<a href=\"https://colab.research.google.com/github/davis689/binder/blob/master/CHEM225/mendeleev.ipynb\" target=\"_parent\"><img src=\"https://colab.research.google.com/assets/colab-badge.svg\" alt=\"Open In Colab\"/></a>"
      ]
    },
    {
      "cell_type": "markdown",
      "metadata": {
        "id": "RYCAph7_XI5P"
      },
      "source": [
        "Many other things can be done using these techniques but let's move on to other things.\n",
        "Normally we can import the packages that we want to use but sometimes those packages are not used as frequently and need to be installed first. This is true of the mendeleev package.\n",
        "\n",
        "#Data about atoms"
      ]
    },
    {
      "cell_type": "markdown",
      "source": [
        "The package we want to use, mendeleev, is not installed by default in colab. We'll need to install it and update some packages along the way. This takes a little bit. Allow it to finish. Even if it says you need to restart the session, wait until it's done to do so."
      ],
      "metadata": {
        "id": "TRbOtm82uoEY"
      }
    },
    {
      "cell_type": "code",
      "source": [
        "#!pip install mendeleev # colab doesn't have this package so we'll have to install it before we can import it.\n",
        "!pip install --upgrade --force-reinstall numpy\n",
        "!pip install --upgrade --force-reinstall pandas\n",
        "!pip install --upgrade mendeleev"
      ],
      "metadata": {
        "id": "DFizTo1dugM8"
      },
      "execution_count": null,
      "outputs": []
    },
    {
      "cell_type": "code",
      "source": [
        "import matplotlib.pyplot as plt\n",
        "import numpy as np"
      ],
      "metadata": {
        "id": "HRn6om7uySNA"
      },
      "execution_count": 11,
      "outputs": []
    },
    {
      "cell_type": "code",
      "metadata": {
        "id": "Md9gipugYGAw"
      },
      "source": [
        "from mendeleev import element"
      ],
      "execution_count": 1,
      "outputs": []
    },
    {
      "cell_type": "markdown",
      "metadata": {
        "id": "xnKyFQvtYlwh"
      },
      "source": [
        "Now we can get information atoms. We can use ```element('Pb')``` to find what information is available. **Do this**"
      ]
    },
    {
      "cell_type": "code",
      "source": [],
      "metadata": {
        "id": "k35me1mrS3SE"
      },
      "execution_count": null,
      "outputs": []
    },
    {
      "cell_type": "markdown",
      "source": [
        "If we want to save this information to a variable, we can do that too. For nitrogen we might save the data in ```n```."
      ],
      "metadata": {
        "id": "O5lkJRArStp6"
      }
    },
    {
      "cell_type": "code",
      "metadata": {
        "id": "Ll2Zk2Wyw6H1"
      },
      "source": [
        "n=element('N') # get information about nitrogen and store it in variable n.\n",
        "n # display the information"
      ],
      "execution_count": null,
      "outputs": []
    },
    {
      "cell_type": "markdown",
      "metadata": {
        "id": "AWr7RsQXxgp0"
      },
      "source": [
        "That's a lot of information. Here we have stored all the information about nitrogen in the variable `n`. The names of the properties are before the = sign in the above list. We can use those keynames to get individual parts of that using something like\n",
        "\n",
        "```\n",
        "n.name\n",
        "n.atomic_weight\n",
        "n.boiling_point\n",
        "n.vdw_radius\n",
        "```\n",
        "\n",
        "**Try it using ```n.{property}``` and also with ```element('N').{property}```**"
      ]
    },
    {
      "cell_type": "code",
      "source": [],
      "metadata": {
        "id": "C8iIVHVTLYKT"
      },
      "execution_count": null,
      "outputs": []
    },
    {
      "cell_type": "markdown",
      "source": [
        "**Find the density and the uses of selenium.**"
      ],
      "metadata": {
        "id": "QAX1kTVQLy3U"
      }
    },
    {
      "cell_type": "code",
      "source": [],
      "metadata": {
        "id": "Z38g3KvdQ8KU"
      },
      "execution_count": null,
      "outputs": []
    },
    {
      "cell_type": "markdown",
      "metadata": {
        "id": "u0jdrfJjyo_d"
      },
      "source": [
        "**Get the melting point of silver.**"
      ]
    },
    {
      "cell_type": "code",
      "source": [],
      "metadata": {
        "id": "IDZLcBejvqPw"
      },
      "execution_count": null,
      "outputs": []
    },
    {
      "cell_type": "markdown",
      "source": [
        "Let's say we want to extract information related to isotopes. ```element('X').isotopes``` would do this."
      ],
      "metadata": {
        "id": "SFjLeNqoCzdb"
      }
    },
    {
      "cell_type": "code",
      "metadata": {
        "id": "Uz5ZnohlxQuP"
      },
      "source": [
        "for iso in n.isotopes:\n",
        "  print(iso)"
      ],
      "execution_count": null,
      "outputs": []
    },
    {
      "cell_type": "markdown",
      "source": [
        "**Make a similar table for selenium. How many stable isotopes of selenium are there?**"
      ],
      "metadata": {
        "id": "VFE2BNdcMnL_"
      }
    },
    {
      "cell_type": "code",
      "source": [],
      "metadata": {
        "id": "UZ82r8U4MvBk"
      },
      "execution_count": null,
      "outputs": []
    },
    {
      "cell_type": "markdown",
      "source": [
        "It turns out that this is only a subset of the information available about isotopes. For instance, maybe we want the half-lives of the isotopes. If you look through the data above, you can see half-life there."
      ],
      "metadata": {
        "id": "BMAJOET5DH_B"
      }
    },
    {
      "cell_type": "code",
      "source": [
        "element('N').isotopes"
      ],
      "metadata": {
        "id": "dQTbEkeaDm23"
      },
      "execution_count": null,
      "outputs": []
    },
    {
      "cell_type": "markdown",
      "source": [
        "Let's pull that out for each isotope using a loop."
      ],
      "metadata": {
        "id": "IUEjq86ow576"
      }
    },
    {
      "cell_type": "code",
      "source": [
        "symbol='N'\n",
        "el=element(symbol)\n",
        "for iso in el.isotopes:\n",
        "    if iso.half_life is not None and iso.half_life_unit is not None: #normal handling\n",
        "        print(f\"{symbol}-{iso.mass_number}: {iso.half_life} {iso.half_life_unit}\")\n",
        "\n",
        "    elif iso.abundance is not None:    # if abundance is listed, assume stable\n",
        "        print(f\"{symbol}-{iso.mass_number}: stable\")\n",
        "\n",
        "    else:\n",
        "        print(f\"{symbol}-{iso.mass_number}: half-life unknown or isotope unobserved\") # if no abundance, assume radiocative without data on half-life"
      ],
      "metadata": {
        "id": "9He8ojUR8J7z"
      },
      "execution_count": null,
      "outputs": []
    },
    {
      "cell_type": "code",
      "metadata": {
        "id": "e3IjKDy215EK"
      },
      "source": [
        "Cl=element('Cl')\n",
        "print(Cl.ionenergies)"
      ],
      "execution_count": null,
      "outputs": []
    },
    {
      "cell_type": "markdown",
      "source": [
        "The fifth ionization energy, if we wanted such a thing, can be extracted using ```element('Cl').ionenergies[5]```. **Find the 2nd and 3rd ionization energies of calcium.**"
      ],
      "metadata": {
        "id": "qdAkjElXTvLa"
      }
    },
    {
      "cell_type": "code",
      "source": [],
      "metadata": {
        "id": "yYR2L5XgTuQc"
      },
      "execution_count": null,
      "outputs": []
    },
    {
      "cell_type": "markdown",
      "source": [
        "The output of ```ionenergies``` is a type of data known as a python dictionary. We can access both the ionization number and the ionization energies and place them in a list using ```list(element('Cl').ionenergies.keys())``` and  ```list(element('Cl'.ionenergies.values())```. Store these in a variable and make a plot of ionization energy vs ionization number using ```plt.plot( , ,marker='o')``` Be sure to label your axes using something similar to ```plt.xlabel('')```"
      ],
      "metadata": {
        "id": "mPFDE9dtVX7Q"
      }
    },
    {
      "cell_type": "code",
      "source": [],
      "metadata": {
        "id": "2bGiwuidxkBH"
      },
      "execution_count": null,
      "outputs": []
    },
    {
      "cell_type": "markdown",
      "metadata": {
        "id": "vv3xX9gLiLFQ"
      },
      "source": [
        "Let try plotting several atoms (the halogens) against several of their properties."
      ]
    },
    {
      "cell_type": "code",
      "metadata": {
        "id": "Kx5E_WnDhhgb"
      },
      "source": [
        "elem=['F','Cl','Br','I']\n",
        "\n",
        "an=[element(x).atomic_number for x in elem] # iterate througth the elem list and add atomic number to the list.\n",
        "en=[element(x).en_pauling for x in elem] # iterate and add electronegativity (pauling scale) to the en list.\n",
        "print(an,en)"
      ],
      "execution_count": null,
      "outputs": []
    },
    {
      "cell_type": "code",
      "metadata": {
        "id": "cCQ4aQ7ojwW0"
      },
      "source": [
        "import math"
      ],
      "execution_count": null,
      "outputs": []
    },
    {
      "cell_type": "markdown",
      "source": [
        "We can make a plot of electronegativity vs atomic number for these elements."
      ],
      "metadata": {
        "id": "-dF2zVhaJxdQ"
      }
    },
    {
      "cell_type": "code",
      "metadata": {
        "id": "hDpn_VMpieLb"
      },
      "source": [
        "plt.scatter(an,en)\n",
        "plt.ylabel ('Electronegativity')\n",
        "plt.xlabel ('Atomic Number')\n",
        "plt.title('The Electronegativity of Halogens with their Atomic Number')\n",
        "plt.show()"
      ],
      "execution_count": null,
      "outputs": []
    },
    {
      "cell_type": "code",
      "source": [
        "radius=[ for x in elem] # extract radius (atomic_radius)\n",
        "print(radius)"
      ],
      "metadata": {
        "id": "sefJGmdwKqAb"
      },
      "execution_count": null,
      "outputs": []
    },
    {
      "cell_type": "markdown",
      "source": [
        "Do the same thing for ionization energies. To get the first ionization energy, use `ionenergies[1]` rather than `atomic_radius`. Assign to the variable `IE`."
      ],
      "metadata": {
        "id": "TXNtpcKOOUnD"
      }
    },
    {
      "cell_type": "code",
      "source": [
        "ie=[ for x in elem] # extract the first ionization energy, (ionenergies[1])\n",
        "print(ie)"
      ],
      "metadata": {
        "id": "Mo1MbBHqOqC1"
      },
      "execution_count": null,
      "outputs": []
    },
    {
      "cell_type": "markdown",
      "source": [
        "We can use more features of plotting to give more details to our electronegativity. The size of the symbols on the plot could be made to differ according to the atomic radius of the atoms. To access the size of the symbols we can add a third argument to the `scatter` function. Something like s=4 would make the points all the same size. Here we want to make the points scale according to atomic radius so we'll iterate over radii of the chosen atoms with s=radius where we have defined radius above."
      ],
      "metadata": {
        "id": "SOIeOgZALASH"
      }
    },
    {
      "cell_type": "code",
      "metadata": {
        "id": "8X2jrL-SJ-qB"
      },
      "source": [
        "plt.scatter(an,en,s=radius)#s= size\n",
        "plt.ylabel ('Electronegativity')\n",
        "plt.xlabel ('Atomic Number')\n",
        "plt.title('The Electronegativity of Halogens with their Atomic Number')\n",
        "plt.show()"
      ],
      "execution_count": null,
      "outputs": []
    },
    {
      "cell_type": "markdown",
      "source": [
        "We can add another related property to the plot by chaning the color of the points. Color is the fourth parameter in the scatter function. Using c='blue' would give use blue points but, if we want the color to represent another quantity such as ionization energy, we can use a list here like we did with the size. Add `plt.colorbar()` to show a scale with numbers alongside the graph.\n",
        "Complete the following to make the color relative to the ionization energy."
      ],
      "metadata": {
        "id": "zrr59mujNF4T"
      }
    },
    {
      "cell_type": "code",
      "source": [
        "plt.scatter(an,en,s=radius,c= ie)#s= size\n",
        "plt.ylabel ('Electronegativity')\n",
        "plt.xlabel ('Atomic Number')\n",
        "plt.title('The Electronegativity of Halogens with their Atomic Number')\n",
        "plt.xticks([9,17,35,53])\n",
        "cbar = plt.colorbar()\n",
        "cbar.set_label('Ionization energy')\n",
        "\n",
        "plt.show()"
      ],
      "metadata": {
        "id": "4c5Y2V87NUI-"
      },
      "execution_count": null,
      "outputs": []
    },
    {
      "cell_type": "markdown",
      "source": [
        "Do the same for a wider variety of atoms."
      ],
      "metadata": {
        "id": "FFxfpmMcy1pG"
      }
    },
    {
      "cell_type": "code",
      "source": [
        "elem=['H','He','Li','Be','B','C','N','O','F','Ne','Na','Mg','Al','Si','P','S','Cl','Ar']#,'K','Ca','Sc','Ti','V','Cr','Mn',\n",
        "     # 'Fe','Co','Ni','Cu','Zn','Ga','Ge','As','Se','Br']\n",
        "radius=[element(x).atomic_radius for x in elem] # extract radius\n",
        "an=[element(x).atomic_number for x in elem] # iterate througth the elem list and add atomic number to a list.\n",
        "ie=[element(x).ionenergies[1] for x in elem] # extract IE to a list\n",
        "ea=[element(x).electron_affinity for x in elem] #same with electron affinity\n",
        "plt.scatter(an,ie,s=radius,c= ea)#plot ie vs an with size and color related to radius and electron affinity.\n",
        "plt.ylabel ('Ionization Energy')\n",
        "plt.xlabel ('Atomic Number')\n",
        "plt.title('Properties of 2nd row elements with their Atomic Number')\n",
        "plt.colorbar()\n",
        "plt.show()"
      ],
      "metadata": {
        "id": "pPOcWAPhaM3A"
      },
      "execution_count": null,
      "outputs": []
    },
    {
      "cell_type": "markdown",
      "source": [
        "A plot like this is quite complex and contains a lot of information. Try to make a similar one for the first five chalcogens, O through Po. Put atomic number on the x-axis, ionization energy on the y-axis, radius for the size and electron_affinity for the color."
      ],
      "metadata": {
        "id": "DUKjvTMEOuIM"
      }
    },
    {
      "cell_type": "code",
      "metadata": {
        "id": "QqbMgtl3jF6s"
      },
      "source": [
        "elem=['O','S','Se','Te','Po']\n"
      ],
      "execution_count": null,
      "outputs": []
    }
  ]
}