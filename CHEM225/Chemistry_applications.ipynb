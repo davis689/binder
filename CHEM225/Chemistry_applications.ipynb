{
  "nbformat": 4,
  "nbformat_minor": 0,
  "metadata": {
    "colab": {
      "name": "Chemistry applications.ipynb",
      "provenance": [],
      "authorship_tag": "ABX9TyN9TdnuC75qDc1QfuI1Q4kl",
      "include_colab_link": true
    },
    "kernelspec": {
      "name": "python3",
      "display_name": "Python 3"
    }
  },
  "cells": [
    {
      "cell_type": "markdown",
      "metadata": {
        "id": "view-in-github",
        "colab_type": "text"
      },
      "source": [
        "<a href=\"https://colab.research.google.com/github/davis689/binder/blob/master/CHEM225/Chemistry_applications.ipynb\" target=\"_parent\"><img src=\"https://colab.research.google.com/assets/colab-badge.svg\" alt=\"Open In Colab\"/></a>"
      ]
    },
    {
      "cell_type": "markdown",
      "metadata": {
        "id": "Gscm6WTDF6i7"
      },
      "source": [
        "#Obtaining and displaying data\n",
        "In this exercise we will look at some chemistry applications of python and ways to obtain and plot data.\n",
        "\n",
        "First we import some packages that help us with the task of importing data from websites."
      ]
    },
    {
      "cell_type": "code",
      "metadata": {
        "id": "I67K5JZFF4xR"
      },
      "source": [
        "import lxml.html as lh\n",
        "import requests\n",
        "import pandas as pd"
      ],
      "execution_count": 13,
      "outputs": []
    },
    {
      "cell_type": "markdown",
      "metadata": {
        "id": "kvnRB0lnGnj1"
      },
      "source": [
        "webbook.nist.gov is a huge collection of chemistry data. Let's find some on CO$_2$. [Look at this set](https://webbook.nist.gov/cgi/fluid.cgi?Action=Load&ID=C124389&Type=IsoBar&Digits=5&P=4&THigh=500&TLow=200&TInc=10&RefState=DEF&TUnit=K&PUnit=bar&DUnit=mol%2Fl&HUnit=kJ%2Fmol&WUnit=m%2Fs&VisUnit=uPa*s&STUnit=N%2Fm) of thermodynamic data. Let's import it so that we can manipulate it."
      ]
    },
    {
      "cell_type": "code",
      "metadata": {
        "id": "NypcJQ3IHAdm"
      },
      "source": [
        "url='https://webbook.nist.gov/cgi/fluid.cgi?Action=Load&ID=C124389&Type=IsoBar&Digits=5&P=4&THigh=500&TLow=250&TInc=10&RefState=DEF&TUnit=K&PUnit=bar&DUnit=mol%2Fl&HUnit=kJ%2Fmol&WUnit=m%2Fs&VisUnit=uPa*s&STUnit=N%2Fm' #look at a wikipedia page\n",
        "page = requests.get(url).content                           #get the content from the page\n",
        "df_list = pd.read_html(page)                               #import all the data \n",
        "CO2=df_list[0]                                             #name the first data table (table 0) as CO2. This page only has one data table but if it didn't we could change the 0 to another number to extract that table."
      ],
      "execution_count": 14,
      "outputs": []
    },
    {
      "cell_type": "markdown",
      "metadata": {
        "id": "zb72haNzO31_"
      },
      "source": [
        "If we type CO2 we can verify that the table has been imported. Now our data is held in a 'dataframe' that is somewhat different from the lists we used last time but similar."
      ]
    },
    {
      "cell_type": "code",
      "metadata": {
        "id": "nwrEN6KNKVfP"
      },
      "source": [
        "CO2"
      ],
      "execution_count": null,
      "outputs": []
    },
    {
      "cell_type": "markdown",
      "metadata": {
        "id": "mO3cp4rVQTeJ"
      },
      "source": [
        "Now this is a lot of data and we might want to focus our attention on just some of it. Let's say we only care about temperature, density, and Cv (heat capacity). Let's reassign CO2."
      ]
    },
    {
      "cell_type": "code",
      "metadata": {
        "id": "lZaix8qiPKhT"
      },
      "source": [
        "smallCO2=CO2[['Temperature (K)','Density (mol/l)', 'Cv (J/mol*K)']]\n",
        "smallCO2"
      ],
      "execution_count": null,
      "outputs": []
    },
    {
      "cell_type": "markdown",
      "metadata": {
        "id": "hbjqtyOfPgds"
      },
      "source": [
        "We can access the third row of the dataframe using the iloc command like this. Note how it keeps track of the column headers for us so that all the data labeled properly."
      ]
    },
    {
      "cell_type": "code",
      "metadata": {
        "id": "-ZureK5hO9g4"
      },
      "source": [
        "CO2.iloc[2]"
      ],
      "execution_count": null,
      "outputs": []
    },
    {
      "cell_type": "markdown",
      "metadata": {
        "id": "s43vef13T-iZ"
      },
      "source": [
        "Or we can get the third item from the third row (the density at 270 K) like this."
      ]
    },
    {
      "cell_type": "code",
      "metadata": {
        "id": "gtFn_QAkT9Fi"
      },
      "source": [
        "CO2.iloc[2,2]"
      ],
      "execution_count": null,
      "outputs": []
    },
    {
      "cell_type": "code",
      "metadata": {
        "id": "9UaXkadAUzIh"
      },
      "source": [
        "CO2.plot(x='Temperature (K)', y='Density (mol/l)')"
      ],
      "execution_count": null,
      "outputs": []
    },
    {
      "cell_type": "markdown",
      "metadata": {
        "id": "rvU2IPBovzI5"
      },
      "source": [
        "**Use the [link](https://webbook.nist.gov/cgi/fluid.cgi?Action=Load&ID=C7732185&Type=IsoBar&Digits=5&P=1&THigh=500&TLow=300&TInc=20&RefState=DEF&TUnit=K&PUnit=bar&DUnit=mol%2Fl&HUnit=kJ%2Fmol&WUnit=m%2Fs&VisUnit=uPa*s&STUnit=N%2Fm) for water to plot how heat capacity $C_V$ varies with temperature**\n"
      ]
    },
    {
      "cell_type": "code",
      "metadata": {
        "id": "z9PlIWbxwFuz"
      },
      "source": [
        ""
      ],
      "execution_count": null,
      "outputs": []
    },
    {
      "cell_type": "markdown",
      "metadata": {
        "id": "RYCAph7_XI5P"
      },
      "source": [
        "Many other things can be done using these techniques but let's move on to other things.\n",
        "Normally we can import the packages that we want to use but sometimes those packages are not used as frequently and need to be installed first. This is true of the mendeleev package.\n",
        "\n",
        "#Data about atoms"
      ]
    },
    {
      "cell_type": "code",
      "metadata": {
        "id": "jgSpoH-Qad5h"
      },
      "source": [
        "import matplotlib.pyplot as plt"
      ],
      "execution_count": 42,
      "outputs": []
    },
    {
      "cell_type": "code",
      "metadata": {
        "id": "j4CHItvjXEtr"
      },
      "source": [
        "!pip install mendeleev # colab doesn't have this package so we'll have to install it before we can import it."
      ],
      "execution_count": null,
      "outputs": []
    },
    {
      "cell_type": "markdown",
      "metadata": {
        "id": "CEg21kbO8eLl"
      },
      "source": [
        ""
      ]
    },
    {
      "cell_type": "markdown",
      "metadata": {
        "id": "yCYrtA4fYdtC"
      },
      "source": [
        "Let's import a few atoms from this package. You can choose whichever ones you want.\n"
      ]
    },
    {
      "cell_type": "code",
      "metadata": {
        "id": "Md9gipugYGAw"
      },
      "source": [
        "from mendeleev import element"
      ],
      "execution_count": 44,
      "outputs": []
    },
    {
      "cell_type": "markdown",
      "metadata": {
        "id": "xnKyFQvtYlwh"
      },
      "source": [
        "Now we can get information atoms."
      ]
    },
    {
      "cell_type": "code",
      "metadata": {
        "id": "Ll2Zk2Wyw6H1"
      },
      "source": [
        "n=element('N') # get information about nitrogen and store it in variable n.\n",
        "n # display the information "
      ],
      "execution_count": null,
      "outputs": []
    },
    {
      "cell_type": "markdown",
      "metadata": {
        "id": "AWr7RsQXxgp0"
      },
      "source": [
        "That's a lot of information. The names of the properties are before the = sign in the above list. We can use those keynames to get individual parts of that using something like \n",
        "\n",
        "```\n",
        "n.name\n",
        "n.atomic_weight\n",
        "n.boiling_point\n",
        "n.vdw_radius\n",
        "```\n",
        "\n",
        "**Try it**"
      ]
    },
    {
      "cell_type": "code",
      "metadata": {
        "id": "Uz5ZnohlxQuP"
      },
      "source": [
        ""
      ],
      "execution_count": null,
      "outputs": []
    },
    {
      "cell_type": "markdown",
      "metadata": {
        "id": "qHpjNGP8yZGG"
      },
      "source": [
        "We don't need to import all of the properties and store them in a variable to access the information. We can get any of it using something like\n",
        "\n",
        "\n",
        "```\n",
        "element('W').melting_point\n",
        "```\n",
        "\n"
      ]
    },
    {
      "cell_type": "code",
      "metadata": {
        "id": "4b5vo9afYieu",
        "colab": {
          "base_uri": "https://localhost:8080/"
        },
        "outputId": "2c9760ae-c9d9-420c-dd91-94e62ee3f697"
      },
      "source": [
        "element('W').melting_point\n"
      ],
      "execution_count": 4,
      "outputs": [
        {
          "output_type": "execute_result",
          "data": {
            "text/plain": [
              "3680.0"
            ]
          },
          "metadata": {
            "tags": []
          },
          "execution_count": 4
        }
      ]
    },
    {
      "cell_type": "markdown",
      "metadata": {
        "id": "u0jdrfJjyo_d"
      },
      "source": [
        "**Get the melting point of silver using a similar line of code.**"
      ]
    },
    {
      "cell_type": "code",
      "metadata": {
        "id": "39o1mnA61vYe"
      },
      "source": [
        ""
      ],
      "execution_count": 4,
      "outputs": []
    },
    {
      "cell_type": "code",
      "metadata": {
        "id": "e3IjKDy215EK",
        "colab": {
          "base_uri": "https://localhost:8080/"
        },
        "outputId": "1f1a95c5-8106-4b82-edcd-6801c3a7745a"
      },
      "source": [
        "Cl=element('Cl')\n",
        "print(Cl.ionenergies)"
      ],
      "execution_count": 5,
      "outputs": [
        {
          "output_type": "stream",
          "text": [
            "{1: 12.96763, 2: 23.81364, 3: 39.8, 4: 53.24, 5: 67.68, 6: 96.94, 7: 114.2013, 8: 348.306, 9: 400.851, 10: 456.68, 11: 529.97, 12: 591.58, 13: 656.3, 14: 750.2, 15: 809.198, 16: 3658.34362, 17: 3946.2908}\n"
          ],
          "name": "stdout"
        }
      ]
    },
    {
      "cell_type": "code",
      "metadata": {
        "id": "gHfHu5NJy58E"
      },
      "source": [
        "Cl.ionenergies[5]"
      ],
      "execution_count": null,
      "outputs": []
    },
    {
      "cell_type": "markdown",
      "metadata": {
        "id": "vv3xX9gLiLFQ"
      },
      "source": [
        "Let try plotting several atoms (the halogens) against several of their properties."
      ]
    },
    {
      "cell_type": "code",
      "metadata": {
        "id": "Kx5E_WnDhhgb"
      },
      "source": [
        "elem=['F','Cl','Br','I']\n",
        "radius=[element(x).atomic_radius for x in elem]\n",
        "ie=[element(x).ionenergies[1] for x in elem]\n",
        "an=[element(x).atomic_number for x in elem]\n",
        "en=[element(x).en_pauling for x in elem]"
      ],
      "execution_count": 88,
      "outputs": []
    },
    {
      "cell_type": "code",
      "metadata": {
        "id": "cCQ4aQ7ojwW0"
      },
      "source": [
        "import math"
      ],
      "execution_count": 83,
      "outputs": []
    },
    {
      "cell_type": "code",
      "metadata": {
        "id": "hDpn_VMpieLb"
      },
      "source": [
        "plt.scatter(an,en,s=[r for r in radius],c=[e for e in ie])#s= size\n",
        "plt.ylabel ('Electronegativity')\n",
        "plt.xlabel ('Atomic Number')\n",
        "plt.title('The Electronegativity of Halogens with their Atomic Number')\n",
        "plt.colorbar()\n",
        "plt.show()"
      ],
      "execution_count": null,
      "outputs": []
    },
    {
      "cell_type": "code",
      "metadata": {
        "id": "QqbMgtl3jF6s"
      },
      "source": [
        "elem=['O','S','Se','Te','Po']\n",
        "an=[element(x).atomic_number for x in elem] # get atomic number for each element in elem\n",
        "bp=[element(x).boiling_point for x in elem] # get boiling point for each element in elem"
      ],
      "execution_count": 144,
      "outputs": []
    },
    {
      "cell_type": "code",
      "metadata": {
        "id": "f-06t657lDBH"
      },
      "source": [
        "plt.scatter(an,bp)\n",
        "plt.ylabel ('boiling point (K)')\n",
        "plt.xlabel ('Atomic Number')\n",
        "plt.title('The Electronegativity of Halogens with their Atomic Number')\n",
        "plt.colorbar()\n",
        "plt.show()"
      ],
      "execution_count": null,
      "outputs": []
    },
    {
      "cell_type": "markdown",
      "metadata": {
        "id": "tcLbxyNaZvan"
      },
      "source": [
        "We can also get the whole table."
      ]
    },
    {
      "cell_type": "code",
      "metadata": {
        "id": "2DB2Cx-mZxj3"
      },
      "source": [
        "from mendeleev.fetch import fetch_table\n",
        "ptable=fetch_table('elements')"
      ],
      "execution_count": 31,
      "outputs": []
    },
    {
      "cell_type": "markdown",
      "metadata": {
        "id": "bSDvbqfNZ3pW"
      },
      "source": [
        "Use .info() to get the whole list of properties we can pull out."
      ]
    },
    {
      "cell_type": "code",
      "metadata": {
        "id": "URk-uDobZ_i9"
      },
      "source": [
        "ptable.info()"
      ],
      "execution_count": null,
      "outputs": []
    },
    {
      "cell_type": "markdown",
      "metadata": {
        "id": "-kE-nj0UaPPe"
      },
      "source": [
        "Let's plot atomic radius vs atomic number. "
      ]
    },
    {
      "cell_type": "markdown",
      "metadata": {
        "id": "bGt7OvvEah2J"
      },
      "source": [
        "Now extract the atomic radius into a variable. Then plot like we did last time. Label with 'atomic radius (pm)' and 'atomic number'. (Note you can just plot the radius without an x data set since it will default to x=1,2,3, etc. just like atomic number but you can also make a nice list like we did last time of [1,2,3,...118] if you want.)"
      ]
    },
    {
      "cell_type": "code",
      "metadata": {
        "id": "COXhF5LeaFOh"
      },
      "source": [
        "an=ptable['atomic_number']\n",
        "ar=ptable['atomic_radius']\n",
        "plt.plot(an,ar,marker='.')\n",
        "plt.xlabel('Atomic Number')\n",
        "plt.ylabel('Atomic Radius (pm)')\n",
        "plt.show()"
      ],
      "execution_count": null,
      "outputs": []
    },
    {
      "cell_type": "markdown",
      "metadata": {
        "id": "dbSasPKAJ2-j"
      },
      "source": [
        "If we want to compare across a period, say the second, we can put limits on our plot.\n"
      ]
    },
    {
      "cell_type": "code",
      "metadata": {
        "id": "vurrf5Dvbwr8"
      },
      "source": [
        "anl=3 #low atomic number\n",
        "anh=10 # high atomic number\n",
        "plt.plot(an[anl-1:anh],ar[anl-1:anh],marker='.') #-1 because an[0] is 1, an[1] is 2 and ar[1] is He radius etc. ar[anl:anh] will give radius up to but not including atomic number anh-1.\n",
        "plt.xlabel('Atomic Number')\n",
        "plt.ylabel('Atomic Radius (pm)')\n",
        "plt.show()"
      ],
      "execution_count": null,
      "outputs": []
    },
    {
      "cell_type": "markdown",
      "metadata": {
        "id": "1K-37Hk_caWa"
      },
      "source": [
        "Neon has a surprisingly large radius for being in the same period with the other atoms. This is likely due to a change in method of measurement. The other atoms are likely measured by taking half the length of the covalent bond. Since Ne doesn't form covalent bonds, another method must be taken. The value shown for Ne is likely the van der Waals radius.\n",
        "\n",
        "This problem may not exist for Ar because it does from at least some bonds with fluorine.\n",
        "\n",
        "**Try it**"
      ]
    },
    {
      "cell_type": "code",
      "metadata": {
        "id": "oEqq5MrAhInB"
      },
      "source": [
        ""
      ],
      "execution_count": null,
      "outputs": []
    },
    {
      "cell_type": "markdown",
      "metadata": {
        "id": "nCeKZYgNa5M3"
      },
      "source": [
        "Make a plot of the electronegatively (en_pauling) vs atomic number"
      ]
    },
    {
      "cell_type": "code",
      "metadata": {
        "id": "p4UBsKf6ade9"
      },
      "source": [
        ""
      ],
      "execution_count": 11,
      "outputs": []
    },
    {
      "cell_type": "markdown",
      "metadata": {
        "id": "3NVWVNqycQNt"
      },
      "source": [
        "#Data about molecules\n",
        "Now make up a formula and calculate its mass. Let's try CO$_2$. Note how we can make it $^{13}$CO$_2$ if we want."
      ]
    },
    {
      "cell_type": "markdown",
      "metadata": {
        "id": "g_M0fhroby_I"
      },
      "source": [
        "Let's try some molar mass calculations. Install and import relevant package.\n"
      ]
    },
    {
      "cell_type": "code",
      "metadata": {
        "id": "MXX-QvKPb_A7",
        "colab": {
          "base_uri": "https://localhost:8080/"
        },
        "outputId": "d0f40c06-2fec-4d56-a744-e2a545a40a7c"
      },
      "source": [
        "!pip install molmass\n",
        "from molmass import Formula"
      ],
      "execution_count": 35,
      "outputs": [
        {
          "output_type": "stream",
          "text": [
            "Requirement already satisfied: molmass in /usr/local/lib/python3.7/dist-packages (2020.6.10)\n"
          ],
          "name": "stdout"
        }
      ]
    },
    {
      "cell_type": "code",
      "metadata": {
        "id": "1oyKo8A1cgh5"
      },
      "source": [
        "f1=Formula('CO2')\n",
        "print(f1.mass)"
      ],
      "execution_count": null,
      "outputs": []
    },
    {
      "cell_type": "code",
      "metadata": {
        "id": "NBU5UeCu4L5x"
      },
      "source": [
        "f2=Formula('[13C]O2')\n",
        "print(f2.mass)"
      ],
      "execution_count": null,
      "outputs": []
    },
    {
      "cell_type": "code",
      "metadata": {
        "id": "3xyxkjATzrUU"
      },
      "source": [
        "!pip install chemicals"
      ],
      "execution_count": null,
      "outputs": []
    },
    {
      "cell_type": "code",
      "metadata": {
        "id": "V0zGPRxrzo35"
      },
      "source": [
        "from chemicals import CAS_from_any, MW, Tb, Tm,  Hfl, Hfg, search_chemical\n",
        "# Search for CASRN by a common name or a unique identifier such as the IchI key\n",
        "water = CAS_from_any('Water') # get the identifier for water to be used \n",
        "\n",
        "MW(water)   # Molecular weight [g/mol]\n"
      ],
      "execution_count": null,
      "outputs": []
    },
    {
      "cell_type": "code",
      "metadata": {
        "id": "4exUf31Kz7t6"
      },
      "source": [
        "Tb(water)   # Normal boiling point [K]\n"
      ],
      "execution_count": null,
      "outputs": []
    },
    {
      "cell_type": "code",
      "metadata": {
        "id": "sQOoE8LXz-nK"
      },
      "source": [
        "Tm(water)"
      ],
      "execution_count": null,
      "outputs": []
    },
    {
      "cell_type": "code",
      "metadata": {
        "id": "O_yBxfm90CBV"
      },
      "source": [
        "Hfl(CAS_water)  #  heat of formation of liquid [J/mol]\n"
      ],
      "execution_count": null,
      "outputs": []
    },
    {
      "cell_type": "code",
      "metadata": {
        "id": "kk8DVaM_1lvM"
      },
      "source": [
        "CAS_from_any('N2O4') # get the CAS identifier for molecules"
      ],
      "execution_count": null,
      "outputs": []
    },
    {
      "cell_type": "code",
      "metadata": {
        "id": "G1gNLOw61pi7"
      },
      "source": [
        "MW(CAS_from_any('1,3-dichlorobutane'))"
      ],
      "execution_count": null,
      "outputs": []
    },
    {
      "cell_type": "code",
      "metadata": {
        "id": "3TzyE7m65QMK"
      },
      "source": [
        "Tm(CAS_from_any('ammonia'))"
      ],
      "execution_count": null,
      "outputs": []
    },
    {
      "cell_type": "code",
      "metadata": {
        "colab": {
          "base_uri": "https://localhost:8080/"
        },
        "id": "SpDKnyUM6zjM",
        "outputId": "7adc6c37-b751-4fbe-a993-72b2ed28231b"
      },
      "source": [
        "search_chemical('ethanoate')"
      ],
      "execution_count": 163,
      "outputs": [
        {
          "output_type": "execute_result",
          "data": {
            "text/plain": [
              "<ChemicalMetadata, name=Acetic acid, ion(1-) (8CI,9CI), formula=C2H3O2-, smiles=CC(=O)[O-], MW=59.044>"
            ]
          },
          "metadata": {
            "tags": []
          },
          "execution_count": 163
        }
      ]
    },
    {
      "cell_type": "markdown",
      "metadata": {
        "id": "OI_iouqxhN6p"
      },
      "source": [
        "#Chemical Equilibrium \n",
        "Let's solve an equilibrium system to find all the concentrations if we start with HCO$_3^-$=0.01 M. \n",
        "\n",
        "HCO$_3^-$ + H$_2$O <-> H$_3$O$^+$ + CO$_3^{-2}$\n",
        "\n",
        "H$_2$CO$_3$ + H$_2$O <-> H$_3$O$^+$ + HCO$_3^-$\n",
        "\n",
        "2H$_2$O <-> H$_3$O$^+$ + OH$^-$"
      ]
    },
    {
      "cell_type": "code",
      "metadata": {
        "id": "hVrofFrMdeXb"
      },
      "source": [
        "!pip install chempy"
      ],
      "execution_count": null,
      "outputs": []
    },
    {
      "cell_type": "code",
      "metadata": {
        "id": "qt4RBSEffGYJ"
      },
      "source": [
        "from collections import defaultdict\n",
        "from chempy.equilibria import EqSystem\n",
        "from math import log10\n",
        "import numpy as np\n",
        "from chempy import Equilibrium\n",
        "from chempy.chemistry import Species"
      ],
      "execution_count": 151,
      "outputs": []
    },
    {
      "cell_type": "code",
      "metadata": {
        "id": "cIJNqvDhdkkh"
      },
      "source": [
        "hco3_diss=Equilibrium({'HCO3-','H2O'},{'CO3-2','H3O+'},10**-10.3) # first reaction {reactants},{products},K_a\n",
        "carbacid_diss=Equilibrium({'H2CO3','H2O'},{'HCO3-','H3O+'}, 10**-6.3) #second reaction\n",
        "water_ionization=Equilibrium({'H2O':2}, {'H3O+','OH-'}, 10**-14) #the autoionization reaction and the K. The :2 after H2O indicates the stoichiometry.\n",
        "\n",
        "molecules='H2O H3O+ OH- H2CO3 HCO3- CO3-2'\n",
        "substances=[Species.from_formula(f) for f in molecules.split()]\n",
        "eqsys=EqSystem([water_ionization,carbacid_diss,hco3_diss],substances) # set up the system. 3 rxns and the list of substances\n"
      ],
      "execution_count": 152,
      "outputs": []
    },
    {
      "cell_type": "code",
      "metadata": {
        "id": "V7Gz_Xv8ry59",
        "colab": {
          "base_uri": "https://localhost:8080/"
        },
        "outputId": "89f427be-9983-48cf-cddf-dd98aa89d0f3"
      },
      "source": [
        "init_conc = defaultdict(float, {'H2O': 1, 'H2CO3':.05,'H3O+':1e-08}) #initial concentrations \n",
        "\n",
        "x, sol, sane = eqsys.root(init_conc) #actually solve the system\n",
        "assert sol['success'] and sane\n",
        "print(molecules.split())\n",
        "print(', '.join('%.2g' % v for v in x)) #print the results in the same order we listed them above in the substances line"
      ],
      "execution_count": 162,
      "outputs": [
        {
          "output_type": "stream",
          "text": [
            "['H2O', 'H3O+', 'OH-', 'H2CO3', 'HCO3-', 'CO3-2']\n",
            "1, 0.00016, 6.3e-11, 0.05, 0.00016, 5e-11\n"
          ],
          "name": "stdout"
        }
      ]
    },
    {
      "cell_type": "markdown",
      "metadata": {
        "id": "0ep2ZkwYG-66"
      },
      "source": [
        ".\n"
      ]
    },
    {
      "cell_type": "code",
      "metadata": {
        "id": "g1YFpdRbG_Rx"
      },
      "source": [
        ""
      ],
      "execution_count": null,
      "outputs": []
    },
    {
      "cell_type": "code",
      "metadata": {
        "id": "53TQtU8-fWvD"
      },
      "source": [
        "def solve_eq(ph,carbacid):\n",
        "  hplus=10**-ph\n",
        "  init_conc = defaultdict(float, {'H2O': 1, 'H2CO3':carbacid,'H3O+':hplus}) #initial concentrations \n",
        "  x, sol, sane = eqsys.root(init_conc) #actually solve the system\n",
        "  assert sol['success'] and sane\n",
        "  return x"
      ],
      "execution_count": 154,
      "outputs": []
    },
    {
      "cell_type": "code",
      "metadata": {
        "id": "WEkdSPxwoux-"
      },
      "source": [
        "pH=[i for i in np.arange(0.5,14,.5)]\n",
        "conc=[solve_eq(pH,.1) for pH in pH]"
      ],
      "execution_count": 155,
      "outputs": []
    },
    {
      "cell_type": "code",
      "metadata": {
        "colab": {
          "base_uri": "https://localhost:8080/"
        },
        "id": "ws-LyMEfASSG",
        "outputId": "7a5d1f19-abd2-456f-f0f1-6ec592722306"
      },
      "source": [
        "solve_eq(13,.1)"
      ],
      "execution_count": null,
      "outputs": [
        {
          "output_type": "execute_result",
          "data": {
            "text/plain": [
              "array([9.99776403e-01, 2.23596759e-04, 4.47033696e-11, 9.97764033e-02,\n",
              "       2.23596614e-04, 5.01074845e-11])"
            ]
          },
          "metadata": {
            "tags": []
          },
          "execution_count": 28
        }
      ]
    },
    {
      "cell_type": "code",
      "metadata": {
        "colab": {
          "base_uri": "https://localhost:8080/",
          "height": 283
        },
        "id": "JzK7giFB-jR4",
        "outputId": "69e56351-d3fb-4255-96d9-c695aa46422c"
      },
      "source": [
        "h2co3=[conc[i][3] for i in range(len(conc))]\n",
        "hco3m=[conc[i][4] for i in range(len(conc))]\n",
        "co3m2=[conc[i][5] for i in range(len(conc))]\n",
        "#plt.plot(pH,h2co3)\n",
        "plt.plot(pH,hco3m)\n",
        "plt.plot(pH,co3m2)\n"
      ],
      "execution_count": 161,
      "outputs": [
        {
          "output_type": "execute_result",
          "data": {
            "text/plain": [
              "[<matplotlib.lines.Line2D at 0x7f9bf4ad8e90>]"
            ]
          },
          "metadata": {
            "tags": []
          },
          "execution_count": 161
        },
        {
          "output_type": "display_data",
          "data": {
            "image/png": "[encoded data removed]",
            "text/plain": [
              "<Figure size 432x288 with 1 Axes>"
            ]
          },
          "metadata": {
            "tags": [],
            "needs_background": "light"
          }
        }
      ]
    }
  ]
}