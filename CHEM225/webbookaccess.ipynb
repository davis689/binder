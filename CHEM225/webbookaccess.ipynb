{
  "nbformat": 4,
  "nbformat_minor": 0,
  "metadata": {
    "colab": {
      "provenance": [],
      "authorship_tag": "ABX9TyN7tokHHLoeYVGLw9p5dGbt",
      "include_colab_link": true
    },
    "kernelspec": {
      "name": "python3",
      "display_name": "Python 3"
    },
    "language_info": {
      "name": "python"
    }
  },
  "cells": [
    {
      "cell_type": "markdown",
      "metadata": {
        "id": "view-in-github",
        "colab_type": "text"
      },
      "source": [
        "<a href=\"https://colab.research.google.com/github/davis689/binder/blob/master/CHEM225/webbookaccess.ipynb\" target=\"_parent\"><img src=\"https://colab.research.google.com/assets/colab-badge.svg\" alt=\"Open In Colab\"/></a>"
      ]
    },
    {
      "cell_type": "markdown",
      "metadata": {
        "id": "Gscm6WTDF6i7"
      },
      "source": [
        "#Obtaining and displaying data\n",
        "In this exercise we will look at some chemistry applications of python and ways to obtain and plot data.\n",
        "\n",
        "First we import some packages that help us with the task of importing data from websites."
      ]
    },
    {
      "cell_type": "code",
      "metadata": {
        "id": "I67K5JZFF4xR"
      },
      "source": [
        "import lxml.html as lh\n",
        "import requests\n",
        "import pandas as pd"
      ],
      "execution_count": 3,
      "outputs": []
    },
    {
      "cell_type": "markdown",
      "source": [
        "The last item above is pandas which is built for easy handling of data sets."
      ],
      "metadata": {
        "id": "hOMZYu_w0lgJ"
      }
    },
    {
      "cell_type": "markdown",
      "metadata": {
        "id": "kvnRB0lnGnj1"
      },
      "source": [
        "webbook.nist.gov is a huge collection of chemistry data. Let's find some on CO$_2$. [Look at this set](https://webbook.nist.gov/cgi/fluid.cgi?Action=Load&ID=C124389&Type=IsoBar&Digits=5&P=4&THigh=500&TLow=200&TInc=10&RefState=DEF&TUnit=K&PUnit=bar&DUnit=mol%2Fl&HUnit=kJ%2Fmol&WUnit=m%2Fs&VisUnit=uPa*s&STUnit=N%2Fm) of thermodynamic data. Let's import it so that we can manipulate it."
      ]
    },
    {
      "cell_type": "code",
      "metadata": {
        "id": "NypcJQ3IHAdm"
      },
      "source": [
        "url='https://webbook.nist.gov/cgi/fluid.cgi?Action=Load&ID=C124389&Type=IsoBar&Digits=5&P=4&THigh=500&TLow=200&TInc=10&RefState=DEF&TUnit=K&PUnit=bar&DUnit=mol%2Fl&HUnit=kJ%2Fmol&WUnit=m%2Fs&VisUnit=uPa*s&STUnit=N%2Fm' #look at a wikipedia page\n",
        "page = requests.get(url).content                           #get the content from the page\n",
        "df_list = pd.read_html(page)                               #import all the data\n",
        "CO2=df_list[0]                                             #name the first data table (table 0) as CO2. This page only has one data table but if it didn't we could change the 0 to another number to extract that table."
      ],
      "execution_count": 4,
      "outputs": []
    },
    {
      "cell_type": "markdown",
      "metadata": {
        "id": "zb72haNzO31_"
      },
      "source": [
        "If we type CO2 we can verify that the table has been imported. Now our data is held in a 'dataframe' that is somewhat different from the lists we used last time but similar."
      ]
    },
    {
      "cell_type": "markdown",
      "metadata": {
        "id": "FhRsOa0e2ud8"
      },
      "source": [
        "If we type CO2 we can verify that the table has been imported. Now our data is held in a 'dataframe' that is somewhat different from the lists we used last time but similar."
      ]
    },
    {
      "cell_type": "code",
      "metadata": {
        "id": "--yKrDaB2ud9"
      },
      "source": [
        "CO2"
      ],
      "execution_count": null,
      "outputs": []
    },
    {
      "cell_type": "markdown",
      "metadata": {
        "id": "eRCJrtnn2ud-"
      },
      "source": [
        "We can access the third row of the dataframe using the iloc command like this. Note how it keeps track of the column headers for us so that all the data labeled properly."
      ]
    },
    {
      "cell_type": "code",
      "metadata": {
        "id": "8yu4LFq42ud_"
      },
      "source": [
        "CO2.iloc[2]"
      ],
      "execution_count": null,
      "outputs": []
    },
    {
      "cell_type": "markdown",
      "metadata": {
        "id": "AekwSEC-2ud_"
      },
      "source": [
        "Or we can get the third item from the third row like this. What units should this be?"
      ]
    },
    {
      "cell_type": "code",
      "metadata": {
        "id": "Mm6WIylR2ud_"
      },
      "source": [
        "CO2.iloc[2,2]"
      ],
      "execution_count": null,
      "outputs": []
    },
    {
      "cell_type": "markdown",
      "metadata": {
        "id": "9L4Q0uDo2ueA"
      },
      "source": [
        "Now this is a lot of data and we might want to focus our attention on just some of it. Let's say we only care about temperature, density, and Cv (heat capacity). Let's reassign CO2."
      ]
    },
    {
      "cell_type": "code",
      "metadata": {
        "id": "lZaix8qiPKhT"
      },
      "source": [
        "smallCO2=CO2[['Temperature (K)','Density (mol/l)', 'Cv (J/mol*K)']] # double [[]] and just the column titles we want\n",
        "smallCO2"
      ],
      "execution_count": null,
      "outputs": []
    },
    {
      "cell_type": "markdown",
      "source": [
        "We can use the plot function in pandas to make a graph."
      ],
      "metadata": {
        "id": "Kb3TdgxY1NOc"
      }
    },
    {
      "cell_type": "code",
      "metadata": {
        "id": "9UaXkadAUzIh"
      },
      "source": [
        "CO2.plot(x='Temperature (K)', y='Density (mol/l)',ylabel='Density (mol/L)')\n"
      ],
      "execution_count": null,
      "outputs": []
    },
    {
      "cell_type": "markdown",
      "source": [
        "Make a similar plot for heat capacity vs temperature."
      ],
      "metadata": {
        "id": "3sr0EhDm3BTF"
      }
    },
    {
      "cell_type": "code",
      "source": [],
      "metadata": {
        "id": "I0zPjgb63B6O"
      },
      "execution_count": null,
      "outputs": []
    },
    {
      "cell_type": "markdown",
      "metadata": {
        "id": "rvU2IPBovzI5"
      },
      "source": [
        "**Use the [link](https://webbook.nist.gov/cgi/fluid.cgi?Action=Load&ID=C7732185&Type=IsoBar&Digits=5&P=1&THigh=500&TLow=300&TInc=20&RefState=DEF&TUnit=K&PUnit=bar&DUnit=mol%2Fl&HUnit=kJ%2Fmol&WUnit=m%2Fs&VisUnit=uPa*s&STUnit=N%2Fm) for water to plot how heat capacity $C_V$ varies with temperature**\n",
        "\n",
        "The import cell block for CO$_2$ is copied here for you to modify."
      ]
    },
    {
      "cell_type": "code",
      "metadata": {
        "id": "z9PlIWbxwFuz"
      },
      "source": [
        "url='https://webbook.nist.gov/cgi/fluid.cgi?Action=Load&ID=C124389&Type=IsoBar&Digits=5&P=4&THigh=500&TLow=250&TInc=10&RefState=DEF&TUnit=K&PUnit=bar&DUnit=mol%2Fl&HUnit=kJ%2Fmol&WUnit=m%2Fs&VisUnit=uPa*s&STUnit=N%2Fm' #look at a wikipedia page\n",
        "page = requests.get(url).content                           #get the content from the page\n",
        "df_list = pd.read_html(page)                               #import all the data\n",
        "CO2=df_list[0]                                             #name the first data table (table 0) as CO2. This page only has one data table but if it didn't we could change the 0 to another number to extract that table.\n"
      ],
      "execution_count": null,
      "outputs": []
    },
    {
      "cell_type": "markdown",
      "metadata": {
        "id": "RYCAph7_XI5P"
      },
      "source": [
        "Many other things can be done using these techniques but let's move on to other things.\n",
        "Normally we can import the packages that we want to use but sometimes those packages are not used as frequently and need to be installed first. This is true of the mendeleev package."
      ]
    }
  ]
}