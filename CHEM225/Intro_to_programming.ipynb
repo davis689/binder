{
  "nbformat": 4,
  "nbformat_minor": 0,
  "metadata": {
    "colab": {
      "name": "Intro to programming.ipynb",
      "provenance": [],
      "collapsed_sections": [],
      "authorship_tag": "ABX9TyOuCI6EC7Ly6qi1wVEHEKUN",
      "include_colab_link": true
    },
    "kernelspec": {
      "name": "python3",
      "display_name": "Python 3"
    }
  },
  "cells": [
    {
      "cell_type": "markdown",
      "metadata": {
        "id": "view-in-github",
        "colab_type": "text"
      },
      "source": [
        "<a href=\"https://colab.research.google.com/github/davis689/binder/blob/master/Intro_to_programming.ipynb\" target=\"_parent\"><img src=\"https://colab.research.google.com/assets/colab-badge.svg\" alt=\"Open In Colab\"/></a>"
      ]
    },
    {
      "cell_type": "markdown",
      "metadata": {
        "id": "sXLQ4XuEKFgt"
      },
      "source": [
        "#Programming in Python\n",
        "\n"
      ]
    },
    {
      "cell_type": "markdown",
      "metadata": {
        "id": "Abo-pxwBdwR3"
      },
      "source": [
        "#Introduction to Jupyter Notebooks"
      ]
    },
    {
      "cell_type": "markdown",
      "metadata": {
        "id": "TnxZE_DTsCvF"
      },
      "source": [
        "There are two types of cells in a Jupyter notebook. One is for code, in our case Python. The other is for explanatory text (like this paragraph).\n",
        "\n",
        "In colab.research.google.com a way to enter one or the other is to click the +Code or the +Text 'buttons' just below the menu bar. Another way is to hover over the bottom or top of an already existing cell near its center until a +Code and +Text pop-up button appears.\n",
        "\n",
        "**Make a new cell of both types below this sentence.**"
      ]
    },
    {
      "cell_type": "markdown",
      "metadata": {
        "id": "ixdYLVxPs89F"
      },
      "source": [
        "##Text cells\n",
        "Text cells use the Markdown language. This makes formatting easy. **Bold**, *italics*, etc. can easily be inserted. Ordered lists like\n",
        "- item A\n",
        "- item B\n",
        "- item C\n",
        "\n",
        "or numbered lists like\n",
        "1. item 1\n",
        "2. item b\n",
        "3. item iii\n",
        "\n",
        "are easy too.\n",
        "\n",
        "Using Latex (which is too much to go into here) we can also insert complicated mathematical formulas with out too much difficulty (after you learn the basics).\n",
        "\n",
        "$$\\dfrac{-\\hbar^2}{2m}\\left(\\dfrac{\\partial^2}{\\partial x^2}+\\dfrac{\\partial^2}{\\partial y^2}+\\dfrac{\\partial^2}{\\partial z^2}\\right)\\psi-\\dfrac{e^2}{4\\pi\\varepsilon_o r}\\psi=E\\psi $$\n",
        "\n",
        "To use *italics*, begin and end the item you want in italics with \\*.\n",
        "To use **bold**, begin and end the item you want in boldface with \\**.\n",
        "\n",
        "The more complete range of Markdown features can be found many places including [here](https://www.markdownguide.org/cheat-sheet/).\n",
        "\n",
        "You can see how things are built in this cell by double clicking in it to bring up editing mode. Once you click somewhere outside of it, the display mode will come back.\n",
        "\n",
        "We're much more interested in exploring some of the basics of programming in python with this notebook but using text cells and Markdown to explain what's happening and how we're thinking as we solve problems is important in making sure that we can come back later and understand what we were thinking as well as communicating the same to other people who may look at the code.\n"
      ]
    },
    {
      "cell_type": "markdown",
      "metadata": {
        "id": "v3o93j_wvgEk"
      },
      "source": [
        "**Insert a text cell and try out bold and italics and anything other Markdown features you want.**"
      ]
    },
    {
      "cell_type": "markdown",
      "metadata": {
        "id": "ePwL26dAuxyI"
      },
      "source": [
        "##Code cells\n"
      ]
    },
    {
      "cell_type": "markdown",
      "metadata": {
        "id": "HFHjfs83reN5"
      },
      "source": [
        "It is somewhat of a tradition that the first code that a new programmer writes is a command to print 'Hello World!' on the screen. You can, of course, print anything you want but the way to do this is \n",
        "\n",
        "print('Hello World!')\n",
        "\n",
        "**Try printing something.**\n",
        "\n"
      ]
    },
    {
      "cell_type": "code",
      "metadata": {
        "id": "q9ErQjVyd8Ah"
      },
      "source": [
        ""
      ],
      "execution_count": null,
      "outputs": []
    },
    {
      "cell_type": "markdown",
      "metadata": {
        "id": "paNe66266TtM"
      },
      "source": [
        "###Basic Math"
      ]
    },
    {
      "cell_type": "markdown",
      "metadata": {
        "id": "7MEsrOwCylnO"
      },
      "source": [
        "Since we're mostly interested in mathematical models, we'll focus on doing math here. To use the notebook like a calculator, just type something like 3+4, 75/3, 2\\*\\*5 (powers use \\** rather than ^ in python), sqrt(81), log(2), exp(-1.6),or 5!.\n",
        "\n",
        "There are two ways to execute the code in each cell. One is to use \\<cntl\\>\\<enter\\> to exit the cell and the other is the press the 'play' button (the small triangle) that appears to the top left of each code cell."
      ]
    },
    {
      "cell_type": "code",
      "metadata": {
        "id": "NBnoDt-bdf5o"
      },
      "source": [
        ""
      ],
      "execution_count": null,
      "outputs": []
    },
    {
      "cell_type": "markdown",
      "metadata": {
        "id": "hVAQhIHW0SPc"
      },
      "source": [
        "Some things you may have noticed. One is that if you try doing multiple calculations in the same cell like\n",
        "\n",
        "\n",
        "```\n",
        "3+4\n",
        "75/3\n",
        "```\n",
        "you'll only get an output for the last one. **Try it, if you haven't**\n",
        "\n",
        "The calculation will happen for each of them but only the last will be displayed. If you want to see the results of a particular answer you'll need to print it like this.\n",
        "```\n",
        "print(3+4)\n",
        "print(75/3)\n",
        "```\n",
        "\n",
        "Note the difference between printing *Hello World!* and printing math is the absence/presence of single quote marks.\n",
        "\n",
        "**Try getting multiple mathematical outputs from the same code cell.**"
      ]
    },
    {
      "cell_type": "code",
      "metadata": {
        "id": "1tnsQLf80HUI"
      },
      "source": [
        ""
      ],
      "execution_count": null,
      "outputs": []
    },
    {
      "cell_type": "markdown",
      "metadata": {
        "id": "SDIymqSh2Ppw"
      },
      "source": [
        "A second problem you probably ran into was the inability to deal with square roots or factorials. Python only includes bare bones math abilities unless we ask for more advanced stuff. The way we do this is with **import**. We give import the name of a library of commands, math in this case, and after importing, code cells will suddenly know how to do lots of new things.\n",
        "\n",
        "One library that adds lots of numerical abilities to is called *math*. We get those features with\n",
        "```\n",
        "import math\n",
        "```\n",
        "\n"
      ]
    },
    {
      "cell_type": "markdown",
      "metadata": {
        "id": "4A-4ItEX5_9h"
      },
      "source": [
        "Enter this in the code cell below."
      ]
    },
    {
      "cell_type": "code",
      "metadata": {
        "id": "xskvLDlo3VRQ"
      },
      "source": [
        ""
      ],
      "execution_count": null,
      "outputs": []
    },
    {
      "cell_type": "markdown",
      "metadata": {
        "id": "icVzTqC53ZI2"
      },
      "source": [
        "Now that math is part of the system, we should be able to do square roots and factorials. You'll type it as \n",
        "\n",
        "\n",
        "```\n",
        "math.sqrt(121)\n",
        "math.factorial(7)\n",
        "```\n",
        "The math part indicates that the system should look in the math library for the sqrt and factorial functions. It is possible that other libraries will have these functions as well. This syntax allows us to choose which version to use. \n",
        "\n",
        "You will run into errors if you forget to type the math. prefix in front.\n",
        "\n",
        "**Try it**"
      ]
    },
    {
      "cell_type": "code",
      "metadata": {
        "id": "gfypx5gb3i9F"
      },
      "source": [
        ""
      ],
      "execution_count": null,
      "outputs": []
    },
    {
      "cell_type": "markdown",
      "metadata": {
        "id": "L9DscUJyel0S"
      },
      "source": [
        "If we do a calculation such as math.log(20), we get decimal answer. Sometimes we may want to deal with just the integer part or just the fractional part. One way to do this is to use $int$. For example,\n",
        "\n",
        "```\n",
        "int(1.5)\n",
        "```\n",
        "will return 1. If we wanted the fractional part instead, we could subtract $int(1.5) from 1.5.\n",
        "\n",
        "\n",
        "```\n",
        "1.5-int(1.5)\n",
        "```\n",
        "Since $int$ just gives us the integer part, subtracting the integer part from the original number should give us the fractional part.\n",
        "\n",
        "**Calculate and display the integer and the fractional portions of log(20).**\n"
      ]
    },
    {
      "cell_type": "code",
      "metadata": {
        "id": "zu49PhGXfjK6"
      },
      "source": [
        ""
      ],
      "execution_count": null,
      "outputs": []
    },
    {
      "cell_type": "markdown",
      "metadata": {
        "id": "SP0QlLC6f3Mz"
      },
      "source": [
        "I should point out since we're using logarithms here that $math.log$ returns the natural logarithm. If we want base 10 logs, we should use $math.log10$ instead."
      ]
    },
    {
      "cell_type": "markdown",
      "metadata": {
        "id": "VN5-GCP96Eki"
      },
      "source": [
        "###Variables\n",
        "We'll want to be able to save our mathematical results for use later on. We can do this by assigning them to variables. Nothing special is required to do this in Python. These\n",
        "\n",
        "\n",
        "```\n",
        "a=2\n",
        "b=7/3\n",
        "```\n",
        "are good variable assignments. \n",
        "\n",
        "**Make some variable assignments.**\n"
      ]
    },
    {
      "cell_type": "code",
      "metadata": {
        "id": "rlEXvjOr9z3N"
      },
      "source": [
        ""
      ],
      "execution_count": null,
      "outputs": []
    },
    {
      "cell_type": "markdown",
      "metadata": {
        "id": "Ui9GyPn290kj"
      },
      "source": [
        "We can also make variable assingments in terms of other variables. \n",
        "\n",
        "```\n",
        "c=a*b\n",
        "```\n",
        "\n",
        "*Do this."
      ]
    },
    {
      "cell_type": "code",
      "metadata": {
        "id": "9cTsHwcN7J8H"
      },
      "source": [
        ""
      ],
      "execution_count": null,
      "outputs": []
    },
    {
      "cell_type": "markdown",
      "metadata": {
        "id": "Wg-yVrwv7brQ"
      },
      "source": [
        "To examine what is stored in each of these variables, we use our old friend *print*.\n",
        "\n",
        "\n",
        "```\n",
        "print(a) # No quote marks\n",
        "```\n",
        "\n",
        "In code anything that appears after a # is just a comment and will be ignored. In addition to using a text cell, this is a good way to make notes to yourself about what a line is doing. We could just enter \n",
        "\n",
        "```\n",
        "print(a)\n",
        "```\n",
        "and get the same results. \n",
        "\n",
        "**Try this for each of the variables you assigned above.**\n"
      ]
    },
    {
      "cell_type": "code",
      "metadata": {
        "id": "8RHXq-ZJ7Yjv"
      },
      "source": [
        ""
      ],
      "execution_count": null,
      "outputs": []
    },
    {
      "cell_type": "markdown",
      "metadata": {
        "id": "gjOnGFsj-d4o"
      },
      "source": [
        "Reassigning variables\n",
        "We can change the value of a variable the same way that we assigned it in the first place.\n",
        "\n",
        "\n",
        "```\n",
        "a=74\n",
        "```\n",
        "\n",
        "**Try it**"
      ]
    },
    {
      "cell_type": "code",
      "metadata": {
        "id": "JtMB3YW_-0Dg"
      },
      "source": [
        ""
      ],
      "execution_count": null,
      "outputs": []
    },
    {
      "cell_type": "markdown",
      "metadata": {
        "id": "punxxcbS-zVr"
      },
      "source": [
        "print(a) will show the value of the reassigned variable. \n",
        "\n",
        "What about *c*? It was defined in terms of *a* and *b*. What will its value be?\n",
        "\n",
        "**Try it**"
      ]
    },
    {
      "cell_type": "code",
      "metadata": {
        "id": "RqNWcMQJ_Dal"
      },
      "source": [
        ""
      ],
      "execution_count": null,
      "outputs": []
    },
    {
      "cell_type": "markdown",
      "metadata": {
        "id": "aRU-B4JA_TYy"
      },
      "source": [
        "You should have seen that *c* didn't change. It doesn't go back an recalculate *c* unless we reassign *c* again after the change in the value of *a*.\n",
        "\n",
        "**Redefine c as c=a*b again here and print its value**"
      ]
    },
    {
      "cell_type": "code",
      "metadata": {
        "id": "PeyY9HuV_opN"
      },
      "source": [
        ""
      ],
      "execution_count": null,
      "outputs": []
    },
    {
      "cell_type": "markdown",
      "metadata": {
        "id": "OIUkiDwh_5W5"
      },
      "source": [
        "###Functions\n",
        "If we wanted to evaluate our variable *c* with respect to lots of *a* and *b* values, we could define a function.\n",
        "\n",
        "Here I'll do this for P=nRT/V instead of c=a*b but the idea is general.\n",
        "\n",
        "\n",
        "\n",
        "```\n",
        "def P(n,V,T):\n",
        "  return n*R*T/V\n",
        "```\n",
        "Here 'def' stands for define. We're defining a function 'P' that takes 3 inputs (moles, volume, and temperature). The gas constant would have to be defined before we called the function but we can define the function first. This function returns one value (the pressure).\n",
        "\n",
        "**Define this function**"
      ]
    },
    {
      "cell_type": "code",
      "metadata": {
        "id": "WJKF5dshAmN9"
      },
      "source": [
        ""
      ],
      "execution_count": null,
      "outputs": []
    },
    {
      "cell_type": "markdown",
      "metadata": {
        "id": "t6UDKKxGFohp"
      },
      "source": [
        "We 'call' the function with\n",
        "\n",
        "\n",
        "```\n",
        "P(1,10,298)\n",
        "```\n",
        "What do the three numbers mean? (You may look at the definition of the function.)\n",
        "\n",
        "**Try calling this function with several sets of variables.**"
      ]
    },
    {
      "cell_type": "code",
      "metadata": {
        "id": "TCAaku8wGTvP"
      },
      "source": [
        ""
      ],
      "execution_count": null,
      "outputs": []
    },
    {
      "cell_type": "markdown",
      "metadata": {
        "id": "RhEbUMUgGUGg"
      },
      "source": [
        "###Lists\n",
        "Just like with spreadsheets, there's no real advantage to programming a simple function like the pressure function above if we're only doing one quick calculation. The advantage comes when we want to be able to do the calculation over and over with changing variables.\n",
        "\n",
        "Lists will help us manage these kinds of situation. A list is exactly what it sounds like. For instance we can make a list of the first 10 counting numbers like this.\n",
        "```\n",
        "cnumbers=[1,2,3,4,5,6,7,8,9,10]\n",
        "```\n",
        "Note the square brackets and the commas separating each counting number. Of course, the variable name *cnumbers* is arbitrary. I could have used another name for this list.\n",
        "\n",
        "**Create a list containing the first 10 positive odd numbers**.\n",
        "\n"
      ]
    },
    {
      "cell_type": "code",
      "metadata": {
        "id": "BJTc8J-OuV2o"
      },
      "source": [
        ""
      ],
      "execution_count": null,
      "outputs": []
    },
    {
      "cell_type": "markdown",
      "metadata": {
        "id": "gvpLD858ucFr"
      },
      "source": [
        "###Range\n",
        "Making a list that way is manual labor. It's fine to do sometimes and if that's the only option but we can make lists like that more automatically too.\n",
        "\n",
        "A list of the first *N* counting numbers is easy. We need to introduce a new keyword. *range* gives us a list of numbers meeting our specifications. Its syntax is range(start,stop, step) where *start* is the number to begin with, *stop* is the smallest number bigger than *start* that we *don't want in our list*. Here are some examples.\n",
        "\n",
        "```\n",
        "range(6) #should return the range 0,1,2,3,4,5. Note this is the same as range(0,6).\n",
        "range(5,10) #should return the range 5,6,7,8,9\n",
        "```\n",
        "**How would you write the range function to produce the range 10,11,12,13,14,15,16,17,18?\n",
        "\n",
        "*Note that range does not directly create a list.* If you evaluate any of the above, you'll get an output that echoes the input. There's a good reason but for our purposes right now, it's not very helpful. To get a list, we can tell the system to make it a list rather than a range.\n",
        "\n",
        "\n",
        "```\n",
        "list(range(0,11))\n",
        "```\n",
        "**Use the range function to create a list of numbers from 0 to 100**\n",
        "\n",
        "**Use the range function to create a list of numbers from 10 to 18**\n",
        "\n",
        "**Use the range function to create a list of odd numbers up to 25**\n"
      ]
    },
    {
      "cell_type": "code",
      "metadata": {
        "id": "mt21IUB6t3JO"
      },
      "source": [
        ""
      ],
      "execution_count": null,
      "outputs": []
    },
    {
      "cell_type": "markdown",
      "metadata": {
        "id": "FojJCzfU0nLm"
      },
      "source": [
        "The built-in range function works well but if we want more flexible features like non-integer step sizes or counting backwards, we need to look elsewhere. One library that is built for jobs like this is called *numpy* (pronounced, I think, 'num-pie'). We can import it just like the *math* library we imported earlier. But prefixing every numpy function by numpy is a bit much so we usually abbreviate it.\n",
        "\n",
        "\n",
        "```\n",
        "import numpy as np\n",
        "```\n",
        "From here on out we can refer to numpy as just *np*. The numpy range function is called *arange* so we would call it using \n",
        "\n",
        "\n",
        "```\n",
        "np.arange(0,11) # What range will this refer to?\n",
        "\n",
        "```\n",
        "Note that just like range, if we want a list, we'll have to put it inside the parenthesis in list().\n",
        "\n",
        "**Use arange to make a list of integers from 0 to 10**\n",
        "\n",
        "**Use arange to make the list [0,.5,1,1.5,2,2.5,3]**\n",
        "\n",
        "**Use arange to make the list [0,-1,-2,-3,-4,-5,-6,-7,-8]**"
      ]
    },
    {
      "cell_type": "markdown",
      "metadata": {
        "id": "P8T-IQq45up4"
      },
      "source": [
        "A final range-like function is np.linspace. Although arange is useful to give decimal ranges, sometimes it's easy to lose track of just how many items are going to be in a particular list. Too many items may lead to problems. linspace makes a range too but instead of step size we specify how many items should be in the list. \n",
        "```\n",
        "linspace(0,100,200)\n",
        "```\n",
        "This should give a list with 200 points evenly spaced between 0 and 100 (unlike range and arange, linspace will include the beginning *and* the ending number). You might think this would give [0,.5,1,1.5,2,2.5...] but, if that's what we wanted, we should use np.linspace(0,100,201). \n",
        "\n",
        "**Use linspace to make the list [0,0.1,0.2,0.3,0.4,...5.]**\n"
      ]
    },
    {
      "cell_type": "code",
      "metadata": {
        "id": "Olgnt8S61Jhv"
      },
      "source": [
        ""
      ],
      "execution_count": null,
      "outputs": []
    },
    {
      "cell_type": "markdown",
      "metadata": {
        "id": "7lpUOYXi5JS8"
      },
      "source": [
        "###List comprehension\n",
        "Using the range functions we are now ready to make lists of arbitrary complexity. The *list* keyword that we used before to turn a range into a list works but is limited. Let's forget it. The more general way is the use the *list comprehension* features of python. A list of numbers from 0 to 10 can be made like this.\n",
        "\n",
        "```\n",
        "[i for i in range(10)]\n",
        "```\n",
        "This needs some unwrapping. Let's start at the end. The range function we should understand already. The *for i in range(10)* says one-by-one assign each item in the range to the variable *i*. The first *i* says for each one of the *i's* in our range, put it in the list. \n",
        "\n",
        "If we wanted a list not of the numbers in range(10) but of two times the numbers in range(10) we would write\n",
        "\n",
        "```\n",
        "[2*i for i in range(10)]\n",
        "```\n",
        "\n",
        "**What would [i\\*\\*2 for i in range(1,10)] return?**\n",
        "\n",
        "**What would [2*i+2 for i in range(0,10) if i/2==int(i/2)** \n",
        "\n",
        "In the last one you should know that *int* chops off any fractional part of whatever is in the parentheses and that the double equal sign, ==, is equivalent the question 'Is it equal?'.\n",
        "\n"
      ]
    },
    {
      "cell_type": "code",
      "metadata": {
        "id": "opV2wGUm5H6k"
      },
      "source": [
        ""
      ],
      "execution_count": null,
      "outputs": []
    },
    {
      "cell_type": "markdown",
      "metadata": {
        "id": "NOE7JdK1l-Xv"
      },
      "source": [
        "**Calculate a list of the first 8 wavelengths in the Balmer series of emission wavelengths of the hydrogen atom.** \n",
        "\n",
        "Recall that the Balmer series includes transitions to $n=2$ from levels $n=3, 4, 5, ...$ and that the equation is $$\\frac{1}{\\lambda_i}=R_{H}\\left(\\frac{1}{2^2}-\\frac{1}{n_i^2}\\right)$$ where R=0.01097 nm$^{-1}$."
      ]
    },
    {
      "cell_type": "code",
      "metadata": {
        "id": "N0yoVa5fnDcQ"
      },
      "source": [
        "n=[n for n in range(3,11)]\n",
        "wl=[  ] # what should go in the brackets?\n",
        "print(wl)"
      ],
      "execution_count": null,
      "outputs": []
    },
    {
      "cell_type": "markdown",
      "metadata": {
        "id": "ZvHZNAozyVUp"
      },
      "source": [
        "You may need reminding, as I did just now, that powers are obtained with ** and not with ^."
      ]
    },
    {
      "cell_type": "markdown",
      "metadata": {
        "id": "-eyCvNPeCNC5"
      },
      "source": [
        "Half-life is the time for something, a reactant in a chemical reaction or a radioactive nucleus, to decay to 1/2 of its original amount. A second half life would cut that halved amount by half again.\n",
        "\n",
        " **Compute a list showing how much $^{235}$U would be present after each of the first six half-lives if you started with 50.0 g.** "
      ]
    },
    {
      "cell_type": "code",
      "metadata": {
        "id": "E8QK_EwtCFAA"
      },
      "source": [
        ""
      ],
      "execution_count": null,
      "outputs": []
    },
    {
      "cell_type": "markdown",
      "metadata": {
        "id": "Chj6RErM_PH-"
      },
      "source": [
        "###Plotting data in lists\n",
        "Now that we can create lists, let's use them to make plots.\n",
        "\n",
        "Start with two lists like these.\n",
        "```\n",
        "x=[i for i in range(0,10)]\n",
        "y=[i**2 for i in x]\n",
        "```\n",
        "Now we need to import a plotting library.\n",
        "\n",
        "\n",
        "\n",
        "```\n",
        "import matplotlib.pyplot as plt\n",
        "```\n",
        "Just like numpy->np, we have here specified that we will abbreviate matplotlib.pyplot as plt.\n",
        "\n",
        "There are lots of features in *plt* but to start with we will simply plot y vs x.\n",
        "\n",
        "\n",
        "\n",
        "```\n",
        "plt.plot(x,y)\n",
        "```\n",
        "\n",
        "\n",
        "\n",
        "\n"
      ]
    },
    {
      "cell_type": "code",
      "metadata": {
        "id": "l-oIL-HjBsSs"
      },
      "source": [
        ""
      ],
      "execution_count": null,
      "outputs": []
    },
    {
      "cell_type": "markdown",
      "metadata": {
        "id": "QcftN9fiHavQ"
      },
      "source": [
        "We can beautify this plot with *x* and *y* axis labels.\n",
        "\n",
        "\n",
        "```\n",
        "plt.xlabel('x')\n",
        "plt.ylabel('y')\n",
        "```\n",
        "We can also change the color or style of the line with additional parameters in our plot function\n",
        "\n",
        "\n",
        "```\n",
        "plt.plot(x,y,linestyle='-') # - gives solid lines, -- gives dashed lines, : gives dotted lines, -. gives dash-dotted lines\n",
        "plt.plot(x,y,color='r') # r is red, g is green, etc. You can also use 'purple', etc.\n",
        "plt.plot(x,y,marker='.') # You can also use , o v ^ 4 8 s p etc for more marker styles\n",
        "```\n",
        "The linestyle, marker, and color can be used together to give a combination style.\n",
        "\n",
        "For more than one plot at once, you can make a legend. First you need to label each plot.\n",
        "\n",
        "```\n",
        "plt.plot(x,y,linestyle='-',color='r',label='273 K')\n",
        "```\n",
        "Then add the line\n",
        "```\n",
        "plt.legend()\n",
        "```\n",
        "\n",
        "**Make a graph containing y=x^2 (blue/solid), y=2x^2 (red/dashed) and y=4x (green/triangle markers)and *x* and *y* axis labels and a legend.**\n"
      ]
    },
    {
      "cell_type": "code",
      "metadata": {
        "id": "ZoMEUHmJHLwp"
      },
      "source": [
        ""
      ],
      "execution_count": null,
      "outputs": []
    },
    {
      "cell_type": "markdown",
      "metadata": {
        "id": "GdcPi5Nuc65Y"
      },
      "source": [
        "**Make a graph that shows how pressure varies with volume at 1 mol and 298 K.** \n",
        "**Add a 273 K and a 323 K plot** \n",
        "\n",
        "Make sure it's labeled and with colors.\n",
        "Use volumes from 10 L to 40 L and R=0.08314."
      ]
    },
    {
      "cell_type": "code",
      "metadata": {
        "id": "L2y2TWDwc5kt"
      },
      "source": [
        ""
      ],
      "execution_count": null,
      "outputs": []
    },
    {
      "cell_type": "markdown",
      "metadata": {
        "id": "aMTqgvOkcxwq"
      },
      "source": [
        "Next time we'll make more application to chemistry problems."
      ]
    }
  ]
}
