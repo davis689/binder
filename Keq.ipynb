{
  "nbformat": 4,
  "nbformat_minor": 0,
  "metadata": {
    "colab": {
      "name": "Keq.ipynb",
      "provenance": [],
      "collapsed_sections": [],
      "authorship_tag": "ABX9TyNCSlirUPGGSLH3L9MLJCbE",
      "include_colab_link": true
    },
    "kernelspec": {
      "name": "python3",
      "display_name": "Python 3"
    }
  },
  "cells": [
    {
      "cell_type": "markdown",
      "metadata": {
        "id": "view-in-github",
        "colab_type": "text"
      },
      "source": [
        "<a href=\"https://colab.research.google.com/github/davis689/binder/blob/master/Keq.ipynb\" target=\"_parent\"><img src=\"https://colab.research.google.com/assets/colab-badge.svg\" alt=\"Open In Colab\"/></a>"
      ]
    },
    {
      "cell_type": "code",
      "metadata": {
        "id": "bk1zfslccrZF"
      },
      "source": [
        "import numpy as np\n",
        "from sympy import *\n",
        "from scipy.optimize import brentq,fsolve\n",
        "import matplotlib.pyplot as plt\n",
        "import requests\n",
        "import lxml.html as lh\n",
        "import pandas as pd"
      ],
      "execution_count": 1,
      "outputs": []
    },
    {
      "cell_type": "markdown",
      "metadata": {
        "id": "s7bcgG5Xonyh"
      },
      "source": [
        "Set up"
      ]
    },
    {
      "cell_type": "code",
      "metadata": {
        "id": "wTXm-QntcwKR"
      },
      "source": [
        "T,V,A,B,p,x,xi=var('T, V,A,B,p,x,xi')\n",
        "R=8.3144598 "
      ],
      "execution_count": 2,
      "outputs": []
    },
    {
      "cell_type": "markdown",
      "metadata": {
        "id": "Zye57ZMaX9td"
      },
      "source": [
        "Import data from webbook.nist.gov for each molecule"
      ]
    },
    {
      "cell_type": "code",
      "metadata": {
        "id": "84WNjBEbX8-y"
      },
      "source": [
        "url = 'https://webbook.nist.gov/cgi/cbook.cgi?ID=C10024972&Units=SI&Mask=1#Thermo-Gas' #N2O\n",
        "html = requests.get(url).content\n",
        "df_list = pd.read_html(html)\n",
        "df = df_list[-3] # change index to get different table. -1 means start at end\n",
        "So=[]\n",
        "So.append(float(df.iloc[2,1]))\n",
        "df=df_list[-2]\n",
        "tmp=df.iloc[1:9,1].values.tolist()\n",
        "coef=[]\n",
        "coef.append([float(tmp[i]) for i in range(len(tmp))])"
      ],
      "execution_count": 3,
      "outputs": []
    },
    {
      "cell_type": "code",
      "metadata": {
        "id": "VBp2LDeCYICz"
      },
      "source": [
        "url = 'https://webbook.nist.gov/cgi/cbook.cgi?ID=C7782447&Units=SI&Mask=1#Thermo-Gas' #O2\n",
        "html = requests.get(url).content\n",
        "df_list = pd.read_html(html)\n",
        "df = df_list[-3] # change index to get different table. -1 means start at end\n",
        "So.append(float(df.iloc[1,1]))\n",
        "df=df_list[-2]\n",
        "tmp=df.iloc[1:9,1].values.tolist()\n",
        "coef.append([float(tmp[i]) for i in range(len(tmp))])"
      ],
      "execution_count": 4,
      "outputs": []
    },
    {
      "cell_type": "code",
      "metadata": {
        "id": "ofUXJb8PYH3D"
      },
      "source": [
        "url = 'https://webbook.nist.gov/cgi/cbook.cgi?ID=C10102440&Units=SI&Mask=1#Thermo-Gas' #NO2\n",
        "html = requests.get(url).content\n",
        "df_list = pd.read_html(html)\n",
        "df = df_list[-3] # change index to get different table. -1 means start at end\n",
        "So.append(float(df.iloc[2,1]))\n",
        "df=df_list[-2]\n",
        "tmp=df.iloc[1:9,1].values.tolist()\n",
        "coef.append([float(tmp[i]) for i in range(len(tmp))])"
      ],
      "execution_count": 5,
      "outputs": []
    },
    {
      "cell_type": "markdown",
      "metadata": {
        "id": "ynrQtFzcosUY"
      },
      "source": [
        "Coefficients and the powers in the Shomate equation."
      ]
    },
    {
      "cell_type": "code",
      "metadata": {
        "id": "CmJ59zmucwHc"
      },
      "source": [
        "stoic=[-2,-3,4] # stoichiometry with reactant negative."
      ],
      "execution_count": 6,
      "outputs": []
    },
    {
      "cell_type": "code",
      "metadata": {
        "id": "fxGZIvb9t_A4",
        "cellView": "form"
      },
      "source": [
        "#@title Input the temperature and pressure at which you want to calculate entropy change\n",
        "pi = 1\n",
        "pf =  0.5#@param {type:\"number\"}\n",
        "Ti = 298\n",
        "Tf =  400#@param {type:\"number\"}\n",
        "n_N2O =  1#@param {type:\"number\"}\n",
        "n_O2 =  1#@param {type:\"number\"}\n",
        "n_NO2 =  1#@param {type:\"number\"}\n",
        "nrxn=[n_N2O,n_O2,n_NO2]"
      ],
      "execution_count": 7,
      "outputs": []
    },
    {
      "cell_type": "code",
      "metadata": {
        "id": "z5Cd1IJofH6b",
        "outputId": "18e4b771-653b-4eae-c6ca-0d3db137287f",
        "colab": {
          "base_uri": "https://localhost:8080/"
        }
      },
      "source": [
        "Hf=[sum([coef[i][j]/(j+1)*(T/1000)**(j+1) for j in range(4)]) for i in range(len(stoic))]\n",
        "Hf=[Hf[i]-coef[i][4]*(1000/T)+coef[i][5]-coef[i][7] for i in range(len(stoic))] # temperature change for each species\n",
        "DH=sum([Hf[i]*stoic[i] for i in range(len(stoic))])\n",
        "DH.subs(T,Tf)\n",
        "\n",
        "Hfo=sum([coef[i][7]*stoic[i] for i in range(len(stoic))]) # standard reaction enthalpy change\n",
        "\n",
        "DHtot=DH+Hfo\n",
        "DHtot.subs(T,Tf).round(2)"
      ],
      "execution_count": 8,
      "outputs": [
        {
          "output_type": "execute_result",
          "data": {
            "text/plain": [
              "-33.38"
            ]
          },
          "metadata": {
            "tags": []
          },
          "execution_count": 8
        }
      ]
    },
    {
      "cell_type": "code",
      "metadata": {
        "id": "s4rxEM8QPOLo",
        "outputId": "03a13fee-f51a-4e54-e445-bd664a740444",
        "colab": {
          "base_uri": "https://localhost:8080/"
        }
      },
      "source": [
        "S=[sum([coef[i][j]/(j)*(T/1000)**j for j in range(4) if j>0]) for i in range(len(stoic))] # take care of the polynomial part of the equation\n",
        "S=[S[i]+coef[i][0]*ln(T/1000)-coef[i][4]/(2*(T/1000)**2)+coef[i][6] for i in range(len(stoic))] # add terms for the non-polynomial terms\n",
        "DStot=sum([S[i]*stoic[i] for i in range(len(stoic))]) # add up the entropies for all species with the appropriate stoichiometry\n",
        "DStot.subs(T,Tf).n().round(2) # substitute for temperature to get a number \n",
        "DStot_p=DStot+R*ln(pf) #If we account for pressure here. Below for pressure accounted for in the delta G equation.\n",
        "print(DStot.subs(T,Tf).round(2),DStot_p.subs(T,Tf).round(2),(DHtot*1000-Tf*DStot_p).subs(T,Tf).round(2)) # calc DS for reaction and temperature change, for rxn, T, and p, and DG for same"
      ],
      "execution_count": 38,
      "outputs": [
        {
          "output_type": "stream",
          "text": [
            "-100.05 -105.82 8942.17\n"
          ],
          "name": "stdout"
        }
      ]
    },
    {
      "cell_type": "code",
      "metadata": {
        "id": "gOFPNXijJw8J",
        "outputId": "609dd968-9f58-4086-9c96-528de44995a6",
        "colab": {
          "base_uri": "https://localhost:8080/"
        }
      },
      "source": [
        "print(So)\n",
        "sum([So[i]*stoic[i] for i in range(len(stoic))]) #standard entropy change at 298 K and 1 bar."
      ],
      "execution_count": 23,
      "outputs": [
        {
          "output_type": "stream",
          "text": [
            "[219.96, 205.15, 240.04]\n"
          ],
          "name": "stdout"
        },
        {
          "output_type": "execute_result",
          "data": {
            "text/plain": [
              "-95.21000000000015"
            ]
          },
          "metadata": {
            "tags": []
          },
          "execution_count": 23
        }
      ]
    },
    {
      "cell_type": "code",
      "metadata": {
        "id": "hdp-YVeVLeDC",
        "outputId": "acc0e7fa-5992-4cea-f555-41236b28aed4",
        "colab": {
          "base_uri": "https://localhost:8080/"
        }
      },
      "source": [
        "DG=DHtot*1000-T*DStot+sum(stoic)*R*T*log(pf)\n",
        "DG.subs(T,Tf).n().round(2) # DG... same as above, calculated differently"
      ],
      "execution_count": 12,
      "outputs": [
        {
          "output_type": "execute_result",
          "data": {
            "text/plain": [
              "8942.17"
            ]
          },
          "metadata": {
            "tags": []
          },
          "execution_count": 12
        }
      ]
    },
    {
      "cell_type": "code",
      "metadata": {
        "id": "GiJgcOjQki6c",
        "outputId": "a3aa6362-3e7f-49bd-b369-e7a29d2474eb",
        "colab": {
          "base_uri": "https://localhost:8080/"
        }
      },
      "source": [
        "Keq=exp(-DG/R/T)\n",
        "Keq.subs(T,Tf) #calculate Keq"
      ],
      "execution_count": 13,
      "outputs": [
        {
          "output_type": "execute_result",
          "data": {
            "text/plain": [
              "0.0679665679167046"
            ]
          },
          "metadata": {
            "tags": []
          },
          "execution_count": 13
        }
      ]
    },
    {
      "cell_type": "code",
      "metadata": {
        "id": "jQ1BjSjGy-Du"
      },
      "source": [
        "ch=[nrxn[i]+stoic[i]*xi for i in range(len(stoic))]; sm=sum(ch) #calculate moles with xi and sum them up.\n",
        "num=[(ch[i]/sm)**stoic[i] for i in range(len(stoic)) if stoic[i]>0] #the numerator in Keq\n",
        "den=[(ch[i]/sm)**stoic[i] for i in range(len(stoic)) if stoic[i]<0] #the denominator in Keq. Both are not needed except that the Keq solver works better if we don't use a complicated fraction."
      ],
      "execution_count": 14,
      "outputs": []
    },
    {
      "cell_type": "code",
      "metadata": {
        "id": "cu2LoufLOvEq",
        "outputId": "139d5af7-18d0-4c23-f1aa-89f448f1206a",
        "colab": {
          "base_uri": "https://localhost:8080/"
        }
      },
      "source": [
        "rangh=[-nrxn[i]/stoic[i] for i in range(len(stoic)) if stoic[i]>0]\n",
        "rangl=[-nrxn[i]/stoic[i] for i in range(len(stoic)) if stoic[i]<0]\n",
        "ximin=min(rangh)\n",
        "ximax=min(rangl)\n",
        "print(ximin,ximax)"
      ],
      "execution_count": 15,
      "outputs": [
        {
          "output_type": "stream",
          "text": [
            "-0.25 0.3333333333333333\n"
          ],
          "name": "stdout"
        }
      ]
    },
    {
      "cell_type": "code",
      "metadata": {
        "id": "WfkWMpZOlzfZ"
      },
      "source": [
        "import operator\n",
        "import functools\n",
        "def prod(factors): #make a function to take the product of a bunch of numbers.\n",
        "    return functools.reduce(operator.mul, factors, 1)"
      ],
      "execution_count": 16,
      "outputs": []
    },
    {
      "cell_type": "code",
      "metadata": {
        "id": "eFqTfldoktso"
      },
      "source": [
        "def K(x):\n",
        "  num=[(ch[i]/sm).subs(xi,x)**stoic[i] for i in range(len(stoic)) if stoic[i]>0]\n",
        "  den=[(ch[i]/sm).subs(xi,x)**-stoic[i] for i in range(len(stoic)) if stoic[i]<0]\n",
        "  return prod(num)-Keq.subs(T,Tf)*prod(den) # use prod to make Keq but make only numerator and denominator separately. Multiply Keq calculated from DG and mult by the denominator."
      ],
      "execution_count": 17,
      "outputs": []
    },
    {
      "cell_type": "code",
      "metadata": {
        "id": "Oz5wcr9ymSHI",
        "outputId": "1dc2f018-b083-4ac7-93e7-746d2d7bc241",
        "colab": {
          "base_uri": "https://localhost:8080/"
        }
      },
      "source": [
        "x=brentq(K,ximin,ximax) #find zeros of the function above between the minimum and maximum possible xi.\n",
        "x"
      ],
      "execution_count": 18,
      "outputs": [
        {
          "output_type": "execute_result",
          "data": {
            "text/plain": [
              "-0.11644713594018029"
            ]
          },
          "metadata": {
            "tags": []
          },
          "execution_count": 18
        }
      ]
    },
    {
      "cell_type": "code",
      "metadata": {
        "id": "3VI8TlgkmPoi",
        "outputId": "5b82f0e6-86b0-4503-c620-8cd137094bb4",
        "colab": {
          "base_uri": "https://localhost:8080/"
        }
      },
      "source": [
        "n=[ch[i].subs(xi,x) for i in range(len(stoic))] # substitute xi into moles expressions to get answer.\n",
        "n"
      ],
      "execution_count": 19,
      "outputs": [
        {
          "output_type": "execute_result",
          "data": {
            "text/plain": [
              "[1.23289427188036, 1.34934140782054, 0.534211456239279]"
            ]
          },
          "metadata": {
            "tags": []
          },
          "execution_count": 19
        }
      ]
    },
    {
      "cell_type": "code",
      "metadata": {
        "id": "3F4rVvHC_gGV",
        "outputId": "1012fa77-9998-47c9-959a-78b318505c41",
        "colab": {
          "base_uri": "https://localhost:8080/"
        }
      },
      "source": [
        "n[2]**stoic[2]*n[1]**stoic[1]*n[0]**stoic[0]*sm.subs(xi,x)-Keq.subs(T,Tf)<10**-8"
      ],
      "execution_count": 20,
      "outputs": [
        {
          "output_type": "execute_result",
          "data": {
            "text/plain": [
              "True"
            ]
          },
          "metadata": {
            "tags": []
          },
          "execution_count": 20
        }
      ]
    }
  ]
}