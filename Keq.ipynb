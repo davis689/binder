{
  "nbformat": 4,
  "nbformat_minor": 0,
  "metadata": {
    "colab": {
      "name": "Keq.ipynb",
      "provenance": [],
      "collapsed_sections": [],
      "authorship_tag": "ABX9TyNHZdraS1hQ8hoXXlRnZ+JL",
      "include_colab_link": true
    },
    "kernelspec": {
      "name": "python3",
      "display_name": "Python 3"
    }
  },
  "cells": [
    {
      "cell_type": "markdown",
      "metadata": {
        "id": "view-in-github",
        "colab_type": "text"
      },
      "source": [
        "<a href=\"https://colab.research.google.com/github/davis689/binder/blob/master/Keq.ipynb\" target=\"_parent\"><img src=\"https://colab.research.google.com/assets/colab-badge.svg\" alt=\"Open In Colab\"/></a>"
      ]
    },
    {
      "cell_type": "code",
      "metadata": {
        "id": "bk1zfslccrZF"
      },
      "source": [
        "import numpy as np\n",
        "from sympy import *\n",
        "from scipy.optimize import brentq,fsolve\n",
        "import matplotlib.pyplot as plt\n",
        "import requests\n",
        "import lxml.html as lh\n",
        "import pandas as pd\n",
        "from functools import reduce\n"
      ],
      "execution_count": 1,
      "outputs": []
    },
    {
      "cell_type": "markdown",
      "metadata": {
        "id": "s7bcgG5Xonyh"
      },
      "source": [
        "Set up"
      ]
    },
    {
      "cell_type": "code",
      "metadata": {
        "id": "wTXm-QntcwKR"
      },
      "source": [
        "T,V,A,B,p,x,xi=var('T, V,A,B,p,x,xi')\n",
        "R=8.3144598 "
      ],
      "execution_count": 2,
      "outputs": []
    },
    {
      "cell_type": "markdown",
      "metadata": {
        "id": "Zye57ZMaX9td"
      },
      "source": [
        "Import data from webbook.nist.gov for each molecule"
      ]
    },
    {
      "cell_type": "code",
      "metadata": {
        "id": "84WNjBEbX8-y"
      },
      "source": [
        "url = 'https://webbook.nist.gov/cgi/cbook.cgi?ID=C10024972&Units=SI&Mask=1#Thermo-Gas' #N2O\n",
        "html = requests.get(url).content\n",
        "df_list = pd.read_html(html)\n",
        "df = df_list[-3] # change index to get different table. -1 means start at end\n",
        "So=[]\n",
        "So.append(float(df.iloc[2,1]))\n",
        "df=df_list[-2]\n",
        "tmp=df.iloc[1:9,1].values.tolist()\n",
        "coef=[]\n",
        "coef.append([float(tmp[i]) for i in range(len(tmp))])"
      ],
      "execution_count": 3,
      "outputs": []
    },
    {
      "cell_type": "code",
      "metadata": {
        "id": "VBp2LDeCYICz"
      },
      "source": [
        "url = 'https://webbook.nist.gov/cgi/cbook.cgi?ID=C7782447&Units=SI&Mask=1#Thermo-Gas' #O2\n",
        "html = requests.get(url).content\n",
        "df_list = pd.read_html(html)\n",
        "df = df_list[-3] # change index to get different table. -1 means start at end\n",
        "So.append(float(df.iloc[1,1]))\n",
        "df=df_list[-2]\n",
        "tmp=df.iloc[1:9,1].values.tolist()\n",
        "coef.append([float(tmp[i]) for i in range(len(tmp))])"
      ],
      "execution_count": 4,
      "outputs": []
    },
    {
      "cell_type": "code",
      "metadata": {
        "id": "ofUXJb8PYH3D"
      },
      "source": [
        "url = 'https://webbook.nist.gov/cgi/cbook.cgi?ID=C10102440&Units=SI&Mask=1#Thermo-Gas' #NO2\n",
        "html = requests.get(url).content\n",
        "df_list = pd.read_html(html)\n",
        "df = df_list[-3] # change index to get different table. -1 means start at end\n",
        "So.append(float(df.iloc[2,1]))\n",
        "df=df_list[-2]\n",
        "tmp=df.iloc[1:9,1].values.tolist()\n",
        "coef.append([float(tmp[i]) for i in range(len(tmp))])"
      ],
      "execution_count": 5,
      "outputs": []
    },
    {
      "cell_type": "markdown",
      "metadata": {
        "id": "ynrQtFzcosUY"
      },
      "source": [
        "Coefficients and the powers in the Shomate equation."
      ]
    },
    {
      "cell_type": "code",
      "metadata": {
        "id": "CmJ59zmucwHc"
      },
      "source": [
        "stoic=[-2,-3,4] # stoichiometry with reactant negative.\n",
        "species=['N2O','O2','NO2']"
      ],
      "execution_count": 6,
      "outputs": []
    },
    {
      "cell_type": "code",
      "metadata": {
        "id": "fxGZIvb9t_A4",
        "cellView": "form"
      },
      "source": [
        "#@title Input the temperature and pressure at which you want to calculate entropy change\n",
        "pi = 1\n",
        "pf =  .5#@param {type:\"number\"}\n",
        "Ti = 298\n",
        "Tf =  400#@param {type:\"number\"}\n",
        "n_N2O =  1.5#@param {type:\"number\"}\n",
        "n_O2 =  1.5#@param {type:\"number\"}\n",
        "n_NO2 =  1.5#@param {type:\"number\"}\n",
        "nrxn=[n_N2O,n_O2,n_NO2]"
      ],
      "execution_count": 7,
      "outputs": []
    },
    {
      "cell_type": "code",
      "metadata": {
        "id": "z5Cd1IJofH6b",
        "colab": {
          "base_uri": "https://localhost:8080/"
        },
        "outputId": "bb4011d2-23e1-4956-d281-b047d7a4a9ea"
      },
      "source": [
        "Hf=[sum([coef[i][j]/(j+1)*(T/1000)**(j+1) for j in range(4)]) for i in range(len(stoic))]\n",
        "Hf=[Hf[i]-coef[i][4]*(1000/T)+coef[i][5]-coef[i][7] for i in range(len(stoic))] # temperature change for each species\n",
        "DH=sum([Hf[i]*stoic[i] for i in range(len(stoic))])# total change from 298K added up using stoichiometry for each species.\n",
        "\n",
        "Hfo=sum([coef[i][7]*stoic[i] for i in range(len(stoic))]) # standard reaction enthalpy change. The 7th element of coeff is the standard enthalpy.\n",
        "\n",
        "DHtot=DH+Hfo #add temperature change enthalpy to standard enthalpy\n",
        "\n",
        "print('standard enthalpy=',round(Hfo,2),'kJ/mol       enthalpy at',Tf,'K=',DHtot.subs(T,Tf).round(2),'kJ/mol') "
      ],
      "execution_count": 8,
      "outputs": [
        {
          "output_type": "stream",
          "text": [
            "standard enthalpy= -31.72 kJ/mol       enthalpy at 400 K= -33.38 kJ/mol\n"
          ],
          "name": "stdout"
        }
      ]
    },
    {
      "cell_type": "code",
      "metadata": {
        "id": "s4rxEM8QPOLo",
        "colab": {
          "base_uri": "https://localhost:8080/"
        },
        "outputId": "90ac437e-4653-4aa8-c147-02d7e2a43523"
      },
      "source": [
        "S=[sum([coef[i][j]/(j)*(T/1000)**j for j in range(4) if j>0]) for i in range(len(stoic))] # take care of the polynomial part of the equation\n",
        "S=[S[i]+coef[i][0]*ln(T/1000)-coef[i][4]/(2*(T/1000)**2)+coef[i][6] for i in range(len(stoic))] # add terms for the non-polynomial terms\n",
        "DStot=sum([S[i]*stoic[i] for i in range(len(stoic))]) # add up the entropies for all species with the appropriate stoichiometry\n",
        "DStot_p=DStot+R*ln(pf) #If we account for pressure here. Below for pressure accounted for in the delta G equation.\n",
        "print('total change in entropy at',Tf,'K=',DStot.subs(T,Tf).round(2),'J/mol K            \\ntotal change in entropy at',Tf,'K and',pf,'bar =',DStot_p.subs(T,Tf).round(2),'J/mol K')\n",
        "print('Delta G from Delta H and Delta S',(DHtot*1000-Tf*DStot_p).subs(T,Tf).round(2),'J/mol') # calc DS for reaction and temperature change, for rxn, T, and p, and DG for same"
      ],
      "execution_count": 9,
      "outputs": [
        {
          "output_type": "stream",
          "text": [
            "total change in entropy at 400 K= -100.05 J/mol K            \n",
            "total change in entropy at 400 K and 0.5 bar = -105.82 J/mol K\n",
            "Delta G from Delta H and Delta S 8942.17 J/mol\n"
          ],
          "name": "stdout"
        }
      ]
    },
    {
      "cell_type": "code",
      "metadata": {
        "colab": {
          "base_uri": "https://localhost:8080/"
        },
        "id": "yAJsrlr32Tih",
        "outputId": "ac6fe23f-ccb1-4813-f469-4faef3969714"
      },
      "source": [
        "[coef[i][7]+Hf[i].subs(T,Tf)-450*S[i].subs(T,Tf).round(2)/1000 for i in range(len(stoic))] #delta Gs for each species but using S not Delta S. This isn't right but it works if you take products minus reactants"
      ],
      "execution_count": 10,
      "outputs": [
        {
          "output_type": "execute_result",
          "data": {
            "text/plain": [
              "[-18.1569286250167, -93.2155357607917, -76.0805916490833]"
            ]
          },
          "metadata": {
            "tags": []
          },
          "execution_count": 10
        }
      ]
    },
    {
      "cell_type": "code",
      "metadata": {
        "id": "gOFPNXijJw8J",
        "colab": {
          "base_uri": "https://localhost:8080/"
        },
        "outputId": "0c7ddb05-a2a5-439d-ee60-afe719016953"
      },
      "source": [
        "print('Standard entropyies: ',So) #standard entropies\n",
        "print('Standard entropy change at T=',Tf,'K:', sum([So[i]*stoic[i] for i in range(len(stoic))]),'J/mol K') #standard entropy change at 298 K and 1 bar."
      ],
      "execution_count": 11,
      "outputs": [
        {
          "output_type": "stream",
          "text": [
            "Standard entropyies:  [219.96, 205.15, 240.04]\n",
            "Standard entropy change at T= 400 K: -95.21000000000015 J/mol K\n"
          ],
          "name": "stdout"
        }
      ]
    },
    {
      "cell_type": "code",
      "metadata": {
        "colab": {
          "base_uri": "https://localhost:8080/"
        },
        "id": "fVLK_eU3mQWe",
        "outputId": "6350337c-1f1b-4d19-f654-b69fea00e9a7"
      },
      "source": [
        "[print(S[i].subs(T,Tf).round(2),'J/mol K') for i in range(len(stoic))]# entropy of each species at Tf\n",
        "[print(Hf[i].subs(T,Tf).round(2),'kJ/mol') for i in range(len(stoic))] #enthapy change for each species to get to Tf\n",
        "[print((Hf[i]+coef[i][7]).subs(T,Tf).round(2),'kJ/mol') for i in range(len(stoic))] #enthalpy of formation at Tf"
      ],
      "execution_count": 12,
      "outputs": [
        {
          "output_type": "stream",
          "text": [
            "231.90 J/mol K\n",
            "213.87 J/mol K\n",
            "251.34 J/mol K\n",
            "4.15 kJ/mol\n",
            "3.03 kJ/mol\n",
            "3.93 kJ/mol\n",
            "86.20 kJ/mol\n",
            "3.03 kJ/mol\n",
            "37.02 kJ/mol\n"
          ],
          "name": "stdout"
        },
        {
          "output_type": "execute_result",
          "data": {
            "text/plain": [
              "[None, None, None]"
            ]
          },
          "metadata": {
            "tags": []
          },
          "execution_count": 12
        }
      ]
    },
    {
      "cell_type": "code",
      "metadata": {
        "id": "hdp-YVeVLeDC",
        "colab": {
          "base_uri": "https://localhost:8080/"
        },
        "outputId": "25ba126f-dacc-4612-9f7e-a470d34e5129"
      },
      "source": [
        "DG=DHtot*1000-T*DStot+sum(stoic)*R*T*log(pf)\n",
        "print('Delta G at Tf=',Tf,'K=',(DHtot*1000-T*DStot).subs(T,Tf).round(2),'J/mol         \\nDelta G of pressure change=', (sum(stoic)*R*T*log(pf)).subs(T,Tf).round(2),'J/mol               \\ntotal Delta G=',DG.subs(T,Tf).n().round(2),'J/mol') # DG... same as above, calculated differently"
      ],
      "execution_count": 13,
      "outputs": [
        {
          "output_type": "stream",
          "text": [
            "Delta G at Tf= 400 K= 6636.91 J/mol         \n",
            "Delta G of pressure change= 2305.26 J/mol               \n",
            "total Delta G= 8942.17 J/mol\n"
          ],
          "name": "stdout"
        }
      ]
    },
    {
      "cell_type": "code",
      "metadata": {
        "id": "GiJgcOjQki6c",
        "colab": {
          "base_uri": "https://localhost:8080/"
        },
        "outputId": "17c7bcb8-eab0-495e-f164-c4c5e30b273d"
      },
      "source": [
        "Keq=exp(-DG/R/T)\n",
        "print('Keq=',Keq.subs(T,Tf)) #calculate Keq"
      ],
      "execution_count": 14,
      "outputs": [
        {
          "output_type": "stream",
          "text": [
            "Keq= 0.0679665679167046\n"
          ],
          "name": "stdout"
        }
      ]
    },
    {
      "cell_type": "code",
      "metadata": {
        "id": "jQ1BjSjGy-Du"
      },
      "source": [
        "ch=[nrxn[i]+stoic[i]*xi for i in range(len(stoic))]; sm=sum(ch) #calculate moles with xi and sum them up.\n",
        "num=[(ch[i]/sm)**stoic[i] for i in range(len(stoic)) if stoic[i]>0] #the numerator in Keq\n",
        "den=[(ch[i]/sm)**stoic[i] for i in range(len(stoic)) if stoic[i]<0] #the denominator in Keq. Both are not needed except that the Keq solver works better if we don't use a complicated fraction."
      ],
      "execution_count": 15,
      "outputs": []
    },
    {
      "cell_type": "code",
      "metadata": {
        "id": "cu2LoufLOvEq",
        "colab": {
          "base_uri": "https://localhost:8080/"
        },
        "outputId": "913b1643-e12a-479d-af32-e56ddd9ded29"
      },
      "source": [
        "ximin=max([-nrxn[i]/stoic[i] for i in range(len(stoic)) if stoic[i]>0]) #calculate the high end of the xi range\n",
        "ximax=min([-nrxn[i]/stoic[i] for i in range(len(stoic)) if stoic[i]<0]) #calculate the low end of the xi range\n",
        "\n",
        "print('xi is between',ximin,'and',ximax)"
      ],
      "execution_count": 16,
      "outputs": [
        {
          "output_type": "stream",
          "text": [
            "xi is between -0.375 and 0.5\n"
          ],
          "name": "stdout"
        }
      ]
    },
    {
      "cell_type": "code",
      "metadata": {
        "id": "GNRgjIbtBv4l"
      },
      "source": [
        ""
      ],
      "execution_count": 16,
      "outputs": []
    },
    {
      "cell_type": "markdown",
      "metadata": {
        "id": "rb1oZ6w-_6xW"
      },
      "source": [
        "Now we define a function that can be solved for $\\xi$. The function needs to be equal to zero so we'll set it up so that $\\frac{\\Pi_i [products]_i^{a_i}}{\\Pi_j[reactants]_j^{a_j}}-K_{eq}=0$, where $a$ is the stoichiometric coefficient for species $i$ or $j$. But really it's easier to solve if we take away the fraction and write it as $\\Pi_i[products]_i^{a_i}-K_{eq}\\times[reactants]_j^{a_j}=0$.\n",
        "\n",
        "Because of this form, it is conventient to deal with the numerator and the denominator of the equilibrium constant separately. Each of these is just a product of each of the products or each of the reactants all to their appropriate powers. There is no $product$ function in most now current python versions but 'reduce(lambda x,y:x*y,list)' accomplishes this task for the lists of terms in the numerator ($num$) and the denominator ($den$). "
      ]
    },
    {
      "cell_type": "code",
      "metadata": {
        "id": "eFqTfldoktso"
      },
      "source": [
        "def K(x):\n",
        "  num=[(ch[i]/sm).subs(xi,x)**stoic[i] for i in range(len(stoic)) if stoic[i]>0]\n",
        "  den=[(ch[i]/sm).subs(xi,x)**-stoic[i] for i in range(len(stoic)) if stoic[i]<0]\n",
        "  return reduce(lambda x,y:x*y,num)-Keq.subs(T,Tf)*reduce(lambda x,y:x*y,den) # "
      ],
      "execution_count": 17,
      "outputs": []
    },
    {
      "cell_type": "code",
      "metadata": {
        "id": "kUHDFV9nHoi-"
      },
      "source": [
        "#xi=np.linspace(ximin,ximax,100)\n"
      ],
      "execution_count": 18,
      "outputs": []
    },
    {
      "cell_type": "markdown",
      "metadata": {
        "id": "M8tQ5onlBV2-"
      },
      "source": [
        "Now we use one of the equation solvers, here $brentq$, to solve our function between $\\xi_{min}$ and $\\xi_{max}$."
      ]
    },
    {
      "cell_type": "code",
      "metadata": {
        "id": "Oz5wcr9ymSHI",
        "colab": {
          "base_uri": "https://localhost:8080/"
        },
        "outputId": "bfddda7e-2393-4fc6-bf9e-bfc674b53396"
      },
      "source": [
        "x=brentq(K,ximin,ximax) #find zeros of the function above between the minimum and maximum possible xi.\n",
        "x"
      ],
      "execution_count": 19,
      "outputs": [
        {
          "output_type": "execute_result",
          "data": {
            "text/plain": [
              "-0.1746707039102704"
            ]
          },
          "metadata": {
            "tags": []
          },
          "execution_count": 19
        }
      ]
    },
    {
      "cell_type": "markdown",
      "metadata": {
        "id": "GQy6AbTxDt76"
      },
      "source": [
        "Now we can use $\\xi$ to calculate the number of moles of each reactant and product at equilibrium."
      ]
    },
    {
      "cell_type": "code",
      "metadata": {
        "id": "3VI8TlgkmPoi",
        "colab": {
          "base_uri": "https://localhost:8080/"
        },
        "outputId": "77c380ee-7886-4f9a-9748-38af89c62ab3"
      },
      "source": [
        "n=[ch[i].subs(xi,x) for i in range(len(stoic))] # substitute xi into moles expressions to get answer.\n",
        "output=[print(species[i],':',n[i].round(2),\"mol\") for i in range(len(stoic))]"
      ],
      "execution_count": 20,
      "outputs": [
        {
          "output_type": "stream",
          "text": [
            "N2O : 1.85 mol\n",
            "O2 : 2.02 mol\n",
            "NO2 : 0.80 mol\n"
          ],
          "name": "stdout"
        }
      ]
    },
    {
      "cell_type": "markdown",
      "metadata": {
        "id": "UIZwUD3xD097"
      },
      "source": [
        "A test for consistency is always good. A calculation of the difference in $K_{eq}$ using moles and using $\\Delta G$ should give zero. Here we allow it to be as big as $\\pm10^{-8}$. "
      ]
    },
    {
      "cell_type": "code",
      "metadata": {
        "id": "3F4rVvHC_gGV",
        "colab": {
          "base_uri": "https://localhost:8080/"
        },
        "outputId": "223657b9-3851-4ed8-ff48-338b7c392300"
      },
      "source": [
        "kk=[(n[i]/sm.subs(xi,x))**stoic[i] for i in range(len(stoic))] #test equilibrium constant in terms of xi\n",
        "print(abs(reduce(lambda x,y:x*y,kk)-Keq.subs(T,Tf))<10**-8) #make sure the K calculated from moles matches the K calculated from Delta G (or close enough). True means we're good."
      ],
      "execution_count": 21,
      "outputs": [
        {
          "output_type": "stream",
          "text": [
            "True\n"
          ],
          "name": "stdout"
        }
      ]
    }
  ]
}