{
  "nbformat": 4,
  "nbformat_minor": 0,
  "metadata": {
    "colab": {
      "name": "kinetics - numerical integration.ipynb",
      "provenance": [],
      "include_colab_link": true
    },
    "kernelspec": {
      "name": "python3",
      "display_name": "Python 3"
    }
  },
  "cells": [
    {
      "cell_type": "markdown",
      "metadata": {
        "id": "view-in-github",
        "colab_type": "text"
      },
      "source": [
        "<a href=\"https://colab.research.google.com/github/davis689/binder/blob/master/kinetics_numerical_integration.ipynb\" target=\"_parent\"><img src=\"https://colab.research.google.com/assets/colab-badge.svg\" alt=\"Open In Colab\"/></a>"
      ]
    },
    {
      "cell_type": "code",
      "metadata": {
        "id": "ACxmkjMehlKG"
      },
      "source": [
        "import numpy as np\n",
        "from scipy.integrate import odeint\n",
        "import matplotlib.pyplot as plt"
      ],
      "execution_count": 1,
      "outputs": []
    },
    {
      "cell_type": "markdown",
      "metadata": {
        "id": "c56aHVtZ0RMY"
      },
      "source": [
        "#Numerical Integration of first order rate laws\n"
      ]
    },
    {
      "cell_type": "markdown",
      "metadata": {
        "id": "7WpAI6JZWywW"
      },
      "source": [
        "##First order"
      ]
    },
    {
      "cell_type": "markdown",
      "metadata": {
        "id": "n9zNVf9km1zm"
      },
      "source": [
        "We want to numerically integrate the rate laws for the first order equilibrium, A->B. First we define a function to describe our rate equations. "
      ]
    },
    {
      "cell_type": "code",
      "metadata": {
        "id": "LyvNI0iWiO-r"
      },
      "source": [
        "def rxn1st(M,t,k1):\n",
        "   \n",
        "  r1=k1*M[0] #k1*(concentation of A) \n",
        "  \n",
        "  dAdt=-r1 #rate of change of A decreased by forward reaction and increased by reverse reaction\n",
        "  dBdt=r1 #rate of change of B increased by forward reaction and decreased by reverse reaction\n",
        "  \n",
        "  return(dAdt,dBdt)"
      ],
      "execution_count": 2,
      "outputs": []
    },
    {
      "cell_type": "markdown",
      "metadata": {
        "id": "aXAXz9humni_"
      },
      "source": [
        "Here we have defined a function, rxn, that returns the derivatives of A and B as given by the rate laws. This is necessary for the differential equation solver. In addition we need to set up a few variables like the times we want to evaluate, the initial concentrations, and the rate constants.\n",
        "\n",
        "Here, for no particular reason, we assign $M_0$ as the vector containing the initial concentrations [A]<sub>0</sub> and [B]<sub>0</sub> and assign them values of 1 and 0, respectively.\n",
        "\n",
        "Then call the Ordinary Differential Equation INTegrator function (odeint) using the rxn1st function we defined above, the initial concentration vector (M0), the times we want to evaluate (t), and the rate constants."
      ]
    },
    {
      "cell_type": "code",
      "metadata": {
        "id": "rZEbLsbdi56W"
      },
      "source": [
        "t=np.linspace(0,10,101) # define t. The first number is the beginning point, the second number is the end, and the third is the number of points.\n",
        "M0=[1,0] #initial concentrations of A and B\n",
        "k1=1 # the one rate constant\n",
        "C=odeint(rxn1st,M0,t,args=(k1,)) # solve the DEs. Not sure why the last , is necessary but it seems to work with it there."
      ],
      "execution_count": 20,
      "outputs": []
    },
    {
      "cell_type": "markdown",
      "metadata": {
        "id": "0rC9xl7Ybji2"
      },
      "source": [
        "After solving, the result is stored in C, one column of numbers for each species in the reaction. Here we can separate it out by getting all of the first column (column 0) and assigning it to cA and all of column 1 and assigning it to cB."
      ]
    },
    {
      "cell_type": "code",
      "metadata": {
        "id": "_1_bK4o2jRT7"
      },
      "source": [
        "cA=C[:,0] #define cA to give the concentration from the first (zeroth) column of the C array\n",
        "cB=C[:,1] #define cB to give the concentration from the second column of the C array"
      ],
      "execution_count": 21,
      "outputs": []
    },
    {
      "cell_type": "code",
      "metadata": {
        "id": "1yR05EPjjVXX"
      },
      "source": [
        "plt.plot(t,cA,'r-',label='A')\n",
        "plt.plot(t,cB,label='B')\n",
        "plt.xlabel('time')\n",
        "plt.ylabel('conc')\n",
        "plt.xlim(0,max(t))\n",
        "plt.ylim(0,1.05*max(cA))\n",
        "plt.legend()\n",
        "plt.show()"
      ],
      "execution_count": null,
      "outputs": []
    },
    {
      "cell_type": "markdown",
      "metadata": {
        "id": "KuzIPI7oDX2d"
      },
      "source": [
        "See what would change if you make $k=10$ or $k=0.1$. \\\\\n",
        "See what would change if you make $[A]_o=0.5$ or $[B]_o=0.5$.\n"
      ]
    },
    {
      "cell_type": "markdown",
      "metadata": {
        "id": "2J-pxd4gDKZB"
      },
      "source": [
        "Of course we can analytically solve the first order rate law quite easily without a computer. We can fix up our function to cover more complex cases by including the backward reaction. For now we'll assume first order in both directions."
      ]
    },
    {
      "cell_type": "code",
      "metadata": {
        "id": "X5iEKfXxDwFQ"
      },
      "source": [
        "def rxn1st_equilibrium(M,t,k1,k2):\n",
        "   \n",
        "  r1=k1*M[0] #k1*(concentation of A)\n",
        "  r2=k2*M[1]\n",
        "  \n",
        "  dAdt=-r1+r2 #rate of change of A decreased by forward reaction and increased by reverse reaction\n",
        "  dBdt=r1-r2 #rate of change of B increased by forward reaction and decreased by reverse reaction\n",
        "  \n",
        "  return(dAdt,dBdt)"
      ],
      "execution_count": null,
      "outputs": []
    },
    {
      "cell_type": "markdown",
      "metadata": {
        "id": "xa0Gzd72EEEt"
      },
      "source": [
        "Combining the setup concentrations, rate constants, solving the set of differential equations, and plotting..."
      ]
    },
    {
      "cell_type": "code",
      "metadata": {
        "id": "uLPmlJ6Ukp4g"
      },
      "source": [
        "t=np.linspace(0,10,100)\n",
        "\n",
        "M0=[1,0] #A0 and B0\n",
        "k1=1 #fwd reaction\n",
        "k2=0 #bkwd reaction\n",
        "\n",
        "C=odeint(rxn1st_equilibrium,M0,t,(k1,k2))\n",
        "cA=C[:,0] \n",
        "cB=C[:,1]\n",
        "plt.plot(t,cA,'r-',label='A')\n",
        "plt.plot(t,cB,label='B')\n",
        "plt.xlabel('time')\n",
        "plt.ylabel('conc')\n",
        "plt.xlim(0,max(t))\n",
        "plt.ylim(0,1.05*max(cA))\n",
        "plt.legend()\n",
        "plt.show()"
      ],
      "execution_count": null,
      "outputs": []
    },
    {
      "cell_type": "markdown",
      "metadata": {
        "id": "i0a1TJ4cEO74"
      },
      "source": [
        "Using the constants and initial concentrations given should give us the same result as we got with only the forward reaction. "
      ]
    },
    {
      "cell_type": "markdown",
      "metadata": {
        "id": "91bqf670WRIq"
      },
      "source": [
        "Modify the code below to graph the concentations of A and B if $[A]_o$=1 and $[B]_o=0$ for k<sub>1</sub>=1 and k<sub>2</sub>=.5 \\\\\n",
        "How do things change? \\\\\n"
      ]
    },
    {
      "cell_type": "code",
      "metadata": {
        "id": "rNiW7XzboOAh"
      },
      "source": [
        "t=np.linspace(0,10,100)\n",
        "M0=[ , ]\n",
        "k1=\n",
        "k2= \n",
        "\n",
        "C=odeint(rxn1st_equilibrium,M0,t,(k1,k2))\n",
        "cA=C[:,0]\n",
        "cB=C[:,1]\n",
        "plt.plot(t,cA,'r-',label='A')\n",
        "plt.plot(t,cB,label='B')\n",
        "plt.xlabel('time')\n",
        "plt.ylabel('conc')\n",
        "plt.xlim(0,max(t))\n",
        "plt.ylim(0,1.05*max(cA))\n",
        "plt.legend()"
      ],
      "execution_count": null,
      "outputs": []
    },
    {
      "cell_type": "markdown",
      "metadata": {
        "id": "pDQtVmgRWtCd"
      },
      "source": [
        "What happens if $k_2$ is twice as big as $k_1$?\n",
        "\n",
        "\n"
      ]
    },
    {
      "cell_type": "code",
      "metadata": {
        "id": "Q5lHAI41WrC-"
      },
      "source": [
        "t=np.linspace(0,10,100)\n",
        "M0=[ , ]\n",
        "k1=\n",
        "k2=\n",
        "\n",
        "C=odeint(rxn1st_equilibrium,M0,t,(k1,k2))\n",
        "cA=C[:,0]\n",
        "cB=C[:,1]\n",
        "plt.plot(t,cA,'r-',label='A')\n",
        "plt.plot(t,cB,label='B')\n",
        "plt.xlabel('time')\n",
        "plt.ylabel('conc')\n",
        "plt.xlim(0,max(t))\n",
        "plt.ylim(0,1.05*max(cA))\n",
        "plt.legend()"
      ],
      "execution_count": null,
      "outputs": []
    },
    {
      "cell_type": "markdown",
      "metadata": {
        "id": "TlUePZyU4Lya"
      },
      "source": [
        "Try some other values of initial concentrations and rate constants. \n"
      ]
    },
    {
      "cell_type": "markdown",
      "metadata": {
        "id": "rv5JakUBW2qV"
      },
      "source": [
        "##Second order"
      ]
    },
    {
      "cell_type": "markdown",
      "metadata": {
        "id": "jJUZswfNXFLP"
      },
      "source": [
        "Modify the orginal function to calculate second order reactions (both directions). In Python, powers are signified by \\*\\*, as in 2\\**3=8."
      ]
    },
    {
      "cell_type": "code",
      "metadata": {
        "id": "blBWbjFtW6rT"
      },
      "source": [
        "def rxn2nd(M,t,k1,k2):\n",
        "   \n",
        "  r1=k1*M[0]**2 \n",
        "  r2=k2*M[1]**2 \n",
        "  \n",
        "  dAdt=-r1+r2 #rate of change of A decreased by forward reaction and increased by reverse reaction\n",
        "  dBdt=r1-r2 #rate of change of B increased by forward reaction and decreased by reverse reaction\n",
        "  \n",
        "  return(dAdt,dBdt)"
      ],
      "execution_count": null,
      "outputs": []
    },
    {
      "cell_type": "markdown",
      "metadata": {
        "id": "Nu2aTMDvXfno"
      },
      "source": [
        "Plot for $k_1$=1, $k_2$=0, $A_0$=1, and $B_0$=0"
      ]
    },
    {
      "cell_type": "code",
      "metadata": {
        "id": "mxA4dtP1Y0LL"
      },
      "source": [
        ""
      ],
      "execution_count": null,
      "outputs": []
    },
    {
      "cell_type": "markdown",
      "metadata": {
        "id": "pA_9KVlwYp5c"
      },
      "source": [
        "Modify rate constants and concentrations and justify the results."
      ]
    },
    {
      "cell_type": "markdown",
      "metadata": {
        "id": "S_dYdySCY1Sr"
      },
      "source": [
        "##Three step reactions"
      ]
    },
    {
      "cell_type": "markdown",
      "metadata": {
        "id": "EchntABRb9Xb"
      },
      "source": [
        "Modify to calculate for a reaction like A$\\rightleftharpoons$B$\\rightarrow$C\n",
        "\n",
        "Plot for various values of rate constants.\n"
      ]
    },
    {
      "cell_type": "code",
      "metadata": {
        "id": "8IPFMvmsY5pJ"
      },
      "source": [
        "def rxn(M,t,k1,k2,k3):\n",
        "   \n",
        "  r1=k1*M[0] #k1*(concentation of A)\n",
        "  r2=k2*M[1] #k2*(concentration of B)\n",
        "  r3=k3*M[1]\n",
        "  dAdt=-r1+r2 #rate of change of A decreased by forward reaction and increased by reverse reaction\n",
        "  dBdt=r1-r2-r3 #rate of change of B increased by forward reaction and decreased by reverse reaction\n",
        "  dCdt=r3\n",
        "  return(dAdt,dBdt,dCdt)"
      ],
      "execution_count": null,
      "outputs": []
    },
    {
      "cell_type": "code",
      "metadata": {
        "id": "HBkLyIfN37n9"
      },
      "source": [
        "t=np.linspace(0,10,100)\n",
        "M0=[1,0,0]\n",
        "k1=5\n",
        "k2=.1 \n",
        "k3=.1\n",
        "C=odeint(rxn,M0,t,(k1,k2,k3))\n",
        "cA=C[:,0]\n",
        "cB=C[:,1]\n",
        "cC=C[:,2]\n",
        "plt.plot(t,cA,'r-',label='A')\n",
        "plt.plot(t,cB,'b-',label='B')\n",
        "plt.plot(t,cC,'-',color='purple',label='C')\n",
        "plt.xlabel('time')\n",
        "plt.ylabel('conc')\n",
        "plt.xlim(0,max(t))\n",
        "plt.ylim(0,1.05*max(cA))\n",
        "plt.legend()\n",
        "plt.show()"
      ],
      "execution_count": null,
      "outputs": []
    },
    {
      "cell_type": "markdown",
      "metadata": {
        "id": "gfZ8tOkfNdh5"
      },
      "source": [
        "Change the values of k to see the effect. Try to make changes that cause B to stay very small."
      ]
    },
    {
      "cell_type": "markdown",
      "metadata": {
        "id": "uvOnDib2NopH"
      },
      "source": [
        "Now let's apply approximations and see when they fit best. "
      ]
    },
    {
      "cell_type": "code",
      "metadata": {
        "id": "LYAo27ulvZeb"
      },
      "source": [
        "B_ss=[]\n",
        "B_pe=[]\n",
        "for ca in cA: # cA from above\n",
        "  B_ss.append(k1/(k2+k3)*ca) # steady state calculation\n",
        "  B_pe.append(k1/k2*ca) # pre-equilibrium calculation\n",
        "plt.plot(t,cB,'b-',label='exact solution')\n",
        "plt.plot(t,B_ss,'r--',label='steady state')\n",
        "plt.plot(t,B_pe,'g--',label='prior equilibrium')\n",
        "plt.xlim(0,max(t))\n",
        "plt.ylim(0,1)\n",
        "plt.legend()\n",
        "plt.show()"
      ],
      "execution_count": null,
      "outputs": []
    },
    {
      "cell_type": "code",
      "metadata": {
        "id": "Q0TEkvn-E6CK",
        "colab": {
          "base_uri": "https://localhost:8080/",
          "height": 283
        },
        "outputId": "959385b0-f15a-4529-a78b-17eb556c91ab"
      },
      "source": [
        "ratio_ss=[]\n",
        "ratio_pe=[]\n",
        "for i in range(1,len(t)): #start at 1 to avoid division by zero\n",
        "  ratio_ss.append((B_ss[i]-cB[i])/cB[i]*100) #percent difference of approximation\n",
        "  ratio_pe.append(abs(B_pe[i]-cB[i])/cB[i]*100) #percent difference\n",
        "plt.plot(t[1:],ratio_ss,label='ss') # use all values of t after the zeroth one.\n",
        "plt.plot(t[1:],ratio_pe,label='pe')\n",
        "plt.ylim(-100,100)\n",
        "plt.legend()\n",
        "plt.ylabel('% deviation from actual concentration')\n",
        "plt.xlabel('time')\n",
        "plt.show()"
      ],
      "execution_count": null,
      "outputs": [
        {
          "output_type": "display_data",
          "data": {
            "image/png": "[encoded data removed]",
            "text/plain": [
              "<Figure size 432x288 with 1 Axes>"
            ]
          },
          "metadata": {
            "tags": [],
            "needs_background": "light"
          }
        }
      ]
    },
    {
      "cell_type": "markdown",
      "metadata": {
        "id": "Ehvyu_FONzoV"
      },
      "source": [
        "Try values of k so that the steady state approximation has the lowest absolute error and values of k such that the pre-equilibrium approximation has the lowest absolute error."
      ]
    }
  ]
}