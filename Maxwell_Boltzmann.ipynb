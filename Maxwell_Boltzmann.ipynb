{
  "cells": [
    {
      "cell_type": "markdown",
      "metadata": {
        "id": "view-in-github",
        "colab_type": "text"
      },
      "source": [
        "<a href=\"https://colab.research.google.com/github/davis689/binder/blob/master/Maxwell_Boltzmann.ipynb\" target=\"_parent\"><img src=\"https://colab.research.google.com/assets/colab-badge.svg\" alt=\"Open In Colab\"/></a>"
      ]
    },
    {
      "cell_type": "code",
      "execution_count": null,
      "metadata": {
        "id": "C7IcEU6Wwecu"
      },
      "outputs": [],
      "source": [
        "import sympy as sp\n",
        "from sympy import oo, exp, sin, pi\n",
        "import matplotlib.pyplot as plt\n",
        "import numpy as np\n",
        "sp.init_printing()\n"
      ]
    },
    {
      "cell_type": "markdown",
      "metadata": {
        "id": "WN4JK4GXwWeg"
      },
      "source": [
        "# Maxwell-Boltzmann distribution"
      ]
    },
    {
      "cell_type": "code",
      "execution_count": null,
      "metadata": {
        "id": "3H_3NQ6awUXN"
      },
      "outputs": [],
      "source": [
        "eps,m,T,K=sp.symbols('varepsilon,m,T,K',positive=True,real=True)\n",
        "vx,vy,vz,fvx,fex,fv=sp.symbols('v_x,v_y,v_z,f_{v_x},f_x,f_v',real=True)\n",
        "kb=sp.symbols('k_B',constant=True,positive=True,real=True)"
      ]
    },
    {
      "cell_type": "markdown",
      "metadata": {
        "id": "wpUPxp-kgVhZ"
      },
      "source": [
        "#One dimension# \n",
        "We begin with the Boltzmann distribution in one dimension. $$f(\\varepsilon_i)=\\left(\\frac{1}{\\sum_{j=0}^{\\infty} e^{-ɛ_j/kT} }\\right)e^{-\\varepsilon_i/kT}$$ The term in parentheses is just a number and since we'll be normalizing our expression later, let's simplify this as just $K$."
      ]
    },
    {
      "cell_type": "code",
      "execution_count": null,
      "metadata": {
        "id": "BdJDfQymHlBW"
      },
      "outputs": [],
      "source": [
        "mbx=sp.Eq(fvx,K*sp.exp(-eps/kb/T))\n",
        "mbx"
      ]
    },
    {
      "cell_type": "markdown",
      "metadata": {
        "id": "NLODOvH7h_nf"
      },
      "source": [
        "The energy levels we're going to consider here are the energies of motion, $\\frac{1}{2} m v_x^2$. Let's substitute this into our expression."
      ]
    },
    {
      "cell_type": "code",
      "execution_count": null,
      "metadata": {
        "id": "HvNX4k-3IYU1"
      },
      "outputs": [],
      "source": [
        "mbx=mbx.subs(eps,m*vx**2/2)\n",
        "mbx"
      ]
    },
    {
      "cell_type": "markdown",
      "metadata": {
        "id": "b4HpfdM-iVKm"
      },
      "source": [
        "Since we're deriving an expression for the *fraction* of molecules, we can normalize this expression to determine an expression for $K$. Since the sum of fractions over the whole range of velocities will be unity, our expression will be $$\\int^\\infty_{-\\infty}K e^{-\\frac{m v_x^2}{2k_B T}}=1$$ For the purposes *sympy*, to solve for K we need the expression to be solved to be equal to zero so we'll move the 1 over to the left hand side of the equation.\n",
        "\n",
        "Here we'll solve for the normalization coefficient and call it *norm*. We'll then substitute it for K in the Maxwell-Boltzmann expression."
      ]
    },
    {
      "cell_type": "code",
      "execution_count": null,
      "metadata": {
        "id": "9R3DShuwIVaI"
      },
      "outputs": [],
      "source": [
        "norm=sp.solve(sp.integrate(mbx.rhs,(vx,-oo,oo))-1,K)[0] # solve returns a list. There is only one solution so [0] will get it.\n",
        "norm"
      ]
    },
    {
      "cell_type": "code",
      "execution_count": null,
      "metadata": {
        "id": "DgJ2m-2FLXgp"
      },
      "outputs": [],
      "source": [
        "mbx=mbx.subs(K,norm) # substitute the normalization coefficient into the distribution\n",
        "mbx"
      ]
    },
    {
      "cell_type": "markdown",
      "metadata": {
        "id": "3GM6O0uQ5bgI"
      },
      "source": [
        "To make sure this expression is indeed normalized, we can integrate it over the whole range and we should get 1. "
      ]
    },
    {
      "cell_type": "code",
      "execution_count": null,
      "metadata": {
        "id": "2DG_oJgczhb_"
      },
      "outputs": [],
      "source": [
        "sp.integrate(mbx.rhs,(vx,-oo,oo))"
      ]
    },
    {
      "cell_type": "markdown",
      "metadata": {
        "id": "eB6uNZNirKdJ"
      },
      "source": [
        "One disadvange of using the computer to do our math is that the final form might not match what we would do if we did the work on paper. In the case of the Maxwell-Boltzmann distribution, we can combine terms under one square root and obtain $$f_{v_x} = \\sqrt{\\dfrac{m}{2 \\pi k_B T}} e^ {-\\frac{m v_x^2}{2 k_B T}}$$"
      ]
    },
    {
      "cell_type": "markdown",
      "metadata": {
        "id": "eLh-MVdM6QID"
      },
      "source": [
        "#Three dimensions#\n",
        "To change to three dimensions, we realize that there is no real difference between molecules moving in any of the three dimensions so the $v_y$ function should look the same except with $v_y$ substituted for $v_x$. The overall distribution function is just the product of the three one-dimenional functions."
      ]
    },
    {
      "cell_type": "code",
      "execution_count": null,
      "metadata": {
        "id": "FhfonGnb5eRB"
      },
      "outputs": [],
      "source": [
        "mb3d=sp.Eq(fv,mbx.rhs*mbx.subs(vx,vy).rhs*mbx.subs(vx,vz).rhs)\n",
        "mb3d"
      ]
    },
    {
      "cell_type": "markdown",
      "metadata": {
        "id": "iNdqBouZtH6j"
      },
      "source": [
        "Of course, if we're looking at motion in three dimensions, we probably are much more interested in velocity in any direction rather than the three components of velocity along the axes. We can substitute $v^2=v_x^2+v_y^2+v_z^2$. "
      ]
    },
    {
      "cell_type": "code",
      "execution_count": null,
      "metadata": {
        "id": "AeugUDxCM9s9"
      },
      "outputs": [],
      "source": [
        "v=sp.symbols('v',real=True,positive=True)\n",
        "mb3d.subs(vx**2+vy**2+vz**2,v**2)"
      ]
    },
    {
      "cell_type": "code",
      "execution_count": null,
      "metadata": {
        "id": "CUSPnt2XVjmf"
      },
      "outputs": [],
      "source": [
        "sp.powsimp(mb3d.subs(vx**2+vy**2+vz**2,v**2),force=True)"
      ]
    },
    {
      "cell_type": "markdown",
      "metadata": {
        "id": "KZmJNTC0whjQ"
      },
      "source": [
        "It's not clear that we can make the substitution that we want for $v$ in sympy. We'll have to do it another way. \n",
        "\n",
        "Since $v^2=v_x^2+v_y^2+v_z^2$ and since there's no difference between the values of $v_x$, $v_y$, and $v_z$, we can just write $v^2=3 v_x^2$ or $v_x=v/\\sqrt{3}$."
      ]
    },
    {
      "cell_type": "code",
      "execution_count": null,
      "metadata": {
        "id": "JzEjRvGWWJcW"
      },
      "outputs": [],
      "source": [
        "theta,phi=sp.symbols('theta, phi')\n",
        "sp.integrate(sp.integrate(v**2*sp.sin(theta),(theta,0,sp.pi)),(phi,0,2*sp.pi))"
      ]
    },
    {
      "cell_type": "code",
      "execution_count": null,
      "metadata": {
        "id": "o92UyePlYAt3"
      },
      "outputs": [],
      "source": [
        "mb3d=sp.Eq(fv,mb3d.rhs.subs(vx,v/sp.sqrt(3)).subs(vy,v/sp.sqrt(3)).subs(vz,v/sp.sqrt(3))*4*sp.pi*v**2)\n",
        "mb3d"
      ]
    },
    {
      "cell_type": "code",
      "execution_count": null,
      "metadata": {
        "id": "8ZU1mN7PMu11"
      },
      "outputs": [],
      "source": [
        "from sympy.plotting import plot\n",
        "p=plot(mb3d.rhs.subs(kb,8.314).subs(T,298).subs(m,0.004).evalf(),(v,0,5000),show=False) # helium at 298 K\n",
        "p.extend(plot(mb3d.rhs.subs(kb,8.314).subs(T,298).subs(m,0.040).evalf(),(v,0,5000),show=False,line_color='r')) #argon at 298 K\n",
        "p.show()\n"
      ]
    },
    {
      "cell_type": "code",
      "source": [
        "pp=plot(mb3d.rhs.subs(kb,8.314).subs(T,298).subs(m,0.004).evalf(),(v,0,5000),show=False) # helium at 298 K\n",
        "pp.extend(plot(mb3d.rhs.subs(kb,8.314).subs(T,298).subs(m,0.040).evalf(),(v,0,5000),show=False,line_color='r')) #argon at 298 K\n",
        "pp.show()"
      ],
      "metadata": {
        "id": "AgatZwO9HFPF"
      },
      "execution_count": null,
      "outputs": []
    },
    {
      "cell_type": "code",
      "source": [
        "He=sp.lambdify(v,mb3d.rhs.subs(kb,8.314).subs(T,298).subs(m,0.004).evalf())\n",
        "Ar=sp.lambdify(v,mb3d.rhs.subs(kb,8.314).subs(T,298).subs(m,0.040).evalf())\n",
        "speed=np.linspace(0,5000,200)"
      ],
      "metadata": {
        "id": "AJp3Co0lKhT-"
      },
      "execution_count": null,
      "outputs": []
    },
    {
      "cell_type": "code",
      "source": [
        "plt.figure(figsize=(18,3))\n",
        "plt.plot(speed,Ar(speed) )\n",
        "plt.plot(speed,He(speed))\n",
        "plt.xticks([])\n",
        "plt.yticks([])\n",
        "plt.savefig('mbbanner.jpg')\n",
        "plt.show()"
      ],
      "metadata": {
        "id": "9ouotFqhMUrc"
      },
      "execution_count": null,
      "outputs": []
    },
    {
      "cell_type": "code",
      "source": [
        "fig,(ax1,ax2)=plt.subplots(1,2,sharey=True,figsize=(15,2))\n",
        "ax1.plot(speed,He(speed))\n",
        "ax2.plot(speed,Ar(speed))"
      ],
      "metadata": {
        "id": "ylKAdAuGJm59"
      },
      "execution_count": null,
      "outputs": []
    },
    {
      "cell_type": "code",
      "execution_count": null,
      "metadata": {
        "id": "kVsO8MImeKEn"
      },
      "outputs": [],
      "source": [
        "p1d=plot(mbx.rhs.subs(kb,8.314).subs(T,298).subs(m,0.004).evalf(),(vx,-5000,5000),show=False) # He at 298 K\n",
        "p1d.extend(plot(mbx.rhs.subs(kb,8.314).subs(T,298).subs(m,0.040).evalf(),(vx,-5000,5000),show=False,line_color='r')) # Ar at 298 K\n",
        "p1d.show()"
      ]
    },
    {
      "cell_type": "markdown",
      "metadata": {
        "id": "bFhbRUO13VWp"
      },
      "source": [
        "Make a set of graphs for Ar at 298 K vs Ar at 500 K."
      ]
    },
    {
      "cell_type": "code",
      "execution_count": null,
      "metadata": {
        "id": "cVQJONkIeJzo"
      },
      "outputs": [],
      "source": [
        ""
      ]
    },
    {
      "cell_type": "markdown",
      "metadata": {
        "id": "JYnl_xTbaXXJ"
      },
      "source": [
        "# Averages\n",
        "Now that we a distribution function that gives the fraction of molecules going each speed, we can use it to get average values.\n",
        "\n",
        "To obtain averages we need to weight each possible speed by the fraction of molecules going that speed and add up the results. In other words, $$\\left<v\\right> = \\int^{oo}_0v f(v)dv$$"
      ]
    },
    {
      "cell_type": "code",
      "execution_count": null,
      "metadata": {
        "id": "wYwkJp6fahG8"
      },
      "outputs": [],
      "source": [
        "v_avg=  sp.integrate(mb3d.rhs*v,(v,0,oo)) # average v\n",
        "v_avg"
      ]
    },
    {
      "cell_type": "markdown",
      "source": [
        "A similar technique can get the average squared (or cubed) speed."
      ],
      "metadata": {
        "id": "2153ZdX021tm"
      }
    },
    {
      "cell_type": "code",
      "execution_count": null,
      "metadata": {
        "id": "MJFqrkJPaqY_"
      },
      "outputs": [],
      "source": [
        "sp.integrate(mb3d.rhs*v**2,(v,0,oo)) # average v**2"
      ]
    },
    {
      "cell_type": "code",
      "execution_count": null,
      "metadata": {
        "id": "y7oNQBrCaud7"
      },
      "outputs": [],
      "source": [
        "sp.integrate(mb3d.rhs*v**3,(v,0,oo)) # average v**3"
      ]
    },
    {
      "cell_type": "code",
      "execution_count": null,
      "metadata": {
        "id": "g0tOBk16aw-n"
      },
      "outputs": [],
      "source": [
        "sp.integrate(mb3d.rhs*m*v**2/2,(v,0,oo)) # average kinetic energy"
      ]
    },
    {
      "cell_type": "markdown",
      "source": [
        "Averge speed along the $x-$axis..."
      ],
      "metadata": {
        "id": "dBJXgE9e3EoU"
      }
    },
    {
      "cell_type": "code",
      "execution_count": null,
      "metadata": {
        "id": "v7tnQVFzbEXh"
      },
      "outputs": [],
      "source": [
        "vx_avg=sp.integrate(mbx.rhs*vx,(vx,-oo,oo)) # average v on x-axis\n",
        "vx_avg"
      ]
    },
    {
      "cell_type": "markdown",
      "source": [
        "Average speed along the positive $x-$axis..."
      ],
      "metadata": {
        "id": "jpjU31Wz3K-c"
      }
    },
    {
      "cell_type": "code",
      "execution_count": null,
      "metadata": {
        "id": "5ihjSie-bLLD"
      },
      "outputs": [],
      "source": [
        "vx_avg_plus=sp.integrate(mbx.rhs*vx,(vx,0,oo)) # average v on + x-axis\n",
        "vx_avg_plus"
      ]
    },
    {
      "cell_type": "code",
      "execution_count": null,
      "metadata": {
        "id": "Y3zbPwC1bPc6"
      },
      "outputs": [],
      "source": [
        "vx_sqrd=sp.integrate(mbx.rhs*vx**2,(vx,-oo,oo)) # average squared on x-axis\n",
        "vx_sqrd"
      ]
    },
    {
      "cell_type": "code",
      "execution_count": null,
      "metadata": {
        "id": "EgT4Ls2HcQ0s"
      },
      "outputs": [],
      "source": [
        "Ek_avg=sp.integrate(mbx.rhs*vx**2*m/2,(vx,-oo,oo)) # average kinetic energy on x-axis\n",
        "Ek_avg"
      ]
    },
    {
      "cell_type": "markdown",
      "metadata": {
        "id": "D0JzNXNXMbrb"
      },
      "source": [
        "# Collision Frequncy\n"
      ]
    },
    {
      "cell_type": "code",
      "execution_count": null,
      "metadata": {
        "id": "M7P5Kj14MfaA"
      },
      "outputs": [],
      "source": [
        "cs,V,N1,N2=sp.symbols('sigma, V, N_1,N_2',nonnegative=True,real=True)\n",
        "from scipy.constants import Avogadro, Boltzmann\n",
        "N_A=Avogadro\n",
        "k_b=Boltzmann"
      ]
    },
    {
      "cell_type": "code",
      "execution_count": null,
      "metadata": {
        "id": "tO6hRZ22MulI"
      },
      "outputs": [],
      "source": [
        "Z1=cs*v_avg*N1/V\n",
        "Z1"
      ]
    },
    {
      "cell_type": "code",
      "execution_count": null,
      "metadata": {
        "id": "p9rVVvwWQBUc"
      },
      "outputs": [],
      "source": [
        "round(Z1.subs(N1,N_A).subs(V,.024).subs(T,298).subs(cs,pi*140e-12**2).subs(kb,k_b).subs(m,0.040/N_A).evalf(),2)"
      ]
    },
    {
      "cell_type": "code",
      "execution_count": null,
      "metadata": {
        "id": "JOBQLG1Mo9xe"
      },
      "outputs": [],
      "source": [
        "Z2=cs*v_avg*N2/V\n",
        "Z2"
      ]
    },
    {
      "cell_type": "code",
      "execution_count": null,
      "metadata": {
        "id": "Zcwin6jMoqIA"
      },
      "outputs": [],
      "source": [
        "round(Z2.subs(N2,N_A).subs(V,.024).subs(T,298).subs(cs,pi*140e-12**2).subs(kb,k_b).subs(m,0.040/N_A).evalf(),2)"
      ]
    },
    {
      "cell_type": "code",
      "execution_count": null,
      "metadata": {
        "id": "nPiOnwHSpLlh"
      },
      "outputs": [],
      "source": [
        "vr=v_avg*sp.integrate(sp.cos(theta),(theta,0,2*pi))\n",
        "vr"
      ]
    },
    {
      "cell_type": "markdown",
      "metadata": {
        "id": "LgzDGTuvA2pL"
      },
      "source": [
        "It's actually not the average velocity that we want in this application. We need the average *relative* velocity. The average relative velocity is the difference between the velocity vectors of the two molecules. $\\vec{v_{rel}}=\\vec{v_1}-\\vec{v_2}$ The magnitude of the relative velocity can be obtained from the dot product of the relative velocity with itself. $$v_{rel}=\\sqrt{\\vec{v_{rel}}\\cdot\\vec{v_{rel}}}=\\sqrt{\\left(\\vec{v_1}-\\vec{v_2}\\right)\\cdot\\left(\\vec{v_1}-\\vec{v_2}\\right)}=\\sqrt{\\vec{v_1}^2-2\\vec{v_1}\\cdot\\vec{v_2}+\\vec{v_2}^2}$$\n",
        "For random, uncorrelated velocity vectors, the $\\vec{v_1}\\cdot\\vec{v_2}=0$ so $$\\vec{v_{rel}}=\\sqrt{\\vec{v_1}^2+\\vec{v_2}^2}$$  Since the two velocity vectors are the same $$\\vec{v_{rel}}=\\sqrt{2\\vec{v_1}^2}=\\sqrt{2}\\left<v\\right>$$"
      ]
    },
    {
      "cell_type": "code",
      "execution_count": null,
      "metadata": {
        "id": "FSMuVSwxA1Do"
      },
      "outputs": [],
      "source": [
        "Z1=cs*v_avg*N1/V*sp.sqrt(2)\n",
        "Z1"
      ]
    },
    {
      "cell_type": "code",
      "execution_count": null,
      "metadata": {
        "id": "aAoEO2n9KdRj"
      },
      "outputs": [],
      "source": [
        "Z2=cs*v_avg*N2/V*sp.sqrt(2)\n",
        "Z2"
      ]
    },
    {
      "cell_type": "code",
      "execution_count": null,
      "metadata": {
        "id": "K2aLfWTuKjc-"
      },
      "outputs": [],
      "source": [
        "print(round(Z2.subs(N2,6e23).subs(V,.024).subs(T,298).subs(cs,pi*140e-12**2).subs(kb,1.38e-23).subs(m,0.040/6e23).evalf(),2),\"1/s\")"
      ]
    },
    {
      "cell_type": "code",
      "execution_count": null,
      "metadata": {
        "id": "drzeJ9u3KyQc"
      },
      "outputs": [],
      "source": [
        "Z11=N1/V*Z1/2\n",
        "Z11"
      ]
    },
    {
      "cell_type": "code",
      "execution_count": null,
      "metadata": {
        "id": "o0Bbd4N_K5hB"
      },
      "outputs": [],
      "source": [
        "print(round(Z11.subs(N2,6e23).subs(N1,6e23).subs(V,.024).subs(T,298).subs(cs,pi*140e-12**2).subs(kb,1.38e-23).subs(m,0.040/6e23).evalf(),2),\"1/s\")"
      ]
    },
    {
      "cell_type": "markdown",
      "metadata": {
        "id": "O6hmqC-feQcE"
      },
      "source": [
        "# Mean Free Path"
      ]
    },
    {
      "cell_type": "code",
      "execution_count": null,
      "metadata": {
        "id": "uiuj6QnUeYbh"
      },
      "outputs": [],
      "source": [
        "mfp,p1=sp.symbols('lambda,p_1')\n",
        "expr2=sp.Eq(mfp,v_avg/Z1)\n",
        "expr2.subs(V/N1,kb*T/p1)"
      ]
    },
    {
      "cell_type": "code",
      "execution_count": null,
      "metadata": {
        "id": "vqIPLRW_hF4i"
      },
      "outputs": [],
      "source": [
        "sp.Eq(mfp,expr2.rhs.subs(V/N1,kb*T/p1).subs(T,298).subs(p1,100000).subs(kb,1.38e-23).subs(cs,pi*140e-12**2).evalf())"
      ]
    },
    {
      "cell_type": "code",
      "execution_count": null,
      "metadata": {
        "id": "FAsXH7q0VblL"
      },
      "outputs": [],
      "source": [
        "expr2.subs(V/N1,kb*T/p1).subs(T,298).subs(p1,100000).subs(kb,1.38e-23).subs(cs,pi*140e-12**2).evalf()"
      ]
    }
  ],
  "metadata": {
    "colab": {
      "collapsed_sections": [],
      "name": "Maxwell-Boltzmann.ipynb",
      "provenance": [],
      "authorship_tag": "ABX9TyNiKk+lRUbxDO+WOXhrKgWd",
      "include_colab_link": true
    },
    "kernelspec": {
      "display_name": "Python 3",
      "name": "python3"
    },
    "language_info": {
      "name": "python"
    }
  },
  "nbformat": 4,
  "nbformat_minor": 0
}