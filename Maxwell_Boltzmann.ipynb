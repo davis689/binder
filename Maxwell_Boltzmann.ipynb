{
  "cells": [
    {
      "cell_type": "markdown",
      "metadata": {
        "id": "view-in-github",
        "colab_type": "text"
      },
      "source": [
        "<a href=\"https://colab.research.google.com/github/davis689/binder/blob/master/Maxwell_Boltzmann.ipynb\" target=\"_parent\"><img src=\"https://colab.research.google.com/assets/colab-badge.svg\" alt=\"Open In Colab\"/></a>"
      ]
    },
    {
      "cell_type": "code",
      "execution_count": 2,
      "metadata": {
        "id": "C7IcEU6Wwecu"
      },
      "outputs": [],
      "source": [
        "import sympy as sp\n",
        "from sympy import oo, exp, sin, pi\n",
        "import matplotlib.pyplot as plt\n",
        "import numpy as np\n",
        "sp.init_printing()\n"
      ]
    },
    {
      "cell_type": "markdown",
      "metadata": {
        "id": "WN4JK4GXwWeg"
      },
      "source": [
        "# Maxwell-Boltzmann distribution"
      ]
    },
    {
      "cell_type": "code",
      "execution_count": 9,
      "metadata": {
        "id": "3H_3NQ6awUXN"
      },
      "outputs": [],
      "source": [
        "eps,m,T,K=sp.symbols('varepsilon,m,T,K',positive=True,real=True)\n",
        "vx,vy,vz,fvx,fex,fv=sp.symbols('v_x,v_y,v_z,f_{v_x},f_x,f_v',real=True)\n",
        "kb=sp.symbols('k_B',constant=True,positive=True,real=True)"
      ]
    },
    {
      "cell_type": "markdown",
      "metadata": {
        "id": "wpUPxp-kgVhZ"
      },
      "source": [
        "#One dimension# \n",
        "We begin with the Boltzmann distribution in one dimension. $$f(\\varepsilon_i)=\\left(\\frac{1}{\\sum_{j=0}^{\\infty} e^{-ɛ_j/kT} }\\right)e^{-\\varepsilon_i/kT}$$ The term in parentheses is just a number and since we'll be normalizing our expression later, let's simplify this as just $K$."
      ]
    },
    {
      "cell_type": "code",
      "execution_count": null,
      "metadata": {
        "id": "BdJDfQymHlBW",
        "colab": {
          "base_uri": "https://localhost:8080/",
          "height": 40
        },
        "outputId": "1011213a-0ab6-4f7e-d0ff-7fadb7d18f7e"
      },
      "outputs": [
        {
          "output_type": "execute_result",
          "data": {
            "text/plain": [
              "             -varepsilon \n",
              "             ────────────\n",
              "                T⋅k_B    \n",
              "f_{v_x} = K⋅ℯ            "
            ],
            "image/png": "[encoded data removed]",
            "text/latex": "$\\displaystyle f_{v_x} = K e^{- \\frac{\\varepsilon}{T k_{B}}}$"
          },
          "metadata": {},
          "execution_count": 57
        }
      ],
      "source": [
        "mbx=sp.Eq(fvx,K*sp.exp(-eps/kb/T))\n",
        "mbx"
      ]
    },
    {
      "cell_type": "markdown",
      "metadata": {
        "id": "NLODOvH7h_nf"
      },
      "source": [
        "The energy levels we're going to consider here are the energies of motion, $\\frac{1}{2} m v_x^2$. Let's substitute this into our expression."
      ]
    },
    {
      "cell_type": "code",
      "execution_count": null,
      "metadata": {
        "id": "HvNX4k-3IYU1",
        "colab": {
          "base_uri": "https://localhost:8080/",
          "height": 48
        },
        "outputId": "0cbfe440-00c6-414c-e060-05162abe8d93"
      },
      "outputs": [
        {
          "output_type": "execute_result",
          "data": {
            "text/plain": [
              "                  2 \n",
              "             -m⋅vₓ  \n",
              "             ───────\n",
              "             2⋅T⋅k_B\n",
              "f_{v_x} = K⋅ℯ       "
            ],
            "image/png": "[encoded data removed]",
            "text/latex": "$\\displaystyle f_{v_x} = K e^{- \\frac{m v_{x}^{2}}{2 T k_{B}}}$"
          },
          "metadata": {},
          "execution_count": 58
        }
      ],
      "source": [
        "mbx=mbx.subs(eps,m*vx**2/2)\n",
        "mbx"
      ]
    },
    {
      "cell_type": "markdown",
      "metadata": {
        "id": "b4HpfdM-iVKm"
      },
      "source": [
        "Since we're deriving an expression for the *fraction* of molecules, we can normalize this expression to determine an expression for $K$. Since the sum of fractions over the whole range of velocities will be unity, our expression will be $$\\int^\\infty_{-\\infty}K e^{-\\frac{m v_x^2}{2k_B T}}=1$$ For the purposes *sympy*, to solve for K we need the expression to be solved to be equal to zero so we'll move the 1 over to the left hand side of the equation.\n",
        "\n",
        "Here we'll solve for the normalization coefficient and call it *norm*. We'll then substitute it for K in the Maxwell-Boltzmann expression."
      ]
    },
    {
      "cell_type": "code",
      "execution_count": null,
      "metadata": {
        "id": "9R3DShuwIVaI",
        "colab": {
          "base_uri": "https://localhost:8080/",
          "height": 62
        },
        "outputId": "0414a145-0fde-4bd5-ef71-730d05e2017f"
      },
      "outputs": [
        {
          "output_type": "execute_result",
          "data": {
            "text/plain": [
              "     √2⋅√m     \n",
              "───────────────\n",
              "          _____\n",
              "2⋅√π⋅√T⋅╲╱ k_B "
            ],
            "image/png": "[encoded data removed]",
            "text/latex": "$\\displaystyle \\frac{\\sqrt{2} \\sqrt{m}}{2 \\sqrt{\\pi} \\sqrt{T} \\sqrt{k_{B}}}$"
          },
          "metadata": {},
          "execution_count": 59
        }
      ],
      "source": [
        "norm=sp.solve(sp.integrate(mbx.rhs,(vx,-oo,oo))-1,K)[0] # solve returns a list. There is only one solution so [0] will get it.\n",
        "norm"
      ]
    },
    {
      "cell_type": "code",
      "execution_count": null,
      "metadata": {
        "id": "DgJ2m-2FLXgp",
        "colab": {
          "base_uri": "https://localhost:8080/",
          "height": 71
        },
        "outputId": "8b08158f-3378-46c8-df74-0ed7dd2dcbd8"
      },
      "outputs": [
        {
          "output_type": "execute_result",
          "data": {
            "text/plain": [
              "                       2 \n",
              "                  -m⋅vₓ  \n",
              "                  ───────\n",
              "                  2⋅T⋅k_B\n",
              "           √2⋅√m⋅ℯ       \n",
              "f_{v_x} = ───────────────\n",
              "                    _____\n",
              "          2⋅√π⋅√T⋅╲╱ k_B "
            ],
            "image/png": "[encoded data removed]",
            "text/latex": "$\\displaystyle f_{v_x} = \\frac{\\sqrt{2} \\sqrt{m} e^{- \\frac{m v_{x}^{2}}{2 T k_{B}}}}{2 \\sqrt{\\pi} \\sqrt{T} \\sqrt{k_{B}}}$"
          },
          "metadata": {},
          "execution_count": 60
        }
      ],
      "source": [
        "mbx=mbx.subs(K,norm) # substitute the normalization coefficient into the distribution\n",
        "mbx"
      ]
    },
    {
      "cell_type": "markdown",
      "metadata": {
        "id": "3GM6O0uQ5bgI"
      },
      "source": [
        "To make sure this expression is indeed normalized, we can integrate it over the whole range and we should get 1. "
      ]
    },
    {
      "cell_type": "code",
      "execution_count": null,
      "metadata": {
        "id": "2DG_oJgczhb_",
        "colab": {
          "base_uri": "https://localhost:8080/",
          "height": 37
        },
        "outputId": "5ead49ba-e8d0-46aa-b1b8-59ddc80e0422"
      },
      "outputs": [
        {
          "output_type": "execute_result",
          "data": {
            "text/plain": [
              "1"
            ],
            "image/png": "[encoded data removed]",
            "text/latex": "$\\displaystyle 1$"
          },
          "metadata": {},
          "execution_count": 61
        }
      ],
      "source": [
        "sp.integrate(mbx.rhs,(vx,-oo,oo))"
      ]
    },
    {
      "cell_type": "markdown",
      "metadata": {
        "id": "eB6uNZNirKdJ"
      },
      "source": [
        "One disadvange of using the computer to do our math is that the final form might not match what we would do if we did the work on paper. In the case of the Maxwell-Boltzmann distribution, we can combine terms under one square root and obtain $$f_{v_x} = \\sqrt{\\dfrac{m}{2 \\pi k_B T}} e^ {-\\frac{m v_x^2}{2 k_B T}}$$"
      ]
    },
    {
      "cell_type": "markdown",
      "metadata": {
        "id": "eLh-MVdM6QID"
      },
      "source": [
        "#Three dimensions#\n",
        "To change to three dimensions, we realize that there is no real difference between molecules moving in any of the three dimensions so the $v_y$ function should look the same except with $v_y$ substituted for $v_x$. The overall distribution function is just the product of the three one-dimenional functions."
      ]
    },
    {
      "cell_type": "code",
      "execution_count": null,
      "metadata": {
        "id": "FhfonGnb5eRB",
        "colab": {
          "base_uri": "https://localhost:8080/",
          "height": 78
        },
        "outputId": "dbc242d1-c99d-4abb-fc24-67319b0dc887"
      },
      "outputs": [
        {
          "output_type": "execute_result",
          "data": {
            "text/plain": [
              "                   2         2         2 \n",
              "              -m⋅vₓ    -m⋅v_y    -m⋅v_z  \n",
              "              ───────  ────────  ────────\n",
              "         3/2  2⋅T⋅k_B  2⋅T⋅k_B   2⋅T⋅k_B \n",
              "     √2⋅m   ⋅ℯ       ⋅ℯ        ⋅ℯ        \n",
              "fᵥ = ────────────────────────────────────\n",
              "                 3/2  3/2    3/2         \n",
              "              4⋅π   ⋅T   ⋅k_B            "
            ],
            "image/png": "[encoded data removed]",
            "text/latex": "$\\displaystyle f_{v} = \\frac{\\sqrt{2} m^{\\frac{3}{2}} e^{- \\frac{m v_{x}^{2}}{2 T k_{B}}} e^{- \\frac{m v_{y}^{2}}{2 T k_{B}}} e^{- \\frac{m v_{z}^{2}}{2 T k_{B}}}}{4 \\pi^{\\frac{3}{2}} T^{\\frac{3}{2}} k_{B}^{\\frac{3}{2}}}$"
          },
          "metadata": {},
          "execution_count": 62
        }
      ],
      "source": [
        "mb3d=sp.Eq(fv,mbx.rhs*mbx.subs(vx,vy).rhs*mbx.subs(vx,vz).rhs)\n",
        "mb3d"
      ]
    },
    {
      "cell_type": "markdown",
      "metadata": {
        "id": "iNdqBouZtH6j"
      },
      "source": [
        "Of course, if we're looking at motion in three dimensions, we probably are much more interested in velocity in any direction rather than the three components of velocity along the axes. We can substitute $v^2=v_x^2+v_y^2+v_z^2$. "
      ]
    },
    {
      "cell_type": "code",
      "execution_count": null,
      "metadata": {
        "id": "AeugUDxCM9s9",
        "colab": {
          "base_uri": "https://localhost:8080/",
          "height": 78
        },
        "outputId": "2d462584-f742-4214-9a87-43166d8e26fb"
      },
      "outputs": [
        {
          "output_type": "execute_result",
          "data": {
            "text/plain": [
              "                   2         2         2 \n",
              "              -m⋅vₓ    -m⋅v_y    -m⋅v_z  \n",
              "              ───────  ────────  ────────\n",
              "         3/2  2⋅T⋅k_B  2⋅T⋅k_B   2⋅T⋅k_B \n",
              "     √2⋅m   ⋅ℯ       ⋅ℯ        ⋅ℯ        \n",
              "fᵥ = ────────────────────────────────────\n",
              "                 3/2  3/2    3/2         \n",
              "              4⋅π   ⋅T   ⋅k_B            "
            ],
            "image/png": "[encoded data removed]",
            "text/latex": "$\\displaystyle f_{v} = \\frac{\\sqrt{2} m^{\\frac{3}{2}} e^{- \\frac{m v_{x}^{2}}{2 T k_{B}}} e^{- \\frac{m v_{y}^{2}}{2 T k_{B}}} e^{- \\frac{m v_{z}^{2}}{2 T k_{B}}}}{4 \\pi^{\\frac{3}{2}} T^{\\frac{3}{2}} k_{B}^{\\frac{3}{2}}}$"
          },
          "metadata": {},
          "execution_count": 63
        }
      ],
      "source": [
        "v,dv=sp.symbols('v,dv',real=True,positive=True)\n",
        "mb3d.subs(vx**2+vy**2+vz**2,v**2)"
      ]
    },
    {
      "cell_type": "code",
      "execution_count": null,
      "metadata": {
        "id": "CUSPnt2XVjmf",
        "colab": {
          "base_uri": "https://localhost:8080/",
          "height": 78
        },
        "outputId": "e342d681-9a67-4446-f85f-42f4d9d37fbe"
      },
      "outputs": [
        {
          "output_type": "execute_result",
          "data": {
            "text/plain": [
              "                   2         2         2 \n",
              "              -m⋅vₓ    -m⋅v_y    -m⋅v_z  \n",
              "              ───────  ────────  ────────\n",
              "         3/2  2⋅T⋅k_B  2⋅T⋅k_B   2⋅T⋅k_B \n",
              "     √2⋅m   ⋅ℯ       ⋅ℯ        ⋅ℯ        \n",
              "fᵥ = ────────────────────────────────────\n",
              "                 3/2  3/2    3/2         \n",
              "              4⋅π   ⋅T   ⋅k_B            "
            ],
            "image/png": "[encoded data removed]",
            "text/latex": "$\\displaystyle f_{v} = \\frac{\\sqrt{2} m^{\\frac{3}{2}} e^{- \\frac{m v_{x}^{2}}{2 T k_{B}}} e^{- \\frac{m v_{y}^{2}}{2 T k_{B}}} e^{- \\frac{m v_{z}^{2}}{2 T k_{B}}}}{4 \\pi^{\\frac{3}{2}} T^{\\frac{3}{2}} k_{B}^{\\frac{3}{2}}}$"
          },
          "metadata": {},
          "execution_count": 64
        }
      ],
      "source": [
        "sp.powsimp(mb3d.subs(vx**2+vy**2+vz**2,v**2),force=True)"
      ]
    },
    {
      "cell_type": "markdown",
      "metadata": {
        "id": "KZmJNTC0whjQ"
      },
      "source": [
        "It's not clear that we can make the substitution that we want for $v$ in sympy. We'll have to do it another way. \n",
        "\n",
        "Since $v^2=v_x^2+v_y^2+v_z^2$ and since there's no difference between the values of $v_x$, $v_y$, and $v_z$, we can just write $v^2=3 v_x^2$ or $v_x=v/\\sqrt{3}$."
      ]
    },
    {
      "cell_type": "code",
      "execution_count": null,
      "metadata": {
        "id": "o92UyePlYAt3",
        "colab": {
          "base_uri": "https://localhost:8080/",
          "height": 74
        },
        "outputId": "d9834538-5b17-44b2-8aa2-3cbf0396a07a"
      },
      "outputs": [
        {
          "output_type": "execute_result",
          "data": {
            "text/plain": [
              "                    2  \n",
              "                -m⋅v   \n",
              "               ─────── \n",
              "          3/2  2⋅T⋅k_B \n",
              "      √2⋅m   ⋅ℯ        \n",
              "fᵥ = ──────────────────\n",
              "        3/2  3/2    3/2\n",
              "     4⋅π   ⋅T   ⋅k_B   "
            ],
            "image/png": "[encoded data removed]",
            "text/latex": "$\\displaystyle f_{v} = \\frac{\\sqrt{2} m^{\\frac{3}{2}} e^{- \\frac{m v^{2}}{2 T k_{B}}}}{4 \\pi^{\\frac{3}{2}} T^{\\frac{3}{2}} k_{B}^{\\frac{3}{2}}}$"
          },
          "metadata": {},
          "execution_count": 65
        }
      ],
      "source": [
        "mb3d=sp.Eq(fv,mb3d.rhs.subs(vx,v/sp.sqrt(3)).subs(vy,v/sp.sqrt(3)).subs(vz,v/sp.sqrt(3)))\n",
        "mb3d"
      ]
    },
    {
      "cell_type": "markdown",
      "source": [
        "In actuality our function equation is multiplied on both sides by infinitessimals. Our fraction in terms of velocity components should actually be written as $$f_vdv_xdv_ydv_z=\\dfrac{\\sqrt{2}m^{3/2}e^{mv_x^2/2k_BT}e^{mv_y^2/2k_BT}e^{mv_z^2/2k_BT}}{(4\\pi k_BT)^{3/2}}dv_xdv_ydv_z$$\n",
        "When we switch over to $v$, we're effectively switching to spherical polar coordinates. Two of our three variables become the angles $\\theta$ and $\\phi$.\n",
        "To allow us to focus on only the magnitude of $v$, we integrate over all possible angles and fold this into $f_v$."
      ],
      "metadata": {
        "id": "-L10OoqeoYTi"
      }
    },
    {
      "cell_type": "code",
      "execution_count": null,
      "metadata": {
        "id": "JzEjRvGWWJcW",
        "colab": {
          "base_uri": "https://localhost:8080/",
          "height": 38
        },
        "outputId": "a8c11aa9-ba28-4706-f9d5-9586d438b020"
      },
      "outputs": [
        {
          "output_type": "execute_result",
          "data": {
            "text/plain": [
              "     2\n",
              "4⋅π⋅v "
            ],
            "image/png": "[encoded data removed]",
            "text/latex": "$\\displaystyle 4 \\pi v^{2}$"
          },
          "metadata": {},
          "execution_count": 66
        }
      ],
      "source": [
        "theta,phi=sp.symbols('theta, phi')\n",
        "anglefactor=sp.integrate(sp.integrate(v**2*sp.sin(theta),(theta,0,sp.pi)),(phi,0,2*sp.pi))\n",
        "anglefactor"
      ]
    },
    {
      "cell_type": "code",
      "source": [
        "mb3d=sp.Eq(mb3d.lhs,mb3d.rhs*anglefactor)\n",
        "mb3d"
      ],
      "metadata": {
        "colab": {
          "base_uri": "https://localhost:8080/",
          "height": 74
        },
        "id": "8GlU5op-qpua",
        "outputId": "6a751fd1-d161-43d4-f69a-8ad32ae97981"
      },
      "execution_count": null,
      "outputs": [
        {
          "output_type": "execute_result",
          "data": {
            "text/plain": [
              "                      2 \n",
              "                  -m⋅v  \n",
              "                 ───────\n",
              "         3/2  2  2⋅T⋅k_B\n",
              "     √2⋅m   ⋅v ⋅ℯ       \n",
              "fᵥ = ───────────────────\n",
              "            3/2    3/2  \n",
              "        √π⋅T   ⋅k_B     "
            ],
            "image/png": "[encoded data removed]",
            "text/latex": "$\\displaystyle f_{v} = \\frac{\\sqrt{2} m^{\\frac{3}{2}} v^{2} e^{- \\frac{m v^{2}}{2 T k_{B}}}}{\\sqrt{\\pi} T^{\\frac{3}{2}} k_{B}^{\\frac{3}{2}}}$"
          },
          "metadata": {},
          "execution_count": 67
        }
      ]
    },
    {
      "cell_type": "markdown",
      "source": [
        "##Graphing Interlude\n",
        "\n",
        "You may already know how to plot in sympy. You may skip to the next section. If you know how to plot in matplotlib, that is different and you may find the following useful.\n",
        "\n",
        "In order to plot our functions we need to add a a plot function to our repertoire. `from sympy.plotting import plot` gets us this function.\n",
        "\n",
        "Enter that here."
      ],
      "metadata": {
        "id": "_nRSIV0argXF"
      }
    },
    {
      "cell_type": "code",
      "source": [
        ""
      ],
      "metadata": {
        "id": "5MkBTH5ttUBK"
      },
      "execution_count": null,
      "outputs": []
    },
    {
      "cell_type": "markdown",
      "source": [
        "Now if we want to plot a equation, let's say, it's $y=a x^2 + b x + c$, we can do that. First define the variables. We can but don't have tell sympy to assume that they're real, positive, etc. That's useful if you're integrating complicated expressions or simplifying things. Here we'll skip that part and just define the symbols. Next define the equation. Enter the left-hand-side in front of the comma and the right-hand-side after it."
      ],
      "metadata": {
        "id": "rchw2AVBtZSP"
      }
    },
    {
      "cell_type": "code",
      "source": [
        "y,x,a,b,c=sp.symbols('y,x,a,b,c')\n",
        "q_eq=sp.Eq( y, a*x**2+b*x+c) #named q_eq because it's a quadratic equation but we can call it whatever we want."
      ],
      "metadata": {
        "id": "6j5yqSAduCj7"
      },
      "execution_count": null,
      "outputs": []
    },
    {
      "cell_type": "markdown",
      "source": [
        "Now we're ready to plot but we'll need to know what $a$, $b$, and $c$ are. If we just define these variables, we'll have ruined the generality of our equation until we undefine the variables. It's useful to have a function to substitute values into our equation without actually changing the equation. We can do that with `subs`. We can substitute a=2 into the right-hand-side of the equation with `q_eq.rhs.subs(a,2)`. If we want b=-1 and c=4, just append `.subs(b,-1).subs(c,4)` to the end of that. Do that below and call the new expression q_eq1 and display the results."
      ],
      "metadata": {
        "id": "Chf-43SqtUwa"
      }
    },
    {
      "cell_type": "code",
      "source": [
        ""
      ],
      "metadata": {
        "colab": {
          "base_uri": "https://localhost:8080/",
          "height": 38
        },
        "id": "D4_n_X6Cv4wo",
        "outputId": "8eafd089-c818-4f8b-d7a2-8aae7faeee9a"
      },
      "execution_count": null,
      "outputs": [
        {
          "output_type": "execute_result",
          "data": {
            "text/plain": [
              " 2          \n",
              "x  + 4⋅x + 7"
            ],
            "image/png": "[encoded data removed]",
            "text/latex": "$\\displaystyle x^{2} + 4 x + 7$"
          },
          "metadata": {},
          "execution_count": 103
        }
      ]
    },
    {
      "cell_type": "markdown",
      "source": [
        "Now that we have an expression, we can plot it with `plot(expression,(indep variable,lowerlimit,upperlimit))`\n",
        "\n",
        "Do this for our q_eq1 for $x$ from -3 to 3."
      ],
      "metadata": {
        "id": "v6YLJDE9wdKW"
      }
    },
    {
      "cell_type": "code",
      "source": [
        ""
      ],
      "metadata": {
        "id": "JIeZkxVawGOE"
      },
      "execution_count": null,
      "outputs": []
    },
    {
      "cell_type": "markdown",
      "source": [
        "You notice some gobbledygook at the botton of the plot. We can get rid of this but just assigning our plot to a name (here let's name it `qplot`) and ending our plot code with `qplot.show()`. "
      ],
      "metadata": {
        "id": "5A0b2H8Mw3HQ"
      }
    },
    {
      "cell_type": "code",
      "source": [
        "qplot=plot() # complete the plot command\n",
        "qplot.show()"
      ],
      "metadata": {
        "id": "nU-oEprBxRdS"
      },
      "execution_count": null,
      "outputs": []
    },
    {
      "cell_type": "markdown",
      "source": [
        "We don't actually have to define a new expression and substitute it before we can plot. We can do it all in the plot command. Here we'll add a second quadratic equation to our plot. Let's use a=1, b=4, and c=7. \n",
        "\n",
        "`plot(q_eq.rhs.subs()...`\n",
        "\n",
        "We can plot an additional curve on our original plot by putting our plot command inside the parentheses in `qplot.extend()`. Do this."
      ],
      "metadata": {
        "id": "VaPlL-lKxgod"
      }
    },
    {
      "cell_type": "code",
      "source": [
        ""
      ],
      "metadata": {
        "id": "aUVAeqXqyl2c"
      },
      "execution_count": null,
      "outputs": []
    },
    {
      "cell_type": "markdown",
      "source": [
        "The plot command probably worked but made two plots instead of one. We can make it combine them by telling the plot function to hold off plotting until we're all done. Do this by adding `,show=False` after the plot command (but inside the parentheses). \n",
        "\n",
        "We can also make the plot colors distinct by appending `,line_color='r'` where the 'r' is for red. Other colors are \n",
        "\n",
        "*  b: blue\n",
        "*  g: green\n",
        "*  c: cyan\n",
        "*  m: magenta\n",
        "*  y: yellow\n",
        "*  k: black\n",
        "\n",
        "\n"
      ],
      "metadata": {
        "id": "POjHpUwszzvN"
      }
    },
    {
      "cell_type": "markdown",
      "source": [
        "Make these changes"
      ],
      "metadata": {
        "id": "OGgrtQn3085E"
      }
    },
    {
      "cell_type": "code",
      "source": [
        ""
      ],
      "metadata": {
        "id": "DhRUkMec08Ko"
      },
      "execution_count": null,
      "outputs": []
    },
    {
      "cell_type": "markdown",
      "source": [
        "We can also do things like change the axis labels. `,xlabel('distance (m)')` would add information to the label. `,ylabel('velocity (m/s)'` does the same thing for the $y$-axis. We only need to do this in the first plot command.\n",
        "\n",
        "We can label each of our two plots with descriptive information using `,label='water at 298 K'` or whatever. The adding `,legend=True` will show the label for each graph."
      ],
      "metadata": {
        "id": "-eZqiYju1n03"
      }
    },
    {
      "cell_type": "markdown",
      "source": [
        "##Graphing Maxwell-Boltzmann"
      ],
      "metadata": {
        "id": "x6Q2PUUarkWo"
      }
    },
    {
      "cell_type": "code",
      "source": [
        "from sympy.plotting import plot # We don't need this if we've already done it in the previous section but it doesn't hurt anything\n",
        "from scipy.constants import Avogadro, Boltzmann\n",
        "k_b=Boltzmann # we can use k_b (not kb) to get the value of the Boltzmann constant\n",
        "NA=Avogadro"
      ],
      "metadata": {
        "id": "LxAaf001ys-3"
      },
      "execution_count": 7,
      "outputs": []
    },
    {
      "cell_type": "markdown",
      "source": [
        "Now let's plot our distribution functions starting with the one-dimensional Maxwell-Boltzmann distribution. We called it `mbx`. Here it is."
      ],
      "metadata": {
        "id": "v5fpLfavyqM7"
      }
    },
    {
      "cell_type": "code",
      "source": [
        "mbx"
      ],
      "metadata": {
        "colab": {
          "base_uri": "https://localhost:8080/",
          "height": 71
        },
        "id": "P0Sg2S96zJW7",
        "outputId": "7232a734-6482-432e-f546-28ea2a564b5d"
      },
      "execution_count": null,
      "outputs": [
        {
          "output_type": "execute_result",
          "data": {
            "text/plain": [
              "                       2 \n",
              "                  -m⋅vₓ  \n",
              "                  ───────\n",
              "                  2⋅T⋅k_B\n",
              "           √2⋅√m⋅ℯ       \n",
              "f_{v_x} = ───────────────\n",
              "                    _____\n",
              "          2⋅√π⋅√T⋅╲╱ k_B "
            ],
            "image/png": "[encoded data removed]",
            "text/latex": "$\\displaystyle f_{v_x} = \\frac{\\sqrt{2} \\sqrt{m} e^{- \\frac{m v_{x}^{2}}{2 T k_{B}}}}{2 \\sqrt{\\pi} \\sqrt{T} \\sqrt{k_{B}}}$"
          },
          "metadata": {},
          "execution_count": 105
        }
      ]
    },
    {
      "cell_type": "markdown",
      "source": [
        "There are a number of substitutions that need to be made. If we want to use molar masses instead of molecular masses, we can use $R$ (8.314 J/molK) instead of $k_B$. Remember to use kg for mass. Plot at 298 K for He between -3000 and 3000 m/s and add a plot for Ar in the same limits."
      ],
      "metadata": {
        "id": "IvulhYFyzLMo"
      }
    },
    {
      "cell_type": "code",
      "execution_count": null,
      "metadata": {
        "id": "kVsO8MImeKEn"
      },
      "outputs": [],
      "source": [
        ""
      ]
    },
    {
      "cell_type": "markdown",
      "source": [
        "Do this again for He at 150 K, 300 K, and 450 K."
      ],
      "metadata": {
        "id": "w8VIMwaq5iUB"
      }
    },
    {
      "cell_type": "code",
      "source": [
        ""
      ],
      "metadata": {
        "id": "nmGKm_5z56SG"
      },
      "execution_count": null,
      "outputs": []
    },
    {
      "cell_type": "markdown",
      "source": [
        "Now do a similar comparison series for the three-dimensional Maxwell-Boltzmann distribution, `mb3d`. Plot between 0 and 5000 m/s."
      ],
      "metadata": {
        "id": "5DdaqgEe5-qI"
      }
    },
    {
      "cell_type": "code",
      "source": [
        ""
      ],
      "metadata": {
        "id": "AgatZwO9HFPF"
      },
      "execution_count": null,
      "outputs": []
    },
    {
      "cell_type": "markdown",
      "source": [
        "##making funtions on the fly\n"
      ],
      "metadata": {
        "id": "wfcou0uJ6Z61"
      }
    },
    {
      "cell_type": "code",
      "source": [
        "He=sp.lambdify(v,mb3d.rhs.subs(kb,8.314).subs(T,298).subs(m,0.004).evalf())\n",
        "Ar=sp.lambdify(v,mb3d.rhs.subs(kb,8.314).subs(T,298).subs(m,0.040).evalf())\n",
        "speed=np.linspace(0,5000,200)"
      ],
      "metadata": {
        "id": "AJp3Co0lKhT-"
      },
      "execution_count": null,
      "outputs": []
    },
    {
      "cell_type": "code",
      "source": [
        "plt.figure(figsize=(18,3))\n",
        "plt.plot(speed,Ar(speed) )\n",
        "plt.plot(speed,He(speed))\n",
        "plt.xticks([])\n",
        "plt.yticks([])\n",
        "plt.savefig('mbbanner.jpg')\n",
        "plt.show()"
      ],
      "metadata": {
        "id": "9ouotFqhMUrc",
        "colab": {
          "base_uri": "https://localhost:8080/",
          "height": 197
        },
        "outputId": "35f94e6a-9387-4026-cff9-ab72ca70f00e"
      },
      "execution_count": null,
      "outputs": [
        {
          "output_type": "display_data",
          "data": {
            "text/plain": [
              "<Figure size 1296x216 with 1 Axes>"
            ],
            "image/png": "[encoded data removed]"
          },
          "metadata": {}
        }
      ]
    },
    {
      "cell_type": "code",
      "source": [
        "fig,(ax1,ax2)=plt.subplots(1,2,sharey=True,figsize=(15,2))\n",
        "ax1.plot(speed,He(speed))\n",
        "ax2.plot(speed,Ar(speed))"
      ],
      "metadata": {
        "id": "ylKAdAuGJm59",
        "colab": {
          "base_uri": "https://localhost:8080/",
          "height": 174
        },
        "outputId": "2d226812-3966-4a44-e457-e9eb2a4ce752"
      },
      "execution_count": null,
      "outputs": [
        {
          "output_type": "execute_result",
          "data": {
            "text/plain": [
              "[<matplotlib.lines.Line2D at 0x7f77e7351bd0>]"
            ]
          },
          "metadata": {},
          "execution_count": 72
        },
        {
          "output_type": "display_data",
          "data": {
            "text/plain": [
              "<Figure size 1080x144 with 2 Axes>"
            ],
            "image/png": "[encoded data removed]"
          },
          "metadata": {
            "needs_background": "light"
          }
        }
      ]
    },
    {
      "cell_type": "markdown",
      "metadata": {
        "id": "bFhbRUO13VWp"
      },
      "source": [
        "Make a set of graphs for Ar at 298 K vs Ar at 500 K."
      ]
    },
    {
      "cell_type": "code",
      "execution_count": null,
      "metadata": {
        "id": "cVQJONkIeJzo"
      },
      "outputs": [],
      "source": [
        ""
      ]
    },
    {
      "cell_type": "markdown",
      "metadata": {
        "id": "JYnl_xTbaXXJ"
      },
      "source": [
        "# Averages\n",
        "Now that we a distribution function that gives the fraction of molecules going each speed, we can use it to get average values.\n",
        "\n",
        "To obtain averages we need to weight each possible speed by the fraction of molecules going that speed and add up the results. In other words, $$\\left<v\\right> = \\int^{oo}_0v f(v)dv$$"
      ]
    },
    {
      "cell_type": "markdown",
      "source": [
        "To integrate use `sp.integrate(expression,(indepvariable,lowerlimit,upperlimit))`\n",
        "Find an expression for the average speed of molecules moving in three-dimensions."
      ],
      "metadata": {
        "id": "jXNMC--y7MqQ"
      }
    },
    {
      "cell_type": "code",
      "execution_count": null,
      "metadata": {
        "id": "wYwkJp6fahG8"
      },
      "outputs": [],
      "source": [
        ""
      ]
    },
    {
      "cell_type": "markdown",
      "source": [
        "Use `subs` to find a value for the average speed for He and for Ar at 298 K."
      ],
      "metadata": {
        "id": "0yqjVbeO7sTY"
      }
    },
    {
      "cell_type": "code",
      "source": [
        ""
      ],
      "metadata": {
        "id": "CL64Z1747x1-"
      },
      "execution_count": null,
      "outputs": []
    },
    {
      "cell_type": "markdown",
      "source": [
        "Do the same for the $x$-component of the velocity. What are the limits in this case?"
      ],
      "metadata": {
        "id": "xiuG87pq8WXn"
      }
    },
    {
      "cell_type": "code",
      "source": [
        ""
      ],
      "metadata": {
        "id": "ZXCwgoq88e8S"
      },
      "execution_count": null,
      "outputs": []
    },
    {
      "cell_type": "markdown",
      "source": [
        "Do it again for only positive values of velocity. (or negative ones)."
      ],
      "metadata": {
        "id": "wjNJYV8K8gcG"
      }
    },
    {
      "cell_type": "code",
      "source": [
        ""
      ],
      "metadata": {
        "id": "gc0szV8i8lf1"
      },
      "execution_count": null,
      "outputs": []
    },
    {
      "cell_type": "markdown",
      "source": [
        "A similar technique can get the average squared speed in 1D and 3D."
      ],
      "metadata": {
        "id": "2153ZdX021tm"
      }
    },
    {
      "cell_type": "code",
      "execution_count": null,
      "metadata": {
        "id": "MJFqrkJPaqY_"
      },
      "outputs": [],
      "source": [
        ""
      ]
    },
    {
      "cell_type": "markdown",
      "source": [
        "Find an expression for the average cubed speed. Not that anyone cares about this but we can do it just the same."
      ],
      "metadata": {
        "id": "Ln_-w6Tb72Ne"
      }
    },
    {
      "cell_type": "code",
      "execution_count": null,
      "metadata": {
        "id": "y7oNQBrCaud7"
      },
      "outputs": [],
      "source": [
        ""
      ]
    },
    {
      "cell_type": "markdown",
      "source": [
        "The average kinetic energy expression should work just the same. Find this expression too for 1D and 3D."
      ],
      "metadata": {
        "id": "sUzbypN68At8"
      }
    },
    {
      "cell_type": "code",
      "execution_count": null,
      "metadata": {
        "id": "g0tOBk16aw-n"
      },
      "outputs": [],
      "source": [
        "      # average kinetic energy"
      ]
    },
    {
      "cell_type": "markdown",
      "metadata": {
        "id": "D0JzNXNXMbrb"
      },
      "source": [
        "# Collision Frequncy\n"
      ]
    },
    {
      "cell_type": "code",
      "source": [
        "cs,N1,N2,V=sp.symbols('sigma,N_1,N_2,V')"
      ],
      "metadata": {
        "id": "HGaNQEvC9jK4"
      },
      "execution_count": 3,
      "outputs": []
    },
    {
      "cell_type": "markdown",
      "source": [
        "Define `v_avg` to be the average speed in three dimensions."
      ],
      "metadata": {
        "id": "gsAb-lPM-5w-"
      }
    },
    {
      "cell_type": "markdown",
      "source": [
        ""
      ],
      "metadata": {
        "id": "ZcHJOkvd_DNv"
      }
    },
    {
      "cell_type": "markdown",
      "source": [
        "The collision frequency is the cross-sectional area multiplied by the average speed multiplied by the density of molecules."
      ],
      "metadata": {
        "id": "FpbAd7_r9To3"
      }
    },
    {
      "cell_type": "code",
      "execution_count": null,
      "metadata": {
        "id": "tO6hRZ22MulI"
      },
      "outputs": [],
      "source": [
        "Z1=cs*v_avg*N1/V\n",
        "Z1"
      ]
    },
    {
      "cell_type": "markdown",
      "source": [
        "Find the collision frequency of an Ar atom at 298 in one mole of Ar in a 24 L container. The $\\sigma$ of Ar is 140 pm."
      ],
      "metadata": {
        "id": "cvCFYRa0BK0K"
      }
    },
    {
      "cell_type": "code",
      "execution_count": null,
      "metadata": {
        "id": "p9rVVvwWQBUc"
      },
      "outputs": [],
      "source": [
        ""
      ]
    },
    {
      "cell_type": "markdown",
      "source": [
        "The collision frequency of a second type of molecule with the original molecules would be just the same except multiplied by "
      ],
      "metadata": {
        "id": "MBYMTBvSDwed"
      }
    },
    {
      "cell_type": "code",
      "execution_count": null,
      "metadata": {
        "id": "JOBQLG1Mo9xe",
        "colab": {
          "base_uri": "https://localhost:8080/",
          "height": 60
        },
        "outputId": "c372a924-9f52-482b-dc24-1f159bb93703"
      },
      "outputs": [
        {
          "output_type": "execute_result",
          "data": {
            "text/plain": [
              "             _____  \n",
              "2⋅√2⋅N₂⋅√T⋅╲╱ k_B ⋅σ\n",
              "────────────────────\n",
              "      √π⋅V⋅√m       "
            ],
            "image/png": "[encoded data removed]",
            "text/latex": "$\\displaystyle \\frac{2 \\sqrt{2} N_{2} \\sqrt{T} \\sqrt{k_{B}} \\sigma}{\\sqrt{\\pi} V \\sqrt{m}}$"
          },
          "metadata": {},
          "execution_count": 85
        }
      ],
      "source": [
        "Z2=cs*v_avg*N2/V\n",
        "Z2"
      ]
    },
    {
      "cell_type": "code",
      "execution_count": null,
      "metadata": {
        "id": "Zcwin6jMoqIA",
        "colab": {
          "base_uri": "https://localhost:8080/",
          "height": 37
        },
        "outputId": "bf8a1901-0e88-4672-bdd4-a884a71d4534"
      },
      "outputs": [
        {
          "output_type": "execute_result",
          "data": {
            "text/plain": [
              "613636085.44"
            ],
            "image/png": "[encoded data removed]",
            "text/latex": "$\\displaystyle 613636085.44$"
          },
          "metadata": {},
          "execution_count": 86
        }
      ],
      "source": [
        "round(Z2.subs(N2,Avogadro).subs(V,.024).subs(T,298).subs(cs,pi*140e-12**2).subs(kb,Boltzmann).subs(m,0.040/Avogadro).evalf(),2)"
      ]
    },
    {
      "cell_type": "code",
      "execution_count": null,
      "metadata": {
        "id": "nPiOnwHSpLlh",
        "colab": {
          "base_uri": "https://localhost:8080/",
          "height": 37
        },
        "outputId": "9f286141-e575-43e2-8d8a-37ce13cdd441"
      },
      "outputs": [
        {
          "output_type": "execute_result",
          "data": {
            "text/plain": [
              "0"
            ],
            "image/png": "[encoded data removed]",
            "text/latex": "$\\displaystyle 0$"
          },
          "metadata": {},
          "execution_count": 87
        }
      ],
      "source": [
        "vr=v_avg*sp.integrate(sp.cos(theta),(theta,0,2*pi))\n",
        "vr"
      ]
    },
    {
      "cell_type": "markdown",
      "metadata": {
        "id": "LgzDGTuvA2pL"
      },
      "source": [
        "It's actually not the average velocity that we want in this application. We need the average *relative* velocity. The average relative velocity is the difference between the velocity vectors of the two molecules. $\\vec{v_{rel}}=\\vec{v_1}-\\vec{v_2}$ The magnitude of the relative velocity can be obtained from the dot product of the relative velocity with itself. $$v_{rel}=\\sqrt{\\vec{v_{rel}}\\cdot\\vec{v_{rel}}}=\\sqrt{\\left(\\vec{v_1}-\\vec{v_2}\\right)\\cdot\\left(\\vec{v_1}-\\vec{v_2}\\right)}=\\sqrt{\\vec{v_1}^2-2\\vec{v_1}\\cdot\\vec{v_2}+\\vec{v_2}^2}$$\n",
        "For random, uncorrelated velocity vectors, the $\\vec{v_1}\\cdot\\vec{v_2}=0$ so $$\\vec{v_{rel}}=\\sqrt{\\vec{v_1}^2+\\vec{v_2}^2}$$  Since the two velocity vectors are the same $$\\vec{v_{rel}}=\\sqrt{2\\vec{v_1}^2}=\\sqrt{2}\\left<v\\right>$$"
      ]
    },
    {
      "cell_type": "code",
      "execution_count": null,
      "metadata": {
        "id": "FSMuVSwxA1Do"
      },
      "outputs": [],
      "source": [
        "Z1=cs*v_avg*sp.sqrt(2)*N1/V\n",
        "Z1"
      ]
    },
    {
      "cell_type": "code",
      "execution_count": null,
      "metadata": {
        "id": "aAoEO2n9KdRj",
        "colab": {
          "base_uri": "https://localhost:8080/",
          "height": 60
        },
        "outputId": "2a7a4e25-0f99-4016-b298-9444549a55a8"
      },
      "outputs": [
        {
          "output_type": "execute_result",
          "data": {
            "text/plain": [
              "          _____  \n",
              "4⋅N₂⋅√T⋅╲╱ k_B ⋅σ\n",
              "─────────────────\n",
              "     √π⋅V⋅√m     "
            ],
            "image/png": "[encoded data removed]",
            "text/latex": "$\\displaystyle \\frac{4 N_{2} \\sqrt{T} \\sqrt{k_{B}} \\sigma}{\\sqrt{\\pi} V \\sqrt{m}}$"
          },
          "metadata": {},
          "execution_count": 89
        }
      ],
      "source": [
        "Z2=cs*v_avg*sp.sqrt(2)*N2/V\n",
        "Z2"
      ]
    },
    {
      "cell_type": "code",
      "execution_count": null,
      "metadata": {
        "id": "K2aLfWTuKjc-",
        "colab": {
          "base_uri": "https://localhost:8080/"
        },
        "outputId": "8d3dc05f-5b5a-476a-fcc2-b5392b148b44"
      },
      "outputs": [
        {
          "output_type": "stream",
          "name": "stdout",
          "text": [
            "862828163.58 1/s\n"
          ]
        }
      ],
      "source": [
        "print(round(Z2.subs(N2,Avogadro).subs(V,.024).subs(T,298).subs(cs,pi*140e-12**2).subs(kb,Boltzmann).subs(m,0.040/Avogadro).evalf(),2),\"1/s\")"
      ]
    },
    {
      "cell_type": "code",
      "execution_count": null,
      "metadata": {
        "id": "drzeJ9u3KyQc",
        "colab": {
          "base_uri": "https://localhost:8080/",
          "height": 60
        },
        "outputId": "e9909703-a8d8-4358-fe87-c7887b482816"
      },
      "outputs": [
        {
          "output_type": "execute_result",
          "data": {
            "text/plain": [
              "    2      _____  \n",
              "2⋅N₁ ⋅√T⋅╲╱ k_B ⋅σ\n",
              "──────────────────\n",
              "         2        \n",
              "     √π⋅V ⋅√m     "
            ],
            "image/png": "[encoded data removed]",
            "text/latex": "$\\displaystyle \\frac{2 N_{1}^{2} \\sqrt{T} \\sqrt{k_{B}} \\sigma}{\\sqrt{\\pi} V^{2} \\sqrt{m}}$"
          },
          "metadata": {},
          "execution_count": 91
        }
      ],
      "source": [
        "Z11=N1/V*Z1/2\n",
        "Z11"
      ]
    },
    {
      "cell_type": "code",
      "execution_count": null,
      "metadata": {
        "id": "o0Bbd4N_K5hB"
      },
      "outputs": [],
      "source": [
        "print(round(Z11.subs(N2,Avogadro).subs(N1,Avogadro).subs(V,.024).subs(T,298).subs(cs,pi*140e-12**2).subs(kb,Boltzmann).subs(m,0.040/Avogadro).evalf(),2),\"1/s\")"
      ]
    },
    {
      "cell_type": "markdown",
      "metadata": {
        "id": "O6hmqC-feQcE"
      },
      "source": [
        "# Mean Free Path"
      ]
    },
    {
      "cell_type": "code",
      "execution_count": null,
      "metadata": {
        "id": "uiuj6QnUeYbh",
        "colab": {
          "base_uri": "https://localhost:8080/",
          "height": 59
        },
        "outputId": "3a8b59fc-bc51-4b46-fd13-391ac39e9abe"
      },
      "outputs": [
        {
          "output_type": "execute_result",
          "data": {
            "text/plain": [
              "    √2⋅T⋅k_B\n",
              "λ = ────────\n",
              "     2⋅p₁⋅σ "
            ],
            "image/png": "[encoded data removed]",
            "text/latex": "$\\displaystyle \\lambda = \\frac{\\sqrt{2} T k_{B}}{2 p_{1} \\sigma}$"
          },
          "metadata": {},
          "execution_count": 93
        }
      ],
      "source": [
        "mfp,p1=sp.symbols('lambda,p_1')\n",
        "expr2=sp.Eq(mfp,v_avg/Z1)\n",
        "expr2.subs(V/N1,kb*T/p1)"
      ]
    },
    {
      "cell_type": "code",
      "execution_count": null,
      "metadata": {
        "id": "vqIPLRW_hF4i",
        "colab": {
          "base_uri": "https://localhost:8080/",
          "height": 38
        },
        "outputId": "4cf4c59b-d25e-45fc-fdcb-b976c2be0072"
      },
      "outputs": [
        {
          "output_type": "execute_result",
          "data": {
            "text/plain": [
              "λ = 4.72252655429143e-7"
            ],
            "image/png": "[encoded data removed]",
            "text/latex": "$\\displaystyle \\lambda = 4.72252655429143 \\cdot 10^{-7}$"
          },
          "metadata": {},
          "execution_count": 94
        }
      ],
      "source": [
        "sp.Eq(mfp,expr2.rhs.subs(V/N1,kb*T/p1).subs(T,298).subs(p1,100000).subs(kb,1.38e-23).subs(cs,pi*140e-12**2).evalf())"
      ]
    },
    {
      "cell_type": "code",
      "execution_count": null,
      "metadata": {
        "id": "FAsXH7q0VblL",
        "colab": {
          "base_uri": "https://localhost:8080/",
          "height": 38
        },
        "outputId": "e025c6a9-508f-4c5a-8548-af2235da95ad"
      },
      "outputs": [
        {
          "output_type": "execute_result",
          "data": {
            "text/plain": [
              "λ = 4.72252655429143e-7"
            ],
            "image/png": "[encoded data removed]",
            "text/latex": "$\\displaystyle \\lambda = 4.72252655429143 \\cdot 10^{-7}$"
          },
          "metadata": {},
          "execution_count": 95
        }
      ],
      "source": [
        "expr2.subs(V/N1,kb*T/p1).subs(T,298).subs(p1,100000).subs(kb,1.38e-23).subs(cs,pi*140e-12**2).evalf()"
      ]
    }
  ],
  "metadata": {
    "colab": {
      "collapsed_sections": [],
      "name": "Copy of Maxwell-Boltzmann.ipynb",
      "provenance": [],
      "authorship_tag": "ABX9TyMaEHDQlm1UrLkzoSzh+XQ6",
      "include_colab_link": true
    },
    "kernelspec": {
      "display_name": "Python 3",
      "name": "python3"
    },
    "language_info": {
      "name": "python"
    }
  },
  "nbformat": 4,
  "nbformat_minor": 0
}