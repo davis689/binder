{
  "nbformat": 4,
  "nbformat_minor": 0,
  "metadata": {
    "colab": {
      "name": "boundary conditions and normalization of PIB.ipynb",
      "provenance": [],
      "authorship_tag": "ABX9TyOqftAhuQULYMlJT4bNFEAw",
      "include_colab_link": true
    },
    "kernelspec": {
      "name": "python3",
      "display_name": "Python 3"
    }
  },
  "cells": [
    {
      "cell_type": "markdown",
      "metadata": {
        "id": "view-in-github",
        "colab_type": "text"
      },
      "source": [
        "<a href=\"https://colab.research.google.com/github/davis689/binder/blob/master/boundary_conditions_and_normalization_of_PIB.ipynb\" target=\"_parent\"><img src=\"https://colab.research.google.com/assets/colab-badge.svg\" alt=\"Open In Colab\"/></a>"
      ]
    },
    {
      "cell_type": "markdown",
      "metadata": {
        "id": "ZsmZHPNMVN7V"
      },
      "source": [
        "#Particle-in-a-box\r\n",
        "##Symbolic manipulation of the wavefunction\r\n",
        "Here we will practice using Jupyter notebooks and Python to symbolically manipulate equations. The package that allows this functionality is called SymPy. \r\n",
        "###Applying the boundary and normalization conditions\r\n",
        "For the particle in a box that is contrained to be between  x =0 and  x = L , assume that we have found an initial wavefunction,\r\n",
        "ψ=Asin(nπx/L)+Bcos(nπx/L) \r\n",
        "This solution is generic in that  A,B , and  k  are arbitrary. We first apply the boundary conditions to begin determining their values that apply to our specific solution. Let's first set up the problem. Since we'll be solving this symbolically, set up the symbols we want to use in the wavefunction. Some of them are going to be positive so if we specify that, it may be easier to solve in some cases. Then we'll set up wavefunction expression using sp.Eq(). Inside the parentheses we put the two sides of the equation separated by a comma. Then display the results."
      ]
    },
    {
      "cell_type": "code",
      "metadata": {
        "id": "RDTxR1NsVGAE"
      },
      "source": [
        "# import and initialize libraries\r\n",
        "import matplotlib.pyplot as plt # for plotting if we want to do it.\r\n",
        "\r\n",
        "import sympy as sp # deal with symbolic calculations\r\n",
        "from sympy import oo, E, I # specifically import infinity, exponential, and complex numbers so we don't have to do sp.oo and sp.E and sp.I\r\n",
        "\r\n",
        "sp.init_printing() # make equations look nice"
      ],
      "execution_count": 29,
      "outputs": []
    },
    {
      "cell_type": "code",
      "metadata": {
        "id": "gO0ELbhu6xSZ"
      },
      "source": [
        "x=sp.var('x', real=True) # x is the variable and it's real.\r\n",
        "A, k  = sp.symbols('A k',positive=True,nonzero=True) # assume that A, k and L are positive\r\n",
        "L=sp.symbols('L',real=True,nonzero=True,positive=True) # The length of the box is real, positive, and nonzero\r\n",
        "psi,B=sp.symbols('\\\\psi,B') # no assumption about these\r\n",
        "n=sp.symbols('n',positive=True,integer=True,nonzero=True) # the quantum number is positive and an integer and nonzero\r\n",
        "\r\n",
        "# not all the assumptions (real, positive, nonzero, etc.) are necessary here. x,A,k,L,psi,B,n='sp.symbols('x A k L psi B n') may work almost the same.\r\n",
        "# They do help Sympy to know how to simplify expressions. So where you know what to expect from a constant, it's useful to classify them this way."
      ],
      "execution_count": 30,
      "outputs": []
    },
    {
      "cell_type": "code",
      "metadata": {
        "id": "hlDUKj6G4mNe"
      },
      "source": [
        "solution=sp.Eq(psi,A*sp.sin(k*x)+B*sp.cos(k*x))\r\n",
        "solution"
      ],
      "execution_count": null,
      "outputs": []
    },
    {
      "cell_type": "markdown",
      "metadata": {
        "id": "lc4gXjb3qst8"
      },
      "source": [
        "If we need to access one side or the other we can do that with ```.rhs``` or ```.lhs``` for right-hand-side and left-hand-side. "
      ]
    },
    {
      "cell_type": "code",
      "metadata": {
        "id": "VXJduBgfq1nn"
      },
      "source": [
        "solution.lhs"
      ],
      "execution_count": null,
      "outputs": []
    },
    {
      "cell_type": "code",
      "metadata": {
        "id": "e6TZEPlYq4EN"
      },
      "source": [
        "solution.rhs"
      ],
      "execution_count": null,
      "outputs": []
    },
    {
      "cell_type": "markdown",
      "metadata": {
        "id": "CqnKvYOUEQWk"
      },
      "source": [
        "## First boundary condition: $\\psi=0$ at $x=0$.\r\n",
        "We apply the first boundary condition. Since the wavefunction outside the box is zero, the wavefunction inside the box must go to zero at the boundaries. First we apply the boundary condition at $x=0$. To substitute $x=0$ into our equation (without actually changing it's stored form), use ```sp.subs()```."
      ]
    },
    {
      "cell_type": "code",
      "metadata": {
        "id": "aetKUU8x7PE5"
      },
      "source": [
        "solution.subs(x,0).subs(psi,0) # for multiple subsitutions there is an alternative form of .subs.\r\n",
        "# solutions.subs({x:0,psi:0}) would do the same thing with only one .subs."
      ],
      "execution_count": null,
      "outputs": []
    },
    {
      "cell_type": "markdown",
      "metadata": {
        "id": "4tgDmasyNLzE"
      },
      "source": [
        "We'll update our solution to reflect this."
      ]
    },
    {
      "cell_type": "code",
      "metadata": {
        "id": "9ZHB7ImO87bV"
      },
      "source": [
        "solutionB=solution.subs(B,0) # solution with B=0 substituted\r\n",
        "solutionB"
      ],
      "execution_count": null,
      "outputs": []
    },
    {
      "cell_type": "markdown",
      "metadata": {
        "id": "Ldezb8xxFmD3"
      },
      "source": [
        "#Second boundary condition: $\\psi=0$ at $x=L$ \r\n",
        "This solution is more specific now that we have solved for $B$ but it still has two constants to be determined. To solve for another one, substitute $x=L$ and solve for $A$. The ```sp.solve()``` routine needs two inputs. The first is the equation solved so that one side is zero. The second is the variable that you want to solve for. The solve routine returns a list of solutions. Since we want the only solution, we can append [0] to get the first (and only) solution itself instead of a one element list."
      ]
    },
    {
      "cell_type": "code",
      "metadata": {
        "id": "qbK7thc38AxI"
      },
      "source": [
        "sp.solve(solutionB.subs([(x,L),(psi,0)]),k)[0] #solve for k if psi=0 and x=L"
      ],
      "execution_count": null,
      "outputs": []
    },
    {
      "cell_type": "markdown",
      "metadata": {
        "id": "up8s4Mj9OTFg"
      },
      "source": [
        "Now the program has given us one solution but really any integer multiplied by this is also a solution. So we'll substitute $n\\pi/L$ for $k$ instead. Here we update our wavefunction with the value of $k$."
      ]
    },
    {
      "cell_type": "code",
      "metadata": {
        "id": "gZ2GwEZCOicr"
      },
      "source": [
        "solutionk=solutionB.subs(k,n*sp.pi/L) #solution with k substituted\r\n",
        "solutionk"
      ],
      "execution_count": null,
      "outputs": []
    },
    {
      "cell_type": "markdown",
      "metadata": {
        "id": "5cU7ZyS5O2Le"
      },
      "source": [
        "## Normalization\r\n",
        "Now we need to solve for $A$. We are out of boundary conditions to apply. Here we rely on the normalization condition. The integral of $|\\psi|^2$ must be equal to 1 if integrated over the whole of space. Here that is from 0 to $L$."
      ]
    },
    {
      "cell_type": "code",
      "metadata": {
        "id": "1mNZxWRM9xWA"
      },
      "source": [
        "sp.integrate((solutionk.rhs**2),(x,0,L)) #integrate the square of the wavefunction\r\n"
      ],
      "execution_count": null,
      "outputs": []
    },
    {
      "cell_type": "markdown",
      "metadata": {
        "id": "fk4e_0Xu8qZ1"
      },
      "source": [
        "###Complex Conjugates\r\n",
        "In our normalization above, we elided over something that we correct here. The probability is not really the square of the wavefunction, it is the product of the complex conjugate of our wavefunction with the wavefunction itself. Here in our case there is no difference because our wavefunction is real. But in general we need to be careful just using the square of the wavefunction.\r\n",
        "\r\n",
        "Fortunately, sympy (sp), has the ability to take the complex conjugate. ```sp.conjugate()``` will show us the complex conjugate of the right-hand-side of the wavefunction. Is it the same as the wavefunction?"
      ]
    },
    {
      "cell_type": "code",
      "metadata": {
        "id": "oJBJbTSV9Z0d"
      },
      "source": [
        "sp.conjugate(solution_end.rhs)"
      ],
      "execution_count": null,
      "outputs": []
    },
    {
      "cell_type": "markdown",
      "metadata": {
        "id": "IpXzW6bi4PMq"
      },
      "source": [
        "Assume, for a moment, our wavefunction were $e^{ikx}$. Show the complex conjugate of this wavefunction."
      ]
    },
    {
      "cell_type": "code",
      "metadata": {
        "id": "xC3MVYXK4ciz"
      },
      "source": [
        "psi=E**(I*k*x)\r\n"
      ],
      "execution_count": 41,
      "outputs": []
    },
    {
      "cell_type": "markdown",
      "metadata": {
        "id": "lcuw20pyPyoM"
      },
      "source": [
        "###Back to Normalization\r\n",
        "We can use the complex conjugate in determining our normalization constant. Integrate of the righthand-side of our solution between 0 and $L$. This gives a result that should be 1 but only will be with the correct value of $A$.\r\n",
        "\r\n"
      ]
    },
    {
      "cell_type": "code",
      "metadata": {
        "id": "AjG08Gxe-bV1"
      },
      "source": [
        "sp.integrate((sp.conjugate(solutionk.rhs))*(solutionk.rhs),(x,0,L))"
      ],
      "execution_count": null,
      "outputs": []
    },
    {
      "cell_type": "markdown",
      "metadata": {
        "id": "KTp7kJRK-wwn"
      },
      "source": [
        "You may be able to figure out the correct value of $A$ to make the above expression equal to 1 but we can code it too. What we need is to set up an equation setting the integral equal to 1. ```sp.Eq(left side of equation,right side of equation)``` is the form that we need. Then we solve that equation for A and choose the first ([0]) solution."
      ]
    },
    {
      "cell_type": "code",
      "metadata": {
        "id": "J0_L0eVw_CXy"
      },
      "source": [
        "normEq=sp.Eq(sp.integrate((sp.conjugate(solutionk.rhs))*(solutionk.rhs),(x,0,L)),1)\r\n",
        "normconst=sp.solve(normEq,A)[0]\r\n",
        "normconst"
      ],
      "execution_count": null,
      "outputs": []
    },
    {
      "cell_type": "markdown",
      "metadata": {
        "id": "jY9x4lO2QxdF"
      },
      "source": [
        "So we can now present our final form of the specific solution to the Schrodinger equation that satisifies the boundary conditions of the particle-in-a-box between 0 and $L$ and the normalization condition."
      ]
    },
    {
      "cell_type": "code",
      "metadata": {
        "id": "XlUpP041RBBg"
      },
      "source": [
        "solution_end=solutionk.subs(A,normconst)\r\n",
        "solution_end"
      ],
      "execution_count": null,
      "outputs": []
    },
    {
      "cell_type": "markdown",
      "metadata": {
        "id": "FHypQwFp7WVb"
      },
      "source": [
        "Note that we've been changing the name of our solution at each step. That helps avoid confusion if you end up going back to change things and forget that the solution has been redefined somewhere below and it also makes it possible to recall all of the different versions. ```display()``` is a fancier version of ```print()```."
      ]
    },
    {
      "cell_type": "code",
      "metadata": {
        "id": "e4hVbn4h7nDx"
      },
      "source": [
        "print('Original generic solution to the SE:')\r\n",
        "display(solution)\r\n",
        "print('After application of the first boundary condition:')\r\n",
        "display(solutionB)\r\n",
        "print('After application of the second boundary condition:')\r\n",
        "\r\n",
        "display(solutionk)\r\n",
        "print('After application of the normalization condition:')\r\n",
        "display(solution_end)"
      ],
      "execution_count": null,
      "outputs": []
    },
    {
      "cell_type": "markdown",
      "metadata": {
        "id": "35DXlihp47Z_"
      },
      "source": [
        "##Orthonormality\r\n",
        "Now let's check the orthonormality of our particle-in-a-box wavefunction. This requires the evaluation of $$\\int \\psi_i^*\\psi_j d\\tau$$ If $i=j$ the result should be one (probability is one or perfect overlap of the two wavefunction expressions) and if $i\\neq j$ the result should be zero (the two eigenfunctions are 'perpendicular' to each other so don't overlap at all).\r\n",
        "\r\n",
        "Here we'll create two variables, $i$ and $j$, for the quantum numbers of the two eigenfunctions. Adjust these values and evaluate the integral to see how it changes."
      ]
    },
    {
      "cell_type": "code",
      "metadata": {
        "id": "7nieH2GurfIM"
      },
      "source": [
        "i=1\r\n",
        "j=1\r\n",
        "sp.integrate(sp.conjugate(solution_end.rhs.subs(n,i))*solution_end.rhs.subs(n,j),(x,0,L))"
      ],
      "execution_count": null,
      "outputs": []
    },
    {
      "cell_type": "markdown",
      "metadata": {
        "id": "yA1-aVQQ6fNE"
      },
      "source": [
        "We could, of course, check all values of quantum numbers in some range systematically. Here we check all combinations of values of $i$ and $j$ between 1 and 5 (remember ```range(1,6)``` makes a list of integers from 1 up to but not including 6)."
      ]
    },
    {
      "cell_type": "code",
      "metadata": {
        "colab": {
          "base_uri": "https://localhost:8080/"
        },
        "id": "z8uZJTrk3NdS",
        "outputId": "06eb65d6-da7a-4682-9035-240cf04d00f1"
      },
      "source": [
        "print('i j integral')\r\n",
        "for i in range(1,6):\r\n",
        "  for j in range(1,6):\r\n",
        "    integ=sp.integrate(sp.conjugate(solution_end.rhs.subs(n,i))*solution_end.rhs.subs(n,j),(x,0,L))\r\n",
        "    print(i,j,integ)"
      ],
      "execution_count": 59,
      "outputs": [
        {
          "output_type": "stream",
          "text": [
            "4 1 0\n",
            "4 2 0\n",
            "4 3 0\n",
            "4 4 1\n",
            "4 5 0\n",
            "5 1 0\n",
            "5 2 0\n",
            "5 3 0\n",
            "5 4 0\n",
            "5 5 1\n"
          ],
          "name": "stdout"
        }
      ]
    }
  ]
}