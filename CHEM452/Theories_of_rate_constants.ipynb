{
  "nbformat": 4,
  "nbformat_minor": 0,
  "metadata": {
    "colab": {
      "name": "Theories of rate constants.ipynb",
      "provenance": [],
      "authorship_tag": "ABX9TyPl52BRGFzCsrVNhDOY8q2K",
      "include_colab_link": true
    },
    "kernelspec": {
      "name": "python3",
      "display_name": "Python 3"
    },
    "language_info": {
      "name": "python"
    }
  },
  "cells": [
    {
      "cell_type": "markdown",
      "metadata": {
        "id": "view-in-github",
        "colab_type": "text"
      },
      "source": [
        "<a href=\"https://colab.research.google.com/github/davis689/binder/blob/master/CHEM452/Theories_of_rate_constants.ipynb\" target=\"_parent\"><img src=\"https://colab.research.google.com/assets/colab-badge.svg\" alt=\"Open In Colab\"/></a>"
      ]
    },
    {
      "cell_type": "markdown",
      "metadata": {
        "id": "1D6DgBI-7iMS"
      },
      "source": [
        "# Theories of Rate Constants\n",
        "We have thus far used rate constants without questioning their magnitude. We remedy this oversight here."
      ]
    },
    {
      "cell_type": "code",
      "metadata": {
        "id": "swpW28O07g4b"
      },
      "source": [
        ""
      ],
      "execution_count": null,
      "outputs": []
    },
    {
      "cell_type": "markdown",
      "metadata": {
        "id": "ihW0_61k7xWA"
      },
      "source": [
        "## Arrhenius Equation\n",
        "[Svante Arrhenius](https://en.wikipedia.org/wiki/Svante_Arrhenius) came up with an equation for calculating rate constants in 1889. It is related to the van 't Hoff equation for the temperature dependence of the equilibrium constant. Called the [Arrhenius equation](https://en.wikipedia.org/wiki/Arrhenius_equation), it is taught in general chemistry and introduces the concept of activation energy.\n",
        "$$k=Ae^{-E_a/k_BT}$$\n",
        "\n",
        "One can think of $A$ as the frequency of *attempts* at reaction and the exponential as the fraction of attempts that have sufficient energy to react. \n",
        "\n",
        "The Arrhenius equation has vast applicability to chemical reactions and has been applied to frequencies of cricket chirps and other phenomena of biological orgins. Regardless of Arrhenius' work to connect his work to theory, today we usually consider the equation to be empirical."
      ]
    },
    {
      "cell_type": "markdown",
      "metadata": {
        "id": "qtRECizZAoOR"
      },
      "source": [
        "$$\\require{mhchem}$$  $$\\require{chemfig}$$ \n",
        "## Collision theory\n",
        "Collision theory is based on the simple idea that a collision is necessary to cause a reaction. Let's use this idea to successively more accurately calculate the rate of an elementary step $$\\ce{A + B -> P}$$\n",
        "\n",
        "**Assumption 1:**\n",
        "Assume every collision leads to reaction.\n",
        "\n",
        "This would mean that the rate is equal to the collision frequency.\n",
        "\n",
        "$$\\begin{align*}-\\dfrac{d[A]}{dt}&=k[A][B]\\\\&=Z_{AB}=\\dfrac{N_A}{V}\\dfrac{N_B}{V}\\sigma\\left(\\dfrac{8k_BT}{\\pi\\mu}\\right)^\\frac{1}{2}\\\\&=\\sigma \\left<v_r\\right>[A][B]\\end{align*}$$\n",
        "\n",
        "In this scenario, the rate constant would be the cross-sectional area multiplied by the average relative velocity.\n",
        "$$k=\\sigma\\left<v_r\\right>$$\n",
        "\n",
        "Is it reasonable that *all* collisions lead to a reaction?\n",
        "\n",
        "It seems that our assumption is too generous. We need to exclude collisions that are not energetic enough."
      ]
    },
    {
      "cell_type": "markdown",
      "metadata": {
        "id": "ZzkeuZGiDE2b"
      },
      "source": [
        "**Assumption 2:** Assume every collision with sufficient $v_r$ leads to collision.\n",
        "\n",
        "We can start over with our new assumption or we can modify our previous result to fit our new assumption. Let's do the latter. \n",
        "\n",
        "Our previous result includes the cross-sectional area as well as the average relative velocity. What if we imagined that the cross-sectional area is a function of velocity. Not actually but conceptually. We could imagine that the effective cross-sectional area of our molecule is zero if it's not colliding with sufficient energy. It's *as if* our molecule has no size for the purpose of the reaction rate if its relative velocity is too small.\n",
        "\n",
        "$$k=\\sigma(v_r)v_r$$\n",
        "\n",
        "Now that makes things difficult since every molecule gets a different $k$. Instead of worrying about each different $k$, let's calculate an average $k$.\n",
        "\n",
        "$$\\left<k\\right>=\\int^\\infty_0 k(v_r) f(v_r) dv_r $$\n",
        "\n",
        "$f(v_r)$ is the Maxwell-Boltzmann distribution. $\\sigma(v_r)$ is 0 if $v_r<v_o$ and $\\sigma(v_r)=\\sigma$ otherwise.\n",
        "\n",
        "Let's calculate this average k."
      ]
    },
    {
      "cell_type": "code",
      "metadata": {
        "id": "odUOIJFfNQls"
      },
      "source": [
        "import sympy as sp\n",
        "sp.init_printing()\n",
        "kb=sp.symbols('k_B',positive=True, constant=True)\n",
        "vr,vo,T,mu,sigma,Eo=sp.symbols('v_r v_o T mu sigma E_o',positive=True)"
      ],
      "execution_count": 34,
      "outputs": []
    },
    {
      "cell_type": "code",
      "metadata": {
        "colab": {
          "base_uri": "https://localhost:8080/",
          "height": 74
        },
        "id": "tBqlmkxVVPa5",
        "outputId": "187e44e3-4e14-49f5-902b-57f02411b895"
      },
      "source": [
        "sp.integrate(sigma*vr*sp.sqrt(mu/(2*sp.pi*kb*T))**3*4*sp.pi*vr**2*sp.exp(-mu*vr**2/(2*kb*T)),(vr,vo,sp.oo)).simplify()"
      ],
      "execution_count": 35,
      "outputs": [
        {
          "output_type": "execute_result",
          "data": {
            "image/png": "[encoded data removed]",
            "text/latex": "$\\displaystyle \\frac{\\sqrt{2} \\sigma \\left(2 T k_{B} + \\mu v_{o}^{2}\\right) e^{- \\frac{\\mu v_{o}^{2}}{2 T k_{B}}}}{\\sqrt{\\pi} \\sqrt{T} \\sqrt{k_{B}} \\sqrt{\\mu}}$",
            "text/plain": [
              "                             2 \n",
              "                        -μ⋅vₒ  \n",
              "                        ───────\n",
              "     ⎛              2⎞  2⋅T⋅k_B\n",
              "√2⋅σ⋅⎝2⋅T⋅k_B + μ⋅vₒ ⎠⋅ℯ       \n",
              "───────────────────────────────\n",
              "                _____          \n",
              "        √π⋅√T⋅╲╱ k_B ⋅√μ       "
            ]
          },
          "metadata": {
            "tags": []
          },
          "execution_count": 35
        }
      ]
    },
    {
      "cell_type": "markdown",
      "metadata": {
        "id": "F_Scoz04bwTx"
      },
      "source": [
        "Let's change from velocity to kinetic energy where $E_o$ corresponds to the energy at $v_o$."
      ]
    },
    {
      "cell_type": "code",
      "metadata": {
        "colab": {
          "base_uri": "https://localhost:8080/",
          "height": 68
        },
        "id": "qBSWvVnlbFOq",
        "outputId": "659e9487-66cb-4921-cbae-8fcb2baabe4a"
      },
      "source": [
        "_.subs(vo**2,2*Eo/mu)"
      ],
      "execution_count": 36,
      "outputs": [
        {
          "output_type": "execute_result",
          "data": {
            "image/png": "[encoded data removed]",
            "text/latex": "$\\displaystyle \\frac{\\sqrt{2} \\sigma \\left(2 E_{o} + 2 T k_{B}\\right) e^{- \\frac{E_{o}}{T k_{B}}}}{\\sqrt{\\pi} \\sqrt{T} \\sqrt{k_{B}} \\sqrt{\\mu}}$",
            "text/plain": [
              "                        -Eₒ \n",
              "                       ─────\n",
              "                       T⋅k_B\n",
              "√2⋅σ⋅(2⋅Eₒ + 2⋅T⋅k_B)⋅ℯ     \n",
              "────────────────────────────\n",
              "              _____         \n",
              "      √π⋅√T⋅╲╱ k_B ⋅√μ      "
            ]
          },
          "metadata": {
            "tags": []
          },
          "execution_count": 36
        }
      ]
    },
    {
      "cell_type": "markdown",
      "metadata": {
        "id": "MIPwYpUtcAGK"
      },
      "source": [
        "Rearranged this gives us $$\\begin{align*}\\left<k\\right>&=\\left[\\sigma \\left(\\dfrac{8k_BT}{\\pi \\mu}\\right)^{1/2}\\left(\\dfrac{E_o}{k_B T}+1\\right)\\right]e^{-\\frac{E_o}{k_BT}}\\\\&=\\left[\\sigma \\left<v_r\\right>\\left(\\dfrac{E_o}{k_B T}+1\\right)\\right]e^{-\\frac{E_o}{k_BT}}\\end{align*}$$\n",
        "\n",
        "This gets us something very Arrhenius-like. The exponential is just like Arrhenius if the $E_o$ is $E_a$. The bracketed factor is not a constant as in Arrhenius but its temperature dependence is quite weak having both $\\sqrt T$ and 1/$\\sqrt T$ dependent terms.\n",
        "\n",
        "The relative velocity in this treatement does not take into account direct hits vs. glancing blows. That is our next correction."
      ]
    },
    {
      "cell_type": "markdown",
      "metadata": {
        "id": "oD7YrucJeOZo"
      },
      "source": [
        "**Assumption 3:** Assume every collision with sufficient $v_{lc}$ leads to collision.\n",
        "\n",
        "This is very similar to the previous assumption but we replace relative velocity which just takes into account the velocity in the direction of the collision with velocity directed along the line between the centers of the two molecules.\n",
        "\n",
        "As the angle between the relative velocity vector and the velocity along the line of centers vector approaches 0$^\\circ$, we have a direct hit. As that angle reaches 90$^\\circ$, we have a grazing collision.\n",
        "\n",
        "The result is $$\\left<k\\right>=\\left[\\left<v_r\\right>\\sigma\\right]e^{-E_o/kT}$$ which just removes one term from the previous result. This gets us superficially very close to our original result where all collisions lead to reactions with the addition of just the exponential term.\n",
        "\n",
        "This result is probably close for atom-atom reactions but for molecules, which need to have the orientation of the collisions correct, this is still an over-estimation."
      ]
    },
    {
      "cell_type": "markdown",
      "metadata": {
        "id": "sQE710oksZSQ"
      },
      "source": [
        "**Assumption 3:** Assume every collision with sufficient $v_{lc}$ leads to collision if the orientation is correct.\n",
        "\n",
        "We will not try to derive anything here but simply multipy by the fraction of the surface that is active to reaction, P.\n",
        "\n",
        "$$\\left<k\\right>=\\left[P\\left<v_r\\right>\\sigma\\right]e^{-E_o/kT}$$ "
      ]
    },
    {
      "cell_type": "markdown",
      "metadata": {
        "id": "PssS9oqUswGt"
      },
      "source": [
        "## Transition State Theory/Activated Complex Theory"
      ]
    }
  ]
}