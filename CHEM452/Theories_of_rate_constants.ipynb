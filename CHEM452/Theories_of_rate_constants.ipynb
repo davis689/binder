{
  "nbformat": 4,
  "nbformat_minor": 0,
  "metadata": {
    "colab": {
      "name": "Theories of rate constants.ipynb",
      "provenance": [],
      "authorship_tag": "ABX9TyOw8XGWKUbEbNaG/pJcI/K4",
      "include_colab_link": true
    },
    "kernelspec": {
      "name": "python3",
      "display_name": "Python 3"
    },
    "language_info": {
      "name": "python"
    }
  },
  "cells": [
    {
      "cell_type": "markdown",
      "metadata": {
        "id": "view-in-github",
        "colab_type": "text"
      },
      "source": [
        "<a href=\"https://colab.research.google.com/github/davis689/binder/blob/master/CHEM452/Theories_of_rate_constants.ipynb\" target=\"_parent\"><img src=\"https://colab.research.google.com/assets/colab-badge.svg\" alt=\"Open In Colab\"/></a>"
      ]
    },
    {
      "cell_type": "markdown",
      "metadata": {
        "id": "1D6DgBI-7iMS"
      },
      "source": [
        "# Theories of Rate Constants\n",
        "We have thus far used rate constants without questioning their magnitude. We remedy this oversight here."
      ]
    },
    {
      "cell_type": "markdown",
      "metadata": {
        "id": "ihW0_61k7xWA"
      },
      "source": [
        "## Arrhenius Equation\n",
        "[Svante Arrhenius](https://en.wikipedia.org/wiki/Svante_Arrhenius) came up with an equation for calculating rate constants in 1889. It is related to the van 't Hoff equation for the temperature dependence of the equilibrium constant. Called the [Arrhenius equation](https://en.wikipedia.org/wiki/Arrhenius_equation), it is taught in general chemistry and introduces the concept of activation energy.\n",
        "$$k=Ae^{-E_a/k_BT}$$\n",
        "\n",
        "One can think of $A$ as the frequency of *attempts* at reaction and the exponential as the fraction of attempts that have sufficient energy to react. \n",
        "\n",
        "The Arrhenius equation has vast applicability to chemical reactions and has been applied to frequencies of cricket chirps and other phenomena of biological orgins. Regardless of Arrhenius' work to connect his work to theory, today we usually consider the equation to be empirical."
      ]
    },
    {
      "cell_type": "markdown",
      "metadata": {
        "id": "qtRECizZAoOR"
      },
      "source": [
        "$$\\require{mhchem}$$  \n",
        "\n",
        "## Collision theory\n",
        "Collision theory is based on the simple idea that a collision is necessary to cause a reaction. Let's use this idea to successively more accurately calculate the rate of an elementary step $$\\ce{A + B -> P}$$\n",
        "\n",
        "**Assumption 1:**\n",
        "Assume every collision leads to reaction.\n",
        "\n",
        "This would mean that the rate is equal to the collision frequency.\n",
        "\n",
        "$$\\begin{align*}-\\dfrac{d[A]}{dt}&=k[A][B]\\\\&=Z_{AB}=\\dfrac{N_A}{V}\\dfrac{N_B}{V}\\sigma\\left(\\dfrac{8k_BT}{\\pi\\mu}\\right)^\\frac{1}{2}\\\\&=\\sigma \\left<v_r\\right>[A][B]\\end{align*}$$\n",
        "\n",
        "In this scenario, the rate constant would be the cross-sectional area multiplied by the average relative velocity (which we learned when discussion collision frequency was the same as the average velocity).\n",
        "$$k=\\sigma\\left<v_r\\right>$$\n",
        "\n",
        "Is it reasonable that *all* collisions lead to a reaction?\n",
        "\n",
        "It seems that our assumption is too generous. We need to exclude collisions that are not energetic enough."
      ]
    },
    {
      "cell_type": "code",
      "source": [
        "import sympy as sp\n",
        "sp.init_printing()\n",
        "kb=sp.symbols('k_B,sigma',positive=True, constant=True, real=True)\n",
        "v,vr,k,sigma=sp.symbols('v,<{v_r}>, k , sigma',positive=True)"
      ],
      "metadata": {
        "id": "mN8culbs_9Jo"
      },
      "execution_count": 2,
      "outputs": []
    },
    {
      "cell_type": "code",
      "source": [
        "ct_assum1=sp.Eq(k,sigma*vr)\n",
        "ct_assum1"
      ],
      "metadata": {
        "id": "BEWP7Kln_zHz"
      },
      "execution_count": null,
      "outputs": []
    },
    {
      "cell_type": "markdown",
      "metadata": {
        "id": "ZzkeuZGiDE2b"
      },
      "source": [
        "**Assumption 2:** Assume every collision *with sufficient $v_r$* leads to collision.\n",
        "\n",
        "We can start over with our new assumption or we can modify our previous result to fit our new assumption. Let's do the latter. \n",
        "\n",
        "Our previous result includes the cross-sectional area as well as the average relative velocity. What if we imagined that the cross-sectional area is a function of velocity. No one actually thinks the molecule changes size depending on its (nonrelativistic) speed but it still could be useful to consider. We could imagine that the effective cross-sectional area of our molecule is zero if it's not colliding with sufficient energy. It's *as if* our molecule has no size for the purpose of the reaction rate if its relative velocity is too small.\n",
        "\n",
        "$$k=\\sigma(v_r)v_r$$\n",
        "\n",
        "Now that makes things difficult since every molecule gets a different $k$. Instead of worrying about each different $k$, let's calculate an average $k$.\n",
        "\n",
        "$$\\left<k\\right>=\\int^\\infty_0 k(v_r) f(v_r) dv_r = \\int^\\infty_0 \\sigma(v_r) v_r f(v_r) dv_r  $$\n",
        "\n",
        "$f(v_r)$ is the Maxwell-Boltzmann distribution. $\\sigma(v_r)$ is 0 if $v_r<v_o$ and $\\sigma(v_r)=\\sigma$ otherwise. So\n",
        "$$\\left<k\\right>= \\int^\\infty_{v_o} \\sigma v_r f(v_r) dv_r  $$\n",
        "\n",
        "Let's calculate this average k."
      ]
    },
    {
      "cell_type": "code",
      "metadata": {
        "id": "odUOIJFfNQls"
      },
      "source": [
        "v,vo,T,mu,Eo=sp.symbols('v,v_o T mu E_o',positive=True)\n",
        "f=sp.Function('f')(v)\n",
        "maxbolt=sp.Eq(f,sp.sqrt(mu/(2*sp.pi*kb*T))**3*4*sp.pi*v**2*sp.exp(-mu*v**2/(2*kb*T)))\n",
        "maxbolt\n"
      ],
      "execution_count": null,
      "outputs": []
    },
    {
      "cell_type": "markdown",
      "source": [
        "Here we integrate not from $v$=0 to $v$=$\\infty$ but only from $v$=$v_0$. Molecules going slower than $v_0$ are not reacting so they don't contribute to the rate."
      ],
      "metadata": {
        "id": "2GnMaQerKzbr"
      }
    },
    {
      "cell_type": "code",
      "metadata": {
        "id": "tBqlmkxVVPa5"
      },
      "source": [
        "ct_assum2=sp.Eq(k,sp.integrate(sigma*vr*maxbolt.rhs.subs(v,vr),(vr,vo,sp.oo)).simplify())\n",
        "ct_assum2"
      ],
      "execution_count": null,
      "outputs": []
    },
    {
      "cell_type": "markdown",
      "metadata": {
        "id": "F_Scoz04bwTx"
      },
      "source": [
        "Let's change from velocity to kinetic energy where $E_o$ corresponds to the energy at $v_o$."
      ]
    },
    {
      "cell_type": "code",
      "metadata": {
        "id": "qBSWvVnlbFOq"
      },
      "source": [
        "ct_assum2.subs(vo**2,2*Eo/mu)"
      ],
      "execution_count": null,
      "outputs": []
    },
    {
      "cell_type": "markdown",
      "metadata": {
        "id": "MIPwYpUtcAGK"
      },
      "source": [
        "Rearranged (multiply top and bottom by $\\sqrt(k_B T)$ and combine terms to factor out $v_r$) this gives us \n",
        "$$ \\begin{align*}\n",
        "\\left<k\\right>&=\\left[\\sigma \\left(\\dfrac{8k_BT}{\\pi \\mu}\\right)^{1/2}\\left(\\dfrac{E_o}{k_B T}+1\\right)\\right]e^{-\\frac{E_o}{k_BT}}\\\\\n",
        "&=\\left[\\sigma \\left<v_r\\right>\\left(\\dfrac{E_o}{k_B T}+1\\right)\\right]e^{-\\frac{E_o}{k_BT}}\\end{align*} $$\n",
        "\n",
        "This gets us something very Arrhenius-like. The exponential is just like Arrhenius if the $E_o$ is $E_a$. The bracketed factor is not a constant as in Arrhenius but its temperature dependence is quite weak having both $\\sqrt T$ and 1/$\\sqrt T$ dependent terms.\n",
        "\n",
        "The relative velocity in this treatement does not take into account direct hits vs. glancing blows. That is our next correction."
      ]
    },
    {
      "cell_type": "markdown",
      "metadata": {
        "id": "oD7YrucJeOZo"
      },
      "source": [
        "**Assumption 3:** Assume every collision *with sufficient $v_{lc}$* leads to collision.\n",
        "\n",
        "This is very similar to the previous assumption but we replace relative velocity which just takes into account the velocity in the direction of the collision with velocity directed along the line between the centers of the two molecules.\n",
        "\n",
        "In the diagram we have a molecule A moving to the right to hit a molecule B. The vector connecting the line-of-centers is at an angle $\\alpha$ to the direction of travel. As $\\alpha$ approaches 0, the collision is more head-on.\n",
        "The parameter $b_{max}$ is the sum of the molecular radius. $b$ is the distance between lines going through the centers and parallel to the direction of travel of molecule A (we can imagine B to be stationary). If $\\alpha=90^\\circ$, then $b_{max}=b$ and if $\\alpha=0^\\circ$ then $b$=0. So as with $\\alpha$ if $b$ is smaller, the collision is more direct.\n",
        "\n",
        "![PXL_20210525_145747795_LI.jpg](data:image/jpeg;base64,/9j/4AAQSkZJRgABAQEAAAAAAAD/4RCyRXhpZgAATU0AKgAAAAgAAodpAAQAAAABAAAIMuocAAcAAAgMAAAAJgAAAAAc6gAAAAgAAAAAAAAAAAAAAAAAAAAAAAAAAAAAAAAAAAAAAAAAAAAAAAAAAAAAAAAAAAAAAAAAAAAAAAAAAAAAAAAAAAAAAAAAAAAAAAAAAAAAAAAAAAAAAAAAAAAAAAAAAAAAAAAAAAAAAAAAAAAAAAAAAAAAAAAAAAAAAAAAAAAAAAAAAAAAAAAAAAAAAAAAAAAAAAAAAAAAAAAAAAAAAAAAAAAAAAAAAAAAAAAAAAAAAAAAAAAAAAAAAAAAAAAAAAAAAAAAAAAAAAAAAAAAAAAAAAAAAAAAAAAAAAAAAAAAAAAAAAAAAAAAAAAAAAAAAAAAAAAAAAAAAAAAAAAAAAAAAAAAAAAAAAAAAAAAAAAAAAAAAAAAAAAAAAAAAAAAAAAAAAAAAAAAAAAAAAAAAAAAAAAAAAAAAAAAAAAAAAAAAAAAAAAAAAAAAAAAAAAAAAAAAAAAAAAAAAAAAAAAAAAAAAAAAAAAAAAAAAAAAAAAAAAAAAAAAAAAAAAAAAAAAAAAAAAAAAAAAAAAAAAAAAAAAAAAAAAAAAAAAAAAAAAAAAAAAAAAAAAAAAAAAAAAAAAAAAAAAAAAAAAAAAAAAAAAAAAAAAAAAAAAAAAAAAAAAAAAAAAAAAAAAAAAAAAAAAAAAAAAAAAAAAAAAAAAAAAAAAAAAAAAAAAAAAAAAAAAAAAAAAAAAAAAAAAAAAAAAAAAAAAAAAAAAAAAAAAAAAAAAAAAAAAAAAAAAAAAAAAAAAAAAAAAAAAAAAAAAAAAAAAAAAAAAAAAAAAAAAAAAAAAAAAAAAAAAAAAAAAAAAAAAAAAAAAAAAAAAAAAAAAAAAAAAAAAAAAAAAAAAAAAAAAAAAAAAAAAAAAAAAAAAAAAAAAAAAAAAAAAAAAAAAAAAAAAAAAAAAAAAAAAAAAAAAAAAAAAAAAAAAAAAAAAAAAAAAAAAAAAAAAAAAAAAAAAAAAAAAAAAAAAAAAAAAAAAAAAAAAAAAAAAAAAAAAAAAAAAAAAAAAAAAAAAAAAAAAAAAAAAAAAAAAAAAAAAAAAAAAAAAAAAAAAAAAAAAAAAAAAAAAAAAAAAAAAAAAAAAAAAAAAAAAAAAAAAAAAAAAAAAAAAAAAAAAAAAAAAAAAAAAAAAAAAAAAAAAAAAAAAAAAAAAAAAAAAAAAAAAAAAAAAAAAAAAAAAAAAAAAAAAAAAAAAAAAAAAAAAAAAAAAAAAAAAAAAAAAAAAAAAAAAAAAAAAAAAAAAAAAAAAAAAAAAAAAAAAAAAAAAAAAAAAAAAAAAAAAAAAAAAAAAAAAAAAAAAAAAAAAAAAAAAAAAAAAAAAAAAAAAAAAAAAAAAAAAAAAAAAAAAAAAAAAAAAAAAAAAAAAAAAAAAAAAAAAAAAAAAAAAAAAAAAAAAAAAAAAAAAAAAAAAAAAAAAAAAAAAAAAAAAAAAAAAAAAAAAAAAAAAAAAAAAAAAAAAAAAAAAAAAAAAAAAAAAAAAAAAAAAAAAAAAAAAAAAAAAAAAAAAAAAAAAAAAAAAAAAAAAAAAAAAAAAAAAAAAAAAAAAAAAAAAAAAAAAAAAAAAAAAAAAAAAAAAAAAAAAAAAAAAAAAAAAAAAAAAAAAAAAAAAAAAAAAAAAAAAAAAAAAAAAAAAAAAAAAAAAAAAAAAAAAAAAAAAAAAAAAAAAAAAAAAAAAAAAAAAAAAAAAAAAAAAAAAAAAAAAAAAAAAAAAAAAAAAAAAAAAAAAAAAAAAAAAAAAAAAAAAAAAAAAAAAAAAAAAAAAAAAAAAAAAAAAAAAAAAAAAAAAAAAAAAAAAAAAAAAAAAAAAAAAAAAAAAAAAAAAAAAAAAAAAAAAAAAAAAAAAAAAAAAAAAAAAAAAAAAAAAAAAAAAAAAAAAAAAAAAAAAAAAAAAAAAAAAAAAAAAAAAAAAAAAAAAAAAAAAAAAAAAAAAAAAAAAAAAAAAAAAAAAAAAAAAAAAAAAAAAAAAAAAAAAAAAAAAAAAAAAAAAAAAAAAAAAAAAAAAAAAAAAAAAAAAAAAAAAAAAAAAAAAAAAAAAAAAAAAAAAAAAAAAAAAAAAAAAAAAAAAAAAAAAAAAAAAAAAAAAAAAAAAAAAAAAAAAAAAAAAAAAAAAAAAAAAAAAAAAAAAAAAAAAAAAAAAAAAAAAAAAAAAAAAAAAAAAAAAAAAAAAAAAAAAAAAAAAAAAAAAAAAAAAAAAAAAAAAAAAAAAAAAAAAAAAAAAAAAAAAAAAAAAAAAAAAAAAAAAAAAAAAAAAAAAAAAAAAAAAAAAAAAAAAAAAAAAAAAAAAAAAAAAAAAAAAAAAAAAAAAAAAAAAAAAAAAAAAAAAAAAAAAAAAAAAAAAAAAAAAAAAAAAAAAAAAAAAAAAAAAAAAAAAAAAAAAAAAAAAAAAAAAAAAAAAAAAAAAAAAAAAAAAAAAAAAAAAAAAAAAAAAAAAAAAAAAAAAAAAAAAAAAAAAAAAAAAAAAAAAAAAAAAAAAAAAAAAAAAAAAAAAAAAAAAAAAAAAAAAAAAAAAAAAAAAAAAAAAAAAAAAAAAAAAAAAAAAAAAAAAAAAAAAAAAAAAAAAAAAAAAAAAAAAAAAAAAAAAAAAAAAAAAAAAAAAAAAAAAAAAAAAAAAAAAAAAAAAAAAAAAAAAAAAAAAAAAAAAAAAAAAAAAAAAAAAAAAAAAAAAAAAAAAAAAAAAAAAAAAAAAAAAAAAAAAAAAAAAAAAAAAAAAAAAAAAAAAAAAAAAAAAAAAAAAAAAAAAAAAAAFkAMAAgAAABQAABCAkAQAAgAAABQAABCUkpEAAgAAAAM3OQAAkpIAAgAAAAM3OQAA6hwABwAACAwAAAh0AAAAABzqAAAACAAAAAAAAAAAAAAAAAAAAAAAAAAAAAAAAAAAAAAAAAAAAAAAAAAAAAAAAAAAAAAAAAAAAAAAAAAAAAAAAAAAAAAAAAAAAAAAAAAAAAAAAAAAAAAAAAAAAAAAAAAAAAAAAAAAAAAAAAAAAAAAAAAAAAAAAAAAAAAAAAAAAAAAAAAAAAAAAAAAAAAAAAAAAAAAAAAAAAAAAAAAAAAAAAAAAAAAAAAAAAAAAAAAAAAAAAAAAAAAAAAAAAAAAAAAAAAAAAAAAAAAAAAAAAAAAAAAAAAAAAAAAAAAAAAAAAAAAAAAAAAAAAAAAAAAAAAAAAAAAAAAAAAAAAAAAAAAAAAAAAAAAAAAAAAAAAAAAAAAAAAAAAAAAAAAAAAAAAAAAAAAAAAAAAAAAAAAAAAAAAAAAAAAAAAAAAAAAAAAAAAAAAAAAAAAAAAAAAAAAAAAAAAAAAAAAAAAAAAAAAAAAAAAAAAAAAAAAAAAAAAAAAAAAAAAAAAAAAAAAAAAAAAAAAAAAAAAAAAAAAAAAAAAAAAAAAAAAAAAAAAAAAAAAAAAAAAAAAAAAAAAAAAAAAAAAAAAAAAAAAAAAAAAAAAAAAAAAAAAAAAAAAAAAAAAAAAAAAAAAAAAAAAAAAAAAAAAAAAAAAAAAAAAAAAAAAAAAAAAAAAAAAAAAAAAAAAAAAAAAAAAAAAAAAAAAAAAAAAAAAAAAAAAAAAAAAAAAAAAAAAAAAAAAAAAAAAAAAAAAAAAAAAAAAAAAAAAAAAAAAAAAAAAAAAAAAAAAAAAAAAAAAAAAAAAAAAAAAAAAAAAAAAAAAAAAAAAAAAAAAAAAAAAAAAAAAAAAAAAAAAAAAAAAAAAAAAAAAAAAAAAAAAAAAAAAAAAAAAAAAAAAAAAAAAAAAAAAAAAAAAAAAAAAAAAAAAAAAAAAAAAAAAAAAAAAAAAAAAAAAAAAAAAAAAAAAAAAAAAAAAAAAAAAAAAAAAAAAAAAAAAAAAAAAAAAAAAAAAAAAAAAAAAAAAAAAAAAAAAAAAAAAAAAAAAAAAAAAAAAAAAAAAAAAAAAAAAAAAAAAAAAAAAAAAAAAAAAAAAAAAAAAAAAAAAAAAAAAAAAAAAAAAAAAAAAAAAAAAAAAAAAAAAAAAAAAAAAAAAAAAAAAAAAAAAAAAAAAAAAAAAAAAAAAAAAAAAAAAAAAAAAAAAAAAAAAAAAAAAAAAAAAAAAAAAAAAAAAAAAAAAAAAAAAAAAAAAAAAAAAAAAAAAAAAAAAAAAAAAAAAAAAAAAAAAAAAAAAAAAAAAAAAAAAAAAAAAAAAAAAAAAAAAAAAAAAAAAAAAAAAAAAAAAAAAAAAAAAAAAAAAAAAAAAAAAAAAAAAAAAAAAAAAAAAAAAAAAAAAAAAAAAAAAAAAAAAAAAAAAAAAAAAAAAAAAAAAAAAAAAAAAAAAAAAAAAAAAAAAAAAAAAAAAAAAAAAAAAAAAAAAAAAAAAAAAAAAAAAAAAAAAAAAAAAAAAAAAAAAAAAAAAAAAAAAAAAAAAAAAAAAAAAAAAAAAAAAAAAAAAAAAAAAAAAAAAAAAAAAAAAAAAAAAAAAAAAAAAAAAAAAAAAAAAAAAAAAAAAAAAAAAAAAAAAAAAAAAAAAAAAAAAAAAAAAAAAAAAAAAAAAAAAAAAAAAAAAAAAAAAAAAAAAAAAAAAAAAAAAAAAAAAAAAAAAAAAAAAAAAAAAAAAAAAAAAAAAAAAAAAAAAAAAAAAAAAAAAAAAAAAAAAAAAAAAAAAAAAAAAAAAAAAAAAAAAAAAAAAAAAAAAAAAAAAAAAAAAAAAAAAAAAAAAAAAAAAAAAAAAAAAAAAAAAAAAAAAAAAAAAAAAAAAAAAAAAAAAAAAAAAAAAAAAAAAAAAAAAAAAAAAAAAAAAAAAAAAAAAAAAAAAAAAAAAAAAAAAAAAAAAAAAAAAAAAAAAAAAAAAAAAAAAAAAAAAAAAAAAAAAAAAAAAAAAAAAAAAAAAAAAAAAAAAAAAAAAAAAAAAAAAAAAAAAAAAAAAAAAAAAAAAAAAAAAAAAAAAAAAAAAAAAAAAAAAAAAAAAAAAAAAAAAAAAAAAAAAAAAAAAAAAAAAAAAAAAAAAAAAAAAAAAAAAAAAAAAAAAAAAAAAAAAAAAAAAAAAAAAAAAAAAAAAAAAAAAAAAAAAAAAAAAAAAAAAAAAAAAAAAAAAAAAAAAAAAAAAAAAAAAAAAAAAAAAAAAAAAAAAAAAAAAAAAAAAAAAAAAAAAAAAAAAAAAAAAAAAAAAAAAAAAAAAAAAAAAAAAAAAAAAAAAAAAAAAAAAAAAAAAAAAAAAAAAAAAAAAAAAAAAAAAAAAAAAAAAAAAAAAAAAAAAAAAAAAAAAAAAAAAAAAAAAAAAAAAAAAAAAAAAAAAAAAAAAAAAAAAAAAAAAAAAAAAAAAAAAAAAAAAAAAAAAAAAAAAAAAAAAAAAAAAAAAAAAAAAAAAAAAAAAAAAAAAAAAAAAAAAAAAAAAAAAAAAAAAAAAAAAAAAAAAAAAAAAAAAAAAAAAAAAAAAAAAAAAAAAAAAAAAAAAAAAAAAAAAAAAAAAAAAAAAAAAAAAAAAAAAAAAAAAAAAAAAAAAAAAAAAAAAAAAAAAAAAAAAAAAAAAAAAAAAAAAAAAAAAAAAAAAAAAAAAAAAAAAAAAAAAAAAAAAAAAAAAAAAAAAAAAAAAAAAAAAAAAAAAAAAAAAAAAAAAAAAAAAAAAAAAAAAAAAAAAAAAAAAAAAAAAAMjAyMTowNToyNSAwNzo1Nzo0NwAyMDIxOjA1OjI1IDA3OjU3OjQ3AAAA/+EKfWh0dHA6Ly9ucy5hZG9iZS5jb20veGFwLzEuMC8APD94cGFja2V0IGJlZ2luPSfvu78nIGlkPSdXNU0wTXBDZWhpSHpyZVN6TlRjemtjOWQnPz4NCjx4OnhtcG1ldGEgeG1sbnM6eD0iYWRvYmU6bnM6bWV0YS8iPjxyZGY6UkRGIHhtbG5zOnJkZj0iaHR0cDovL3d3dy53My5vcmcvMTk5OS8wMi8yMi1yZGYtc3ludGF4LW5zIyI+PHJkZjpEZXNjcmlwdGlvbiByZGY6YWJvdXQ9InV1aWQ6ZmFmNWJkZDUtYmEzZC0xMWRhLWFkMzEtZDMzZDc1MTgyZjFiIiB4bWxuczpNaWNyb3NvZnRQaG90bz0iaHR0cDovL25zLm1pY3Jvc29mdC5jb20vcGhvdG8vMS4wLyI+PE1pY3Jvc29mdFBob3RvOkl0ZW1TdWJUeXBlPkx1bWlhLkxpdmluZ0ltYWdlPC9NaWNyb3NvZnRQaG90bzpJdGVtU3ViVHlwZT48L3JkZjpEZXNjcmlwdGlvbj48cmRmOkRlc2NyaXB0aW9uIHJkZjphYm91dD0idXVpZDpmYWY1YmRkNS1iYTNkLTExZGEtYWQzMS1kMzNkNzUxODJmMWIiIHhtbG5zOnhtcD0iaHR0cDovL25zLmFkb2JlLmNvbS94YXAvMS4wLyI+PHhtcDpDcmVhdGVEYXRlPjIwMjEtMDUtMjVUMDc6NTc6NDcuNzkwPC94bXA6Q3JlYXRlRGF0ZT48L3JkZjpEZXNjcmlwdGlvbj48L3JkZjpSREY+PC94OnhtcG1ldGE+DQogICAgICAgICAgICAgICAgICAgICAgICAgICAgICAgICAgICAgICAgICAgICAgICAgICAgICAgICAgICAgICAgICAgICAgICAgICAgICAgICAgICAgICAgICAgICAgICAgICAgCiAgICAgICAgICAgICAgICAgICAgICAgICAgICAgICAgICAgICAgICAgICAgICAgICAgICAgICAgICAgICAgICAgICAgICAgICAgICAgICAgICAgICAgICAgICAgICAgICAgICAKICAgICAgICAgICAgICAgICAgICAgICAgICAgICAgICAgICAgICAgICAgICAgICAgICAgICAgICAgICAgICAgICAgICAgICAgICAgICAgICAgICAgICAgICAgICAgICAgICAgIAogICAgICAgICAgICAgICAgICAgICAgICAgICAgICAgICAgICAgICAgICAgICAgICAgICAgICAgICAgICAgICAgICAgICAgICAgICAgICAgICAgICAgICAgICAgICAgICAgICAgCiAgICAgICAgICAgICAgICAgICAgICAgICAgICAgICAgICAgICAgICAgICAgICAgICAgICAgICAgICAgICAgICAgICAgICAgICAgICAgICAgICAgICAgICAgICAgICAgICAgICAKICAgICAgICAgICAgICAgICAgICAgICAgICAgICAgICAgICAgICAgICAgICAgICAgICAgICAgICAgICAgICAgICAgICAgICAgICAgICAgICAgICAgICAgICAgICAgICAgICAgIAogICAgICAgICAgICAgICAgICAgICAgICAgICAgICAgICAgICAgICAgICAgICAgICAgICAgICAgICAgICAgICAgICAgICAgICAgICAgICAgICAgICAgICAgICAgICAgICAgICAgCiAgICAgICAgICAgICAgICAgICAgICAgICAgICAgICAgICAgICAgICAgICAgICAgICAgICAgICAgICAgICAgICAgICAgICAgICAgICAgICAgICAgICAgICAgICAgICAgICAgICAKICAgICAgICAgICAgICAgICAgICAgICAgICAgICAgICAgICAgICAgICAgICAgICAgICAgICAgICAgICAgICAgICAgICAgICAgICAgICAgICAgICAgICAgICAgICAgICAgICAgIAogICAgICAgICAgICAgICAgICAgICAgICAgICAgICAgICAgICAgICAgICAgICAgICAgICAgICAgICAgICAgICAgICAgICAgICAgICAgICAgICAgICAgICAgICAgICAgICAgICAgCiAgICAgICAgICAgICAgICAgICAgICAgICAgICAgICAgICAgICAgICAgICAgICAgICAgICAgICAgICAgICAgICAgICAgICAgICAgICAgICAgICAgICAgICAgICAgICAgICAgICAKICAgICAgICAgICAgICAgICAgICAgICAgICAgICAgICAgICAgICAgICAgICAgICAgICAgICAgICAgICAgICAgICAgICAgICAgICAgICAgICAgICAgICAgICAgICAgICAgICAgIAogICAgICAgICAgICAgICAgICAgICAgICAgICAgICAgICAgICAgICAgICAgICAgICAgICAgICAgICAgICAgICAgICAgICAgICAgICAgICAgICAgICAgICAgICAgICAgICAgICAgCiAgICAgICAgICAgICAgICAgICAgICAgICAgICAgICAgICAgICAgICAgICAgICAgICAgICAgICAgICAgICAgICAgICAgICAgICAgICAgICAgICAgICAgICAgICAgICAgICAgICAKICAgICAgICAgICAgICAgICAgICAgICAgICAgICAgICAgICAgICAgICAgICAgICAgICAgICAgICAgICAgICAgICAgICAgICAgICAgICAgICAgICAgICAgICAgICAgICAgICAgIAogICAgICAgICAgICAgICAgICAgICAgICAgICAgICAgICAgICAgICAgICAgICAgICAgICAgICAgICAgICAgICAgICAgICAgICAgICAgICAgICAgICAgICAgICAgICAgICAgICAgCiAgICAgICAgICAgICAgICAgICAgICAgICAgICAgICAgICAgICAgICAgICAgICAgICAgICAgICAgICAgICAgICAgICAgICAgICAgICAgICAgICAgICAgICAgICAgICAgICAgICAKICAgICAgICAgICAgICAgICAgICAgICAgICAgICAgICAgICAgICAgICAgICAgICAgICAgICAgICAgICAgICAgICAgICAgICAgICAgICAgICAgICAgICAgICAgICAgICAgICAgIAogICAgICAgICAgICAgICAgICAgICAgICAgICAgICAgICAgICAgICAgICAgICAgICAgICAgICAgICAgICAgICAgICAgICAgICAgICAgICAgICAgICAgICAgICAgICAgICAgICAgCiAgICAgICAgICAgICAgICAgICAgICAgICAgICAgICAgICAgICAgICAgICAgICAgICAgICAgICAgICAgICAgICAgICAgICAgICAgICAgICAgICAgICAgICAgICAgICAgICAgICAKICAgICAgICAgICAgICAgICAgICAgICAgICAgIDw/eHBhY2tldCBlbmQ9J3cnPz7/2wBDAAIBAQEBAQIBAQECAgICAgQDAgICAgUEBAMEBgUGBgYFBgYGBwkIBgcJBwYGCAsICQoKCgoKBggLDAsKDAkKCgr/2wBDAQICAgICAgUDAwUKBwYHCgoKCgoKCgoKCgoKCgoKCgoKCgoKCgoKCgoKCgoKCgoKCgoKCgoKCgoKCgoKCgoKCgr/wAARCAFDAZADASIAAhEBAxEB/8QAHwAAAQUBAQEBAQEAAAAAAAAAAAECAwQFBgcICQoL/8QAtRAAAgEDAwIEAwUFBAQAAAF9AQIDAAQRBRIhMUEGE1FhByJxFDKBkaEII0KxwRVS0fAkM2JyggkKFhcYGRolJicoKSo0NTY3ODk6Q0RFRkdISUpTVFVWV1hZWmNkZWZnaGlqc3R1dnd4eXqDhIWGh4iJipKTlJWWl5iZmqKjpKWmp6ipqrKztLW2t7i5usLDxMXGx8jJytLT1NXW19jZ2uHi4+Tl5ufo6erx8vP09fb3+Pn6/8QAHwEAAwEBAQEBAQEBAQAAAAAAAAECAwQFBgcICQoL/8QAtREAAgECBAQDBAcFBAQAAQJ3AAECAxEEBSExBhJBUQdhcRMiMoEIFEKRobHBCSMzUvAVYnLRChYkNOEl8RcYGRomJygpKjU2Nzg5OkNERUZHSElKU1RVVldYWVpjZGVmZ2hpanN0dXZ3eHl6goOEhYaHiImKkpOUlZaXmJmaoqOkpaanqKmqsrO0tba3uLm6wsPExcbHyMnK0tPU1dbX2Nna4uPk5ebn6Onq8vP09fb3+Pn6/9oADAMBAAIRAxEAPwD37zPaoakqrJXGdgSRDy/3VVpMxHNP83/ao83/AGqAI6jqZ+tQ0ARv/qqZ/wBdaWPzv+WtOf8A1VBfvEPl+9Q+b/tVJUcveggKh/5afvamqL5/agBPM9qP+m9L8/tR8/tQAfP7Um6X1pfn9qSSWgBfn9qSP97TaT/rlQAtFR0//rrQAidKk5iem0fuc/vaAE833NLRSeb7mgBaKPN8rpR5Wf8AVUAO8z2ptRySUUAEclPk/ejrHR/qo6Z/ra0AfHLTP4/Iooj8mX+5QX7xNF9ymSfuuKZ53lUf63f++oD3iSio6P3VAe8PjiqaTP8AmWoo/wDprXhP/BQDxPrHhf4Z6PeeHNYnsXk1rZ5kcvlyeZ5clBB7x5cUv+qmo8v3r4M+Ef7Q/wC0JYeJH0fS/FV3ff2pdRwRf2l+8+z/AOfMr7n0uW8i0+GHVJvPuvK/0qSOLy/MkrMC1QZef3VRySw/8Ao/5ZVoX7w/9z70tQ/aovM8nFO/5a0B7wVGn/TWpKZ5vuKCCeo6Z5vuKPN9xQBP5UPpUZ/5aUeZ/wAsqa/Wgv3jr5JTTJP+mtEnkxVD5v8AtVmQHm/7VQyfvY/3VPk/e8Uxv4KAI36U2j/W1HQA5+tQeb7mpPn9qj8r2NADJJKZ5vuKf++kpnlewoAPN9xTfn9qT/lpTJPOoAWik833NLWgB5sPrUckvaKpKjrMA83/AGqP+WtFR0ASVHRRQAVJF2pr9ab/AKygBfNyP3VHm4H72m/P7Un/AFyoAdS+bDF1o8r2FN+f2oAl83/aplx/q/3tMjlokloAf+59qV+tRx/9MqfH+9kxWgB5vuKZ5ntTqjf/AKbUAHm/vKf8/tUFP/fe9AE3m/8AbSj99Kaip0f7qgB1fOH/AAUQ8Ryy6foPhWKGDyY/M1Ga5kl/6aeXX0VrGqQ6No95rF1NDHDZ2sk8skkvlxxx/wDXSvzr/aA+OfiT4q6xczS+ekcd1J9l/eRyRxx/9dPLrMD1H9h/4cjxv8SJvFUXn/2Vpd158Uklr5kf2j/nn5klfZlx50UnHlun/XKvGf2B/CWpeEv2d7CbVLNI5tQuri6i8vzI5PL8z93/AKyvYPtP7xof3n/fqgB/lY/1VM/660fv/Pz5P/bSj/rrQAR08y+b0qL/AFdHm+V0rQCX9z7U35/ak/13+sptZgAl5/e0/wCf2qCSSjzf3dAEnm+V0pI/+mX36Z/qqK0A7by/eoZe9SVHL3rMCGSHtS/P7Ukv3KbQBHL3pkkppX60z5/agBhl5/dUeb5vWk/65UyST7/FABUXz+1S+bDF3qL5/agA+f2plFR0AFP/AOuVMqSgAqvkf89qk83/AGqP9bQAS96P9bUdFAEn/fuimp1ofrQAf8tKbS/9cqPN9xQAlL5vuKZ5ntS/P7UAJHTqb5ntQZf+etAD/wDrlTPL96JIsSedS/P7UALRTd0vrS/P7UAO8rH+qpnme1P8rH+qpvz+1ADJP+mVR48r/ljUlR0AP833NPt4qhqaOX2+egDyv9tjWZtL/Z/1Kzimk/4mksdl+7/d18Z/C/4LeJPi149s/CvhLTY98cm+6+0/6u3j/wCWnmf89K+mf2/LrTYvC+iQy3t9G8d1IkX7r/j4k8us3/gnX8Ptei/tX4qapZxx2dx/oul3Mkv7yT/np+7/AOedAH0zZ6XZ6Np8Om2uzybeKNIoqLmn3E3mVWkkoL94kp3+pqH/AFn+to/1UlBA5+lLHkfvqP8AWx/vaZ/y1/5aUAP/AHPvS1HR9r/0j7F5Mn+q3/6qgAkip/8A1ypag1DVLPRtPfUr/wDdpHFvloAlTpTf/IlcxZ/Gn4cX+sW2j2viq1ke48tIY/tUf7ySSunoA7Sqpl/561NUMlAEb9KjfrTpe9R0ANklpnm+5qT5/amUAFR/uf8AllU3l+9Q6hL5Vu82I/8AVUAQ3GqabFIlnLeQb5P9XH5v7yiTya+Gfh34D8VftGftMTf2z4qupLC3v/tV1JHL/rI45K+6fKPlpDF/yzoAioPV6a/SoaAJJe9H775KKa/WgB1R/wCrpZMxHNL/AOjKAG0eTDS9/wB7DSUANj/1n7qpH60nlewpvz+1ACRyw0vz+1JHD2oEv/PKgAb+Cl+f2plOj86gBfn9qPn9qPn9qPn9qAD5/ak2f9Nqb/rKf8/tQBHJLRH/AKr99/38o/dZzFNUnz+1ADKd/qufJpknv5kdMz/03oAJe9SVH/y1pkkX7z91QBNH+94jNTW/lVWjimqh448R/wDCJeD7zXvJ8x44v3Uf+r/eUF+8fHP/AAUA+IM3iP4mWGkWE0cENna/6vyv3nmSeZ+8/wC/dfWP7P8A4c/4Q34L+HtBlh/fR6XG8v73/lpJXxJpcXiT9of9qiw/tTyJH1DVI/t/2aLf5ccdfoFJ5UUfkxQ/JH/qqCB8h/6bVDL3pkn73ikoAMD/AJ41JR5n/LKjysf6r95QA/yvY1Pz/wCRqq/vvL/5Zx/9dK89/aw8G3ni34L382i69dWN/o8v9o2tzHLJH/q/+Wf7ugDN+H/xV8VfFD4+a3o+lzQR+G/D/mWsccdr+8uLj/np5n/fyvV/30XSavkL9k/4l698FtQfQPFHg/Up08QS272t95X/AE0/1nmSf6z/AFlfXvm+6UASfP7V5V+1p4oh8OfD57OWaOR7zzEitv8AWSSSf9c69Ujl/wCev3K+Rf2xPi1/bHiD+wbCb5LOaRPLj/8AalL3gPOvg38NPEnjf4kQ+JPBtnJ/xJ7q3e68uKSTy4/Mr75/feX/AM868i/Yr+Gl58PvhWmvap/x865+/wD9V/q4/wDln/8AHP8AtpXrskv/AE2q6YHWSf8ATWoX6UJ0psvepAa/WmfP7U64/rUPm+5oAWjmX/pnSf63/WijzfK/1U0n/bSgDyL9pj9puz+Bml/2PoVnHfa9qH/HhbSS/u4/+mkleV6P8B/j98c/C83xO+IPxUn0r7ZYb7Cxsf8Ann5f/LT/AKZ1iaxdf8Lu/bQhs/sfn2Gn3/2WW2kij8zy/wDlpX1p4k1TR/CXhO81i68uCz0+13+X+7j8uOOgD8+vgH8RvG37OfxIm8SRTSX2mxy/ZdUj/dx/u/8App+7r75+G/xL8K/FXwfD4w8JTSSW0n+tjli/eRyV8kfsz/Dmz+PvjDxPr3ijTfMs9QluH8yP939nkkk/d1D8A/GV5+zJ+0BdeA/FGpXUGm3F19lljuY/3cf/ADzk8vzKAPtb9yf+mdRy96P3N1Gk0X+/FJUflf8ATagBslP833FM/wBdUn+t/wCmlAEf+po8z2qR+tM+f2oASOjzPao36U7/AFdAD/n9qPn9qjjl/eU/zPagBtNfpUvz+1Hz+1ACeZ7Ueb+78mm1HQA/zT6/+QaWio/N+9CKAJKP9XUdFABUlR1H/q6ALFR1Gn/TWigBY5TT6JP3Uf8AqZKZ5uB+9oAmj/df62vE/wBuTxlDo3wzfQJZrGD7ZFvikvpZI5P+ucfl/wDLT/WV7Z/okUHmy/cjir4A/bQ+I3jD4l/EC80Gw021kttLupEj8vVPPkuP+uf/AJEpe8B6d/wTb+Gn2q81j42X80mz95p2lx+d5n/TSST/ANFx19XS96+ZvgP+2l+zT8OfBmj/AAll03WPD6afF5EtxqVh/o8kn/LSSSSOST/WSV734P8AiN4C+INu83gjxhpuqrH/AK3+zbrf5dMDYktf3n+uoko/j/eeXRHF2MP/AFyoAf5uB+9qbj/nt89Q+Vn/AFtee/Fz9qD4Y/Bvxxo/gTxleXUc2sR+f9pj/eR2cf8AyzkkoA8H/aU/aD+LVr8cNVh8EePJLWx8Ly29ra6b5v7vULjzI/3ckf8ArP8Anp/2zjqzb/tI/Hj45+H3+Fdh4Djsb+8tZLXVL6PzP3n/AD0/dyf6ujwv8EYf2h/2hH+OWg6bPH4Sk1nz4tSkmj8ySSP/AJaRx/8ATSSOvrGOKG1kfyrOCN5P9b5cX+spe8ByXwg8OabdfCvw3Zaz4VjjfT7C38q2vrX95HJH/wBdK7P/AJaf36h83/tnT4v+mtMDN8e6zN4c8F6lqUX3/ssnlf8AXSvhXwfoM3xk+MFh4bmmnkfULrfdX0kv7z/0Z/yzr6c/bM+IMOg/Debw3a3kkD6h8kknlf8ALP8A1kn7z/P+srgP+Cf/AMPry51jWPidf/8AHnHF9lsPM/5+P+Wkkf8A2zpe8B9Rafpdnpel22j6X+7hs7WOCKOSX/lnHUNx+66eX/1zqaSWqcv+s/e0wOwk/dcVE/WnZ/6b03n/AF1BfvEcv3Kh/wCudHm/7VR0EBUn/LP/AF1M/wCWiUCXyutAHyF8P/O8B/tm6lDrM0HnXGs/6zW4vLk8uT/lpH/7Tr0L9vD4tTeHPh/D8PdGm/0/XJdkscf+s+z/APLSu5+NH7N3gn453FtrF/NPpWsWfyWurWP+s8v/AG65jwP+yD/ZfxAh8efFX4hT+Lryzi2WH26L/Vxx/wDLOSl7wHSfsr/Dk+A/g3ptnqmmxwX95F591+68v/rnXGftkfs3f8LQ0yPx54S0fz9b0+L97HHH/wAfEf8A8cr3X93TPN9zTA8N/Yv+KHjzxb4bufB/xB8NalB/Y/yWt9cxf9s/Lr2+m/uYt/leX+8l/e+XFUHm+5oAP33vR/qh/wC1KZR5vlf62gCSo6P9bRQAeb/tUeb/ALVFH+tj/dUAD/8Afyjzf3f72j/VUUASf6uo5ZvK/wCWNMklNEX3WoAfRUf/AH8pf30X9+gB/m/7VEklMk/1lHm+4oASpJJKa/WmfP7UALS+V7Cmf980f9sf+/dADqXzf3dN+f2qPzfc0ATeb7ilTrUcf73jyaf5XsKAOJ/aI+IP/Cufhff3kUM++4ikSLy/+WdfMf7J/wANIfj98Y9Y8YeN9NurrRNPtZE/0n/lpcSf8s3kj/5af/G663/goB8S4bq8sPB+jaxJG9v5j39t/q/M/wCedenfsT/C/wD4Vp8Dra8uvLkv/EH/ABMb+SSLy/8ArnHS94DE8UfsH/D263/8Iv4qvrFZI/8Aj2uYvPjqb9m/9mTxV8FviBf69qmpaVJZ3FrJBFHY+Z+8/wBX+8r2uuZ+OHjzWPhf8K9b8eeF9Bj1W80u13xWMn/LT95HTA6h+tJ/1yryv9l/9qXw3+0Po7xXVn/ZXiGzi/4mmiSf8s/+mkf/AD0jr1fyaAPJf21PjJr3wg+Cc2seDdYksdYvL+3tbW+jijk8v/np/rP+udfOXwLsLz9sP46XMPxu1KeR9P0G3eL7DF5ccnl/+i//ALZXsf8AwUs0bUr/APZ7h1jS4fMk0/Xrd5ZP+ecckckf/wAbrv8A9l6LQde+E+g/Eiw0GO11DxBoNm+qeVF5fmSRx0veA6r4d/D7wr8L/CcPgnwbZyQWFv5j/vJfMkkkk/5aSVq3MX/PKvK/ip+2R8Gfg38VE+FfjKHVYJvssc8upR2HmW9v5n+r/wCmn/fuOrPhL9sj9mPxvqE2m6D8VLWOaOXZ/p0UkHmf9c/M/wBZTA9L3S+tFxfw6XZtqWqTRwQx/wCtkkqtonijQPEcfnaDr1jff9e11HJXAftQePLzwv4PfTdGvJ7Wa4/5aRw+Z5kn/PP/AKZ0AfNn7SHxG1Lx540fTdGmg+zXkvl2sltF/rP3n7z/AMif+i6+t/gf4I/4Vf8ACvSvB8v+ut7XfdeX/wA/En7ySvl/9jf4fw/EH4of8JJdw/atK8P/ADxSSWv/AC8f9dK+x5Lql7wBJ/0ymqtn/pvT5JT/AKmmUwOq/wCutHzf89ko/wBdRJQBDUdTySzf8tagf/plQAU2SX93R5ntTJP3XFAC+b+8pPN9zR5vuaZQAeb/ALVMklNJkf8APao7e/02/uHhsLyCd4/+WccnmeXQA/5/amf6ynSfuuPJpnlexoAZRR/qqjoAkz/03qOinJ1oAb/q6XzfcUnmzetSUAR0VJUdADv+WlJ+58391RJFnv5dN+f2oAd5vuKZH/0y8yl+f2p//ougBJIpoupoklNM/wCWdH/XKgBfn9qT/a/5Z/8APSj/AFNMjloAfJS/P7VHJ9/zoppI6JIsf88/+ulAC0UVHcReafJ/eR/9cqAJvL96reJNZs/Dnh651jVPM8m3i/e+X/rKuRxGvE/24PiXN4N+Gf8AY+l6lPBeXEv7ry7XfHJ/0zoA+e/EkV5+0Z8eLaztfLkh1zVI7XzPN8yT7PH/AKyT/v3X3bZ6XZ6Npdto9hDHHa2drHBax/8APOOOvlf/AIJ3/C+G61DUvizfReX9j/4l2jf9dP8Al4k/9p19U/P7UveASSWjyoZY/Jl8uSP7ksckX+sqGn/vv+WUNMD5F/aU/Zk8SfBLxZbfGz4GTX0ENvL5/wDo0vmfY5P+ecn/AE71yXxI/b1+M3jLwvbeG9G/4p1/Kj/tnVtNi/eXFx/0z8z/AFcdfdVxFDdW72d/DG8NxF5cscsX7uSvlr42/wDBPuz1n4s6Pr3w5mntdB1C/wD+JzbW0v7zT/8Arn/0zk/8h1P+ADtv2X/FB/ag/Zrv/DfxfvI9Vf7VJp1/JH+7kkjj8uSOT93/AMtP9XXs3hfw5o/gjw3YeD9Bh8uz0+1jgtY6xPhH8JfCvwR8Dw+CfCNn5cMcskl1cyeX5lxJ/wA9JK6TzPan7wHmn7QH7LXgP48XH9vXU0ljr0dr5EV9H+8jkjj/ANX5iV4tqn/BOLxVFJ52l6lo90n/AF1kgkk/8h19aS+/7ypPM/6a0e8B8Wax+xH8d/C9v/bHhyGSOa3i3xf2brP7yOvNNc8e/Ei5s5NB8b69dXX2P95F9u/1nmf8s/3n+sr72+L/AIoh8G+A7zWLq88vy/L/AHf/AD0/eR/u6+NvhhoN58Wv2hLPwrFrHl2Ed/cXX+jRR+X5fmf9+6PeA+ov2S/hpD8NPg/Yfav+PzWP9NupP+un+rjr0z5/akji+ywJDF+7hj+SL91Ub9KYDZe9FEv/AAOmfvvagDq6Tzfc0zzP+WVOz+7oAjfrTaMD/njTf+uVABJUPm/89fv1NJD2pnlN/wA9pKAIf9b/AK00cRf8tqfUdAEWqaXpuvaXc6NqkMc9teRbJY/+mdfEOoWGsfsjftUedpV5JPYR3W+1tpLrzP8AQ5P+Wdfc/leaP9dJXjP7bnwbm+IPw3/4TDQbPzNY8N+ZdRSR/wCskt/+WkdL3i/ePZreWG/t4by1+5cRb4qhk8mKT97DXif7C/xzh+I3gP8A4QLWdS8zUtHi3xeZ/wAtLevb7j+tMPeK3l/8taKPN/2qKCBn/XWGTfT/ACv+eX/kSiT9z/qqjoAKT5/al/1lL/11oASinf8ALSm0AN/11L8/tR8/tR8/tQAtFJ8/tS0AN/feXR5ntT/K9hTOIh+68ygBfn9qj8r2NP8A9TS/P7UAMpP+uX/kOn7P+m1R5/d0AOPV6Mn/AJ7SUn+qj/e09v4KAHx/uo/3v3P+WtfDH7a/xBvPFHxAfTbXUpNkcsf2WP8A1fl/8s//ACJX2l8QNetPC/hC/wBS1TWLWxT7LJ/pMkuyOviH9n/wbZ/Fr9pDSoYv3+j6fdSahdfuo/8AVxyeZ/yz/wCmnl0veA+w/gX8Of8AhVXwj0HwT5Mcc1vYR/b/APlp5lx/y0rrZP3tPklNVv8AlrTAPN/2qKJe9M/c+1AEySw4z+8p8kpiqHH7zr8//XWj99/wCgB8nk/8tqZ53m0f8tP3U1HneVQA+OWnpnzP3tQ+b/tVDrmqQ6Do9zrF1/y7xb/L83y/MoA8X/bQ+Kv9g+C5vDdrptrOmoRSWsUlzL/38/d1y/8AwTf8Bzxafr3xI1TTY4PtF15Fh+6/1f8Az0rxz44eMtY+JfxE/sHS7Oe+b7V5Fr5cX7zzJJP3kdfb3wv8EWfw+8B6b4V0uzjg+z2sf2qP/p4/5aUveA3pP3XFM83/AGqfJLNTKYD/APWx0z/llR/yyo/650AdP5Xm/wCpp/l+9eD/ALcl1rEvhfStB0a8ntUvNU/4+Y7rZ5cn+f8A0XXN/C/43fGD4GeMbb4b/GTUv7cs7zy3iubmX/SI4/8AnpHS94D6WuIjL/qqbJ50X+thqXS7/Tdf0+HWNMvI57a4i8yKSOTzPMp8kX7ymX7xW8rP+tpKk8mjyaCCL5/amVJ/38ooAjEvP72i4tYb+3ezuoY9lxFsljpPK9jVmOKgD4T+wXn7KH7Yn7rzrXRJJZJ7XzPM/wBIt5P+Wf8A38r7gs5rPVLOHUoZvMhki3xSV4t+3h8G/wDhN/hf/wAJ5pZj+3+G/Mn/AHcXmeZb/wDLT/45VP8A4J9fFaHxv8M7zwfdXn+k6Hdfuo/N/efZ5P8A7ZS94D2+4i/eVD5X/PKrklp/3xUMlMv3iGSKb/ppT44qfHR9lh9aCCGS196f5v8AyxqbyvYUeV7Cgv3itTPK9hVmSHtS/P7UEFXyvYUeVNL1qek8r2NADKPJp/lexo8r2NADPJpn7n2qb/rrR5XsaAK3l+9HlcdP3lWqjl70AQ/9dYaX5/apfK8n/Ww0+S1/55TfJQBTjimqzbxfu6JIv+ulPk/dWbzSw/6v54vLoA+Xf+CgHxB+wXln4VtZrWN47Df/AKT+8/1nmfvP3f8An95Wr/wTv+Gv9g/D/UvHktn5c2sXXkWEksv/AC7x/wD2yvB/2hPEd54y+LD/ANjXskdzby/ZfLj/AOXiTzP/ALZH/wB+6+5/hn4S/wCED+HeieD4oI4/7PsI0l8v/np/y0/8iUveA2fK83/43Uf2apvN9pNlfMf7K/7cPjD4v/GC5+FfjLwrBJHJLcPpepWP7v8Adx/8s5I/MpgfSckU0XH/ALVpfK83pXF/tOfF/wD4Ub8Hrzxta+RJcx3UcFrHc/vI/Mk/9GV5j+z/AP8ABQDwr8S7yHR/iD4b/wCEfe4+SLVo5f8AQPM/55ySf8s6APfpYv3lH/XSppIvNpkUX/PLzKAGfZfaj/prU3/XL/WVGnSgBbf91zivN/2rPFkPh34dzQy6x9lf7/8Arf8A0ZXp0cflb/NFfJf7bnxBmv8AULaz0C8k/wBIi/0WS2tf9ZH/ANdKXvAZv7C/w5m8W/EzUvGGswvdW2ny+fFc/vPLkuP+Wf8A20r7AkHm8S/+RK8x/Y3+GkPw5+DdteS/u7zXP9Nuv3vmeXH5f7v/AD/00r1ST97xR7wFaSKinvEZaWmBB/11o8r2FWfL96Z5XsaAPLv28NZvPBvw/sPHlr58f9l3/wC98v8A1cfmR+XVbS/FPg/9qr9mNPEk3l2N/p8WyK+ubry/LuI4/wDnpJ/yzq//AMFFNHvNU/Z3v5rWGGT7HdRzy+ZF5kleFfsz/staZ8X9k0XxCksYfK33Wmxy+f8A8tP3nl/u444/+Wf/AD0pe8B6F+z9+1Lo/wAOdHufB+vfbtVht5dlh/ZsUckccn/XTzPLr3L4f/FXxJ8Rrj7ZYfD2e10f/llqV9deX5n/AFzjryL4ifsM+D/Afh+Hxh8NIbqfWNPuo55ftM3+sj/6Z17l8L/FE3i3wfbXl/Ckd5H+4uo4/wDlnJR7wG5/rKjqaSHtR5fvTAh8n/rpTfsvvVvyvYUySHtQBX/5Z06P99/raf5XsaX7J7R0AR6jYQ6pp82m38Mc8NxFslj/AOelfDfwfv7z9kb9se88B6prHkaDcSyQS+Za/wCst5P3lvJX3b5XldK+Kv8AgqJ4DvNF8aeGPidYWcey8tZLW6kk/wCekf7yP/2p/wB+6XvAfZkn73/ppVaS1/651zf7O/iiHx58D/DfiqKeOT7RpcaS/wDTOSOuq8r2FHvAU47Xyrh5vOk/ef8ALOSX/V0/yamMX/PWjyj/ANM/ypgQxxQxUeV/zyqbyvKko8rj/lnHQBDJFR5NTeX70eT+8oAZ5XsaZ5NTeT+8ojh7UAQ+TR5NT/P7Unk/vKAIfKH/ADwWjyofSpvL96I4v3lAEPl+b/00o8qb0qxHFx/qazvGnjfw38PtHfWPFGpQ2sPlfuo5Jf3kn/TOOP8A5aUAXPK5xL5dULzxH4VsI0+369Yw/wDPLzLqOOvgD4mfG74qePfEGpf8Jb41m3/Zf+PG2lkjj+z/APTOOP8Ad+ZWRo/wW+IXjLT0vPDnw91i+SSLfax2NhJ5ckf/AF0qfaAfozp+qaPrMf8AxK9StZ/L/wCfa6jkrlfj543h8B/Du8vIvMjubj5Iv3XmSR/9NP8AWV8SeH/2Wvjxo1xNe2nwx8Qaa9vF58txbWskHlx/9M/L/eeZ/wBM464nxxr3xC/s/wD4qP4heI5Ht5ZIIrbW7q4k8uSP/Wf6yj2gHpH7Jfg68+Jf7UFnqXlQT22nySapLJHLH/q/+eckf/XSSOvdf24PFv7Qnwbu9B+OXwq8SSSaVZ/6Fr3h+SLzLS4/eeZHJJH/AOQ/MrxD9i/9ozwR8DJL+8+IPhy+kfVPLgutb0395HH5f/TCvtjR9Z+G/wAafA9zDo+sWPiDR9UtfIuvs915n7uSP/Vyf886fvAeY6p+034V8b/sz+JPido2pQQXNvoNwl1ptzL/AMe9xJH5cf8A5Ekjr5a/4Jz/AA+h8Z/GT+2L+GTZZxST/aYrWOTy/Lkjkj/1n+r/AO/dM/bA+Evjb9nPUNS8K2t5JJ4e8QRb7CTyv9ZHHJ/y0/6aR/u69C/4JT+DYZf7e8bWujyRp9l+xfaZIpP3kn/LTy5KPeAP+Cmnxk+32/8AwpnVPCt1p2pafqkd1a3Mkn+j6hZyW8kfmfu/9X/1zrtv2Hvgr4J8b/s5v/wlukWt9b6xdfurmOLyJP3f/wBsrY/4KG/s8Xnxf+Db+K/C+mpJrfhvzLrzI/8AWXFn/wAtI/8App/z0qh/wS/8Wzaz8F7nwrLo/kPpd158skV1I/meZ5n+s/55yfu6PeA978N+F7PwlodtoNreXU6W8WyKS9l8ySrnk1of6yoJLX93TArS96Iu1WfK8rpRHmU5oA5L4yeLZ/Bvge51Kwh8y5kljgi/56V8Y+F/CU3xk/aQ0rR9Gs45Fjut9/J5sflyRx+Z9/8A5aR/6uvpz9sDxdeaN4LuZrDWII5rPy0+zSReZH+88z955f8Az0/1dcL+wP4M1LVNY1b4nap58dt5XkWvmQ/6yST/AJaeZ/y0pe8B9IW9haaXZw6bYWfl21vFsijji/1cdGf+m9WbiKoZP3X+thpgQ+V7CjyvYVNJFTIu1AEdFTfZfK60vlexoAxP2pPDkOvfs/8AiqzuofM/4lcjxfuvM/eR189/8E17+8k8UX9ndeZcJHY74pI4v3cf/TOvrTxh4X/4SjwvqWg/8/lhJB/38rwf9jP9lXxt8DPFGpa94yvZ/wDnha20c3mW/l/9/P8ArnS94D6KkPmx/varafpmm6XZfY7Cyhgh/wCWUccVWf8AWpT44jTAg+y+9c54o+NPwl8EXHk+LfiRpVjN/wAtbaS6jkkj/wC2cdeP/twftLQ+A9LT4b+CNe/4mV5/yFJLaWOSS3t/+ef/AEzkkrwz9nz9lv4gfHh5tVsLlrOxjh/c3lwJDJcSf9M38v8AeR1MpcsbvYD2r4+ftz2fw+8YaPD8KrzQ/EdncWu/VI/t8kckf/xutXwH/wAFCfgzr0aQ+O4r7w5ef8tfMiknt/8AtnJHHWHpf/BJnxPrN/D/AGt8QY/s/k5u5ZLEA4/554zWT8Wf+CXXxV+HVrcX3gfUbPxBpoZXZryT7PNjuAg4P559q+blxjwxDMI4J4yn7SWy5lvppfa7vor3Ob65hVU5OdXPpvw/4j8N+MtP/tPwl4ksdSh/56WN1HJVz7L7V8N+Kf2J/wBpL4cPDe+F/DerQt5cdzt8LTHZBJ/1zrW+HH7Y/wAc/geZPD/xc0u41vTbfzIzcXVrI95HJ/zzkfzK+hp1qdX4JJ+judCknsfZ3lTZxFXiH/BQjw5Dr37Neq3l1pvnvpd1b3UX/TP955cn/oyvRfg/8bfh78c/D/8Ab3w+16Of/n6tpP3ckdcf+3JJ5X7K/jDzZv8AWWEaRf8AfyOtPeGcH/wTL8ZaPrPwj1LwRa3k8lzo9/vljkl/5ZyV9JeTDXyZ/wAEn7D7f4X8T69LNJvt7qO1h8uL93+8/wBZ/wCi469R/b4+LXjz4I/AL/hNvhpN5Gpf2zbwfaZP3nlx/wCs/wDadHvAeu3n2Owt2vL+aONI4t8skkv+rjryL9nf9r7wf+0F4w1jwTpej3Vrc6f5j2skksckdxb/AOf+Wdeb/tIftff29+x3o/iTw5pv/Ey8cWH2Wa2tpfM+z/u/9I/z/wBNK6T9g/8AZp0Hwb4H0r4nX+mzwaxcSyTxfbvMjkjt5I/Lj/5aeXJ/10o94D6E+yw+slU49e8Ny6g+jxaxayXkf/LtHdfvI/8AtnXmP7bH7Rn/AAz78L4ZtB/eaxrl19lsP+mcf/LSSvBfgX+zT+0t4t8J3nxasPidfaPNcS/atL03zf8AkIf8tP3n/LOOT/2pR7wH2jJa0yOKue+C/iPxJ4o+HdhqXjGzkj1WPzIL+OSPy5PMjk8v95XTxw9qYDPK9jTI4qsxxGjyvYUAVvJo8mrPlTRdKPK9hQBW8nze1Pjtasx2sPrU1xaQxW7zSzeX5fzyyUAcH8cPjJoPwM8DzeJL6aCS/k+TS9Nkl8v7RJ/8br421T4jfFr48apNZy3n9pXlxLG/7vzI/L/6Zxx//vKm/ag+NMPxa+KFzBYeZ9gkl+y6NJJHJ5n7v/pn/wBNJJP/AEXX1L+yv+znoPwg8F2esapo/l69eRf6VJc/6y3/AOuf/PP93/rKXvAee/A/9grw3FHZ+JPi1pskl5b3Uc9rbfavMjk/66f/ABuvpC3sLTS7dLPS4Y7WGOLZFHHF5cccdXJIe1HlGX/W/u6YGbqF1DpenzalfzR+Tbxb5a/OX4+eKLz48fHR9N0azk864v47W1tvMj8ySTzPL/1lfYH7cnxGh8B/DObQdG1iCPVbiLf5fm/vI7f/AFfmV4V/wT7+Ddn8QfixqXxU8R6b56eG/wDj1ufN/dyXkn+r/wC/cf8A7Tpe8B7Bqn7Avwfv/hvYeDorP+ytVs7CNJdWto/3lxJ/y0kk/wC2lfLuuWHxI/4J9/HP7Zpd5HfQyRf8e3/LO8t6/R2vEP8AgoB8ILP4l/Au516KGD7f4b/021kk/wCWkf8Ay0/+Of8AbOj3gNX4keA/BH7ZH7Pdr5U0caaxYR3ujX0cvmfY7j/P7uuV/YX/AGZPGH7OnhDWB431iOF9Qljf7DHdeZbx+X/y0/66V5d/wTP+Pv2W41j4J+LdS/cxxf2jo8kn+rt4/wDlpH5nmVN+1p+0trHxa1RPAfwqvJ4/DFv+7v8AUo4ZI/tlx/20/wCWdHvAetfFj9tz4S/DnUH0HSrKfxPc+X+9/s3y3t4/+B14/wCF/wBuvwr8NNP/ALH8EfAGxsbOSWSf7NHrP/PT/lpJ/o9ZH7Nf7LfxN+Pmrs/gy1htdPhuAmsa/cswhiOM4C52zSe4GB3Ir6Q1/wD4JWfDXU7CCBPH2qXGqBvmZlRkkXPXCqPmHyZNfNZpxfkGT1nRxFZc63jFOTXXXlT5dNdbaanNVxeHoytJ6+Wp5V4H/wCCmOj694wTw34o+GP2Wzk+SLUrHWY5PMk/65yRx19P28sN1ZpeWv7xJIt9fLfxR/4JPfFLRrRj4O0lvEG6aRGjm8pSF/vAsdyjp0OfavJdV8B/tZ/sqaSLqPUtc8LQy/IbWS8imQc4jLxMxSMZ79K2yzirh7OEvqeKhNvaPMlL/wABdpfgOnisPW+CSf5/cfoD5Z8v/lpvpkdr+8r4S+Hf/BSL9oTwPqCWfxL0HTfE1n9yWOSL7Df/APkP93/5Dr3XwX/wUT+APjzR7z7VqUnhnUreLf8AYfEnlx+Z/wBc5PM8uT/0ZXv+8dB5v+3B4j/t7xZ/YNhNJdf6vyraTzJI4/M/6Zx/+jP9ZX0b+z/8NNN+FPwj0rwtpcMf+q+1XX/LP95J+8r5I+E+jQ/G79rew/tn7D9g+1SXv7uLy45PLj8zy/Lr708rP+qo94DPkio8ryv9bVnyv3lHlewpgVvJpkcRqaSKkfpQBF5XsKfT/K9jUnz+1AG3/wAs6TyvYU+SKnpEYqAGRxVxP7RHxQh+EHwzvPEn+vvJP3FhbR3XlySSV3N3LZ6fZTXl/N5cMcW+WT/nnXwN+1R8c/8AhfvxI/s3S7yf+xLOXZpdtHH/AKz/AJ6SUveL94xfgz8I/E3x2+L1muoreXFvqN1/xM7x/wB5n/npX6afBD4SaN8M/DVj4f0eBlt7O1Ecd1IRlznqx7n868j/AGK/2f7jwb4Vh8ZXUt19ov1jkX7Ve+Z5cfoB619Iajo412KFbi4mjs0XP2SJSrSf7x9PyFfhnitxdGhKGUUq0YQmmqsleTjbVR5Va8mtotpdZtK1/BzTFctqSdk93vby9f6Y67+2SrMNMuVuG/h3ScVi6noF1LMst9qV1c3RP+ph+VB06BT+prQu7+ayT7NZ2McMSrtVcBdv8+3B/wA40NKYy2avaxq2Vxv2jP0xz7+49K/EcPjsw4doLFUoxUJOydoqTVuslflWmsYWctdXZM8SM6mHjzK1vlf7+nyOZvb3WNJsmS1EOnkcok2Hlfjp/nP6Vw/xA+DeifG7QJNF8beGLRU/h1EgJJbd8pXpGpQqkzRrpFxJOGYbpBncMjpk/lzxx07V5dHvZJ/LvrNFZefLaUt+Ppiv0vI+JMPl+EValTp06k/e59HNpWV0ufnlHXecpLXboelRxEacbpJN636/nf72fnx8UP2Qfjd+zp8R7f4nfs6wTaxFFMRM0cvAx1RymBjHc1mftI/tUad8Xf2RtS8P6vYDT/E32+G01bTAN7Iwl3yun7zrmOv0R8SW1o+hXFnqIle3mjaOSK2j8tWB4+91/Iivx4/a2+Fl18CvjXrHguO/mW2uLhLyzVmLLLBKfkJJ6n/lnX7LwjxFjeIqNStOCjTjaKet2/tNt2XbRRsr7s9jCYieIi5NaH19/wAEu9B+wfs/za950kn9qazI8X+i+X/q/wB3/wBtK9X/AGkPhfF8WvhHqXhWKzjnm8rz7WOT/npHVb9kvRtN0H9mvwfpul7I0k0aOeXyv+ekn7ySvRY4/O/dS/ckr7H3jsPyduPDnjDxb8UNB/Z1sPPkhj1T91HHD5kkfmSfvK/UrQ9Bs/BvhO20HT/M8nS7CO1tf3X/ADzjr5juLD9i34D/ALUFz4k8U/EK6/4SHT7qP/Rbiwj8u3kk/wCmn+s/d13Oof8ABQ/9le/uLnQZfGF9BNJFsikitf3f7z/lpHJ/8co94D451HRvi18Vf2lNH+DPjfUp7pJNeknitpJZJPsfmSeZJ/6Lr9NdKsLPS7CHR9GtI4LWzijgtY4/+WccdfmVb/FDxt8EfjJ/wsLwRrGm+I4Y7q4eKSWLzJPL8zy/9Z/rPMr66/Z5/wCChHw3+LK2+kePNNk8LapNmOFryXzLN/rP/wAsqUpcu7NadGtWv7OLdld2V7La7+89++yw/wDLKHy3+/RJEYo6s2cum6pZpeaXeRzwyfPFJHL5kclS+TDVE+8UfL96PL96vx2H/TGn/YP9n9KCCh5XsKf9l9qvmLyv+WNH2X93QBU8qH0rzz9qzxvD8OfgdrGsf8tryL7LF/20/wDtdenSWvlf89K+eP8AgoZrMMXwy0rQYv3lzcX8k/l+V5n7uOP/AO2R0veA8K/YP+EFn8Rvip/wkmvTRyW2j3Uk8VtJL5nlyRyf/HP/AEXX3h5Mucy/vK+af+CZeg2f/CF614r/AHclzcXUcEsn/fyST/0ZX0D4o+KHwx8B3D/8Jv490rTX8rf5dzdRxyf9+6PeA0vsvtVPxR4j8N+CNDm8S+LdYtdNs7f/AFtzfS+XHXmPjT9vr9m/w5cfY4tYutSf/llJbRfu6+Uv23/2z5PjN4TuPB3hHS4IfD5vLaW0upJJEu5Cn3/Mj/1dbYfD4jFVo0aMXKUnZJatvskNJydkUv2uPjxoPxz8aXP/AAiXlz2ckVv5V1/q/L8vzP8Apn/00k/5aV9Xfsv3XwZ+DfwT0rR5fid4f+03H+lapcya9byRyXHl/vP3nmf8s/8AV/8AbOvzR8DT6FrPiNLXxQyxrcDapuIwkcb+tfR3gX9iDxR408LQ+JtDtdJ1CzuIt/8AoOqRyP8A+Q5K7MyyfNsnrKljaMqcn0krX1tp32HKnOnpJWPugfEH4b/Z/O/4TzQ4/wB1v/5Ckf8Aq/8AnpXPeOPi18E7vwfqWm3/AMTvDk6Xml3CeX/akb+ZHJH5dfHlx+wB8Zoo/tlr8PZ9/lb5f9Pj8z/0ZXMfEz9nTxh8JdPtdS8b+G/7NSTzPK8yX95J5f8A38rzfeJPK/CctnD8SU/4n0djbSWtxBL5f/LSOSP/AFf/AJDr2n4N6X8H9e1i2h8efFS10ew0/wDf3Uf+rkkj/wCWfl/9NK8/+Ffwc8dfGDU/s/gT4bapfeY6RW0kNmmC46kseOM+tfS3hX/glH+0JfW32jU7TRbHceY7zVFLN9dsJ/z+deNmHEeQ5Tf65iqdPylNJ+lr3v5WMamIoUvjkl8z274Ufto/skfCTwoPCfhvxbawafu3Ki2Nx5rn/np/q/3lS+K/+ConwT8P6hJpmh2+qTf88by1t42V/YF3GK8qsv8Agkr8Ypp2srzWtFtU34a4jkaZXHrzEP5VpRf8EgfE+nylZ/izYNuUDyI9PcsF553B1/l2NfneKxXhLj80eJrVaVSpV1fvSlF6JXlFe7a1r82i66nnyllNSrzNpt+tv8jQ1/8A4KtWIvGGgeGta1K1aEN57SxRPG46DywK87+Iv/BRXxl46tJrOT4a6TK0km/Zqs32iOKL/wCOV7p4T/4JHeBLJfN8b/FO8uPn3eXplnHAv0+bf711Gh/sB/sl+B5pLVfB+qa7cFlaRtSunaMtk84VQvOeeOw+tXl/HHh9RxXsciw6q1EtfY0VFJaK7nJQiltfV7Dp43L4ytQjd+St+Oh+e3xI8b6l8RrPyZvh7pVj+9kfzLGKSOT95/z08yTzK8f8URXmjR/Y7/y53k+Ty4/9ZH/2zr7n/be8X/BX4WpcfC74TfBPR7bV/s+LzWJLVGa1Ru6bmGX4/wBYScV8e6V8NvEnjfxTb+E/DNpPqF3dXGJPLs2kYCTqdqgk4GTwO1fpOBx7xWBWJqx9mmr6yi9OjvFtWa13PRhU5qfM1Yg+A/xG8bfALxxZ/E7wl5k6SS7LqOSP/WR/8tI6/S/4F/H34e/HjQ/7S8G3kkdzH891pt1F+8jrM8Mf8Eyfhr4c/Z8s/AvinTY7jWFja5m1SOEq32hzv4Cc/wCxivjv4hfBn49/safEJfHWiWMlvb29/stdRt5P3F5H/rPL/wC/dc+T8QZTn9KVXAVVOMXZtd/zJo4ijiE3Tdz9CpIj89Mkh7V5p+zH+1N4Q+Pvh+2s5dYgj16OLZdW37yPzK9b+y+9e0bGZ5XeXzKf5Xnc1ZktZs/vaPK9jQBS+y+9H2X3q75XsaXyvK60AWKmtqI4e1TRf9MqXvAed/tYeI4fCXwH1u8lmk33Fr5H7qX95+8r5H/Yc+FWm/Ff4pWkPiJFWGFvNkt5ujxp/wAs6+gf+Chl/qVr8H7azsZvL+2apGn+t8uSSsj/AIJ0+B9Ot4NY8XQBLi6lj8gSf88/8/8AtOoqc3I7O2m/bzBn2PovhnRPDul/2formaaEYDQqSsWe2KvxyS6fELe0mlv5D80/l9F9s9vpmjwrZvpmifZ5LOR5GbzJFj4yew7en0qvc694guGNhqtsunwyAruReU+v4cV/JGKo5lnWdYqiqsa8ITblOpOMZTVt4winUcVaUlCny/Z1bPlZRq1q0lfmSerbV36Ja/JeR5X+1l8Z7v4TaBb6xFrGiWt1dXEaabp2rX4g+2rvzJGnvisH4f8A7XWi3l9Z3D6gYlukKeXIsg8tvT26Vi/t+/s5f8Lf+GH9snX52m0Pzp0khj85pY3/AOWfl18a+HfAfxuh0RtM8I2GsQW+m/Pbtc71VQP41Eh+Q/Tmv3XK6HDtLhelgK/sqtOzi1ZRsno7xk+dSa0b0betkfaZBlOWZpSlQr4mnSsvdUk1zv8AlT2T85NX6H6dRfErXb60Sa2fbHImfm54qvc/EK30a0k1HV72CNuPMurqbZGB9K/K7Vte+LXiEPNqni68nvI5ssFvJFdNn1PWk8Cfs+fHf416o0Ph/wAMX2oTbM+dclvKOP8AppIOtdFHhXg+lhp+xwdOMV8TTttZ+81q1om03Z9T1My4OwGSxj9bk6amlJN05JSXrfXzX3n3z8S/20P2ePA/2keKPjVpN1cW8fmf2fpt39qb8oq/M/8AaA+L/wDwvj4qax8VLr9x9ouo/stj/wA87eP/AFcdfVnwg/4JJeOtetf+Ej+NPifR/DtqkfzWdvGLq5PHTsq/+P8A0rwT9qzwH8Mfgz8SrjwV8MJ7TVILdtjyXUQZ4n/55kivXyjO8txlaphMugmqXxOKtBP+VSsouXW0b2W9tDho0cjqScKeK23tTlb8z3H9nv8A4KJfD3wR8G9N8N+N9NvrrUrOLyIo7Hy44/LrtpP+CoHwZ8t/+KP1iOaP/VR+bH+8rkv2c/8AgnZpHj/4e2Pi/wAf6i2mz3kO+G3ttKjOI/zr0i3/AOCYHwtjiMdt4v1ONc/ekt1/wr3/AGlf/n3+K/zOj6jlstVi4r1hO/4Ra/E+Tvih43/Z1+I3xg1v4na/N4utX1iWN5bG2ijfy5KwbiL9l26kb7VqXiaOGSL91JJYW/8ArP8Acr7Dv/8Aglt4NuD59j8RZhNn/WXGiq3/ALNWJ4w/4Jy+BvBHhHUPE3iP4j3ElnpdjJdXXl6On/LP95/y0lo9rW/59v71/mH9n5d/0GR/8Bqf/IHypbaD+z3Fp/nWHjDxBI/3JY7m1jj8uSufvde8JeHdWeLw/Pc3MKyyDF5CFVx6c13vhH4Xav8AEvxFJaeEfDNxcIhJjt47NXmCf3mC5r0tv2F20HSR4k8fG30uz2q26/CxbBj7oLqc/wDAK4cRi4yvRnT5u6V3+S/U+qybhzE4eVPMsLjVRtrCcuWC07c002unwtPVeR5z8Ff2nfiR8OLhrv4SeNRCgZVvfDus/vLeXjPlr/dH+4SK9xuv+Cqdt4XsI/8AhNPgtfQ3zTASSabqitbyH/gcdeIeNNA+HXgvU7qz0CNr6GPm31BY0WNueCVUnmub8PeAfGnx/wDG9n8P/D/h24uprhnWOzhk8t0T/nr/ANMz/wBdKywazONZRtan/eabXo1q/mejxNPgbEZbOt7RSxztrh4yjSk3u5xmkovv7PRvotT6E1z/AIKvaxf27/8ACBfDGxtX8791Jq115n7v/pp5dcl4g/4KM/tI+KLCaz0abTdNT93/AKTY6X5kkf8A38r2D9lb/gmxoPg3wvef8L98K2t9eR38iaXbR3X/AC7/APPSTy5PLr3vwv8As3fA3wRv/wCEc+FejW/2iLZL5lr5/wD6Mr2vePy/3j8+rj9s39qLRrP7XL481yeH/l6/e+Z/37kqHT/2kf2nNUuPPtfHniCTzLXZ5f2q4/5af8tP3dfoF8ZP2ffB/wAUPhfrHgm20HTbV7yw2WtzHYRx+XJH+8jrxz/gmv8AEHQb/wAJ6r8E7qCODWPD8vn+X9lj/eR/9+//AI5/rKPeD3j5as9e/aQ1SSaHRte8RyW0ku/yra6uP9ZXPeMNG+M0siQ+PNS8QRyeVvtf7W8z/V/89I/M/wCudfrRHF9lT9z+7/65185f8FJPhLrHjf4b2HjCwnjjttDlkfVJJI/3kccn7uOj3iD408D/AA0+P19ocP8Awhtn4juNNki3xSaTaySf+i66DQ/2PP2nPGVx9sh+G/iCOOOX/Wal/ov7z/tp5dfWn/BN/wAb6Dr3wPm8K2s3malo9/I9/H/10/1fl/8AfuvofyuPOo94D4G0/wD4JsfHK7s/O16HR43k/wBbH9v8y4/z/wBtKx/jp/wTv+IPgb4Nav411nXdPMmnxpKtnp/mXGR+84Z5CNhz2jL1+iPlf88oa4D9qHy2+A2vwSxF/Pt1iVc4+YuuM/jgV7fDdaph+IcJUjuqkH/5MjSi7VYvzR8u/srfsAfA744fst+HfGviwapDqmoW85lubeaMEMs7oNg8s5XC88nByODkDj/F37AX7WX7ONy/i/4FeO5b23i/eeTpt04mJ914BH+cV7h/wS61a9j+EWv+CHuWmj0PxFItvI0bL8r5yMHp8yFsY43cknOPp7zZvMr7LijPc44f4qx2DjNVKLqTkqdSPPC03zr3ZXto1qrPzN61SdKtKO6vs9j4S+H3/BTrxt4AuI/Dn7UPwqvOPLEesaWhjZkx/FGf3bcf3dtee/tF/Hnwz8dNb13xtpurJJaQ6fs0vc0knlx+Z8kfl/8ALP8A1lfQv/BR3SvhxpGj2l43hZf7e1265vFuNsRjj/56R/5/5aV8NfEP4f8AhCDXI7TwhNNHIv8Ax8TWZ/dD8K8H23CebfxYSwlTvC9Sk35wbU4a9pTt0iZ3oz3938V/me7/APBL/wAc/E0/HWw8GWnj1odCs7Oe8bTFgRlkxjKZIzngYOeMV+p2gyyzWEOoyamx77ScL0/lX4x/s1/EH4mfsv8Ajxfippfgm38R2ojMFx1yY5Pv8x9JPrn+tfon+zB/wUS/Z7+NMUekW2tSaPrcq/8AIF1xljKsP4I3/wBXJ7cg8HjivxnxY8H80zLIXmGS0qde0rynRUZOUXdNTulKNr3bkl1tdnkZplk61HnoxTfW1tfU+kWH9rTeZLcfuUXO6N2UHP0PP41T1PxN4btYnt5Zo2IX7tvyemOvamy6zbajpOJLWNVmXkKwBP1rz/48+N/Bnwz+GWpeNta8VWuira25htbhk8xkuJPkj+Tud5Ffz/wrwPh8dmUaGbe2pRhLkjGFmk1u3KN3dyum1FJbuXU8PC4GNSoo1bqzskv+B/kdxZTXOrWe+0sobKGVfluZJNz8fzP41V8WWWk6T4T1DULnUb5/JtWZprO0eWYcnIjjjUszEE/dBPPQ1+fvw8/4KE/tUabos17rfhyz8TW1tcbZLn+z2jSM+nmW3livfPhj/wAFOfhH4wng8O+ItWuPDd452RvqUI+zP/21/wCWf/bSvvs28Ls+k5QyrEwjTlLWN5RlbzqSVWcna11dR68vQ9KtleI1VKStfbX89WcH8TdP1zxPeyWHhTw3pum6DeW4XVNU8QILe78sn5gVWI7SQPY8+wJzf+Cett4a0T4o3nw58H+F7y61JLZv7V15tQ8+Fokl2bUUf6sf7Pb9R2H7cHjWXSvDX22yvLd21SOPd5FyireR/wDLQc/6z/ln/q61v+CWPw+v9G8A3nxN1WzW3uvEV/Itu23JNun+rx/4/X0+bZHheH/D2vSrxjKcYc0veklOa1ipNe9JJ20sk7bLptVoRw+XyUtXbz1f6n1da2+tQ2aW8MEAx96a6kZmJ9AP/r8elcH8Tvg9ZfEHTbix8f6bp+padcNhre8iByPoK9IZN43GaY4OPT/Ckl0tLi2e3nXarfx7st9ea/mDhrjrGcL5pLF01Ti5v33yXlZu8rOTck7dErdEup8zh8dUw1TnVtd9D8mP2ivgv4v/AGLPj0vi/wAE+dY6Ld3XmWFzCfM/d/8APP8A1dfWv7L/AO0j4W+PvhdPKvPL1i3tY/tVjczR+ZJ/00jr3P40/DHwJ458LyeG/HOiQ6pDcwssMUkfyBh/E3f61+bvj3x78QP2c/2oJNV1HwRp+i2ttcQxR6fpNqFia1WTgoB39+Og4r+wOEeKKnFOX0sVTotQad5vSLknZqKfvNXvdtJJq2p9dhMV9apqSWnfz8up9+yRfu/+edVvJqH4d+N/DfxQ8Lw+JPDt5HPDcRfvY/N/1f8A0zkrVktc/wCqr7H3jsKHk0SRVcoktfN/66UwHyWs1TW9r+7q5Ha/u6fHF3lNL3gPE/25PBEPij4D3l5LDJJNpcsd1F5f/LOm/wDBPG20OP4Z3c1hpENjcG6B+eaRhcH/AJ6/vK9o8QaDZ69o9zo919y4i2S18v8Awf1tP2V/jJdeEfiVqsi6LqZ2W15czf6OlcWZYWWMwM6KbV103721tvs9Vo90FSMp03E+5tMuBc2yzSXyySBQW8jAA4/lSXcsF6jQWqwybhiQFN2ce/r9ayPDGu+D306G90u5ia3uFyjR5O//ABraXVtHtUWOzkjwv3VVsD8a/i3N+F80y/Opyw2Cry973L01CKs7u9rxdnazTStrzd/iquGqU6z5YS8tLIwvEPgjTdf8MXOl63o1u8V9bmK6t5ssJYiMFfxHH6Vxnhv9mTwVodydRsfCscCtbmEq1y7goep5J5/WvUY9d064nCIR5nr1/Kn3dwkNu13ezNHGq/MzfLXtYbi7jTK6MsDiMLGMq8rr2kZSnZ6KNO7ba6Jyk3ta3XaOLxlKPs5RV5d07+iPkH9q39lnU/DnhudvhH4T00W8kPnTX0dkDeRHOTtUEb8n19emea+TfC3xR8X+ANdjaUzWNxZy74plUiMn1A/xr9Bf2gP2tfgp8MtNZJNQ/tHUY1xHY2reZI1fAnx8+PHir9oPxZ9k0Hwfa2MNxLIlr5dj+8k/66fu/wB5X9EcF5XiP9XaM8VTnRxDvzOWk276Nq8lZq2j+5H6fwzxVmmV5b9TxMFXw8tZUqt3G/eLT5oSt1i15o9A+KX/AAUM8bT/AA7fQtG0FV1Wb5f7btuY/L9fLH8fvWZ+x9+xHrHxQ8SR/Gz4q2fl2fm+fYW8n/Lx/wBNJP8ApnXnt5+yt8dfhrpVr4p1LwrcfY76Ay/Y2kDD/rnzXrf7OX7VGr+Bdvhqy1NVgibH9j6w23fzz5L55OPTH0r6v2+NwqtWhzR/mj+sd/uv6Hu/2PwznzvlWI+r1X/y6rv3W+0KySj6Koovpdn21Z2FnYW6WdrD5aR/JFHHVyOKuF8B/tE/DvxXKdK1S7bSr5jhrO6+Vs9/89PQnnHo0NtDcQtNbyrIjcqytkGuujiKOIjzUpJny2aZLm2SVvZY6jKm+l1o13T2a802ihHF/wA8vMrxn9viX+y/2b7+bzpI/M1S3T91/wBdPMr2nxrqFx4R8K3niG0svtElrDvEP97msm1h+Hv7QHw9+z6zpsN/pt58t1YyOGYOOqH3/oRV+1j7X2d9bXt5Gay/HSy941QvSUuRy7StdJ9VdbPZ6nhfwvlm+F/7K6a98FrPR9V8Q3lr9ql/0+OSSOST/lpJH/7Tr54vLv45ftcePP7B/sHUr68t5ZEupJIpI7ez/wCun/LOOP8Ad195/Df9nP4S/CW4f/hA/Dklj5nyeX9vuJI/+/fmeXTPjp8UfDfwM+H954qv4I47mSLZa20f7v7RJWnvHnnwx8dPg34D+BnheHwff6xHrniS4l338kcskdnb/u/3ccf/AC08yvor/gn/APs36b8L/h+/xOv7OSDUvEkW+KOT/l3s/wDln5f/AF0/1n/fuvGf2W/gtL+1B8dJvGHi20up9F0ub+0bqSSWT/WeZJ5cfmf8tK+/47D935Pk+XH/AM86PeAx/sv/ADypPsvm9K1vsvm/6qj7L7UwPDf2vPDnjbQfC8Pxy+HPjafSr/wfFJPdW0nmSWl5Z/8ALSOSP/tnXkv7P/xG/ZXv/F95+0rrOsSeEfFWn2sieKNJjlk+yXEkn7vzE/56eZ/zzr7J8SeDdN8ZeG7/AMK6zD5lrqlhJa3X/XOSPy6/Iv8AaI+BnxU/Z48YTeCdZ026n+x3UiWupf8ALO4t/wDlnJH/ANs6XvAfop8I/wBrn9nv40+KH8H+DfHkceq+bsi03UovIkuP+uf/AD0r0jXPCWm+KNIufDevWf2uzvIvIuo/+ekdflf4Tvv2e7X4bzaPLNrmh+P9PlkvdL8SfvJLe4k8z/Vp/wAtI6+9v2A/2m739ov4d/2b4tmjk17Q7WNL+4j/ANXeR/6vzKPeA+XviJ8G/jl+xl8XP+Ew+F95PBZyXXn2sf8ArLe8t/8AnnJ/z0r2L4R/8FNvhjr3/Et+L/hu+8OXn/PzbRSXVvJ/z0/5Z+ZH/wCRK+sdc8JaP4o0ebQfFGmx31nJ/rY7mvDfiR/wTs+D/ijTn/4Rya60258rZF9pl8//ANGfvKPeL947Dw/+0Z+z54ojT+xvjN4ZkeT/AJZ/2zHHJ/3xJ+8ql+0ckN58J7q40qZLiNbq3YSWxLxugkBJ+U7uBzgckgCvDvFP/BKbUvMf/hGPFVjI/myP5lxF5fl/8868j+MP7B3x8+Gvga51YxbbaO6t42W11HcZCzYAI8yvVyPm/tjD/wCOP5oKf8RHq/8AwTK/sfTNF8aXV5OtjbJrciLNeOY4hhs7RkZ6EHJx1HAxz774n/aH+APhKN/7Z+LWh/u/nljtr/7VJ/37jr82/wBlj9mb40fFzUvEF34X0Ca8Gm3kf2xpGDPvYv13nk/KetfQvh//AIJxfGb/AFN/DaxpcfPLcyX8cclv/wBdI/Lr6bxLVRcaYr/tx/fCL/U2xf8AvD/roeY/twfH3R/jd8WLbWPhzLdf2bpdr5FrfSWuzzK7b9gn9kDQPjVH/wAJH41W8MUMwaS0u7N1geMD5dsnG8Z64OPxrzDwV4A8Ia38T7fw74jh/tKG312O0vLOKf7O0kPmeXwf9Z/37r9XfCPg7SvB3hqx8NeDo0t7Szt444Vm+b5QvU/7Vfz74jZ1jMBlscJh6joyq3/e7Ril0ulJ3emy22Z4uYVpU6fJF2v17HO3H7M3wNPhV/DFr8OtIht5Igkq29mgaTCbATxycZGTzxXyf8df+CPOn+L7qfXfhh4iWzuGm3QpeSGN4/cuoKnH0zX3hDaeVhri8kY8E8DH14FeG/G74v8AiGL4ral4Ctfijp/gvTNI0WO7k1LUIPMkvZpDwiDOcAcHGcZ+6crX4hwJ4rcccKYuVDJ8TKra7VSXtGopW5oxTUZSWuzjJf3bN28TB5pjMNJxpycvN3Z8J/8ADQP7Zn/BP3W5PAPxE1WPW9B06byEi1CPzYnQgcJLxIAU7ZGM9OtdB8Yv23/h/wDtUHwT4EtJ7nQ9NnvmuPEFlcX5XMyDMW2XAjwTx0HFereBZvEv7QP7RFhf/tG/8TLw7YXkkGj33/COuNP1SXJISMNGNoG1S28EjLDPzA0ftLf8EidO8RT33iT4T67awSTM0y6Xdjy3DZ6RMvyH/gQFf1XlfitwVxRKOCz+ksPiZxivaUGlKUpaN+zS5dHq7Wae9j6OjmeFxHuVfdk7ardv0PSNL/aP+AP7M15ovwF1LwnPY2/9kw3h1KGOH7NP57Ovmkl/3gZxISwGM12Hxo/Z4/Zh+LXgO48QeK/DWjmS6g+02+t6bHFb3CZHySed78cucevSvy8+Nnwa/aQ+FyweEPiBDqqrp6yiwh1SMyIkLDBVH/hyMcDFdZ8Fv25fFmjfDaf9nX4jaTc3mnyNHDo628fmzwJn/VR9wn/fz/cNc+M8I8vo1FmGRZi5U4S55qM2qjSu2pQq+9Zt3k4c91dN2HLLKcZKdKb0d3rr+P6Hd+AP2c7bxZ8RrzwDp/xbtdQ067vjBoYvZI5Li4WQEuqA4En7scycn/nm/cfpf8PfA3hz4b+D9N8IaDZHydNtUgi+bLAKK+Yv2AfglZNrF18cfF8Mtxq9vI0GkrdZkjtonTl1Yjd5n+s9wHx0Y19Z2ax3qrcyznepO0btv8q/nvxYx+ZZk5ctSawdOSTsmlKbi7JctnKG/vOS1va6Vn4ebVKlS+r5F+f+Q5rmBOZFZm/ur/j0oaRrrKwOVVeG2KPxGac8ESBmij3N1Xd/n3pqQOFzLN0yVAOAK/CI4XAxh7WLtJPTm1d/KG2ndtddXZHh8sN/z/yM7WbOS8mSI7WiVTuVlzk/XNfKP/BRP9mqT4q/DmTxx4fsVbV/DLmaSFv+W9n/AMtB/wC1K+vprd3uN8e75fu8DCcdRWBq2iw3d9MWuWk7SQsvWv3/AMIuJKeGm8HWn7ipKWik7Nyu3JJP+bWT/FWb97KcQo+5J6W/Xr9+5+ev/BO/403mg+MIfhVrPmRpeRSJF5kX/bSP/wBqV9vXFhX5p/tMeA9S/Zk/akuYdGl8iG31SPUbW5jl8ySS3k/eV+inwP8AGUPxQ+Gem+JIoZI5vsscF1Hc/wCsjk8v95X9HUz6X3i5/ZcPmeb/AB0/7B/s/pWxc2HlU37L71Qe8JHa0+OKrkdr7077L71mQVI4q5v4qfBvwT8WfD76D4s0eOfzP+WnlfvK7Py/epvsv7vrV+8B8eX/AMJf2xv2X9L+x/BvxJ/auif8+0lh58lv/wBs6g/4bD/bM0HQ3/tr4P6bO9v8kt9Jpdx/7Tr7Nt4s0/7LDL+5lij2f9c6PeA+EX/4KAftYrdSWul+HtBt5mPlRyR6fMWjP97DkZPscj1BHFctrvjn9s/4/XC6Jqd94gu0Nwgkj0+1kiWIk/xsOIq/RePS7OL/AFVnBH/2y/1dElrDYb7wwpXB/ZeX/XnjPZR9q0lz2TlZbJPdL0M/Z0/ac9te58Q/C/8A4J7eJNU1i5vPiXZ+R5n+qk/tSR5K+lvhf+y18K/hp5N5a+HIJ7m3i2RXN1FHJJHXqNvYf8tqs/Zf3fWu/wB4394w9SsPDXiGOXwjraWN4s1t/pGmyY+Zf723rj3r5+/aB/4J9/DDX7KbxJ4Y1G00ubcp8u9lVFkYnAHmk4yTwPU16R8AfJn8V/EbxP4gu41vIfFU0MjTSfNb2qKPLB6YQjLDPODz6ViReHbz9rrxzb6pr+nzxfD7w7qAn02AyFBq93GxCzHj5ogOg469eeSPN1Cp7LT2d9le/frt07Hx74w+GPxi/Zlv4bHV/Dl5dWskHFjN+8jBx1Vx/q/+AZFeifs5/tP67qGoR+H/AAh4m+z6hIdv/CM61dDZMBn/AFUpJB7AB8fzz92+JfAvhnxnokvh3xTosd5YsMPC/YV81fHz/gmxoV/p95r3wg8z7T5X7rTb6X/0XXFWy+jWqe0Xuy7x0f8Awfnc+pyvjHO8twv1OTjWw/8Az6qrnh8r6x9YOJ4npv7Xf7QPww8T618KPj3ZT3Xh/VLqRLe4mt83WnxsPkZW/wCWseQldv8Asx/FB/hd8QF0C81FJtA1YgQ3izb4pSfuyq2ACATz7N34rwvxfL8Tvh+03hL4s6FdapYxEJFa6xvjuLP2gn/1n/fzzI6fYatrPwhvtJ8VaYq6v4Zvil3YLdQhkuE/iDJ1jk5OV4IzweTXhZlRxdGpDEKV3B6PrZvVNf5H6pwHmXDeaYPFZLKk6cMVFuUHdxU4xvGdOb1VrfDO9t09z9MlS3gtRcXDZjUZE3rXwP8AtcfEab9pH48ab4J8G6PJPbWd/wD2da2//LS8k8zy/M/1f7uuh+Jf7a2sL8IF8IWEkjQ6orLa3Vq6ec8ZQ4twx5L78Y6/Wuh/4Jr/AAMm0LxAnxa8eXkklzeRSf2DHJ5n/LT/AFkn7z/v3Xv4XE08VR9pD0+Z+O8QZDjuHcyeDxNm7KSa1UovZr9V0d0fSHwH+Bnhv4D/AAzs/Amgwwb/APX38kcXl/aLj/npXZfYOErZjsPK4p/9l/8APQ/9ca6/ePE94xJLAxf8saLbS/3ieb9+t7+y8H97D/t1D5UMUafaryPZJLs/1vl/vKPeIMr7D+6rifj5+zd8Pf2kfB6eCfiNpsm23uvtVhfW3/Hxbyf9M663xh8VfhX8Pv8AkcvHmm2rx/8ALt5vmSf9+4/3lUJPjx8H/sdzqVh42026tre1knlkttQjkk/d/wCsj8vzPMo94D5I+G//AATi+BvjLxhqVnpfxytdYh8P6p5F/Zaba+Xd28n/AC0jk/ef+RPLr6E+Bf7G/wAMf2ePFOpeK/h9Nqsj6pa/ZZo76WOSOOPzPM/5518Vaj8VP+FEf8FGNb+J3wv1iCTR/El/vuo7m6kjt7iOTy5JPMkj8z/lp5lfXv8Aw3h4VikSX/hA547a4i32skl/+88vy/8AWeX5f/LT/ln/AO06XtAPZY7Dil+wH/njXhV5/wAFGPhVf6f52heCdV+0/u0ijuf9X5nmfvK5vxR/wUO8SQ6gln4X+GMECebH5Ul9L5lP3gPpn+y/rXnH7W2nXK/s9eJr2O5aFbOx+0wyMwAXy2DdSR6cc9fUZB+ZdY+N37VGvSf8JJa/2xI/m74v3V59nk/6Z/8APP8A6Z1LbfEv9sbWtEuNE1jwvf6pobt5N5HcaW+yOH/lmCx4Qf8ATSuzL8V9Sx9LENX5JRlbvZp2KjLlkmdR/wAEqtMurT4ea/q95ZRwteXiTXEsJQK0jZOCq4KnB+6RgA8YGBX0p4q8ReF/D2hXuqX3iKztxbafJOTNeR8eXHJ/8RX51Xn7MP7Xmp63NfeFtL8YW8N9cJLZx291cLGrY+bGxQPlJOM5wOPXOX4x/wCCf/x88C+Cr7xp8QLfVoLWGHfdTy3LFwXcDb8jcr8/Knrmvv8AiCPDPEGbVMzqZh7P2lnyKlKTjok03zJaf8MdNT2NSbm5b+RY/Z0k8LeM/wBpTw/d/EO60rybjXmvdQ+2XUMC70EkikmUiPrj93/0zr9Fbr9pb9nvTNOuNRv/AIweHBHbTSRssWrRSNmPr8qksevp05r8sfgp+xJq3xl8ZL4T8NR3901qn2i6FtuVFGdmd542Z5zivabb/gkd8XbkRwTeHY9ix4X7brEbbGyTu5bpz0r8w4v4H8Jc8w/Pm+YYjlitHBKlFa3b96bim9rtO0fM8/F4PL8RG9Wb0+R9WeLf+CkP7JPhS0uWHxOt7y4tfvWNrGxeQZwdhI2tz78c15p40/4KVfsh+JdVh1WT4dx61eWalrWbWoYImjC5OPn3lH3oVCnnJGPvVxXhP/gjtq0TxjXdU0OOFULiN/MZom7qpQcj612Gjf8ABI/wxaRiW58UabHOW+by9OMke30G7Ffm1HA/RN4Yi2qs6skrNyxKu1/3BlfXt/T8yNPhrD/av/29/kcb4p/4K7wyFdM8I+C9Ljt4p0EapHJJcQYydwXb5Y4xjBPf14+U/iP8c/jP4y8dTeK5fiV4q1KS4ZxC91atA6RdRhEbGO/Hbmv0C0H/AIJeeBrS+t5Nd8eTXFvCzedb22mpC0insHydn4Cu60L/AIJ9/s4aQ/m3Phy8vm8vaTeXjNkenAFehg/Gz6PPCseXJctg3/dhOcm9vilST17c/wDwdIZtkeF/gw+5N/mv1Pyj13x58bvEqx3F1/bd4sCFFk1Kcsdnb/WV6Z+x9+ytc/tB+NLq+v7ONtU8P4u47Ysih3zlcP1LCUc4/wDrH9Kpv2Kf2b3ikVPhxHG0m/8AeLqVwWUv1YZk4NdR8Kfgd8Mvglo8mifDnw1FYR3Evm3Ugdnkmk9WZiSa8jiL6RvBnEWVTwmHwksJzK3OqcVL5OU/XZbdSK2fYOtTcVFx87L/ADMv4I/C+3+F/gCPw7Cm26mJn1CWRQJZpG/jYADB9BjgAV2dtYR2qny+vrVtgGWmmHd9BX4BjOKsHxJTeU4DFunStzT54NurKO1/ZqbeySTcYxt0SSPEnioYheyhOy63W/3X/wCAVRHJI2+eY7V/gVetOdiBtVflPXNWPJCch6Ps8bHiOvEnTyd4hqo+ayShTpxXz92Ntb7ym9e7MXGjza/JL/JfmytKpuPkO7H+zUFxbIQ0EMe3ePmatIRMOQtN+zSSJshGM87q7eE62ZYjN4YbA0XBRaaUpWjzXXvz1Slyu0uVRlru2lcvCyqSrKMFa3np6vv9zPgf/gsR8NbiPQfDfxF03Tf3kU0llf30Uf8A20j3/wDj9dd/wS78UTaz8K30G616O+/dRzxSSeZ5nmf8tI/+/nmV6X/wUk+HWpeLv2S/EM9jeww/2PLb6j+8/wCWkccn7z/0ZXy7/wAEp/EevRfEC50Gw02+nto5d8skcX+j2/mf6z/2n/8AG6/tqiq0aMVVacrK7Ssm+rSu7L5s+3jzcup953Fh5Un+pqH7B/yxrpP7Lm8zr/t0z+y/rW/vEmDHa/8APKpvsv8Az1qaO1qzHa+bUAU/svtU32arNva0/wAv3oArR2vm0v2XyulW/K9hUv2X3oAqSWs3l0R2vm/uJa0o7Dyv9ypo7WgCmlh5Vv8Auv8Av3HU1va1c+wd4ql+w0AeM/Gb9nX4M3aat8T/ABdeahpduYVl16PT9QaKDUFTossfKksTtOAC245yTkVfgj8UPD/w5+E1trPxj8YadocOqTtN4f0uXEf2XT+FhRUBLEY5yQMZAwO979qX4ZfGL4r3um+EPClrAvhy3s59Q1CRpPnuLuJS1vAVyNylwvBGDnJJwRVX9kL4XaHNpMni74ieBNRHjSPyxqmpa9CW3PjgQ5+VFGB8qgYIHccaa2J+0eq+A/E/hn4g+H4fFPhDUvtdhcEiG48l4w+O4DgHH4VL40PjCy8MzzeBdGt7/UcgR21zP5asp6ndkYIFdBaabBbRCC3hWNF+6iKAB+FW47XP76sZR5otXsdGHqqhXjUcVKzTs72dujs07PrZp+Z+fnx0/Z9u/A9h/wAJ38dXj0+HVtQMEcbXzXNwkhYElBGNo4G3nIHXGea8tt/iH8KNN0668O+L73V5tNt49tvZ2+nxFZVwNhVix8vkZ+cDr+NfpR8ePgF4P/aC+H83gjxbNPB+9jntb62/1lvJXzl4o/4JneG4vCD+FdUm/tKb7L+68QWPmR3Ecn/TSPzPLry6OS4GjPnSbfe/+Vj9DzTxX4wzTC/VpzhGnayioRaS7Jz5mvkz877Tx34eg8bm81PSb5tDivGVLXzPLlaNnwP+2lfbuh/t6/DHS7PTdY+HPw3n8mPS/sul21zf+XHb+X+7/efu6PD/APwS1+Fel6e//CXax4gupvN2Sx23lwRyf9/PM/8ARlenfDz9l/8AZv8Ah9qGlaD/AMKlgn+0S7PM1L/Sv+/lelTp06MFCCsl0PhMdmGOzPFSxOLqOc5Wu27t2Vl9yVkee3H7f/xg1mz/AOJDZ2Omzeb/AKv7L5kf/fySmXn7V/7S3ijVPJ0vxJBYpJFIn/HrH/z0/wBZ5fl19w6P4D8H6Db/APFOeD9KtUk+T/RrCOOtaPS7OKNP3MEf/TPyq0OT3j84dUl/bA+Mn+h/8VjqUlxFv/dyyR2/l/8ATSP/AFf+srb0v9i39qjxPv02/s54/s/z/wDE21SSOOT95+8jST95+7/1dfoXHa4j/wBiiOwh8v8A11BB8E6X/wAEzvjxdXiTap4q0qB7iLZLcyapJPJ/y0/6Z/8ATStLT/8Agl18VJI/+J98SNH3+b/rLb7Y/wD1z/5519yfZv3n+qp/lewoA/PT42f8EsPiFpej2Hirwb4qtfFV/p9/H9q02Ow8iSS3/wCWnl+ZcSV7B8Lv+Cffwx1TwVpWsa9NrkE0lhG8ttcWscFxbyeX+88z/WV9VfYD5nSpPskPpQB4npf7D37Oul2+B4Dkn/6+bqSut8P/AAC+D/hLZ/YPw302CSP/AFUklr5kkf8A38r0KS1z/qqZ5XyUAZUelwxfuYofL/6Z+VSfZfetbyvnpn2X7lAGU9rN8n/TSvH/ANvnQdSuv2W/EJtZpI/L+zvdSeV5n7v7RH/00r3iO1965n46aJa3vwZ8TQX0DTW0ejtNdRrAZRKoPKlRyM1NSUo03JK7S2VrvyV7LXzaRT5rHw//AMEwvhvrmjfEHUvFs1tMdOk8OpALx1h8yWYyHzAT5m/+GPPuGr7NZIFZtkJb/eb/AArwL9ja8mXWbex0PwvpulaRdWMkv2fT715kDE/LlmUYLckjrknPv9KR2UKjDCXHRiMKP1r+WeNsTiOKMzlN0qdPldruMKkmlok7uVmra8vyvufL42UsVUbsl9z/AM/wMSUANnYB6rtpqxyPyEyP4jitZrfTwWLNGnpuYt/LvT1vNNht/KZJZCzf8sV2g1+Tx4TwlTETli8dTpxs3p36JxspK77RfktjyPqkXJ880v6/roY4J3cvj/dpUG/hUZj1rTa60+QhbbRnYjn95J0qOd40+VvLh2/wqNxJrneQZfTp88sdGpFP7MJ9d/eqqEL79W9Nr6E/V6aV3NP5P83ZFMxMDkqq7qYsII3Fl5qy4V2yQxx/EW/+tTVjMjKo+nyrzXn1MLQnLlXvJdHo76X2svJWTXS/UhxjfuRx2yYyW4zz703Yqn7/ABVjyVdlCRMWz8xenJOFclYIQevr/jXZh6eEo+7Llpr0m3LTotFp6rfRsqKitNF95W224bILNn+6vFPQeadoj2hh1YVYMV7eNu2Nt6cL0qO306+a42W8Tbt3zHnivcy3HZpl2KhTy+jJwnJJKFJKUvS7nJ/9uyVt00b06lWnJKmtH2Wr/N/cyKS025zz2zikTZv4bb2zWw/h26jjL6jcqq9l35qm6ht0eET27V9DmWW5lk2KhXcHh7vmjGV+dtO9n794XdrNtt9Fe5vUp1aMk7cvl1/PQ4f9qHw0Nd/Zs8bWkMAuX/4R24fyx/y08uPzP/adfnj/AMEy9L1i/wDjQ8st5Oltp8sc91Y/b5I7f955cfmSR/8APSv02+Lmhrf/ALPvjSyKNI0nhjUFYQsOP9Hkr8vf+Ccf9vRftWab9l8Ryabbfao/tUf7z95b/vJPL/d/9c46/q3hvFTxuS4atNWbgtLuVvJtttvvdt36s+uw0pTw8ZPsfqd9l96gksM/6ry66P7DVe4sD5n7r/nrX0Rv7xwdvFT44v3dLHFDUscVAe8Mjiqb7NU1Cf8AfyggI7X3qaOL93S/P7VLb+TQX7wRxfu6mjh+5S/P7U63ioICOI1N5Xsaf5fvU3k0AM8rzetTRRfvPO8qSnxw/cqzHa0AVvsvm96s/ZfN2Yp8cPapo4vK7R0AQxxeVU0cXmn/AFNP8qH5KJPO8z91D/38oAh/sHTZt3mw1TuPh94butQhvfsaedb/AOqk8qt63i/d/wDLOnxxfvP9TQBDHa/88amitf8AnlT/ALL6fu6njimB/dQ0AVY4vK/551J9l96seVNHJ/qY9lP8qby//jdZgVvJh/54/pTLeL79XPsvmjEdP8n/AKYUAVvK/efuqf8AZfK71NHH3/79U/7N/wA8vMkoAp+V/wDaqZ5U3mf8860vsvld6Ps0MtAFD7L/AM8qDa+V++l/eVc8v93+6hp/2agCtHF/0x8uqfijwvZ+LfB+q+Fb+88tNU0u4tZZP+efmR+XWxHEamt7XzaAPy2/Y48d6r8Gv2l7H4b694jaOzXVrqz1HTbuzPlpg7HIccoc1+gd/pyJHJMz7vm+Vg+Qc/Wvhb/gph8Iovgj8fpviV4dsV07TdVt47u3ZfnIl8z9/wCX/wA8/wB5X2B8DfiFb/HT4JaP8RNLuo5LgL9l1SCGP93DOiDd+mK/GvFXhr6xlrx2Gw8ZcqblypKTcrLmf81vvv5XPJzbCylT54xTtvbfU6iCzsvJjl+0xqf4lWMs34//AK8cVHcvZxXRiHmSJ1XPyhvy/wAamj0EIiBtQYhvvbY8BaY1toMBzc3EjbeRHGv9eK/CJwxtPBwj7GlRta7lNWejvdc0otO+yV/LdHge+or3Uvn/AMGxWnQNJlP3eedv/wBc/hRAkM/mMbRyytwwH3Rj9elK2o6TG+6z0rc2P+W0hbJ/DFSwXutvgwWaxrj5RtAH1/zzXjRngJYr+KqmrbVOnKa20+KMEvkt9VrZrC9Pm3v6K/52KbSPJPxBuwT2yfxpfLuZSWM6xL+HH0HWlvBfIN1zdALu/wBWZBx61XhlgV+PmX9BXgYjGKniHCq5K7vq+S/qo3dvmjGVS0rP/ItwjRo1HnCa4bqQzbV+nr/Kpv7bjhOLPSbeLaOvlDI/E1AqBRkyR+uRk/nigsIn2R7y3Q/ugpB9O9e7h82xmCo/7PyUtleMIc9+nvO9R9ftdzaNapCPu2Xolf79yZdY1edgqRBiT1K7se1NuZvEATdLeNCu7GFYLj8qglvbhzhY2H97fJ15/wA9PSoPMuXP7y52Z67a5sRxJi5RcJYqvNvqpuC/7eWl/v8AyJliZPTmk/nYvW+lu9ub6+1NmUHn5uvtyevtUi32nRzHfbbYyeix5P6mo9L0FtSGYriSZv8AnnHGTj8T0qeLw7rFxciCO2IAPA4JGPWvcy/+2IYejVy/BP32ved6znLZtyu+Va6w5vXY2p+25U6cN/nf/L0Mj4l69ZaF8LvEl5NGtukmiXMSyXHAUvGUVz9GbNfnH/wTF8Kz6z+1bcyaJfwzfZ7WZWaaLzFntnlQBh7HrX1D+3X40sfFmlt8ErHxZJbRXHz65dw5O0D7sZbBCj1HJOPTNan/AAS//Zzs/h/4M1H4k3OnbpdUu5obXVJJMSTwg8Gv6V8N/wC0KOFnQxbcZLVQ5OXlTvq2klzP+VXSSWr1Z9RlvtY03Gf3WtY+ofsvldaiktf+udavl+9Q+TX6eegeP28VTRxfvKZF956mt8f8ta0AfBU3Mr0yOKp060F+8J5XldKfH/0y/wDRNFWk60B7w6P910qzHEaht4s1ZoD3gt4qmji/5bUR06ggkqTysf62nW8VTeTQAJ/qqk8ryutJ/rZKm8r2FABHF+8/1NTeV7Gnx+dLU0cVADPKzJ/fqaOLn95/5Dp6Rf8APKiOL95QA/yvYVNHFMD+98umW91Z3Us3lTf8e8vkS/8ATOSrPlY/1VZgM+y+V3oFr/z0qaOKjyocf6/5/v0AQ/ZJvLp/2Rv+eVTeV+7khP8A6LqaOI0AU/K/zJT5Iph/uf8ATOpvK+55X35KekX7v97QBD5XOIvLo8r2NWfJo/650AVo7X95+9ojih/541Z8mnxxUAVvL/6Y0+L/AFdS5/eUv/XKgDzf9qj9nPQf2oPhPc/D7VNSktZo5Y7qwuY4vM8uSP8A9p18Jfs4fFXxj+wp8atU+CPxX1G8XSbyeGFreS3XYWc/JOAX5BGzpzX6ceV5v/LavCv22P2HtB/al8Lwy6D9l03xJp8vmRX0kX/H5H5f+rkkrlxmEpY7Czw9W/LJWdm07eq1CcfaRcX1Or0LTdP8b+HbPx94e16S+0XUo98EiqY930B49fTFVpfCs0C77a0e5j3Ngq+Ap7Bu+fy6fl8GfDj4y/tH/sLeN7fwL8VPDWof2OTGo0S+uv3F3B/z1j/6af8ATSvsv4R/tU/Af4+xDTfh34q+waizYudE1iQW9xkdNnTzB9K/CeL/AArwMHOvgsO5Q30k5z5m1pyzjJOF9171rtq1rHg4zKYq8oRuvW7+530OhmhvrGPabeOHcudiplh6cnOKjj+0Xjk+dIzBefmY+2P8+tdS3gDxQ8TPE23I5+bPTn1qpaeHPEdorNFp8iPn5lf+Yx/+uvyXE8IZ9TxEY1cPWjS10cW1p2tZL0tFdkeTLB11Kzi7en9foYqeFJ5I1la2m5yDuTAz+J/Gm3Gkvav5YsYTtOd0kwx/Mfqe/uKmv4JJ23GO6kYdfLRiPTv6f1602DRNTuo90HhXUJSxyjBTjHf+E/z496+fqZfgeZ0sNhpc38y9+9vJUp2189HY5nTp7Rj+v6Mkg07X5G3RWkUO7/niuOMevp/n1pf+EXumImu9QiUtjczXCr2HYHP6fyqzb+EvG90pSy8OtEu7pNLt/matW/wn8Ty/6ZquoW1uCefMkI7/AEr6LC8N5tmEYxp5Via1ne8nKEP/ACanFP5W0OmOHrVNqUn63S/FIy/7I0O3O241SNlXlmjUvj+QqpcXWkRXQaCOSRE6McKD+AH1/wA8Vo+JrL4X+CY3uPHvxM02zES7m/0wDb7c1534j/bV/ZD+HFlJNY+KJPEF0v8Aq7exX/WV9Jh/CnjPMJRjHCUcLG9+ZvnlpsnG8l5/r0OqOU46pooRiu+56IurXl6RbWtncSRnGI4lES/oCP8A6/6+d/tM/tQaD+z34Dm0OC/jg8Q6hD/otmsn76P/AGyesY9+teU/F/8A4KPeOdTto9L+B3w5/s/dD+8+3WkhvB/wCuW+C/7AvxT+Ofiyz8bfGnzJNK1D9/f+Zdf6R/rP+en+f+Wdfr3Dfh3i8pxSxWYYyVWdrJRXKknulJ3nby5kexhctqUZc9Sd35f57nH/ALI/wJ8eftVeO5tT162j/wCEXs5YrmSBl/0W5w4d42/d/NJ9a/R3w54Y0fwl4fs/DWjWfl21nFsijjqn8J/g34J+CPg9fB/gjTvItvN8yWT/AJaXH/XSukjzLH0r9Qw+Gw+Fp8lGKivL+tX5noRjGKskUJIqZJa+9X/KH/Pb/v3TJIq2KPCo5anTrUcdOrQCZOlSeX70yP8A1dTRyn/njQX7w+3/AHVWI/8AplUUcPm1Zt/3VAe8TR/+P1NH+96VDH+6/wBbVm3x/wAsqA94nTrUscX7vzv/AEZUH+sqwZef3VBA6PMsf/LOpoov3lR1PbxTUF+8TRxGpvK/74plv+9qxQHvEkX/AE1p8cUNMj/e9Kf2/wBT5dBA+Opo4qIu1P8AK9jQA+38mOpo4/NpqdasRw9qzALeKn+V7CiOI1N5X/bOgBnk0Z5/1PyU+T/v5T46AGeV/wBs0pY/J+T7LTvK83p5dHk/8sf+/tAB/qaZ5Xsam8ryulHlewoAh8r2NP8A9dU3l/8ALKjyvvigv3hnleb/ALlMHk/8tfLqbyaP+WtAe8EXapvK83/XeZTP33/LKGiP/W/va0D3jlvjB8B/hj8ffC6eFfiXoMd9DHLvik83y5I5K+Qfix/wSc1jQZP7Y+EHiqO6TzZHisbj93JHJ/rP3cn/AJDr7qjl/d1J/wAtKzD3j83tH0v/AIKBfAjxJZ6ba6l4xgh+y/uo4/L1K3jj/wCeflyeZH5n/TOtvw//AMFRv2ivC/8AxJ/HngPR9VubP/j6+02sljcR/wDXT/ln/wCQ6/QWTyfs/wC9hjkX/prFXK+MPgP8GfHlu8Pij4b6bdeZ/wAtI7Xy5P8Av5HQHvHxlff8FUfjheW3m+H/AIO6GIY5f+PgfaH/APalYuof8FDv2zPFtul54I8NwR20nySyWWgyPH/y0j/1n/bP93/1zr7Ds/2PP2e9PuIZovAfyWf/AB620kv7uOu5s/AfgOwt00y18K2MEMcu/wAuK1/d0bbBqfnFJ8YP+ChHjyOz8SWuveLoLPzfP8yxtZPs/l+Z/wBM4/8AtnT/APhA/wDgoF8ULyaG/m8XXVtJ5iRSSSyQeZH/AJ8yv0sjtbOL/j1s44/+2UdP8393+6pcjD3j8+rf/gmd8WvFkmm6lf6lJJ/ov+n22pS/6uT95/y08z/rnXp3h/8A4JY/D3+z0/4WD4qup38rfdW1tL+7j/7aV9aSf6v/AJ5vWJ8SNL8N6p8P9V03xRqV1a6bJYSJf3NjL5ckcfl/vP3kdMPePj/XPiN+zf8As8a5beDvhL4Vn8ceJLeLfFJ5vmRx+X/zz/5aV1Wo/t1/Ej4LapoMP7Q/wHj0PR/EEuy11KxuvL8v/np/rP8AtnV/9iPwn+xnqmual4q+AXjbUvEepaXLJBL/AMJBL5lxZ+Z/y0j/AOun/PSvK/8Agoh43m/aH+LmlfAL4f6bJqtz4flknl+zfv8AzLiTy/3f/bPy5KA94+5LO6s9U0+HWLCfzLa4ije1kj/5aR1H5MNZfwj8ETeAvhXoPg/VJvMm0/S7eC68v/lnJ5ddDJF/zy8uOggoeV5PNEn/AG0qz5Xm/wCpp/l+9AHz3HD2p/lewpKmTpWgCxxVZji/d/8ALOmRxfu6sx0F+8Pg/wBWKmj/AHXMVM8r5Kmj/e0B7w+OI1ZTye37yo06VPHEaA94fF2qaOHtRH5NTf6qggPK/efuf3dTf38/vKZF/rKsxdqC/eHxy/8ALGWpo8ynNRR9ePv1Y8n3/wDINAe8Pt/6VLTYvv1N/raA94I4vK2E+XU0f7r/AKaURxeVU1vFQQFvFU0eZf3PlSUvz+1SxxVmAeTU2f3f/wBppiRGKn+Vyh/d0ASf+i6SOLHfzKf5NP8AK8qTigCD/v3U/lf9tKPKh8z/AJ6U/wD+PUF+8QyRH/ll+7p8cP8ApH7qniL/AJ5U/wAqGLZ++oD3iGX/ANq0eV7Gp3605/8AW0B7xD/rf+2dHlc9P3dSf62T95/6KpM/vfJzQHvB+6P/AE0o/wBb5k2aP+Wn/PSmN/BWge8Hlfu/+Wf/AEypfn9qWP8A6ZUscUP/AE0/66f89KA94ZJL9zmn+b7ij9zn919+jP7z+OsxiU399NT5Ij5f/XSiSLypP3v/AKNoF7wSf9dqZ/y0/wCedP8AK83/AFcVP8r/AJ6/+Q6A94Z/1youLWG/t5rO/h8+GSLy5LaSL93JHR5Xm9am/c/9NaA94/L79sj9n3xt+xR8V/8AhZHwkm1jTbDWJZEsNW03/l3jk/5Zv/5E/dyV3/7K/wADP2lvgZ4fm+Nnhf8A4QvxJDrFrHdfbtW1SSOSSOT/AMh+ZXvf/BRDXvCt/wDCe8+G+qfDfWNYmuIvtUV9Y2sn2fT5P+Wckk9fLv7Nfw0+NnxG1iH9m/x5NqXhzR9Li36XbXMVx9kvJPM/56f6v/VyUB7x9IfBP/gon4b+IPjyH4Y+N/BN1o+pSfuPt2m3X2q3+0eZ5f8Ayz8yvo7zYZf30XlyJ/yykiryr4N/sR/BP4I/ZtStdNk1LUreLZ9pvvL8uP8A5af6v/rpXrX2WGLZDbfu0j+Ty44qA94iqPypvL86po4vKk/1VHlebJ+98ygg+c/+WdTbj60UVoBYT/VVNHRRWgFyL79Tf8sqKKzNCa2qa2/ioooAsx/6ypov9ZRRQBOnWnH/AJaUUUAWbf8ArT0A8xqKKAJo/wCGrCdKKKAJsnyqnj/1dFFAE0H+rFSgkR8UUVmAAkSVaoorQzFADnD80kn33oorM0Jrf+KpEAEj4/560UUAOz+8/wC21Nk/ioooASyJAqUkjZiiigzGRyPn71LF2oooNA/5cqjwPSiitAJJSUt/k4qsjuerH/V0UUAW8Dy8Yp3lp5f3aKKzAjtvnuJGbmiQY6D/AJZUUVoAR/8AHstSDqlFFZgJJ88ke7mpMfNj/plRRQBMLW3vHktrqFZI/J+6wqD/AJdqKKACP+GoYu1FFBmGMSIAKdGaKKAP/9k=)\n",
        "\n"
      ]
    },
    {
      "cell_type": "markdown",
      "metadata": {
        "id": "hcviCjXY9grM"
      },
      "source": [
        "The relative velocity and the velocity directed between the line-of-centers are connected by $v_r=v_{lc}\\mathrm{cos}\\alpha$. The purple triangle can be used to show that $\\mathrm{sin}\\alpha=\\frac{b}{b_{max}}$. The connection between $sin$ and $cos$ can be used along with these relations to show that $v_{lc}=v_r\\sqrt{1-\\frac{b^2}{b_{max}^2}}$\n",
        "\n",
        "If we place some maximum limit on $b$ for successful reactions, $b_o$, we can write  $v_{o}=v_r\\sqrt{1-\\frac{b_o^2}{b_{max}^2}}$ where $v_o$ is the minimum relative velocity along the line-of-centers that will lead to a reaction.\n",
        "\n",
        "Solving for $b_o$ gives $$b_{o}=b_{max}\\sqrt{1-\\frac{v_r^2}{v_{o}^2}}$$ Our actual collision cross section is $\\sigma = \\pi b_{max}^2$. Since $b_o$ is the effective collision radius, the *effective* collision cross-section is then $$\\sigma_e=\\pi b_o^2=\\pi b_{max}^2\\left(1-\\frac{v_r^2}{v_o^2}\\right)=\\sigma\\left(1-\\frac{v_r^2}{v_o^2}\\right)$$. We now use this as our $\\sigma$ in the integral for average $k$ as we did in assumption 2. "
      ]
    },
    {
      "cell_type": "code",
      "metadata": {
        "id": "_e0L6uEwh3Dq"
      },
      "source": [
        "ct_assum3=sp.Eq(k,sp.integrate(sigma*(1-vo**2/vr**2)*vr*maxbolt.rhs.subs(v,vr),(vr,vo,sp.oo)).simplify())\n",
        "ct_assum3"
      ],
      "execution_count": null,
      "outputs": []
    },
    {
      "cell_type": "markdown",
      "metadata": {
        "id": "osZKptPujs4x"
      },
      "source": [
        "Substituting kinetic energy for velocity gives"
      ]
    },
    {
      "cell_type": "code",
      "metadata": {
        "id": "3_pfZ2JF7hPu"
      },
      "source": [
        "ct_assum3.subs(vo**2,2*Eo/mu) # .subs means substitute the second expression for the first."
      ],
      "execution_count": null,
      "outputs": []
    },
    {
      "cell_type": "markdown",
      "metadata": {
        "id": "l0PUrvBz8BuH"
      },
      "source": [
        "Which can be rewritten as $$\\left<k\\right>=\\sigma \\left(\\dfrac{8k_bT}{\\pi \\mu}\\right)^{1/2}e^{-\\frac{E_o^2}{k_BT}}=\\sigma \\left<v_r\\right>e^{-\\frac{E_o^2}{k_BT}}$$\n"
      ]
    },
    {
      "cell_type": "markdown",
      "metadata": {
        "id": "73hieAtD8o2q"
      },
      "source": [
        "This version is decreased from the previous assumption by the factor $$\\left(\\dfrac{E_o}{k_B T}+1\\right)$$ but is likely to still be too big for any but atom-atom reactions."
      ]
    },
    {
      "cell_type": "markdown",
      "metadata": {
        "id": "sQE710oksZSQ"
      },
      "source": [
        "**Assumption 4:** Assume every collision with sufficient $v_{lc}$ leads to collision *if the orientation is correct*.\n",
        "\n",
        "We will not try to derive anything here but simply multipy by the fraction of the surface that is active to reaction, *P*.\n",
        "\n",
        "$$\\left<k\\right>=\\left[P\\left<v_r\\right>\\sigma\\right]e^{-E_o/kT}$$ \n",
        "\n",
        "$P$ is likely to be much smaller than 1 for most reactions but there are [rare mechanisms](https://en.wikipedia.org/wiki/Harpoon_reaction) for which this is not true."
      ]
    },
    {
      "cell_type": "markdown",
      "source": [
        "Questions:\n",
        "\n",
        "\n",
        "\n",
        "\n",
        "\n",
        "\n",
        "\n"
      ],
      "metadata": {
        "id": "PFBZsX58fQpg"
      }
    },
    {
      "cell_type": "markdown",
      "source": [
        "$$\\require{mhchem}$$  \n",
        "\n",
        "## Transition State Theory/Activated Complex Theory\n",
        "\n",
        "There's another theory that gives a different and complementary view of rate constants. It takes into account more than the activation energy but comes at a cost of a bit more complexity. The mechanism is\n",
        "\n",
        "$$\\ce{A + B <=>[k_1][k_{-1}] AB^{\\ddagger} ->[k^\\ddagger] P}$$\n",
        "\n",
        "Here $AB^\\ddagger$ refers to a transition-state **not** an intermediate as is usual with mechanisms. The reaction rate will be $$\\dfrac{d[P]}{dt}=k^\\ddagger[AB^\\ddagger]$$\n",
        "\n",
        "If we assume that $k^\\ddagger$ is smaller than $k_1$ and $k_{-1}$, we will find that the first step approaches equilibrium such that \n",
        "\n",
        "$$k_1[A][B]=k_{-1}[AB^\\ddagger]$$\n",
        "\n",
        "\n"
      ],
      "metadata": {
        "id": "gAzdWkvsA0HC"
      }
    },
    {
      "cell_type": "markdown",
      "source": [
        "Solving for [AB$^\\ddagger$] and substituting into the rate equation gives \\begin{equation} \\dfrac{d[P]}{dt}=k^\\ddagger [A][B]\\end{equation}\n",
        "\n"
      ],
      "metadata": {
        "id": "J_LGdVuLk1ZF"
      }
    },
    {
      "cell_type": "code",
      "source": [
        "k1f,k1b,k2,AB,A,B=sp.symbols('k_1,k_{-1},k^\\ddagger,[AB^{\\ddagger}],[A],[B]')\n",
        "t=sp.symbols('t',real=True,nonegative=True)\n",
        "\n",
        "P=sp.Function('P')(t)\n",
        "rate=sp.Eq(sp.diff(P,t),k2*AB)\n",
        "rate"
      ],
      "metadata": {
        "id": "YT45qpA9__c6",
        "outputId": "081a54d4-6cc7-4af1-88ee-7c19207823a8",
        "colab": {
          "base_uri": "https://localhost:8080/",
          "height": 52
        }
      },
      "execution_count": 5,
      "outputs": [
        {
          "output_type": "execute_result",
          "data": {
            "text/plain": [
              "d                                      \n",
              "──(P(t)) = [AB__{\\ddagger}]⋅k__\\ddagger\n",
              "dt                                     "
            ],
            "text/latex": "$\\displaystyle \\frac{d}{d t} P{\\left(t \\right)} = [AB^{\\ddagger}] k^{\\ddagger}$"
          },
          "metadata": {},
          "execution_count": 5
        }
      ]
    },
    {
      "cell_type": "code",
      "source": [
        "rate=rate.subs(AB,A*B*k1f/k1b)\n",
        "rate"
      ],
      "metadata": {
        "id": "9tia3_EFPFPe",
        "outputId": "1816af1e-0b55-47c8-88ed-c5330a3a3591",
        "colab": {
          "base_uri": "https://localhost:8080/",
          "height": 58
        }
      },
      "execution_count": 7,
      "outputs": [
        {
          "output_type": "execute_result",
          "data": {
            "text/plain": [
              "d          [A]⋅[B]⋅k__\\ddagger⋅k₁\n",
              "──(P(t)) = ──────────────────────\n",
              "dt                 k_{-1}        "
            ],
            "text/latex": "$\\displaystyle \\frac{d}{d t} P{\\left(t \\right)} = \\frac{[A] [B] k^{\\ddagger} k_{1}}{k_{-1}}$"
          },
          "metadata": {},
          "execution_count": 7
        }
      ]
    },
    {
      "cell_type": "markdown",
      "source": [
        "Since our activated complex is sitting at the top of the energy profile the rate constant will be the vibrational frequency of the mode that is leading toward the product. If, for example, we're breaking a bond, it will be the vibratinoal frequency (of the activated complex) that is stretching that bond. So let's substitute $k^\\ddagger$ for the vibrational frequency of this vibrational mode, $v^\\ddagger$."
      ],
      "metadata": {
        "id": "JwHYMdjMPo0n"
      }
    },
    {
      "cell_type": "code",
      "source": [
        "nudag=sp.symbols(r'\\nu^\\ddagger')\n",
        "rate=rate.subs(k2,nudag)\n",
        "rate"
      ],
      "metadata": {
        "id": "X7XMQcwzQRU2",
        "outputId": "b5c764b1-bcfb-4b88-eae7-aef2cc218f0d",
        "colab": {
          "base_uri": "https://localhost:8080/",
          "height": 58
        }
      },
      "execution_count": 12,
      "outputs": [
        {
          "output_type": "execute_result",
          "data": {
            "text/plain": [
              "d          [A]⋅[B]⋅\\nu__\\ddagger⋅k₁\n",
              "──(P(t)) = ────────────────────────\n",
              "dt                  k_{-1}         "
            ],
            "text/latex": "$\\displaystyle \\frac{d}{d t} P{\\left(t \\right)} = \\frac{[A] [B] \\nu^{\\ddagger} k_{1}}{k_{-1}}$"
          },
          "metadata": {},
          "execution_count": 12
        }
      ]
    },
    {
      "cell_type": "markdown",
      "source": [
        "We already used the expression for the equilibrium to solve for the concentration of AB$^\\ddagger$ but we can also recognize that the ratio, $k_1/k_{-1}$ is equal to the equilibrium constant, $K^\\ddagger$."
      ],
      "metadata": {
        "id": "z1ZvlQU0QvXh"
      }
    },
    {
      "cell_type": "code",
      "source": [
        "Keq=sp.symbols('K_{eq}^\\ddagger')\n",
        "rate.subs(k1f/k1b,Keq)"
      ],
      "metadata": {
        "id": "yrvmEGMKRKv0",
        "outputId": "01868c43-0a55-47ad-c17b-33b31350a1ec",
        "colab": {
          "base_uri": "https://localhost:8080/",
          "height": 52
        }
      },
      "execution_count": 13,
      "outputs": [
        {
          "output_type": "execute_result",
          "data": {
            "text/plain": [
              "d                                                \n",
              "──(P(t)) = K_{eq}__\\ddagger⋅[A]⋅[B]⋅\\nu__\\ddagger\n",
              "dt                                               "
            ],
            "text/latex": "$\\displaystyle \\frac{d}{d t} P{\\left(t \\right)} = K_{eq}^\\ddagger [A] [B] \\nu^{\\ddagger}$"
          },
          "metadata": {},
          "execution_count": 13
        }
      ]
    },
    {
      "cell_type": "markdown",
      "source": [
        "From this expression, it is easy to recognize that the rate constant is $k=K_{eq}^\\ddagger \\nu^\\ddagger$.\n",
        "\n",
        "Statistical mechanics can show us that $\\nu^\\ddagger=\\dfrac{k_BT}{h}$."
      ],
      "metadata": {
        "id": "7loc9vvzRb9w"
      }
    },
    {
      "cell_type": "markdown",
      "metadata": {
        "id": "UIDvS4fzMAAZ"
      },
      "source": [
        "$$\\require{mhchem}$$  \n",
        "\n",
        "\n",
        "\n",
        "\n",
        "\n",
        "Putting all this together, we find $$k=\\dfrac{k_BT}{h}K^\\ddagger$$\n",
        "\n",
        "The equilibrium constant (including the exponential correction for the difference in energy between A+B and AB$^\\ddagger$) can be written in terms of Gibbs energy using $\\Delta G'^\\ddagger=-RTlnK'^\\ddagger$\n",
        "$$k=\\dfrac{k_BT}{h} e^{\\frac{\\Delta S'^\\ddagger}{T}}e^{-\\frac{\\Delta H'^\\ddagger}{RT}}$$\n",
        "\n",
        "The relation between enthalpy and energy is $\\Delta H=\\varepsilon^\\ddagger + \\Delta PV$.\n",
        "For ideal gases we can write $\\Delta H^\\ddagger=\\varepsilon^\\ddagger+\\Delta nRT$. The $\\Delta n$ will be different for unimolecular gas phase reactions than for bimolecular gas phase reactions."
      ]
    },
    {
      "cell_type": "markdown",
      "metadata": {
        "id": "KsAeb1LMZTyc"
      },
      "source": [
        "For a unimolecular reaction, $\\ce{A<=>A ^{\\ddagger}}$, the change in moles of gas is $\\Delta n_{gas}=0$, so $\\Delta H'^\\ddagger$=$\\varepsilon^\\ddagger$. The same goes for solution phase reactions of whatever molecularity because $\\Delta PV\\approx0$ in those cases.\n",
        "\n",
        "For bimolecular reactions, $\\ce{A+B <=> AB ^{\\ddagger}}$, $\\Delta n_{gas}=-1$ so $\\Delta H'^\\ddagger=\\varepsilon^\\ddagger-RT$. Subsitituting into our expression for $k$ leads to an additional factor of $e^1$."
      ]
    }
  ]
}