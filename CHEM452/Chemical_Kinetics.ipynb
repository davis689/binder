{
  "nbformat": 4,
  "nbformat_minor": 0,
  "metadata": {
    "colab": {
      "name": "Chemical Kinetics.ipynb",
      "provenance": [],
      "include_colab_link": true
    },
    "kernelspec": {
      "name": "python3",
      "display_name": "Python 3"
    }
  },
  "cells": [
    {
      "cell_type": "markdown",
      "metadata": {
        "id": "view-in-github",
        "colab_type": "text"
      },
      "source": [
        "<a href=\"https://colab.research.google.com/github/davis689/binder/blob/master/CHEM452/Chemical_Kinetics.ipynb\" target=\"_parent\"><img src=\"https://colab.research.google.com/assets/colab-badge.svg\" alt=\"Open In Colab\"/></a>"
      ]
    },
    {
      "cell_type": "code",
      "metadata": {
        "id": "ACxmkjMehlKG"
      },
      "source": [
        "import numpy as np\n",
        "from scipy.integrate import odeint\n",
        "import matplotlib.pyplot as plt"
      ],
      "execution_count": null,
      "outputs": []
    },
    {
      "cell_type": "markdown",
      "metadata": {
        "id": "c56aHVtZ0RMY"
      },
      "source": [
        "# Numerical Integration of first order rate laws\n"
      ]
    },
    {
      "cell_type": "markdown",
      "metadata": {
        "id": "7WpAI6JZWywW"
      },
      "source": [
        "## First order"
      ]
    },
    {
      "cell_type": "markdown",
      "metadata": {
        "id": "n9zNVf9km1zm"
      },
      "source": [
        "We want to numerically integrate the rate laws for the first order equilibrium, A->B. First we define a function to describe our rate equations. "
      ]
    },
    {
      "cell_type": "code",
      "metadata": {
        "id": "LyvNI0iWiO-r"
      },
      "source": [
        "def rxn1st(M,t,k1):\n",
        "   \n",
        "  r1=k1*M[0] #k1*(concentation of A) \n",
        "  \n",
        "  dAdt=-r1 #rate of change of A decreased by forward reaction and increased by reverse reaction\n",
        "  dBdt=r1 #rate of change of B increased by forward reaction and decreased by reverse reaction\n",
        "  \n",
        "  return(dAdt,dBdt)"
      ],
      "execution_count": null,
      "outputs": []
    },
    {
      "cell_type": "markdown",
      "metadata": {
        "id": "aXAXz9humni_"
      },
      "source": [
        "Here we have defined a function, rxn, that returns the derivatives of A and B as given by the rate laws. This is necessary for the differential equation solver. In addition we need to set up a few variables like the times we want to evaluate, the initial concentrations, and the rate constants.\n",
        "\n",
        "Here, for no particular reason, we assign $M_0$ as the vector containing the initial concentrations [A]<sub>0</sub> and [B]<sub>0</sub> and assign them values of 1 and 0, respectively.\n",
        "\n",
        "Then call the Ordinary Differential Equation INTegrator function (odeint) using the rxn1st function we defined above, the initial concentration vector (M0), the times we want to evaluate (t), and the rate constants."
      ]
    },
    {
      "cell_type": "code",
      "metadata": {
        "id": "rZEbLsbdi56W"
      },
      "source": [
        "t=np.linspace(0,10,101) # define t. The first number is the beginning point, the second number is the end, and the third is the number of points.\n",
        "M0=[1,0] #initial concentrations of A and B\n",
        "k1=1 # the one rate constant\n",
        "C=odeint(rxn1st,M0,t,args=(k1,)) # solve the DEs. Not sure why the last , is necessary but it seems to work with it there."
      ],
      "execution_count": null,
      "outputs": []
    },
    {
      "cell_type": "markdown",
      "metadata": {
        "id": "0rC9xl7Ybji2"
      },
      "source": [
        "After solving, the result is stored in C, one column of numbers for each species in the reaction. Here we can separate it out by getting all of the first column (column 0) and assigning it to cA and all of column 1 and assigning it to cB."
      ]
    },
    {
      "cell_type": "code",
      "metadata": {
        "id": "_1_bK4o2jRT7"
      },
      "source": [
        "cA=C[:,0] #define cA to give the concentration from the first (zeroth) column of the C array\n",
        "cB=C[:,1] #define cB to give the concentration from the second column of the C array"
      ],
      "execution_count": null,
      "outputs": []
    },
    {
      "cell_type": "code",
      "metadata": {
        "id": "1yR05EPjjVXX",
        "colab": {
          "base_uri": "https://localhost:8080/",
          "height": 279
        },
        "outputId": "59f1bf05-0eeb-45cd-d7dc-7339481bc06e"
      },
      "source": [
        "plt.plot(t,cA,'r-',label='A')\n",
        "plt.plot(t,cB,label='B')\n",
        "plt.xlabel('time')\n",
        "plt.ylabel('conc')\n",
        "plt.xlim(0,max(t))\n",
        "plt.ylim(0,1.05*max(cA))\n",
        "plt.legend()\n",
        "plt.show()"
      ],
      "execution_count": null,
      "outputs": [
        {
          "output_type": "display_data",
          "data": {
            "text/plain": [
              "<Figure size 432x288 with 1 Axes>"
            ],
            "image/png": "[encoded data removed]"
          },
          "metadata": {
            "needs_background": "light"
          }
        }
      ]
    },
    {
      "cell_type": "markdown",
      "metadata": {
        "id": "KuzIPI7oDX2d"
      },
      "source": [
        "See what would change if you make $k=10$ or $k=0.1$. \\\\\n",
        "See what would change if you make $[A]_o=0.5$ or $[B]_o=0.5$.\n"
      ]
    },
    {
      "cell_type": "markdown",
      "metadata": {
        "id": "2J-pxd4gDKZB"
      },
      "source": [
        "#Equilibrium (first order both ways)\n",
        "Of course we can analytically solve the first order rate law quite easily without a computer. We can fix up our function to cover more complex cases by including the backward reaction. For now we'll assume first order in both directions."
      ]
    },
    {
      "cell_type": "code",
      "metadata": {
        "id": "X5iEKfXxDwFQ"
      },
      "source": [
        "def rxn1st_equilibrium(M,t,k1,k2):\n",
        "   \n",
        "  r1=k1*M[0] #k1*(concentation of A)\n",
        "  r2=k2*M[1]\n",
        "  \n",
        "  dAdt=-r1+r2 #rate of change of A decreased by forward reaction and increased by reverse reaction\n",
        "  dBdt=r1-r2 #rate of change of B increased by forward reaction and decreased by reverse reaction\n",
        "  \n",
        "  return(dAdt,dBdt)"
      ],
      "execution_count": null,
      "outputs": []
    },
    {
      "cell_type": "markdown",
      "metadata": {
        "id": "xa0Gzd72EEEt"
      },
      "source": [
        "Combining the setup concentrations, rate constants, solving the set of differential equations, and plotting..."
      ]
    },
    {
      "cell_type": "code",
      "metadata": {
        "id": "uLPmlJ6Ukp4g",
        "colab": {
          "base_uri": "https://localhost:8080/",
          "height": 279
        },
        "outputId": "d11a7324-f38d-41bc-931d-2b171fafa7c5"
      },
      "source": [
        "t=np.linspace(0,10,100)\n",
        "\n",
        "M0=[1,0] #A0 and B0\n",
        "k1=1 #fwd reaction\n",
        "k2=0 #bkwd reaction\n",
        "\n",
        "C=odeint(rxn1st_equilibrium,M0,t,(k1,k2))\n",
        "cA=C[:,0] \n",
        "cB=C[:,1]\n",
        "plt.plot(t,cA,'r-',label='A')\n",
        "plt.plot(t,cB,label='B')\n",
        "plt.xlabel('time')\n",
        "plt.ylabel('conc')\n",
        "plt.xlim(0,max(t))\n",
        "plt.ylim(0,1.05*max(cA))\n",
        "plt.legend()\n",
        "plt.show()"
      ],
      "execution_count": null,
      "outputs": [
        {
          "output_type": "display_data",
          "data": {
            "text/plain": [
              "<Figure size 432x288 with 1 Axes>"
            ],
            "image/png": "[encoded data removed]"
          },
          "metadata": {
            "needs_background": "light"
          }
        }
      ]
    },
    {
      "cell_type": "markdown",
      "metadata": {
        "id": "i0a1TJ4cEO74"
      },
      "source": [
        "Using the constants and initial concentrations given should give us the same result as we got with only the forward reaction. "
      ]
    },
    {
      "cell_type": "markdown",
      "metadata": {
        "id": "91bqf670WRIq"
      },
      "source": [
        "Modify the code below to graph the concentations of A and B if $[A]_o$=1 and $[B]_o=0$ for k<sub>1</sub>=1 and k<sub>2</sub>=.5 \\\\\n",
        "How do things change? \\\\\n"
      ]
    },
    {
      "cell_type": "code",
      "metadata": {
        "id": "rNiW7XzboOAh"
      },
      "source": [
        "t=np.linspace(0,10,100)\n",
        "M0=[ , ]\n",
        "k1=\n",
        "k2= \n",
        "\n",
        "C=odeint(rxn1st_equilibrium,M0,t,(k1,k2))\n",
        "cA=C[:,0]\n",
        "cB=C[:,1]\n",
        "plt.plot(t,cA,'r-',label='A')\n",
        "plt.plot(t,cB,label='B')\n",
        "plt.xlabel('time')\n",
        "plt.ylabel('conc')\n",
        "plt.xlim(0,max(t))\n",
        "plt.ylim(0,1.05*max(cA))\n",
        "plt.legend()"
      ],
      "execution_count": null,
      "outputs": []
    },
    {
      "cell_type": "markdown",
      "metadata": {
        "id": "pDQtVmgRWtCd"
      },
      "source": [
        "What happens if $k_2$ is twice as big as $k_1$?\n",
        "\n",
        "\n"
      ]
    },
    {
      "cell_type": "code",
      "metadata": {
        "id": "Q5lHAI41WrC-"
      },
      "source": [
        "t=np.linspace(0,10,100)\n",
        "M0=[ , ]\n",
        "k1=\n",
        "k2=\n",
        "\n",
        "C=odeint(rxn1st_equilibrium,M0,t,(k1,k2))\n",
        "cA=C[:,0]\n",
        "cB=C[:,1]\n",
        "plt.plot(t,cA,'r-',label='A')\n",
        "plt.plot(t,cB,label='B')\n",
        "plt.xlabel('time')\n",
        "plt.ylabel('conc')\n",
        "plt.xlim(0,max(t))\n",
        "plt.ylim(0,1.05*max(cA))\n",
        "plt.legend()"
      ],
      "execution_count": null,
      "outputs": []
    },
    {
      "cell_type": "markdown",
      "metadata": {
        "id": "TlUePZyU4Lya"
      },
      "source": [
        "Try some other values of initial concentrations and rate constants. \n"
      ]
    },
    {
      "cell_type": "markdown",
      "metadata": {
        "id": "rv5JakUBW2qV"
      },
      "source": [
        "## Second order"
      ]
    },
    {
      "cell_type": "markdown",
      "metadata": {
        "id": "jJUZswfNXFLP"
      },
      "source": [
        "Modify the orginal function to calculate second order reactions (both directions). In Python, powers are signified by \\*\\*, as in 2\\**3=8."
      ]
    },
    {
      "cell_type": "code",
      "metadata": {
        "id": "blBWbjFtW6rT"
      },
      "source": [
        "def rxn2nd(M,t,k1,k2):\n",
        "   \n",
        "  r1=   #forward\n",
        "  r2=   #backward\n",
        "  \n",
        "  dAdt=-r1+r2 #rate of change of A decreased by forward reaction and increased by reverse reaction\n",
        "  dBdt=r1-r2 #rate of change of B increased by forward reaction and decreased by reverse reaction\n",
        "  \n",
        "  return(dAdt,dBdt)"
      ],
      "execution_count": null,
      "outputs": []
    },
    {
      "cell_type": "markdown",
      "metadata": {
        "id": "Nu2aTMDvXfno"
      },
      "source": [
        "Plot for $k_1$=1, $k_2$=0, $A_0$=1, and $B_0$=0"
      ]
    },
    {
      "cell_type": "code",
      "metadata": {
        "id": "mxA4dtP1Y0LL"
      },
      "source": [
        ""
      ],
      "execution_count": null,
      "outputs": []
    },
    {
      "cell_type": "markdown",
      "metadata": {
        "id": "pA_9KVlwYp5c"
      },
      "source": [
        "Modify rate constants and concentrations and justify the results."
      ]
    },
    {
      "cell_type": "markdown",
      "source": [
        "Plot for $k_1$=1, $k_2$=0.5, $A_0$=1, and $B_0$=0"
      ],
      "metadata": {
        "id": "E0j_Bgf40ndB"
      }
    },
    {
      "cell_type": "code",
      "source": [
        ""
      ],
      "metadata": {
        "id": "qESggTb50tL1"
      },
      "execution_count": null,
      "outputs": []
    },
    {
      "cell_type": "markdown",
      "source": [
        "*How does this differ from the first order equilibrium?*"
      ],
      "metadata": {
        "id": "EcnfgalO0tZp"
      }
    },
    {
      "cell_type": "markdown",
      "metadata": {
        "id": "S_dYdySCY1Sr"
      },
      "source": [
        "## Multi step reactions"
      ]
    },
    {
      "cell_type": "markdown",
      "source": [
        "Modify to calculate for reactions A$\\rightarrow$B and also A$\\rightarrow$C at the same time.\n"
      ],
      "metadata": {
        "id": "7vVxrSwe9McU"
      }
    },
    {
      "cell_type": "code",
      "source": [
        "def rxn(M,t,k1,k2 ):\n",
        "   \n",
        "  r1=k1*M[0] #k1*(concentation of A)\n",
        "  r2=k2*M[0] #k2*(concentration of B)\n",
        "  dAdt=-r1-r2 #A decreased by each reaction\n",
        "  dBdt=r1 # B changed by first reaction\n",
        "  dCdt=r2\n",
        "  return(dAdt,dBdt,dCdt)"
      ],
      "metadata": {
        "id": "ez7q-4WL0EPd"
      },
      "execution_count": 31,
      "outputs": []
    },
    {
      "cell_type": "code",
      "source": [
        "#@title rate constants { run: \"auto\" }\n",
        "k1 = 0.5 #@param {type:\"slider\", min:0, max:10, step:0.5}\n",
        "k2 = 1 #@param {type:\"slider\", min:0, max:10, step:0.5}\n",
        "t=np.linspace(0,10,100)\n",
        "M0=[1,0,0] # initial concentrations \n",
        "\n",
        "\n",
        "C=odeint(rxn,M0,t,(k1,k2 ))\n",
        "cA=C[:,0] \n",
        "cB=C[:,1] \n",
        "cC=C[:,2]\n",
        "plt.plot(t,cA,'r-',label='A')\n",
        "plt.plot(t,cB,'b-',label='B')\n",
        "plt.plot(t,cC,'cyan',linestyle='-',label='C')\n",
        "plt.xlabel('time')\n",
        "plt.ylabel('conc')\n",
        "plt.xlim(0,max(t))\n",
        "plt.ylim(0,1.05*max(cA)) # make the upper y-limit 5% higher than the initial cA\n",
        "plt.legend()\n",
        "plt.show()"
      ],
      "metadata": {
        "id": "822lmkE30YAZ"
      },
      "execution_count": null,
      "outputs": []
    },
    {
      "cell_type": "markdown",
      "source": [
        "**Predict results and plot for $k_1>>k_2$, for $k_1<<k_2$, and for $k_1≈k_2$.**\n"
      ],
      "metadata": {
        "id": "d29BsHdo1gdL"
      }
    },
    {
      "cell_type": "markdown",
      "metadata": {
        "id": "EchntABRb9Xb"
      },
      "source": [
        "**Modify (below) to calculate for a reaction like A$\\rightleftharpoons$B$\\rightarrow$C**\n",
        "\n",
        "Use variable names that are easy to decipher later. You might use `r1f=` and `r1b=` along with `k1f` and `k1b` for step 1 **f**orward and **b**ackward.\n",
        "\n",
        "**What additional terms will be needed? **\n",
        "\n",
        "**Will any change be needed to plot the results?**"
      ]
    },
    {
      "cell_type": "code",
      "metadata": {
        "id": "8IPFMvmsY5pJ"
      },
      "source": [
        "def rxn(M,t,k1,k2 ):\n",
        "   \n",
        "  r1=k1*M[0] #k1*(concentation of A)\n",
        "  r2=k2*M[1] #k2*(concentration of B)\n",
        "  dAdt=-r1 #rate of change of A decreased by forward reaction and increased by reverse reaction\n",
        "  dBdt=r1-r2 #rate of change of B increased by forward reaction and decreased by reverse reaction\n",
        "  dCdt=r2\n",
        "  return(dAdt,dBdt,dCdt)"
      ],
      "execution_count": null,
      "outputs": []
    },
    {
      "cell_type": "code",
      "metadata": {
        "id": "HBkLyIfN37n9"
      },
      "source": [
        "t=np.linspace(0,10,100)\n",
        "M0=[1,0,0]\n",
        "k1=5\n",
        "k2=.1 \n",
        "k3=1\n",
        "C=odeint(rxn,M0,t,(k1,k2,k3))\n",
        "cA=C[:,0] \n",
        "cB=C[:,1] \n",
        "cC=C[:,2] \n",
        "plt.plot(t,cA,'r-',label='A')\n",
        "plt.plot(t,cB,'b-',label='B')\n",
        "plt.plot(t,cC,'-',color='purple',label='C')\n",
        "plt.xlabel('time')\n",
        "plt.ylabel('conc')\n",
        "plt.xlim(0,max(t))\n",
        "plt.ylim(0,1.05*max(cA))\n",
        "plt.legend()\n",
        "plt.show()"
      ],
      "execution_count": null,
      "outputs": []
    },
    {
      "cell_type": "markdown",
      "metadata": {
        "id": "gfZ8tOkfNdh5"
      },
      "source": [
        "**Predict results and plot for $k_{1f}>>k_2/k_{1b}$, for $k_{1f}<<k_2/k_{1b}$, and for $k_1≈k_2/k_{1b}$.**\n"
      ]
    },
    {
      "cell_type": "markdown",
      "metadata": {
        "id": "uvOnDib2NopH"
      },
      "source": [
        "#Approximate Methods\n",
        "It's nice to be able to solve the equations numerically and get graphs of the concentration. These graphs result in complete descriptions of how things change but, consisting solely of lists of numbers, it can be difficult, especially as the mechanisms get more complicated, to accuratly describe or predict the differences expected between similar mechanisms. \n",
        "In addition to numerically solving for the concentrations, it is also possible to apply one of two major approximations and get symbolic results.\n",
        "##Equilibrium approximation\n",
        "If a later step in the mechanism is slow (rate determining) and an earlier step is an equilibrium, the rate law overall will be the rate law of the slow step which will almost certainly contain an intermediate. The equilibrium approximation is applied by assuming that equilibrium for the early step is achieved and so the concentration of the intermediate can be determined in terms of the reactants. \n",
        "\n",
        "For a first-order reaction, A$\\rightleftharpoons$B$\\rightarrow$C, having forward and backward rate constants of $k_1$ and $k_{-1}$ and a second step rate constant of $k_2$ which will be small, if equilibrium is estabilished, $k_1[A]=k_{-1}[B]$ so the intermediate [B] will have a concentration of $[B]=\\dfrac{k_1[A]}{k_{-1}}$ and the reaction will have an overall rate determined from the second step of $$rate=k_2[B]=k_2\\dfrac{k_1[A]}{k_{-1}}$$\n",
        "\n",
        "Of course the second step does not have a rate of zero so the first step does not truly reach equilibrium and the concentration of [B] is presumably zero at the beginning whereas the approximation suggests that it is always some non-zero fraction of [A]. However, for reactions that have a slow step after an equilibrium step, this approximation is likely a reasonable one.\n",
        "\n",
        "The equilibrium approximation is also called the pre-equilibrium approximation or the prior-equilibrium approximation to suggest that the equilibruim occurs prior to the rate determining step.\n",
        "\n",
        "## Steady-state approximation\n",
        "In the opposite case where slow step occurs first, an appropriate approximation would assume that all the intermediate gets used as soon as it is formed so the rate of formation of intermediate is effectively zero. For a first-order reaction, A$\\rightleftharpoons$B$\\rightarrow$C, having forward and backward rate constants of $k_1$ and $k_{-1}$ and a second step rate constant of $k_2$ the steady-state approximation would indicate that $$\\dfrac{d[B]}{dt}=k_1[A]-k_{-1}[B]-k_2[B]≈0 $$\n",
        "Now we can solve this equation for [B] and find the overall rate of formation of the product, C, using this expression. If there are more intermediates and they are needed for the overall rate law, we can use the steady state approximation on all of them.\n",
        "The steady-state approximation does not require that the formation of product is fast; it only requires that the intermediate not change significantly in concentration. If the backwards first step is fast and removes the intermediate as quickly as soon as it's formed, that's good enough. In this way the steady-state approximation also fits some cases covered by the equilibrium approximation.\n",
        "\n",
        "**Now let's apply approximations and see when they fit best. **"
      ]
    },
    {
      "cell_type": "code",
      "source": [
        "#These are just copied from above so that we can easily make adjustments. We can easily change them to work for other reactions too but we would need to define a new function to return the rates of each species.\n",
        "t=np.linspace(0,10,100)\n",
        "M0=[1,0,0]\n",
        "k1=1\n",
        "k2=.1 \n",
        "k3=.1\n",
        "C=odeint(rxn,M0,t,(k1,k2,k3))\n",
        "cA=C[:,0]\n",
        "cB=C[:,1]\n",
        "cC=C[:,2]"
      ],
      "metadata": {
        "id": "gXCn3Fv3hI5a"
      },
      "execution_count": null,
      "outputs": []
    },
    {
      "cell_type": "code",
      "metadata": {
        "id": "LYAo27ulvZeb"
      },
      "source": [
        "B_ss=[]\n",
        "B_pe=[]\n",
        "for ca in cA: # for each value of cA from above\n",
        "  B_ss.append( ) # input the expression that would calculate the result for [B] according to the steady state calculation\n",
        "  B_pe.append( ) # input the expression that would calculate the result for [B] according to the pre-equilibrium calculation\n",
        "plt.plot(t,cB,'b-',label='exact solution')\n",
        "plt.plot(t,B_ss,'r--',label='steady state')\n",
        "plt.plot(t,B_pe,'g--',label='prior equilibrium')\n",
        "plt.xlim(0,max(t))\n",
        "plt.ylim(0,1)\n",
        "plt.legend()\n",
        "plt.show()"
      ],
      "execution_count": null,
      "outputs": []
    },
    {
      "cell_type": "markdown",
      "source": [
        "Let's determine the \\%deviation for each method."
      ],
      "metadata": {
        "id": "3mOvvumtg1bl"
      }
    },
    {
      "cell_type": "code",
      "metadata": {
        "id": "Q0TEkvn-E6CK"
      },
      "source": [
        "ratio_ss=[]\n",
        "ratio_pe=[]\n",
        "for i in range(1,len(t)): #start at 1 to avoid division by zero\n",
        "  ratio_ss.append((B_ss[i]-cB[i])/cB[i]*100) #percent difference of approximation\n",
        "  ratio_pe.append(abs(B_pe[i]-cB[i])/cB[i]*100) #percent difference\n",
        "plt.plot(t[1:],ratio_ss,label='ss') # use all values of t after the zeroth one.\n",
        "plt.plot(t[1:],ratio_pe,label='pe')\n",
        "plt.ylim(-100,100)\n",
        "plt.legend()\n",
        "plt.ylabel('% deviation from actual concentration')\n",
        "plt.xlabel('time')\n",
        "plt.show()"
      ],
      "execution_count": null,
      "outputs": []
    },
    {
      "cell_type": "markdown",
      "metadata": {
        "id": "Ehvyu_FONzoV"
      },
      "source": [
        "Try values of the $k$'s so that the steady state approximation has the lowest absolute error and values of the $k$'s such that the pre-equilibrium approximation has the lowest absolute error."
      ]
    }
  ]
}