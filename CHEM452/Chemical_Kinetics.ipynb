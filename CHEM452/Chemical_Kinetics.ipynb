{
  "nbformat": 4,
  "nbformat_minor": 0,
  "metadata": {
    "colab": {
      "name": "Chemical Kinetics.ipynb",
      "provenance": [],
      "include_colab_link": true
    },
    "kernelspec": {
      "name": "python3",
      "display_name": "Python 3"
    }
  },
  "cells": [
    {
      "cell_type": "markdown",
      "metadata": {
        "id": "view-in-github",
        "colab_type": "text"
      },
      "source": [
        "<a href=\"https://colab.research.google.com/github/davis689/binder/blob/master/CHEM452/Chemical_Kinetics.ipynb\" target=\"_parent\"><img src=\"https://colab.research.google.com/assets/colab-badge.svg\" alt=\"Open In Colab\"/></a>"
      ]
    },
    {
      "cell_type": "code",
      "metadata": {
        "id": "ACxmkjMehlKG"
      },
      "source": [
        "import numpy as np # numpy provides functions for numerical computations\n",
        "from scipy.integrate import odeint # odeint is for differential equation solving\n",
        "import matplotlib.pyplot as plt # matplotlib does plotting"
      ],
      "execution_count": null,
      "outputs": []
    },
    {
      "cell_type": "markdown",
      "metadata": {
        "id": "c56aHVtZ0RMY"
      },
      "source": [
        "# Numerical Integration of rate laws\n"
      ]
    },
    {
      "cell_type": "markdown",
      "metadata": {
        "id": "7WpAI6JZWywW"
      },
      "source": [
        "## First order"
      ]
    },
    {
      "cell_type": "markdown",
      "metadata": {
        "id": "n9zNVf9km1zm"
      },
      "source": [
        "We want to numerically integrate the rate laws for the first order equilibrium, A->B. First we define a function to describe our rate equations. odeint which we will use for solving our systems of differential equations requires a function to be defined. This function must return derivatives of all quantities in the problem (concentrations in our case) with respect to the independent variable (time in our case). This function must take arguments including an array of the dependent variables (intial concentrations) and all the values of the independent variable (time) at which we want solutions. In addition, we'll need to supply rate constants."
      ]
    },
    {
      "cell_type": "code",
      "metadata": {
        "id": "LyvNI0iWiO-r"
      },
      "source": [
        "def rxn1st(c,t,*args):\n",
        "  A=c[0] # the concentration array will have A and B but here we will only use A for our rate so that's the only definition we make.\n",
        "  r1=k1*A #define the rate of the first (only, in this case) reaction. rate=k1*(concentation of A)\n",
        "\n",
        "  dAdt=-r1 #rate of change of A is negative\n",
        "  dBdt=r1 #rate of change of B is positive\n",
        "\n",
        "  return(dAdt,dBdt) #return these derivatives to be used by the differential equation solver, odeint."
      ],
      "execution_count": null,
      "outputs": []
    },
    {
      "cell_type": "markdown",
      "metadata": {
        "id": "aXAXz9humni_"
      },
      "source": [
        "Here we have defined a function, `rxn1st`, that returns the derivatives of A and B as given by the rate laws. This is necessary for the differential equation solver. In addition we need to set up a few variables like the times we want to evaluate, the initial concentrations, and the rate constants.\n",
        "\n",
        "Here we assign $c_0$ as the vector containing the initial concentrations [A]<sub>0</sub> and [B]<sub>0</sub> and assign them values of 1 and 0, respectively.\n",
        "\n",
        "There is only one rate constant and we'll call it $k$.\n",
        "\n",
        "Then call the Ordinary Differential Equation INTegrator function (odeint) using the rxn1st function we defined above, the initial concentration vector (c0), the times we want to evaluate (t), and the rate constants."
      ]
    },
    {
      "cell_type": "code",
      "metadata": {
        "id": "rZEbLsbdi56W"
      },
      "source": [
        "t=np.linspace(0,10,101) # define t. The first number is the beginning point, the second number is the end, and the third is the number of points.\n",
        "c0=[1,0] #initial concentrations of A and B\n",
        "k1=1 #we could just type the number into the next line but for consistency we'll use two lines here.\n",
        "k=(k1,) # the one rate constant. The trailing comma is necessary here if there is only one k value.\n",
        "C=odeint(rxn1st,c0,t,k) # solve the DEs."
      ],
      "execution_count": null,
      "outputs": []
    },
    {
      "cell_type": "markdown",
      "metadata": {
        "id": "0rC9xl7Ybji2"
      },
      "source": [
        "After solving, the result is stored in C an array of lists. The outermost list contains, for each time in `t`, a list containing the concentration of A and the concentration of B."
      ]
    },
    {
      "cell_type": "markdown",
      "source": [
        "Looking at C (type ```C``` into a code cell and cntl-enter) will show us an array of two columns with concentrations of A in column 0 and concentrations of B in column 2. These concentrations will be given for each time in our *t* variable.\n",
        "\n",
        "Likewise, entering ```C[0]``` will get us these concentrations at the first time slice. You might check to makes sure there's agreement between what we assigned as initial concentrations.\n",
        "\n",
        "```C[0,0]``` will get us the first concentration of the first reaction component ([A]) at that first time slice. Other time slices and other reaction species can be obtained by changing the first or the second zero to other values.\n",
        "\n",
        "Finally, if we want to select all of just one column, we can use ```C[:,0]``` for the first column, which will be the concentration of A. The second column would be found by changing 0 to 1. (If we wanted to get the first *row* rather than the first column, we could use ```C[0,:]```.)\n",
        "\n",
        "**Try these ways of exploring the result of our differential equation solution.**"
      ],
      "metadata": {
        "id": "rbQRi6kYXJuH"
      }
    },
    {
      "cell_type": "code",
      "source": [
        "C"
      ],
      "metadata": {
        "id": "wE1TNj6cWjbn"
      },
      "execution_count": null,
      "outputs": []
    },
    {
      "cell_type": "markdown",
      "source": [
        "#### arrays vs. lists\n"
      ],
      "metadata": {
        "id": "MpzOiU1pljMi"
      }
    },
    {
      "cell_type": "markdown",
      "source": [
        "The results for C, C[0], etc above may say ```array[...``` rather than just give numbers. This is because the output of odeint is a numpy array which has some different features from a normal python list. We can, however, turn a numpy array into a list and use it in all the ways we've used lists before using ```list(C[:,0])``` if we want to. Likewise, we can go the other way if we need to using ```numpy.array(list)``` where ```list``` is our regular list that we want to convert. This is not something that has direct relevance here but sometimes you'll find that you want or need one or the other."
      ],
      "metadata": {
        "id": "zXT41Xj0ncUe"
      }
    },
    {
      "cell_type": "markdown",
      "source": [
        "# Plotting the results\n",
        "Let's use these techniques to assign the concentrations of A and B to variables cA and cB."
      ],
      "metadata": {
        "id": "h5yEAHHUWn17"
      }
    },
    {
      "cell_type": "code",
      "metadata": {
        "id": "_1_bK4o2jRT7"
      },
      "source": [
        "cA=C[:,0] #define cA to give the concentration from the first element of each of the lists for each time slice\n",
        "cB=C[:,1] #do the same for the second element of each of the lists..."
      ],
      "execution_count": null,
      "outputs": []
    },
    {
      "cell_type": "markdown",
      "source": [
        "\n",
        "Now let's plot our results. Most of the lines below are for beautifying our plot with labels, appropriate axis limits, a legend, etc. The first two lines make the plot and the first two items in parentheses are all that's stricktly necessary to make the plots. The 'r-' option makes A red (r) with solid lines (-) ('b-' was left off B because the default is blue and solid lines). The label keywords decide what appears in the legend."
      ],
      "metadata": {
        "id": "KLEgqDUOkcq6"
      }
    },
    {
      "cell_type": "code",
      "metadata": {
        "id": "1yR05EPjjVXX"
      },
      "source": [
        "plt.plot(t,cA,'r-',label='A')\n",
        "plt.plot(t,cB,label='B')\n",
        "plt.xlabel('time')\n",
        "plt.ylabel('conc')\n",
        "plt.xlim(0,max(t))\n",
        "plt.ylim(0,1.05*max(max(cA),max(cB)))\n",
        "plt.legend()\n",
        "plt.show()"
      ],
      "execution_count": null,
      "outputs": []
    },
    {
      "cell_type": "markdown",
      "metadata": {
        "id": "KuzIPI7oDX2d"
      },
      "source": [
        "See what would change if you make $k=10$ or $k=0.1$. [You'll need to go back to where *k* is defined and solve the differential equations again and execute the cells that follow to see how the graph changes.] \\\\\n",
        "\n",
        "See what would change if you make $[A]_o=0.5$ or $[B]_o=0.5$.\n"
      ]
    },
    {
      "cell_type": "markdown",
      "metadata": {
        "id": "2J-pxd4gDKZB"
      },
      "source": [
        "#Equilibrium (first order both ways)\n",
        "Of course we can analytically solve the first order rate law quite easily without a computer. We can fix up our function to cover more complex cases by including the backward reaction. For now we'll assume first order in both directions."
      ]
    },
    {
      "cell_type": "code",
      "metadata": {
        "id": "X5iEKfXxDwFQ"
      },
      "source": [
        "# @title Default title text\n",
        "def rxn1st_equilibrium(c,t,*args):\n",
        "  A,B= [c[i] for i in range(len(c))] # assign names to the values in the initial concentration list\n",
        "              # c is a list of conc. For each one up to the last one [range(len(c))], assign a name. A and B here.\n",
        "              # we could also set A=c[0]; B=c[1]; C=c[2] for the same effect.\n",
        "  r1=k1*A # rate of forward reaction\n",
        "  r2=k2*B # rate of backward reaction\n",
        "\n",
        "  dAdt=-r1+r2 #rate of change of A decreased by forward reaction and increased by reverse reaction\n",
        "  dBdt=r1-r2 #rate of change of B increased by forward reaction and decreased by reverse reaction\n",
        "\n",
        "  return(dAdt,dBdt)"
      ],
      "execution_count": null,
      "outputs": []
    },
    {
      "cell_type": "markdown",
      "metadata": {
        "id": "xa0Gzd72EEEt"
      },
      "source": [
        "Combining the setup concentrations, rate constants, solving the set of differential equations, and plotting..."
      ]
    },
    {
      "cell_type": "markdown",
      "source": [
        "In addition, we can set up a form with sliders attached to make changes to various variables. This makes it convenient to test the effects of changing values of the variables quickly and easily.\n",
        "\n",
        "To make a form for a code cell, click on the cell and then on the three dots on to the upper right of the cell and select 'Add Form'. To add a variable, click the same three dots and select 'Form/Add Form Field'. Then select what type of input, the name of a variable, and what kind of variable it is. This variable will show up in the code cell with \"#@param {type:slider\"}\" appended to it. There may be min, max, and step definitions as well that you can adjust in the code cell. In any case, you can adjust the minimum, maximum, and step values of a variable by clicking the little pencil icon to the right of each variable slider."
      ],
      "metadata": {
        "id": "FWCSqMKZwoJj"
      }
    },
    {
      "cell_type": "code",
      "metadata": {
        "id": "uLPmlJ6Ukp4g"
      },
      "source": [
        "#@title  { run: \"auto\" }\n",
        "t=np.linspace(0,10,101)\n",
        "\n",
        "cA0=1 #@param {type:\"slider\", min:0, max:1.5, step:0.1}\n",
        "cB0=0 #@param {type:\"slider\", min:0, max:1.5, step:0.1}\n",
        "c0=[cA0,cB0] #A0 and B0\n",
        "\n",
        "k1 = 1 #@param {type:\"slider\", min:0, max:10, step:0.2}\n",
        "k2 = 0 #@param {type:\"slider\", min:0, max:10, step:0.2}\n",
        "k_vals=(k1,k2)\n",
        "\n",
        "C=odeint(rxn1st_equilibrium,c0,t,args=k_vals) # solve the rate equations in rxn1st_equilibrium\n",
        "cA=C[:,0]\n",
        "cB=C[:,1]\n",
        "\n",
        "plt.plot(t,cA,'r-',label='A')\n",
        "plt.plot(t,cB,label='B')\n",
        "plt.xlabel('time')\n",
        "plt.ylabel('conc')\n",
        "plt.xlim(0,max(t)) # not really necessary unless we want to change our view of the x-axis to less than full scale.\n",
        "plt.ylim(0,1.05*max(max(cA),max(cB))) #likewise not needed except that I like a little extra room at the top.\n",
        "plt.legend()\n",
        "plt.show()"
      ],
      "execution_count": null,
      "outputs": []
    },
    {
      "cell_type": "markdown",
      "metadata": {
        "id": "i0a1TJ4cEO74"
      },
      "source": [
        "Using the constants and initial concentrations given should give us the same result as we got with only the forward reaction."
      ]
    },
    {
      "cell_type": "markdown",
      "metadata": {
        "id": "91bqf670WRIq"
      },
      "source": [
        "Modify the code below to graph the concentations of A and B if $[A]_o$=1 and $[B]_o=0$ for k<sub>1</sub>=1 and k<sub>2</sub>=.5 \\\\\n",
        "How do things change? \\\\\n"
      ]
    },
    {
      "cell_type": "markdown",
      "metadata": {
        "id": "pDQtVmgRWtCd"
      },
      "source": [
        "What happens if $k_2$ is twice as big as $k_1$?\n",
        "\n",
        "\n"
      ]
    },
    {
      "cell_type": "markdown",
      "metadata": {
        "id": "TlUePZyU4Lya"
      },
      "source": [
        "Try some other values of initial concentrations and rate constants.\n"
      ]
    },
    {
      "cell_type": "markdown",
      "metadata": {
        "id": "rv5JakUBW2qV"
      },
      "source": [
        "## Second order"
      ]
    },
    {
      "cell_type": "markdown",
      "metadata": {
        "id": "jJUZswfNXFLP"
      },
      "source": [
        "Modify the function to calculate for an equilibrium that is second order reactions in both directions. In Python, powers are signified by \\*\\*, as in 2\\**3=8."
      ]
    },
    {
      "cell_type": "code",
      "metadata": {
        "id": "blBWbjFtW6rT",
        "cellView": "code"
      },
      "source": [
        "def rxn2nd(c,t,*args):\n",
        "  A,B=[c0[i] for i in range(len(c0))] # assign names to the concentration columns in c0. If we had more than two, add another variable to the left-hand-side of this assignment.\n",
        "  r1=   #forward rate (or the rate expression for the first arrow in a mechanism)\n",
        "  r2=   #backward rate (or the rate expression for the second arrow in a mechanism)\n",
        "\n",
        "  dAdt=-r1+r2 # A decreased by forward reaction and increased by reverse reaction\n",
        "  dBdt=r1-r2 # B increased by forward reaction and decreased by reverse reaction\n",
        "\n",
        "  return(dAdt,dBdt)"
      ],
      "execution_count": null,
      "outputs": []
    },
    {
      "cell_type": "markdown",
      "metadata": {
        "id": "Nu2aTMDvXfno"
      },
      "source": [
        "Plot for $k_1$=1, $k_2$=0, $A_0$=1, and $B_0$=0. Copy and modify the plot code block above."
      ]
    },
    {
      "cell_type": "code",
      "metadata": {
        "id": "mxA4dtP1Y0LL"
      },
      "source": [],
      "execution_count": null,
      "outputs": []
    },
    {
      "cell_type": "markdown",
      "metadata": {
        "id": "pA_9KVlwYp5c"
      },
      "source": [
        "Modify rate constants and concentrations and justify the results."
      ]
    },
    {
      "cell_type": "markdown",
      "source": [
        "Plot for $k_1$=1, $k_2$=0.5, $A_0$=1, and $B_0$=0"
      ],
      "metadata": {
        "id": "E0j_Bgf40ndB"
      }
    },
    {
      "cell_type": "code",
      "source": [],
      "metadata": {
        "id": "qESggTb50tL1"
      },
      "execution_count": null,
      "outputs": []
    },
    {
      "cell_type": "markdown",
      "source": [
        "*How does this differ from the first order equilibrium?*"
      ],
      "metadata": {
        "id": "EcnfgalO0tZp"
      }
    },
    {
      "cell_type": "markdown",
      "metadata": {
        "id": "S_dYdySCY1Sr"
      },
      "source": [
        "## Multi step reactions"
      ]
    },
    {
      "cell_type": "markdown",
      "source": [
        "Modify to calculate for reactions A$\\rightarrow$B and also A$\\rightarrow$C at the same time.\n"
      ],
      "metadata": {
        "id": "7vVxrSwe9McU"
      }
    },
    {
      "cell_type": "code",
      "source": [
        "def rxn(c,t,*args ):\n",
        "  A,B,C=[c[i] for i in range(len(c))]\n",
        "\n",
        "  r1=kb*A #k1*(concentation of A)\n",
        "  r2=kc*A #k2*(concentration of A)\n",
        "  dAdt=-r1-r2 #A decreased by each reaction\n",
        "  dBdt=r1 # B changed by first reaction\n",
        "  dCdt=r2 # C changed by second reaction\n",
        "  return(dAdt,dBdt,dCdt)"
      ],
      "metadata": {
        "id": "ez7q-4WL0EPd"
      },
      "execution_count": null,
      "outputs": []
    },
    {
      "cell_type": "code",
      "source": [
        "#@title assign variables and plot{ run: \"auto\" }\n",
        "kb = 1 #@param {type:\"slider\", min:0, max:10, step:0.5}\n",
        "kc = 0 #@param {type:\"slider\", min:0, max:10, step:0.5}\n",
        "A0 = 1 # @param {type:\"slider\", min:0, max:2, step:0.1}\n",
        "B0 = 0 # @param {type:\"slider\", min:0, max:2, step:0.1}\n",
        "C0 = 0 # @param {type:\"slider\", min:0, max:2, step:0.1}\n",
        "kvals=(kb,kc)\n",
        "t=np.linspace(0,10,100) # array of times\n",
        "c0=[A0,B0,C0] # list of initial concentrations to pass to odeint\n",
        "\n",
        "\n",
        "C=odeint(rxn,c0,t,args=kvals)\n",
        "cA=C[:,0]\n",
        "cB=C[:,1]\n",
        "cC=C[:,2]\n",
        "plt.plot(t,cA,'r-',label='A')\n",
        "plt.plot(t,cB,'b-',label='B')\n",
        "plt.plot(t,cC,'green',linestyle='-',label='C')\n",
        "plt.xlabel('time')\n",
        "plt.ylabel('conc')\n",
        "plt.xlim(0,max(t))\n",
        "plt.ylim(0,1.05*max(cA)) # make the upper y-limit 5% higher than the initial cA\n",
        "plt.legend()\n",
        "plt.show()"
      ],
      "metadata": {
        "id": "822lmkE30YAZ"
      },
      "execution_count": null,
      "outputs": []
    },
    {
      "cell_type": "markdown",
      "source": [
        "**Predict results and plot for $k_b>>k_c$, for $k_a<<k_b$, and for $k_a≈k_b$.**\n"
      ],
      "metadata": {
        "id": "d29BsHdo1gdL"
      }
    },
    {
      "cell_type": "markdown",
      "metadata": {
        "id": "EchntABRb9Xb"
      },
      "source": [
        "*Modify (below) to calculate for a reaction like A$\\rightleftharpoons$B$\\rightarrow$C*\n",
        "\n",
        "**What additional terms will be needed?**\n",
        "\n",
        "**Will any change be needed to plot the results?**"
      ]
    },
    {
      "cell_type": "code",
      "metadata": {
        "id": "8IPFMvmsY5pJ"
      },
      "source": [
        "def rxn(c0,t,*args):\n",
        "  A,B,C=[c0[i] for i in range(len(c0))]\n",
        "  r1=  #add rate law of  first forward step\n",
        "  r2=  #add rate law of first backward step\n",
        "  r3=  #add rate law of second forward step\n",
        "  dAdt= #add rate of change of A decreased by forward reaction and increased by reverse reaction\n",
        "  dBdt= #add rate of change of B increased by forward reaction and decreased by reverse reaction and by the second reaction\n",
        "  dCdt=\n",
        "  return(dAdt,dBdt,dCdt)"
      ],
      "execution_count": null,
      "outputs": []
    },
    {
      "cell_type": "code",
      "metadata": {
        "id": "HBkLyIfN37n9"
      },
      "source": [
        "t=np.linspace(0,10,101)\n",
        "k1f,k1b,k2=sp.symbols('k_{1f},k_{1b},k_2') # define symbols for the rate constants\n",
        "#Modify or add to the following lines to fit the case begin calculated.\n",
        "c0=[1,0,0] #what are the initial concentrations. Remember the order of species. This will be the same ordre as in the output of odeint.\n",
        "k1=      #what values of k do we need. How many? Add any new ones below and in the ratecon variable list (technically a 'tuple') below.\n",
        "\n",
        "ratecon=(k1,k2) #make sure to add any additional rate constants defined here.\n",
        "\n",
        "\n",
        "C=odeint(rxn,c0,t,args=ratecon) # solve the system defined by rxn using the initial concentrations, c0, at times, t, using rate constants in ratecon.\n",
        "cA=C[:,0]\n",
        "cB=C[:,1]\n",
        "cC=C[:,2]\n",
        "plt.plot(t,cA,'r-',label='A')\n",
        "plt.plot(t,cB,'b-',label='B')\n",
        "plt.plot(t,cC,'-',color='purple',label='C')\n",
        "plt.xlabel('time')\n",
        "plt.ylabel('conc')\n",
        "plt.xlim(0,max(t))\n",
        "plt.ylim(0,1.05*max(cA))\n",
        "plt.legend()\n",
        "plt.show()"
      ],
      "execution_count": null,
      "outputs": []
    },
    {
      "cell_type": "markdown",
      "metadata": {
        "id": "gfZ8tOkfNdh5"
      },
      "source": [
        "**Predict results and plot for $k_{1}>>k_2 and k_{3}$, for $k_{1}<<k_2 and k_{3}$, and for $k_1≈k_2 and k_{3}$.**\n"
      ]
    },
    {
      "cell_type": "markdown",
      "metadata": {
        "id": "uvOnDib2NopH"
      },
      "source": [
        "#Approximate Methods\n",
        "It's nice to be able to solve the equations numerically and get graphs of the concentration. These graphs result in complete descriptions of how things change but, consisting solely of lists of numbers, it can be difficult, especially as the mechanisms get more complicated, to accuratly describe or predict the differences expected between similar mechanisms.\n",
        "In addition to numerically solving for the concentrations, it is also possible to apply one of two major approximations and get symbolic results.\n",
        "##Equilibrium approximation\n",
        "If a later step in the mechanism is slow (rate determining) and an earlier step is an equilibrium, the rate law overall will be the rate law of the slow step which will almost certainly contain an intermediate. The equilibrium approximation is applied by assuming that equilibrium for the early step is achieved and so the concentration of the intermediate can be determined in terms of the reactants.\n",
        "\n",
        "For a first-order reaction, A$\\rightleftharpoons$B$\\rightarrow$C, having forward and backward rate constants of $k_1$ and $k_{-1}$ and a second step rate constant of $k_2$ which will be small, if equilibrium is estabilished, $k_1[A]=k_{-1}[B]$ so the intermediate [B] will have a concentration of $[B]=\\dfrac{k_1[A]}{k_{-1}}$ and the reaction will have an overall rate determined from the second step of $$rate=k_2[B]=k_2\\dfrac{k_1[A]}{k_{-1}}$$\n",
        "\n",
        "Of course the second step does not have a rate of zero so the first step does not truly reach equilibrium and the concentration of [B] is presumably zero at the beginning whereas the approximation suggests that it is always some non-zero fraction of [A]. However, for reactions that have a slow step after an equilibrium step, this approximation is likely a reasonable one.\n",
        "\n",
        "The equilibrium approximation is also called the pre-equilibrium approximation or the prior-equilibrium approximation to suggest that the equilibruim occurs prior to the rate determining step.\n",
        "\n",
        "## Steady-state approximation\n",
        "In the opposite case where slow step occurs first, an appropriate approximation would assume that all the intermediate gets used as soon as it is formed so the rate of formation of intermediate is effectively zero. For a first-order reaction, A$\\rightleftharpoons$B$\\rightarrow$C, having forward and backward rate constants of $k_1$ and $k_{-1}$ and a second step rate constant of $k_2$ the steady-state approximation would indicate that $$\\dfrac{d[B]}{dt}=k_1[A]-k_{-1}[B]-k_2[B]≈0 $$\n",
        "Now we can solve this equation for [B] and find the overall rate of formation of the product, C, using this expression. If there are more intermediates and they are needed for the overall rate law, we can use the steady state approximation on all of them.\n",
        "The steady-state approximation does not require that the formation of product is fast; it only requires that the intermediate not change significantly in concentration. If the backwards first step is fast and removes the intermediate as quickly as soon as it's formed, that's good enough. In this way the steady-state approximation also fits some cases covered by the equilibrium approximation.\n",
        "\n",
        "**Now let's apply approximations and see when they fit best. **"
      ]
    },
    {
      "cell_type": "code",
      "source": [
        "#These are just copied from above so that we can easily make adjustments. We can change them to work for other reactions too but we would need to define a new function to return the rates of each species.\n",
        "t=np.linspace(0,10,100)\n",
        "c0=[1,0,0]\n",
        "k1f,k1b,k2=sp.symbols('k_{1f},k_{1b},k_2') # define symbols for the rate constants\n",
        "\n",
        "k1f=1\n",
        "k1b=.1\n",
        "k2=.1\n",
        "kvals=k1f,k1b,k2\n",
        "\n",
        "C=odeint(rxn,c0,t,kvals)\n",
        "\n",
        "cA=C[:,0]\n",
        "cB=C[:,1]\n",
        "cC=C[:,2]"
      ],
      "metadata": {
        "id": "gXCn3Fv3hI5a"
      },
      "execution_count": null,
      "outputs": []
    },
    {
      "cell_type": "code",
      "metadata": {
        "id": "LYAo27ulvZeb"
      },
      "source": [
        "B_ss=[]\n",
        "B_pe=[]\n",
        "for ca in cA: # for each value of cA from above\n",
        "  B_ss.append(k1f*ca/(k1b+k2)) # input the expression that would calculate the result for [B] according to the steady state calculation\n",
        "  B_pe.append(k1f*ca/k1b ) # input the expression that would calculate the result for [B] according to the pre-equilibrium calculation\n",
        "plt.plot(t,cB,'b-',label='exact solution')\n",
        "plt.plot(t,B_ss,'r--',label='steady state')\n",
        "plt.plot(t,B_pe,'g--',label='prior equilibrium')\n",
        "plt.xlim(0,max(t))\n",
        "plt.ylim(0,1)\n",
        "plt.legend()\n",
        "plt.show()"
      ],
      "execution_count": null,
      "outputs": []
    },
    {
      "cell_type": "markdown",
      "source": [
        "Let's determine the \\%deviation for each method."
      ],
      "metadata": {
        "id": "3mOvvumtg1bl"
      }
    },
    {
      "cell_type": "code",
      "metadata": {
        "id": "Q0TEkvn-E6CK"
      },
      "source": [
        "ratio_ss=[]\n",
        "ratio_pe=[]\n",
        "for i in range(1,len(t)): #start at 1 to avoid division by zero\n",
        "  ratio_ss.append((B_ss[i]-cB[i])/cB[i]*100) #percent difference of approximation\n",
        "  ratio_pe.append(abs(B_pe[i]-cB[i])/cB[i]*100) #percent difference\n",
        "plt.plot(t[1:],ratio_ss,label='ss') # use all values of t after the zeroth one.\n",
        "plt.plot(t[1:],ratio_pe,label='pe')\n",
        "plt.ylim(-100,100)\n",
        "plt.legend()\n",
        "plt.ylabel('% deviation from actual concentration')\n",
        "plt.xlabel('time')\n",
        "plt.show()"
      ],
      "execution_count": null,
      "outputs": []
    },
    {
      "cell_type": "markdown",
      "metadata": {
        "id": "Ehvyu_FONzoV"
      },
      "source": [
        "Try values of the $k$'s so that the steady state approximation has the lowest absolute error and values of the $k$'s such that the pre-equilibrium approximation has the lowest absolute error."
      ]
    },
    {
      "cell_type": "markdown",
      "source": [
        "So we can see that it is possible to numerically calculate the solutions to systems of rate equations. It is also possible to approximate them using one or the other of two approximations. The choice of which approximation to use hinges on knowledge or guesses about the relative speeds of the various elementary steps. Calculating numerically to get a graph of concentration of all species versus time is useful. Approximating to get a symbolic expression for the rate law is also useful especially as it provides clues as to how the order might change at the extremes of concentrations of various chemical species."
      ],
      "metadata": {
        "id": "-hO_i-3g7j1y"
      }
    },
    {
      "cell_type": "markdown",
      "source": [
        "## Getting Symbolic Expressions for Approximations\n"
      ],
      "metadata": {
        "id": "v0_9jQbT1eFE"
      }
    },
    {
      "cell_type": "markdown",
      "source": [
        "### Steady State\n",
        "Find a symbolic representation of the overall rate of formation of product for the mechanism $$\\Delta + \\Delta ⇌ \\Delta + \\Delta^*$$$$\\Delta^* ⟶ \\textrm{propene}$$\n",
        "Here, in order for the approximation to be valid, we're assuming that the intermediate has a way of reacting away which means here that either $k_{1b}$ or $k_2$ is large compared to $k_{1f}$."
      ],
      "metadata": {
        "id": "m_2G6KMYmc-Z"
      }
    },
    {
      "cell_type": "code",
      "source": [
        "import sympy as sp\n",
        "t=sp.symbols('t')\n",
        "cpe=sp.Function('[\\Delta{^*}]')(t)  # declare a function (of time) for cyclopropane excited\n",
        "cp=sp.symbols('[\\Delta]')         # cyclopropane\n",
        "pr=sp.Function('[propene]')(t)    # propane\n",
        "k1f,k1b,k2=sp.symbols('k_{1f},k_{1b},k_2') # define symbols for the rate constants"
      ],
      "metadata": {
        "id": "fcjsFlw7oOPG"
      },
      "execution_count": null,
      "outputs": []
    },
    {
      "cell_type": "code",
      "source": [
        "cpe_ss=sp.Eq(sp.diff(cpe,t),k1f*cp**2-cpe*cp*k1b-k2*cpe) # rate of change of intermediate (cpe)\n",
        "display(cpe_ss)\n",
        "display(cpe_ss.subs(sp.diff(cpe,t),0)) # set equal to zero\n",
        "cpe_ss=sp.solve(cpe_ss.rhs,cpe)[0] # solve for intermediate cpe as function of reactant (cp)\n",
        "display(sp.Eq(cpe,cpe_ss))\n"
      ],
      "metadata": {
        "id": "dMp51qABpN2c"
      },
      "execution_count": null,
      "outputs": []
    },
    {
      "cell_type": "code",
      "source": [
        "rate=sp.Eq(sp.diff(pr,t),k2*cpe) # an equation for the rate law for change of propane (pr)\n",
        "rate"
      ],
      "metadata": {
        "id": "prEkkkfguYEo"
      },
      "execution_count": null,
      "outputs": []
    },
    {
      "cell_type": "markdown",
      "source": [
        "Of course the rate law can't include an intermediate but we know what this concentration is already. Substitution of that into this rate expression should get us what we're looking for."
      ],
      "metadata": {
        "id": "PnRiGcbfVBES"
      }
    },
    {
      "cell_type": "code",
      "source": [
        "rate.subs(cpe,cpe_ss)"
      ],
      "metadata": {
        "id": "7tt27sIJVSM8"
      },
      "execution_count": null,
      "outputs": []
    },
    {
      "cell_type": "markdown",
      "source": [
        "When we end up with a denominator which includes a sum, we have the chance to simplify by exploring the extremes of concentration or rate constant magnitude. Here, if we assume *low enough* cyclopropane concentration, we will eventually get to a point where the first denominator term is negligible compared to $k_2$. This will simplify to $$rate=k_{1f}\\Delta^2$$ which is just the forward rate law for the first step indicating that this step is the rate-determining step.\n",
        "\n",
        "\n",
        "On the other hand, if the cyclopropane concentration is *high enough*, we get $$rate=k_2\\dfrac{k_{1f}}{k_{1b}}\\Delta$$ It's less clear here what the rate-determing step is. If we write the ratio of the rate constants as the equilibrium constant, $\\dfrac{k_{if}}{k_{1b}}=\\dfrac{[\\Delta][\\Delta^*]}{[\\Delta]^2}$ then the rate expression simplifies to $$rate=k_2\\dfrac{[\\Delta]^2[\\Delta^*]}{[\\Delta]^2}=k_2{[\\Delta^*]}$$ While this is not an acceptable rate law because it involves an intermediate, it does indicate which step is rate determining in this case as this is the rate law for the second step. If the steady state approximation is to hold here, assuming a slow second step means that the backwards first step must be fast.\n",
        "\n",
        "So the symbolic version of the steady state approximation shows us that, if the approximation holds, a transition between second and first order must take place as we move from low to high concentration of the reactant. Of course this transition may take place at unreasonably high or low concentrations such that we never notice it. Nevertheless locating such a transition would be a piece of evidence for the truth of such a mechanism.\n",
        "\n",
        "###Equilibrium Approximation\n",
        "\n",
        "While it is possible that the first step comes to equilibrium under steady-state conditions (if the backwards reaction is sufficiently fast), it's also possible for equilibrium to be achieved under more general conditions if the second step is slow enough. This would lead to $K_{eq}=\\dfrac{k_{if}}{k_{1b}}=\\dfrac{[\\Delta][\\Delta^*]}{[\\Delta]^2}$ which could be solved for $$[\\Delta^*]=\\dfrac{k_{1f}}{k_{1b}}[\\Delta]$$ Substituting this into the rate law for the production of propene gives $$rate=k_2[\\Delta^*]=k_2\\dfrac{k_{1f}}{k_{1b}}[\\Delta]$$ The result in this case is identical to the steady state approximation result under high cyclopropane concentrations. In that case, we found that the second step was the rate-determining step. Here we *assumed* this. As such, it makes sense that the results are the same.\n",
        "\n",
        "It is not unusual to find that the equilibrium approximation solution is a subset of the steady-state approximation solution. We, therefore, often initialy assume the steady state approximation and fall back on the equilibrium approximation if we have information that would invalidate the assumptions of the steady-state approximation.\n",
        "\n",
        "Let's let sympy solve for the rate as we did for the steady state approximation."
      ],
      "metadata": {
        "id": "_QqCRV6Ozs5N"
      }
    },
    {
      "cell_type": "code",
      "source": [
        "Keq=k1f/k1b"
      ],
      "metadata": {
        "id": "bSg3EoLRuxMm"
      },
      "execution_count": null,
      "outputs": []
    },
    {
      "cell_type": "code",
      "source": [
        "cpe_eq=sp.Eq(Keq,cp*cpe/cp**2)\n",
        "cpe_eq"
      ],
      "metadata": {
        "id": "NixJoD8cyWgr"
      },
      "execution_count": null,
      "outputs": []
    },
    {
      "cell_type": "code",
      "source": [
        "cpe_eq=sp.Eq(cpe,sp.solve(cpe_eq,cpe)[0])\n",
        "cpe_eq"
      ],
      "metadata": {
        "id": "UN970vSXylPZ"
      },
      "execution_count": null,
      "outputs": []
    },
    {
      "cell_type": "code",
      "source": [
        "rate=sp.Eq(sp.diff(pr,t),k2*cpe.subs(cpe,cpe_eq.rhs))\n",
        "rate"
      ],
      "metadata": {
        "id": "YGqdBcN4zCmG"
      },
      "execution_count": null,
      "outputs": []
    },
    {
      "cell_type": "markdown",
      "source": [
        "#Oscillating Reactions"
      ],
      "metadata": {
        "id": "xZvB4QuG48kN"
      }
    },
    {
      "cell_type": "markdown",
      "source": [
        "There is a class of reactions in which oscillatory behavior is possible. Actual chemical examples are sometimes complex but there exists several simple models these oscillating reactions. Among them is the [Lotka-Volterra reaction](https://en.wikipedia.org/wiki/Lotka%E2%80%93Volterra_equations). In this model species S, is the source which constant and P is the product.\n",
        "$$S + X \\rightarrow 2X$$\n",
        "$$X + Y \\rightarrow 2Y$$\n",
        "$$Y \\rightarrow P$$"
      ],
      "metadata": {
        "id": "gSdeF5LX8LMe"
      }
    },
    {
      "cell_type": "markdown",
      "source": [
        "We can set up a function for this mechanism like any other. Here we'll keep S constant (we wouldn't even need to include it in the function)."
      ],
      "metadata": {
        "id": "ECWCgeU-L0AT"
      }
    },
    {
      "cell_type": "code",
      "source": [
        "def rxnosc(c,t,*args):\n",
        "  X,Y,P,S=c # the concentration array will have A and B but here we will only use A for our rate so that's the only definition we make.\n",
        "  dXdt=k1*S*X-k2*X*Y #define the rate of the first (only, in this case) reaction. rate=k1*(concentation of A)\n",
        "  dYdt=k2*X*Y-k3*Y\n",
        "  dPdt=k3*Y\n",
        "  dSdt=0\n",
        "  return(dXdt,dYdt,dPdt,dSdt) #return these derivatives to be used by the differential equation solver, odeint."
      ],
      "metadata": {
        "id": "iXU36TmO4_vb"
      },
      "execution_count": null,
      "outputs": []
    },
    {
      "cell_type": "markdown",
      "source": [
        "Now solve and plot the results."
      ],
      "metadata": {
        "id": "dKzDCKeDMhdO"
      }
    },
    {
      "cell_type": "code",
      "source": [
        "#@title assign variables and plot{ run: \"auto\" }\n",
        "k1 = .3 #@param {type:\"slider\", min:0, max:10, step:0.5}#@title assign variables and plot{ run: \"auto\" }\n",
        "k2 = .6 #@param {type:\"slider\", min:0, max:10, step:0.5}\n",
        "k3 = 0.4 #@param {type:\"slider\", min:0, max:10, step:0.5}\n",
        "X0 = 0.7 # @param {type:\"slider\", min:0, max:2, step:0.1}\n",
        "Y0 = 0.1 # @param {type:\"slider\", min:0, max:2, step:0.1}\n",
        "P0 = 0\n",
        "S0=1\n",
        "kvals=(k1,k2,k3)\n",
        "t=np.linspace(0,100,1000) # array of times\n",
        "c0=[X0,Y0,P0,S0] # list of initial concentrations to pass to odeint\n",
        "\n",
        "\n",
        "C=odeint(rxnosc,c0,t,args=kvals)\n",
        "cX=C[:,0]\n",
        "cY=C[:,1]\n",
        "cP=C[:,2]\n",
        "plt.plot(t,cX,'r-',label='X')\n",
        "plt.plot(t,cY,'b-',label='Y')\n",
        "plt.xlabel('time')\n",
        "plt.ylabel('conc')\n",
        "plt.xlim(0,max(t))\n",
        "plt.ylim(0,1.05*max(cX)) # make the upper y-limit 5% higher than the initial cA\n",
        "plt.legend()\n",
        "plt.show()"
      ],
      "metadata": {
        "id": "sPkmmr4F6Vqc",
        "outputId": "83cc4e4d-7582-4d7c-e73a-a8206092c657",
        "colab": {
          "base_uri": "https://localhost:8080/",
          "height": 449
        }
      },
      "execution_count": null,
      "outputs": [
        {
          "output_type": "display_data",
          "data": {
            "text/plain": [
              "<Figure size 640x480 with 1 Axes>"
            ],
            "image/png": "[encoded data removed]"
          },
          "metadata": {}
        }
      ]
    },
    {
      "cell_type": "markdown",
      "source": [
        "As the reaction cycles, it continues making the product, P, but haltingly. At any point in which the concentration of the pre-cursor Y is low, formation of P is paused. We can see this in a plot of the concentration of P vs time."
      ],
      "metadata": {
        "id": "-HefBg7n80d3"
      }
    },
    {
      "cell_type": "code",
      "source": [
        "plt.plot(t,cP,'b-',label='P') # plot cP\n",
        "plt.xlabel('time')\n",
        "plt.ylabel('conc of product')\n",
        "plt.show()\n"
      ],
      "metadata": {
        "id": "GYS59ZTq723C",
        "outputId": "f6f1a13d-23ea-4749-e10c-1d24814cee9e",
        "colab": {
          "base_uri": "https://localhost:8080/",
          "height": 449
        }
      },
      "execution_count": null,
      "outputs": [
        {
          "output_type": "display_data",
          "data": {
            "text/plain": [
              "<Figure size 640x480 with 1 Axes>"
            ],
            "image/png": "[encoded data removed]"
          },
          "metadata": {}
        }
      ]
    },
    {
      "cell_type": "code",
      "source": [
        "plt.plot(cX,cY)\n",
        "plt.xlabel('conc X')\n",
        "plt.ylabel('conc Y')\n",
        "plt.show()"
      ],
      "metadata": {
        "id": "ROARv0__72xb",
        "outputId": "cab852cf-6210-4aca-91d6-da69ce8948aa",
        "colab": {
          "base_uri": "https://localhost:8080/",
          "height": 449
        }
      },
      "execution_count": null,
      "outputs": [
        {
          "output_type": "display_data",
          "data": {
            "text/plain": [
              "<Figure size 640x480 with 1 Axes>"
            ],
            "image/png": "[encoded data removed]"
          },
          "metadata": {}
        }
      ]
    }
  ]
}