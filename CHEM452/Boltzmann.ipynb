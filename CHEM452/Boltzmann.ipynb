{
  "nbformat": 4,
  "nbformat_minor": 0,
  "metadata": {
    "colab": {
      "name": "Boltzmann.ipynb",
      "provenance": [],
      "toc_visible": true,
      "include_colab_link": true
    },
    "kernelspec": {
      "name": "python3",
      "display_name": "Python 3"
    }
  },
  "cells": [
    {
      "cell_type": "markdown",
      "metadata": {
        "id": "view-in-github",
        "colab_type": "text"
      },
      "source": [
        "<a href=\"https://colab.research.google.com/github/davis689/binder/blob/master/CHEM452/Boltzmann.ipynb\" target=\"_parent\"><img src=\"https://colab.research.google.com/assets/colab-badge.svg\" alt=\"Open In Colab\"/></a>"
      ]
    },
    {
      "cell_type": "markdown",
      "source": [
        "# Boltzmann derivation"
      ],
      "metadata": {
        "id": "daefFJShmA0U"
      }
    },
    {
      "cell_type": "markdown",
      "source": [
        "Sympy is a library for dealing with symbolic math as opposed to numerical math. Here we import a number of symbols that we'll use in our derivation as well as infinity (oo) and the log function. These we can use by just typing the symbol itself. We'll also import sympy itself with the abbreviation $sp$. To use the rest of the libary that we didn't import specially, we'll need to preface our sympy function with sp ($e.g.$ sp.factorial to get a factorial). If we were going to use factorial repeatedly we could add \n",
        "\n",
        "```\n",
        "from sympy import factorial\n",
        "```\n",
        "to access factorial with `factorial` instead of `sp.factorial`.\n",
        "\n"
      ],
      "metadata": {
        "id": "vNIAo8gtVdjF"
      }
    },
    {
      "cell_type": "code",
      "metadata": {
        "id": "X4DOm5JF7RpD"
      },
      "source": [
        "from sympy.abc import i, k, m, n, x\n",
        "from sympy import oo, log\n",
        "import sympy as sp"
      ],
      "execution_count": 1,
      "outputs": []
    },
    {
      "cell_type": "code",
      "source": [
        "i=sp.symbols('i',integer=True) # define an index, i, which is an integer. \n",
        "N=sp.symbols('N',constant=True) # define the number of molecules which is constant.\n",
        "n_i,W=sp.symbols('n_i,W', nonnegative=True,integer=True) # define the occupation number and the number of ways of arranging energy among molecules. Both of these could be zero so we'll limit them to nonnegative rather than positive."
      ],
      "metadata": {
        "id": "8KP5wU9xmcR_"
      },
      "execution_count": 2,
      "outputs": []
    },
    {
      "cell_type": "markdown",
      "source": [
        "The number of ways that $N$ molecules can be arranged into energy levels with $n_0$ in the ground level, $n_1$ in the first excited state, $n_2$ in the second excited state, and so on is $$W=\\dfrac{N!}{n_0!n_1!n_2!...}$$ We can replace the denominator with $\\Pi_{i=0}^\\infty n_i!$ to make things look more tidy if not simpler. Of course we don't actually have to include terms for unoccupied levels (since 0!=1) or for singly occupied levels (since 1! is also 1). Only doubly or more highly occupied levels will affect the calculation for number of ways."
      ],
      "metadata": {
        "id": "2_oKIf1k6teS"
      }
    },
    {
      "cell_type": "code",
      "source": [
        "ways=sp.Eq(W,sp.factorial(N)/sp.Product(sp.factorial(n_i),(i,0,oo))) # sp.Eq makes an equation with (left-hand-side , right-hand-side) order. We name this equation 'ways'.\n",
        "ways"
      ],
      "metadata": {
        "id": "xM-uBdfPluxp",
        "colab": {
          "base_uri": "https://localhost:8080/",
          "height": 57
        },
        "outputId": "9006d66c-e2f4-4290-db0b-c054cdf4b96f"
      },
      "execution_count": 3,
      "outputs": [
        {
          "output_type": "execute_result",
          "data": {
            "text/plain": [
              "Eq(W, factorial(N)/Product(factorial(n_i), (i, 0, oo)))"
            ],
            "text/latex": "$\\displaystyle W = \\frac{N!}{\\prod_{i=0}^{\\infty} n_{i}!}$"
          },
          "metadata": {},
          "execution_count": 3
        }
      ]
    },
    {
      "cell_type": "markdown",
      "source": [
        "It will turn out to be easier to deal with the log of W. We're only interested in finding the distribution that gives the maximum of W and that distribution will also give the maximum of logW so we can use W or logW and since logW is easier, we choose that."
      ],
      "metadata": {
        "id": "ZAQPen_M8zEf"
      }
    },
    {
      "cell_type": "code",
      "source": [
        "sp.log(ways.rhs) #ways.rhs takes the right-hand-side of the 'ways' equation."
      ],
      "metadata": {
        "id": "0Y73vA6at1et",
        "colab": {
          "base_uri": "https://localhost:8080/",
          "height": 58
        },
        "outputId": "92616d41-a09b-4d16-e15c-e4cbe62881df"
      },
      "execution_count": 4,
      "outputs": [
        {
          "output_type": "execute_result",
          "data": {
            "text/plain": [
              "log(factorial(N)/Product(factorial(n_i), (i, 0, oo)))"
            ],
            "text/latex": "$\\displaystyle \\log{\\left(\\frac{N!}{\\prod_{i=0}^{\\infty} n_{i}!} \\right)}$"
          },
          "metadata": {},
          "execution_count": 4
        }
      ]
    },
    {
      "cell_type": "markdown",
      "source": [
        "Let's use the rules of logs to separate the numerator from the denominator."
      ],
      "metadata": {
        "id": "zq_D5Cxt9P73"
      }
    },
    {
      "cell_type": "code",
      "source": [
        "lnways=sp.Eq(sp.log(W),sp.expand_log(sp.log(ways.rhs), force=True)) \n",
        "lnways"
      ],
      "metadata": {
        "id": "nmDPuM-XvETi",
        "colab": {
          "base_uri": "https://localhost:8080/",
          "height": 67
        },
        "outputId": "608ae5e0-b093-42a5-d830-ab6cab961a1d"
      },
      "execution_count": 5,
      "outputs": [
        {
          "output_type": "execute_result",
          "data": {
            "text/plain": [
              "Eq(log(W), log(factorial(N)) - Sum(log(factorial(n_i)), (i, 0, oo)))"
            ],
            "text/latex": "$\\displaystyle \\log{\\left(W \\right)} = \\log{\\left(N! \\right)} - \\sum_{i=0}^{\\infty} \\log{\\left(n_{i}! \\right)}$"
          },
          "metadata": {},
          "execution_count": 5
        }
      ]
    },
    {
      "cell_type": "markdown",
      "source": [
        "##Stirling's approximation (a side trip)"
      ],
      "metadata": {
        "id": "FMVtLs6fJKXy"
      }
    },
    {
      "cell_type": "markdown",
      "source": [
        "Factorials can be problematic in derivations since they require multiplying arbitrary numbers of integers together. It would be great to have a way to write factorials with a normal algebraic experession. *Stirlings approximation* will allow us to get rid of the factorials. Stirlings approximation is $$lnx!=xlnx-x$$\n",
        "We can test this approximation's accuracy for relatively small numbers, x, up to about 100000. (We can test further but the calculation time gets long.)"
      ],
      "metadata": {
        "id": "PVszJK9L9eT_"
      }
    },
    {
      "cell_type": "code",
      "source": [
        "x=10 \n",
        "lnxfact=sp.log(sp.factorial(x)) # calculation using factorial\n",
        "lnxSA= x*sp.log(x)-x # calculation using Stirling\n",
        "print(\"For x=\",x,\":\")\n",
        "print(\"actual ln(x):\",lnxfact.evalf(),\"Stirling's approx.:\",lnxSA.evalf(),\"%difference:\",((lnxfact-lnxSA)/lnxfact).evalf()*100,\"%\")"
      ],
      "metadata": {
        "colab": {
          "base_uri": "https://localhost:8080/"
        },
        "id": "TfFxw1oH9uNP",
        "outputId": "eb9a1931-f5e2-4da1-f7d2-425e318680a8"
      },
      "execution_count": 6,
      "outputs": [
        {
          "output_type": "stream",
          "name": "stdout",
          "text": [
            "For x= 10 :\n",
            "actual ln(x): 15.1044125730755 Stirling's approx.: 13.0258509299405 %difference: 13.7612875249463 %\n"
          ]
        }
      ]
    },
    {
      "cell_type": "markdown",
      "source": [
        "You can change N to a higher number and see how the approximation gets better.\n",
        "\n",
        "We can make a comparison table by introducing a loop and doing the calculations multiple times for larger and larger values of N."
      ],
      "metadata": {
        "id": "-D8uFG36Hf9p"
      }
    },
    {
      "cell_type": "code",
      "source": [
        "from tabulate import tabulate # to help make tables\n",
        "import sys;sys.set_int_max_str_digits(0) # removes some kind of limitation on size of numbers for calculations.\n",
        "table=[] #start with an empty table.\n",
        "for x in [10,100,1000,10000,100000]:\n",
        "  lnxfact=sp.log(sp.factorial(x)) # calculation using factorial\n",
        "  lnxSA= x*sp.log(x)-x # calculation using Stirling\n",
        "  percentdiff=(lnxfact-lnxSA)/lnxfact*100\n",
        "  table.append([x,lnxfact,lnxSA,percentdiff])\n",
        "print(tabulate(table, headers=[\"x\",\"actual ln(x)\",\"Stirling's approx.\", \"% difference\"], tablefmt='fancy_grid'))\n"
      ],
      "metadata": {
        "colab": {
          "base_uri": "https://localhost:8080/"
        },
        "id": "2CbsVxx3EwrU",
        "outputId": "d2878170-9f84-487c-bcd6-66c414331a56"
      },
      "execution_count": 7,
      "outputs": [
        {
          "output_type": "stream",
          "name": "stdout",
          "text": [
            "╒════════╤════════════════╤══════════════════════╤════════════════╕\n",
            "│      x │   actual ln(x) │   Stirling's approx. │   % difference │\n",
            "╞════════╪════════════════╪══════════════════════╪════════════════╡\n",
            "│     10 │    15.1044     │         13.0259      │   13.7613      │\n",
            "├────────┼────────────────┼──────────────────────┼────────────────┤\n",
            "│    100 │   363.739      │        360.517       │    0.885897    │\n",
            "├────────┼────────────────┼──────────────────────┼────────────────┤\n",
            "│   1000 │  5912.13       │       5907.76        │    0.0739649   │\n",
            "├────────┼────────────────┼──────────────────────┼────────────────┤\n",
            "│  10000 │ 82108.9        │      82103.4         │    0.00672779  │\n",
            "├────────┼────────────────┼──────────────────────┼────────────────┤\n",
            "│ 100000 │     1.0513e+06 │          1.05129e+06 │    0.000634967 │\n",
            "╘════════╧════════════════╧══════════════════════╧════════════════╛\n"
          ]
        }
      ]
    },
    {
      "cell_type": "markdown",
      "source": [
        "**How good is the approximation for single digit numbers? Double digit numbers? 100000? Avogadro's number?**"
      ],
      "metadata": {
        "id": "vFl8txO1CQ9s"
      }
    },
    {
      "cell_type": "markdown",
      "source": [
        "##back to the derivation\n",
        "Substituting Stirling's approximation gives us an expression free of factorials. Here we use a wild card, a, to replace all the $ln\\, a!$ regardless of the identity of $a$. Our equation had two factorials terms (one of $N$ and one of $n_i$) and we want our substitution to work for both of them. `Wild` does this for us. "
      ],
      "metadata": {
        "id": "E3tHci13Ce6f"
      }
    },
    {
      "cell_type": "code",
      "source": [
        "a = sp.Wild('a') #\n",
        "lnways=lnways.replace(sp.log(sp.factorial(a)),a*sp.log(a)-a)\n",
        "lnways"
      ],
      "metadata": {
        "id": "-VOtibC4wxQA",
        "colab": {
          "base_uri": "https://localhost:8080/",
          "height": 67
        },
        "outputId": "e3832a94-b2b8-43e7-c05f-23ed85eaaa72"
      },
      "execution_count": 8,
      "outputs": [
        {
          "output_type": "execute_result",
          "data": {
            "text/plain": [
              "Eq(log(W), N*log(N) - N - Sum(n_i*log(n_i) - n_i, (i, 0, oo)))"
            ],
            "text/latex": "$\\displaystyle \\log{\\left(W \\right)} = N \\log{\\left(N \\right)} - N - \\sum_{i=0}^{\\infty} \\left(n_{i} \\log{\\left(n_{i} \\right)} - n_{i}\\right)$"
          },
          "metadata": {},
          "execution_count": 8
        }
      ]
    },
    {
      "cell_type": "markdown",
      "source": [
        "We can expand to obtain two separate summations."
      ],
      "metadata": {
        "id": "t6FKzltqC3ta"
      }
    },
    {
      "cell_type": "code",
      "source": [
        "lnways.expand()"
      ],
      "metadata": {
        "id": "p9gy7N_zJmLv",
        "colab": {
          "base_uri": "https://localhost:8080/",
          "height": 67
        },
        "outputId": "158dc89e-f4b1-48f5-c1c4-955cef8b5db9"
      },
      "execution_count": 9,
      "outputs": [
        {
          "output_type": "execute_result",
          "data": {
            "text/plain": [
              "Eq(log(W), N*log(N) - N - Sum(-n_i, (i, 0, oo)) - Sum(n_i*log(n_i), (i, 0, oo)))"
            ],
            "text/latex": "$\\displaystyle \\log{\\left(W \\right)} = N \\log{\\left(N \\right)} - N - \\sum_{i=0}^{\\infty} - n_{i} - \\sum_{i=0}^{\\infty} n_{i} \\log{\\left(n_{i} \\right)}$"
          },
          "metadata": {},
          "execution_count": 9
        }
      ]
    },
    {
      "cell_type": "markdown",
      "source": [
        "Canceling negatives, the third term can be rewritten as $+∑n_i$ \n",
        "\n",
        "**What is the value of this summation if we sum over all the possible levels?**\n",
        "\n",
        "Substitute this for the sum."
      ],
      "metadata": {
        "id": "axtSkDx_C_U6"
      }
    },
    {
      "cell_type": "code",
      "source": [
        "lnways1=lnways.expand().replace(sp.Sum(-n_i,(i,0,oo)),-N)\n",
        "lnways1"
      ],
      "metadata": {
        "id": "msFDzOQU9lrk",
        "colab": {
          "base_uri": "https://localhost:8080/",
          "height": 67
        },
        "outputId": "8f976270-f9f6-4ec4-cacb-acd3251b67e7"
      },
      "execution_count": 10,
      "outputs": [
        {
          "output_type": "execute_result",
          "data": {
            "text/plain": [
              "Eq(log(W), N*log(N) - Sum(n_i*log(n_i), (i, 0, oo)))"
            ],
            "text/latex": "$\\displaystyle \\log{\\left(W \\right)} = N \\log{\\left(N \\right)} - \\sum_{i=0}^{\\infty} n_{i} \\log{\\left(n_{i} \\right)}$"
          },
          "metadata": {},
          "execution_count": 10
        }
      ]
    },
    {
      "cell_type": "markdown",
      "source": [
        "Now we have an expression that we can maximize with respect to the occupation numbers, $n_i$."
      ],
      "metadata": {
        "id": "JhEPaa4Q6Zoo"
      }
    },
    {
      "cell_type": "code",
      "source": [
        "sp.Eq(sp.diff(log(W),n_i),sp.diff(N*log(N)-sp.Sum(n_i*log(n_i),(i,0,oo)),n_i)) #sp.diff takes the derivative"
      ],
      "metadata": {
        "id": "yRhu9Fl0vPa6",
        "colab": {
          "base_uri": "https://localhost:8080/",
          "height": 67
        },
        "outputId": "b8d4d77c-f67b-4e48-92a8-25346212b1d2"
      },
      "execution_count": 11,
      "outputs": [
        {
          "output_type": "execute_result",
          "data": {
            "text/plain": [
              "Eq(0, -Sum(log(n_i) + 1, (i, 0, oo)))"
            ],
            "text/latex": "$\\displaystyle 0 = - \\sum_{i=0}^{\\infty} \\left(\\log{\\left(n_{i} \\right)} + 1\\right)$"
          },
          "metadata": {},
          "execution_count": 11
        }
      ]
    },
    {
      "cell_type": "markdown",
      "source": [
        "When W (or ln(W) is a maximum, the summation must equal zero. The derivative in terms of $n_i$ is actually a set of derivatives such that $$dlnW=- (log (n_1)+1)dn_1+- (log (n_2)+1)dn_2+-(log (n_3)+1)dn_3+...=0$$\n",
        "In order for the whole series to be equal to zero, each term needs to be equal to zero"
      ],
      "metadata": {
        "id": "YtraxwyFEq7Y"
      }
    },
    {
      "cell_type": "code",
      "source": [
        "sp.Eq(0,sp.diff(n_i*log(n_i),n_i))"
      ],
      "metadata": {
        "id": "Zpo1x_ERxZgr",
        "colab": {
          "base_uri": "https://localhost:8080/",
          "height": 39
        },
        "outputId": "a1dc55b5-65b7-494b-aa2c-b6586aa9b053"
      },
      "execution_count": 39,
      "outputs": [
        {
          "output_type": "execute_result",
          "data": {
            "text/plain": [
              "Eq(0, log(n_i) + 1)"
            ],
            "text/latex": "$\\displaystyle 0 = \\log{\\left(n_{i} \\right)} + 1$"
          },
          "metadata": {},
          "execution_count": 39
        }
      ]
    },
    {
      "cell_type": "markdown",
      "source": [
        "However, at this stage we need to take a step back and look at what we've done. What we've done so far is minimize the number of ways (or the logarithm of the number of ways) that a particle's energy can be arranged on a set of energy levels. There are two constraints that we have not yet considered. First, the various $n_i$ are not independent of each other. Raising $n_1$ necessarily lowers some other occupation number(s) since the total of all of the occupation numbers must be unity. $$\\Sigma n_i = 1$$\n",
        "\n",
        "Second, changing the occupation numbers can change the energy but our scenario specifies that we start with a given number of particles which have a given energy level configuration and we have a specified amount of total energy available (usually indicated as a system in thermal equilibrium at a given temperature). So any changes in occupation numbers must keep the total energy constant. $$\\Sigma n_i ɛ_i = E$$\n",
        "\n",
        "To optimize relative to constraints is a harder problem but the [Lagrange method of undetermined multipliers](https://en.wikipedia.org/wiki/Lagrange_multiplier) is our friend. Here the constraints multiplied by their ${undetermined\\, multipliers}$ will be $$\\alpha'(1-\\Sigma n_i)$$ and $$\\beta(E-\\Sigma n_i ɛ_i)$$\n",
        "\n",
        "Let's add these constraints into our log(W) expression.\n",
        "\n",
        "First, we'll tell sympy that we want to use some new sympols, what names we'll call them, and what symbol we'd like to display with those names. These are all real number constants and telling sympy that may decrease the difficulty of manipulations later on if we don't give it this information. It's a good idea to define symbols with as much information about what type of number they are as possible. We might possibly add 'positive=True' or even 'nonnegative=True' if we want to include the possibility that the number could be zero as well as positive."
      ],
      "metadata": {
        "id": "W5CTY4TO3GkM"
      }
    },
    {
      "cell_type": "code",
      "source": [
        "alph,alpha,beta,E,eps_i=sp.symbols(\"alphaprime,alpha,beta,E,\\epsilon_i\",constant=True,real=True)\n"
      ],
      "metadata": {
        "id": "vDK9LuZF7PJg"
      },
      "execution_count": 13,
      "outputs": []
    },
    {
      "cell_type": "code",
      "source": [
        "lnways=sp.Eq(lnways1.lhs,lnways1.rhs-alph*(1-sp.Sum(n_i,(i,0,oo)))-beta*(E-sp.Sum(n_i*eps_i,(i,0,oo))))\n",
        "lnways"
      ],
      "metadata": {
        "id": "aARWm6-cHBJt",
        "colab": {
          "base_uri": "https://localhost:8080/",
          "height": 68
        },
        "outputId": "3bea0118-18d3-4794-ba51-52a9afcec2e1"
      },
      "execution_count": 14,
      "outputs": [
        {
          "output_type": "execute_result",
          "data": {
            "text/plain": [
              "Eq(log(W), N*log(N) - alphaprime*(1 - Sum(n_i, (i, 0, oo))) - beta*(E - Sum(\\epsilon_i*n_i, (i, 0, oo))) - Sum(n_i*log(n_i), (i, 0, oo)))"
            ],
            "text/latex": "$\\displaystyle \\log{\\left(W \\right)} = N \\log{\\left(N \\right)} - {\\alpha}' \\left(1 - \\sum_{i=0}^{\\infty} n_{i}\\right) - \\beta \\left(E - \\sum_{i=0}^{\\infty} \\epsilon_{i} n_{i}\\right) - \\sum_{i=0}^{\\infty} n_{i} \\log{\\left(n_{i} \\right)}$"
          },
          "metadata": {},
          "execution_count": 14
        }
      ]
    },
    {
      "cell_type": "code",
      "source": [
        "sp.Eq(sp.diff(lnways.lhs,n_i),sp.diff(lnways.rhs,n_i))"
      ],
      "metadata": {
        "id": "c5l5Mh3dLVcF",
        "colab": {
          "base_uri": "https://localhost:8080/",
          "height": 67
        },
        "outputId": "2e82ef1d-4cbc-4073-c6d5-743918c2e66b"
      },
      "execution_count": 15,
      "outputs": [
        {
          "output_type": "execute_result",
          "data": {
            "text/plain": [
              "Eq(0, alphaprime*Sum(1, (i, 0, oo)) + beta*Sum(\\epsilon_i, (i, 0, oo)) - Sum(log(n_i) + 1, (i, 0, oo)))"
            ],
            "text/latex": "$\\displaystyle 0 = {\\alpha}' \\sum_{i=0}^{\\infty} 1 + \\beta \\sum_{i=0}^{\\infty} \\epsilon_{i} - \\sum_{i=0}^{\\infty} \\left(\\log{\\left(n_{i} \\right)} + 1\\right)$"
          },
          "metadata": {},
          "execution_count": 15
        }
      ]
    },
    {
      "cell_type": "markdown",
      "source": [
        "Again, as before, each term must be equal to zero so we can remove the summations."
      ],
      "metadata": {
        "id": "g_-Zl5xxMC7M"
      }
    },
    {
      "cell_type": "code",
      "source": [
        "dlnways=sp.Eq(sp.diff(lnways.lhs,n_i),sp.diff(lnways.rhs,n_i))\n",
        "dlnways=sp.Eq(0,alph+beta*eps_i-sp.log(n_i)+1)\n",
        "dlnways=dlnways.subs(alph+1,alpha)\n",
        "dlnways"
      ],
      "metadata": {
        "id": "R_s9Qft6MKLp",
        "colab": {
          "base_uri": "https://localhost:8080/",
          "height": 39
        },
        "outputId": "61b019fc-b015-4079-a33c-86554e14e3a1"
      },
      "execution_count": 16,
      "outputs": [
        {
          "output_type": "execute_result",
          "data": {
            "text/plain": [
              "Eq(0, \\epsilon_i*beta + alpha - log(n_i))"
            ],
            "text/latex": "$\\displaystyle 0 = \\epsilon_{i} \\beta + \\alpha - \\log{\\left(n_{i} \\right)}$"
          },
          "metadata": {},
          "execution_count": 16
        }
      ]
    },
    {
      "cell_type": "code",
      "source": [
        "nn_i=sp.Eq(n_i,sp.solve(dlnways,n_i)[0])\n",
        "nn_i"
      ],
      "metadata": {
        "id": "__08Mt77OXEe",
        "colab": {
          "base_uri": "https://localhost:8080/",
          "height": 39
        },
        "outputId": "f862a511-b3d4-48fd-e598-2ade7e2635d6"
      },
      "execution_count": 17,
      "outputs": [
        {
          "output_type": "execute_result",
          "data": {
            "text/plain": [
              "Eq(n_i, exp(\\epsilon_i*beta + alpha))"
            ],
            "text/latex": "$\\displaystyle n_{i} = e^{\\epsilon_{i} \\beta + \\alpha}$"
          },
          "metadata": {},
          "execution_count": 17
        }
      ]
    },
    {
      "cell_type": "markdown",
      "source": [
        "##Finding $\\alpha$\n",
        "For use later, let's also solve for ln($n_i$). This would simply be ln($n_i$)=$ϵ_i$β+α"
      ],
      "metadata": {
        "id": "NiOJlErK4QhC"
      }
    },
    {
      "cell_type": "markdown",
      "source": [
        "The sum of all the occupation numbers, as we've already seen, is $N$. Therefore $$\\Sigma e^{\\alpha + \\beta ɛ_i}=N$$ Since $\\alpha$ doesn't include $i$, we can remove its term from the summation and find that $e^\\alpha=\\dfrac{N}{\\Sigma \\beta ɛ_i}$ \n",
        "\n",
        "This gives us $$n_i=N\\dfrac{e^{\\beta ɛ_i}}{\\Sigma e^{\\beta ɛ_j}}$$ where the summation in the denominator has been switched to $j$ which ranges from 0 to $\\infty$ as opposed to $i$ here which in this equations is referring to just one of the potentially infinite levels.\n",
        "\n",
        "This summation of Boltzmann factors over all levels is called the *partition function*. It will turn out that if we can determine the partition function for a system, we have the key to determining every relevant thermodynamic property of that system.\n",
        "\n",
        "Before we can do that we need to find $\\beta$."
      ],
      "metadata": {
        "id": "KnUaQxrnbpno"
      }
    },
    {
      "cell_type": "markdown",
      "source": [
        "##Finding $\\beta$\n",
        "There are a number of ways to demonstrate that $\\beta$ is equal to $-\\frac{1}{kT}$. (In some derivations things are arranged so that β is positive.)\n",
        "\n",
        "One of these includes the recognition from thermodynamics that $S=k lnW$"
      ],
      "metadata": {
        "id": "eqAzmYAfYrDj"
      }
    },
    {
      "cell_type": "code",
      "source": [
        "S,kb=sp.symbols('S,k_b')\n",
        "entropy=sp.Eq(S,kb*sp.log(W))\n",
        "entropy"
      ],
      "metadata": {
        "id": "L-vR2AIefrqX",
        "colab": {
          "base_uri": "https://localhost:8080/",
          "height": 39
        },
        "outputId": "926dcd66-2466-4ea1-9a72-2d54336d687a"
      },
      "execution_count": 18,
      "outputs": [
        {
          "output_type": "execute_result",
          "data": {
            "text/plain": [
              "Eq(S, k_b*log(W))"
            ],
            "text/latex": "$\\displaystyle S = k_{b} \\log{\\left(W \\right)}$"
          },
          "metadata": {},
          "execution_count": 18
        }
      ]
    },
    {
      "cell_type": "markdown",
      "source": [
        "But we've seen that $lnW=NlnN-\\Sigma n_iln n_i$ and that $ln n_i=\\alpha+\\beta ɛ_i$. We called this 'lnways1' back then. "
      ],
      "metadata": {
        "id": "mW7EIGUAtNl6"
      }
    },
    {
      "cell_type": "code",
      "source": [
        "entropy=entropy.subs(log(W),lnways1.rhs)\n",
        "entropy"
      ],
      "metadata": {
        "id": "NSmAgw4MgHgJ",
        "colab": {
          "base_uri": "https://localhost:8080/",
          "height": 68
        },
        "outputId": "32d50e19-4bd5-43ca-ef9e-031d2fd30abd"
      },
      "execution_count": 19,
      "outputs": [
        {
          "output_type": "execute_result",
          "data": {
            "text/plain": [
              "Eq(S, k_b*(N*log(N) - Sum(n_i*log(n_i), (i, 0, oo))))"
            ],
            "text/latex": "$\\displaystyle S = k_{b} \\left(N \\log{\\left(N \\right)} - \\sum_{i=0}^{\\infty} n_{i} \\log{\\left(n_{i} \\right)}\\right)$"
          },
          "metadata": {},
          "execution_count": 19
        }
      ]
    },
    {
      "cell_type": "markdown",
      "source": [
        "Let's substitute the $ln n_i$ with the expression we found earlier which was $ϵ_i$β+α."
      ],
      "metadata": {
        "id": "2FjkHDsh3_LK"
      }
    },
    {
      "cell_type": "code",
      "source": [
        "entropy=entropy.subs(log(n_i),(alpha+beta*eps_i))\n",
        "entropy.expand()"
      ],
      "metadata": {
        "id": "B_J6ZdN_3vc9",
        "colab": {
          "base_uri": "https://localhost:8080/",
          "height": 67
        },
        "outputId": "eb42bb55-d666-421d-d228-c1532307d22d"
      },
      "execution_count": 20,
      "outputs": [
        {
          "output_type": "execute_result",
          "data": {
            "text/plain": [
              "Eq(S, N*k_b*log(N) - k_b*Sum(alpha*n_i, (i, 0, oo)) - k_b*Sum(\\epsilon_i*beta*n_i, (i, 0, oo)))"
            ],
            "text/latex": "$\\displaystyle S = N k_{b} \\log{\\left(N \\right)} - k_{b} \\sum_{i=0}^{\\infty} \\alpha n_{i} - k_{b} \\sum_{i=0}^{\\infty} \\epsilon_{i} \\beta n_{i}$"
          },
          "metadata": {},
          "execution_count": 20
        }
      ]
    },
    {
      "cell_type": "markdown",
      "source": [
        "α is a constant and can be removed from the summation. \n",
        "\n",
        "**What does this summation become?** \n",
        "\n",
        "β can likewise be removed from the summation leaving $\\Sigmaϵ_in_i$. \n",
        "\n",
        "**What is this?** **Write an equation for the expression that results when the summations are evaluated.**"
      ],
      "metadata": {
        "id": "UTEU-Ke05r1h"
      }
    },
    {
      "cell_type": "code",
      "source": [
        "entropy=sp.Eq(S, )"
      ],
      "metadata": {
        "id": "17A2uQ-Qg7fR"
      },
      "execution_count": null,
      "outputs": []
    },
    {
      "cell_type": "markdown",
      "source": [
        "Now from thermodynamics we know that $dE=TdS-pdV$ which can be stated in other terms as internal energy equals work plus heat. (Usually in thermodyanmics the energy is symbolized by U. Here we'll use E like normal people.) If we divide through by $dS$ and impose constant volume conditions, we can find the derivative $dE/dS$. The reciprocal of this is $dS/dE$. \n",
        "\n",
        "**Find this derivative. Take the derivative of our entropy function above with respect to energy to find another version of this derivative. Solve for β.**\n",
        "\n",
        "**Write the complete Boltzmann distribution using our values of α and β.**\n"
      ],
      "metadata": {
        "id": "mRfdMArH6nrp"
      }
    },
    {
      "cell_type": "code",
      "source": [],
      "metadata": {
        "id": "B4wA2y0p81MW"
      },
      "execution_count": 21,
      "outputs": []
    },
    {
      "cell_type": "markdown",
      "source": [
        "#Using the Bolztmann distribution"
      ],
      "metadata": {
        "id": "faKpf2gyYGLo"
      }
    },
    {
      "cell_type": "code",
      "metadata": {
        "id": "KTrC3P5UmaGF"
      },
      "source": [
        "from matplotlib import pyplot as plt\n",
        "import numpy as np\n",
        "from scipy.constants import N_A, h, c, Boltzmann"
      ],
      "execution_count": 22,
      "outputs": []
    },
    {
      "cell_type": "markdown",
      "source": [
        "Here we have extracted from the **Sci**entfic **Py**thon library the Avogadro number, Planck constant, speed of light, and Boltzmann constant."
      ],
      "metadata": {
        "id": "RFzuY6PuUcO0"
      }
    },
    {
      "cell_type": "markdown",
      "metadata": {
        "id": "tyrCC3dj9aeB"
      },
      "source": [
        "Define the Boltzmann constant in wavenumbers (cm$^{-1}$). We can do this by dividing by $hc$ and changing $c$ to cm/s."
      ]
    },
    {
      "cell_type": "code",
      "metadata": {
        "id": "573bx8SPqyP_"
      },
      "source": [
        "k=Boltzmann/h/c/100 #In wavenumbers/K. We can change it to other units if we want to use $\\varepsilon$ in other units. k=1.38x10^-23 J/K if we want to use J."
      ],
      "execution_count": 23,
      "outputs": []
    },
    {
      "cell_type": "markdown",
      "metadata": {
        "id": "57skxwFX-JwH"
      },
      "source": [
        "Define a function to calculate the partition function given a set of levels, $\\varepsilon$, and a temperature. Remember, the partition function is $\\Sigma e^{-ɛ_i/kT}$."
      ]
    },
    {
      "cell_type": "code",
      "metadata": {
        "id": "xav8fgiAvC3p"
      },
      "source": [
        "def q(eps,T):\n",
        "  sum=0\n",
        "  for i in range(0,len(eps)): # for all the energies given in eps\n",
        "    sum+=np.exp(-eps[i]/k/T)  # add on another Boltzmann factor\n",
        "  return sum # return the total after all levels have been considered."
      ],
      "execution_count": 24,
      "outputs": []
    },
    {
      "cell_type": "code",
      "metadata": {
        "id": "QrD8Hk5g-AKO"
      },
      "source": [
        "def f(eps,T,i):\n",
        "  return np.exp(-eps[i]/(k*T))/q(eps,T) # return the boltzmann factor which includes calling the q(eps, T) function."
      ],
      "execution_count": 25,
      "outputs": []
    },
    {
      "cell_type": "markdown",
      "metadata": {
        "id": "_0y7sAjX-UT-"
      },
      "source": [
        "Set up a list of temperatures. The numpy function $arange$ gives a list of integers between the first argument and the second with a step size of the third argument."
      ]
    },
    {
      "cell_type": "code",
      "metadata": {
        "id": "i2xBmloIqIRb"
      },
      "source": [
        "T=np.arange(1,1500,1)"
      ],
      "execution_count": 26,
      "outputs": []
    },
    {
      "cell_type": "markdown",
      "metadata": {
        "id": "aDg22poC-mEG"
      },
      "source": [
        "## Two-level system."
      ]
    },
    {
      "cell_type": "code",
      "metadata": {
        "id": "tXtpo190pKww",
        "colab": {
          "base_uri": "https://localhost:8080/",
          "height": 475
        },
        "outputId": "416c685c-85f4-454e-e409-a618941bf363"
      },
      "source": [
        "##@title Fraction in each level\n",
        "upperlevelenergy =  50#@param {type:\"integer\"}\n",
        "eps1=[0,upperlevelenergy] #energy levels at 0 and 50 cm^-1\n",
        "\n",
        "p1=plt.plot(T,f(eps1,T,0),color='blue',label='Fraction in Lower level')\n",
        "p1.append(plt.plot(T,f(eps1,T,1),color='red',label='Fraction in Upper level'))\n",
        "plt.xlabel('Temperature')\n",
        "plt.ylabel('Fraction')\n",
        "plt.legend()\n",
        "plt.ylim(0,1)\n",
        "plt.xlim(0,max(T))"
      ],
      "execution_count": 27,
      "outputs": [
        {
          "output_type": "execute_result",
          "data": {
            "text/plain": [
              "(0.0, 1499.0)"
            ]
          },
          "metadata": {},
          "execution_count": 27
        },
        {
          "output_type": "display_data",
          "data": {
            "text/plain": [
              "<Figure size 640x480 with 1 Axes>"
            ],
            "image/png": "[encoded data removed]"
          },
          "metadata": {}
        }
      ]
    },
    {
      "cell_type": "markdown",
      "metadata": {
        "id": "yrpPFBAc-6i1"
      },
      "source": [
        "Compare the graphs for two-level systems with spacings of 50 wavenumbers, 500 wavenumbers, and 5000 wavenumbers. Justify the difference in the graphs.\n"
      ]
    },
    {
      "cell_type": "markdown",
      "metadata": {
        "id": "SKkgQsJEBE3h"
      },
      "source": [
        " "
      ]
    },
    {
      "cell_type": "code",
      "metadata": {
        "id": "O_dk60O_pz1B"
      },
      "source": [],
      "execution_count": 27,
      "outputs": []
    },
    {
      "cell_type": "code",
      "metadata": {
        "id": "jPwx52-9_E2r"
      },
      "source": [],
      "execution_count": 27,
      "outputs": []
    },
    {
      "cell_type": "markdown",
      "metadata": {
        "id": "t_FG6HF2xYks"
      },
      "source": [
        "## 3-level system:"
      ]
    },
    {
      "cell_type": "code",
      "metadata": {
        "id": "tYWphxzUxIZ3"
      },
      "source": [
        "eps3=[0,500,1000]"
      ],
      "execution_count": 28,
      "outputs": []
    },
    {
      "cell_type": "code",
      "metadata": {
        "id": "hmKUQ2fpxg0E",
        "colab": {
          "base_uri": "https://localhost:8080/",
          "height": 430
        },
        "outputId": "7c1e8670-9c84-4732-849e-aaf61f1c6a40"
      },
      "source": [
        "plt.plot(T,f(eps3,T,0),color='blue')\n",
        "plt.plot(T,f(eps3,T,1),color='red')\n",
        "plt.plot(T,f(eps3,T,2),color='purple')\n",
        "plt.show()"
      ],
      "execution_count": 29,
      "outputs": [
        {
          "output_type": "display_data",
          "data": {
            "text/plain": [
              "<Figure size 640x480 with 1 Axes>"
            ],
            "image/png": "[encoded data removed]"
          },
          "metadata": {}
        }
      ]
    },
    {
      "cell_type": "code",
      "metadata": {
        "id": "hvQMGXX0xxMf",
        "colab": {
          "base_uri": "https://localhost:8080/",
          "height": 430
        },
        "outputId": "4404ea91-4f19-45e3-b177-1e877d7e8d86"
      },
      "source": [
        "eps4=[0,50,1500]\n",
        "plt.plot(T,f(eps4,T,0),color='blue')\n",
        "plt.plot(T,f(eps4,T,1),color='red')\n",
        "plt.plot(T,f(eps4,T,2),color='purple')\n",
        "plt.show()"
      ],
      "execution_count": 30,
      "outputs": [
        {
          "output_type": "display_data",
          "data": {
            "text/plain": [
              "<Figure size 640x480 with 1 Axes>"
            ],
            "image/png": "[encoded data removed]"
          },
          "metadata": {}
        }
      ]
    },
    {
      "cell_type": "markdown",
      "metadata": {
        "id": "xh_lHJttFNgI"
      },
      "source": [
        "##'infinite' equally spaced system"
      ]
    },
    {
      "cell_type": "code",
      "metadata": {
        "id": "O6s4y5X8FTNc",
        "colab": {
          "base_uri": "https://localhost:8080/",
          "height": 430
        },
        "outputId": "f289f719-7075-45ca-fae1-61478dee2642"
      },
      "source": [
        "#@title Enter spacing of energy levels as multiple of kT at 298K: { run: \"auto\" }\n",
        "spacing =  1 #@param {type:\"number\"}\n",
        "T_limit =  1000 #@param {type:\"integer\"}\n",
        "eps5=[i for i in np.arange(0,100000,spacing*207.11)]\n",
        "\n",
        "plt.plot(T,f(eps5,T,0),color='black')\n",
        "plt.plot(T,f(eps5,T,1),color='purple')\n",
        "plt.plot(T,f(eps5,T,2),color='blue')\n",
        "plt.plot(T,f(eps5,T,3),color='green')\n",
        "plt.plot(T,f(eps5,T,4),color='yellow')\n",
        "plt.plot(T,f(eps5,T,5),color='orange')\n",
        "plt.xlim(0,T_limit)\n",
        "plt.show()"
      ],
      "execution_count": 43,
      "outputs": [
        {
          "output_type": "display_data",
          "data": {
            "text/plain": [
              "<Figure size 640x480 with 1 Axes>"
            ],
            "image/png": "[encoded data removed]"
          },
          "metadata": {}
        }
      ]
    },
    {
      "cell_type": "markdown",
      "metadata": {
        "id": "2ykmuAdY-5c4"
      },
      "source": [
        "##Translational Levels"
      ]
    },
    {
      "cell_type": "markdown",
      "metadata": {
        "id": "Bq6GG4jlCJAp"
      },
      "source": [
        "The partition function for translational energy levels using the energy derived from a particle in a box model is $$q_T=\\left(\\dfrac{2\\pi m k_bhcT}{h^2}\\right)^{3/2}V$$\n",
        "\n",
        "We can calculate $q_T$ for argon atom in 1 L cube."
      ]
    },
    {
      "cell_type": "code",
      "metadata": {
        "id": "jc54OEsIDwhW"
      },
      "source": [
        "def qt(T,m,vol):\n",
        "  return (2*np.pi*m*k*h*c*T/h**2)**(3/2)*vol"
      ],
      "execution_count": 32,
      "outputs": []
    },
    {
      "cell_type": "code",
      "metadata": {
        "id": "wEScXt9NvWks"
      },
      "source": [
        "m=.040/N_A # in kg\n",
        "V=0.001 # in m**3"
      ],
      "execution_count": 33,
      "outputs": []
    },
    {
      "cell_type": "code",
      "metadata": {
        "id": "mj3QjcjoEL66",
        "colab": {
          "base_uri": "https://localhost:8080/",
          "height": 445
        },
        "outputId": "b2836b33-068c-40d6-e2bc-d66d7e7d40a7"
      },
      "source": [
        "plt.plot(T,qt(T,m,V))\n",
        "plt.show()"
      ],
      "execution_count": 42,
      "outputs": [
        {
          "output_type": "display_data",
          "data": {
            "text/plain": [
              "<Figure size 640x480 with 1 Axes>"
            ],
            "image/png": "[encoded data removed]"
          },
          "metadata": {}
        }
      ]
    },
    {
      "cell_type": "markdown",
      "source": [
        "## Rotational levels"
      ],
      "metadata": {
        "id": "8f2wdDepB13h"
      }
    },
    {
      "cell_type": "markdown",
      "source": [
        "The rotational partition function for diatomic molecules based on the rigid rotor approximation is $$q_R=\\dfrac{k_bT}{B}$$ where $B$ is the rotational constant of the molecule."
      ],
      "metadata": {
        "id": "VmdRtQtrQxD4"
      }
    },
    {
      "cell_type": "code",
      "metadata": {
        "id": "gjWJ2zWG5DbJ"
      },
      "source": [
        "def qr(T,B):\n",
        "  return k*T/B"
      ],
      "execution_count": 35,
      "outputs": []
    },
    {
      "cell_type": "code",
      "metadata": {
        "id": "-5aOsKOZ57S4",
        "colab": {
          "base_uri": "https://localhost:8080/",
          "height": 430
        },
        "outputId": "81660735-27c4-49e6-95fa-b6165afad51d"
      },
      "source": [
        "plt.plot(T,qr(T,B=4))\n",
        "plt.show()"
      ],
      "execution_count": 40,
      "outputs": [
        {
          "output_type": "display_data",
          "data": {
            "text/plain": [
              "<Figure size 640x480 with 1 Axes>"
            ],
            "image/png": "[encoded data removed]"
          },
          "metadata": {}
        }
      ]
    },
    {
      "cell_type": "markdown",
      "source": [
        "## Vibrational levels"
      ],
      "metadata": {
        "id": "PQvDl9F-B6sb"
      }
    },
    {
      "cell_type": "markdown",
      "source": [
        "The partition function for vibration using the harmonic oscillator approximation is $$q_v=\\dfrac{1}{1-e^{-\\nu/k_bT}}$$."
      ],
      "metadata": {
        "id": "0MDFnzLgRSVz"
      }
    },
    {
      "cell_type": "code",
      "metadata": {
        "id": "_Jy01wjR6QcL"
      },
      "source": [
        "def qv(T,nu):\n",
        "  return 1/(1-np.exp(-nu/k/T))"
      ],
      "execution_count": 37,
      "outputs": []
    },
    {
      "cell_type": "code",
      "metadata": {
        "id": "aw8XDhNM6a17",
        "colab": {
          "base_uri": "https://localhost:8080/",
          "height": 430
        },
        "outputId": "fb67bbe0-6a6d-4a8e-ed89-27ea79bcf466"
      },
      "source": [
        "T=np.arange(100,1500)\n",
        "plt.plot(T,qv(T,2500))\n",
        "plt.show()"
      ],
      "execution_count": 41,
      "outputs": [
        {
          "output_type": "display_data",
          "data": {
            "text/plain": [
              "<Figure size 640x480 with 1 Axes>"
            ],
            "image/png": "[encoded data removed]"
          },
          "metadata": {}
        }
      ]
    }
  ]
}