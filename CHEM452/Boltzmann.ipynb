{
  "nbformat": 4,
  "nbformat_minor": 0,
  "metadata": {
    "colab": {
      "name": "Boltzmann.ipynb",
      "provenance": [],
      "toc_visible": true,
      "include_colab_link": true
    },
    "kernelspec": {
      "name": "python3",
      "display_name": "Python 3"
    }
  },
  "cells": [
    {
      "cell_type": "markdown",
      "metadata": {
        "id": "view-in-github",
        "colab_type": "text"
      },
      "source": [
        "<a href=\"https://colab.research.google.com/github/davis689/binder/blob/master/CHEM452/Boltzmann.ipynb\" target=\"_parent\"><img src=\"https://colab.research.google.com/assets/colab-badge.svg\" alt=\"Open In Colab\"/></a>"
      ]
    },
    {
      "cell_type": "markdown",
      "source": [
        "# One energy distribution to rule them all"
      ],
      "metadata": {
        "id": "daefFJShmA0U"
      }
    },
    {
      "cell_type": "markdown",
      "source": [
        "We (and do) use empirical equations like the ideal gas law that link macroscopic properties. In principle, we should be able to calculate the same properties from a molecular level. The problem, of course, will be that there are an unbelievably large number of molecules to keep track of. Would we need to know all the coordinates and velocities of all of these molecules? It turns out the answer is 'no'. We just need to determine a representative distribution of energy among the molecules and calculate based on averages of that distribution. Finding what we can know about this distribution is our goal.\n",
        "\n",
        "The term, *distributions of energy*, means keeping track of how many molecules have how much energy. There are many, many ways to distribute a given amount of energy among a given number of molecules, Fortunately, not all distributions need to be considered. \n",
        "\n",
        "First, the sum of the energies of the molecules must be equal to the total energy of the system but there are many (many!) ways of arranging a given amount energy among the molecules of a typical system. However, we actually find the energy arranged among those molecules, the total energy of the molecules *is* the total energy of the system.\n",
        "\n",
        "Second, lthough there are still many distributions that satisfy the first criteria, we can ignore almost all of them. Indeed, we will assume, along with [Ludwig Boltzmann](https://en.wikipedia.org/wiki/Ludwig_Boltzmann), that **one** distribution of energies is so much more probable than any of the others that we can define the properties of the system using only this one distribution. For instance, it is possible that, out of a system of Avogadro's number of molecules with energy, $\\varepsilon$, all of the energy is held by one of the molecules with the rest having no energy. This *state* is composed of Avogadro's number of *microstates* with each microstate consisting of a different molecule having all the energy. Even though there are Avogadro's number of these microstates, this distribution is so unlikely as to be reasonable to ignore. That is because there are many more microstates that have two molecules equally dividing the total energy, and many, many more having three molecules having all the energy, ...\n",
        "\n",
        "Our goal is to find *the* distribution of energies of molecules that is the *one* overwhelmingly most probable one. How many molecules occupy each of the energy levels of the system? If we can find a way to describe this distribution of energy in our system in terms of these occupation numbers and the energy levels, we will have succeeded."
      ],
      "metadata": {
        "id": "eJ5UQfOLqsws"
      }
    },
    {
      "cell_type": "markdown",
      "source": [
        "### Sympy###\n",
        "First some computer stuff. We want to do a derivation. Doing symbolic math using a computer makes it so we can have the computer keep track of terms, signs, simplifying, etc. *Sympy* is a python library for dealing with symbolic math as opposed to numerical math. It is useful in conducting derivations. We will need to import sympy before we use it. Here we'll `import sympy as sp` which means that we can access any [functions in sympy](https://docs.sympy.org/latest/reference/public/basics/index.html) by prepending the function name with `sp.` So the factorial of 10 will be obtained from `sp.Factorial(10)`. \n",
        "\n",
        "Placing `sp.` before every function can be a pain so we can import some important functions from sympy directly with `from sympy import log, oo`. In this example, we're importing the logarithm function and infinity from sympy. The caution here is that any `log` or `oo` function that is native to python will be overwritten with the sympy version. That probably is not a problem but is a potential source of conflict if your program is looking for one form or the other. Once we import log and oo we can use them by typing `oo` or `log` directly instead of using `sp.oo` and `sp.log`, although we can do that too."
      ],
      "metadata": {
        "id": "vNIAo8gtVdjF"
      }
    },
    {
      "cell_type": "code",
      "metadata": {
        "id": "X4DOm5JF7RpD"
      },
      "source": [
        "#from sympy.abc import i, k, m, n, x # \n",
        "from sympy import oo, log\n",
        "import sympy as sp"
      ],
      "execution_count": 1,
      "outputs": []
    },
    {
      "cell_type": "code",
      "source": [
        "i=sp.symbols('i',integer=True) # define a sympy symbol, i, which is an integer, to use as an index.\n",
        "N=sp.symbols('N',constant=True) # define the number of molecules which is constant.\n",
        "n_i,W=sp.symbols('n_i,W', nonnegative=True,integer=True) # define the occupation number and the number of ways of arranging energy among molecules. Both of these could be zero so we'll limit them to nonnegative rather than positive."
      ],
      "metadata": {
        "id": "8KP5wU9xmcR_"
      },
      "execution_count": 39,
      "outputs": []
    },
    {
      "cell_type": "markdown",
      "source": [
        "## Derivation of the Boltzmann distribution"
      ],
      "metadata": {
        "id": "e6rk0qRHwebe"
      }
    },
    {
      "cell_type": "markdown",
      "source": [
        "The number of ways, W, that $N$ molecules can be arranged into energy levels with $n_0$ in the ground level, $n_1$ in the first excited state, $n_2$ in the second excited state, and so on is $$W=\\dfrac{N!}{n_0!n_1!n_2!...}$$ We can replace the denominator with $\\Pi_{i=0}^\\infty n_i!$ to make things look more tidy if not simpler. Of course we don't actually have to include terms for unoccupied levels (since 0!=1) or for singly occupied levels (since 1! is also 1). Only doubly or more highly occupied levels will affect the calculation for number of ways."
      ],
      "metadata": {
        "id": "2_oKIf1k6teS"
      }
    },
    {
      "cell_type": "code",
      "source": [
        "ways=sp.Eq(W,sp.factorial(N)/sp.Product(sp.factorial(n_i),(i,0,oo))) # sp.Eq makes an equation with (left-hand-side , right-hand-side) order. We name this equation 'ways'.\n",
        "ways"
      ],
      "metadata": {
        "id": "xM-uBdfPluxp"
      },
      "execution_count": null,
      "outputs": []
    },
    {
      "cell_type": "markdown",
      "source": [
        "It will turn out to be easier to deal with the log of W. We're only interested in finding the distribution that gives the maximum of W and that distribution will also give the maximum of logW so we can use W or logW and since logW is easier, we choose that."
      ],
      "metadata": {
        "id": "ZAQPen_M8zEf"
      }
    },
    {
      "cell_type": "code",
      "source": [
        "sp.log(ways.rhs) #ways.rhs takes the right-hand-side of the 'ways' equation."
      ],
      "metadata": {
        "id": "0Y73vA6at1et"
      },
      "execution_count": null,
      "outputs": []
    },
    {
      "cell_type": "markdown",
      "source": [
        "Let's use the rules of logs to separate the numerator from the denominator."
      ],
      "metadata": {
        "id": "zq_D5Cxt9P73"
      }
    },
    {
      "cell_type": "code",
      "source": [
        "lnways=sp.Eq(sp.log(W),sp.expand_log(sp.log(ways.rhs), force=True)) \n",
        "lnways"
      ],
      "metadata": {
        "id": "nmDPuM-XvETi"
      },
      "execution_count": null,
      "outputs": []
    },
    {
      "cell_type": "markdown",
      "source": [
        "###Stirling's approximation (a side trip)"
      ],
      "metadata": {
        "id": "FMVtLs6fJKXy"
      }
    },
    {
      "cell_type": "markdown",
      "source": [
        "Factorials can be problematic in derivations since they require multiplying arbitrary numbers of integers together. It would be great to have a way to write factorials with a normal algebraic experession. *Stirlings approximation* will allow us to get rid of the factorials. Stirlings approximation is $$lnx!=xlnx-x$$\n",
        "We can test this approximation's accuracy for relatively small numbers, x, up to about 100000. (We can test further but the calculation time gets long.)"
      ],
      "metadata": {
        "id": "PVszJK9L9eT_"
      }
    },
    {
      "cell_type": "code",
      "source": [
        "x=10 \n",
        "lnxfact=sp.log(sp.factorial(x)) # calculation using factorial\n",
        "lnxSA= x*sp.log(x)-x # calculation using Stirling\n",
        "print(\"For x=\",x,\":\")\n",
        "print(\"actual ln(x):\",lnxfact.evalf(),\"Stirling's approx.:\",lnxSA.evalf(),\"%difference:\",((lnxfact-lnxSA)/lnxfact).evalf()*100,\"%\")"
      ],
      "metadata": {
        "id": "TfFxw1oH9uNP"
      },
      "execution_count": null,
      "outputs": []
    },
    {
      "cell_type": "markdown",
      "source": [
        "**You can change N to a higher number and see how the approximation gets better.**\n",
        "\n",
        "\n",
        "\n",
        "We can make a comparison table by introducing a loop and doing the calculations multiple times for larger and larger values of N."
      ],
      "metadata": {
        "id": "-D8uFG36Hf9p"
      }
    },
    {
      "cell_type": "code",
      "source": [
        "from tabulate import tabulate # to help make tables\n",
        "import sys;sys.set_int_max_str_digits(0) # removes some kind of limitation on size of numbers for calculations.\n",
        "table=[] #start with an empty table.\n",
        "for x in [10,100,1000,10000,100000]:\n",
        "  lnxfact=sp.log(sp.factorial(x)) # calculation using factorial\n",
        "  lnxSA= x*sp.log(x)-x # calculation using Stirling\n",
        "  percentdiff=(lnxfact-lnxSA)/lnxfact*100\n",
        "  table.append([x,lnxfact,lnxSA,percentdiff])\n",
        "print(tabulate(table, headers=[\"x\",\"actual ln(x)\",\"Stirling's approx.\", \"% difference\"], tablefmt='fancy_grid'))\n"
      ],
      "metadata": {
        "id": "2CbsVxx3EwrU"
      },
      "execution_count": null,
      "outputs": []
    },
    {
      "cell_type": "markdown",
      "source": [
        "**How good is the approximation for single digit numbers? Double digit numbers? 100000? Avogadro's number?**"
      ],
      "metadata": {
        "id": "vFl8txO1CQ9s"
      }
    },
    {
      "cell_type": "markdown",
      "source": [
        "###back to the derivation\n",
        "Substituting Stirling's approximation gives us an expression free of factorials. Here we use a wild card, a, to replace all the $ln\\, a!$ regardless of the identity of $a$. Our equation had two factorials terms (one of $N$ and one of $n_i$) and we want our substitution to work for both of them. `Wild` does this for us. "
      ],
      "metadata": {
        "id": "E3tHci13Ce6f"
      }
    },
    {
      "cell_type": "code",
      "source": [
        "a = sp.Wild('a') #\n",
        "lnways=lnways.replace(sp.log(sp.factorial(a)),a*sp.log(a)-a)\n",
        "lnways"
      ],
      "metadata": {
        "id": "-VOtibC4wxQA"
      },
      "execution_count": null,
      "outputs": []
    },
    {
      "cell_type": "markdown",
      "source": [
        "We can expand to obtain two separate summations."
      ],
      "metadata": {
        "id": "t6FKzltqC3ta"
      }
    },
    {
      "cell_type": "code",
      "source": [
        "lnways.expand()"
      ],
      "metadata": {
        "id": "p9gy7N_zJmLv"
      },
      "execution_count": null,
      "outputs": []
    },
    {
      "cell_type": "markdown",
      "source": [
        "Canceling negatives, the third term can be rewritten as $+∑n_i$ \n",
        "\n",
        "**What is the value of this summation if we sum over all the possible levels?**\n",
        "\n",
        "Substitute this for the sum."
      ],
      "metadata": {
        "id": "axtSkDx_C_U6"
      }
    },
    {
      "cell_type": "code",
      "source": [
        "lnways1=lnways.expand().replace(sp.Sum(-n_i,(i,0,oo)),-N)\n",
        "lnways1"
      ],
      "metadata": {
        "id": "msFDzOQU9lrk"
      },
      "execution_count": null,
      "outputs": []
    },
    {
      "cell_type": "markdown",
      "source": [
        "Now we have an expression that we can maximize with respect to the occupation numbers, $n_i$."
      ],
      "metadata": {
        "id": "JhEPaa4Q6Zoo"
      }
    },
    {
      "cell_type": "code",
      "source": [
        "sp.Eq(sp.diff(log(W),n_i),sp.diff(N*log(N)-sp.Sum(n_i*log(n_i),(i,0,oo)),n_i)) #sp.diff takes the derivative"
      ],
      "metadata": {
        "id": "yRhu9Fl0vPa6"
      },
      "execution_count": null,
      "outputs": []
    },
    {
      "cell_type": "markdown",
      "source": [
        "When W (or ln(W) is a maximum, the summation must equal zero. The derivative in terms of $n_i$ is actually a set of derivatives such that $$dlnW=- (log (n_1)+1)dn_1+- (log (n_2)+1)dn_2+-(log (n_3)+1)dn_3+...=0$$\n",
        "In order for the whole series to be equal to zero, each term needs to be equal to zero"
      ],
      "metadata": {
        "id": "YtraxwyFEq7Y"
      }
    },
    {
      "cell_type": "code",
      "source": [
        "sp.Eq(0,sp.diff(n_i*log(n_i),n_i))"
      ],
      "metadata": {
        "id": "Zpo1x_ERxZgr"
      },
      "execution_count": null,
      "outputs": []
    },
    {
      "cell_type": "markdown",
      "source": [
        "However, at this stage we need to take a step back and look at what we've done. What we've done so far is minimize the number of ways (or the logarithm of the number of ways) that a particle's energy can be arranged on a set of energy levels. There are two constraints that we have not yet considered. First, the various $n_i$ are not independent of each other. Raising $n_1$ necessarily lowers some other occupation number(s) since the total of all of the occupation numbers must be unity. $$\\Sigma n_i = 1$$\n",
        "\n",
        "Second, changing the occupation numbers can change the energy but our scenario specifies that we start with a given number of particles which have a given energy level configuration and we have a specified amount of total energy available (usually indicated as a system in thermal equilibrium at a given temperature). So any changes in occupation numbers must keep the total energy constant. $$\\Sigma n_i ɛ_i = E$$\n",
        "\n",
        "To optimize relative to constraints is a harder problem but the [Lagrange method of undetermined multipliers](https://en.wikipedia.org/wiki/Lagrange_multiplier) is our friend. Here the constraints multiplied by their ${undetermined\\, multipliers}$ will be $$\\alpha'(1-\\Sigma n_i)$$ and $$\\beta(E-\\Sigma n_i ɛ_i)$$\n",
        "\n",
        "Let's add these constraints into our log(W) expression.\n",
        "\n",
        "First, we'll tell sympy that we want to use some new sympols, what names we'll call them, and what symbol we'd like to display with those names. These are all real number constants and telling sympy that may decrease the difficulty of manipulations later on if we don't give it this information. It's a good idea to define symbols with as much information about what type of number they are as possible. We might possibly add 'positive=True' or even 'nonnegative=True' if we want to include the possibility that the number could be zero as well as positive."
      ],
      "metadata": {
        "id": "W5CTY4TO3GkM"
      }
    },
    {
      "cell_type": "code",
      "source": [
        "alph,alpha,beta,E,eps_i=sp.symbols(\"alphaprime,alpha,beta,E,\\epsilon_i\",constant=True,real=True)\n"
      ],
      "metadata": {
        "id": "vDK9LuZF7PJg"
      },
      "execution_count": 13,
      "outputs": []
    },
    {
      "cell_type": "code",
      "source": [
        "lnways=sp.Eq(lnways1.lhs,lnways1.rhs-alph*(1-sp.Sum(n_i,(i,0,oo)))-beta*(E-sp.Sum(n_i*eps_i,(i,0,oo))))\n",
        "lnways"
      ],
      "metadata": {
        "id": "aARWm6-cHBJt"
      },
      "execution_count": null,
      "outputs": []
    },
    {
      "cell_type": "code",
      "source": [
        "sp.Eq(sp.diff(lnways.lhs,n_i),sp.diff(lnways.rhs,n_i))"
      ],
      "metadata": {
        "id": "c5l5Mh3dLVcF"
      },
      "execution_count": null,
      "outputs": []
    },
    {
      "cell_type": "markdown",
      "source": [
        "Again, as before, each term must be equal to zero so we can remove the summations."
      ],
      "metadata": {
        "id": "g_-Zl5xxMC7M"
      }
    },
    {
      "cell_type": "code",
      "source": [
        "dlnways=sp.Eq(sp.diff(lnways.lhs,n_i),sp.diff(lnways.rhs,n_i))\n",
        "dlnways=sp.Eq(0,alph+beta*eps_i-sp.log(n_i)+1)\n",
        "dlnways=dlnways.subs(alph+1,alpha)\n",
        "dlnways"
      ],
      "metadata": {
        "id": "R_s9Qft6MKLp"
      },
      "execution_count": null,
      "outputs": []
    },
    {
      "cell_type": "code",
      "source": [
        "nn_i=sp.Eq(n_i,sp.solve(dlnways,n_i)[0])\n",
        "nn_i"
      ],
      "metadata": {
        "id": "__08Mt77OXEe"
      },
      "execution_count": null,
      "outputs": []
    },
    {
      "cell_type": "markdown",
      "source": [
        "###Finding $\\alpha$\n",
        "For use later, let's also solve for ln($n_i$). This would simply be ln($n_i$)=$ϵ_i$β+α"
      ],
      "metadata": {
        "id": "NiOJlErK4QhC"
      }
    },
    {
      "cell_type": "markdown",
      "source": [
        "The sum of all the occupation numbers, as we've already seen, is $N$. Therefore $$\\Sigma e^{\\alpha + \\beta ɛ_i}=N$$ Since $\\alpha$ doesn't include $i$, we can remove its term from the summation and find that $e^\\alpha=\\dfrac{N}{\\Sigma \\beta ɛ_i}$ \n",
        "\n",
        "This gives us $$n_i=N\\dfrac{e^{\\beta ɛ_i}}{\\Sigma e^{\\beta ɛ_j}}$$ where the summation in the denominator has been switched to $j$ which ranges from 0 to $\\infty$ as opposed to $i$ here which in this equations is referring to just one of the potentially infinite levels.\n",
        "\n",
        "This summation of Boltzmann factors over all levels is called the *partition function*. It will turn out that if we can determine the partition function for a system, we have the key to determining every relevant thermodynamic property of that system.\n",
        "\n",
        "Before we can do that we need to find $\\beta$."
      ],
      "metadata": {
        "id": "KnUaQxrnbpno"
      }
    },
    {
      "cell_type": "markdown",
      "source": [
        "###Finding $\\beta$\n",
        "There are a number of ways to demonstrate that $\\beta$ is equal to $-\\frac{1}{kT}$. (In some derivations things are arranged so that β is positive.)\n",
        "\n",
        "One of these includes the recognition from thermodynamics that $S=k lnW$"
      ],
      "metadata": {
        "id": "eqAzmYAfYrDj"
      }
    },
    {
      "cell_type": "code",
      "source": [
        "S,kb=sp.symbols('S,k_b')\n",
        "entropy=sp.Eq(S,kb*sp.log(W))\n",
        "entropy"
      ],
      "metadata": {
        "id": "L-vR2AIefrqX"
      },
      "execution_count": null,
      "outputs": []
    },
    {
      "cell_type": "markdown",
      "source": [
        "But we've seen that $lnW=NlnN-\\Sigma n_iln n_i$ and that $ln n_i=\\alpha+\\beta ɛ_i$. We called this 'lnways1' back then. "
      ],
      "metadata": {
        "id": "mW7EIGUAtNl6"
      }
    },
    {
      "cell_type": "code",
      "source": [
        "entropy=entropy.subs(log(W),lnways1.rhs)\n",
        "entropy"
      ],
      "metadata": {
        "id": "NSmAgw4MgHgJ"
      },
      "execution_count": null,
      "outputs": []
    },
    {
      "cell_type": "markdown",
      "source": [
        "Let's substitute the $ln n_i$ with the expression we found earlier which was $ϵ_i$β+α."
      ],
      "metadata": {
        "id": "2FjkHDsh3_LK"
      }
    },
    {
      "cell_type": "code",
      "source": [
        "entropy=entropy.subs(log(n_i),(alpha+beta*eps_i))\n",
        "entropy.expand()"
      ],
      "metadata": {
        "id": "B_J6ZdN_3vc9"
      },
      "execution_count": null,
      "outputs": []
    },
    {
      "cell_type": "markdown",
      "source": [
        "α is a constant and can be removed from the summation. \n",
        "\n",
        "**What does this summation become?** \n",
        "\n",
        "β can likewise be removed from the summation leaving $\\Sigmaϵ_in_i$. \n",
        "\n",
        "**What is this?** **Write an equation for the expression that results when the summations are evaluated.**"
      ],
      "metadata": {
        "id": "UTEU-Ke05r1h"
      }
    },
    {
      "cell_type": "code",
      "source": [
        "entropy=sp.Eq(S, )"
      ],
      "metadata": {
        "id": "17A2uQ-Qg7fR"
      },
      "execution_count": null,
      "outputs": []
    },
    {
      "cell_type": "markdown",
      "source": [
        "Now from thermodynamics we know that $dE=TdS-pdV$ which can be stated in other terms as internal energy equals work plus heat. (Usually in thermodyanmics the energy is symbolized by U. Here we'll use E like normal people.) If we divide through by $dS$ and impose constant volume conditions, we can find the derivative $dE/dS$. The reciprocal of this is $dS/dE$. \n",
        "\n",
        "**Find this derivative. Take the derivative of our entropy function above with respect to energy to find another version of this derivative. Solve for β.**\n",
        "\n",
        "**Write the complete Boltzmann distribution using our values of α and β.**\n"
      ],
      "metadata": {
        "id": "mRfdMArH6nrp"
      }
    },
    {
      "cell_type": "code",
      "source": [],
      "metadata": {
        "id": "B4wA2y0p81MW"
      },
      "execution_count": 21,
      "outputs": []
    },
    {
      "cell_type": "markdown",
      "source": [
        "##Using the Bolztmann distribution"
      ],
      "metadata": {
        "id": "faKpf2gyYGLo"
      }
    },
    {
      "cell_type": "code",
      "metadata": {
        "id": "KTrC3P5UmaGF"
      },
      "source": [
        "from matplotlib import pyplot as plt\n",
        "import numpy as np\n",
        "from scipy.constants import N_A, h, c, Boltzmann"
      ],
      "execution_count": 22,
      "outputs": []
    },
    {
      "cell_type": "markdown",
      "source": [
        "Here we have extracted from the **Sci**entfic **Py**thon library the Avogadro number, Planck constant, speed of light, and Boltzmann constant."
      ],
      "metadata": {
        "id": "RFzuY6PuUcO0"
      }
    },
    {
      "cell_type": "markdown",
      "metadata": {
        "id": "tyrCC3dj9aeB"
      },
      "source": [
        "Define the Boltzmann constant in wavenumbers (cm$^{-1}$). We can do this by dividing by $hc$ and changing $c$ to cm/s."
      ]
    },
    {
      "cell_type": "code",
      "metadata": {
        "id": "573bx8SPqyP_"
      },
      "source": [
        "k=Boltzmann/h/c/100 #In wavenumbers/K. We can change it to other units if we want to use $\\varepsilon$ in other units. k=1.38x10^-23 J/K if we want to use J."
      ],
      "execution_count": 23,
      "outputs": []
    },
    {
      "cell_type": "markdown",
      "metadata": {
        "id": "57skxwFX-JwH"
      },
      "source": [
        "Define a function to calculate the partition function given a set of levels, $\\varepsilon$, and a temperature. Remember, the partition function is $\\Sigma e^{-ɛ_i/kT}$."
      ]
    },
    {
      "cell_type": "code",
      "metadata": {
        "id": "xav8fgiAvC3p"
      },
      "source": [
        "def q(eps,T):\n",
        "  sum=0\n",
        "  for i in range(0,len(eps)): # for all the energies given in eps\n",
        "    sum+=np.exp(-eps[i]/k/T)  # add on another Boltzmann factor\n",
        "  return sum # return the total after all levels have been considered."
      ],
      "execution_count": 40,
      "outputs": []
    },
    {
      "cell_type": "code",
      "metadata": {
        "id": "QrD8Hk5g-AKO"
      },
      "source": [
        "def f(eps,T,i):\n",
        "  return np.exp(-eps[i]/(k*T))/q(eps,T) # return the boltzmann factor which includes calling the q(eps, T) function."
      ],
      "execution_count": 41,
      "outputs": []
    },
    {
      "cell_type": "markdown",
      "metadata": {
        "id": "_0y7sAjX-UT-"
      },
      "source": [
        "Set up a list of temperatures. The numpy function $arange$ gives a list of integers between the first argument and the second with a step size of the third argument."
      ]
    },
    {
      "cell_type": "code",
      "metadata": {
        "id": "i2xBmloIqIRb"
      },
      "source": [
        "T=np.arange(1,1500,1)"
      ],
      "execution_count": 26,
      "outputs": []
    },
    {
      "cell_type": "markdown",
      "metadata": {
        "id": "aDg22poC-mEG"
      },
      "source": [
        "### Two-level system."
      ]
    },
    {
      "cell_type": "code",
      "metadata": {
        "id": "tXtpo190pKww"
      },
      "source": [
        "##@title Fraction in each level\n",
        "upperlevelenergy =  50#@param {type:\"integer\"}\n",
        "eps1=[0,upperlevelenergy] #energy levels at 0 and 50 cm^-1\n",
        "\n",
        "p1=plt.plot(T,f(eps1,T,0),color='blue',label='Fraction in Lower level')\n",
        "p1.append(plt.plot(T,f(eps1,T,1),color='red',label='Fraction in Upper level'))\n",
        "plt.xlabel('Temperature')\n",
        "plt.ylabel('Fraction')\n",
        "plt.legend()\n",
        "plt.ylim(0,1)\n",
        "plt.xlim(0,max(T))"
      ],
      "execution_count": null,
      "outputs": []
    },
    {
      "cell_type": "markdown",
      "metadata": {
        "id": "yrpPFBAc-6i1"
      },
      "source": [
        "Compare the graphs for two-level systems with spacings of 50 wavenumbers, 500 wavenumbers, and 5000 wavenumbers. Justify the difference in the graphs.\n"
      ]
    },
    {
      "cell_type": "markdown",
      "metadata": {
        "id": "SKkgQsJEBE3h"
      },
      "source": [
        " "
      ]
    },
    {
      "cell_type": "code",
      "metadata": {
        "id": "O_dk60O_pz1B"
      },
      "source": [],
      "execution_count": 27,
      "outputs": []
    },
    {
      "cell_type": "code",
      "metadata": {
        "id": "jPwx52-9_E2r"
      },
      "source": [],
      "execution_count": 27,
      "outputs": []
    },
    {
      "cell_type": "markdown",
      "metadata": {
        "id": "t_FG6HF2xYks"
      },
      "source": [
        "### 3-level system:"
      ]
    },
    {
      "cell_type": "code",
      "metadata": {
        "id": "tYWphxzUxIZ3"
      },
      "source": [
        "eps3=[0,500,1000]"
      ],
      "execution_count": 28,
      "outputs": []
    },
    {
      "cell_type": "code",
      "metadata": {
        "id": "hmKUQ2fpxg0E"
      },
      "source": [
        "plt.plot(T,f(eps3,T,0),color='blue')\n",
        "plt.plot(T,f(eps3,T,1),color='red')\n",
        "plt.plot(T,f(eps3,T,2),color='purple')\n",
        "plt.show()"
      ],
      "execution_count": null,
      "outputs": []
    },
    {
      "cell_type": "code",
      "metadata": {
        "id": "hvQMGXX0xxMf"
      },
      "source": [
        "eps4=[0,50,1500]\n",
        "plt.plot(T,f(eps4,T,0),color='blue')\n",
        "plt.plot(T,f(eps4,T,1),color='red')\n",
        "plt.plot(T,f(eps4,T,2),color='purple')\n",
        "plt.show()"
      ],
      "execution_count": null,
      "outputs": []
    },
    {
      "cell_type": "markdown",
      "metadata": {
        "id": "xh_lHJttFNgI"
      },
      "source": [
        "###'infinite' equally spaced system"
      ]
    },
    {
      "cell_type": "code",
      "metadata": {
        "id": "O6s4y5X8FTNc"
      },
      "source": [
        "#@title Enter spacing of energy levels as multiple of kT at 298K: { run: \"auto\" }\n",
        "spacing =  1 #@param {type:\"number\"}\n",
        "T_limit =  1000 #@param {type:\"integer\"}\n",
        "eps5=[i for i in np.arange(0,100000,spacing*207.11)]\n",
        "\n",
        "plt.plot(T,f(eps5,T,0),color='black')\n",
        "plt.plot(T,f(eps5,T,1),color='purple')\n",
        "plt.plot(T,f(eps5,T,2),color='blue')\n",
        "plt.plot(T,f(eps5,T,3),color='green')\n",
        "plt.plot(T,f(eps5,T,4),color='yellow')\n",
        "plt.plot(T,f(eps5,T,5),color='orange')\n",
        "plt.xlim(0,T_limit)\n",
        "plt.show()"
      ],
      "execution_count": null,
      "outputs": []
    },
    {
      "cell_type": "markdown",
      "metadata": {
        "id": "2ykmuAdY-5c4"
      },
      "source": [
        "###Translational Levels"
      ]
    },
    {
      "cell_type": "markdown",
      "metadata": {
        "id": "Bq6GG4jlCJAp"
      },
      "source": [
        "The partition function for translational energy levels using the energy derived from a particle in a box model is $$q_T=\\left(\\dfrac{2\\pi m k_bhcT}{h^2}\\right)^{3/2}V$$\n",
        "\n",
        "We can calculate $q_T$ for argon atom in 1 L cube."
      ]
    },
    {
      "cell_type": "code",
      "metadata": {
        "id": "jc54OEsIDwhW"
      },
      "source": [
        "def : #complete the function definition\n",
        "  return "
      ],
      "execution_count": 32,
      "outputs": []
    },
    {
      "cell_type": "code",
      "metadata": {
        "id": "wEScXt9NvWks"
      },
      "source": [
        "m=.040/N_A # in kg\n",
        "V=0.001 # in m**3"
      ],
      "execution_count": 33,
      "outputs": []
    },
    {
      "cell_type": "code",
      "metadata": {
        "id": "mj3QjcjoEL66"
      },
      "source": [
        "plt.plot()\n",
        "plt.show()"
      ],
      "execution_count": null,
      "outputs": []
    },
    {
      "cell_type": "markdown",
      "source": [
        "### Rotational levels"
      ],
      "metadata": {
        "id": "8f2wdDepB13h"
      }
    },
    {
      "cell_type": "markdown",
      "source": [
        "The rotational partition function for diatomic molecules based on the rigid rotor approximation is $$q_R=\\dfrac{k_bT}{B}$$ where $B$ is the rotational constant of the molecule."
      ],
      "metadata": {
        "id": "VmdRtQtrQxD4"
      }
    },
    {
      "cell_type": "code",
      "metadata": {
        "id": "gjWJ2zWG5DbJ"
      },
      "source": [
        "def :\n",
        "  return "
      ],
      "execution_count": 35,
      "outputs": []
    },
    {
      "cell_type": "code",
      "metadata": {
        "id": "-5aOsKOZ57S4"
      },
      "source": [
        "plt.plot()\n",
        "plt.show()"
      ],
      "execution_count": null,
      "outputs": []
    },
    {
      "cell_type": "markdown",
      "source": [
        "### Vibrational levels"
      ],
      "metadata": {
        "id": "PQvDl9F-B6sb"
      }
    },
    {
      "cell_type": "markdown",
      "source": [
        "The partition function for vibration using the harmonic oscillator approximation is $$q_v=\\dfrac{1}{1-e^{-\\nu/k_bT}}$$."
      ],
      "metadata": {
        "id": "0MDFnzLgRSVz"
      }
    },
    {
      "cell_type": "code",
      "metadata": {
        "id": "_Jy01wjR6QcL"
      },
      "source": [
        "def :\n",
        "  return "
      ],
      "execution_count": 37,
      "outputs": []
    },
    {
      "cell_type": "code",
      "metadata": {
        "id": "aw8XDhNM6a17",
        "colab": {
          "base_uri": "https://localhost:8080/",
          "height": 430
        },
        "outputId": "5601b7f8-5819-467c-aacf-e8f73f3a5011"
      },
      "source": [
        "T=np.arange(100,1500)\n",
        "plt.plot(T,qv(T,2500))\n",
        "plt.show()"
      ],
      "execution_count": 38,
      "outputs": [
        {
          "output_type": "display_data",
          "data": {
            "text/plain": [
              "<Figure size 640x480 with 1 Axes>"
            ],
            "image/png": "[encoded data removed]"
          },
          "metadata": {}
        }
      ]
    }
  ]
}