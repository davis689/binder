{
  "nbformat": 4,
  "nbformat_minor": 0,
  "metadata": {
    "colab": {
      "name": "Maxwell-Boltzmann.ipynb",
      "provenance": [],
      "collapsed_sections": [],
      "toc_visible": true,
      "authorship_tag": "ABX9TyM4YXlrfxdu7UGvHaOHM9Rs",
      "include_colab_link": true
    },
    "kernelspec": {
      "name": "python3",
      "display_name": "Python 3"
    },
    "language_info": {
      "name": "python"
    }
  },
  "cells": [
    {
      "cell_type": "markdown",
      "metadata": {
        "id": "view-in-github",
        "colab_type": "text"
      },
      "source": [
        "<a href=\"https://colab.research.google.com/github/davis689/binder/blob/master/CHEM452/Maxwell_Boltzmann.ipynb\" target=\"_parent\"><img src=\"https://colab.research.google.com/assets/colab-badge.svg\" alt=\"Open In Colab\"/></a>"
      ]
    },
    {
      "cell_type": "code",
      "metadata": {
        "id": "C7IcEU6Wwecu"
      },
      "source": [
        "import sympy as sp\n",
        "from sympy import oo, exp, sin, pi\n",
        "import matplotlib.pyplot as plt\n",
        "import numpy as np\n",
        "sp.init_printing()\n"
      ],
      "execution_count": 2,
      "outputs": []
    },
    {
      "cell_type": "markdown",
      "metadata": {
        "id": "WN4JK4GXwWeg"
      },
      "source": [
        "# Maxwell-Boltzmann distribution"
      ]
    },
    {
      "cell_type": "code",
      "metadata": {
        "id": "3H_3NQ6awUXN"
      },
      "source": [
        "eps,m,T,K=sp.symbols('varepsilon,m,T,K',positive=True,real=True)\n",
        "vx,vy,vz,fvx,fv=sp.symbols('v_x,v_y,v_z,f_{v_x},f_v',real=True)\n",
        "kb=sp.symbols('k_B',constant=True,positive=True,real=True)"
      ],
      "execution_count": 3,
      "outputs": []
    },
    {
      "cell_type": "code",
      "metadata": {
        "colab": {
          "base_uri": "https://localhost:8080/",
          "height": 40
        },
        "id": "BdJDfQymHlBW",
        "outputId": "ba24e852-272a-4e56-b89a-9a5711563be5"
      },
      "source": [
        "mbx=sp.Eq(fvx,K*sp.exp(-eps/kb/T))\n",
        "mbx"
      ],
      "execution_count": 4,
      "outputs": [
        {
          "output_type": "execute_result",
          "data": {
            "image/png": "[encoded data removed]",
            "text/latex": "$\\displaystyle f_{v_x} = K e^{- \\frac{\\varepsilon}{T k_{B}}}$",
            "text/plain": [
              "             -varepsilon \n",
              "             ────────────\n",
              "                T⋅k_B    \n",
              "f_{v_x} = K⋅ℯ            "
            ]
          },
          "metadata": {
            "tags": []
          },
          "execution_count": 4
        }
      ]
    },
    {
      "cell_type": "code",
      "metadata": {
        "colab": {
          "base_uri": "https://localhost:8080/",
          "height": 48
        },
        "id": "HvNX4k-3IYU1",
        "outputId": "5b7f855f-d215-4d7d-bf62-363a5a0e198b"
      },
      "source": [
        "mbx=mbx.subs(eps,m*vx**2/2)\n",
        "mbx"
      ],
      "execution_count": 5,
      "outputs": [
        {
          "output_type": "execute_result",
          "data": {
            "image/png": "[encoded data removed]",
            "text/latex": "$\\displaystyle f_{v_x} = K e^{- \\frac{m v_{x}^{2}}{2 T k_{B}}}$",
            "text/plain": [
              "                  2 \n",
              "             -m⋅vₓ  \n",
              "             ───────\n",
              "             2⋅T⋅k_B\n",
              "f_{v_x} = K⋅ℯ       "
            ]
          },
          "metadata": {
            "tags": []
          },
          "execution_count": 5
        }
      ]
    },
    {
      "cell_type": "code",
      "metadata": {
        "colab": {
          "base_uri": "https://localhost:8080/",
          "height": 61
        },
        "id": "9R3DShuwIVaI",
        "outputId": "d88a4431-d052-4634-ff23-5b1cd63f6e8e"
      },
      "source": [
        "norm=sp.solve(sp.integrate(mbx.rhs,(vx,-oo,oo))-1,K)[0] # solve returns a list. There is only one solution so [0] will get it.\n",
        "norm"
      ],
      "execution_count": 6,
      "outputs": [
        {
          "output_type": "execute_result",
          "data": {
            "image/png": "[encoded data removed]",
            "text/latex": "$\\displaystyle \\frac{\\sqrt{2} \\sqrt{m}}{2 \\sqrt{\\pi} \\sqrt{T} \\sqrt{k_{B}}}$",
            "text/plain": [
              "     √2⋅√m     \n",
              "───────────────\n",
              "          _____\n",
              "2⋅√π⋅√T⋅╲╱ k_B "
            ]
          },
          "metadata": {
            "tags": []
          },
          "execution_count": 6
        }
      ]
    },
    {
      "cell_type": "code",
      "metadata": {
        "colab": {
          "base_uri": "https://localhost:8080/",
          "height": 72
        },
        "id": "DgJ2m-2FLXgp",
        "outputId": "1ee87aa1-03bd-461f-90a6-089fb5406fc8"
      },
      "source": [
        "mbx=mbx.subs(K,norm)\n",
        "mbx"
      ],
      "execution_count": 7,
      "outputs": [
        {
          "output_type": "execute_result",
          "data": {
            "image/png": "[encoded data removed]",
            "text/latex": "$\\displaystyle f_{v_x} = \\frac{\\sqrt{2} \\sqrt{m} e^{- \\frac{m v_{x}^{2}}{2 T k_{B}}}}{2 \\sqrt{\\pi} \\sqrt{T} \\sqrt{k_{B}}}$",
            "text/plain": [
              "                       2 \n",
              "                  -m⋅vₓ  \n",
              "                  ───────\n",
              "                  2⋅T⋅k_B\n",
              "           √2⋅√m⋅ℯ       \n",
              "f_{v_x} = ───────────────\n",
              "                    _____\n",
              "          2⋅√π⋅√T⋅╲╱ k_B "
            ]
          },
          "metadata": {
            "tags": []
          },
          "execution_count": 7
        }
      ]
    },
    {
      "cell_type": "markdown",
      "metadata": {
        "id": "3GM6O0uQ5bgI"
      },
      "source": [
        "Test normalization"
      ]
    },
    {
      "cell_type": "code",
      "metadata": {
        "colab": {
          "base_uri": "https://localhost:8080/",
          "height": 36
        },
        "id": "2DG_oJgczhb_",
        "outputId": "9dffb0f2-3075-4415-83c8-3c93b5086bbf"
      },
      "source": [
        "sp.integrate(mbx.rhs,(vx,-oo,oo))"
      ],
      "execution_count": 8,
      "outputs": [
        {
          "output_type": "execute_result",
          "data": {
            "image/png": "[encoded data removed]",
            "text/latex": "$\\displaystyle 1$",
            "text/plain": [
              "1"
            ]
          },
          "metadata": {
            "tags": []
          },
          "execution_count": 8
        }
      ]
    },
    {
      "cell_type": "markdown",
      "metadata": {
        "id": "eLh-MVdM6QID"
      },
      "source": [
        "For three dimensions..."
      ]
    },
    {
      "cell_type": "code",
      "metadata": {
        "colab": {
          "base_uri": "https://localhost:8080/",
          "height": 77
        },
        "id": "FhfonGnb5eRB",
        "outputId": "c50aa3a7-21f7-4a36-97ca-89a3e52f0ae5"
      },
      "source": [
        "mb3d=sp.Eq(fv,mbx.rhs*mbx.subs(vx,vy).rhs*mbx.subs(vx,vz).rhs)\n",
        "mb3d"
      ],
      "execution_count": 9,
      "outputs": [
        {
          "output_type": "execute_result",
          "data": {
            "image/png": "[encoded data removed]",
            "text/latex": "$\\displaystyle f_{v} = \\frac{\\sqrt{2} m^{\\frac{3}{2}} e^{- \\frac{m v_{x}^{2}}{2 T k_{B}}} e^{- \\frac{m v_{y}^{2}}{2 T k_{B}}} e^{- \\frac{m v_{z}^{2}}{2 T k_{B}}}}{4 \\pi^{\\frac{3}{2}} T^{\\frac{3}{2}} k_{B}^{\\frac{3}{2}}}$",
            "text/plain": [
              "                   2         2         2 \n",
              "              -m⋅vₓ    -m⋅v_y    -m⋅v_z  \n",
              "              ───────  ────────  ────────\n",
              "         3/2  2⋅T⋅k_B  2⋅T⋅k_B   2⋅T⋅k_B \n",
              "     √2⋅m   ⋅ℯ       ⋅ℯ        ⋅ℯ        \n",
              "fᵥ = ────────────────────────────────────\n",
              "                 3/2  3/2    3/2         \n",
              "              4⋅π   ⋅T   ⋅k_B            "
            ]
          },
          "metadata": {
            "tags": []
          },
          "execution_count": 9
        }
      ]
    },
    {
      "cell_type": "code",
      "metadata": {
        "colab": {
          "base_uri": "https://localhost:8080/",
          "height": 77
        },
        "id": "AeugUDxCM9s9",
        "outputId": "f67654ec-25f8-4009-bb42-d35f0af60b50"
      },
      "source": [
        "v=sp.symbols('v',real=True,positive=True)\n",
        "mb3d.subs(vx**2+vy**2+vz**2,v**2)"
      ],
      "execution_count": 10,
      "outputs": [
        {
          "output_type": "execute_result",
          "data": {
            "image/png": "[encoded data removed]",
            "text/latex": "$\\displaystyle f_{v} = \\frac{\\sqrt{2} m^{\\frac{3}{2}} e^{- \\frac{m v_{x}^{2}}{2 T k_{B}}} e^{- \\frac{m v_{y}^{2}}{2 T k_{B}}} e^{- \\frac{m v_{z}^{2}}{2 T k_{B}}}}{4 \\pi^{\\frac{3}{2}} T^{\\frac{3}{2}} k_{B}^{\\frac{3}{2}}}$",
            "text/plain": [
              "                   2         2         2 \n",
              "              -m⋅vₓ    -m⋅v_y    -m⋅v_z  \n",
              "              ───────  ────────  ────────\n",
              "         3/2  2⋅T⋅k_B  2⋅T⋅k_B   2⋅T⋅k_B \n",
              "     √2⋅m   ⋅ℯ       ⋅ℯ        ⋅ℯ        \n",
              "fᵥ = ────────────────────────────────────\n",
              "                 3/2  3/2    3/2         \n",
              "              4⋅π   ⋅T   ⋅k_B            "
            ]
          },
          "metadata": {
            "tags": []
          },
          "execution_count": 10
        }
      ]
    },
    {
      "cell_type": "code",
      "metadata": {
        "colab": {
          "base_uri": "https://localhost:8080/",
          "height": 77
        },
        "id": "CUSPnt2XVjmf",
        "outputId": "7741798a-ff60-4bcf-c43c-38fdd7dbd3fb"
      },
      "source": [
        "sp.powsimp(mb3d,force=True)"
      ],
      "execution_count": 11,
      "outputs": [
        {
          "output_type": "execute_result",
          "data": {
            "image/png": "[encoded data removed]",
            "text/latex": "$\\displaystyle f_{v} = \\frac{\\sqrt{2} m^{\\frac{3}{2}} e^{- \\frac{m v_{x}^{2}}{2 T k_{B}}} e^{- \\frac{m v_{y}^{2}}{2 T k_{B}}} e^{- \\frac{m v_{z}^{2}}{2 T k_{B}}}}{4 \\pi^{\\frac{3}{2}} T^{\\frac{3}{2}} k_{B}^{\\frac{3}{2}}}$",
            "text/plain": [
              "                   2         2         2 \n",
              "              -m⋅vₓ    -m⋅v_y    -m⋅v_z  \n",
              "              ───────  ────────  ────────\n",
              "         3/2  2⋅T⋅k_B  2⋅T⋅k_B   2⋅T⋅k_B \n",
              "     √2⋅m   ⋅ℯ       ⋅ℯ        ⋅ℯ        \n",
              "fᵥ = ────────────────────────────────────\n",
              "                 3/2  3/2    3/2         \n",
              "              4⋅π   ⋅T   ⋅k_B            "
            ]
          },
          "metadata": {
            "tags": []
          },
          "execution_count": 11
        }
      ]
    },
    {
      "cell_type": "code",
      "metadata": {
        "colab": {
          "base_uri": "https://localhost:8080/",
          "height": 37
        },
        "id": "JzEjRvGWWJcW",
        "outputId": "5b1c4a3f-adb0-46fd-c4ec-006ed913dec9"
      },
      "source": [
        "theta,phi=sp.symbols('theta, phi')\n",
        "sp.integrate(sp.integrate(v**2*sp.sin(theta),(theta,0,sp.pi)),(phi,0,2*sp.pi))"
      ],
      "execution_count": 12,
      "outputs": [
        {
          "output_type": "execute_result",
          "data": {
            "image/png": "[encoded data removed]",
            "text/latex": "$\\displaystyle 4 \\pi v^{2}$",
            "text/plain": [
              "     2\n",
              "4⋅π⋅v "
            ]
          },
          "metadata": {
            "tags": []
          },
          "execution_count": 12
        }
      ]
    },
    {
      "cell_type": "code",
      "metadata": {
        "colab": {
          "base_uri": "https://localhost:8080/",
          "height": 74
        },
        "id": "o92UyePlYAt3",
        "outputId": "402ca649-0d86-48fe-d037-4b545e1626d7"
      },
      "source": [
        "mb3d=sp.Eq(fv,mb3d.rhs.subs(vx,v/sp.sqrt(3)).subs(vy,v/sp.sqrt(3)).subs(vz,v/sp.sqrt(3))*4*sp.pi*v**2)\n",
        "mb3d"
      ],
      "execution_count": 13,
      "outputs": [
        {
          "output_type": "execute_result",
          "data": {
            "image/png": "[encoded data removed]",
            "text/latex": "$\\displaystyle f_{v} = \\frac{\\sqrt{2} m^{\\frac{3}{2}} v^{2} e^{- \\frac{m v^{2}}{2 T k_{B}}}}{\\sqrt{\\pi} T^{\\frac{3}{2}} k_{B}^{\\frac{3}{2}}}$",
            "text/plain": [
              "                      2 \n",
              "                  -m⋅v  \n",
              "                 ───────\n",
              "         3/2  2  2⋅T⋅k_B\n",
              "     √2⋅m   ⋅v ⋅ℯ       \n",
              "fᵥ = ───────────────────\n",
              "            3/2    3/2  \n",
              "        √π⋅T   ⋅k_B     "
            ]
          },
          "metadata": {
            "tags": []
          },
          "execution_count": 13
        }
      ]
    },
    {
      "cell_type": "code",
      "metadata": {
        "colab": {
          "base_uri": "https://localhost:8080/",
          "height": 296
        },
        "id": "8ZU1mN7PMu11",
        "outputId": "a61271a2-cf54-46df-c1b9-249da390d4ba"
      },
      "source": [
        "from sympy.plotting import plot\n",
        "p=plot(mb3d.rhs.subs(kb,8.314).subs(T,298).subs(m,0.004).evalf(),(v,0,5000),show=False)\n",
        "p.extend(plot(mb3d.rhs.subs(kb,8.314).subs(T,298).subs(m,0.040).evalf(),(v,0,5000),show=False,line_color='r'))\n",
        "p.show()\n"
      ],
      "execution_count": 14,
      "outputs": [
        {
          "output_type": "display_data",
          "data": {
            "image/png": "[encoded data removed]",
            "text/plain": [
              "<Figure size 432x288 with 1 Axes>"
            ]
          },
          "metadata": {
            "tags": [],
            "needs_background": "light"
          }
        }
      ]
    },
    {
      "cell_type": "code",
      "metadata": {
        "colab": {
          "base_uri": "https://localhost:8080/",
          "height": 297
        },
        "id": "kVsO8MImeKEn",
        "outputId": "f057de91-37c4-4d99-ae1c-4c3ed2bbe1f5"
      },
      "source": [
        "p1d=plot(mbx.rhs.subs(kb,8.314).subs(T,298).subs(m,0.004).evalf(),(vx,-5000,5000),show=False) # He at 298 K\n",
        "p1d.extend(plot(mbx.rhs.subs(kb,8.314).subs(T,298).subs(m,0.040).evalf(),(vx,-5000,5000),show=False,line_color='r')) # Ar at 298 K\n",
        "p1d.show()"
      ],
      "execution_count": 15,
      "outputs": [
        {
          "output_type": "display_data",
          "data": {
            "image/png": "[encoded data removed]",
            "text/plain": [
              "<Figure size 432x288 with 1 Axes>"
            ]
          },
          "metadata": {
            "tags": [],
            "needs_background": "light"
          }
        }
      ]
    },
    {
      "cell_type": "code",
      "metadata": {
        "id": "cVQJONkIeJzo"
      },
      "source": [
        ""
      ],
      "execution_count": 15,
      "outputs": []
    },
    {
      "cell_type": "markdown",
      "metadata": {
        "id": "JYnl_xTbaXXJ"
      },
      "source": [
        "# Averages\n",
        "Now that we a distribution function that gives the fraction of molecules going each speed, we can use it to get average values."
      ]
    },
    {
      "cell_type": "code",
      "metadata": {
        "colab": {
          "base_uri": "https://localhost:8080/",
          "height": 60
        },
        "id": "wYwkJp6fahG8",
        "outputId": "0875b468-f29e-4d37-c0e8-aa3101dfc664"
      },
      "source": [
        "v_avg=  sp.integrate(mb3d.rhs*v,(v,0,oo)) # average v\n",
        "v_avg"
      ],
      "execution_count": 29,
      "outputs": [
        {
          "output_type": "execute_result",
          "data": {
            "image/png": "[encoded data removed]",
            "text/latex": "$\\displaystyle \\frac{2 \\sqrt{2} \\sqrt{T} \\sqrt{k_{B}}}{\\sqrt{\\pi} \\sqrt{m}}$",
            "text/plain": [
              "          _____\n",
              "2⋅√2⋅√T⋅╲╱ k_B \n",
              "───────────────\n",
              "     √π⋅√m     "
            ]
          },
          "metadata": {
            "tags": []
          },
          "execution_count": 29
        }
      ]
    },
    {
      "cell_type": "code",
      "metadata": {
        "colab": {
          "base_uri": "https://localhost:8080/",
          "height": 51
        },
        "id": "MJFqrkJPaqY_",
        "outputId": "3eeddd2e-5af8-44a8-c0e5-26960eb61efe"
      },
      "source": [
        "sp.integrate(mb3d.rhs*v**2,(v,0,oo)) # average v**2"
      ],
      "execution_count": 17,
      "outputs": [
        {
          "output_type": "execute_result",
          "data": {
            "image/png": "[encoded data removed]",
            "text/latex": "$\\displaystyle \\frac{3 T k_{B}}{m}$",
            "text/plain": [
              "3⋅T⋅k_B\n",
              "───────\n",
              "   m   "
            ]
          },
          "metadata": {
            "tags": []
          },
          "execution_count": 17
        }
      ]
    },
    {
      "cell_type": "code",
      "metadata": {
        "colab": {
          "base_uri": "https://localhost:8080/",
          "height": 67
        },
        "id": "y7oNQBrCaud7",
        "outputId": "720418c1-97ba-4d41-86f8-583f89e48e34"
      },
      "source": [
        "sp.integrate(mb3d.rhs*v**3,(v,0,oo)) # average v**3"
      ],
      "execution_count": 18,
      "outputs": [
        {
          "output_type": "execute_result",
          "data": {
            "image/png": "[encoded data removed]",
            "text/latex": "$\\displaystyle \\frac{8 \\sqrt{2} T^{\\frac{3}{2}} k_{B}^{\\frac{3}{2}}}{\\sqrt{\\pi} m^{\\frac{3}{2}}}$",
            "text/plain": [
              "      3/2    3/2\n",
              "8⋅√2⋅T   ⋅k_B   \n",
              "────────────────\n",
              "        3/2     \n",
              "    √π⋅m        "
            ]
          },
          "metadata": {
            "tags": []
          },
          "execution_count": 18
        }
      ]
    },
    {
      "cell_type": "code",
      "metadata": {
        "colab": {
          "base_uri": "https://localhost:8080/",
          "height": 51
        },
        "id": "g0tOBk16aw-n",
        "outputId": "836a6883-58cf-486c-ed23-3dab455a2208"
      },
      "source": [
        "sp.integrate(mb3d.rhs*m*v**2/2,(v,0,oo)) # average kinetic energy"
      ],
      "execution_count": 19,
      "outputs": [
        {
          "output_type": "execute_result",
          "data": {
            "image/png": "[encoded data removed]",
            "text/latex": "$\\displaystyle \\frac{3 T k_{B}}{2}$",
            "text/plain": [
              "3⋅T⋅k_B\n",
              "───────\n",
              "   2   "
            ]
          },
          "metadata": {
            "tags": []
          },
          "execution_count": 19
        }
      ]
    },
    {
      "cell_type": "code",
      "metadata": {
        "colab": {
          "base_uri": "https://localhost:8080/",
          "height": 36
        },
        "id": "v7tnQVFzbEXh",
        "outputId": "fff850ba-0155-4b15-aa38-fbe768f674c1"
      },
      "source": [
        "vx_avg=sp.integrate(mbx.rhs*vx,(vx,-oo,oo)) # average v on x-axis\n",
        "vx_avg"
      ],
      "execution_count": 20,
      "outputs": [
        {
          "output_type": "execute_result",
          "data": {
            "image/png": "[encoded data removed]",
            "text/latex": "$\\displaystyle 0$",
            "text/plain": [
              "0"
            ]
          },
          "metadata": {
            "tags": []
          },
          "execution_count": 20
        }
      ]
    },
    {
      "cell_type": "code",
      "metadata": {
        "colab": {
          "base_uri": "https://localhost:8080/",
          "height": 60
        },
        "id": "5ihjSie-bLLD",
        "outputId": "43d1e0ba-aea9-4a1d-fbcb-b75bab3d820b"
      },
      "source": [
        "vx_avg_plus=sp.integrate(mbx.rhs*vx,(vx,0,oo)) # average v on + x-axis\n",
        "vx_avg_plus"
      ],
      "execution_count": 24,
      "outputs": [
        {
          "output_type": "execute_result",
          "data": {
            "image/png": "[encoded data removed]",
            "text/latex": "$\\displaystyle \\frac{\\sqrt{2} \\sqrt{T} \\sqrt{k_{B}}}{2 \\sqrt{\\pi} \\sqrt{m}}$",
            "text/plain": [
              "        _____\n",
              "√2⋅√T⋅╲╱ k_B \n",
              "─────────────\n",
              "   2⋅√π⋅√m   "
            ]
          },
          "metadata": {
            "tags": []
          },
          "execution_count": 24
        }
      ]
    },
    {
      "cell_type": "code",
      "metadata": {
        "colab": {
          "base_uri": "https://localhost:8080/",
          "height": 51
        },
        "id": "Y3zbPwC1bPc6",
        "outputId": "98b9aa76-f8ca-4558-ac22-5d8d535b9925"
      },
      "source": [
        "vx_sqrd=sp.integrate(mbx.rhs*vx**2,(vx,-oo,oo)) # average squared on x-axis\n",
        "vx_sqrd"
      ],
      "execution_count": 25,
      "outputs": [
        {
          "output_type": "execute_result",
          "data": {
            "image/png": "[encoded data removed]",
            "text/latex": "$\\displaystyle \\frac{T k_{B}}{m}$",
            "text/plain": [
              "T⋅k_B\n",
              "─────\n",
              "  m  "
            ]
          },
          "metadata": {
            "tags": []
          },
          "execution_count": 25
        }
      ]
    },
    {
      "cell_type": "code",
      "metadata": {
        "colab": {
          "base_uri": "https://localhost:8080/",
          "height": 51
        },
        "id": "EgT4Ls2HcQ0s",
        "outputId": "21ca02ae-1ce6-4983-f13b-d4ea6aa6b1f1"
      },
      "source": [
        "Ek_avg=sp.integrate(mbx.rhs*vx**2*m/2,(vx,-oo,oo)) # average kinetic energy on x-axis\n",
        "Ek_avg"
      ],
      "execution_count": 26,
      "outputs": [
        {
          "output_type": "execute_result",
          "data": {
            "image/png": "[encoded data removed]",
            "text/latex": "$\\displaystyle \\frac{T k_{B}}{2}$",
            "text/plain": [
              "T⋅k_B\n",
              "─────\n",
              "  2  "
            ]
          },
          "metadata": {
            "tags": []
          },
          "execution_count": 26
        }
      ]
    },
    {
      "cell_type": "markdown",
      "metadata": {
        "id": "D0JzNXNXMbrb"
      },
      "source": [
        "# Collision Frequncy\n"
      ]
    },
    {
      "cell_type": "code",
      "metadata": {
        "id": "M7P5Kj14MfaA"
      },
      "source": [
        "cs,V,N1=sp.symbols('sigma, V, N_1',nonnegative=True,real=True)"
      ],
      "execution_count": 30,
      "outputs": []
    },
    {
      "cell_type": "code",
      "metadata": {
        "colab": {
          "base_uri": "https://localhost:8080/",
          "height": 60
        },
        "id": "tO6hRZ22MulI",
        "outputId": "5a3def65-1553-4726-a53c-3401049de454"
      },
      "source": [
        "Z1=cs*v_avg*N1/V\n",
        "Z1"
      ],
      "execution_count": 31,
      "outputs": [
        {
          "output_type": "execute_result",
          "data": {
            "image/png": "[encoded data removed]",
            "text/latex": "$\\displaystyle \\frac{2 \\sqrt{2} N_{1} \\sqrt{T} \\sqrt{k_{B}} \\sigma}{\\sqrt{\\pi} V \\sqrt{m}}$",
            "text/plain": [
              "             _____  \n",
              "2⋅√2⋅N₁⋅√T⋅╲╱ k_B ⋅σ\n",
              "────────────────────\n",
              "      √π⋅V⋅√m       "
            ]
          },
          "metadata": {
            "tags": []
          },
          "execution_count": 31
        }
      ]
    },
    {
      "cell_type": "code",
      "metadata": {
        "colab": {
          "base_uri": "https://localhost:8080/",
          "height": 36
        },
        "id": "p9rVVvwWQBUc",
        "outputId": "65ce687a-c1e9-4dce-bc29-b5e8d6a39d40"
      },
      "source": [
        "round(Z1.subs(N1,6e23).subs(V,.024).subs(T,298).subs(cs,pi*140e-12**2).subs(kb,1.38e-23).subs(m,0.040/6e23).evalf(),2)"
      ],
      "execution_count": 35,
      "outputs": [
        {
          "output_type": "execute_result",
          "data": {
            "image/png": "[encoded data removed]",
            "text/latex": "$\\displaystyle 610111645.46$",
            "text/plain": [
              "610111645.46"
            ]
          },
          "metadata": {
            "tags": []
          },
          "execution_count": 35
        }
      ]
    }
  ]
}