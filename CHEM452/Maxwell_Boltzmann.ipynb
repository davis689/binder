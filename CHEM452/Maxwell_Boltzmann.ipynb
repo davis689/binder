{
  "nbformat": 4,
  "nbformat_minor": 0,
  "metadata": {
    "colab": {
      "name": "Maxwell-Boltzmann.ipynb",
      "provenance": [],
      "collapsed_sections": [],
      "toc_visible": true,
      "authorship_tag": "ABX9TyPlVia8nJgUXBw6O64SL3wH",
      "include_colab_link": true
    },
    "kernelspec": {
      "name": "python3",
      "display_name": "Python 3"
    },
    "language_info": {
      "name": "python"
    }
  },
  "cells": [
    {
      "cell_type": "markdown",
      "metadata": {
        "id": "view-in-github",
        "colab_type": "text"
      },
      "source": [
        "<a href=\"https://colab.research.google.com/github/davis689/binder/blob/master/CHEM452/Maxwell_Boltzmann.ipynb\" target=\"_parent\"><img src=\"https://colab.research.google.com/assets/colab-badge.svg\" alt=\"Open In Colab\"/></a>"
      ]
    },
    {
      "cell_type": "code",
      "metadata": {
        "id": "C7IcEU6Wwecu"
      },
      "source": [
        "import sympy as sp\n",
        "from sympy import oo, exp, sin, pi\n",
        "import matplotlib.pyplot as plt\n",
        "import numpy as np\n",
        "sp.init_printing()\n"
      ],
      "execution_count": 1,
      "outputs": []
    },
    {
      "cell_type": "markdown",
      "metadata": {
        "id": "WN4JK4GXwWeg"
      },
      "source": [
        "# Maxwell-Boltzmann distribution"
      ]
    },
    {
      "cell_type": "code",
      "metadata": {
        "id": "3H_3NQ6awUXN"
      },
      "source": [
        "eps,m,T,K=sp.symbols('varepsilon,m,T,K',positive=True,real=True)\n",
        "vx,vy,vz,fvx,fv=sp.symbols('v_x,v_y,v_z,f_{v_x},f_v',real=True)\n",
        "kb=sp.symbols('k_B',constant=True,positive=True,real=True)"
      ],
      "execution_count": 2,
      "outputs": []
    },
    {
      "cell_type": "code",
      "metadata": {
        "colab": {
          "base_uri": "https://localhost:8080/",
          "height": 40
        },
        "id": "BdJDfQymHlBW",
        "outputId": "ac51dfb5-c1c7-4a8a-ca4b-eaeca1312dc3"
      },
      "source": [
        "mbx=sp.Eq(fvx,K*sp.exp(-eps/kb/T))\n",
        "mbx"
      ],
      "execution_count": 3,
      "outputs": [
        {
          "output_type": "execute_result",
          "data": {
            "image/png": "[encoded data removed]",
            "text/latex": "$\\displaystyle f_{v_x} = K e^{- \\frac{\\varepsilon}{T k_{B}}}$",
            "text/plain": [
              "             -varepsilon \n",
              "             ────────────\n",
              "                T⋅k_B    \n",
              "f_{v_x} = K⋅ℯ            "
            ]
          },
          "metadata": {
            "tags": []
          },
          "execution_count": 3
        }
      ]
    },
    {
      "cell_type": "code",
      "metadata": {
        "colab": {
          "base_uri": "https://localhost:8080/",
          "height": 48
        },
        "id": "HvNX4k-3IYU1",
        "outputId": "ac232bd5-5916-4ae9-d068-9dab28e766fa"
      },
      "source": [
        "mbx=mbx.subs(eps,m*vx**2/2)\n",
        "mbx"
      ],
      "execution_count": 4,
      "outputs": [
        {
          "output_type": "execute_result",
          "data": {
            "image/png": "[encoded data removed]",
            "text/latex": "$\\displaystyle f_{v_x} = K e^{- \\frac{m v_{x}^{2}}{2 T k_{B}}}$",
            "text/plain": [
              "                  2 \n",
              "             -m⋅vₓ  \n",
              "             ───────\n",
              "             2⋅T⋅k_B\n",
              "f_{v_x} = K⋅ℯ       "
            ]
          },
          "metadata": {
            "tags": []
          },
          "execution_count": 4
        }
      ]
    },
    {
      "cell_type": "code",
      "metadata": {
        "colab": {
          "base_uri": "https://localhost:8080/",
          "height": 61
        },
        "id": "9R3DShuwIVaI",
        "outputId": "dc202030-21b1-4f70-d1ad-71a19c305419"
      },
      "source": [
        "norm=sp.solve(sp.integrate(mbx.rhs,(vx,-oo,oo))-1,K)[0] # solve returns a list. There is only one solution so [0] will get it.\n",
        "norm"
      ],
      "execution_count": 5,
      "outputs": [
        {
          "output_type": "execute_result",
          "data": {
            "image/png": "[encoded data removed]",
            "text/latex": "$\\displaystyle \\frac{\\sqrt{2} \\sqrt{m}}{2 \\sqrt{\\pi} \\sqrt{T} \\sqrt{k_{B}}}$",
            "text/plain": [
              "     √2⋅√m     \n",
              "───────────────\n",
              "          _____\n",
              "2⋅√π⋅√T⋅╲╱ k_B "
            ]
          },
          "metadata": {
            "tags": []
          },
          "execution_count": 5
        }
      ]
    },
    {
      "cell_type": "code",
      "metadata": {
        "colab": {
          "base_uri": "https://localhost:8080/",
          "height": 72
        },
        "id": "DgJ2m-2FLXgp",
        "outputId": "d4502a16-18d9-4feb-bb1c-fd55bc5a9560"
      },
      "source": [
        "mbx=mbx.subs(K,norm)\n",
        "mbx"
      ],
      "execution_count": 6,
      "outputs": [
        {
          "output_type": "execute_result",
          "data": {
            "image/png": "[encoded data removed]",
            "text/latex": "$\\displaystyle f_{v_x} = \\frac{\\sqrt{2} \\sqrt{m} e^{- \\frac{m v_{x}^{2}}{2 T k_{B}}}}{2 \\sqrt{\\pi} \\sqrt{T} \\sqrt{k_{B}}}$",
            "text/plain": [
              "                       2 \n",
              "                  -m⋅vₓ  \n",
              "                  ───────\n",
              "                  2⋅T⋅k_B\n",
              "           √2⋅√m⋅ℯ       \n",
              "f_{v_x} = ───────────────\n",
              "                    _____\n",
              "          2⋅√π⋅√T⋅╲╱ k_B "
            ]
          },
          "metadata": {
            "tags": []
          },
          "execution_count": 6
        }
      ]
    },
    {
      "cell_type": "markdown",
      "metadata": {
        "id": "3GM6O0uQ5bgI"
      },
      "source": [
        "Test normalization"
      ]
    },
    {
      "cell_type": "code",
      "metadata": {
        "colab": {
          "base_uri": "https://localhost:8080/",
          "height": 36
        },
        "id": "2DG_oJgczhb_",
        "outputId": "ce1dc6c1-501a-4d4e-cc64-6cd9a717bfc7"
      },
      "source": [
        "sp.integrate(mbx.rhs,(vx,-oo,oo))"
      ],
      "execution_count": 7,
      "outputs": [
        {
          "output_type": "execute_result",
          "data": {
            "image/png": "[encoded data removed]",
            "text/latex": "$\\displaystyle 1$",
            "text/plain": [
              "1"
            ]
          },
          "metadata": {
            "tags": []
          },
          "execution_count": 7
        }
      ]
    },
    {
      "cell_type": "markdown",
      "metadata": {
        "id": "eLh-MVdM6QID"
      },
      "source": [
        "For three dimensions..."
      ]
    },
    {
      "cell_type": "code",
      "metadata": {
        "colab": {
          "base_uri": "https://localhost:8080/",
          "height": 77
        },
        "id": "FhfonGnb5eRB",
        "outputId": "1a554ccc-f85e-4a4b-9ac8-7c4ff70fcb22"
      },
      "source": [
        "mb3d=sp.Eq(fv,mbx.rhs*mbx.subs(vx,vy).rhs*mbx.subs(vx,vz).rhs)\n",
        "mb3d"
      ],
      "execution_count": 8,
      "outputs": [
        {
          "output_type": "execute_result",
          "data": {
            "image/png": "[encoded data removed]",
            "text/latex": "$\\displaystyle f_{v} = \\frac{\\sqrt{2} m^{\\frac{3}{2}} e^{- \\frac{m v_{x}^{2}}{2 T k_{B}}} e^{- \\frac{m v_{y}^{2}}{2 T k_{B}}} e^{- \\frac{m v_{z}^{2}}{2 T k_{B}}}}{4 \\pi^{\\frac{3}{2}} T^{\\frac{3}{2}} k_{B}^{\\frac{3}{2}}}$",
            "text/plain": [
              "                   2         2         2 \n",
              "              -m⋅vₓ    -m⋅v_y    -m⋅v_z  \n",
              "              ───────  ────────  ────────\n",
              "         3/2  2⋅T⋅k_B  2⋅T⋅k_B   2⋅T⋅k_B \n",
              "     √2⋅m   ⋅ℯ       ⋅ℯ        ⋅ℯ        \n",
              "fᵥ = ────────────────────────────────────\n",
              "                 3/2  3/2    3/2         \n",
              "              4⋅π   ⋅T   ⋅k_B            "
            ]
          },
          "metadata": {
            "tags": []
          },
          "execution_count": 8
        }
      ]
    },
    {
      "cell_type": "code",
      "metadata": {
        "colab": {
          "base_uri": "https://localhost:8080/",
          "height": 77
        },
        "id": "AeugUDxCM9s9",
        "outputId": "8f4b171d-f577-455e-cc9c-161e365d7fe2"
      },
      "source": [
        "v=sp.symbols('v',real=True,positive=True)\n",
        "mb3d.subs(vx**2+vy**2+vz**2,v**2)"
      ],
      "execution_count": 9,
      "outputs": [
        {
          "output_type": "execute_result",
          "data": {
            "image/png": "[encoded data removed]",
            "text/latex": "$\\displaystyle f_{v} = \\frac{\\sqrt{2} m^{\\frac{3}{2}} e^{- \\frac{m v_{x}^{2}}{2 T k_{B}}} e^{- \\frac{m v_{y}^{2}}{2 T k_{B}}} e^{- \\frac{m v_{z}^{2}}{2 T k_{B}}}}{4 \\pi^{\\frac{3}{2}} T^{\\frac{3}{2}} k_{B}^{\\frac{3}{2}}}$",
            "text/plain": [
              "                   2         2         2 \n",
              "              -m⋅vₓ    -m⋅v_y    -m⋅v_z  \n",
              "              ───────  ────────  ────────\n",
              "         3/2  2⋅T⋅k_B  2⋅T⋅k_B   2⋅T⋅k_B \n",
              "     √2⋅m   ⋅ℯ       ⋅ℯ        ⋅ℯ        \n",
              "fᵥ = ────────────────────────────────────\n",
              "                 3/2  3/2    3/2         \n",
              "              4⋅π   ⋅T   ⋅k_B            "
            ]
          },
          "metadata": {
            "tags": []
          },
          "execution_count": 9
        }
      ]
    },
    {
      "cell_type": "code",
      "metadata": {
        "colab": {
          "base_uri": "https://localhost:8080/",
          "height": 77
        },
        "id": "CUSPnt2XVjmf",
        "outputId": "a1fc0fe1-e22a-4b40-88a5-3fc98d589341"
      },
      "source": [
        "sp.powsimp(mb3d,force=True)"
      ],
      "execution_count": 10,
      "outputs": [
        {
          "output_type": "execute_result",
          "data": {
            "image/png": "[encoded data removed]",
            "text/latex": "$\\displaystyle f_{v} = \\frac{\\sqrt{2} m^{\\frac{3}{2}} e^{- \\frac{m v_{x}^{2}}{2 T k_{B}}} e^{- \\frac{m v_{y}^{2}}{2 T k_{B}}} e^{- \\frac{m v_{z}^{2}}{2 T k_{B}}}}{4 \\pi^{\\frac{3}{2}} T^{\\frac{3}{2}} k_{B}^{\\frac{3}{2}}}$",
            "text/plain": [
              "                   2         2         2 \n",
              "              -m⋅vₓ    -m⋅v_y    -m⋅v_z  \n",
              "              ───────  ────────  ────────\n",
              "         3/2  2⋅T⋅k_B  2⋅T⋅k_B   2⋅T⋅k_B \n",
              "     √2⋅m   ⋅ℯ       ⋅ℯ        ⋅ℯ        \n",
              "fᵥ = ────────────────────────────────────\n",
              "                 3/2  3/2    3/2         \n",
              "              4⋅π   ⋅T   ⋅k_B            "
            ]
          },
          "metadata": {
            "tags": []
          },
          "execution_count": 10
        }
      ]
    },
    {
      "cell_type": "code",
      "metadata": {
        "colab": {
          "base_uri": "https://localhost:8080/",
          "height": 37
        },
        "id": "JzEjRvGWWJcW",
        "outputId": "ecd3eac5-3fad-4033-c820-4455b035ee09"
      },
      "source": [
        "theta,phi=sp.symbols('theta, phi')\n",
        "sp.integrate(sp.integrate(v**2*sp.sin(theta),(theta,0,sp.pi)),(phi,0,2*sp.pi))"
      ],
      "execution_count": 11,
      "outputs": [
        {
          "output_type": "execute_result",
          "data": {
            "image/png": "[encoded data removed]",
            "text/latex": "$\\displaystyle 4 \\pi v^{2}$",
            "text/plain": [
              "     2\n",
              "4⋅π⋅v "
            ]
          },
          "metadata": {
            "tags": []
          },
          "execution_count": 11
        }
      ]
    },
    {
      "cell_type": "code",
      "metadata": {
        "colab": {
          "base_uri": "https://localhost:8080/",
          "height": 74
        },
        "id": "o92UyePlYAt3",
        "outputId": "5b3c381a-02a6-4105-a94b-5cfdf0773fda"
      },
      "source": [
        "mb3d=sp.Eq(fv,mb3d.rhs.subs(vx,v/sp.sqrt(3)).subs(vy,v/sp.sqrt(3)).subs(vz,v/sp.sqrt(3))*4*sp.pi*v**2)\n",
        "mb3d"
      ],
      "execution_count": 12,
      "outputs": [
        {
          "output_type": "execute_result",
          "data": {
            "image/png": "[encoded data removed]",
            "text/latex": "$\\displaystyle f_{v} = \\frac{\\sqrt{2} m^{\\frac{3}{2}} v^{2} e^{- \\frac{m v^{2}}{2 T k_{B}}}}{\\sqrt{\\pi} T^{\\frac{3}{2}} k_{B}^{\\frac{3}{2}}}$",
            "text/plain": [
              "                      2 \n",
              "                  -m⋅v  \n",
              "                 ───────\n",
              "         3/2  2  2⋅T⋅k_B\n",
              "     √2⋅m   ⋅v ⋅ℯ       \n",
              "fᵥ = ───────────────────\n",
              "            3/2    3/2  \n",
              "        √π⋅T   ⋅k_B     "
            ]
          },
          "metadata": {
            "tags": []
          },
          "execution_count": 12
        }
      ]
    },
    {
      "cell_type": "code",
      "metadata": {
        "colab": {
          "base_uri": "https://localhost:8080/",
          "height": 296
        },
        "id": "8ZU1mN7PMu11",
        "outputId": "9ed02cb7-06ba-4fa4-9394-4847164005b3"
      },
      "source": [
        "from sympy.plotting import plot\n",
        "p=plot(mb3d.rhs.subs(kb,8.314).subs(T,298).subs(m,0.004).evalf(),(v,0,5000),show=False)\n",
        "p.extend(plot(mb3d.rhs.subs(kb,8.314).subs(T,298).subs(m,0.040).evalf(),(v,0,5000),show=False,line_color='r'))\n",
        "p.show()\n"
      ],
      "execution_count": 13,
      "outputs": [
        {
          "output_type": "display_data",
          "data": {
            "image/png": "[encoded data removed]",
            "text/plain": [
              "<Figure size 432x288 with 1 Axes>"
            ]
          },
          "metadata": {
            "tags": [],
            "needs_background": "light"
          }
        }
      ]
    },
    {
      "cell_type": "code",
      "metadata": {
        "colab": {
          "base_uri": "https://localhost:8080/",
          "height": 297
        },
        "id": "kVsO8MImeKEn",
        "outputId": "6a6951c5-cd10-4660-8c45-4c4d731c5e69"
      },
      "source": [
        "p1d=plot(mbx.rhs.subs(kb,8.314).subs(T,298).subs(m,0.004).evalf(),(vx,-5000,5000),show=False) # He at 298 K\n",
        "p1d.extend(plot(mbx.rhs.subs(kb,8.314).subs(T,298).subs(m,0.040).evalf(),(vx,-5000,5000),show=False,line_color='r')) # Ar at 298 K\n",
        "p1d.show()"
      ],
      "execution_count": 14,
      "outputs": [
        {
          "output_type": "display_data",
          "data": {
            "image/png": "[encoded data removed]",
            "text/plain": [
              "<Figure size 432x288 with 1 Axes>"
            ]
          },
          "metadata": {
            "tags": [],
            "needs_background": "light"
          }
        }
      ]
    },
    {
      "cell_type": "code",
      "metadata": {
        "id": "cVQJONkIeJzo"
      },
      "source": [
        ""
      ],
      "execution_count": 14,
      "outputs": []
    },
    {
      "cell_type": "markdown",
      "metadata": {
        "id": "JYnl_xTbaXXJ"
      },
      "source": [
        "# Averages\n",
        "Now that we a distribution function that gives the fraction of molecules going each speed, we can use it to get average values."
      ]
    },
    {
      "cell_type": "code",
      "metadata": {
        "colab": {
          "base_uri": "https://localhost:8080/",
          "height": 60
        },
        "id": "wYwkJp6fahG8",
        "outputId": "a3a893e0-4661-4863-99d1-a58ca3710360"
      },
      "source": [
        "v_avg=  sp.integrate(mb3d.rhs*v,(v,0,oo)) # average v\n",
        "v_avg"
      ],
      "execution_count": 15,
      "outputs": [
        {
          "output_type": "execute_result",
          "data": {
            "image/png": "[encoded data removed]",
            "text/latex": "$\\displaystyle \\frac{2 \\sqrt{2} \\sqrt{T} \\sqrt{k_{B}}}{\\sqrt{\\pi} \\sqrt{m}}$",
            "text/plain": [
              "          _____\n",
              "2⋅√2⋅√T⋅╲╱ k_B \n",
              "───────────────\n",
              "     √π⋅√m     "
            ]
          },
          "metadata": {
            "tags": []
          },
          "execution_count": 15
        }
      ]
    },
    {
      "cell_type": "code",
      "metadata": {
        "colab": {
          "base_uri": "https://localhost:8080/",
          "height": 51
        },
        "id": "MJFqrkJPaqY_",
        "outputId": "294329e8-23c2-4f18-bd72-e8e2b7dece5c"
      },
      "source": [
        "sp.integrate(mb3d.rhs*v**2,(v,0,oo)) # average v**2"
      ],
      "execution_count": 16,
      "outputs": [
        {
          "output_type": "execute_result",
          "data": {
            "image/png": "[encoded data removed]",
            "text/latex": "$\\displaystyle \\frac{3 T k_{B}}{m}$",
            "text/plain": [
              "3⋅T⋅k_B\n",
              "───────\n",
              "   m   "
            ]
          },
          "metadata": {
            "tags": []
          },
          "execution_count": 16
        }
      ]
    },
    {
      "cell_type": "code",
      "metadata": {
        "colab": {
          "base_uri": "https://localhost:8080/",
          "height": 67
        },
        "id": "y7oNQBrCaud7",
        "outputId": "ac63c7a1-3d9a-4e79-9fc3-98a6bdd36b16"
      },
      "source": [
        "sp.integrate(mb3d.rhs*v**3,(v,0,oo)) # average v**3"
      ],
      "execution_count": 17,
      "outputs": [
        {
          "output_type": "execute_result",
          "data": {
            "image/png": "[encoded data removed]",
            "text/latex": "$\\displaystyle \\frac{8 \\sqrt{2} T^{\\frac{3}{2}} k_{B}^{\\frac{3}{2}}}{\\sqrt{\\pi} m^{\\frac{3}{2}}}$",
            "text/plain": [
              "      3/2    3/2\n",
              "8⋅√2⋅T   ⋅k_B   \n",
              "────────────────\n",
              "        3/2     \n",
              "    √π⋅m        "
            ]
          },
          "metadata": {
            "tags": []
          },
          "execution_count": 17
        }
      ]
    },
    {
      "cell_type": "code",
      "metadata": {
        "colab": {
          "base_uri": "https://localhost:8080/",
          "height": 51
        },
        "id": "g0tOBk16aw-n",
        "outputId": "fe761076-0a25-4550-e0b1-87befaefc54d"
      },
      "source": [
        "sp.integrate(mb3d.rhs*m*v**2/2,(v,0,oo)) # average kinetic energy"
      ],
      "execution_count": 18,
      "outputs": [
        {
          "output_type": "execute_result",
          "data": {
            "image/png": "[encoded data removed]",
            "text/latex": "$\\displaystyle \\frac{3 T k_{B}}{2}$",
            "text/plain": [
              "3⋅T⋅k_B\n",
              "───────\n",
              "   2   "
            ]
          },
          "metadata": {
            "tags": []
          },
          "execution_count": 18
        }
      ]
    },
    {
      "cell_type": "code",
      "metadata": {
        "colab": {
          "base_uri": "https://localhost:8080/",
          "height": 36
        },
        "id": "v7tnQVFzbEXh",
        "outputId": "2b54272e-529c-4df5-d770-b08f5dacba54"
      },
      "source": [
        "vx_avg=sp.integrate(mbx.rhs*vx,(vx,-oo,oo)) # average v on x-axis\n",
        "vx_avg"
      ],
      "execution_count": 19,
      "outputs": [
        {
          "output_type": "execute_result",
          "data": {
            "image/png": "[encoded data removed]",
            "text/latex": "$\\displaystyle 0$",
            "text/plain": [
              "0"
            ]
          },
          "metadata": {
            "tags": []
          },
          "execution_count": 19
        }
      ]
    },
    {
      "cell_type": "code",
      "metadata": {
        "colab": {
          "base_uri": "https://localhost:8080/",
          "height": 60
        },
        "id": "5ihjSie-bLLD",
        "outputId": "143e65fb-9d29-49dc-873d-4718b444a508"
      },
      "source": [
        "vx_avg_plus=sp.integrate(mbx.rhs*vx,(vx,0,oo)) # average v on + x-axis\n",
        "vx_avg_plus"
      ],
      "execution_count": 20,
      "outputs": [
        {
          "output_type": "execute_result",
          "data": {
            "image/png": "[encoded data removed]",
            "text/latex": "$\\displaystyle \\frac{\\sqrt{2} \\sqrt{T} \\sqrt{k_{B}}}{2 \\sqrt{\\pi} \\sqrt{m}}$",
            "text/plain": [
              "        _____\n",
              "√2⋅√T⋅╲╱ k_B \n",
              "─────────────\n",
              "   2⋅√π⋅√m   "
            ]
          },
          "metadata": {
            "tags": []
          },
          "execution_count": 20
        }
      ]
    },
    {
      "cell_type": "code",
      "metadata": {
        "colab": {
          "base_uri": "https://localhost:8080/",
          "height": 51
        },
        "id": "Y3zbPwC1bPc6",
        "outputId": "64716f0b-8320-4fe3-aa38-f97e8301e070"
      },
      "source": [
        "vx_sqrd=sp.integrate(mbx.rhs*vx**2,(vx,-oo,oo)) # average squared on x-axis\n",
        "vx_sqrd"
      ],
      "execution_count": 21,
      "outputs": [
        {
          "output_type": "execute_result",
          "data": {
            "image/png": "[encoded data removed]",
            "text/latex": "$\\displaystyle \\frac{T k_{B}}{m}$",
            "text/plain": [
              "T⋅k_B\n",
              "─────\n",
              "  m  "
            ]
          },
          "metadata": {
            "tags": []
          },
          "execution_count": 21
        }
      ]
    },
    {
      "cell_type": "code",
      "metadata": {
        "colab": {
          "base_uri": "https://localhost:8080/",
          "height": 51
        },
        "id": "EgT4Ls2HcQ0s",
        "outputId": "30779542-4611-49c2-9c0e-03c2290a3c19"
      },
      "source": [
        "Ek_avg=sp.integrate(mbx.rhs*vx**2*m/2,(vx,-oo,oo)) # average kinetic energy on x-axis\n",
        "Ek_avg"
      ],
      "execution_count": 22,
      "outputs": [
        {
          "output_type": "execute_result",
          "data": {
            "image/png": "[encoded data removed]",
            "text/latex": "$\\displaystyle \\frac{T k_{B}}{2}$",
            "text/plain": [
              "T⋅k_B\n",
              "─────\n",
              "  2  "
            ]
          },
          "metadata": {
            "tags": []
          },
          "execution_count": 22
        }
      ]
    },
    {
      "cell_type": "markdown",
      "metadata": {
        "id": "D0JzNXNXMbrb"
      },
      "source": [
        "# Collision Frequncy\n"
      ]
    },
    {
      "cell_type": "code",
      "metadata": {
        "id": "M7P5Kj14MfaA"
      },
      "source": [
        "cs,V,N1,N2=sp.symbols('sigma, V, N_1,N_2',nonnegative=True,real=True)"
      ],
      "execution_count": 23,
      "outputs": []
    },
    {
      "cell_type": "code",
      "metadata": {
        "colab": {
          "base_uri": "https://localhost:8080/",
          "height": 60
        },
        "id": "tO6hRZ22MulI",
        "outputId": "4a11c2f1-12c0-4b61-e8c0-08ddabc363a5"
      },
      "source": [
        "Z1=cs*v_avg*N1/V\n",
        "Z1"
      ],
      "execution_count": 24,
      "outputs": [
        {
          "output_type": "execute_result",
          "data": {
            "image/png": "[encoded data removed]",
            "text/latex": "$\\displaystyle \\frac{2 \\sqrt{2} N_{1} \\sqrt{T} \\sqrt{k_{B}} \\sigma}{\\sqrt{\\pi} V \\sqrt{m}}$",
            "text/plain": [
              "             _____  \n",
              "2⋅√2⋅N₁⋅√T⋅╲╱ k_B ⋅σ\n",
              "────────────────────\n",
              "      √π⋅V⋅√m       "
            ]
          },
          "metadata": {
            "tags": []
          },
          "execution_count": 24
        }
      ]
    },
    {
      "cell_type": "code",
      "metadata": {
        "colab": {
          "base_uri": "https://localhost:8080/",
          "height": 36
        },
        "id": "p9rVVvwWQBUc",
        "outputId": "b201b970-2455-429b-f5da-a2a260765e0e"
      },
      "source": [
        "round(Z1.subs(N1,6e23).subs(V,.024).subs(T,298).subs(cs,pi*140e-12**2).subs(kb,1.38e-23).subs(m,0.040/6e23).evalf(),2)"
      ],
      "execution_count": 25,
      "outputs": [
        {
          "output_type": "execute_result",
          "data": {
            "image/png": "[encoded data removed]",
            "text/latex": "$\\displaystyle 610111645.46$",
            "text/plain": [
              "610111645.46"
            ]
          },
          "metadata": {
            "tags": []
          },
          "execution_count": 25
        }
      ]
    },
    {
      "cell_type": "code",
      "metadata": {
        "colab": {
          "base_uri": "https://localhost:8080/",
          "height": 60
        },
        "id": "JOBQLG1Mo9xe",
        "outputId": "7401fd08-745b-4218-f03f-154159e8e68c"
      },
      "source": [
        "Z2=cs*v_avg*N2/V\n",
        "Z2"
      ],
      "execution_count": 26,
      "outputs": [
        {
          "output_type": "execute_result",
          "data": {
            "image/png": "[encoded data removed]",
            "text/latex": "$\\displaystyle \\frac{2 \\sqrt{2} N_{2} \\sqrt{T} \\sqrt{k_{B}} \\sigma}{\\sqrt{\\pi} V \\sqrt{m}}$",
            "text/plain": [
              "             _____  \n",
              "2⋅√2⋅N₂⋅√T⋅╲╱ k_B ⋅σ\n",
              "────────────────────\n",
              "      √π⋅V⋅√m       "
            ]
          },
          "metadata": {
            "tags": []
          },
          "execution_count": 26
        }
      ]
    },
    {
      "cell_type": "code",
      "metadata": {
        "colab": {
          "base_uri": "https://localhost:8080/",
          "height": 36
        },
        "id": "Zcwin6jMoqIA",
        "outputId": "afb08c03-d632-41e9-b17f-64beb2ec87be"
      },
      "source": [
        "round(Z2.subs(N2,6e23).subs(V,.024).subs(T,298).subs(cs,pi*140e-12**2).subs(kb,1.38e-23).subs(m,0.040/6e23).evalf(),2)"
      ],
      "execution_count": 27,
      "outputs": [
        {
          "output_type": "execute_result",
          "data": {
            "image/png": "[encoded data removed]",
            "text/latex": "$\\displaystyle 610111645.46$",
            "text/plain": [
              "610111645.46"
            ]
          },
          "metadata": {
            "tags": []
          },
          "execution_count": 27
        }
      ]
    },
    {
      "cell_type": "code",
      "metadata": {
        "colab": {
          "base_uri": "https://localhost:8080/",
          "height": 36
        },
        "id": "nPiOnwHSpLlh",
        "outputId": "a65f40dc-317c-48a5-c775-242b84c47e4c"
      },
      "source": [
        "vr=v_avg*sp.integrate(sp.cos(theta),(theta,0,2*pi))\n",
        "vr"
      ],
      "execution_count": 28,
      "outputs": [
        {
          "output_type": "execute_result",
          "data": {
            "image/png": "[encoded data removed]",
            "text/latex": "$\\displaystyle 0$",
            "text/plain": [
              "0"
            ]
          },
          "metadata": {
            "tags": []
          },
          "execution_count": 28
        }
      ]
    },
    {
      "cell_type": "markdown",
      "metadata": {
        "id": "LgzDGTuvA2pL"
      },
      "source": [
        "It's actually not the average velocity that we want in this application. We need the average *relative* velocity. The average relative velocity is the difference between the velocity vectors of the two molecules. $\\vec{v_{rel}}=\\vec{v_1}-\\vec{v_2}$ The magnitude of the relative velocity can be obtained from the dot product of the relative velocity with itself. $$v_{rel}=\\sqrt{\\vec{v_{rel}}\\cdot\\vec{v_{rel}}}=\\sqrt{\\left(\\vec{v_1}-\\vec{v_2}\\right)\\cdot\\left(\\vec{v_1}-\\vec{v_2}\\right)}=\\sqrt{\\vec{v_1}^2-2\\vec{v_1}\\cdot\\vec{v_2}+\\vec{v_2}^2}$$\n",
        "For random, uncorrelated velocity vectors, the $\\vec{v_1}\\cdot\\vec{v_2}=0$ so $$\\vec{v_{rel}}=\\sqrt{\\vec{v_1}^2+\\vec{v_2}^2}$$  Since the two velocity vectors are the same $$\\vec{v_{rel}}=\\sqrt{2\\vec{v_1}^2}=\\sqrt{2}\\left<v\\right>$$"
      ]
    },
    {
      "cell_type": "code",
      "metadata": {
        "colab": {
          "base_uri": "https://localhost:8080/",
          "height": 60
        },
        "id": "FSMuVSwxA1Do",
        "outputId": "384b86cf-1a5d-4e48-b69a-d71533a083f2"
      },
      "source": [
        "Z1=cs*v_avg*N1/V*sp.sqrt(2)\n",
        "Z1"
      ],
      "execution_count": 29,
      "outputs": [
        {
          "output_type": "execute_result",
          "data": {
            "image/png": "[encoded data removed]",
            "text/latex": "$\\displaystyle \\frac{4 N_{1} \\sqrt{T} \\sqrt{k_{B}} \\sigma}{\\sqrt{\\pi} V \\sqrt{m}}$",
            "text/plain": [
              "          _____  \n",
              "4⋅N₁⋅√T⋅╲╱ k_B ⋅σ\n",
              "─────────────────\n",
              "     √π⋅V⋅√m     "
            ]
          },
          "metadata": {
            "tags": []
          },
          "execution_count": 29
        }
      ]
    },
    {
      "cell_type": "code",
      "metadata": {
        "colab": {
          "base_uri": "https://localhost:8080/",
          "height": 60
        },
        "id": "aAoEO2n9KdRj",
        "outputId": "64d8c42c-35f9-44dc-9460-d9cb55047430"
      },
      "source": [
        "Z2=cs*v_avg*N2/V*sp.sqrt(2)\n",
        "Z2"
      ],
      "execution_count": 30,
      "outputs": [
        {
          "output_type": "execute_result",
          "data": {
            "image/png": "[encoded data removed]",
            "text/latex": "$\\displaystyle \\frac{4 N_{2} \\sqrt{T} \\sqrt{k_{B}} \\sigma}{\\sqrt{\\pi} V \\sqrt{m}}$",
            "text/plain": [
              "          _____  \n",
              "4⋅N₂⋅√T⋅╲╱ k_B ⋅σ\n",
              "─────────────────\n",
              "     √π⋅V⋅√m     "
            ]
          },
          "metadata": {
            "tags": []
          },
          "execution_count": 30
        }
      ]
    },
    {
      "cell_type": "code",
      "metadata": {
        "colab": {
          "base_uri": "https://localhost:8080/"
        },
        "id": "K2aLfWTuKjc-",
        "outputId": "85907bd9-b95b-49cf-eb87-76cd4dd19b10"
      },
      "source": [
        "print(round(Z2.subs(N2,6e23).subs(V,.024).subs(T,298).subs(cs,pi*140e-12**2).subs(kb,1.38e-23).subs(m,0.040/6e23).evalf(),2),\"1/s\")"
      ],
      "execution_count": 31,
      "outputs": [
        {
          "output_type": "stream",
          "text": [
            "862828163.58 1/s\n"
          ],
          "name": "stdout"
        }
      ]
    },
    {
      "cell_type": "code",
      "metadata": {
        "colab": {
          "base_uri": "https://localhost:8080/",
          "height": 60
        },
        "id": "drzeJ9u3KyQc",
        "outputId": "1bec788f-f6f2-4543-bbb3-a22191fcaa81"
      },
      "source": [
        "Z11=N1/V*Z1/2\n",
        "Z11"
      ],
      "execution_count": 32,
      "outputs": [
        {
          "output_type": "execute_result",
          "data": {
            "image/png": "[encoded data removed]",
            "text/latex": "$\\displaystyle \\frac{2 N_{1}^{2} \\sqrt{T} \\sqrt{k_{B}} \\sigma}{\\sqrt{\\pi} V^{2} \\sqrt{m}}$",
            "text/plain": [
              "    2      _____  \n",
              "2⋅N₁ ⋅√T⋅╲╱ k_B ⋅σ\n",
              "──────────────────\n",
              "         2        \n",
              "     √π⋅V ⋅√m     "
            ]
          },
          "metadata": {
            "tags": []
          },
          "execution_count": 32
        }
      ]
    },
    {
      "cell_type": "code",
      "metadata": {
        "colab": {
          "base_uri": "https://localhost:8080/"
        },
        "id": "o0Bbd4N_K5hB",
        "outputId": "7866c77f-1d91-4281-ff98-5e2cd3646fb7"
      },
      "source": [
        "print(round(Z11.subs(N2,6e23).subs(N1,6e23).subs(V,.024).subs(T,298).subs(cs,pi*140e-12**2).subs(kb,1.38e-23).subs(m,0.040/6e23).evalf(),2),\"1/s\")"
      ],
      "execution_count": 33,
      "outputs": [
        {
          "output_type": "stream",
          "text": [
            "1.07853520447277e+34 1/s\n"
          ],
          "name": "stdout"
        }
      ]
    },
    {
      "cell_type": "markdown",
      "metadata": {
        "id": "O6hmqC-feQcE"
      },
      "source": [
        "# Mean Free Path"
      ]
    },
    {
      "cell_type": "code",
      "metadata": {
        "colab": {
          "base_uri": "https://localhost:8080/",
          "height": 58
        },
        "id": "uiuj6QnUeYbh",
        "outputId": "685ff46b-d3e1-4a5e-818f-d116858f8513"
      },
      "source": [
        "mfp,p1=sp.symbols('lambda,p_1')\n",
        "expr2=sp.Eq(mfp,v_avg/Z1)\n",
        "expr2.subs(V/N1,kb*T/p1)"
      ],
      "execution_count": 36,
      "outputs": [
        {
          "output_type": "execute_result",
          "data": {
            "image/png": "[encoded data removed]",
            "text/latex": "$\\displaystyle \\lambda = \\frac{\\sqrt{2} T k_{B}}{2 p_{1} \\sigma}$",
            "text/plain": [
              "    √2⋅T⋅k_B\n",
              "λ = ────────\n",
              "     2⋅p₁⋅σ "
            ]
          },
          "metadata": {
            "tags": []
          },
          "execution_count": 36
        }
      ]
    },
    {
      "cell_type": "code",
      "metadata": {
        "colab": {
          "base_uri": "https://localhost:8080/",
          "height": 37
        },
        "id": "vqIPLRW_hF4i",
        "outputId": "bfadd5c5-bfea-4afd-aad6-909fe34199d6"
      },
      "source": [
        "sp.Eq(mfp,expr2.rhs.subs(V/N1,kb*T/p1).subs(T,298).subs(p1,100000).subs(kb,1.38e-23).subs(cs,pi*140e-12**2).evalf())"
      ],
      "execution_count": 40,
      "outputs": [
        {
          "output_type": "execute_result",
          "data": {
            "image/png": "[encoded data removed]",
            "text/latex": "$\\displaystyle \\lambda = 4.72252655429143 \\cdot 10^{-7}$",
            "text/plain": [
              "λ = 4.72252655429143e-7"
            ]
          },
          "metadata": {
            "tags": []
          },
          "execution_count": 40
        }
      ]
    }
  ]
}