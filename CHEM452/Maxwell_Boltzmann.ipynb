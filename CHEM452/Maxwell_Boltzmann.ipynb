{
  "nbformat": 4,
  "nbformat_minor": 0,
  "metadata": {
    "colab": {
      "name": "Maxwell-Boltzmann.ipynb",
      "provenance": [],
      "collapsed_sections": [],
      "toc_visible": true,
      "authorship_tag": "ABX9TyPiGLGW8QFB4dY+FE6eo6Qj",
      "include_colab_link": true
    },
    "kernelspec": {
      "name": "python3",
      "display_name": "Python 3"
    },
    "language_info": {
      "name": "python"
    }
  },
  "cells": [
    {
      "cell_type": "markdown",
      "metadata": {
        "id": "view-in-github",
        "colab_type": "text"
      },
      "source": [
        "<a href=\"https://colab.research.google.com/github/davis689/binder/blob/master/CHEM452/Maxwell_Boltzmann.ipynb\" target=\"_parent\"><img src=\"https://colab.research.google.com/assets/colab-badge.svg\" alt=\"Open In Colab\"/></a>"
      ]
    },
    {
      "cell_type": "code",
      "metadata": {
        "id": "C7IcEU6Wwecu"
      },
      "source": [
        "import sympy as sp\n",
        "from sympy import oo, exp, sin, pi\n",
        "import matplotlib.pyplot as plt\n",
        "import numpy as np\n",
        "sp.init_printing()\n"
      ],
      "execution_count": 142,
      "outputs": []
    },
    {
      "cell_type": "markdown",
      "metadata": {
        "id": "WN4JK4GXwWeg"
      },
      "source": [
        "# Maxwell-Boltzmann distribution"
      ]
    },
    {
      "cell_type": "code",
      "metadata": {
        "id": "3H_3NQ6awUXN"
      },
      "source": [
        "eps,m,T,K=sp.symbols('varepsilon,m,T,K',positive=True,real=True)\n",
        "vx,vy,vz,fvx,fv=sp.symbols('v_x,v_y,v_z,f_{v_x},f_v',real=True)\n",
        "kb=sp.symbols('k_B',constant=True,positive=True,real=True)"
      ],
      "execution_count": 101,
      "outputs": []
    },
    {
      "cell_type": "code",
      "metadata": {
        "colab": {
          "base_uri": "https://localhost:8080/",
          "height": 40
        },
        "id": "BdJDfQymHlBW",
        "outputId": "7d51ecc8-8f6d-4d35-a221-42e6aaa08ff3"
      },
      "source": [
        "mbx=sp.Eq(fvx,K*sp.exp(-eps/kb/T))\n",
        "mbx"
      ],
      "execution_count": 102,
      "outputs": [
        {
          "output_type": "execute_result",
          "data": {
            "image/png": "[encoded data removed]",
            "text/latex": "$\\displaystyle f_{v_x} = K e^{- \\frac{\\varepsilon}{T k_{B}}}$",
            "text/plain": [
              "             -varepsilon \n",
              "             ────────────\n",
              "                T⋅k_B    \n",
              "f_{v_x} = K⋅ℯ            "
            ]
          },
          "metadata": {
            "tags": []
          },
          "execution_count": 102
        }
      ]
    },
    {
      "cell_type": "code",
      "metadata": {
        "colab": {
          "base_uri": "https://localhost:8080/",
          "height": 48
        },
        "id": "HvNX4k-3IYU1",
        "outputId": "6a08268b-f649-4f52-de8f-1805284bc191"
      },
      "source": [
        "mbx=mbx.subs(eps,m*vx**2/2)\n",
        "mbx"
      ],
      "execution_count": 103,
      "outputs": [
        {
          "output_type": "execute_result",
          "data": {
            "image/png": "[encoded data removed]",
            "text/latex": "$\\displaystyle f_{v_x} = K e^{- \\frac{m v_{x}^{2}}{2 T k_{B}}}$",
            "text/plain": [
              "                  2 \n",
              "             -m⋅vₓ  \n",
              "             ───────\n",
              "             2⋅T⋅k_B\n",
              "f_{v_x} = K⋅ℯ       "
            ]
          },
          "metadata": {
            "tags": []
          },
          "execution_count": 103
        }
      ]
    },
    {
      "cell_type": "code",
      "metadata": {
        "colab": {
          "base_uri": "https://localhost:8080/",
          "height": 61
        },
        "id": "9R3DShuwIVaI",
        "outputId": "ffdc1f79-6067-48e8-b1ca-e70ad85f3276"
      },
      "source": [
        "norm=sp.solve(sp.integrate(mbx.rhs,(vx,-oo,oo))-1,K)[0] # solve returns a list. There is only one solution so [0] will get it.\n",
        "norm"
      ],
      "execution_count": 104,
      "outputs": [
        {
          "output_type": "execute_result",
          "data": {
            "image/png": "[encoded data removed]",
            "text/latex": "$\\displaystyle \\frac{\\sqrt{2} \\sqrt{m}}{2 \\sqrt{\\pi} \\sqrt{T} \\sqrt{k_{B}}}$",
            "text/plain": [
              "     √2⋅√m     \n",
              "───────────────\n",
              "          _____\n",
              "2⋅√π⋅√T⋅╲╱ k_B "
            ]
          },
          "metadata": {
            "tags": []
          },
          "execution_count": 104
        }
      ]
    },
    {
      "cell_type": "code",
      "metadata": {
        "colab": {
          "base_uri": "https://localhost:8080/",
          "height": 72
        },
        "id": "DgJ2m-2FLXgp",
        "outputId": "015d1ec3-b270-497a-88f7-3c3c56ff5e6e"
      },
      "source": [
        "mbx=mbx.subs(K,norm)\n",
        "mbx"
      ],
      "execution_count": 131,
      "outputs": [
        {
          "output_type": "execute_result",
          "data": {
            "image/png": "[encoded data removed]",
            "text/latex": "$\\displaystyle f_{v_x} = \\frac{\\sqrt{2} \\sqrt{m} e^{- \\frac{m v_{x}^{2}}{2 T k_{B}}}}{2 \\sqrt{\\pi} \\sqrt{T} \\sqrt{k_{B}}}$",
            "text/plain": [
              "                       2 \n",
              "                  -m⋅vₓ  \n",
              "                  ───────\n",
              "                  2⋅T⋅k_B\n",
              "           √2⋅√m⋅ℯ       \n",
              "f_{v_x} = ───────────────\n",
              "                    _____\n",
              "          2⋅√π⋅√T⋅╲╱ k_B "
            ]
          },
          "metadata": {
            "tags": []
          },
          "execution_count": 131
        }
      ]
    },
    {
      "cell_type": "markdown",
      "metadata": {
        "id": "3GM6O0uQ5bgI"
      },
      "source": [
        "Test normalization"
      ]
    },
    {
      "cell_type": "code",
      "metadata": {
        "colab": {
          "base_uri": "https://localhost:8080/",
          "height": 36
        },
        "id": "2DG_oJgczhb_",
        "outputId": "ed55b574-4fb7-40b8-96f4-dbe07ca2796d"
      },
      "source": [
        "sp.integrate(mbx.rhs,(vx,-oo,oo))"
      ],
      "execution_count": 141,
      "outputs": [
        {
          "output_type": "execute_result",
          "data": {
            "image/png": "[encoded data removed]",
            "text/latex": "$\\displaystyle 1$",
            "text/plain": [
              "1"
            ]
          },
          "metadata": {
            "tags": []
          },
          "execution_count": 141
        }
      ]
    },
    {
      "cell_type": "markdown",
      "metadata": {
        "id": "eLh-MVdM6QID"
      },
      "source": [
        "For three dimensions..."
      ]
    },
    {
      "cell_type": "code",
      "metadata": {
        "colab": {
          "base_uri": "https://localhost:8080/",
          "height": 77
        },
        "id": "FhfonGnb5eRB",
        "outputId": "95d35277-8508-4965-fa88-6c2a1a4c6c2e"
      },
      "source": [
        "mb3d=sp.Eq(fv,mbx.rhs*mbx.subs(vx,vy).rhs*mbx.subs(vx,vz).rhs)\n",
        "mb3d"
      ],
      "execution_count": 113,
      "outputs": [
        {
          "output_type": "execute_result",
          "data": {
            "image/png": "[encoded data removed]",
            "text/latex": "$\\displaystyle f_{v} = \\frac{\\sqrt{2} m^{\\frac{3}{2}} e^{- \\frac{m v_{x}^{2}}{2 T k_{B}}} e^{- \\frac{m v_{y}^{2}}{2 T k_{B}}} e^{- \\frac{m v_{z}^{2}}{2 T k_{B}}}}{4 \\pi^{\\frac{3}{2}} T^{\\frac{3}{2}} k_{B}^{\\frac{3}{2}}}$",
            "text/plain": [
              "                   2         2         2 \n",
              "              -m⋅vₓ    -m⋅v_y    -m⋅v_z  \n",
              "              ───────  ────────  ────────\n",
              "         3/2  2⋅T⋅k_B  2⋅T⋅k_B   2⋅T⋅k_B \n",
              "     √2⋅m   ⋅ℯ       ⋅ℯ        ⋅ℯ        \n",
              "fᵥ = ────────────────────────────────────\n",
              "                 3/2  3/2    3/2         \n",
              "              4⋅π   ⋅T   ⋅k_B            "
            ]
          },
          "metadata": {
            "tags": []
          },
          "execution_count": 113
        }
      ]
    },
    {
      "cell_type": "code",
      "metadata": {
        "colab": {
          "base_uri": "https://localhost:8080/",
          "height": 77
        },
        "id": "AeugUDxCM9s9",
        "outputId": "785aee64-7e51-44f7-e3d4-15d0f1c341d4"
      },
      "source": [
        "v=sp.symbols('v',real=True,positive=True)\n",
        "mb3d.subs(vx**2+vy**2+vz**2,v**2)"
      ],
      "execution_count": 114,
      "outputs": [
        {
          "output_type": "execute_result",
          "data": {
            "image/png": "[encoded data removed]",
            "text/latex": "$\\displaystyle f_{v} = \\frac{\\sqrt{2} m^{\\frac{3}{2}} e^{- \\frac{m v_{x}^{2}}{2 T k_{B}}} e^{- \\frac{m v_{y}^{2}}{2 T k_{B}}} e^{- \\frac{m v_{z}^{2}}{2 T k_{B}}}}{4 \\pi^{\\frac{3}{2}} T^{\\frac{3}{2}} k_{B}^{\\frac{3}{2}}}$",
            "text/plain": [
              "                   2         2         2 \n",
              "              -m⋅vₓ    -m⋅v_y    -m⋅v_z  \n",
              "              ───────  ────────  ────────\n",
              "         3/2  2⋅T⋅k_B  2⋅T⋅k_B   2⋅T⋅k_B \n",
              "     √2⋅m   ⋅ℯ       ⋅ℯ        ⋅ℯ        \n",
              "fᵥ = ────────────────────────────────────\n",
              "                 3/2  3/2    3/2         \n",
              "              4⋅π   ⋅T   ⋅k_B            "
            ]
          },
          "metadata": {
            "tags": []
          },
          "execution_count": 114
        }
      ]
    },
    {
      "cell_type": "code",
      "metadata": {
        "id": "CUSPnt2XVjmf"
      },
      "source": [
        "sp.powsimp(mb3d,force=True)"
      ],
      "execution_count": null,
      "outputs": []
    },
    {
      "cell_type": "code",
      "metadata": {
        "colab": {
          "base_uri": "https://localhost:8080/",
          "height": 37
        },
        "id": "JzEjRvGWWJcW",
        "outputId": "ca2c5c87-bc74-4cf7-aaf5-fb712ed3a33b"
      },
      "source": [
        "theta,phi=sp.symbols('theta, phi')\n",
        "sp.integrate(sp.integrate(v**2*sp.sin(theta),(theta,0,sp.pi)),(phi,0,2*sp.pi))"
      ],
      "execution_count": 110,
      "outputs": [
        {
          "output_type": "execute_result",
          "data": {
            "image/png": "[encoded data removed]",
            "text/latex": "$\\displaystyle 4 \\pi v^{2}$",
            "text/plain": [
              "     2\n",
              "4⋅π⋅v "
            ]
          },
          "metadata": {
            "tags": []
          },
          "execution_count": 110
        }
      ]
    },
    {
      "cell_type": "code",
      "metadata": {
        "colab": {
          "base_uri": "https://localhost:8080/",
          "height": 74
        },
        "id": "o92UyePlYAt3",
        "outputId": "55df6680-ddf8-4ceb-ab6a-419198fe4821"
      },
      "source": [
        "mb3d=sp.Eq(fv,mb3d.rhs.subs(vx,v/sp.sqrt(3)).subs(vy,v/sp.sqrt(3)).subs(vz,v/sp.sqrt(3))*4*sp.pi*v**2)\n",
        "mb3d"
      ],
      "execution_count": 115,
      "outputs": [
        {
          "output_type": "execute_result",
          "data": {
            "image/png": "[encoded data removed]",
            "text/latex": "$\\displaystyle f_{v} = \\frac{\\sqrt{2} m^{\\frac{3}{2}} v^{2} e^{- \\frac{m v^{2}}{2 T k_{B}}}}{\\sqrt{\\pi} T^{\\frac{3}{2}} k_{B}^{\\frac{3}{2}}}$",
            "text/plain": [
              "                      2 \n",
              "                  -m⋅v  \n",
              "                 ───────\n",
              "         3/2  2  2⋅T⋅k_B\n",
              "     √2⋅m   ⋅v ⋅ℯ       \n",
              "fᵥ = ───────────────────\n",
              "            3/2    3/2  \n",
              "        √π⋅T   ⋅k_B     "
            ]
          },
          "metadata": {
            "tags": []
          },
          "execution_count": 115
        }
      ]
    },
    {
      "cell_type": "code",
      "metadata": {
        "colab": {
          "base_uri": "https://localhost:8080/",
          "height": 296
        },
        "id": "8ZU1mN7PMu11",
        "outputId": "aa934b55-8085-4a8c-d1ee-57fb98fbca00"
      },
      "source": [
        "from sympy.plotting import plot\n",
        "p=plot(mb3d.rhs.subs(kb,8.314).subs(T,298).subs(m,0.004).evalf(),(v,0,5000),show=False)\n",
        "p.extend(plot(mb3d.rhs.subs(kb,8.314).subs(T,298).subs(m,0.040).evalf(),(v,0,5000),show=False,line_color='r'))\n",
        "p.show()\n"
      ],
      "execution_count": 118,
      "outputs": [
        {
          "output_type": "display_data",
          "data": {
            "image/png": "[encoded data removed]",
            "text/plain": [
              "<Figure size 432x288 with 1 Axes>"
            ]
          },
          "metadata": {
            "tags": [],
            "needs_background": "light"
          }
        }
      ]
    },
    {
      "cell_type": "code",
      "metadata": {
        "colab": {
          "base_uri": "https://localhost:8080/",
          "height": 297
        },
        "id": "kVsO8MImeKEn",
        "outputId": "b329f631-b43e-4731-8b97-1f50068eaa48"
      },
      "source": [
        "p1d=plot(mbx.rhs.subs(kb,8.314).subs(T,298).subs(m,0.004).evalf(),(vx,-5000,5000),show=False) # He at 298 K\n",
        "p1d.extend(plot(mbx.rhs.subs(kb,8.314).subs(T,298).subs(m,0.040).evalf(),(vx,-5000,5000),show=False,line_color='r')) # Ar at 298 K\n",
        "p1d.show()"
      ],
      "execution_count": 150,
      "outputs": [
        {
          "output_type": "display_data",
          "data": {
            "image/png": "[encoded data removed]",
            "text/plain": [
              "<Figure size 432x288 with 1 Axes>"
            ]
          },
          "metadata": {
            "tags": [],
            "needs_background": "light"
          }
        }
      ]
    },
    {
      "cell_type": "code",
      "metadata": {
        "id": "cVQJONkIeJzo"
      },
      "source": [
        ""
      ],
      "execution_count": null,
      "outputs": []
    },
    {
      "cell_type": "markdown",
      "metadata": {
        "id": "JYnl_xTbaXXJ"
      },
      "source": [
        "# Averages\n",
        "Now that we a distribution function that gives the fraction of molecules going each speed, we can use it to get average values."
      ]
    },
    {
      "cell_type": "code",
      "metadata": {
        "colab": {
          "base_uri": "https://localhost:8080/",
          "height": 60
        },
        "id": "wYwkJp6fahG8",
        "outputId": "a70eb46b-8164-4e91-c70e-bdac837d7930"
      },
      "source": [
        "sp.integrate(mb3d.rhs*v,(v,0,oo)) # average v"
      ],
      "execution_count": 120,
      "outputs": [
        {
          "output_type": "execute_result",
          "data": {
            "image/png": "[encoded data removed]",
            "text/latex": "$\\displaystyle \\frac{2 \\sqrt{2} \\sqrt{T} \\sqrt{k_{B}}}{\\sqrt{\\pi} \\sqrt{m}}$",
            "text/plain": [
              "          _____\n",
              "2⋅√2⋅√T⋅╲╱ k_B \n",
              "───────────────\n",
              "     √π⋅√m     "
            ]
          },
          "metadata": {
            "tags": []
          },
          "execution_count": 120
        }
      ]
    },
    {
      "cell_type": "code",
      "metadata": {
        "colab": {
          "base_uri": "https://localhost:8080/",
          "height": 51
        },
        "id": "MJFqrkJPaqY_",
        "outputId": "8786d4e5-c8f0-4cd0-f50f-2c7f1fb91b6c"
      },
      "source": [
        "sp.integrate(mb3d.rhs*v**2,(v,0,oo)) # average v**2"
      ],
      "execution_count": 121,
      "outputs": [
        {
          "output_type": "execute_result",
          "data": {
            "image/png": "[encoded data removed]",
            "text/latex": "$\\displaystyle \\frac{3 T k_{B}}{m}$",
            "text/plain": [
              "3⋅T⋅k_B\n",
              "───────\n",
              "   m   "
            ]
          },
          "metadata": {
            "tags": []
          },
          "execution_count": 121
        }
      ]
    },
    {
      "cell_type": "code",
      "metadata": {
        "colab": {
          "base_uri": "https://localhost:8080/",
          "height": 67
        },
        "id": "y7oNQBrCaud7",
        "outputId": "443a2b85-a531-4752-cdcf-a83c47921774"
      },
      "source": [
        "sp.integrate(mb3d.rhs*v**3,(v,0,oo)) # average v**3"
      ],
      "execution_count": 122,
      "outputs": [
        {
          "output_type": "execute_result",
          "data": {
            "image/png": "[encoded data removed]",
            "text/latex": "$\\displaystyle \\frac{8 \\sqrt{2} T^{\\frac{3}{2}} k_{B}^{\\frac{3}{2}}}{\\sqrt{\\pi} m^{\\frac{3}{2}}}$",
            "text/plain": [
              "      3/2    3/2\n",
              "8⋅√2⋅T   ⋅k_B   \n",
              "────────────────\n",
              "        3/2     \n",
              "    √π⋅m        "
            ]
          },
          "metadata": {
            "tags": []
          },
          "execution_count": 122
        }
      ]
    },
    {
      "cell_type": "code",
      "metadata": {
        "colab": {
          "base_uri": "https://localhost:8080/",
          "height": 51
        },
        "id": "g0tOBk16aw-n",
        "outputId": "87e60323-74ca-4be3-d048-8efd8e6ab21c"
      },
      "source": [
        "sp.integrate(mb3d.rhs*m*v**2/2,(v,0,oo)) # average kinetic energy"
      ],
      "execution_count": 123,
      "outputs": [
        {
          "output_type": "execute_result",
          "data": {
            "image/png": "[encoded data removed]",
            "text/latex": "$\\displaystyle \\frac{3 T k_{B}}{2}$",
            "text/plain": [
              "3⋅T⋅k_B\n",
              "───────\n",
              "   2   "
            ]
          },
          "metadata": {
            "tags": []
          },
          "execution_count": 123
        }
      ]
    },
    {
      "cell_type": "code",
      "metadata": {
        "colab": {
          "base_uri": "https://localhost:8080/",
          "height": 36
        },
        "id": "v7tnQVFzbEXh",
        "outputId": "04e2c699-c093-4a46-a86e-9228b9efc156"
      },
      "source": [
        "sp.integrate(mbx.rhs*vx,(vx,-oo,oo)) # average v on x-axis"
      ],
      "execution_count": 139,
      "outputs": [
        {
          "output_type": "execute_result",
          "data": {
            "image/png": "[encoded data removed]",
            "text/latex": "$\\displaystyle 0$",
            "text/plain": [
              "0"
            ]
          },
          "metadata": {
            "tags": []
          },
          "execution_count": 139
        }
      ]
    },
    {
      "cell_type": "code",
      "metadata": {
        "colab": {
          "base_uri": "https://localhost:8080/",
          "height": 60
        },
        "id": "5ihjSie-bLLD",
        "outputId": "80453608-06e7-4caf-e4ed-e2c59ad7e902"
      },
      "source": [
        "sp.integrate(mbx.rhs*vx,(vx,0,oo)) # average v on + x-axis"
      ],
      "execution_count": 137,
      "outputs": [
        {
          "output_type": "execute_result",
          "data": {
            "image/png": "[encoded data removed]",
            "text/latex": "$\\displaystyle \\frac{\\sqrt{2} \\sqrt{T} \\sqrt{k_{B}}}{2 \\sqrt{\\pi} \\sqrt{m}}$",
            "text/plain": [
              "        _____\n",
              "√2⋅√T⋅╲╱ k_B \n",
              "─────────────\n",
              "   2⋅√π⋅√m   "
            ]
          },
          "metadata": {
            "tags": []
          },
          "execution_count": 137
        }
      ]
    },
    {
      "cell_type": "code",
      "metadata": {
        "colab": {
          "base_uri": "https://localhost:8080/",
          "height": 51
        },
        "id": "Y3zbPwC1bPc6",
        "outputId": "badb3371-d864-4e14-a7d5-62047bc7bc1c"
      },
      "source": [
        "sp.integrate(mbx.rhs*vx**2,(vx,-oo,oo))"
      ],
      "execution_count": 143,
      "outputs": [
        {
          "output_type": "execute_result",
          "data": {
            "image/png": "[encoded data removed]",
            "text/latex": "$\\displaystyle \\frac{T k_{B}}{m}$",
            "text/plain": [
              "T⋅k_B\n",
              "─────\n",
              "  m  "
            ]
          },
          "metadata": {
            "tags": []
          },
          "execution_count": 143
        }
      ]
    },
    {
      "cell_type": "code",
      "metadata": {
        "colab": {
          "base_uri": "https://localhost:8080/",
          "height": 51
        },
        "id": "EgT4Ls2HcQ0s",
        "outputId": "7324e421-e896-4f66-8219-8eaea1e3f072"
      },
      "source": [
        "sp.integrate(mbx.rhs*vx**2*m/2,(vx,-oo,oo))"
      ],
      "execution_count": 144,
      "outputs": [
        {
          "output_type": "execute_result",
          "data": {
            "image/png": "[encoded data removed]",
            "text/latex": "$\\displaystyle \\frac{T k_{B}}{2}$",
            "text/plain": [
              "T⋅k_B\n",
              "─────\n",
              "  2  "
            ]
          },
          "metadata": {
            "tags": []
          },
          "execution_count": 144
        }
      ]
    }
  ]
}