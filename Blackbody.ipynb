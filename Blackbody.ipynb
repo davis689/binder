{
  "nbformat": 4,
  "nbformat_minor": 0,
  "metadata": {
    "colab": {
      "name": "Blackbody.ipynb",
      "provenance": [],
      "toc_visible": true,
      "include_colab_link": true
    },
    "kernelspec": {
      "name": "python3",
      "display_name": "Python 3"
    }
  },
  "cells": [
    {
      "cell_type": "markdown",
      "metadata": {
        "id": "view-in-github",
        "colab_type": "text"
      },
      "source": [
        "<a href=\"https://colab.research.google.com/github/davis689/binder/blob/master/Blackbody.ipynb\" target=\"_parent\"><img src=\"https://colab.research.google.com/assets/colab-badge.svg\" alt=\"Open In Colab\"/></a>"
      ]
    },
    {
      "cell_type": "markdown",
      "metadata": {
        "id": "4n1wGx1levfv"
      },
      "source": [
        "# Blackbody Radiation"
      ]
    },
    {
      "cell_type": "code",
      "metadata": {
        "id": "hVKA0Ud7gS3O"
      },
      "source": [
        "import matplotlib.pyplot as plt #import routines to do plotting. We can reference them as 'plt.'.\n",
        "import numpy as np #import routines to do numerical computation. Reference them as 'np.'\n",
        "from scipy.constants import h,c,k #import Planck's constant, the speed of light, and Boltzmann's constant"
      ],
      "execution_count": null,
      "outputs": []
    },
    {
      "cell_type": "markdown",
      "metadata": {
        "id": "kTNS7tsHzJcp"
      },
      "source": [
        "Here is some blackbody data at 5000 K."
      ]
    },
    {
      "cell_type": "code",
      "metadata": {
        "id": "nqW4eZHBzLWZ"
      },
      "source": [
        "#wavelengths \r\n",
        "L=[100, 200, 300, 400, 500, 600, 700, 800, 900, 1000, 1100, 1200, 1300, 1400, 1500, 1600, 1700, 1800, 1900, 2000] # these are in nanometers\r\n",
        "\r\n",
        "# radiation intensity at each of the wavelengths.\r\n",
        "I=[3792016.855901231, 210014418316.7247, 3347072267927.6396, 8743584892994.334, 12107190590398.123, 12762388541757.588, 11811975379645.855, 10242698496748.604, 8595614427497.387, 7101907122824.91, 5832220742176.297, 4786186091722.687, 3937090893290.5522, 3251957302146.7144, 2699645169218.148, 2253523369563.112, 1891844553102.5288, 1597254721178.954, 1356060734772.3047,1157508004287.7666]\r\n",
        "\r\n"
      ],
      "execution_count": null,
      "outputs": []
    },
    {
      "cell_type": "markdown",
      "metadata": {
        "id": "aiNcIVcs8q8e"
      },
      "source": [
        "Let's plot it in a scatter plot. Matplotlib was imported at the beginning to handle plotting. ```plt.scatter``` will give us a scatter plot. We want to plot Intensity (y-axis) vs wavelength (x-axis) so ```plt.scatter(L,I)``` should give us the plot we're looking for. **Try it in the cell below.**\r\n",
        "\r\n",
        "We can make it fancy by adding stuff inside the parentheses (separated by a comma from what we entered before). Color is changed with ```c=' '``` with a letter inside the ' ' to indicate the color. 'b' is blue, 'r' is red, 'k' is black. Alternatively you can use names like ```c='purple'```.\r\n",
        "\r\n",
        "We can, optionally, change the size of the points using ```s=``` followed by a number. ```s=1``` will give very small points. \r\n",
        "\r\n",
        "You may notice a line of gobbledygook above the plot. This can be eliminated by adding ```plt.show()``` on a new line at the end."
      ]
    },
    {
      "cell_type": "code",
      "metadata": {
        "id": "Eh3LUImE8f-m"
      },
      "source": [
        ""
      ],
      "execution_count": null,
      "outputs": []
    },
    {
      "cell_type": "markdown",
      "metadata": {
        "id": "4NYdgQxdbAng"
      },
      "source": [
        "##Wien approximation\n",
        "Wilhelm Wien derived his law from thermodynamics in 1896 to account for the high energy emission from a glowing object. $$I_{W}=\\dfrac{2hc^2}{\\lambda^5}e^\\frac{-hc}{\\lambda kT}$$The foundations were the second law of thermodynamics and electromagnetism. This solid basis would seem to make it very reliable. \n",
        "\n",
        "Let's make a function to plot alongside our blackbody data. We start with ```def``` (for definition) followed by the name of our function and the variables that it depends on and finally a colon. You can name it anything (almost) that you want. Here we'll use W for Wien. \n",
        "All lines after this until the end of the function need to be indented two spaces. We can do lots of calculations here but in this case we really just need to return the result of using the Wien law equation using the wavelength and temperature that will be supplied when the function is called. \n",
        "\n",
        "In python, exponents are accomplished using \\** and not ^ as in many other languages. ^ has a meaning but it is not exponent. So $x^2$ would be written as x**2."
      ]
    },
    {
      "cell_type": "code",
      "metadata": {
        "id": "Q-leppTyM5BA"
      },
      "source": [
        "# Wien's law \r\n",
        "def W(l,T): # Define a Wien function with wavelength and temperature as parameters.\r\n",
        "  return 2*h*c**2/l**5*np.exp(-h*c/(l*k*T)) # We can have lots of computations between the 'def' and the 'return' but here we just need to return the result of Wien Equation.\r\n",
        "  #np.exp() means to find the exponential function in the numpy library we imported above.\r\n"
      ],
      "execution_count": null,
      "outputs": []
    },
    {
      "cell_type": "markdown",
      "metadata": {
        "id": "tldgNknM3k_T"
      },
      "source": [
        "So now that we have a function we can determine the Wien intensity at any wavelength and temperature by calling the function\r\n",
        "\r\n",
        "\r\n",
        "```\r\n",
        "W(1000e-9,5000)\r\n",
        "```\r\n",
        "will determine the intensity (in some units that don't matter to us much) at 1000 nm and 5000 K.\r\n",
        "Calculate W at several wavelengths and temperatures.\r\n"
      ]
    },
    {
      "cell_type": "code",
      "metadata": {
        "id": "JBEL9VJY4G1f"
      },
      "source": [
        ""
      ],
      "execution_count": null,
      "outputs": []
    },
    {
      "cell_type": "markdown",
      "metadata": {
        "id": "eEmshYRk4Ha3"
      },
      "source": [
        "Now let's calculate at a whole bunch of wavelengths and plot them. Since we're plotting an equation we'll use ```plt.plot``` instead of ```plt.scatter```. First we'll generate a whole bunch of wavelength values. Then we'll plot our ```W(λ,T)``` function.\r\n",
        "\r\n",
        "The function expects meters for λ but we can make the axis labels nm by multiplying by the λ by a billion. "
      ]
    },
    {
      "cell_type": "code",
      "metadata": {
        "id": "EN-q1TaEgqIp",
        "colab": {
          "base_uri": "https://localhost:8080/",
          "height": 294
        },
        "outputId": "1efabb03-f2d5-4939-dda1-530d72b3b585"
      },
      "source": [
        "# generate x-axis in increments from 1nm to 10 micrometer in 1 nm increments\n",
        "# starting at 1 nm to avoid wav = 0, which would result in division by zero.\n",
        "T=5000\n",
        "λ = np.arange(1e-9, 1e-5, 1e-8) \n",
        "plt.plot(λ*1e9,W(λ,T),'b-') # plot lambda (multiplied by a billion so that the axis is in nm) vs W(λ,5000) and make it blue/lines ('b-') "
      ],
      "execution_count": null,
      "outputs": [
        {
          "output_type": "execute_result",
          "data": {
            "text/plain": [
              "[<matplotlib.lines.Line2D at 0x7f10201e04e0>]"
            ]
          },
          "metadata": {
            "tags": []
          },
          "execution_count": 50
        },
        {
          "output_type": "display_data",
          "data": {
            "image/png": "[encoded data removed]",
            "text/plain": [
              "<Figure size 432x288 with 1 Axes>"
            ]
          },
          "metadata": {
            "tags": [],
            "needs_background": "light"
          }
        }
      ]
    },
    {
      "cell_type": "markdown",
      "metadata": {
        "id": "FS9Cfw2i6ciJ"
      },
      "source": [
        "Let's make it nicer. Adjust the axes, make labels, etc. \r\n",
        "\r\n",
        "Use ```plt.xlim(0,2000)``` to adjust the axis limits. \r\n",
        "\r\n",
        "Use ```plt.xlabel('$\\lambda$ [nm]')``` to make a label on the *x*-axis. The ```$\\lambda$``` is a form you can use in labels to get Greek letters (as well as lots of other mathematical stuff. \r\n",
        "\r\n",
        "The dollar signs need to surround whatever mathematical stuff you want to output. A couple of other key mathematical things you may want to use include subscripts, _, and superscripts, ^. Again these need to be inside dollar signs.\r\n",
        "\r\n",
        "A similar line can adjust the ylabel to $I_\\lambda$."
      ]
    },
    {
      "cell_type": "code",
      "metadata": {
        "colab": {
          "base_uri": "https://localhost:8080/",
          "height": 293
        },
        "id": "mNsB3Wl664wE",
        "outputId": "a671c4fd-ded6-4e88-87ba-d914fbd1269b"
      },
      "source": [
        ""
      ],
      "execution_count": null,
      "outputs": [
        {
          "output_type": "display_data",
          "data": {
            "image/png": "[encoded data removed]",
            "text/plain": [
              "<Figure size 432x288 with 1 Axes>"
            ]
          },
          "metadata": {
            "tags": [],
            "needs_background": "light"
          }
        }
      ]
    },
    {
      "cell_type": "markdown",
      "metadata": {
        "id": "2pk7ne4l7XnP"
      },
      "source": [
        "Add two other plots at other temperatures to the one above. Use 3000 K and 8000 K. And make one red dashed lines ('r--') and the other green dash dotted lines ('g-.'). To add plots just duplicate the plt.plot line above and adjust as needed."
      ]
    },
    {
      "cell_type": "code",
      "metadata": {
        "id": "Q-Q-Bhba8l7m"
      },
      "source": [
        ""
      ],
      "execution_count": null,
      "outputs": []
    },
    {
      "cell_type": "markdown",
      "metadata": {
        "id": "Kcm0oUzOwKVT"
      },
      "source": [
        "Now let's plot the Wein law at 5000 K against the blackbody data we started with. Copy the code from the previous box and add a line to create the scatter plot from above."
      ]
    },
    {
      "cell_type": "code",
      "metadata": {
        "colab": {
          "base_uri": "https://localhost:8080/",
          "height": 293
        },
        "id": "CjB3QvSQRLKE",
        "outputId": "c3d6fcc9-8e90-4369-ea4a-8c95b740daf4"
      },
      "source": [
        ""
      ],
      "execution_count": null,
      "outputs": [
        {
          "output_type": "display_data",
          "data": {
            "image/png": "[encoded data removed]",
            "text/plain": [
              "<Figure size 432x288 with 1 Axes>"
            ]
          },
          "metadata": {
            "tags": [],
            "needs_background": "light"
          }
        }
      ]
    },
    {
      "cell_type": "markdown",
      "metadata": {
        "id": "Td3C3_Ftxs74"
      },
      "source": [
        "Is the fit perfect? If not, where is it best and where is it not so good?"
      ]
    },
    {
      "cell_type": "markdown",
      "metadata": {
        "id": "wJbBuBd9x1RQ"
      },
      "source": [
        ""
      ]
    },
    {
      "cell_type": "markdown",
      "metadata": {
        "id": "3djEUZCOnGd2"
      },
      "source": [
        "We can plot using a log/log scale. This may be useful to compare the different approaches. We'll also include some more high wavelength data.\r\n",
        "\r\n",
        "Copy the previous plot code here. The added keywords to make a log plot and to adjust the $x$ and $y$ axes are shown."
      ]
    },
    {
      "cell_type": "code",
      "metadata": {
        "id": "JeFCtwMvnE9M",
        "colab": {
          "base_uri": "https://localhost:8080/",
          "height": 292
        },
        "outputId": "aea49cfd-8d24-41f9-e9cf-1ef23847fdc5"
      },
      "source": [
        "T=5000 \n",
        "L=[   100. ,215.443469,464.15888336,1000.,2154.43469003,4641.58883361 ,10000., 21544.34690032,  46415.88833613, 100000.]\n",
        "I=[3792016.855901231, 406107817305.2317, 11247796609317.205, 7101907122824.91, 915640363596.9908, 64370096452.65617, 3572081500.9413667, 179574549.27531382, 8643820.23088103, 407981.50284059084]\n",
        "\n",
        "\n",
        "\n",
        "\n",
        "plt.xscale('log')\n",
        "plt.yscale('log')\n",
        "plt.ylim(1e0,1e14)\n",
        "plt.xlim(4e1,1e5)\n"
      ],
      "execution_count": null,
      "outputs": [
        {
          "output_type": "display_data",
          "data": {
            "image/png": "[encoded data removed]",
            "text/plain": [
              "<Figure size 432x288 with 1 Axes>"
            ]
          },
          "metadata": {
            "tags": [],
            "needs_background": "light"
          }
        }
      ]
    },
    {
      "cell_type": "markdown",
      "metadata": {
        "id": "II8nZFseLYgQ"
      },
      "source": [
        "## Rayleigh-Jean's Law\r\n",
        "The Wien Law deviates from reality in the high wavelength region. Rayleigh and Jeans came up with an equation that works in this region."
      ]
    },
    {
      "cell_type": "code",
      "metadata": {
        "id": "4-ytV3EeAuB7"
      },
      "source": [
        "# Rayleigh - Jeans law\n",
        "def R(l,T):\n",
        "  return 2*c*k*T/l**4"
      ],
      "execution_count": null,
      "outputs": []
    },
    {
      "cell_type": "markdown",
      "metadata": {
        "id": "8HXkUpJ6zqee"
      },
      "source": [
        "Now let's plot This along with the Wien Law and data. **Modify the box below to include those three plots. **\r\n",
        "\r\n",
        "Since we have several things going on here, it makes sense to be clear about which plot is which. We can make a legend using ```plt.legend()```. If you do that to the previous plot, nothing may change because we haven't set up labels for each plot. We can do that by adding to the plt.plot lines inside the parentheses, for example,   ```,label='Wien Law' ```. **Make a similar change to the label of the Rayleigh-Jean's Law.**\r\n",
        "\r\n",
        "We can make it say Wien's Law if we want but that takes an additional step because the single quote mark means something to the program and we need to tell it that it's just text. Using a \\ before the ' tells the system to treat the next character as text. So adding ```,label='Wien\\'s Law'``` works as we expect.\r\n",
        "\r\n",
        "\r\n",
        "\r\n"
      ]
    },
    {
      "cell_type": "code",
      "metadata": {
        "id": "bCcSStqdAy4P",
        "colab": {
          "base_uri": "https://localhost:8080/",
          "height": 293
        },
        "outputId": "05b58b3d-cf69-4774-a64f-6c03065234dc"
      },
      "source": [
        "\n",
        "\n",
        "\n",
        "\n",
        "\n"
      ],
      "execution_count": null,
      "outputs": [
        {
          "output_type": "display_data",
          "data": {
            "image/png": "[encoded data removed]",
            "text/plain": [
              "<Figure size 432x288 with 1 Axes>"
            ]
          },
          "metadata": {
            "tags": [],
            "needs_background": "light"
          }
        }
      ]
    },
    {
      "cell_type": "markdown",
      "metadata": {
        "id": "5ExzqKP2LNwb"
      },
      "source": [
        "##Planck's Law\r\n",
        "So we see that the Wien Law works at the highest energy and the Rayleigh-Jeans Law works at the lowest energy. It would be great to have a single law that covers the spectrum. That's what Planck supplied. He did so by making assumptions about the frequencies of the oscillators that are absorbing and emitting the energy observed. His assumption made without evidence was that oscillators can vibrate at a specific frequency (or integer multiples of that frequency) but no others. He didn't know why it worked and he assumed there would be a forthcoming classical explanation that would make it all make sense. We're still waiting. The result is the Planck Law.\r\n",
        "\r\n",
        "$$\\dfrac{2hc^2}{\\lambda^5}\\dfrac{1}{e^{\\frac{hc}{\\lambda kT}-1}}$$\r\n",
        "\r\n",
        "Write a function, P, to calculate the Planck blackbody radiation intensity."
      ]
    },
    {
      "cell_type": "code",
      "metadata": {
        "id": "yxxW3o6Co889"
      },
      "source": [
        ""
      ],
      "execution_count": null,
      "outputs": []
    },
    {
      "cell_type": "markdown",
      "metadata": {
        "id": "t0JxWj9aEhU1"
      },
      "source": [
        "Make a plot identical to the previous one except add the Planck law to it.\r\n"
      ]
    },
    {
      "cell_type": "code",
      "metadata": {
        "id": "a5YeNcE7F6lt"
      },
      "source": [
        ""
      ],
      "execution_count": null,
      "outputs": []
    }
  ]
}