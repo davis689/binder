{
  "nbformat": 4,
  "nbformat_minor": 0,
  "metadata": {
    "colab": {
      "name": "Keq.ipynb",
      "provenance": [],
      "collapsed_sections": [],
      "authorship_tag": "ABX9TyNwFZDSsMlRhjKaXs0H0rBo",
      "include_colab_link": true
    },
    "kernelspec": {
      "name": "python3",
      "display_name": "Python 3"
    }
  },
  "cells": [
    {
      "cell_type": "markdown",
      "metadata": {
        "id": "view-in-github",
        "colab_type": "text"
      },
      "source": [
        "<a href=\"https://colab.research.google.com/github/davis689/binder/blob/master/Keq.ipynb\" target=\"_parent\"><img src=\"https://colab.research.google.com/assets/colab-badge.svg\" alt=\"Open In Colab\"/></a>"
      ]
    },
    {
      "cell_type": "markdown",
      "metadata": {
        "id": "W8gccHUz2CFD"
      },
      "source": [
        "# Setup"
      ]
    },
    {
      "cell_type": "code",
      "metadata": {
        "id": "bk1zfslccrZF"
      },
      "source": [
        "import numpy as np\n",
        "from sympy import *\n",
        "from scipy.optimize import brentq,fsolve\n",
        "import matplotlib.pyplot as plt\n",
        "import requests\n",
        "import lxml.html as lh\n",
        "import pandas as pd\n",
        "from functools import reduce\n"
      ],
      "execution_count": 3,
      "outputs": []
    },
    {
      "cell_type": "code",
      "metadata": {
        "id": "wTXm-QntcwKR"
      },
      "source": [
        "T,V,A,B,p,x,xi=var('T, V,A,B,p,x,xi')\n",
        "R=8.3144598 # gas constant"
      ],
      "execution_count": 4,
      "outputs": []
    },
    {
      "cell_type": "markdown",
      "metadata": {
        "id": "Zye57ZMaX9td"
      },
      "source": [
        "Import data from webbook.nist.gov for each molecule"
      ]
    },
    {
      "cell_type": "code",
      "metadata": {
        "id": "84WNjBEbX8-y"
      },
      "source": [
        "url = 'https://webbook.nist.gov/cgi/cbook.cgi?ID=C10024972&Units=SI&Mask=1#Thermo-Gas' #N2O\n",
        "html = requests.get(url).content\n",
        "df_list = pd.read_html(html)\n",
        "df = df_list[-3] # change index to get different table. -1 means start at end\n",
        "So=[]\n",
        "So.append(float(df.iloc[2,1]))\n",
        "df=df_list[-2]\n",
        "tmp=df.iloc[1:9,1].values.tolist()\n",
        "coef=[]\n",
        "coef.append([float(tmp[i]) for i in range(len(tmp))])"
      ],
      "execution_count": 5,
      "outputs": []
    },
    {
      "cell_type": "code",
      "metadata": {
        "id": "VBp2LDeCYICz"
      },
      "source": [
        "url = 'https://webbook.nist.gov/cgi/cbook.cgi?ID=C7782447&Units=SI&Mask=1#Thermo-Gas' #O2\n",
        "html = requests.get(url).content\n",
        "df_list = pd.read_html(html)\n",
        "df = df_list[-3] # change index to get different table. -1 means start at end\n",
        "So.append(float(df.iloc[1,1]))\n",
        "df=df_list[-2]\n",
        "tmp=df.iloc[1:9,1].values.tolist()\n",
        "coef.append([float(tmp[i]) for i in range(len(tmp))])"
      ],
      "execution_count": 6,
      "outputs": []
    },
    {
      "cell_type": "code",
      "metadata": {
        "id": "ofUXJb8PYH3D"
      },
      "source": [
        "url = 'https://webbook.nist.gov/cgi/cbook.cgi?ID=C10102440&Units=SI&Mask=1#Thermo-Gas' #NO2\n",
        "html = requests.get(url).content\n",
        "df_list = pd.read_html(html)\n",
        "df = df_list[-3] # change index to get different table. -1 means start at end\n",
        "So.append(float(df.iloc[2,1]))\n",
        "df=df_list[-2]\n",
        "tmp=df.iloc[1:9,1].values.tolist()\n",
        "coef.append([float(tmp[i]) for i in range(len(tmp))])"
      ],
      "execution_count": 7,
      "outputs": []
    },
    {
      "cell_type": "code",
      "metadata": {
        "id": "CmJ59zmucwHc"
      },
      "source": [
        "stoic=[-2,-3,4] # stoichiometry with reactant negative.\n",
        "species=['N2O','O2','NO2']"
      ],
      "execution_count": 8,
      "outputs": []
    },
    {
      "cell_type": "markdown",
      "metadata": {
        "id": "X0UjSdhP2VDk"
      },
      "source": [
        "# Input T and p and initial moles"
      ]
    },
    {
      "cell_type": "code",
      "metadata": {
        "id": "fxGZIvb9t_A4"
      },
      "source": [
        "#@title Input the temperature and pressure at which you want to calculate entropy change { display-mode: \"form\" }\n",
        "pi = 1\n",
        "pf =  .1#@param {type:\"number\"}\n",
        "Ti = 298\n",
        "Tf =  450#@param {type:\"number\"}\n",
        "n_N2O =  1#@param {type:\"number\"}\n",
        "n_O2 =  1#@param {type:\"number\"}\n",
        "n_NO2 =  1#@param {type:\"number\"}\n",
        "n0=[n_N2O,n_O2,n_NO2]"
      ],
      "execution_count": 9,
      "outputs": []
    },
    {
      "cell_type": "markdown",
      "metadata": {
        "id": "ftTMrh1XzQwu"
      },
      "source": [
        "Calculate enthalpy from the Shoemate equation using coefficients imported from webbook. The first four terms of the Shoemate equation are just a polynomial terms. Add them first. Then add the 1/T and constant terms.\n",
        "Multiply by stoichometery and add up to get the total change in enthalpy due to temperature change from 298. Calculate the standard (298 K) enthalpy and then add it to the temperature change enthalpy for the enthalpy change at $T$.  If we consider ideal gases here, here will be no correction for a change in pressure from 1 bar."
      ]
    },
    {
      "cell_type": "code",
      "metadata": {
        "id": "z5Cd1IJofH6b",
        "colab": {
          "base_uri": "https://localhost:8080/"
        },
        "outputId": "664438ff-0638-426a-ff99-940b6d160b9a"
      },
      "source": [
        "Hf=[sum([coef[i][j]/(j+1)*(T/1000)**(j+1) for j in range(4)]) for i in range(len(stoic))]\n",
        "Hf=[Hf[i]-coef[i][4]*(1000/T)+coef[i][5] for i in range(len(stoic))] # temperature change for each species. This is the enthalpy of formation of each species at Tf.\n",
        "DH=sum([Hf[i]*stoic[i] for i in range(len(stoic))])# total enthalpy change at Tf added up using stoichiometry for each species.\n",
        "\n",
        "Hfo=sum([coef[i][7]*stoic[i] for i in range(len(stoic))]) # standard reaction enthalpy change. The 7th element of coeff is the standard enthalpy.\n",
        "\n",
        "DHtot=DH+Hfo #add temperature change enthalpy to standard enthalpy\n",
        "\n",
        "print('standard enthalpy= {:3.3f} kJ/mol      enthalpy at {:3d} K= {:3.3f} kJ/mol'.format(Hfo,Tf,DH.subs(T,Tf).round(10))) \n",
        "print('enthalpies of formation at 298 K:     ',[round(coef[i][7],2) for i in range(len(stoic))])\n",
        "print('enthalpies of formation at',Tf,'K:     ',[Hf[i].subs(T,Tf).round(2) for i in range(len(stoic))])\n",
        "print('difference:                           ',[round(Hf[i].subs(T,Tf)-coef[i][7],2) for i in range(len(stoic))])"
      ],
      "execution_count": 69,
      "outputs": [
        {
          "output_type": "stream",
          "text": [
            "standard enthalpy= -31.716 kJ/mol      enthalpy at 450 K= -34.095 kJ/mol\n",
            "enthalpies of formation at 298 K:      [82.05, 0.0, 33.1]\n",
            "enthalpies of formation at 450 K:      [88.37, 4.54, 39.07]\n",
            "difference:                            [6.33, 4.54, 5.98]\n"
          ],
          "name": "stdout"
        }
      ]
    },
    {
      "cell_type": "markdown",
      "metadata": {
        "id": "hjN6EGeZ0H5N"
      },
      "source": [
        "Do a similar calculation for entropy. The difference here is that entropy is absolute so we don't need to add onto the entropy at 298 K. We could adjust for the effect of change in pressure here or do it in the $\\Delta G$ calculation later. We'll do it both ways."
      ]
    },
    {
      "cell_type": "code",
      "metadata": {
        "id": "s4rxEM8QPOLo",
        "colab": {
          "base_uri": "https://localhost:8080/"
        },
        "outputId": "4d4b65d5-96bf-42cb-e63c-4c5c7945285c"
      },
      "source": [
        "S=[sum([coef[i][j]/(j)*(T/1000)**j for j in range(4) if j>0]) for i in range(len(stoic))] # take care of the polynomial part of the equation\n",
        "S=[S[i]+coef[i][0]*ln(T/1000)-coef[i][4]/(2*(T/1000)**2)+coef[i][6] for i in range(len(stoic))] # add terms for the non-polynomial terms\n",
        "DStot=sum([S[i]*stoic[i] for i in range(len(stoic))]) # add up the entropies for all species with the appropriate stoichiometry\n",
        "DStot_p=DStot-sum(stoic)*R*ln(pf) #If we account for pressure here. Below for pressure accounted for in the delta G equation.\n",
        "print('total change in entropy at {:3d} K: {:3.3f} J/mol K'.format(Ti,DStot.subs(T,298).evalf()))\n",
        "print('total change in entropy at {:3d} K: {:3.3f} J/mol K\\ntotal change in entropy at {:3d} K and {:2.1f} bar: {:3.3f}'.format(Tf,DStot.subs(T,Tf).evalf(),Tf, pf,DStot_p.subs(T,Tf).evalf()))\n",
        "print('Delta G from Delta H and Delta S at {:3d} K and {:2.1f} bar: {:3.3f} J/mol'.format(Tf,pi,(DHtot*1000-Tf*DStot).subs(T,Tf).evalf()))\n",
        "print('Delta G from Delta H and Delta S at {:3d} K and {:2.1f} bar: {:3.3f} J/mol'.format(Tf,pf,(DHtot*1000-Tf*DStot_p).subs(T,Tf).evalf()))\n"
      ],
      "execution_count": 97,
      "outputs": [
        {
          "output_type": "stream",
          "text": [
            "total change in entropy at 298 K: -95.204 J/mol K\n",
            "total change in entropy at 450 K: -101.728 J/mol K\n",
            "total change in entropy at 450 K and 0.1 bar: -120.873\n",
            "Delta G from Delta H and Delta S at 450 K and 1.0 bar: -20033.404 J/mol\n",
            "Delta G from Delta H and Delta S at 450 K and 0.1 bar: -11418.266 J/mol\n"
          ],
          "name": "stdout"
        }
      ]
    },
    {
      "cell_type": "code",
      "metadata": {
        "colab": {
          "base_uri": "https://localhost:8080/"
        },
        "id": "OurdmWE-oqdj",
        "outputId": "744a12d3-0017-4f94-d8a5-2e627a7d62bb"
      },
      "source": [
        "#Do again using integration of Cp instead of the Shomate equation\n",
        "t=symbols('t')\n",
        "pow=[0,1,2,3,-2] #powers of the Shomate equation for Cp\n",
        "Cpt=[sum([coef[j][i]*(t/1000)**pow[i] for i in range(len(pow)) ]) for j in range(len(stoic))]\n",
        "Ht=[integrate(Cpt[i],(t,298,Tf)) for i in range(len(stoic))]\n",
        "St=[integrate(Cpt[i]/t,(t,298,Tf)) for i in range(len(stoic))]\n",
        "print('enthalpy change= {:3.3f} kJ/mol       \\nentropy change for change from 298 K to {:3d}: {:3.3f} J/mol'.format(sum([Ht[i]*stoic[i] for i in range(len(stoic))])/1000+Hfo,Tf,(sum([St[i]*stoic[i] for i in range(len(stoic))])+DStot.subs(T,298)).evalf()))\n",
        "print('entropy change for change from 1 bar to {:2.1f}: {: 3.3f} J/mol K'.format(pf,-sum(stoic)*R*ln(pf)))\n",
        "print('total entropy change: {:3.3f} J/mol K'.format((sum([St[i]*stoic[i] for i in range(len(stoic))])+DStot.subs(T,298)).evalf()-sum(stoic)*R*ln(pf)))"
      ],
      "execution_count": 105,
      "outputs": [
        {
          "output_type": "stream",
          "text": [
            "enthalpy change= -34.100 kJ/mol       \n",
            "entropy change for change from 298 K to 450: -101.728 J/mol\n",
            "entropy change for change from 1 bar to 0.1: -19.145 J/mol K\n",
            "total entropy change: -120.873 J/mol K\n"
          ],
          "name": "stdout"
        }
      ]
    },
    {
      "cell_type": "markdown",
      "metadata": {
        "id": "5eEBdsGd1FiS"
      },
      "source": [
        "# Calculation of S, H, and G for each species\n",
        "None of this is necessary but some do it this way."
      ]
    },
    {
      "cell_type": "code",
      "metadata": {
        "colab": {
          "base_uri": "https://localhost:8080/"
        },
        "id": "yAJsrlr32Tih",
        "outputId": "29c7aa57-fa80-419e-b779-ac0d47889392"
      },
      "source": [
        "[coef[i][7]+Hf[i].subs(T,Tf)-450*S[i].subs(T,Tf).round(2)/1000 for i in range(len(stoic))] #delta Gs for each species but using S not Delta S. This isn't right but it works if you take products minus reactants"
      ],
      "execution_count": 92,
      "outputs": [
        {
          "output_type": "execute_result",
          "data": {
            "text/plain": [
              "[63.7591841838957, -93.3099484193333, -43.1109700830330]"
            ]
          },
          "metadata": {
            "tags": []
          },
          "execution_count": 92
        }
      ]
    },
    {
      "cell_type": "code",
      "metadata": {
        "id": "gOFPNXijJw8J",
        "colab": {
          "base_uri": "https://localhost:8080/"
        },
        "outputId": "0bf16593-5673-4fe6-a452-1419df931c0b"
      },
      "source": [
        "print('Standard entropies: ',So) #standard entropies\n",
        "print('Standard entropy change at T=',Tf,'K:', sum([So[i]*stoic[i] for i in range(len(stoic))]),'J/mol K') #standard entropy change at 298 K and 1 bar."
      ],
      "execution_count": 95,
      "outputs": [
        {
          "output_type": "stream",
          "text": [
            "Standard entropies:  [219.96, 205.15, 240.04]\n",
            "Standard entropy change at T= 450 K: -95.21000000000015 J/mol K\n"
          ],
          "name": "stdout"
        }
      ]
    },
    {
      "cell_type": "code",
      "metadata": {
        "colab": {
          "base_uri": "https://localhost:8080/"
        },
        "id": "fVLK_eU3mQWe",
        "outputId": "e504f517-6f4a-4aed-e350-6dd4e3a09909"
      },
      "source": [
        "[print(S[i].subs(T,Tf).round(2),'J/mol K') for i in range(len(stoic))]# entropy of each species at Tf\n",
        "[print(Hf[i].subs(T,Tf).round(2),'kJ/mol') for i in range(len(stoic))] #enthapy change for each species to get to Tf\n",
        "[print((Hf[i]+coef[i][7]).subs(T,Tf).round(2),'kJ/mol') for i in range(len(stoic))] #enthalpy of formation at Tf"
      ],
      "execution_count": 94,
      "outputs": [
        {
          "output_type": "stream",
          "text": [
            "237.03 J/mol K\n",
            "217.45 J/mol K\n",
            "256.17 J/mol K\n",
            "88.37 kJ/mol\n",
            "4.54 kJ/mol\n",
            "39.07 kJ/mol\n",
            "170.42 kJ/mol\n",
            "4.54 kJ/mol\n",
            "72.17 kJ/mol\n"
          ],
          "name": "stdout"
        },
        {
          "output_type": "execute_result",
          "data": {
            "text/plain": [
              "[None, None, None]"
            ]
          },
          "metadata": {
            "tags": []
          },
          "execution_count": 94
        }
      ]
    },
    {
      "cell_type": "code",
      "metadata": {
        "id": "hdp-YVeVLeDC",
        "colab": {
          "base_uri": "https://localhost:8080/"
        },
        "outputId": "2e66cd9b-873b-4268-bd61-b7d4ca587933"
      },
      "source": [
        "DG=DHtot*1000-T*DStot+sum(stoic)*R*T*log(pf)\n",
        "print('Delta G at Tf=',Tf,'K=',(DHtot*1000-T*DStot).subs(T,Tf).round(2),'J/mol         \\nDelta G of pressure change=', (sum(stoic)*R*T*log(pf)).subs(T,Tf).round(2),'J/mol               \\ntotal Delta G=',DG.subs(T,Tf).n().round(2),'J/mol') # DG... same as above, calculated differently"
      ],
      "execution_count": 96,
      "outputs": [
        {
          "output_type": "stream",
          "text": [
            "Delta G at Tf= 450 K= -20033.40 J/mol         \n",
            "Delta G of pressure change= 8615.14 J/mol               \n",
            "total Delta G= -11418.27 J/mol\n"
          ],
          "name": "stdout"
        }
      ]
    },
    {
      "cell_type": "markdown",
      "metadata": {
        "id": "csKTO8Qh16Vo"
      },
      "source": [
        "# K and moles calculations"
      ]
    },
    {
      "cell_type": "code",
      "metadata": {
        "id": "GiJgcOjQki6c"
      },
      "source": [
        "Keq=exp(-DG/R/T)\n",
        "print('Keq=',Keq.subs(T,Tf)) #calculate Keq"
      ],
      "execution_count": null,
      "outputs": []
    },
    {
      "cell_type": "code",
      "metadata": {
        "id": "jQ1BjSjGy-Du"
      },
      "source": [
        "moles=[n0[i]+stoic[i]*xi for i in range(len(stoic))]; #calculate moles with xi \n",
        "molesum=sum(moles)                                    # and sum them up.\n",
        "chi=[(n0[i]+stoic[i]*xi)/sum(moles) for i in range(len(stoic))]"
      ],
      "execution_count": null,
      "outputs": []
    },
    {
      "cell_type": "code",
      "metadata": {
        "id": "cu2LoufLOvEq"
      },
      "source": [
        "ximin=max([-n0[i]/stoic[i] for i in range(len(stoic)) if stoic[i]>0]) #calculate the high end of the xi range\n",
        "ximax=min([-n0[i]/stoic[i] for i in range(len(stoic)) if stoic[i]<0]) #calculate the low end of the xi range\n",
        "\n",
        "print('xi is between',ximin,'and',ximax)"
      ],
      "execution_count": null,
      "outputs": []
    },
    {
      "cell_type": "markdown",
      "metadata": {
        "id": "rb1oZ6w-_6xW"
      },
      "source": [
        "Now we define a function that can be solved for $\\xi$. The function needs to be equal to zero so we'll set it up so that $\\frac{\\Pi_i [products]_i^{a_i}}{\\Pi_j[reactants]_j^{a_j}}-K_{eq}=0$, where $a$ is the stoichiometric coefficient for species $i$ or $j$. But really it's easier to solve if we take away the fraction and write it as $\\Pi_i[products]_i^{a_i}-K_{eq}\\times\\Pi_j[reactants]_j^{a_j}=0$.\n",
        "\n",
        "Because of this form, it is conventient to deal with the numerator and the denominator of the equilibrium constant separately. Each of these is just a product of each of the products or each of the reactants all to their appropriate powers. There is no $product$ function in most now current python versions but 'reduce(lambda x,y:x*y,list)' accomplishes this task for the lists of terms in the numerator ($num$) and the denominator ($den$). "
      ]
    },
    {
      "cell_type": "code",
      "metadata": {
        "id": "eFqTfldoktso"
      },
      "source": [
        "def K(x):\n",
        "  num=[chi[i].subs(xi,x)**stoic[i] for i in range(len(stoic)) if stoic[i]>0]\n",
        "  den=[chi[i].subs(xi,x)**-stoic[i] for i in range(len(stoic)) if stoic[i]<0]\n",
        "  return reduce(lambda x,y:x*y,num)-Keq.subs(T,Tf)*reduce(lambda x,y:x*y,den) # "
      ],
      "execution_count": null,
      "outputs": []
    },
    {
      "cell_type": "markdown",
      "metadata": {
        "id": "M8tQ5onlBV2-"
      },
      "source": [
        "Now we use one of the equation solvers, here $brentq$, to solve our function between $\\xi_{min}$ and $\\xi_{max}$."
      ]
    },
    {
      "cell_type": "code",
      "metadata": {
        "id": "Oz5wcr9ymSHI"
      },
      "source": [
        "x=brentq(K,ximin,ximax) #find zeros of the function above between the minimum and maximum possible xi.\n",
        "round(x,4)"
      ],
      "execution_count": null,
      "outputs": []
    },
    {
      "cell_type": "markdown",
      "metadata": {
        "id": "GQy6AbTxDt76"
      },
      "source": [
        "Now we can use $\\xi$ to calculate the number of moles of each reactant and product at equilibrium."
      ]
    },
    {
      "cell_type": "code",
      "metadata": {
        "id": "3VI8TlgkmPoi"
      },
      "source": [
        "n=[moles[i].subs(xi,x) for i in range(len(stoic))] # substitute xi into moles expressions to get answer.\n",
        "output=[print(species[i],':',n[i].round(2),\"mol\") for i in range(len(stoic))]"
      ],
      "execution_count": null,
      "outputs": []
    },
    {
      "cell_type": "markdown",
      "metadata": {
        "id": "UIZwUD3xD097"
      },
      "source": [
        "A test for consistency is always good. A calculation of the difference in $K_{eq}$ using moles and using $\\Delta G$ should give zero. Here we allow it to be as big as $\\pm10^{-8}$. "
      ]
    },
    {
      "cell_type": "code",
      "metadata": {
        "id": "3F4rVvHC_gGV"
      },
      "source": [
        "kk=[chi[i].subs(T,Tf).subs(xi,x)**stoic[i] for i in range(len(stoic))] #test equilibrium constant in terms of xi\n",
        "print(abs(reduce(lambda x,y:x*y,kk)-Keq.subs(T,Tf))<10**-8) #make sure the K calculated from moles matches the K calculated from Delta G (or close enough). True means we're good."
      ],
      "execution_count": null,
      "outputs": []
    }
  ]
}
