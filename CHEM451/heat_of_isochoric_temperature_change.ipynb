{
  "nbformat": 4,
  "nbformat_minor": 0,
  "metadata": {
    "colab": {
      "name": "heat of isochoric temperature change.ipynb",
      "provenance": [],
      "authorship_tag": "ABX9TyPejayknHBOErPaBVT9VnDK",
      "include_colab_link": true
    },
    "kernelspec": {
      "name": "python3",
      "display_name": "Python 3"
    }
  },
  "cells": [
    {
      "cell_type": "markdown",
      "metadata": {
        "id": "view-in-github",
        "colab_type": "text"
      },
      "source": [
        "<a href=\"https://colab.research.google.com/github/davis689/binder/blob/master/heat_of_isochoric_temperature_change.ipynb\" target=\"_parent\"><img src=\"https://colab.research.google.com/assets/colab-badge.svg\" alt=\"Open In Colab\"/></a>"
      ]
    },
    {
      "cell_type": "markdown",
      "metadata": {
        "id": "wu-K1FF-otDs",
        "colab_type": "text"
      },
      "source": [
        "First we setup some system stuff to handle symbolic manipulations."
      ]
    },
    {
      "cell_type": "code",
      "metadata": {
        "tags": [],
        "cell_id": "6a580211-49e1-4b7e-9dea-76ad63915b83",
        "trusted": true,
        "id": "4nmgCGe7otDu",
        "colab_type": "code",
        "colab": {
          "base_uri": "https://localhost:8080/",
          "height": 52
        },
        "outputId": "abb0dd47-88be-474f-dce5-48d9c70788c8"
      },
      "source": [
        "pip install sympy # if sympy is already installed, this step can be commented out."
      ],
      "execution_count": 1,
      "outputs": [
        {
          "output_type": "stream",
          "text": [
            "Requirement already satisfied: sympy in /usr/local/lib/python3.6/dist-packages (1.1.1)\n",
            "Requirement already satisfied: mpmath>=0.19 in /usr/local/lib/python3.6/dist-packages (from sympy) (1.1.0)\n"
          ],
          "name": "stdout"
        }
      ]
    },
    {
      "cell_type": "code",
      "metadata": {
        "cell_id": "068ba6c2-e580-40b7-a20f-d069b0d744b2",
        "trusted": true,
        "id": "dvAVJRvdotDy",
        "colab_type": "code",
        "colab": {}
      },
      "source": [
        "import sympy as sp\n",
        "sp.init_printing()"
      ],
      "execution_count": 2,
      "outputs": []
    },
    {
      "cell_type": "markdown",
      "metadata": {
        "id": "WZ788v_potD1",
        "colab_type": "text"
      },
      "source": [
        "## The problem\n",
        "An ideal gas is warms from 298 K and 1bar to 308 K at constant volume. Calculate the heat involved in the change. "
      ]
    },
    {
      "cell_type": "markdown",
      "metadata": {
        "tags": [],
        "cell_id": "cfafc3d6-7e86-4991-90f6-376b1315643c",
        "id": "YKFZWs_BotD2",
        "colab_type": "text"
      },
      "source": [
        "First we will define some variables and constants. These can be defined all together but it will sometimes be convenient to specify these as fully as possible so that the system knows how to treat them and here we'll keep the constants separate from the variables."
      ]
    },
    {
      "cell_type": "code",
      "metadata": {
        "tags": [],
        "cell_id": "86bc36ec-f612-40cd-aca9-e1194fcca61f",
        "trusted": true,
        "id": "YMFkmseGotD2",
        "colab_type": "code",
        "colab": {}
      },
      "source": [
        "p,V,T=sp.symbols(\"p,V,T\",real=True,positive=True) \n",
        "R,Cv,Cp=sp.symbols(\"R,Cv,Cp\",real=True,positive=True,constant=True) \n",
        "ps,Ts,Vs=[],[],[] # define some variables to contain the list of beginning, intermediate, and ending pressures (p's), temperatures (T's), and volumes (V's)\n",
        "Rs=[0.08314,8.314] # Define two R values. R[0] will be in Lbar/molK and R[1] will be in J/molK. We need to remember to use the appropriate one.\n",
        "Cs=[12.471,20.785] #Cv and Cp\n"
      ],
      "execution_count": 3,
      "outputs": []
    },
    {
      "cell_type": "markdown",
      "metadata": {
        "id": "aGmScZX2otEA",
        "colab_type": "text"
      },
      "source": [
        "Next we'll define the temperatures and pressures at the beginning and end of the two steps involved in our process."
      ]
    },
    {
      "cell_type": "code",
      "metadata": {
        "trusted": true,
        "id": "0rF7RXkZotEB",
        "colab_type": "code",
        "colab": {}
      },
      "source": [
        "Ts=[298,308] # set up the temperatures for the beginning, intermediate, and ending points.\n",
        "Vs=Rs[0]*Ts[0]/1 # Calculate volume from initial T and p so calculate from ideal gas law using R=0.08314 and T=298"
      ],
      "execution_count": 4,
      "outputs": []
    },
    {
      "cell_type": "markdown",
      "metadata": {
        "id": "bUzzGXfbotEE",
        "colab_type": "text"
      },
      "source": [
        "Now we can setup the equation of state. This is not strictly necessary since we could always manually manipulate the equation (especially the ideal gas equation) and input the form we want into the expression we need to calculate, but this will give us flexibility to change the equation without changing any of the following code if we so desire."
      ]
    },
    {
      "cell_type": "code",
      "metadata": {
        "trusted": true,
        "id": "vTK2t4dootEF",
        "colab_type": "code",
        "colab": {}
      },
      "source": [
        "ig=sp.Eq(p*V,R*T) #ideal gas equation. "
      ],
      "execution_count": 5,
      "outputs": []
    },
    {
      "cell_type": "markdown",
      "metadata": {
        "id": "UpyYcKDnotEI",
        "colab_type": "text"
      },
      "source": [
        "Now we'll use the equation to solve for the pressures at the beginning and end using the temperatures and volume we declared above. We first solve the equation, ig, for p and then substitute into it the values for V, T, and R."
      ]
    },
    {
      "cell_type": "code",
      "metadata": {
        "trusted": true,
        "id": "U2ouXEWyotEJ",
        "colab_type": "code",
        "colab": {}
      },
      "source": [
        "ps=[sp.solve(ig,p)[0].subs(V,Vs).subs(T,Ts[i]).subs(R,Rs[0]) for i in range(len(Ts))] # range(len(ps)) will make a list starting from 0 with as many members as are in ps\n",
        "                                                                                      # sp.solve(ig,p)[0] solves ig for p. The [0] extracts the, in this case, only solution from the solutions list.\n",
        "                                                                                      # the subs arguments substitute for V, T, and R the values we defined earlier for each step in the process.\n"
      ],
      "execution_count": 6,
      "outputs": []
    },
    {
      "cell_type": "markdown",
      "metadata": {
        "id": "F0uB2TFRotEP",
        "colab_type": "text"
      },
      "source": [
        "Now to check that the solving and substitution (and unit manipulation) went as expected, we print the results. "
      ]
    },
    {
      "cell_type": "code",
      "metadata": {
        "trusted": true,
        "id": "ki_NeKHRotEQ",
        "colab_type": "code",
        "colab": {
          "base_uri": "https://localhost:8080/",
          "height": 34
        },
        "outputId": "a06f089d-912e-4202-a0eb-111db39966ec"
      },
      "source": [
        "print([ps[i].round(5) for i in range(len(Ts))]) #print the pressures to make sure they make sense\n",
        "#ps[i].round(5) rounds to 5 decimal places the i-th result in ps\n",
        "# for i in range(len(Ts)) iterates over i=0 up to but not including whatever the length the the Ts vector is. In this case it is 2 so i=0 and 1."
      ],
      "execution_count": 7,
      "outputs": [
        {
          "output_type": "stream",
          "text": [
            "[1.0000, 1.03356]\n"
          ],
          "name": "stdout"
        }
      ]
    },
    {
      "cell_type": "markdown",
      "metadata": {
        "tags": [],
        "cell_id": "2152af65-2ffe-4883-acec-f08714b3eb3e",
        "id": "BboRagY2otET",
        "colab_type": "text"
      },
      "source": [
        "## 1 - in terms of dT and dp\n",
        "Let's calculate the heat using $$dq=C_p dT + l_p dp$$ The pressure and temperature are both changing so we'll need to calculate both terms. $$l_p=-T\\left(\\dfrac{\\partial V}{\\partial T}\\right)$$"
      ]
    },
    {
      "cell_type": "code",
      "metadata": {
        "tags": [],
        "cell_id": "1314ab7d-415a-4679-913a-7bb4a6695979",
        "trusted": true,
        "id": "a9pAoCwDotEU",
        "colab_type": "code",
        "colab": {
          "base_uri": "https://localhost:8080/",
          "height": 41
        },
        "outputId": "ec1bc18a-fe4c-413b-f5e1-19840c1eebd7"
      },
      "source": [
        "lp=-T*sp.diff(sp.solve(ig,V)[0],T) # find lp.\n",
        "display(lp) # before integrating with respect to p, we need to subsitute T as a function of p since both ar changing.\n",
        "qa=sp.integrate(lp.subs(T,sp.solve(ig,T)[0]),(p,ps[0],ps[1]))*100 # calculate the heat by integrating wrt pressure after substituting T in terms of p. \n",
        "qb=sp.integrate(Cs[1],(T,Ts[0],Ts[1])) # integrate Cp wrt T\n",
        "q1=qa.subs(R,Rs[0]).subs(V,Vs).evalf()+qb # substitute R and V, evaluate, and save as q1."
      ],
      "execution_count": 32,
      "outputs": [
        {
          "output_type": "display_data",
          "data": {
            "image/png": "[encoded data removed]",
            "text/latex": "$$- \\frac{R T}{p}$$",
            "text/plain": [
              "-R⋅T \n",
              "─────\n",
              "  p  "
            ]
          },
          "metadata": {
            "tags": []
          }
        }
      ]
    },
    {
      "cell_type": "code",
      "metadata": {
        "trusted": true,
        "id": "SuStjoK0otEX",
        "colab_type": "code",
        "colab": {
          "base_uri": "https://localhost:8080/",
          "height": 70
        },
        "outputId": "5bf2becd-e0e0-4ca1-eb27-620555ba28f0"
      },
      "source": [
        "print(\"The heat transferred due to pressure change is \", qa.subs(R,Rs[0]).subs(V,Vs).evalf().round(2),\" J/mol\")\n",
        "print(\"The heat transferred due to pressure change is \", qb.round(2),\" J/mol\")\n",
        "print(\"The total heat in this isochoric path is \",q1.round(2),\" J/mol\")\n"
      ],
      "execution_count": 33,
      "outputs": [
        {
          "output_type": "stream",
          "text": [
            "The heat transferred due to pressure change is  -83.14  J/mol\n",
            "The heat transferred due to pressure change is  207.85  J/mol\n",
            "The total heat in this isochoric path is  124.71  J/mol\n"
          ],
          "name": "stdout"
        }
      ]
    },
    {
      "cell_type": "markdown",
      "metadata": {
        "tags": [],
        "cell_id": "6b0e0e11-555b-4ef1-b370-b441dd1bf783",
        "id": "Ui_uh0aEotEm",
        "colab_type": "text"
      },
      "source": [
        "## 2 - In terms of dT and dV\n",
        "Let's calculate the same change using a different heat equation. $$dq=C_VdT+l_vdV$$"
      ]
    },
    {
      "cell_type": "code",
      "metadata": {
        "tags": [],
        "cell_id": "a6dd6e68-47cc-443d-9c16-5a32e9ecb3ef",
        "trusted": true,
        "id": "74O6d3d-otEm",
        "colab_type": "code",
        "colab": {}
      },
      "source": [
        "lv=T*sp.diff(sp.solve(ig,p)[0],T)\n",
        "qa=sp.integrate(Cs[0],(T,Ts[0],Ts[1])) # integrate wrt T\n",
        "qb=sp.integrate(lv,(V,Vs,Vs)) #Integrate wrt V (a bit boring since V doesn't change)\n",
        "q2=qa.subs(R,Rs[1]).subs(T,Ts[0]).evalf()+qb\n"
      ],
      "execution_count": 25,
      "outputs": []
    },
    {
      "cell_type": "code",
      "metadata": {
        "tags": [],
        "cell_id": "dd723c5a-96b7-490e-a3c6-f67d68acdccc",
        "trusted": true,
        "id": "g4KhENeMotEz",
        "colab_type": "code",
        "colab": {
          "base_uri": "https://localhost:8080/",
          "height": 87
        },
        "outputId": "c1566130-8141-4680-fec8-4f7746d2b206"
      },
      "source": [
        "print(\"The heat transferred due to temperature change is \", qa.subs(R,Rs[1]).subs(T,Ts[0]).evalf().round(2),\" J/mol\")\n",
        "print(\"The heat transferred due to volume change is \", qb.round(2),\" J/mol\")\n",
        "print(\"The total heat in this isochoric path is \",q2.round(2),\" J/mol\")\n",
        "print(\"The total heat using this heat equation, \",q2.round(2),\", should turn out to be identical to the heat using the other heat equation,\",q1.round(2),\". If not, we've done something wrong.\")"
      ],
      "execution_count": 26,
      "outputs": [
        {
          "output_type": "stream",
          "text": [
            "The heat transferred due to temperature change is  124.71  J/mol\n",
            "The heat transferred due to volume change is  0  J/mol\n",
            "The total heat in this isochoric path is  124.71  J/mol\n",
            "The total heat using this heat equation,  124.71 , should turn out to be identical to the heat using the other heat equation, 124.71 . If not, we've done something wrong.\n"
          ],
          "name": "stdout"
        }
      ]
    },
    {
      "cell_type": "markdown",
      "metadata": {
        "tags": [],
        "cell_id": "a287bcb1-fb26-4e9e-aaa7-61f558da934b",
        "id": "ZObjNZgBotE2",
        "colab_type": "text"
      },
      "source": [
        "## 3 - In terms of dp and dV\n",
        "One more time with the last heat equation...  $ dq=\\gamma_p dp + \\gamma_V dV$. \n"
      ]
    },
    {
      "cell_type": "code",
      "metadata": {
        "tags": [],
        "cell_id": "1fed0fa3-8188-418d-836c-3fdb7c07ff27",
        "trusted": true,
        "id": "dnUfZDC1otE2",
        "colab_type": "code",
        "colab": {}
      },
      "source": [
        "gamp=Cv/sp.diff(sp.solve(ig,p)[0],T) # define gamma p and gamma v using techniques we can learn later\n",
        "gamv=Cp/sp.diff(sp.solve(ig,V)[0],T) \n",
        "qa=sp.integrate(gamp,(p,ps[0],ps[1])) #integrate wrt p\n",
        "qb=sp.integrate(gamv,(V,Vs,Vs)) #integrate wrt V\n",
        "q3=qa.subs(R,Rs[0]).subs(Cv,Cs[0]).subs(V,Vs)+qb\n"
      ],
      "execution_count": 27,
      "outputs": []
    },
    {
      "cell_type": "code",
      "metadata": {
        "id": "3l9AU2IVPSEi",
        "colab_type": "code",
        "colab": {
          "base_uri": "https://localhost:8080/",
          "height": 87
        },
        "outputId": "d361c915-c236-401d-c885-a6554e1a43aa"
      },
      "source": [
        "print(\"The heat transferred due to pressure change is \", qa.subs(R,Rs[0]).subs(Cv,Cs[0]).subs(V,Vs).round(2),\" J/mol\")\n",
        "print(\"The heat transferred due to volume change is \", qb.round(2),\" J/mol\")\n",
        "print(\"The total heat in this isochoric path is \",q3.round(2),\" J/mol\")\n",
        "print(\"The total heat using this heat equation, \",q3.round(2),\", should turn out to be identical to the heat using the other heat equation,\",q1.round(2),\". If not, we've done something wrong.\")"
      ],
      "execution_count": 28,
      "outputs": [
        {
          "output_type": "stream",
          "text": [
            "The heat transferred due to pressure change is  124.71  J/mol\n",
            "The heat transferred due to volume change is  0  J/mol\n",
            "The total heat in this isochoric path is  124.71  J/mol\n",
            "The total heat using this heat equation,  124.71 , should turn out to be identical to the heat using the other heat equation, 124.71 . If not, we've done something wrong.\n"
          ],
          "name": "stdout"
        }
      ]
    }
  ]
}
