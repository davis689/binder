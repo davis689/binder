{
  "nbformat": 4,
  "nbformat_minor": 0,
  "metadata": {
    "colab": {
      "name": "Critical Points.ipynb",
      "provenance": [],
      "authorship_tag": "ABX9TyMc3UHW/pMX0gRpEsjoI2wN",
      "include_colab_link": true
    },
    "kernelspec": {
      "name": "python3",
      "display_name": "Python 3"
    }
  },
  "cells": [
    {
      "cell_type": "markdown",
      "metadata": {
        "id": "view-in-github",
        "colab_type": "text"
      },
      "source": [
        "<a href=\"https://colab.research.google.com/github/davis689/binder/blob/master/CHEM451/Critical_Points.ipynb\" target=\"_parent\"><img src=\"https://colab.research.google.com/assets/colab-badge.svg\" alt=\"Open In Colab\"/></a>"
      ]
    },
    {
      "cell_type": "markdown",
      "metadata": {
        "id": "DU9Tt0vxOOa-"
      },
      "source": [
        "## Set-up\n"
      ]
    },
    {
      "cell_type": "markdown",
      "metadata": {
        "id": "I4fYX1qYOeho"
      },
      "source": [
        "Import some key functions from SymPy to handle symbolic manipulations."
      ]
    },
    {
      "cell_type": "code",
      "metadata": {
        "id": "4tlijOlRjoqT"
      },
      "source": [
        "from sympy import diff, integrate, solve, Eq, symbols, Symbol, init_printing # we can import all of sympy but these are enough\n",
        "from sympy.plotting import plot\n",
        "init_printing()"
      ],
      "execution_count": 1,
      "outputs": []
    },
    {
      "cell_type": "code",
      "metadata": {
        "id": "bbFjaHbcj9f_"
      },
      "source": [
        "p,V,T,pc,Vc,Tc,pr,Vr,Tr=symbols(\"p,V_m,T,p_c,V_c,T_c,p_r,V_r,T_r\",positive=True, real=True) # Setup variables\n",
        "R,a,b=symbols(\"R, a, b\", positive=True,real=True,constant=True) # Setup constants"
      ],
      "execution_count": 2,
      "outputs": []
    },
    {
      "cell_type": "markdown",
      "metadata": {
        "id": "3W_hlMXo0gWn"
      },
      "source": [
        "We *could* define each variable separately or leave out the ```positive=True,real=True```... portions. Defining a bunch of them at once is just convenient. Separating them into appropriate categories where we expect them to be positive or real or whatever is useful because when the system is asked to solve or take a square root, it will simplify the answer. It may be obvious to us that we're not considering negative pressures or imaginary gas constants, but it's not obvious to the computer and eliminating those possibilities makes it easier to come to a general answer. In many cases, leaving off the assumptions works just fine but it doesn't cost much to categorize them this way and it might save a lot of hassle in the other cases.\n",
        "\n"
      ]
    },
    {
      "cell_type": "markdown",
      "metadata": {
        "id": "PPYyZNI3HuLF"
      },
      "source": [
        "## Critical Point\n",
        "The critical point is the temperature, pressure and volume where the isotherm goes through an inflection point. Since at an inflection point the first and second derivatives are zero, we can use these equations plus the equation of state to solve for the critical parameters. Here we'll do this symbolically. You can (and should) do this all on paper to make sure you know how it's working.\n",
        "\n",
        "First we set up the equation of state.\n",
        "\n"
      ]
    },
    {
      "cell_type": "code",
      "metadata": {
        "id": "61OAJHpRDGAB"
      },
      "source": [
        "p_eos=R*T/(V-b)-a/V**2\n",
        "#p_eos=R*T/(V-b)-a/(sp.sqrt(T)*V*(V+b))"
      ],
      "execution_count": 54,
      "outputs": []
    },
    {
      "cell_type": "markdown",
      "metadata": {
        "id": "vNIkiH1IBaql"
      },
      "source": [
        "Taking derivatives uses ```diff```. We can take the first derivative using ```diff(p_expr,V)```. A second derivative can be ```diff(diff(p_expr,V),V)``` by chaining two ```diff``` commands together or we can use ```diff(p_expr,V,2)``` where the 2 directs the computer to take a 2nd derivative.\n",
        "\n",
        "**Take the first and second derivative and verify that it's right.**"
      ]
    },
    {
      "cell_type": "code",
      "metadata": {
        "id": "cDDQDVFuCBdw"
      },
      "source": [
        ""
      ],
      "execution_count": null,
      "outputs": []
    },
    {
      "cell_type": "markdown",
      "metadata": {
        "id": "5vKr43HTN5Q1"
      },
      "source": [
        "Here we set up the equations using SymPy's Eq function. Here the parentheses are filled with both sides of the equation separated by a comma. The results are displayed."
      ]
    },
    {
      "cell_type": "code",
      "metadata": {
        "id": "6ZfQ2081DF6c",
        "colab": {
          "base_uri": "https://localhost:8080/",
          "height": 148
        },
        "outputId": "1415ae9f-675f-4d4e-effc-97aba9281a27"
      },
      "source": [
        "p_eq=Eq(p,p_eos) #vdw equation\n",
        "dp_eq=Eq(0,diff(p_eq.rhs,V)) # first derivative set to zero\n",
        "ddp_eq=Eq(0,diff(p_eq.rhs,V,2)) # second derivative set to zero\n",
        "display(p_eq,dp_eq,ddp_eq) # display them all\n"
      ],
      "execution_count": 55,
      "outputs": [
        {
          "output_type": "display_data",
          "data": {
            "image/png": "[encoded data removed]",
            "text/latex": "$\\displaystyle p = \\frac{R T}{V_{m} - b} - \\frac{a}{V_{m}^{2}}$",
            "text/plain": [
              "     R⋅T      a \n",
              "p = ────── - ───\n",
              "    Vₘ - b     2\n",
              "             Vₘ "
            ]
          },
          "metadata": {
            "tags": []
          }
        },
        {
          "output_type": "display_data",
          "data": {
            "image/png": "[encoded data removed]",
            "text/latex": "$\\displaystyle 0 = - \\frac{R T}{\\left(V_{m} - b\\right)^{2}} + \\frac{2 a}{V_{m}^{3}}$",
            "text/plain": [
              "         R⋅T      2⋅a\n",
              "0 = - ───────── + ───\n",
              "              2     3\n",
              "      (Vₘ - b)    Vₘ "
            ]
          },
          "metadata": {
            "tags": []
          }
        },
        {
          "output_type": "display_data",
          "data": {
            "image/png": "[encoded data removed]",
            "text/latex": "$\\displaystyle 0 = 2 \\left(\\frac{R T}{\\left(V_{m} - b\\right)^{3}} - \\frac{3 a}{V_{m}^{4}}\\right)$",
            "text/plain": [
              "      ⎛   R⋅T      3⋅a⎞\n",
              "0 = 2⋅⎜───────── - ───⎟\n",
              "      ⎜        3     4⎟\n",
              "      ⎝(Vₘ - b)    Vₘ ⎠"
            ]
          },
          "metadata": {
            "tags": []
          }
        }
      ]
    },
    {
      "cell_type": "markdown",
      "metadata": {
        "id": "pkifxmd0OzNu"
      },
      "source": [
        "Now to solve for the critical parameters, we use solve. The answer to the solve function is always a list. Since we're only expecting one solution set, the , after critpoint makes solve only return the solution rather than a list of them. "
      ]
    },
    {
      "cell_type": "code",
      "metadata": {
        "id": "LN0KuXiyMD2L",
        "colab": {
          "base_uri": "https://localhost:8080/",
          "height": 103
        },
        "outputId": "31f2641e-f12b-4d85-9e08-5bf546f43d10"
      },
      "source": [
        "critpoint,=solve([p_eq,dp_eq,ddp_eq],[p,V,T]) # solve for p, V, and T\n",
        "pc,vc,tc=symbols('p_c V_c T_c') # lower-case symbols for the left-hand-side of the equations.\n",
        "Pc,Vc,Tc=[critpoint[i] for i in range(len(critpoint))] # upper-case for the rhs. Each part of the solution set (p, V, and T) is assigned to a variable.\n",
        "display(Eq(pc,Pc))\n",
        "display(Eq(vc,Vc))\n",
        "display(Eq(tc,Tc))"
      ],
      "execution_count": 56,
      "outputs": [
        {
          "output_type": "display_data",
          "data": {
            "image/png": "[encoded data removed]",
            "text/latex": "$\\displaystyle p_{c} = \\frac{a}{27 b^{2}}$",
            "text/plain": [
              "        a  \n",
              "p_c = ─────\n",
              "          2\n",
              "      27⋅b "
            ]
          },
          "metadata": {
            "tags": []
          }
        },
        {
          "output_type": "display_data",
          "data": {
            "image/png": "[encoded data removed]",
            "text/latex": "$\\displaystyle V_{c} = 3 b$",
            "text/plain": [
              "V_c = 3⋅b"
            ]
          },
          "metadata": {
            "tags": []
          }
        },
        {
          "output_type": "display_data",
          "data": {
            "image/png": "[encoded data removed]",
            "text/latex": "$\\displaystyle T_{c} = \\frac{8 a}{27 R b}$",
            "text/plain": [
              "       8⋅a  \n",
              "T_c = ──────\n",
              "      27⋅R⋅b"
            ]
          },
          "metadata": {
            "tags": []
          }
        }
      ]
    },
    {
      "cell_type": "markdown",
      "metadata": {
        "id": "qnUj-Iv_VduC"
      },
      "source": [
        "## Law of Corresponding States\n",
        "Since we have the critical temperatures, pressures, and volumes in terms of van der Waals parameters, we can use them to find a real gas equation of state that is the same for all gases. First define *reduced* variables, $p_r$, $V_r$, and $T_r$ such that $p_r=p/p_c$, $V_r=V/V_c$, and $T_r=T/T_c$. Use these definitions to substitute for $p, V$, and $T$.\n",
        "The result is an equation that has no $a$ or $b$ parameters. It says that as a fraction of the way to the critical point, every gas behaves the same. Of course, he applicability of this equation depends on the applicability of the equation of state we've chosen."
      ]
    },
    {
      "cell_type": "code",
      "metadata": {
        "id": "X6ake5tsMYT7",
        "colab": {
          "base_uri": "https://localhost:8080/",
          "height": 60
        },
        "outputId": "b9e70ec4-c6d5-4acb-abeb-be9debc057e1"
      },
      "source": [
        "Vr,pr,Tr=sp.symbols(\"V_r,p_r,T_r\")\n",
        "cs_eos=sp.Eq(p_eos.subs({V:Vc*Vr,T:Tc*Tr}).subs({Tc:Tc,Vc:Vc}),pc*pr.subs(pc,pc))# Setup equation and substitute reduced and critical values into it.\n",
        "lcs=sp.Eq(pr,solve(cs_eos,pr)[0]) # solve equation for pr (which will result in only the right hand side of the equation) and write as an equation.\n",
        "display(lcs)"
      ],
      "execution_count": 57,
      "outputs": [
        {
          "output_type": "display_data",
          "data": {
            "image/png": "[encoded data removed]",
            "text/latex": "$\\displaystyle p_{r} = \\frac{a \\left(8 T_{r} V_{r}^{2} - 9 V_{r} + 3\\right)}{27 V_{r}^{2} b^{2} p_{c} \\left(3 V_{r} - 1\\right)}$",
            "text/plain": [
              "       ⎛       2           ⎞ \n",
              "     a⋅⎝8⋅Tᵣ⋅Vᵣ  - 9⋅Vᵣ + 3⎠ \n",
              "pᵣ = ────────────────────────\n",
              "          2  2               \n",
              "     27⋅Vᵣ ⋅b ⋅p_c⋅(3⋅Vᵣ - 1)"
            ]
          },
          "metadata": {
            "tags": []
          }
        }
      ]
    },
    {
      "cell_type": "markdown",
      "metadata": {
        "id": "Isxb_Yq_JvkB"
      },
      "source": [
        "Do this all again for a different equation of state (not the ideal gas equation of state)."
      ]
    },
    {
      "cell_type": "code",
      "metadata": {
        "id": "8EGIMxnBJ71N"
      },
      "source": [
        ""
      ],
      "execution_count": null,
      "outputs": []
    }
  ]
}