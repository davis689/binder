{
  "nbformat": 4,
  "nbformat_minor": 0,
  "metadata": {
    "colab": {
      "name": "Critical Points.ipynb",
      "provenance": [],
      "authorship_tag": "ABX9TyO9oEV4x4fKVX+8YjYpphvV",
      "include_colab_link": true
    },
    "kernelspec": {
      "name": "python3",
      "display_name": "Python 3"
    }
  },
  "cells": [
    {
      "cell_type": "markdown",
      "metadata": {
        "id": "view-in-github",
        "colab_type": "text"
      },
      "source": [
        "<a href=\"https://colab.research.google.com/github/davis689/binder/blob/master/Critical_Points.ipynb\" target=\"_parent\"><img src=\"https://colab.research.google.com/assets/colab-badge.svg\" alt=\"Open In Colab\"/></a>"
      ]
    },
    {
      "cell_type": "markdown",
      "metadata": {
        "id": "DU9Tt0vxOOa-",
        "colab_type": "text"
      },
      "source": [
        "## Critical Point\n"
      ]
    },
    {
      "cell_type": "code",
      "metadata": {
        "id": "TBVWffGd5xDi",
        "colab_type": "code",
        "colab": {}
      },
      "source": [
        "!pip install sympy # Not generally necessary but this solves 'No module named sympy' errors."
      ],
      "execution_count": null,
      "outputs": []
    },
    {
      "cell_type": "markdown",
      "metadata": {
        "id": "I4fYX1qYOeho",
        "colab_type": "text"
      },
      "source": [
        "Import some key functions from SymPy to handle symbolic manipulations."
      ]
    },
    {
      "cell_type": "code",
      "metadata": {
        "id": "4tlijOlRjoqT",
        "colab_type": "code",
        "colab": {}
      },
      "source": [
        "from sympy import diff, integrate, solve, Eq, symbols, Symbol, init_printing\n",
        "from sympy.plotting import plot\n",
        "init_printing()"
      ],
      "execution_count": null,
      "outputs": []
    },
    {
      "cell_type": "code",
      "metadata": {
        "id": "bbFjaHbcj9f_",
        "colab_type": "code",
        "colab": {}
      },
      "source": [
        "p,V,T,pc,Vc,Tc,pr,Vr,Tr=symbols(\"p,V_m,T,p_c,V_c,T_c,p_r,V_r,T_r\",positive=True, real=True) # Setup variables\n",
        "R,a,b=symbols(\"R, a, b\", positive=True,real=True,constant=True) # Setup constants"
      ],
      "execution_count": null,
      "outputs": []
    },
    {
      "cell_type": "markdown",
      "metadata": {
        "id": "PPYyZNI3HuLF",
        "colab_type": "text"
      },
      "source": [
        "The critical point is the temperature, pressure and volume where the isotherm goes through an inflection point. Since at an inflection point the first and second derivatives are zero, we can use these equations plus the equation of state to solve for the critical parameters.\n",
        "\n",
        "First we set up the eos, and the two derivatives."
      ]
    },
    {
      "cell_type": "code",
      "metadata": {
        "id": "61OAJHpRDGAB",
        "colab_type": "code",
        "colab": {}
      },
      "source": [
        "p_expr=R*T/(V-b)-a/V**2\n",
        "#p_expr=R*T/(V-b)-a/(sp.sqrt(T)*V*(V+b))\n",
        "dp=diff(p_expr,V)   # take the derivative (diff) of p_expr with respect to V\n",
        "ddp=diff(p_expr,V,2) # take the 2nd derivative (diff) of p_expr with respect to V"
      ],
      "execution_count": null,
      "outputs": []
    },
    {
      "cell_type": "markdown",
      "metadata": {
        "id": "5vKr43HTN5Q1",
        "colab_type": "text"
      },
      "source": [
        "Here we use these expressions to set up the equations using SymPy's Eq function. Here the parentheses are filled with both sides of the equation separated by a comma. The results are displayed."
      ]
    },
    {
      "cell_type": "code",
      "metadata": {
        "id": "6ZfQ2081DF6c",
        "colab_type": "code",
        "colab": {
          "base_uri": "https://localhost:8080/",
          "height": 97
        },
        "outputId": "4729f465-3f5c-4de4-cd15-446e0967f6c0"
      },
      "source": [
        "p_eq=Eq(p,p_expr) # so p equals what we defined as p_expr above \n",
        "dp_eq=Eq(0,dp)  # at critical point the derivative is zero so assign that here\n",
        "ddp_eq=Eq(0,ddp) # likewise\n",
        "display(p_eq,dp_eq,ddp_eq) # display all three equations that we just defined so that we can see if they are correct\n"
      ],
      "execution_count": null,
      "outputs": [
        {
          "output_type": "display_data",
          "data": {
            "image/png": "[encoded data removed]",
            "text/latex": "$$p = \\frac{R T}{V_{m} - b} - \\frac{a}{V_{m}^{2}}$$",
            "text/plain": [
              "     R⋅T      a \n",
              "p = ────── - ───\n",
              "    Vₘ - b     2\n",
              "             Vₘ "
            ]
          },
          "metadata": {
            "tags": []
          }
        },
        {
          "output_type": "display_data",
          "data": {
            "image/png": "[encoded data removed]",
            "text/latex": "$$0 = - \\frac{R T}{\\left(V_{m} - b\\right)^{2}} + \\frac{2 a}{V_{m}^{3}}$$",
            "text/plain": [
              "         R⋅T      2⋅a\n",
              "0 = - ───────── + ───\n",
              "              2     3\n",
              "      (Vₘ - b)    Vₘ "
            ]
          },
          "metadata": {
            "tags": []
          }
        },
        {
          "output_type": "display_data",
          "data": {
            "image/png": "[encoded data removed]",
            "text/latex": "$$0 = 2 \\left(\\frac{R T}{\\left(V_{m} - b\\right)^{3}} - \\frac{3 a}{V_{m}^{4}}\\right)$$",
            "text/plain": [
              "      ⎛   R⋅T      3⋅a⎞\n",
              "0 = 2⋅⎜───────── - ───⎟\n",
              "      ⎜        3     4⎟\n",
              "      ⎝(Vₘ - b)    Vₘ ⎠"
            ]
          },
          "metadata": {
            "tags": []
          }
        }
      ]
    },
    {
      "cell_type": "markdown",
      "metadata": {
        "id": "pkifxmd0OzNu",
        "colab_type": "text"
      },
      "source": [
        "Now to solve for the critical parameters, we use solve. The answer to the solve function is always a list. The , after critpoint makes solve only return the solution which is itself a list of the three critical parameters. We can assign these to variables."
      ]
    },
    {
      "cell_type": "code",
      "metadata": {
        "id": "LN0KuXiyMD2L",
        "colab_type": "code",
        "colab": {
          "base_uri": "https://localhost:8080/",
          "height": 81
        },
        "outputId": "3223e31b-e158-4424-f6a4-5fc7ff8a7f3b"
      },
      "source": [
        "critpoint,=solve([p_eq,dp_eq,ddp_eq],[p,V,T]) # solve the three equations for the three unknowns.\n",
        "pc,Vc,Tc=[critpoint[i] for i in range(len(critpoint))] #assign the solutions above to the variables pc, Vc, and Tc for possible use later.\n",
        "display(pc,Vc,Tc) # display the results"
      ],
      "execution_count": null,
      "outputs": [
        {
          "output_type": "display_data",
          "data": {
            "image/png": "[encoded data removed]",
            "text/latex": "$$\\frac{a}{27 b^{2}}$$",
            "text/plain": [
              "  a  \n",
              "─────\n",
              "    2\n",
              "27⋅b "
            ]
          },
          "metadata": {
            "tags": []
          }
        },
        {
          "output_type": "display_data",
          "data": {
            "image/png": "[encoded data removed]",
            "text/latex": "$$3 b$$",
            "text/plain": [
              "3⋅b"
            ]
          },
          "metadata": {
            "tags": []
          }
        },
        {
          "output_type": "display_data",
          "data": {
            "image/png": "[encoded data removed]",
            "text/latex": "$$\\frac{8 a}{27 R b}$$",
            "text/plain": [
              " 8⋅a  \n",
              "──────\n",
              "27⋅R⋅b"
            ]
          },
          "metadata": {
            "tags": []
          }
        }
      ]
    },
    {
      "cell_type": "markdown",
      "metadata": {
        "id": "qnUj-Iv_VduC",
        "colab_type": "text"
      },
      "source": [
        "## Law of Corresponding States\n",
        "Since we have the critical temperatures, pressures, and volumes in terms of van der Waals parameters, we can use them to find a real gas equation of state that is the same for all gases. First define *reduced* variables, $p_r$, $V_r$, and $T_r$ such that $p_r=p/p_c$, $V_r=V/V_c$, and $T_r=T/T_c$. Use these definitions to substitute for $p, V$, and $T$.\n",
        "The result is an equation that has no $a$ or $b$ parameters. It says that as a fraction of the way to the critical point, every gas behaves the same. Of course, he applicability of this equation depends on the applicability of the equation of state we've chosen."
      ]
    },
    {
      "cell_type": "code",
      "metadata": {
        "id": "X6ake5tsMYT7",
        "colab_type": "code",
        "colab": {
          "base_uri": "https://localhost:8080/",
          "height": 45
        },
        "outputId": "c4d9c9af-f2aa-46d0-e683-1a3095b2a55d"
      },
      "source": [
        "Vr,pr,Tr=sp.symbols(\"V_r,p_r,T_r\")\n",
        "cs_eos=sp.Eq(p_expr.subs({V:Vc*Vr,T:Tc*Tr}).subs({Tc:Tc,Vc:Vc}),pc*pr.subs(pc,pc))# Setup equation and substitute reduced and critical values into it.\n",
        "lcs=sp.Eq(pr,solve(cs_eos,pr)[0]) # solve equation for pr (which will result in only the right hand side of the equation) and write as an equation.\n",
        "display(lcs)"
      ],
      "execution_count": null,
      "outputs": [
        {
          "output_type": "display_data",
          "data": {
            "image/png": "[encoded data removed]",
            "text/latex": "$$p_{r} = \\frac{8 T_{r} V_{r}^{2} - 9 V_{r} + 3}{V_{r}^{2} \\left(3 V_{r} - 1\\right)}$$",
            "text/plain": [
              "            2           \n",
              "     8⋅Tᵣ⋅Vᵣ  - 9⋅Vᵣ + 3\n",
              "pᵣ = ───────────────────\n",
              "          2             \n",
              "        Vᵣ ⋅(3⋅Vᵣ - 1)  "
            ]
          },
          "metadata": {
            "tags": []
          }
        }
      ]
    },
    {
      "cell_type": "markdown",
      "metadata": {
        "id": "Pd_Gdyc5vyjM",
        "colab_type": "text"
      },
      "source": [
        "This version of the law of corresponding states is similar in that it contains no van der Waals parameters but it is arranged differently from the one we saw in class. However, you can easily divide the denominator into the first numerator term and into the combined second two terms to rearrange into the form we saw."
      ]
    }
  ]
}
