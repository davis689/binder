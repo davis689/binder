{
  "nbformat": 4,
  "nbformat_minor": 0,
  "metadata": {
    "colab": {
      "name": "Critical Points.ipynb",
      "provenance": [],
      "authorship_tag": "ABX9TyPlx6SxB+A6tas4sC8b6wqy",
      "include_colab_link": true
    },
    "kernelspec": {
      "name": "python3",
      "display_name": "Python 3"
    }
  },
  "cells": [
    {
      "cell_type": "markdown",
      "metadata": {
        "id": "view-in-github",
        "colab_type": "text"
      },
      "source": [
        "<a href=\"https://colab.research.google.com/github/davis689/binder/blob/master/Critical_Points.ipynb\" target=\"_parent\"><img src=\"https://colab.research.google.com/assets/colab-badge.svg\" alt=\"Open In Colab\"/></a>"
      ]
    },
    {
      "cell_type": "markdown",
      "metadata": {
        "id": "DU9Tt0vxOOa-",
        "colab_type": "text"
      },
      "source": [
        "## Critical Point\n"
      ]
    },
    {
      "cell_type": "markdown",
      "metadata": {
        "id": "I4fYX1qYOeho",
        "colab_type": "text"
      },
      "source": [
        "Import some key functions from SymPy to handle symbolic manipulations."
      ]
    },
    {
      "cell_type": "code",
      "metadata": {
        "id": "4tlijOlRjoqT",
        "colab_type": "code",
        "colab": {}
      },
      "source": [
        "from sympy import diff, integrate, solve, Eq, symbols, Symbol, init_printing\n",
        "from sympy.plotting import plot\n",
        "init_printing()"
      ],
      "execution_count": 1,
      "outputs": []
    },
    {
      "cell_type": "code",
      "metadata": {
        "id": "bbFjaHbcj9f_",
        "colab_type": "code",
        "colab": {}
      },
      "source": [
        "p,V,T,pc,Vc,Tc,pr,Vr,Tr=symbols(\"p,V_m,T,p_c,V_c,T_c,p_r,V_r,T_r\",positive=True, real=True) # Setup variables\n",
        "R,a,b=symbols(\"R, a, b\", positive=True,real=True,constant=True) # Setup constants"
      ],
      "execution_count": 2,
      "outputs": []
    },
    {
      "cell_type": "markdown",
      "metadata": {
        "id": "TMfS1Wl4OznV",
        "colab_type": "text"
      },
      "source": [
        "Now we'll select an equation of state. We should be able to use whichever one we want and we can write several and comment out (precede with a #) all but the one we want to use now.\n",
        "The Eq function takes two arguments which are the two sides of the equation (separated by a comma). If you want to see the equation thus formed, type\n",
        "\n",
        "\n",
        "```\n",
        "display(eos)\n",
        "```\n",
        "\n"
      ]
    },
    {
      "cell_type": "code",
      "metadata": {
        "id": "KL6wjdnQj1yg",
        "colab_type": "code",
        "colab": {
          "base_uri": "https://localhost:8080/",
          "height": 42
        },
        "outputId": "062bdff5-29fa-40d1-d3eb-86efb1c2654e"
      },
      "source": [
        "#eos=Eq(p*V,R*T) # ideal gas law\n",
        "eos=Eq(p,R*T/(V-b)-a/V**2) # van der Waals gas \n",
        "#eos=Eq(p,R*T/(V-b)-a/(sp.sqrt(T)*V*(V+b)) # Redlich Kwong Eq\n",
        "display(eos)\n"
      ],
      "execution_count": 8,
      "outputs": [
        {
          "output_type": "display_data",
          "data": {
            "image/png": "[encoded data removed]",
            "text/latex": "$$p = \\frac{R T}{V_{m} - b} - \\frac{a}{V_{m}^{2}}$$",
            "text/plain": [
              "     R⋅T      a \n",
              "p = ────── - ───\n",
              "    Vₘ - b     2\n",
              "             Vₘ "
            ]
          },
          "metadata": {
            "tags": []
          }
        }
      ]
    },
    {
      "cell_type": "code",
      "metadata": {
        "id": "h22K7X-hkWvH",
        "colab_type": "code",
        "colab": {}
      },
      "source": [
        "p_eq=eos # not necessary since we could just use eos directly but sets up naming parallels to derivative equations that follow.\n",
        "dp_eq=Eq(diff(solve(eos,p)[0],V),0) # set first derivative equal to 0\n",
        "ddp_eq=Eq(diff(solve(eos,p)[0],V,2),0) # set second derivative equal to 0"
      ],
      "execution_count": 7,
      "outputs": []
    },
    {
      "cell_type": "code",
      "metadata": {
        "id": "hioQEKfSTCVb",
        "colab_type": "code",
        "colab": {
          "base_uri": "https://localhost:8080/",
          "height": 36
        },
        "outputId": "6aecee9c-c7e1-4d36-ee38-ad6b0dc6a30c"
      },
      "source": [
        "solve([p_eq,dp_eq,ddp_eq],[T,p,V])"
      ],
      "execution_count": 9,
      "outputs": [
        {
          "output_type": "execute_result",
          "data": {
            "image/png": "[encoded data removed]",
            "text/latex": "$$\\left [ \\right ]$$",
            "text/plain": [
              "[]"
            ]
          },
          "metadata": {
            "tags": []
          },
          "execution_count": 9
        }
      ]
    },
    {
      "cell_type": "code",
      "metadata": {
        "id": "zNzTouFOlKpH",
        "colab_type": "code",
        "colab": {
          "base_uri": "https://localhost:8080/",
          "height": 42
        },
        "outputId": "1ed167bb-5037-41dd-dd09-945899921814"
      },
      "source": [
        "eos.subs(p,pc*pr).subs(V,Vc*Vr).subs(T,Tc*Tr)"
      ],
      "execution_count": null,
      "outputs": [
        {
          "output_type": "execute_result",
          "data": {
            "image/png": "[encoded data removed]",
            "text/latex": "$$p_{c} p_{r} = \\frac{R T_{c} T_{r}}{V_{c} V_{r} - b} - \\frac{a}{V_{c}^{2} V_{r}^{2}}$$",
            "text/plain": [
              "          R⋅T_c⋅Tᵣ       a    \n",
              "p_c⋅pᵣ = ────────── - ────────\n",
              "         V_c⋅Vᵣ - b      2   2\n",
              "                      V_c ⋅Vᵣ "
            ]
          },
          "metadata": {
            "tags": []
          },
          "execution_count": 6
        }
      ]
    },
    {
      "cell_type": "code",
      "metadata": {
        "id": "Yl_lJxjdlZ9e",
        "colab_type": "code",
        "colab": {
          "base_uri": "https://localhost:8080/",
          "height": 42
        },
        "outputId": "9d846270-d004-4b7b-e1b9-bd2b2055aa1e"
      },
      "source": [
        "diff(eos,T,evaluate=True)"
      ],
      "execution_count": null,
      "outputs": [
        {
          "output_type": "execute_result",
          "data": {
            "image/png": "[encoded data removed]",
            "text/latex": "$$\\frac{\\partial}{\\partial T} p = \\frac{R T}{V_{m} - b} - \\frac{a}{V_{m}^{2}}$$",
            "text/plain": [
              "∂ ⎛     R⋅T      a ⎞\n",
              "──⎜p = ────── - ───⎟\n",
              "∂T⎜    Vₘ - b     2⎟\n",
              "  ⎝             Vₘ ⎠"
            ]
          },
          "metadata": {
            "tags": []
          },
          "execution_count": 7
        }
      ]
    },
    {
      "cell_type": "code",
      "metadata": {
        "id": "f-9j5wkrmuuq",
        "colab_type": "code",
        "colab": {
          "base_uri": "https://localhost:8080/",
          "height": 42
        },
        "outputId": "eb9fbba5-e3a5-44e7-a31f-ce55bcd20064"
      },
      "source": [
        "dVdT=_.subs(R,0.08314).subs(a,2.11).subs(b,0.23).subs(p,1)\n",
        "dVdT"
      ],
      "execution_count": null,
      "outputs": [
        {
          "output_type": "execute_result",
          "data": {
            "image/png": "[encoded data removed]",
            "text/latex": "$$\\frac{\\partial}{\\partial T} 1 = \\frac{0.08314 T}{V_{m} - 0.23} - \\frac{2.11}{V_{m}^{2}}$$",
            "text/plain": [
              "∂ ⎛    0.08314⋅T   2.11⎞\n",
              "──⎜1 = ───────── - ────⎟\n",
              "∂T⎜    Vₘ - 0.23     2 ⎟\n",
              "  ⎝                Vₘ  ⎠"
            ]
          },
          "metadata": {
            "tags": []
          },
          "execution_count": 8
        }
      ]
    },
    {
      "cell_type": "code",
      "metadata": {
        "id": "mMVaudG0nFkb",
        "colab_type": "code",
        "colab": {}
      },
      "source": [
        "import matplotlib.pyplot as plt"
      ],
      "execution_count": null,
      "outputs": []
    },
    {
      "cell_type": "code",
      "metadata": {
        "id": "0Z7SzE97PLbV",
        "colab_type": "code",
        "colab": {
          "base_uri": "https://localhost:8080/",
          "height": 55
        },
        "outputId": "6268e7ac-6bb8-45f5-f89b-f004116d3323"
      },
      "source": [
        "import sympy as sp\n",
        "import math\n",
        "\n",
        "\n",
        "def f(x,y):\n",
        "    return x**2 + x*y**2\n",
        "\n",
        "\n",
        "x, y = sp.symbols('x y')\n",
        "\n",
        "def fprime(x,y):\n",
        "    return sp.diff(f(x,y),x)\n",
        "\n",
        "display(fprime(x,y)) #This works.\n",
        "\n",
        "DerivativeOfF = sp.lambdify((x,y),sp.diff(f(x,y),x),\"numpy\")\n",
        "(DerivativeOfF(1,1))"
      ],
      "execution_count": null,
      "outputs": [
        {
          "output_type": "display_data",
          "data": {
            "image/png": "[encoded data removed]",
            "text/latex": "$$2 x + y^{2}$$",
            "text/plain": [
              "       2\n",
              "2⋅x + y "
            ]
          },
          "metadata": {
            "tags": []
          }
        },
        {
          "output_type": "execute_result",
          "data": {
            "text/plain": [
              "3"
            ]
          },
          "metadata": {
            "tags": []
          },
          "execution_count": 10
        }
      ]
    },
    {
      "cell_type": "markdown",
      "metadata": {
        "id": "PPYyZNI3HuLF",
        "colab_type": "text"
      },
      "source": [
        "## Critical Point\n",
        "The critical point is the temperature, pressure and volume where the isotherm goes through an inflection point. Since at an inflection point the first and second derivatives are zero, we can use these equations plus the equation of state to solve for the critical parameters.\n",
        "\n",
        "First we set up the eos, and the two derivatives."
      ]
    },
    {
      "cell_type": "code",
      "metadata": {
        "id": "61OAJHpRDGAB",
        "colab_type": "code",
        "colab": {}
      },
      "source": [
        "p_expr=R*T/(V-b)-a/V**2\n",
        "#p_expr=R*T/(V-b)-a/(sp.sqrt(T)*V*(V+b))\n",
        "dp=diff(p_expr,V)\n",
        "ddp=diff(p_expr,V,2)"
      ],
      "execution_count": null,
      "outputs": []
    },
    {
      "cell_type": "markdown",
      "metadata": {
        "id": "5vKr43HTN5Q1",
        "colab_type": "text"
      },
      "source": [
        "Here we use these expressions to set up the equations using SymPy's Eq function. Here the parentheses are filled with both sides of the equation separated by a comma. The results are displayed."
      ]
    },
    {
      "cell_type": "code",
      "metadata": {
        "id": "6ZfQ2081DF6c",
        "colab_type": "code",
        "colab": {
          "base_uri": "https://localhost:8080/",
          "height": 97
        },
        "outputId": "2e64d6f4-0f87-4ffa-f860-475dbd7bc0a7"
      },
      "source": [
        "p_eq=Eq(p,p_expr)\n",
        "dp_eq=Eq(0,dp)\n",
        "ddp_eq=Eq(0,ddp)\n",
        "display(p_eq,dp_eq,ddp_eq)\n"
      ],
      "execution_count": null,
      "outputs": [
        {
          "output_type": "display_data",
          "data": {
            "image/png": "[encoded data removed]",
            "text/latex": "$$p = \\frac{R T}{V_{m} - b} - \\frac{a}{V_{m}^{2}}$$",
            "text/plain": [
              "     R⋅T      a \n",
              "p = ────── - ───\n",
              "    Vₘ - b     2\n",
              "             Vₘ "
            ]
          },
          "metadata": {
            "tags": []
          }
        },
        {
          "output_type": "display_data",
          "data": {
            "image/png": "[encoded data removed]",
            "text/latex": "$$0 = - \\frac{R T}{\\left(V_{m} - b\\right)^{2}} + \\frac{2 a}{V_{m}^{3}}$$",
            "text/plain": [
              "         R⋅T      2⋅a\n",
              "0 = - ───────── + ───\n",
              "              2     3\n",
              "      (Vₘ - b)    Vₘ "
            ]
          },
          "metadata": {
            "tags": []
          }
        },
        {
          "output_type": "display_data",
          "data": {
            "image/png": "[encoded data removed]",
            "text/latex": "$$0 = 2 \\left(\\frac{R T}{\\left(V_{m} - b\\right)^{3}} - \\frac{3 a}{V_{m}^{4}}\\right)$$",
            "text/plain": [
              "      ⎛   R⋅T      3⋅a⎞\n",
              "0 = 2⋅⎜───────── - ───⎟\n",
              "      ⎜        3     4⎟\n",
              "      ⎝(Vₘ - b)    Vₘ ⎠"
            ]
          },
          "metadata": {
            "tags": []
          }
        }
      ]
    },
    {
      "cell_type": "markdown",
      "metadata": {
        "id": "pkifxmd0OzNu",
        "colab_type": "text"
      },
      "source": [
        "Now to solve for the critical parameters, we use solve. The answer to the solve function is always a list. The , after critpoint makes solve only return the solution which is itself a list of the three critical parameters. We can assign these to variables."
      ]
    },
    {
      "cell_type": "code",
      "metadata": {
        "id": "LN0KuXiyMD2L",
        "colab_type": "code",
        "colab": {
          "base_uri": "https://localhost:8080/",
          "height": 81
        },
        "outputId": "f73612a2-8a4d-4126-bbd8-bcb79da69837"
      },
      "source": [
        "critpoint,=solve([p_eq,dp_eq,ddp_eq],[p,V,T])\n",
        "pc,Vc,Tc=[critpoint[i] for i in range(len(critpoint))]\n",
        "display(pc,Vc,Tc)"
      ],
      "execution_count": null,
      "outputs": [
        {
          "output_type": "display_data",
          "data": {
            "image/png": "[encoded data removed]",
            "text/latex": "$$\\frac{a}{27 b^{2}}$$",
            "text/plain": [
              "  a  \n",
              "─────\n",
              "    2\n",
              "27⋅b "
            ]
          },
          "metadata": {
            "tags": []
          }
        },
        {
          "output_type": "display_data",
          "data": {
            "image/png": "[encoded data removed]",
            "text/latex": "$$3 b$$",
            "text/plain": [
              "3⋅b"
            ]
          },
          "metadata": {
            "tags": []
          }
        },
        {
          "output_type": "display_data",
          "data": {
            "image/png": "[encoded data removed]",
            "text/latex": "$$\\frac{8 a}{27 R b}$$",
            "text/plain": [
              " 8⋅a  \n",
              "──────\n",
              "27⋅R⋅b"
            ]
          },
          "metadata": {
            "tags": []
          }
        }
      ]
    },
    {
      "cell_type": "markdown",
      "metadata": {
        "id": "qnUj-Iv_VduC",
        "colab_type": "text"
      },
      "source": [
        "## Law of Corresponding States\n",
        "Since we have the critical temperatures, pressures, and volumes in terms of van der Waals parameters, we can use them to find a real gas equation of state that is the same for all gases. First define *reduced* variables, $p_r$, $V_r$, and $T_r$ such that $p_r=p/p_c$, $V_r=V/V_c$, and $T_r=T/T_c$. Use these definitions to substitute for $p, V$, and $T$.\n",
        "The result is an equation that has no $a$ or $b$ parameters. It says that as a fraction of the way to the critical point, every gas behaves the same. Of course, he applicability of this equation depends on the applicability of the equation of state we've chosen."
      ]
    },
    {
      "cell_type": "code",
      "metadata": {
        "id": "X6ake5tsMYT7",
        "colab_type": "code",
        "colab": {
          "base_uri": "https://localhost:8080/",
          "height": 45
        },
        "outputId": "c4d9c9af-f2aa-46d0-e683-1a3095b2a55d"
      },
      "source": [
        "Vr,pr,Tr=sp.symbols(\"V_r,p_r,T_r\")\n",
        "cs_eos=sp.Eq(p_expr.subs({V:Vc*Vr,T:Tc*Tr}).subs({Tc:Tc,Vc:Vc}),pc*pr.subs(pc,pc))# Setup equation and substitute reduced and critical values into it.\n",
        "lcs=sp.Eq(pr,solve(cs_eos,pr)[0]) # solve equation for pr (which will result in only the right hand side of the equation) and write as an equation.\n",
        "display(lcs)"
      ],
      "execution_count": null,
      "outputs": [
        {
          "output_type": "display_data",
          "data": {
            "image/png": "[encoded data removed]",
            "text/latex": "$$p_{r} = \\frac{8 T_{r} V_{r}^{2} - 9 V_{r} + 3}{V_{r}^{2} \\left(3 V_{r} - 1\\right)}$$",
            "text/plain": [
              "            2           \n",
              "     8⋅Tᵣ⋅Vᵣ  - 9⋅Vᵣ + 3\n",
              "pᵣ = ───────────────────\n",
              "          2             \n",
              "        Vᵣ ⋅(3⋅Vᵣ - 1)  "
            ]
          },
          "metadata": {
            "tags": []
          }
        }
      ]
    }
  ]
}