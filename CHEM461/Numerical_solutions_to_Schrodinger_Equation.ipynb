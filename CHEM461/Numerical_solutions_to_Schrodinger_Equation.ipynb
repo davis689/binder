{
  "nbformat": 4,
  "nbformat_minor": 0,
  "metadata": {
    "kernelspec": {
      "name": "python3",
      "display_name": "Python 3"
    },
    "colab": {
      "provenance": [],
      "include_colab_link": true
    }
  },
  "cells": [
    {
      "cell_type": "markdown",
      "metadata": {
        "id": "view-in-github",
        "colab_type": "text"
      },
      "source": [
        "<a href=\"https://colab.research.google.com/github/davis689/binder/blob/master/CHEM461/Numerical_solutions_to_Schrodinger_Equation.ipynb\" target=\"_parent\"><img src=\"https://colab.research.google.com/assets/colab-badge.svg\" alt=\"Open In Colab\"/></a>"
      ]
    },
    {
      "cell_type": "markdown",
      "metadata": {
        "id": "LZAR1TdwyaVo"
      },
      "source": [
        "# Numerically Solving the Schrödinger Equation\n",
        "(Some of the following (mostly, I think, the finite differences procedure) was taken from someone else's Jupyter notebook and I can't remember whose. Credit to that unknown creator.)\n",
        "\n",
        "The number of problems for which we will be able to find an analytical solution to the Schrödinger equation is limited. We have seen how to solve the particle in a box and we will be able to analytically solve some others but even in those cases we often rely on solutions by long dead French mathematicians rather than doing the tedious work ourselves.\n",
        "\n",
        "We should use the cases in which we can find a precise solution to develop our intuition about what a reasonable solution looks like and be able to make informed qualitative guesses at what a good wavefunction will be. But it would also be useful to know techniques in calculating the wavefunctions and energies numerically. Here our answers may not be precise but we with enough work we should be able to approach the true answer as closely as we want.\n",
        "\n",
        "We have seen the Schrödinger Equation written as a differential equation and we have seen that it forms an eigenfunction/eigenvalue equation.\n",
        "$$ -\\frac{\\hbar^2}{2m}\\frac{d^2}{d x^2} \\psi(x) + V(x)\\psi(x) = E\\psi(x)$$\n",
        "\n",
        "Here we will see how to transform the equation into a matrix equation that preserves the eigenfunction/eigenvalue form (where the term $eigenfunction$ is replaced by $eigenvector$).\n"
      ]
    },
    {
      "cell_type": "markdown",
      "metadata": {
        "id": "FplEVzMp7WOy"
      },
      "source": [
        "## Method\n",
        "The method we will use here is called the [\"Finite Difference Method\"](https://en.wikipedia.org/wiki/Finite_difference_method) (see the linked Wikipedia article). In this method we will turn the function $\\psi(x)$ into a vector, which is a list in Python, and the operator of the differential equation into a *matrix*. We then end up with a matrix eigenequation, which we can diagonalize to get our answer.\n",
        "\n",
        "### Discretization\n",
        "The process of discretization is simply turning our continuous space $x$, into a discrete number of steps, $N$, and our function $\\psi(x)$ into an array of size $N$. We thus have $N$ values $x_i$, which have a stepsize $h = \\Delta x = x_{i+1} - x_i$. Our choice of the *size* of our space, $N$, turns out to be important. Too large a number will slow down our computation and require too much computer memory, too small a number and the answers we compute will not be sufficiently accurate. A common practice is to start with a small number $N$ and then increase it until the accuracy is acceptable. The actual value you obtain in the end will depend on the problem you are studying.\n",
        "\n",
        "### first order differential\n",
        "We first need to develop how we will take the derivative of our function. Going back to our introduction to calculus, we remember that the derivative was defined as:\n",
        "$$\n",
        "\\frac{d}{dx} f(x) = \\lim_{\\Delta x \\rightarrow 0} \\frac{f(x+\\Delta x) - f(x)}{\\Delta x} \\approx \\frac{f(x+h) - f(x)}{h} + \\mathrm{O}(h)\n",
        "$$\n",
        "When we take a *finite difference*, we simply not take the limit all the way down to 0, but stop at $\\Delta x = h$. Note that for this equation we evaluate the point just *after* $x$, which we call the *forward difference*. There are other possible ways to do a finite difference but we won't concern ourselves with them here.\n",
        "\n",
        "Note that for this approximation to a derivative, we have a problem at the end of our space. In our case, $x+\\Delta x$ is not defined at the last point. To account for this, we'll have to ignore the last point of our derivative."
      ]
    },
    {
      "cell_type": "markdown",
      "metadata": {
        "id": "iS_Ngjt07WPC"
      },
      "source": [
        "#### Matrix representation\n",
        "Matrix and vector methods are very straightforward to implement using a computer. We need to see how a matrix can be setup to take a derivative. I expect that many of you will not have taken linear algebra and we won't need to concern ourselves too much with each detail of the matrix but you should be able to see the main point. You can look at the[ matrix multiplication section ](#scrollTo=xsj8ZRIiPpNr&line=10&uniqifier=1)to get a little background that may be useful.\n"
      ]
    },
    {
      "cell_type": "markdown",
      "metadata": {
        "id": "VO50LYzSy1s5"
      },
      "source": [
        "We'll want to find a matrix that can turn our vector representation of $\\psi$ into its derivative.\n",
        "We now want to turn our Schrödinger equation into a matrix equation for us to evaluate. If you just want to take the derivative of a function stored in an array, then this is not needed, you can run a loop and evaluate the equation for each $x_i$, but if you want to solve a differential equation, we need the matrix.\n",
        "\n",
        "We introduce the vectors $f(x) = [f_0,f_1,f_2,...,f_{N-1}]$ and for the derivative $f'(x) = [f'_0,f'_1,f'_2...,f'_{N-1}]$. The forward difference derivative can then be written as:\n",
        "$$ f'_i = (f_{i+1} - f_i)/h $$\n",
        "And the matrix equation for the forward difference derivative is just:\n",
        "$$\n",
        "\\begin{pmatrix}f'_0 \\\\ f'_1 \\\\\\vdots \\\\ f'_{N-1}\\end{pmatrix} = \\frac{1}{h}\\begin{pmatrix}f_1-f_0\\\\f_2-f_1\\\\\\vdots\\\\f_{N}-f_{N-1}\\end{pmatrix}= \\frac{1}{h}\n",
        "\\begin{pmatrix} -1 & 1 & 0 & & \\\\ 0 & -1 & 1 & & \\\\ & & \\ddots & \\ddots \\\\\n",
        "& & & -1 & \\end{pmatrix}\\begin{pmatrix}f_0 \\\\ f_1 \\\\\\vdots \\\\ f_{N-1}\\end{pmatrix}\n",
        "$$\n",
        "\n",
        "The matrix only has two non-zero elements on each row. This means that only the two corresponding elements in the function vector ($f_0$, $f_1$, $f_2$, $f_3$ ...) will be affected by the multiplication of each row. So, ignoring the division by $h$, the first row of the resulting vector will be $-1\\cdot f_0 + 1\\cdot f_1 + 0\\cdot f_2 + 0\\cdot... = f_1-f_0$\n",
        "\n",
        "We note that the last entry in the matrix will not be correct because there is no element for $N$. We will need to remember to ignore this last point in our calculation of the derivative.\n",
        "\n",
        "So the multiplication of the derivative matrix by our function returns the difference between each adjacent point in our function. After this the derivative is obtained by dividing each element by the difference between each point on the $x$-axis, here denoted by $h$. As long as this distance is constant, we can simply divide each element by $h$ to get the derivative.\n",
        "\n",
        "We now check that this works. Using Python and Numpy we will take the derivative of $\\sin(x)$ and plot the result.\n",
        "First we tell the system we want to use the Numpy package to deal with numerical calculations and the matplotlib package to deal with making plots.\n",
        "Then setup some parameters such as number of points, the $x$-axis range, etc."
      ]
    },
    {
      "cell_type": "markdown",
      "metadata": {
        "id": "oap5eTe4JIUo"
      },
      "source": [
        "### Example derivative calculation\n",
        "#### Small matrices\n",
        "We'll calculate the derivative using a matrix like the one above of $y=2x$ over some small range of $x$ as a way of testing the technique while using functions for which we can easily see whether the technique is working."
      ]
    },
    {
      "cell_type": "code",
      "source": [
        "import numpy as np # import numerical computation functions\n",
        "import matplotlib.pyplot as plt # import plotting functions"
      ],
      "metadata": {
        "id": "UMQrYYJa3V5E"
      },
      "execution_count": 1,
      "outputs": []
    },
    {
      "cell_type": "code",
      "source": [
        "N=6 # chop the x domain in to N pieces. Keep it small for fast calculations, large for more accuracy\n",
        "x=np.linspace(0,5,N) # set up the array of x values. Begin at the first number, end at the second value, and return N evenly spaced numbers.\n",
        "\n",
        "Δx = x[1]-x[0] # name a variable for the spacing between the x values"
      ],
      "metadata": {
        "id": "4o1i5usL4Eh0"
      },
      "execution_count": null,
      "outputs": []
    },
    {
      "cell_type": "markdown",
      "source": [
        "We can use generate our matrix using the numpy [diag and ones](#scrollTo=5W2m_ana1yrl&line=2&uniqifier=1) functions"
      ],
      "metadata": {
        "id": "nEHhiwZcJ9gO"
      }
    },
    {
      "cell_type": "code",
      "metadata": {
        "id": "MsgIOf7cEFkv"
      },
      "source": [
        "D=(np.diag(-1*np.ones(N),0)+np.diag(np.ones(N-1),1))/Δx #define derivative matrix put -1 on the diagonal and 1 on the at all points just above the diagonal\n",
        "\n",
        "y=2*x # this is the function we want to differentiate\n",
        "yprime=D@y #matrix multiply D and y. D.dot(y) or np.matmul(D,y) also accomplishes the multiplication. D*y does not.\n",
        "yprime=yprime[:-1] # :-1 means exclude the last point as there is no point f(x+Δx) to evaluate.\n",
        "\n",
        "print(\"The derivative is \",yprime)\n",
        "\n",
        "plt.plot(x,y,label='y(x)')\n",
        "plt.plot(x[:-1],yprime,label='dy/dx)')  # we have to leave off the last element of x to make it the same size as the derivative.\n",
        "                                        #Leave off [:-1] here and in yprime definition to see what happens if you keep all the points.\n",
        "plt.legend()\n",
        "plt.show()\n"
      ],
      "execution_count": null,
      "outputs": []
    },
    {
      "cell_type": "code",
      "source": [
        "\n"
      ],
      "metadata": {
        "id": "Io8fJ8S24ZCK"
      },
      "execution_count": null,
      "outputs": []
    },
    {
      "cell_type": "markdown",
      "metadata": {
        "id": "jNSpKoUaMAUK"
      },
      "source": [
        "You should see that the derivative is a constant, 2.\n",
        "\n",
        "Try changing $y(x)$ to $x^2$ (which you express in python as ```x**2```). The derivative here should still be linear but with a non-zero slope.\n",
        "\n",
        "Try $y(x)=x^3$. You should notice that the curves are made up of line segments. Increasing the value of $N$ will create smoother curves and a more accurate derivative. Try N=50.\n",
        "\n",
        "Now try $y(x)=sin(x)$. Type ```np.sin(x)``` to get the $sin$ function since it comes from the numpy library."
      ]
    },
    {
      "cell_type": "code",
      "source": [],
      "metadata": {
        "id": "z29eGCm9BFpn"
      },
      "execution_count": null,
      "outputs": []
    },
    {
      "cell_type": "markdown",
      "metadata": {
        "id": "eEvfX6Yb7WRX"
      },
      "source": [
        "### Second order Differential\n",
        "We can now extend this method to the second order differential. Since we did a 'forward' first derivative (adding Δx), it will be convenient for us to do a ['backward'](#scrollTo=DkcuHT4C-bpw&line=2&uniqifier=1) second derivative here:\n",
        "$$\n",
        "\\frac{d^2}{dx^2}f(x) = \\lim_{\\Delta x \\rightarrow 0} \\frac{f'(x)-f'(x-\\Delta x)}{\\Delta x} =  \\lim_{\\Delta x \\rightarrow 0} \\frac{f(x+\\Delta x) - f(x) - (f(x) - f(x-\\Delta x))}{\\Delta x^2} \\\\\n",
        "\\frac{d^2}{dx^2}f(x) = \\lim_{\\Delta x \\rightarrow 0} \\frac{f(x+\\Delta x) - 2f(x) + f(x-\\Delta x))}{\\Delta x^2} \\approx \\frac{f(x+\\Delta x) - 2f(x) + f(x-\\Delta x))}{\\Delta x^2}\n",
        "$$\n",
        "So in the discrete space we can write this as:\n",
        "$$ f''_i = (f_{i+1} - 2f_i + f_{i-1})/\\Delta x^2 $$\n",
        "And finally, as a matrix equation, the second derivative is then:\n",
        "$$\n",
        "\\begin{pmatrix}f''_0 \\\\ f''_1 \\\\ f''_2 \\\\\\vdots \\\\ f''_{N-1}\\end{pmatrix} = \\frac{1}{\\Delta x^2}\n",
        "\\begin{pmatrix} -2 & 1 & 0 & 0 & \\\\ 1 & -2 & 1 & 0 & \\\\\n",
        "0& 1 & -2 & 1 &  \\\\ &  & \\ddots & \\ddots & \\ddots &\\\\\n",
        "&  & & 1 & -2 \\end{pmatrix}\\begin{pmatrix}f_0 \\\\ f_1 \\\\ f_2 \\\\\\vdots \\\\ f_{N-1}\\end{pmatrix}\n",
        "$$\n",
        "Where now we note that at both ends of our array we will get an inaccurate answer unless we do some fixup. The fixup in this case is to use the same elements as the row below (at the start) or the row above (at the end), so we get $f''_0 = f''_1$ and $f''_{N-1} = f''_{N-2}$, which is not great but better than the alternative.\n",
        "\n",
        "We can now try this matrix in Python and compute the second derivative of our $y(x)$ array."
      ]
    },
    {
      "cell_type": "code",
      "metadata": {
        "id": "UmHVNSHp5O6Y"
      },
      "source": [
        "N=200\n",
        "x=np.linspace(0,2*np.pi,N)\n",
        "Δx=x[1]-x[0]\n",
        "\n",
        "y=np.sin(x)\n",
        "\n",
        "D1=(np.diag(-1*np.ones(N),0)+np.diag(np.ones(N-1),1))/Δx\n",
        "\n",
        "D2 = (np.diag(np.ones(N-1),-1) + np.diag( -2.*np.ones(N),0) + np.diag(np.ones(N-1),1))/(Δx**2)\n",
        "                # The first np.diag() puts (N-1) ones on the partial diagonal below the diagonal (,-1)\n",
        "                # The second puts N negative twos on the diagonal. The third puts (N-1) ones on the partial diagonal above the diagonal (,1).\n",
        "yp=D1.dot(y) # take derivative so we can use it in our plot\n",
        "ypp = D2.dot(y) # take second derivative of function, y.\n",
        "\n"
      ],
      "execution_count": 3,
      "outputs": []
    },
    {
      "cell_type": "markdown",
      "source": [
        "At this point we have the first and second derivatives. Let's plot them."
      ],
      "metadata": {
        "id": "8F5g1M5xZrRT"
      }
    },
    {
      "cell_type": "code",
      "source": [
        "plt.figure(figsize=(10,7))\n",
        "plt.plot(x,y,label='y(x)',color='blue')\n",
        "plt.plot(x[:-1],yp[:-1],label='y\\'(x)',color='orange')     # Last value is invalid, don't plot\n",
        "plt.plot(x[1:-1],ypp[1:-1],label='y\\'\\'(x)',color='green')  # First and last value is invalid.\n",
        "plt.legend()\n",
        "plt.show()"
      ],
      "metadata": {
        "id": "Yog1BZMcZqcv"
      },
      "execution_count": null,
      "outputs": []
    },
    {
      "cell_type": "markdown",
      "source": [
        "Do these derivatives of sine lead to the result you expect?"
      ],
      "metadata": {
        "id": "Jee2_7sfaO3_"
      }
    },
    {
      "cell_type": "markdown",
      "metadata": {
        "id": "rohTIWl17WUl"
      },
      "source": [
        "# Solving the Particle in a Box Schrödinger Equation\n",
        "\n",
        "We can now setup the Schrodinger Equation as a matrix equation:\n",
        "$$\n",
        "\\hat H = \\frac{\\hbar^2}{2m}\\frac{d^2}{d x^2} + V \\\\\n",
        "\\hat H \\psi(x) = E \\psi(x)\n",
        "$$\n",
        "We now know the matrix for taking the second order derivative. The matrix for the potential is simply the values of the potential on the diagonal of the matrix: $\\mathbf{V}_{i=j} = V_i$. The result of multiplying the function vector will be to simply multiply each element of the function by the value of the potential.\n",
        "\n",
        "Writing out the matrix for $\\mathbf{H}$ we get:\n",
        "$$\n",
        "\\mathbf{H} = \\frac{-\\hbar^2}{2 m \\Delta x^2} \\begin{pmatrix} -2 & 1 & 0 & 0 & \\\\ 1 & -2 & 1 & 0 & \\\\\n",
        "0& 1 & -2 & 1 &  \\\\ &  & \\ddots & \\ddots & \\ddots &\\\\\n",
        "&  & & 1 & -2 \\end{pmatrix} +\n",
        "\\begin{pmatrix} V_0 & 0 & 0 & & \\\\ 0 & V_1 & 0 & & \\\\ 0 & 0 & V_2 & & \\\\ & & &\\ddots & \\\\ &&&&V_{N-1}\\end{pmatrix}\n",
        "$$\n",
        "\n",
        "It is worth looking at the matrix of the Hamiltonian and notice the symmetry: $\\mathbf{H}^T = \\mathbf{H}$, so the transpose of the matrix is identical to the matrix. Since the matrix is *real* everywhere, the complex conjugate is also the same: $\\mathbf{H}^*=\\mathbf{H}$. Combining these two statements, we can say that the Hamiltonian is Hermetian: $\\mathbf{H}^\\dagger = \\mathbf{H}$.\n",
        "\n"
      ]
    },
    {
      "cell_type": "markdown",
      "metadata": {
        "id": "waZQcEJ2Gpbo"
      },
      "source": [
        "### Infinite Square Well\n",
        "The very simplest system to solve for is the infinite square well, for which $V=0$. We will readily recognize the results as alternating $\\cos(x)$ and $\\sin(x)$ functions, and the energy levels are:\n",
        "$$\n",
        "E_i = \\frac{n^2\\pi^2\\hbar^2}{2ma^2}\n",
        "$$\n",
        "First, we need to discuss a subtlety. The Infinite Square Well from $-a/2$ to $a/2$ has $V=\\infty$ *at* these points. We get into trouble trying to enter $\\infty$ in our potential, so what we need to do is just limit the computational space from $-a/2+h$ to $a/2-h$, where $h$ is our step size. That way we force the wavefunction to zero at the end points.\n",
        "We compute this in the next box. I create $x_{full}$ as the full x-axis from $-a/2$ to $a/2$, but take $N+2$ steps. I then leave out the first and last point when calculating the wavefunctions. At the end, before plotting, I add a zero to the beginning and end of the wavefunctions, so that we get the expected result for plotting.\n",
        "\n",
        "Note I again import everything and setup all the definitions, so this block is stand-alone, and can be copy-pasted into another notebook. Here we set up constants and import the library needed for dealing with linear algebra."
      ]
    },
    {
      "cell_type": "code",
      "metadata": {
        "id": "IhNgMM2JwqbN"
      },
      "source": [
        "hbar=1 # use atomic units\n",
        "m=1 # electron mass\n",
        "\n",
        "N = 1000\n",
        "a = 1.0 # this doesn't matter unless we want to compare different size boxes.\n",
        "x = np.linspace(-a/2.,a/2.,N)\n",
        "\n",
        "Δx = x[1]-x[0] # This is the difference between points.\n"
      ],
      "execution_count": 5,
      "outputs": []
    },
    {
      "cell_type": "markdown",
      "metadata": {
        "id": "S3BD4pgiw61b"
      },
      "source": [
        "Now we set up the potential energy, the second derivative operator, and the Hamiltonian. Then extract the eigenvalues and eigenfunctions."
      ]
    },
    {
      "cell_type": "code",
      "metadata": {
        "id": "NSQlwgwp7WUr"
      },
      "source": [
        "V = 0.*x # could be just zero but put x here to show that it is a function of x.\n",
        "D2 = 1./(Δx**2)*(np.diag(np.ones(N-1),-1) -2* np.diag(np.ones(N),0) + np.diag(np.ones(N-1),1)) # derivative operator\n",
        "H = -(hbar*hbar)/(2.0*m)*D2 + np.diag(V)  # Hamiltonian including derivative and potential energy.\n",
        "\n",
        "\n",
        "E,psiT = np.linalg.eigh(H) # This computes the eigenvalues and eigenvectors\n",
        "psi = np.transpose(psiT)   # We take the transpose of psiT to the wavefunction vectors can accessed as psi[n]"
      ],
      "execution_count": 6,
      "outputs": []
    },
    {
      "cell_type": "markdown",
      "metadata": {
        "id": "MMLJfLqXy-8P"
      },
      "source": [
        "The energies are stored in $E$. The first $N$ levels are calculated. We will focus on only a few of them. Let's list the first several in atomic energy units."
      ]
    },
    {
      "cell_type": "code",
      "metadata": {
        "id": "BaT2X-RyzHBa"
      },
      "source": [
        "for i in range(50):\n",
        "  print(\"E_{}={:8.3f}\".format(i+1,E[i])) # the notation here is strange. Basically we will print everything between the \"\"\n",
        "                                         #but stuff between the brackets will get subsitututed in from the between the parentheses in .format()\n",
        "                                         #So here we'll print i+1 which is the quantum number 'n' in the particle in a box and the energies.\n",
        "                                         #The :8.3f stuff indicates how many places to use for the whole number (some may be spaces) and how many for the\n",
        "                                         #after the decimal point. The 'f' indicates a floating point (or decimal number). If we don't care about the\n",
        "                                         #format of the number that is displayed or if the number is a whole number as it is, like 'i', just {} is fine."
      ],
      "execution_count": null,
      "outputs": []
    },
    {
      "cell_type": "markdown",
      "metadata": {
        "id": "tgmSRoMdz22k"
      },
      "source": [
        "####Scaling the energies\n",
        "The energy of the lowest level in a particle in a box is $\\frac{n^2 \\hbar^2 \\pi^2}{2 m a^2}$. For convenience we will rescale the energies to be relative to the energy of the first level. So $\\epsilon=\\frac{E_n}{E_1}=\\frac{E_n}{\\frac{\\hbar^2 \\pi^2}{2ma^2}}=\\frac{E_n}{\\frac{\\pi^2}{2}}=\\frac{2E_n}{\\pi^2}$ and $ϵ=\\frac{E_n}{\\frac{\\hbar^2 \\pi^2}{2ma^2}}=\\dfrac{\\frac{n^2 \\hbar^2 \\pi^2}{2ma^2}}{\\frac{\\hbar^2 \\pi^2}{2ma^2}}=n^2$. So we can rescale the energy by dividing by $\\pi^2/2$ and the resulting value should be the quantum number squared. This makes it easy to see at a glance how close our numerical approximate answer is the analytical answer."
      ]
    },
    {
      "cell_type": "code",
      "metadata": {
        "id": "YRLYrQ4cz2RU"
      },
      "source": [
        "ϵ=[E[i]/(hbar**2*np.pi**2/(2*m*a**2)) for i in range(nl)] # we only need divide by pi**2/2 but hbar, m, and a are set equal to 1 so...\n",
        "for i in range(50):\n",
        "  print(\"ϵ_{}={:>8.3f}\".format(i+1,ϵ[i]))"
      ],
      "execution_count": null,
      "outputs": []
    },
    {
      "cell_type": "markdown",
      "metadata": {
        "id": "9w5UfASV7jNQ"
      },
      "source": [
        "Our calculation gives almost what we expect. Each energy is essentially $n^2$ as it should be. If you change $N$ above and re-run the cells, you can see what affect using fewer (or more) points will have on runtime and accuracy. Try N=100 and N=5000. Remember that our calculation uses an N by N matrix so N=5000 will have to deal with a 25,000,000 element matrix."
      ]
    },
    {
      "cell_type": "markdown",
      "metadata": {
        "id": "uN1rea9O7WVa"
      },
      "source": [
        "We now want to plot the wavefunctions. We can plot individual wavefunctions using matplotlib (abbreviated as $plt$) and the $x$ and $psi$ lists we made above. For instance,\n",
        "```\n",
        "plt.plot(x,psi[2])\n",
        "```\n",
        "will the wavefunction corresponding to $n=3$ (remember we start counting at 0, so $n=1$ corresponds to psi[0]).\n",
        "\n",
        "Try plotting several of the wavefunctions below. Do they match what you think they should look like?\n",
        "\n",
        "You can beautify your graphs by adding axis labels and a title.\n",
        "\n",
        "```\n",
        "plt.xlabel('x')\n",
        "plt.ylabel('$\\psi$')\n",
        "plt.title('Particle in an infinite box wavefunction')\n",
        "```\n",
        "If you just type the lines shown here, some strange symbols will appear above the graph. Use ```plt.show()``` at the end and these go away.\n",
        "\n",
        "Now we normalize the eigenvectors. To do this we take the integral $\\int^∞_{-\\infty}A^*\\psi ^*A\\psi dx=1$ where $A$ is the normalization constant. Solving for $A$ gives $$A=\\dfrac{1}{$\\int^∞_{-\\infty}\\psi ^*\\psi dx=1} $$. In numpy, we can use the trapezoidal integration function, ```trapz``` to do the integration."
      ]
    },
    {
      "cell_type": "code",
      "metadata": {
        "id": "gvPgLIxa8_26"
      },
      "source": [
        "norm=[np.sqrt(1/np.trapz(psi[i]**2,x)) for i in range(nl)] # calculate normalization for each eigenfunction\n",
        "psi_norm=[psi[i]*norm[i] for i in range(nl)] # normalize psi"
      ],
      "execution_count": 9,
      "outputs": []
    },
    {
      "cell_type": "markdown",
      "metadata": {
        "id": "dKxs4umR8oxZ"
      },
      "source": [
        "We'll set up a mechanism to plot a bunch of wavefunctions at the same time.\n",
        "\n",
        "The sign of the wavefunctions as we approach the ends is arbitrary. We can make it consistent if we want. The $for$ loop below plots each wavefunction but it also makes it so that the left end points all approach zero from above. The right end points then alternate."
      ]
    },
    {
      "cell_type": "code",
      "metadata": {
        "id": "HTkwSuQw7WVs"
      },
      "source": [
        "plt.figure(figsize=(10,7))\n",
        "fact=0.05 # scale for plotting\n",
        "nl=9\n",
        "for i in range(1,nl+1): # start with i=1 and go to i=\n",
        "  if psi_norm[i-1][10] < 0:   # Flip the wavefunctions if it is negative at large x, so plots are more consistent.\n",
        "      plt.plot(x,-psi_norm[i-1]/np.sqrt(Δx)*fact+ϵ[i-1],label=\"$ϵ_{}$={:>8.3f}\".format(i,ϵ[i-1]))\n",
        "  else:\n",
        "      plt.plot(x,psi_norm[i-1]/np.sqrt(Δx)*fact+ϵ[i-1],label=\"$ϵ_{}$={:>8.3f}\".format(i,ϵ[i-1]))\n",
        "plt.title(\"Eigenfunctions of the Infinite Square Well\")\n",
        "V_x = np.zeros([N],float) # potential energy is just zeros. We don't need it for calculating but we do for plotting\n",
        "for i in range(N): # but adjust potential energy at the ends where it is infinite\n",
        "    if x[i] == -a/2 or x[i]==a/2:\n",
        "        V_x[i]=1.35*ϵ[nl-1] # we can't plot ininity but extend the box to 135% of the highest plotted energy level\n",
        "plt.plot(x,V_x)\n",
        "plt.legend()\n",
        "plt.savefig(\"Infinite_Square_Well_WaveFunctions.pdf\")\n",
        "plt.show()"
      ],
      "execution_count": null,
      "outputs": []
    },
    {
      "cell_type": "markdown",
      "metadata": {
        "id": "LYagRfgJ7WVt"
      },
      "source": [
        "We now also want to check that the energy levels do indeed correspond to the known levels:\n",
        "$$\n",
        "E_n = \\frac{n^2 \\pi^2 \\hbar^2}{2 m a^2}\n",
        "$$"
      ]
    },
    {
      "cell_type": "code",
      "metadata": {
        "scrolled": true,
        "id": "NF937lC07WVt"
      },
      "source": [
        "for i in range(nl):\n",
        "    n = i+1\n",
        "    print(\"ϵ[{}] = {:9.4f},     ϵ_{} ={:9.4f},      %deviation={:>8.4f}%\".format(n,ϵ[i],n, n*n,((ϵ[i]-n*n)/n/n)))"
      ],
      "execution_count": null,
      "outputs": []
    },
    {
      "cell_type": "markdown",
      "metadata": {
        "id": "7lkESlbs7WVu"
      },
      "source": [
        "A final test shows the accuracy of our calculation in the orthonormality of the states:"
      ]
    },
    {
      "cell_type": "code",
      "metadata": {
        "id": "x_z7azdm5mQG"
      },
      "source": [
        "np.trapz(psi_norm[1]**2,x) # check that it works for one psi"
      ],
      "execution_count": null,
      "outputs": []
    },
    {
      "cell_type": "markdown",
      "metadata": {
        "id": "25VFrevS0QKX"
      },
      "source": [
        "The code above checks the normalization of the n=2 eigenfunctions. We can check the orthonormality of a range of levels using the following lines."
      ]
    },
    {
      "cell_type": "code",
      "metadata": {
        "id": "i-oOP2TE7WVv"
      },
      "source": [
        "for j in range(nl):\n",
        "    for i in range(nl):\n",
        "        print(\"ψ_{}, ψ_{}, {:2.2f}\".format(i+1,j+1,np.trapz(psi_norm[i]*psi_norm[j],x)))"
      ],
      "execution_count": null,
      "outputs": []
    },
    {
      "cell_type": "markdown",
      "metadata": {
        "id": "ELVw9a1VCSR9"
      },
      "source": [
        "Explain the results in terms of orthonormality.\n",
        "\n"
      ]
    },
    {
      "cell_type": "markdown",
      "metadata": {
        "id": "fms7BS6b0iEA"
      },
      "source": []
    },
    {
      "cell_type": "markdown",
      "metadata": {
        "id": "8MiJzWxOJDuE"
      },
      "source": [
        "\n",
        "## Particle in a larger box"
      ]
    },
    {
      "cell_type": "markdown",
      "metadata": {
        "id": "gRNzMq_8V0qI"
      },
      "source": [
        "Let's compare that to a particle in a box that is twice as large. Again we will calculate energies relative to the lowest level in the original box.\n",
        "\n",
        "We set up variables the same way as before. (We don't really need to redefine variables if they're not changing but it's more clear this way.)"
      ]
    },
    {
      "cell_type": "code",
      "metadata": {
        "id": "dftiEvgeWBFx"
      },
      "source": [
        "hbar=1 # use atomic units\n",
        "m=1 # electron mass\n",
        "N = 1000\n",
        "\n",
        "a2 = 2 # the width now is twice what it was before.\n",
        "x = np.linspace(-a2/2.,a2/2.,N)\n",
        "\n",
        "Δx = x[1]-x[0] # Should be equal to 2*np.pi/(N-1). This is delta x.\n",
        "nl= 5 # the number of levels to calculate"
      ],
      "execution_count": 14,
      "outputs": []
    },
    {
      "cell_type": "markdown",
      "metadata": {
        "id": "E45a5MG1WcTo"
      },
      "source": [
        "The operators will be the same as before.\n"
      ]
    },
    {
      "cell_type": "code",
      "metadata": {
        "id": "Gma4s47qWkNm"
      },
      "source": [
        "V = 0.*x # could be just zero but put x here to show that it is a function of x.\n",
        "D2 = 1./(Δx**2)*(np.diag(np.ones(N-1),-1) -2* np.diag(np.ones(N),0) + np.diag(np.ones(N-1),1)) # 2nd derivative operator\n",
        "H = -(hbar*hbar)/(2.0*m)*D2 + np.diag(V)   # Hamiltonian including derivative and potential energy.\n",
        "                                            # Again, the V is unnecessary because\n",
        "\n",
        "E2,psiT = np.linalg.eigh(H) # This computes the eigenvalues and eigenvectors of the hamiltonian matrix\n",
        "psi = np.transpose(psiT)    # We take the transpose of psiT to the wavefunction vectors can accessed as psi[n]\n",
        "                            # The eigenfunctions are returned in psiT as rows. We can access a row with the slightly\n",
        "                            # more complicated notation psiT[::,n] but renaming the transpose of the matrix makes it simpler."
      ],
      "execution_count": 15,
      "outputs": []
    },
    {
      "cell_type": "code",
      "metadata": {
        "id": "iAu8XXYpWlvl"
      },
      "source": [
        "ϵ2=[E2[i]*2/np.pi**2 for i in range(nl)]\n",
        "print(\"energy level       energy in original box       energy in 2x box       ratio\")\n",
        "for i in range(nl):\n",
        "  print(\"ϵ_{}=            {:>8.3f}                     {:>8.3f}               {:>8.3f}\".format(i+1,ϵ[i],ϵ2[i],ϵ2[i]/ϵ[i]))"
      ],
      "execution_count": null,
      "outputs": []
    },
    {
      "cell_type": "markdown",
      "metadata": {
        "id": "DrZgWUe0Yj7L"
      },
      "source": [
        "Do these results make sense? Explain.\n",
        "\n",
        "\n",
        "Without calculating, would happen if the box were 1/2 as wide as the original box? Calculate it.\n"
      ]
    },
    {
      "cell_type": "code",
      "metadata": {
        "id": "3oMEP50xAw74"
      },
      "source": [],
      "execution_count": null,
      "outputs": []
    },
    {
      "cell_type": "markdown",
      "metadata": {
        "id": "VsT8taoiCWr1"
      },
      "source": [
        "## Particle in a finite box"
      ]
    },
    {
      "cell_type": "markdown",
      "metadata": {
        "id": "AMFPU27ECatZ"
      },
      "source": [
        "Now we turn our attention to a problem without an easy analytical solution.\n",
        "The particle in a finite box is a similar problem but the box doesn't have infinite sides."
      ]
    },
    {
      "cell_type": "code",
      "metadata": {
        "id": "3n_mZ_-YCyAN"
      },
      "source": [
        "hbar=1 # Planck's constant in atomic units.\n",
        "m=1 # mass of electron\n",
        "N = 2000 # number of points to calculate\n",
        "\n",
        "a = 1.0 # width of finite box\n",
        "b=8 # total width of system\n",
        "x = np.linspace(-b/2.,b/2.,N) # x-coordinate\n",
        "\n",
        "V_out=400 #potential energy in atomic units\n",
        "\n",
        "nl=9 #number of levels to calculate\n",
        "\n",
        "lftlimit=np.searchsorted(x,[-a/2])[0]  # find the index of the left edge of the box to be used in integration later.\n",
        "                                      #searchsorted used here looks through x and finds the value closest to -a/2.\n",
        "                                      # We want to store step size, this is the reliable way:\n",
        "Δx = x[1]-x[0] # Should be equal to 2*np.pi/(N-1)"
      ],
      "execution_count": 34,
      "outputs": []
    },
    {
      "cell_type": "markdown",
      "metadata": {
        "id": "PXcMpoXUC1Yt"
      },
      "source": [
        "Now we set up the potential. Here we want the potential to be zero between a/2 and -a/2 and $V_0$ outside that range."
      ]
    },
    {
      "cell_type": "code",
      "metadata": {
        "id": "PRFCvemPC0DC"
      },
      "source": [
        "V=[]\n",
        "for i in x:\n",
        "  if i<-a/2 or i>a/2:   # if outside the box\n",
        "    V.append(V_out)     # potential is V_out\n",
        "  else:\n",
        "    V.append(0)         # inside it's 0\n",
        "#print(V)"
      ],
      "execution_count": 35,
      "outputs": []
    },
    {
      "cell_type": "markdown",
      "metadata": {
        "id": "YDB9OvVXDsmK"
      },
      "source": [
        "Now setup the operators and calculate. Everything is the same here"
      ]
    },
    {
      "cell_type": "code",
      "metadata": {
        "id": "kYyKHPVcxgp4"
      },
      "source": [
        "D2 = 1./(Δx**2)*(np.diag(np.ones(N-1),-1) -2* np.diag(np.ones(N),0) + np.diag(np.ones(N-1),1)) # 2nd derivative\n",
        "H = -(hbar*hbar)/(2.0*m)*D2 + np.diag(V) # Hamiltonian\n",
        "\n",
        "Ef,psiT = np.linalg.eigh(H) # This computes the eigen values and eigenvectors\n",
        "psi = np.transpose(psiT)  # We take the transpose of psiT to the wavefunction vectors can accessed as psi[n]\n",
        "\n",
        "Ef=Ef/(hbar**2 * np.pi**2/2/m/a**2) # scale energy relative to standard particle in an infinite box. hbar, m, and a are set to 1\n",
        "                                  # so all energies are in units of hbar**2/(m*a**2)\n",
        "V=[V/(hbar**2 * np.pi**2/2/m/a**2) for V in V] # same for potential energy."
      ],
      "execution_count": 36,
      "outputs": []
    },
    {
      "cell_type": "code",
      "metadata": {
        "id": "wPgumM6UEqdg"
      },
      "source": [
        "norm=[np.sqrt(1/np.trapz(psi[i]**2,x)) for i in range(nl)]  # calcluate normalization coefficient (sqrt of 1/integral of psi squared)\n",
        "                                                            # Should be same but no cost to calculate for each level.\n",
        "                                                            # trapz is numpy's (trapezoidal) integration function. input function and the variable\n",
        "for i in range(0,nl): # start with i=1 and go to i=\n",
        "  if psi[i][lftlimit] < 0:   # Flip the wavefunctions if it is negative at large x, so plots are more consistent.\n",
        "      psi_norm[i]=-psi[i]*norm[i]\n",
        "  else:\n",
        "      psi_norm[i]=psi[i]*norm[i-1]\n",
        "\n",
        "plt.plot(x,psi_norm[2]+Ef[2])# plot third wavefunction to make sure it looks right.\n",
        "plt.ylim(-1,12) # change or comment out with a # if you want to look at other eigenfunctions\n",
        "plt.xlim(-2,2)\n",
        "plt.plot(x,V)\n",
        "plt.show()\n"
      ],
      "execution_count": null,
      "outputs": []
    },
    {
      "cell_type": "markdown",
      "metadata": {
        "id": "mB4oXMenBn8p"
      },
      "source": [
        "Check to make sure the wavefunctions are normalized."
      ]
    },
    {
      "cell_type": "code",
      "source": [],
      "metadata": {
        "id": "1MhPC5wrVxA3"
      },
      "execution_count": null,
      "outputs": []
    },
    {
      "cell_type": "markdown",
      "metadata": {
        "id": "S-TRnFLfBtXQ"
      },
      "source": [
        "As before, let's plot several wavefunctions on the same graph offset by their energies. It should be emphasized that all particles are travelling only on the $x$-axis. Offsetting along the $y$-axis only gets them out of each other's way and shows where the energy levels are."
      ]
    },
    {
      "cell_type": "code",
      "metadata": {
        "id": "sfS2AasT02Uo"
      },
      "source": [
        "#plot several wavefunctions on same graph with potential. Each one placed at its energy level.\n",
        "plt.figure(figsize=(5,8))\n",
        "for i in range(0,nl):\n",
        "  plt.plot(x,psi_norm[i]+Ef[i],label=\"$E_{}$={:>8.3f}\".format(i+1,Ef[i]))\n",
        "plt.title(\"Eigenfunctions of the Finite Square Well\")\n",
        "\n",
        "plt.plot(x,V)\n",
        "plt.xlim(-a*.8,a*.8)\n",
        "#plt.legend()\n",
        "#plt.savefig(\"Finite_Square_Well_WaveFunctions.pdf\")\n",
        "plt.show()\n"
      ],
      "execution_count": null,
      "outputs": []
    },
    {
      "cell_type": "markdown",
      "metadata": {
        "id": "zKecH3dECDB4"
      },
      "source": [
        "Do the same thing for the square of the wavefunction."
      ]
    },
    {
      "cell_type": "code",
      "source": [],
      "metadata": {
        "id": "c9cHyf4tX1yq"
      },
      "execution_count": null,
      "outputs": []
    },
    {
      "cell_type": "code",
      "metadata": {
        "id": "wtH9wIkC29WL"
      },
      "source": [
        "#plot square of wavefunction\n",
        "plt.figure(figsize=(5,8))\n",
        "for i in range(nl):\n",
        "    plt.plot(x,psi_norm[i]**2+Ef[i],label=\"$E_{}$={:>8.3f}\".format(i+1,Ef[i])) # make a plot for each level and label it\n",
        "plt.title(\"Finite Well Wavefunctions Squared\")\n",
        "plt.plot(x,V)\n",
        "plt.legend()\n",
        "plt.xlim(-.8*a,.8*a)\n",
        "#plt.savefig(\"Finite_Square_Well_WaveFunctions_Squared.pdf\")\n",
        "plt.show()"
      ],
      "execution_count": null,
      "outputs": []
    },
    {
      "cell_type": "code",
      "metadata": {
        "id": "1NDnuO6JSu-y"
      },
      "source": [
        "ϵ2=[Ef[i]*2/np.pi**2 for i in range(nl)]\n",
        "print(\"energy level       energy in infinite box       energy in finite box       ratio\")\n",
        "for i in range(nl):\n",
        "  print(\"ϵ_{}=            {:>8.3f}                     {:>8.3f}               {:>8.3f}\".format(i+1,ϵ[i],Ef[i],Ef[i]/ϵ[i]))"
      ],
      "execution_count": null,
      "outputs": []
    },
    {
      "cell_type": "markdown",
      "metadata": {
        "id": "kYWe_zMO9bTt"
      },
      "source": [
        "We can see that $\\psi$ does not go to zero at the end of the box the way that it did in the infinite box. This is especially noticeable for the higher levels. We can integrate $\\psi$ from a/2 to b (i.e. the region on the right outside the box) and multiply by 2 to get the total area on both sides. The $trapz$ integration function for numerical trapezoidal integration takes for arguments $y$ and $x$. In our case we'll take $psi$ for the $i$th level from the right boundary to the end (psi[i][rgtlimit:]) and square it, normalize it, and integrate."
      ]
    },
    {
      "cell_type": "code",
      "metadata": {
        "id": "jE5lvUuLgk4a"
      },
      "source": [
        "outob=[np.trapz((psi_norm[i][:lftlimit])**2,x[:lftlimit])*2 for i in range(0,nl)] #integrate from the left edge of the box to -'infinity' and multipy by 2 to account for both sides\n",
        "for i in range(0,nl):\n",
        "      print(\"n={}, E[{}] = {:9.4f},         Probability to be outside box={:7.3f},              Percent outside box={:5.1f}%\".format(i+1,i+1,E[i],outob[i],outob[i]*100))"
      ],
      "execution_count": null,
      "outputs": []
    },
    {
      "cell_type": "markdown",
      "metadata": {
        "id": "_oXianwGlFY-"
      },
      "source": [
        "## Particle in an asymmetric box\n",
        "\n",
        "What if the potential is infinite on one side only."
      ]
    },
    {
      "cell_type": "code",
      "metadata": {
        "id": "eQxEhbEiatvo"
      },
      "source": [
        "hbar=1 # Planck's constant in atomic units.\n",
        "m=1 # mass of electron\n",
        "N = 2000 # number of points to calculate\n",
        "\n",
        "a = 1.0 # width of finite box\n",
        "b=10 # total width of system\n",
        "x = np.linspace(0,b,N) # x-coordinate\n",
        "rgtlimit=np.searchsorted(x,[a/2])[0] # find the index of the right edge of the box to be used in integration later.\n",
        "                                    #searchsorted used here looks through x and finds the value closest to a/2.\n",
        "Δx = x[1]-x[0]                      #step size\n",
        "\n",
        "V_out=400 #potential energy in atomic units\n",
        "\n",
        "V=[]                                #potential -\n",
        "for i in x:\n",
        "  if i>a:\n",
        "    V.append(V_out)                 # potential on the right\n",
        "  else:\n",
        "    V.append(0)                     # potential in the box\n",
        "                                    # potential on the left is infinite which\n",
        "#print(V)\n",
        "\n",
        "D2 = 1./(Δx**2)*(np.diag(np.ones(N-1),-1) -2* np.diag(np.ones(N),0) + np.diag(np.ones(N-1),1))\n",
        "H = -(hbar*hbar)/(2.0*m)*D2 + np.diag(V)\n",
        "\n",
        "Ea,psiT = np.linalg.eigh(H) # This computes the eigen values and eigenvectors\n",
        "psi = np.transpose(psiT)  # We take the transpose of psiT to the wavefunction vectors can accessed as psi[n]\n",
        "\n",
        "norm=[np.sqrt(1/np.trapz(psi[i]**2,x)) for i in range(50)] #calcluate normalization coefficient. Should be same but no cost to calculate for each level.\n",
        "Ea=Ea/np.pi**2*2 # scale energy relative to standard particle in an infinite box\n",
        "V=[V/np.pi**2*2 for V in V] # same for potential energy.\n",
        "\n",
        "nl=9\n",
        "psi_norm=[psi[i]*norm[i] for i in range(nl)] # normalize"
      ],
      "execution_count": 27,
      "outputs": []
    },
    {
      "cell_type": "code",
      "source": [],
      "metadata": {
        "id": "PV4GOaABgRpy"
      },
      "execution_count": null,
      "outputs": []
    },
    {
      "cell_type": "code",
      "metadata": {
        "id": "0CeTzOZCbgA2"
      },
      "source": [
        "#nl=9 #number of levels to calculate\n",
        "fact=1\n",
        "#plot square of wavefunction\n",
        "V_x =V # potential energy is just zeros. We don't need it for calculating but we do for plotting\n",
        "for i in range(N): # but adjust potential energy at the ends where it is infinite\n",
        "    if x[i] == 0:\n",
        "        V_x[i]=1.35*Ea[nl] # we can't plot ininity but extend the box to 135% of the highest plotted energy level\n",
        "plt.figure(figsize=(6,8))\n",
        "\n",
        "#nl=9 #number of levels to calculate\n",
        "for i in range(nl):\n",
        "    plt.plot(x,psi_norm[i]**2*fact**2+Ea[i],label=\"$E_{}$={:>8.3f}\".format(i+1,Ea[i]))\n",
        "plt.title(\"Finite Well Wavefunctions Squared\")\n",
        "plt.plot(x,V_x,color='black')\n",
        "plt.xlim(-a/2,b/4)\n",
        "plt.legend(loc=\"lower right\")\n",
        "#plt.savefig(\"Finite_Square_Well_WaveFunctions_Squared.pdf\")\n",
        "plt.show()"
      ],
      "execution_count": null,
      "outputs": []
    },
    {
      "cell_type": "code",
      "source": [
        "ϵ2=[Ea[i]*2/np.pi**2 for i in range(nl)]\n",
        "print(\"energy level       energy in infinite box       energy in finite box       ratio\")\n",
        "for i in range(nl):\n",
        "  print(\"ϵ_{}=            {:>8.3f}                     {:>8.3f}               {:>8.3f}\".format(i+1,ϵ[i],Ea[i],Ea[i]/ϵ[i]))\n"
      ],
      "metadata": {
        "id": "x3sQQi0mblgr"
      },
      "execution_count": null,
      "outputs": []
    },
    {
      "cell_type": "code",
      "source": [
        "outob=[np.trapz((psi_norm[i][rgtlimit:])**2,x[rgtlimit:]) for i in range(0,nl)] #integrate from the right edge of the box to 'infinity'\n",
        "for i in range(0,nl):\n",
        "      print(\"n={}, E[{}] = {:9.4f},         Probability to be outside box={:7.3f},              Percent outside box={:5.1f}%\".format(i+1,i+1,E[i],outob[i],outob[i]*100))"
      ],
      "metadata": {
        "id": "BGJH-xUYbDeH"
      },
      "execution_count": null,
      "outputs": []
    },
    {
      "cell_type": "markdown",
      "source": [
        "##Double square well\n",
        "What if we have two finite square wells separated by a barrier?"
      ],
      "metadata": {
        "id": "_pkbNy1qa37A"
      }
    },
    {
      "cell_type": "code",
      "metadata": {
        "id": "wKoXkeHuy7JM"
      },
      "source": [
        "hbar=1 # Planck's constant in atomic units.\n",
        "m=1 # mass of electron\n",
        "N = 2000 # number of points to calculate\n",
        "\n",
        "a = 1.0 # width of finite box\n",
        "bar=3 # with of barrier\n",
        "b=50 # total width of system\n",
        "\n",
        "V0=200 #potential energy in atomic units\n",
        "Vb=200 #height of barrier\n",
        "nl=20 #number of levels to calculate\n",
        "x = np.linspace(-b/2.,b/2.,N) # x-coordinate\n",
        "rgtlimit=np.searchsorted(x,[a/2])[0] # find the index of the right edge of the box to be used in integration later.\n",
        "#searchsorted used here looks through x and finds the value closest to a/2.\n",
        "# We want to store step size, this is the reliable way:\n",
        "h = x[1]-x[0] # Should be equal to 2*np.pi/(N-1)"
      ],
      "execution_count": 46,
      "outputs": []
    },
    {
      "cell_type": "code",
      "metadata": {
        "id": "5VF0mY8YzK6w"
      },
      "source": [
        "V=[]\n",
        "for i in x:\n",
        "  if i>-bar/2 and i<bar/2:\n",
        "    V.append(Vb)\n",
        "  elif (i>(-bar/2-a) and i<-bar/2) or (i<(bar/2+a) and i>bar/2):\n",
        "    V.append(0)\n",
        "  else:\n",
        "    V.append(V0)\n",
        "#print(V)"
      ],
      "execution_count": 47,
      "outputs": []
    },
    {
      "cell_type": "code",
      "metadata": {
        "id": "y2p-j4nl0eIo"
      },
      "source": [
        "D2 = 1./(h*h)*(np.diag(np.ones(N-1),-1) -2* np.diag(np.ones(N),0) + np.diag(np.ones(N-1),1))\n",
        "H = -(hbar*hbar)/(2.0*m)*D2 + np.diag(V)\n",
        "\n",
        "Ed,psiT = np.linalg.eigh(H) # This computes the eigenvalues and eigenvectors\n",
        "psi = np.transpose(psiT)  # We take the transpose of psiT to the wavefunction vectors can accessed as psi[n]\n",
        "norm=[np.sqrt(1/np.trapz(psi[i]**2,x)) for i in range(nl)] #calcluate normalization coefficient. Should be same but no cost to calculate for each level.\n",
        "psi_norm=[psi[i]*norm[i] for i in range(nl)] # normalize\n",
        "\n",
        "Ed=Ed/np.pi**2*2 # scale energy relative to standard particle in an infinite box\n",
        "V=[V/np.pi**2*2 for V in V] # same for potential energy."
      ],
      "execution_count": 48,
      "outputs": []
    },
    {
      "cell_type": "code",
      "metadata": {
        "id": "Es_tvBD40xwL"
      },
      "source": [
        "#plot several wavefunctions on same graph with potential. Each one placed at its energy level.\n",
        "fact=1 #scale factor for nice plotting. 1 does nothing but if the plots need to be scaled up or down, change it.\n",
        "plt.figure(figsize=(12,8))\n",
        "for i in range(nl):\n",
        "    if psi[i][50] < 0:   # Flip the wavefunctions if it is negative at small x, so plots are more consistent.\n",
        "        plt.plot(x,-psi_norm[i]*fact+Ed[i],label=\"$E_{}$={:>8.3f}\".format(i+1,Ed[i]))\n",
        "    else:\n",
        "        plt.plot(x,psi_norm[i]*fact+Ed[i],label=\"$E_{}$={:>8.3f}\".format(i+1,Ed[i]))\n",
        "    plt.title(\"Solutions to the Finite Double Square Well\")\n",
        "\n",
        "plt.plot(x,V)\n",
        "plt.xlim(-(a+bar/1.5),(a+bar/1.5))\n",
        "#plt.legend()\n",
        "#plt.savefig(\"Finite_Square_Well_WaveFunctions.pdf\")\n",
        "plt.show()"
      ],
      "execution_count": null,
      "outputs": []
    },
    {
      "cell_type": "code",
      "metadata": {
        "id": "PKvb4bz64r1b"
      },
      "source": [
        "#plot square of wavefunction\n",
        "plt.figure(figsize=(12,8))\n",
        "for i in range(nl):\n",
        "    plt.plot(x,psi_norm[i]**2*fact**2+Ed[i],label=\"$E_{}$={:>8.3f}\".format(i+1,Ed[i]))\n",
        "plt.title(\"Finite Double Well Wavefunctions Squared\")\n",
        "plt.plot(x,V)\n",
        "plt.xlim(-a-bar/1.5,a+bar/1.5)\n",
        "plt.legend(loc=\"center\")\n",
        "#plt.savefig(\"Finite_Square_Well_WaveFunctions_Squared.pdf\")\n",
        "plt.show()"
      ],
      "execution_count": null,
      "outputs": []
    },
    {
      "cell_type": "markdown",
      "source": [
        "Let's look at the probability density for each wavefunction. Move the slider to see each level's energy and wavefunction separately."
      ],
      "metadata": {
        "id": "3D76Q5uojeNV"
      }
    },
    {
      "cell_type": "code",
      "metadata": {
        "id": "q2bbo7Yt7zCR",
        "outputId": "970504a3-f036-4a8e-a8b8-a4a0d010fd85",
        "colab": {
          "base_uri": "https://localhost:8080/",
          "height": 545
        }
      },
      "source": [
        "# @title Double Well Probability { run: \"auto\" }\n",
        "l = 2 #@param {type:\"slider\", min:0, max:15, step:1}\n",
        "#plot square of wavefunction\n",
        "plt.figure(figsize=(12,6))\n",
        "plt.plot(x,psi_norm[l]**2*fact**2+Ed[l],label=\"$E_{}$={:>8.3f}\".format(l+1,Ed[l]))\n",
        "plt.title(\"Finite Double-Well Wavefunctions Squared\")\n",
        "plt.plot(x,V)\n",
        "plt.xlim(-a-bar/1.5,a+bar/1.5)\n",
        "plt.legend()\n",
        "#plt.savefig(\"Finite_Square_Well_WaveFunctions_Squared.pdf\")\n",
        "plt.show()"
      ],
      "execution_count": 45,
      "outputs": [
        {
          "output_type": "display_data",
          "data": {
            "text/plain": [
              "<Figure size 1200x600 with 1 Axes>"
            ],
            "image/png": "[encoded data removed]"
          },
          "metadata": {}
        }
      ]
    },
    {
      "cell_type": "markdown",
      "source": [
        "What happens when we decrease the width of the barrier?"
      ],
      "metadata": {
        "id": "fhnJ9gqGjQMD"
      }
    },
    {
      "cell_type": "markdown",
      "source": [
        "#Appendices\n"
      ],
      "metadata": {
        "id": "DkcuHT4C-bpw"
      }
    },
    {
      "cell_type": "markdown",
      "source": [
        "#####Matrix Multiplication\n",
        "If you have not taken linear algebra it will be useful to see the mechanics of multplication of a small matrix with a vector. We will use a 3x3 matrix, $O$ (for $operator$) and a 3x1 vector, $f$ (for $function$) as examples.\n",
        "$$O=\\begin{bmatrix}1&0&3\\\\0&5&4\\\\2&6&0\\end{bmatrix}\\,\\,\\,\\,\\,\\,\\,\\,\\,\\,\\,f=\\begin{bmatrix} 1\\\\2\\\\3\\end{bmatrix}$$\n",
        "Multiplication of the vector by the matrix leads to a 3x1 vector. The first element comes from the sum of the top leftmost element multiplied by the first element of the vector, the top-center element multiplied of the matrix by the second element of the vector and the top rightmost element of the matrix multiplied by the last element of the vector. In other words the first element of the product is the sum of the elemnts on the first row of the matrix multiplied by the first (only) column of the vector.\n",
        "\n",
        "$$Of=\\begin{bmatrix}1&0&3\\\\0&5&4\\\\2&6&0\\end{bmatrix}\\begin{bmatrix} 1\\\\2\\\\3\\end{bmatrix}=\\begin{bmatrix}1\\cdot1+0\\cdot2+3\\cdot3\\\\0\\cdot1+5\\cdot2+4\\cdot3\\\\2\\cdot1+6\\cdot2+0\\cdot3\\end{bmatrix}=\\begin{bmatrix}10\\\\22\\\\14\\end{bmatrix}$$\n",
        "In this case our vector is not an eigenvector of the matrix because it doesn't emerge from the multiplication as a constant times the original vector.\n",
        "Multiplying two matrices is similar but we won't worry about that now.\n",
        "\n",
        "We can do this matrix multiplication in python too."
      ],
      "metadata": {
        "id": "xsj8ZRIiPpNr"
      }
    },
    {
      "cell_type": "code",
      "source": [
        "import numpy as np # load package needed for dealing with matrices and numerical calculations."
      ],
      "metadata": {
        "id": "uPVV4-Wy133Q"
      },
      "execution_count": null,
      "outputs": []
    },
    {
      "cell_type": "code",
      "metadata": {
        "id": "Xncbmuz0zuCL"
      },
      "source": [
        "O=np.array([[1,0,3],[0,5,4],[2,6,0]])\n",
        "#print(O) # if you want to see O, remove the first # and run the cell\n",
        "f=np.array([[1],[2],[3]])\n",
        "O.dot(f) # np.dot(O,f) works too"
      ],
      "execution_count": null,
      "outputs": []
    },
    {
      "cell_type": "markdown",
      "metadata": {
        "id": "FQR8q5M50bXm"
      },
      "source": [
        "Try multiplying $$\\begin{bmatrix} 1&-1&0\\\\-1&1&-1\\\\ 0&-1&1\\end{bmatrix}$$ by $$\\begin{bmatrix}2\\\\3\\\\1\\end{bmatrix}$$"
      ]
    },
    {
      "cell_type": "code",
      "metadata": {
        "id": "e42sQYpk4SwZ"
      },
      "source": [],
      "execution_count": null,
      "outputs": []
    },
    {
      "cell_type": "markdown",
      "source": [
        "## np.diag and np.ones\n",
        "To make a derivative matrix with ones and minus ones on some diagonals, it is convenient to use numpy's ```diag``` function. ```np.diag([1,2,3])``` makes a matrix with 1, 2, and 3 along the diagonal and zeros elsewhere. Likewise, we can insert elements along a *subdiagonal* or *superdiagonal* (the diagonal below or above the true diagonal of a square matrix) using ```np.diag([1,2,3],1]```\n",
        "\n"
      ],
      "metadata": {
        "id": "5W2m_ana1yrl"
      }
    },
    {
      "cell_type": "code",
      "source": [
        "np.diag([1,2,3])"
      ],
      "metadata": {
        "id": "1XqFVh0HHBFK"
      },
      "execution_count": null,
      "outputs": []
    },
    {
      "cell_type": "code",
      "source": [
        "np.diag([1,2,3],-1)"
      ],
      "metadata": {
        "id": "SgY7f02SG6m7"
      },
      "execution_count": null,
      "outputs": []
    },
    {
      "cell_type": "markdown",
      "source": [
        "We have seen that a matrix with -1 on the diagonal just above the diagonal will make a derivative operator.  We can do this using ```np.diag([-1,-1,-1,-1,-1,-1])``` which works fine if we know just how big our matrix is going to be. But if we want to adjust things, we'll have to remember to adjust the number of 1's in our diagonal matrix.\n",
        "\n",
        "We can make use of ```np.ones``` to generate a list of ones that is adjustable. So ```np.diag(-np.ones(5))``` will give a 5x5 matrix with -1 on the diagonal and ```np.diag(np.ones(4),1)``` will give a 5x5 matrix with +1 on the superdiagonal. These can be added to give the deriviative matrix we want. Substituting a variable such as $N$ and $N-1$ instead of 5 and 4 will make it so that just changing the value of $N$ will adjust the size of the derivative matrix so we can handle whatever size f(x) vector we want.\n",
        "\n",
        "[back to derivative calculation](#scrollTo=MsgIOf7cEFkv&line=1&uniqifier=1)"
      ],
      "metadata": {
        "id": "Qb0LY9a0HKhd"
      }
    },
    {
      "cell_type": "markdown",
      "source": [
        "##forward and backward derivatives\n",
        "When we say forward derivative, we're talking about the technique of taking the derivative of a discretized function by taking finding the slope using the difference between $f(x+Δx)$ and $f(x)$ wheras a backward deriviate would use $f(x)$ and $f(x-Δx)$. There's no reason to prefer one over the other. The main effect of the choice will be whether to ignore the first or the last element of the result since there's no $f(x+Δx)$ at the last element and no $f(x-Δx)$ at the first element. We get to choose.\n",
        "\n",
        "When calculating the second derivative, we could do each derivative forward which would result in a derivative that would look like $$\n",
        "\\frac{d^2}{dx^2}f(x) = \\lim_{\\Delta x \\rightarrow 0} \\frac{f'(x+\\Delta x)-f'(x)}{\\Delta x} =  \\lim_{\\Delta x \\rightarrow 0} \\frac{f(x+\\Delta x+\\Delta x) - f(x+\\Delta x) - (f(x+\\Delta x) - f(x))}{\\Delta x^2} \\\\\n",
        "\\frac{d^2}{dx^2}f(x) = \\lim_{\\Delta x \\rightarrow 0} \\frac{f(x+2\\Delta x) - 2f(x+\\Delta x) + f(x))}{\\Delta x^2} \\approx \\frac{f(x+2h) - 2f(x+h) + f(x))}{h^2}\n",
        "$$\n",
        "This second derivative is really leaning forward enough that we should consider it a derivative around $x+Δx$ rather than around $x$. Therefore it makes sense to take the second derivative in the opposite direction as we took the first. Since we chose to do a forward first derivative, we choose a backward second derivative. This means that both the first element and last elements of our resulting 2nd derivative vector are meaningless.\n",
        "\n",
        "[Back to the second order differential section](#scrollTo=eEvfX6Yb7WRX&line=6&uniqifier=1)"
      ],
      "metadata": {
        "id": "WtiOKVHUEPlB"
      }
    }
  ]
}