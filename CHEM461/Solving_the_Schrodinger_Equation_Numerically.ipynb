{
  "nbformat": 4,
  "nbformat_minor": 0,
  "metadata": {
    "kernelspec": {
      "name": "python3",
      "display_name": "Python 3"
    },
    "colab": {
      "name": "Solving_the_Schrodinger_Equation_Numerically.ipynb",
      "provenance": [],
      "toc_visible": true,
      "include_colab_link": true
    }
  },
  "cells": [
    {
      "cell_type": "markdown",
      "metadata": {
        "id": "view-in-github",
        "colab_type": "text"
      },
      "source": [
        "<a href=\"https://colab.research.google.com/github/davis689/binder/blob/master/Solving_the_Schrodinger_Equation_Numerically.ipynb\" target=\"_parent\"><img src=\"https://colab.research.google.com/assets/colab-badge.svg\" alt=\"Open In Colab\"/></a>"
      ]
    },
    {
      "cell_type": "markdown",
      "metadata": {
        "id": "LZAR1TdwyaVo"
      },
      "source": [
        "# Numerically Solving the Schrödinger Equation\n",
        "\n",
        "The number of problems for which we will be able to find an analytical solution to the Schrödinger equation is limited. We have seen how to solve the particle in a box and we will be able to analytically solve some others but even in those cases we often rely on solutions by long dead French mathematicians rather than doing the tedious work ourselves. \n",
        "\n",
        "We should use the cases in which we can find a precise solution to develop our intuition about what a reasonable solution looks like and be able to make informed qualitative guesses at what a good wavefunction will be. But it would also be useful to know techniques in calculating the wavefunctions and energies numerically. Here our answers may not be precise but we with enough work we should be able to approach the true answer as closely as we want.\n",
        "\n",
        "We have seen the Schrödinger Equation written as a differential equation and we have seen that it forms an eigenfunction/eigenvalue equation. \n",
        "$$ -\\frac{\\hbar^2}{2m}\\frac{d^2}{d x^2} \\psi(x) + V(x)\\psi(x) = E\\psi(x)$$\n",
        "\n",
        "Here we will see how to transform the equation into a matrix equation that preserves the eigenfunction/eigenvalue form (where the term $eigenfunction$ is replaced by $eigenvector$). \n"
      ]
    },
    {
      "cell_type": "markdown",
      "metadata": {
        "id": "FplEVzMp7WOy"
      },
      "source": [
        "## Method\n",
        "The method we will use here is called the [\"Finite Difference Method\"](https://en.wikipedia.org/wiki/Finite_difference_method) (see the linked Wikipedia article). In this method we will turn the function $\\psi(x)$ into a vector, which is a list in Python, and the operator of the differential equation into a *matrix*. We then end up with a matrix eigenequation, which we can diagonalize to get our answer.\n",
        "\n",
        "### Discretization\n",
        "The process of discretization is simply turning our continuous space $x$, into a discrete number of steps, $N$, and our function $\\psi(x)$ into an array of size $N$. We thus have $N$ values $x_i$, which have a stepsize $h = \\Delta x = x_{i+1} - x_i$. Our choice of the *size* of our space, $N$, turns out to be important. Too large a number will slow down our computation and require too much computer memory, too small a number and the answers we compute will not be sufficiently accurate. A common practice is to start with a small number $N$ and then increase it until the accuracy is acceptable. The actual value you obtain in the end will depend on the problem you are studying. \n",
        "\n",
        "### Forward and Backward first order differential\n",
        "We first need to develop how we will take the derivative of our function. Going back to our introduction to calculus, we remember that the derivative was defined as:\n",
        "$$\n",
        "\\frac{d}{dx} f(x) = \\lim_{\\Delta x \\rightarrow 0} \\frac{f(x+\\Delta x) - f(x)}{\\Delta x} \\approx \\frac{f(x+h) - f(x)}{h} + \\mathrm{O}(h)\n",
        "$$\n",
        "When we take a *finite difference*, we simply not take the limit all the way down to 0, but stop at $\\Delta x = h$. Note that for this equation we evaluate the point just *after* $x$, which we call the *forward difference*. If you actually let $\\Delta x \\rightarrow 0$, then this does not matter, but if you do a finite difference, you can also do:\n",
        "$$\n",
        "\\frac{d}{dx} f(x) = \\lim_{\\Delta x \\rightarrow 0} \\frac{f(x) - f(x-\\Delta x)}{\\Delta x} \\approx \\frac{f(x) - f(x-h)}{h} + \\mathrm{O}(h)\n",
        "$$\n",
        "which is known as the *backward difference*. \n",
        "\n",
        "You can also comput a *central difference*, but cannot use steps of $\\frac{1}{2}\\Delta x$, since that does not exist in our space. The central difference is then a combination of the previous two:\n",
        "$$\n",
        "\\frac{d}{dx} f(x) = \\lim_{\\Delta x \\rightarrow 0} \\frac{f(x+\\Delta x) - f(x-\\Delta x)}{2\\Delta x}\\approx \\frac{f(x+h) - f(x-h)}{2h} + \\mathrm{O}(h^2)\n",
        "$$\n",
        "This last one is a little more accurate than the first two.\n",
        "\n",
        "Note that for any of these approximations to a derivative, we have a problem at the edges of our space. (In Python, C and Java, our space goes from $n=0$ to $n=N-1$, in Fortran $n=1$ to $N$.) Either on one end or the other, there is no $x-\\Delta x$ or $x+\\Delta x$. Here, we are just not going to worry about this detail."
      ]
    },
    {
      "cell_type": "markdown",
      "metadata": {
        "id": "iS_Ngjt07WPC"
      },
      "source": [
        "#### Matrix representation\n",
        "Matrix and vector methods are very straightforward to implement using a computer. We need to see how a matrix can be setup to take a derivative. I expect that many of you will not have taken linear algebra and we won't need to concern ourselves too much with each detail of the matrix but you should be able to see the main point. \n",
        "\n",
        "#####Matrix Multiplication\n",
        "If you have not taken linear algebra it will be useful to see the mechanics of multplication of a small matrix with a vector. We will use a 3x3 matrix, $O$ (for $operator$) and a 3x1 vector, $f$ (for $function$) as examples. \n",
        "$$O=\\begin{bmatrix}1&0&3\\\\0&5&4\\\\2&6&0\\end{bmatrix}\\,\\,\\,\\,\\,\\,\\,\\,\\,\\,\\,f=\\begin{bmatrix} 1\\\\2\\\\3\\end{bmatrix}$$\n",
        "Multiplication of the vector by the matrix leads to a 3x1 vector. The first element comes from the sum of the top leftmost element multiplied by the first element of the vector, the top-center element multiplied of the matrix by the second element of the vector and the top rightmost element of the matrix multiplied by the last element of the vector. In other words the first element of the product is the sum of the elemnts on the first row of the matrix multiplied by the first (only) column of the vector.\n",
        "\n",
        "$$Of=\\begin{bmatrix}1&0&3\\\\0&5&4\\\\2&6&0\\end{bmatrix}\\begin{bmatrix} 1\\\\2\\\\3\\end{bmatrix}=\\begin{bmatrix}1\\cdot1+0\\cdot2+3\\cdot3\\\\0\\cdot1+5\\cdot2+4\\cdot3\\\\2\\cdot1+6\\cdot2+0\\cdot3\\end{bmatrix}=\\begin{bmatrix}10\\\\22\\\\14\\end{bmatrix}$$\n",
        "In this case our vector is not an eigenvector of the matrix because it doesn't emerge from the multiplication as a constant times the original vector.\n",
        "Multiplying two matrices is similar but we won't worry about that now.\n",
        "\n",
        "We can do this matrix multiplication in python too."
      ]
    },
    {
      "cell_type": "code",
      "metadata": {
        "colab": {
          "base_uri": "https://localhost:8080/"
        },
        "id": "Xncbmuz0zuCL",
        "outputId": "70712499-97a8-4ff8-801c-b012245281eb"
      },
      "source": [
        "import numpy as np # load package needed for dealing with matrices and numerical calculations.\r\n",
        "O=np.array([[1,0,3],[0,5,4],[2,6,0]])\r\n",
        "#print(O) # if you want to see O, remove the first # and run the cell\r\n",
        "f=np.array([[1],[2],[3]])\r\n",
        "O.dot(f) # np.dot(O,f) works too"
      ],
      "execution_count": 29,
      "outputs": [
        {
          "output_type": "execute_result",
          "data": {
            "text/plain": [
              "array([[10],\n",
              "       [22],\n",
              "       [14]])"
            ]
          },
          "metadata": {
            "tags": []
          },
          "execution_count": 29
        }
      ]
    },
    {
      "cell_type": "markdown",
      "metadata": {
        "id": "FQR8q5M50bXm"
      },
      "source": [
        "Try multiplying $$\\begin{bmatrix} 1&-1&0\\\\-1&1&-1\\\\ 0&-1&1\\end{bmatrix}$$ by $$\\begin{bmatrix}2\\\\3\\\\1\\end{bmatrix}$$"
      ]
    },
    {
      "cell_type": "code",
      "metadata": {
        "id": "e42sQYpk4SwZ"
      },
      "source": [
        ""
      ],
      "execution_count": 1,
      "outputs": []
    },
    {
      "cell_type": "markdown",
      "metadata": {
        "id": "VO50LYzSy1s5"
      },
      "source": [
        "In our case, our matrices and vectors may have hundreds of elements. We'll want to find a matrix that can turn our vector representation of $\\psi$ into its derivative.\r\n",
        "We now want to turn the equation into a matrix equation for us to evaluate. If you just want to take the derivative of a function stored in an array, then this is not needed, you can run a loop and evaluate the equation for each $x_i$, but if you want to solve a differential equation, we need the matrix.\r\n",
        "\r\n",
        "We introduce the vectors $f(x) = [f_0,f_1,f_2,...,f_{N-1}]$ and for the derivative $f'(x) = [f'_0,f'_1,f'_2...,f'_{N-1}]$. The forward difference derivative can then be written as:\r\n",
        "$$ f'_i = (f_{i+1} - f_i)/h $$\r\n",
        "And the matrix equation for the forward difference derivative is just:\r\n",
        "$$\r\n",
        "\\begin{pmatrix}f'_0 \\\\ f'_1 \\\\\\vdots \\\\ f'_{N-1}\\end{pmatrix} = \\frac{1}{h}\\begin{pmatrix}f_1-f_0\\\\f_2-f_1\\\\\\vdots\\\\f_{N}-f_{N-1}\\end{pmatrix}= \\frac{1}{h}\r\n",
        "\\begin{pmatrix} -1 & 1 & 0 & & \\\\ 0 & -1 & 1 & & \\\\ & & \\ddots & \\ddots \\\\\r\n",
        "& & & -1 & \\end{pmatrix}\\begin{pmatrix}f_0 \\\\ f_1 \\\\\\vdots \\\\ f_{N-1}\\end{pmatrix}\r\n",
        "$$\r\n",
        "We note that the last entry in the matrix will not be correct because there is no element for $N$. We can fix this up by taking the *backward* derivative at the last point.\r\n",
        "\r\n",
        "We now check that this works. Using Python and Numpy we will take the derivative of $\\sin(x)$ and plot the result.\r\n",
        "First we tell the system we want to use the Numpy package to deal with numerical calculations and the matplotlib package to deal with making plots.\r\n",
        "Then setup some parameters such as number of points, the $x$-axis range, etc."
      ]
    },
    {
      "cell_type": "code",
      "metadata": {
        "id": "9zy3b51XQZ4b"
      },
      "source": [
        "N = 100 #number of points at which to calculate\r\n",
        "#a = 2*np.pi \r\n",
        "# Define the x space from 0 to a with N-1 divisions.\r\n",
        "x = np.linspace(0,2*np.pi,N)  #define the x-axis range to be from 0 to 2pi with N evenly spaced points.\r\n",
        "                              # Note the difference between saying 10 points and dividing a line segment into 10 equal divisions. \r\n",
        "                              # The first has 9 divisions, the second has 11 points. In this case the argument taken is talking about\r\n",
        "                              # the number of points. If you want 100 equally sized divisions of a particular range, then use N=101.\r\n",
        "\r\n",
        "Δx = x[1]-x[0]  # Should be equal to 2*np.pi/(N-1) where (N-1) is the number of gaps between points but where the gap is the same size\r\n",
        "                # every time, we can just use the first gap size."
      ],
      "execution_count": 30,
      "outputs": []
    },
    {
      "cell_type": "markdown",
      "metadata": {
        "id": "ToV3VtRKRcH7"
      },
      "source": [
        "Now we define the function we want the derivative of. Here we'll use $sine$ because we know the answer. In the future we won't necessarily know what the wavefunction is and we'll find ways to have the computer figure that out for us. For now we'll define it ourselves."
      ]
    },
    {
      "cell_type": "code",
      "metadata": {
        "id": "0198qNFg47iv",
        "colab": {
          "base_uri": "https://localhost:8080/"
        },
        "outputId": "d3bc11e9-0176-4397-ab2e-83ac9100bcab"
      },
      "source": [
        "# Compute the function, y = sin(x). With numpy this is easy:\n",
        "y = np.sin(x)\n",
        "\n",
        "D = (np.diag( -1.*np.ones(N),0) + np.diag(np.ones(N-1),1)) #derivative matrix\n",
        "          #np.diag(np.ones(N),0) makes an N by N matrix with N ones on the diagonal. np.diag(np.ones(N-1),1) makes an \n",
        "          # N by N matrix with N-1 ones on the diagonal shifted one unit right of the complete diag let's print this matrix to test\n",
        "print(D)\n",
        "D=D/Δx # Complete our derivative  operator by dividing by 'h' or, in our case, Δx.\n"
      ],
      "execution_count": 33,
      "outputs": [
        {
          "output_type": "stream",
          "text": [
            "[[-1.  1.  0. ...  0.  0.  0.]\n",
            " [ 0. -1.  1. ...  0.  0.  0.]\n",
            " [ 0.  0. -1. ...  0.  0.  0.]\n",
            " ...\n",
            " [ 0.  0.  0. ... -1.  1.  0.]\n",
            " [ 0.  0.  0. ...  0. -1.  1.]\n",
            " [ 0.  0.  0. ...  0.  0. -1.]]\n"
          ],
          "name": "stdout"
        }
      ]
    },
    {
      "cell_type": "code",
      "metadata": {
        "id": "oa5QSAWEbWTc"
      },
      "source": [
        "# Compute the derivative of y by matrix multiplication:\r\n",
        "yprime =D.dot(y) "
      ],
      "execution_count": 34,
      "outputs": []
    },
    {
      "cell_type": "markdown",
      "metadata": {
        "id": "QwpwvIQwSU7V"
      },
      "source": [
        "###Plotting\r\n",
        "Now we can plot the results. The notation x[:-1] means take all the x values except the very last one to deal with the problem at the last point mentioned earlier. x[10:-10] would mean use all the x values from the 10th (actually 11th since we start with zero) to the 10th from the end. "
      ]
    },
    {
      "cell_type": "code",
      "metadata": {
        "colab": {
          "base_uri": "https://localhost:8080/",
          "height": 428
        },
        "id": "RFYzOLHgSULb",
        "outputId": "4d999560-77bc-42e6-886d-a94f9c01a6d6"
      },
      "source": [
        "import matplotlib.pyplot as plt #import package to deal with plotting\r\n",
        "\r\n",
        "plt.figure(figsize=(10,7))\r\n",
        "plt.plot(x,y,label='y(x)')\r\n",
        "plt.plot(x[:-1],yprime[:-1],label='y\\'(x)') # Don't plot last value, which is invalid\r\n",
        "plt.legend()\r\n",
        "plt.show()"
      ],
      "execution_count": 35,
      "outputs": [
        {
          "output_type": "display_data",
          "data": {
            "image/png": "[encoded data removed]",
            "text/plain": [
              "<Figure size 720x504 with 1 Axes>"
            ]
          },
          "metadata": {
            "tags": [],
            "needs_background": "light"
          }
        }
      ]
    },
    {
      "cell_type": "markdown",
      "metadata": {
        "id": "TScGgxVPYoyk"
      },
      "source": [
        "This shows how we can take a derivative using linear algebra and get the expected $cosine$. Similar techniques will get us a second derivative in matrix form."
      ]
    },
    {
      "cell_type": "markdown",
      "metadata": {
        "id": "eEvfX6Yb7WRX"
      },
      "source": [
        "## Second order Differential\n",
        "We can now extend this method to the second order differential. If we take the backward differential of the result of a forward differential, we get:\n",
        "$$\n",
        "\\frac{d^2}{dx^2}f(x) = \\lim_{\\Delta x \\rightarrow 0} \\frac{f'(x)-f'(x-\\Delta x)}{\\Delta x} =  \\lim_{\\Delta x \\rightarrow 0} \\frac{f(x+\\Delta x) - f(x) - (f(x) - f(x-\\Delta x))}{\\Delta x^2} \\\\\n",
        "\\frac{d^2}{dx^2}f(x) = \\lim_{\\Delta x \\rightarrow 0} \\frac{f(x+\\Delta x) - 2f(x) + f(x-\\Delta x))}{\\Delta x^2} \\approx \\frac{f(x+h) - 2f(x) + f(x-h))}{h^2}\n",
        "$$\n",
        "So in the discrete space we can write this as:\n",
        "$$ f''_i = (f_{i+1} - 2f_i + f_{i-1})/h^2 $$\n",
        "And finally, as a matrix equation, the second derivative is then:\n",
        "$$\n",
        "\\begin{pmatrix}f''_0 \\\\ f''_1 \\\\ f''_2 \\\\\\vdots \\\\ f''_{N-1}\\end{pmatrix} = \\frac{1}{h^2}\n",
        "\\begin{pmatrix} -2 & 1 & 0 & 0 & \\\\ 1 & -2 & 1 & 0 & \\\\ \n",
        "0& 1 & -2 & 1 &  \\\\ &  & \\ddots & \\ddots & \\ddots &\\\\\n",
        "&  & & 1 & -2 \\end{pmatrix}\\begin{pmatrix}f_0 \\\\ f_1 \\\\ f_2 \\\\\\vdots \\\\ f_{N-1}\\end{pmatrix}\n",
        "$$\n",
        "Where now we note that at both ends of our array we will get an inaccurate answer unless we do some fixup. The fixup in this case is to use the same elements as the row below (at the start) or the row above (at the end), so we get $f''_0 = f''_1$ and $f''_{N-1} = f''_{N-2}$, which is not great but better than the alternative.\n",
        "\n",
        "We can now try this matrix in Python and compute the second derivative of our $y(x)$ array."
      ]
    },
    {
      "cell_type": "code",
      "metadata": {
        "colab": {
          "base_uri": "https://localhost:8080/",
          "height": 428
        },
        "id": "UmHVNSHp5O6Y",
        "outputId": "116a0b12-ca6f-48b2-e122-0921d10bc7b1"
      },
      "source": [
        "D2 = 1./(Δx**2)*(np.diag(np.ones(N-1),-1) + np.diag( -2.*np.ones(N),0) + np.diag(np.ones(N-1),1))\n",
        "                # The first np.diag() puts (N-1) ones on the partial diagonal below the diagonal (,-1)\n",
        "                # The second puts N negative twos on the diagonal. The third puts (N-1) ones on the partial diagonal above the diagonal (,1).\n",
        "ypp = D2.dot(y) # 'operate' second derivative matrix on function, y.\n",
        "\n",
        "plt.figure(figsize=(10,7))\n",
        "plt.plot(x,y,label='y(x)')\n",
        "plt.plot(x[:-1],yprime[:-1],label='y\\'(x)')     # Last value is invalid, don't plot\n",
        "plt.plot(x[1:-1],ypp[1:-1],label='y\\'\\'(x)')  # First and last value is invalid.\n",
        "plt.legend()\n",
        "plt.show()"
      ],
      "execution_count": 36,
      "outputs": [
        {
          "output_type": "display_data",
          "data": {
            "image/png": "[encoded data removed]",
            "text/plain": [
              "<Figure size 720x504 with 1 Axes>"
            ]
          },
          "metadata": {
            "tags": [],
            "needs_background": "light"
          }
        }
      ]
    },
    {
      "cell_type": "markdown",
      "metadata": {
        "id": "rohTIWl17WUl"
      },
      "source": [
        "# Solving the Particle in a Box Schrödinger Equation\n",
        "\n",
        "We can now setup the Schrodinger Equation as a matrix equation:\n",
        "$$\n",
        "\\hat H = \\frac{\\hbar^2}{2m}\\frac{d^2}{d x^2} + V \\\\\n",
        "\\hat H \\psi(x) = E \\psi(x)\n",
        "$$\n",
        "We now know the matrix for taking the second order derivative. The matrix for the potential is simply the values of the potential on the diagonal of the matrix: $\\mathbf{V}_{i=j} = V_i$. \n",
        "\n",
        "Writing out the matrix for $\\mathbf{H}$ we get:\n",
        "$$\n",
        "\\mathbf{H} = \\frac{-\\hbar^2}{2 m h^2} \\begin{pmatrix} -2 & 1 & 0 & 0 & \\\\ 1 & -2 & 1 & 0 & \\\\ \n",
        "0& 1 & -2 & 1 &  \\\\ &  & \\ddots & \\ddots & \\ddots &\\\\\n",
        "&  & & 1 & -2 \\end{pmatrix} + \n",
        "\\begin{pmatrix} V_0 & 0 & 0 & & \\\\ 0 & V_1 & 0 & & \\\\ 0 & 0 & V_2 & & \\\\ & & &\\ddots & \\\\ &&&&V_{N-1}\\end{pmatrix}\n",
        "$$ \n",
        "\n",
        "It is worth looking at the matrix of the Hamiltonian and notice the symmetry: $\\mathbf{H}^T = \\mathbf{H}$, so the transpose of the matrix is identical to the matrix. Since the matrix is *real* everywhere, the complex conjugate is also the same: $\\mathbf{H}^*=\\mathbf{H}$. Combining these two statements, we can say that the Hamiltonian is Hermetian: $\\mathbf{H}^\\dagger = \\mathbf{H}$. We will come back to this later in the course.\n",
        "\n"
      ]
    },
    {
      "cell_type": "markdown",
      "metadata": {
        "id": "waZQcEJ2Gpbo"
      },
      "source": [
        "### Infinite Square Well\r\n",
        "The very simplest system to solve for is the infinite square well, for which $V=0$. We will readily recognize the results as alternating $\\cos(x)$ and $\\sin(x)$ functions, and the energy levels are:\r\n",
        "$$\r\n",
        "E_i = \\frac{n^2\\pi^2\\hbar^2}{2ma^2}\r\n",
        "$$\r\n",
        "First, we need to discuss a subtlety. The Infinite Square Well from $-a/2$ to $a/2$ has $V=\\infty$ *at* these points. We get into trouble trying to enter $\\infty$ in our potential, so what we need to do is just limit the computational space from $-a/2+h$ to $a/2-h$, where $h$ is our step size. That way we force the wavefunction to zero at the end points. \r\n",
        "We compute this in the next box. I create $x_{full}$ as the full x-axis from $-a/2$ to $a/2$, but take $N+2$ steps. I then leave out the first and last point when calculating the wavefunctions. At the end, before plotting, I add a zero to the beginning and end of the wavefunctions, so that we get the expected result for plotting.\r\n",
        "\r\n",
        "Note I again import everything and setup all the definitions, so this block is stand-alone, and can be copy-pasted into another notebook. Here we set up constants and import the library needed for dealing with linear algebra."
      ]
    },
    {
      "cell_type": "code",
      "metadata": {
        "id": "IhNgMM2JwqbN"
      },
      "source": [
        "hbar=1 # use atomic units\r\n",
        "m=1 # electron mass\r\n",
        "N = 1000 \r\n",
        "a = 1.0 # this doesn't matter unless we want to compare different size boxes.\r\n",
        "x = np.linspace(-a/2.,a/2.,N)\r\n",
        "# We want to store step size, this is the reliable way:\r\n",
        "h = x[1]-x[0] # Should be equal to 2*np.pi/(N-1). This is delta x.\r\n",
        "nl= 5 # the number of levels to calculate. Change this as you wish."
      ],
      "execution_count": 37,
      "outputs": []
    },
    {
      "cell_type": "markdown",
      "metadata": {
        "id": "S3BD4pgiw61b"
      },
      "source": [
        "Now we set up the potential energy, the second derivative operator, and the Hamiltonian. Then extract the eigenvalues and eigenfunctions."
      ]
    },
    {
      "cell_type": "code",
      "metadata": {
        "id": "NSQlwgwp7WUr"
      },
      "source": [
        "V = 0.*x # could be just zero but put x here to show that it is a function of x.\n",
        "Mdd = 1./(h*h)*(np.diag(np.ones(N-1),-1) -2* np.diag(np.ones(N),0) + np.diag(np.ones(N-1),1)) # derivative operator\n",
        "H = -(hbar*hbar)/(2.0*m)*Mdd + np.diag(V)  # Hamiltonian including derivative and potential energy.\n",
        "\n",
        "\n",
        "E,psiT = np.linalg.eigh(H) # This computes the eigenvalues and eigenvectors\n",
        "psi = np.transpose(psiT)   # We take the transpose of psiT to the wavefunction vectors can accessed as psi[n]"
      ],
      "execution_count": 38,
      "outputs": []
    },
    {
      "cell_type": "markdown",
      "metadata": {
        "id": "MMLJfLqXy-8P"
      },
      "source": [
        "The energies are stored in $E$. The first $N$ levels are calculated. We will focus on only a few of them. Let's list the first several in atomic energy units."
      ]
    },
    {
      "cell_type": "code",
      "metadata": {
        "colab": {
          "base_uri": "https://localhost:8080/"
        },
        "id": "BaT2X-RyzHBa",
        "outputId": "47c6cfb8-7e62-4f3a-9670-e7b6e9aae849"
      },
      "source": [
        "for i in range(nl):\r\n",
        "  print(\"E_{}={:8.3f}\".format(i+1,E[i])) # the notation here is strange. Basically we will print everything between the \"\" \r\n",
        "                                          #but stuff between the brackets will get subsitututed in from the between the parentheses in .format()\r\n",
        "                                          #So here we'll print i+1 which is the quantum number 'n' in the particle in a box and the energies.\r\n",
        "                                          #The :8.3f stuff indicates how many places to use for the whole number (some may be spaces) and how many for the \r\n",
        "                                          #after the decimal point. The 'f' indicates a floating point (or decimal number). If we don't care about the \r\n",
        "                                          #format of the number that is displayed or if the number is a whole number as it is, like 'i', just {} is fine."
      ],
      "execution_count": 39,
      "outputs": [
        {
          "output_type": "stream",
          "text": [
            "E_1=   4.915\n",
            "E_2=  19.660\n",
            "E_3=  44.236\n",
            "E_4=  78.641\n",
            "E_5= 122.875\n"
          ],
          "name": "stdout"
        }
      ]
    },
    {
      "cell_type": "markdown",
      "metadata": {
        "id": "tgmSRoMdz22k"
      },
      "source": [
        "###Scaling the energies\r\n",
        "The energy of the lowest level in a particle in a box is $\\frac{n^2 \\hbar^2 \\pi^2}{2 m a^2}$. For convenience we will rescale the energies to be relative to the energy of the first level. So $\\epsilon=\\frac{E_n}{E_1}=\\frac{E_n}{\\frac{\\hbar^2 \\pi^2}{2ma^2}}=\\frac{E_n}{\\frac{\\pi^2}{2}}=\\frac{2E_n}{\\pi^2}$ and $ϵ=\\frac{E_n}{\\frac{\\hbar^2 \\pi^2}{2ma^2}}=\\dfrac{\\frac{n^2 \\hbar^2 \\pi^2}{2ma^2}}{\\frac{\\hbar^2 \\pi^2}{2ma^2}}=n^2$. So we can rescale the energy by multiplying by $2/\\pi^2$ and the resulting value should be the quantum number squared. This makes it easy to see at a glance how close our numerical approximate answer is the analytical answer."
      ]
    },
    {
      "cell_type": "code",
      "metadata": {
        "colab": {
          "base_uri": "https://localhost:8080/"
        },
        "id": "YRLYrQ4cz2RU",
        "outputId": "f624e46e-1a2b-43b0-c767-70d8b7ff4aef"
      },
      "source": [
        "ϵ=[E[i]*2/np.pi**2 for i in range(nl)]\r\n",
        "for i in range(nl):\r\n",
        "  print(\"ϵ_{}={:>8.3f}\".format(i+1,ϵ[i]))"
      ],
      "execution_count": 40,
      "outputs": [
        {
          "output_type": "stream",
          "text": [
            "ϵ_1=   0.996\n",
            "ϵ_2=   3.984\n",
            "ϵ_3=   8.964\n",
            "ϵ_4=  15.936\n",
            "ϵ_5=  24.900\n"
          ],
          "name": "stdout"
        }
      ]
    },
    {
      "cell_type": "markdown",
      "metadata": {
        "id": "9w5UfASV7jNQ"
      },
      "source": [
        "Our calculation gives almost what we expect. Each energy is essentially $n^2$ as it should be. If you change $N$ above and re-run the cells, you can see what affect using fewer (or more) points will have on runtime and accuracy. Try N=100 and N=5000. Remember that our calculation uses an N by N matrix so N=5000 will have to deal with a 25,000,000 element matrix."
      ]
    },
    {
      "cell_type": "markdown",
      "metadata": {
        "id": "uN1rea9O7WVa"
      },
      "source": [
        "We now want to plot the wavefunctions. We can plot individual wavefunctions using matplotlib (abbreviated as $plt$) and the $x$ and $psi$ lists we made above. For instance,\r\n",
        "```\r\n",
        "plt.plot(x,psi[2])\r\n",
        "```\r\n",
        "will the wavefunction corresponding to $n=3$ (remember we start counting at 0, so $n=1$ corresponds to psi[0]).\r\n",
        "\r\n",
        "Try plotting several of the wavefunctions below. Do they match what you think they should look like?\r\n",
        "\r\n",
        "You can beautify your graphs by adding axis labels and a title. \r\n",
        "\r\n",
        "```\r\n",
        "plt.xlabel('x')\r\n",
        "plt.ylabel('$\\psi$')\r\n",
        "plt.title('Particle in an infinite box wavefunction')\r\n",
        "```\r\n",
        "If you just type the lines shown here, some strange symbols will appear above the graph. Use ```plt.show()``` at the end and these go away.\r\n"
      ]
    },
    {
      "cell_type": "code",
      "metadata": {
        "id": "gvPgLIxa8_26"
      },
      "source": [
        ""
      ],
      "execution_count": 10,
      "outputs": []
    },
    {
      "cell_type": "markdown",
      "metadata": {
        "id": "dKxs4umR8oxZ"
      },
      "source": [
        "We'll set up a mechanism to plot a bunch of wavefunctions at the same time.\r\n",
        "\r\n",
        "The sign of the wavefunctions as we approach the ends is arbitrary. We can make it consistent if we want. The $for$ loop below plots each wavefunction but it also makes it so that the left end points all approach zero from above. The right end points then alternate."
      ]
    },
    {
      "cell_type": "code",
      "metadata": {
        "id": "HTkwSuQw7WVs"
      },
      "source": [
        "plt.figure(figsize=(10,7))\n",
        "for i in range(1,nl+1): # start with i=1 and go to i=\n",
        "    if psi[i-1][10] < 0:   # Flip the wavefunctions if it is negative at large x, so plots are more consistent.\n",
        "        plt.plot(x,-psi[i-1]/np.sqrt(h)*np.sqrt(1)+ϵ[i-1],label=\"$ϵ_{}$={:>8.3f}\".format(i,ϵ[i-1]))\n",
        "    else:\n",
        "        plt.plot(x,psi[i-1]/np.sqrt(h)*np.sqrt(1)+ϵ[i-1],label=\"$ϵ_{}$={:>8.3f}\".format(i,ϵ[i-1]))\n",
        "    plt.title(\"Solutions to the Infinite Square Well\")   \n",
        "V_x = np.zeros([N],float) # potential energy is just zeros. We don't need it for calculating but we do for plotting\n",
        "for i in range(N): # but adjust potential energy at the ends where it is infinite\n",
        "    if x[i] == -a/2 or x[i]==a/2:\n",
        "        V_x[i]=1.35*ϵ[nl-1] # we can't plot ininity but extend the box to 135% of the highest plotted energy level\n",
        "plt.plot(x,V_x)  \n",
        "plt.legend()\n",
        "plt.savefig(\"Infinite_Square_Well_WaveFunctions.pdf\")\n",
        "plt.show()"
      ],
      "execution_count": null,
      "outputs": []
    },
    {
      "cell_type": "markdown",
      "metadata": {
        "id": "LYagRfgJ7WVt"
      },
      "source": [
        "We now also want to check that the energy levels do indeed correspond to the known levels:\n",
        "$$\n",
        "E_n = \\frac{n^2 \\pi^2 \\hbar^2}{2 m a^2}\n",
        "$$"
      ]
    },
    {
      "cell_type": "code",
      "metadata": {
        "scrolled": true,
        "id": "NF937lC07WVt"
      },
      "source": [
        "for i in range(nl):\n",
        "    n = i+1\n",
        "    print(\"ϵ[{}] = {:9.4f},     ϵ_{} ={:9.4f},      %deviation={:>8.4f}%\".format(n,ϵ[i],n, n*n,((ϵ[i]-n*n)/n/n)))"
      ],
      "execution_count": null,
      "outputs": []
    },
    {
      "cell_type": "markdown",
      "metadata": {
        "id": "7lkESlbs7WVu"
      },
      "source": [
        "A final test shows the accuracy of our calculation in the orthonormality of the states:"
      ]
    },
    {
      "cell_type": "code",
      "metadata": {
        "id": "x_z7azdm5mQG"
      },
      "source": [
        "norm=[np.sqrt(1/np.trapz(psi[i]**2,x)) for i in range(nl)] # calculate normalization for each eigenfunction\r\n",
        "psi_norm=[psi[i]*norm[i] for i in range(nl)] # normalize psi\r\n",
        "np.trapz(psi_norm[1]**2,x) # check that it works for one psi"
      ],
      "execution_count": null,
      "outputs": []
    },
    {
      "cell_type": "markdown",
      "metadata": {
        "id": "25VFrevS0QKX"
      },
      "source": [
        "The code above checks the normalization of the n=2 eigenfunctions. We can check the orthonormality of a range of levels using the following lines."
      ]
    },
    {
      "cell_type": "code",
      "metadata": {
        "id": "i-oOP2TE7WVv"
      },
      "source": [
        "for j in range(nl):\n",
        "    for i in range(nl):\n",
        "        print(\"ψ_{}, ψ_{}, {:2.2f}\".format(i+1,j+1,np.trapz(psi_norm[i]*psi_norm[j],x)))"
      ],
      "execution_count": null,
      "outputs": []
    },
    {
      "cell_type": "markdown",
      "metadata": {
        "id": "ELVw9a1VCSR9"
      },
      "source": [
        "Explain the results in terms of orthonormality.\r\n",
        "\r\n"
      ]
    },
    {
      "cell_type": "markdown",
      "metadata": {
        "id": "fms7BS6b0iEA"
      },
      "source": [
        ""
      ]
    },
    {
      "cell_type": "markdown",
      "metadata": {
        "id": "8MiJzWxOJDuE"
      },
      "source": [
        "\r\n",
        "# Particle in a larger box"
      ]
    },
    {
      "cell_type": "markdown",
      "metadata": {
        "id": "gRNzMq_8V0qI"
      },
      "source": [
        "Let's compare that to a particle in a box that is twice as large. Again we will calculate energies relative to the lowest level in the original box.\r\n",
        "\r\n",
        "We set up variables the same way as before. (We don't really need to redefine variables if they're not changing but it's more clear this way.)"
      ]
    },
    {
      "cell_type": "code",
      "metadata": {
        "id": "dftiEvgeWBFx"
      },
      "source": [
        "hbar=1 # use atomic units\r\n",
        "m=1 # electron mass\r\n",
        "N = 1000 \r\n",
        "a2 = 2.0 # the width now is twice what it was before.\r\n",
        "x = np.linspace(-a2/2.,a2/2.,N)\r\n",
        "# We want to store step size, this is the reliable way:\r\n",
        "h = x[1]-x[0] # Should be equal to 2*np.pi/(N-1). This is delta x.\r\n",
        "nl= 5 # the number of levels to calculate"
      ],
      "execution_count": 15,
      "outputs": []
    },
    {
      "cell_type": "markdown",
      "metadata": {
        "id": "E45a5MG1WcTo"
      },
      "source": [
        "The operators will be the same as before.\r\n"
      ]
    },
    {
      "cell_type": "code",
      "metadata": {
        "id": "Gma4s47qWkNm"
      },
      "source": [
        "V = 0.*x # could be just zero but put x here to show that it is a function of x.\r\n",
        "Mdd = 1./(h*h)*(np.diag(np.ones(N-1),-1) -2* np.diag(np.ones(N),0) + np.diag(np.ones(N-1),1)) # derivative operator\r\n",
        "H = -(hbar*hbar)/(2.0*m)*Mdd + np.diag(V)  # Hamiltonian including derivative and potential energy.\r\n",
        "\r\n",
        "\r\n",
        "E2,psiT = np.linalg.eigh(H) # This computes the eigenvalues and eigenvectors\r\n",
        "psi = np.transpose(psiT)   # We take the transpose of psiT to the wavefunction vectors can accessed as psi[n]"
      ],
      "execution_count": 16,
      "outputs": []
    },
    {
      "cell_type": "code",
      "metadata": {
        "id": "iAu8XXYpWlvl"
      },
      "source": [
        "ϵ2=[E2[i]*2/np.pi**2 for i in range(nl)]\r\n",
        "print(\"energy level       energy in original box       energy in 2x box       ratio\")\r\n",
        "for i in range(nl):\r\n",
        "  print(\"ϵ_{}=            {:>8.3f}                     {:>8.3f}               {:>8.3f}\".format(i+1,ϵ[i],ϵ2[i],ϵ[i]/ϵ2[i]))"
      ],
      "execution_count": null,
      "outputs": []
    },
    {
      "cell_type": "markdown",
      "metadata": {
        "id": "DrZgWUe0Yj7L"
      },
      "source": [
        "Do these results make sense? Explain.\r\n",
        "\r\n",
        "\r\n",
        "Without calculating, would happen if the box were 1/2 as wide as the original box? Calculate it.\r\n"
      ]
    },
    {
      "cell_type": "code",
      "metadata": {
        "id": "3oMEP50xAw74"
      },
      "source": [
        ""
      ],
      "execution_count": 17,
      "outputs": []
    },
    {
      "cell_type": "markdown",
      "metadata": {
        "id": "VsT8taoiCWr1"
      },
      "source": [
        "# Particle in a finite box"
      ]
    },
    {
      "cell_type": "markdown",
      "metadata": {
        "id": "AMFPU27ECatZ"
      },
      "source": [
        "Now we turn our attention to a problem without an easy analytical solution.\r\n",
        "The particle in a finite box is a similar problem but the box doesn't have infinite sides. "
      ]
    },
    {
      "cell_type": "code",
      "metadata": {
        "id": "3n_mZ_-YCyAN"
      },
      "source": [
        "hbar=1 # Planck's constant in atomic units.\r\n",
        "m=1 # mass of electron\r\n",
        "N = 2048 # number of points to calculate\r\n",
        "a = 1.0 # width of finite box\r\n",
        "b=5 # total width of system\r\n",
        "V0=200 #potential energy in atomic units\r\n",
        "nl=7 #number of levels to calculate\r\n",
        "x = np.linspace(-b/2.,b/2.,N) # x-coordinate \r\n",
        "rgtlimit=np.searchsorted(x,[a/2])[0] # find the index of the right edge of the box to be used in integration later.\r\n",
        "#searchsorted used here looks through x and finds the value closest to a/2.\r\n",
        "# We want to store step size, this is the reliable way:\r\n",
        "h = x[1]-x[0] # Should be equal to 2*np.pi/(N-1)"
      ],
      "execution_count": 18,
      "outputs": []
    },
    {
      "cell_type": "markdown",
      "metadata": {
        "id": "PXcMpoXUC1Yt"
      },
      "source": [
        "Now we set up the potential. Here we want the potential to be zero between a/2 and -a/2 and $V_0$ outside that range. "
      ]
    },
    {
      "cell_type": "code",
      "metadata": {
        "id": "PRFCvemPC0DC"
      },
      "source": [
        "V=[]\r\n",
        "for i in x:\r\n",
        "  if i<-a/2 or i>a/2:\r\n",
        "    V.append(V0)\r\n",
        "  else:\r\n",
        "    V.append(0)"
      ],
      "execution_count": 19,
      "outputs": []
    },
    {
      "cell_type": "markdown",
      "metadata": {
        "id": "YDB9OvVXDsmK"
      },
      "source": [
        "Now setup the operators and calculate. Everything is the same here "
      ]
    },
    {
      "cell_type": "code",
      "metadata": {
        "id": "kYyKHPVcxgp4"
      },
      "source": [
        "Mdd = 1./(h*h)*(np.diag(np.ones(N-1),-1) -2* np.diag(np.ones(N),0) + np.diag(np.ones(N-1),1))\r\n",
        "H = -(hbar*hbar)/(2.0*m)*Mdd + np.diag(V) \r\n",
        "E,psiT = np.linalg.eigh(H) # This computes the eigen values and eigenvectors\r\n",
        "psi = np.transpose(psiT)  # We take the transpose of psiT to the wavefunction vectors can accessed as psi[n]\r\n",
        "norm=[np.sqrt(1/np.trapz(psi[i]**2,x)) for i in range(nl)] #calcluate normalization coefficient. Should be same but no cost to calculate for each level.\r\n",
        "E=E/np.pi**2*2 # scale energy relative to standard particle in an infinite box\r\n",
        "V=[V/np.pi**2*2 for V in V] # same for potential energy."
      ],
      "execution_count": 20,
      "outputs": []
    },
    {
      "cell_type": "code",
      "metadata": {
        "id": "wPgumM6UEqdg"
      },
      "source": [
        "psi_norm=[psi[i]*norm[i] for i in range(nl)] # normalize \r\n",
        "plt.plot(x,psi_norm[1]+E[1])# plot second wavefunction to make sure it looks right.\r\n",
        "plt.plot(x,V)\r\n",
        "plt.show()"
      ],
      "execution_count": null,
      "outputs": []
    },
    {
      "cell_type": "markdown",
      "metadata": {
        "id": "mB4oXMenBn8p"
      },
      "source": [
        "Check to make sure the wavefunctions are normalized."
      ]
    },
    {
      "cell_type": "code",
      "metadata": {
        "id": "PI4PBshlBsND"
      },
      "source": [
        ""
      ],
      "execution_count": 21,
      "outputs": []
    },
    {
      "cell_type": "markdown",
      "metadata": {
        "id": "S-TRnFLfBtXQ"
      },
      "source": [
        "As before, let's plot several wavefunctions on the same graph offset by their energies. It should be emphasized that all particles are travelling only on the $x$-axis. Offsetting along the $y$-axis only gets them out of each other's way and shows where the energy levels are."
      ]
    },
    {
      "cell_type": "code",
      "metadata": {
        "id": "sfS2AasT02Uo"
      },
      "source": [
        "#plot several wavefunctions on same graph with potential. Each one placed at its energy level.\n",
        "fact=1 #scale factor for nice plotting. 1 does nothing but if the plots need to be scaled up or down, change it.\n",
        "plt.figure(figsize=(10,7))\n",
        "for i in range(nl):\n",
        "    if psi[i][10] < 0:   # Flip the wavefunctions if it is negative at large x, so plots are more consistent.\n",
        "        plt.plot(x,-psi_norm[i]*fact+E[i],label=\"$E_{}$={:>8.3f}\".format(i+1,E[i]))\n",
        "    else:\n",
        "        plt.plot(x,psi_norm[i]*fact+E[i],label=\"$E_{}$={:>8.3f}\".format(i+1,E[i]))\n",
        "    plt.title(\"Solutions to the Finite Square Well\")\n",
        "\n",
        "plt.plot(x,V)\n",
        "plt.legend()\n",
        "#plt.savefig(\"Finite_Square_Well_WaveFunctions.pdf\")\n",
        "plt.show()\n"
      ],
      "execution_count": null,
      "outputs": []
    },
    {
      "cell_type": "markdown",
      "metadata": {
        "id": "zKecH3dECDB4"
      },
      "source": [
        "Do the same thing for the square of the wavefunction."
      ]
    },
    {
      "cell_type": "code",
      "metadata": {
        "id": "wtH9wIkC29WL"
      },
      "source": [
        "#plot square of wavefunction\r\n",
        "plt.figure(figsize=(10,7))\r\n",
        "for i in range(nl):\r\n",
        "    plt.plot(x,psi_norm[i]**2*fact**2+E[i],label=\"$E_{}$={:>8.3f}\".format(i+1,E[i]))\r\n",
        "plt.title(\"Finite Well Wavefunctions Squared\")\r\n",
        "plt.plot(x,V)\r\n",
        "plt.legend()\r\n",
        "#plt.savefig(\"Finite_Square_Well_WaveFunctions_Squared.pdf\")\r\n",
        "plt.show()"
      ],
      "execution_count": null,
      "outputs": []
    },
    {
      "cell_type": "markdown",
      "metadata": {
        "id": "kYWe_zMO9bTt"
      },
      "source": [
        "We can see that $\\psi$ does not go to zero at the end of the box the way that it did in the infinite box. This is especially noticeable for the higher levels. We can integrate $\\psi$ from a/2 to b (i.e. the region on the right outside the box) and multiply by 2 to get the total area on both sides. The $trapz$ integration function for numerical trapezoidal integration takes for arguments $y$ and $x$. In our case we'll take $psi$ for the $i$th level from the right boundary to the end (psi[i][rgtlimit:]) and square it, normalize it, and integrate. "
      ]
    },
    {
      "cell_type": "code",
      "metadata": {
        "colab": {
          "base_uri": "https://localhost:8080/"
        },
        "id": "jE5lvUuLgk4a",
        "outputId": "35d4e5e3-8ee1-4dc7-b547-96679e14dde1"
      },
      "source": [
        "outob=[np.trapz((psi_norm[i][rgtlimit:])**2,x[rgtlimit:])*2 for i in range(0,nl)] #integrate from the right edge of the box to 'infinity' and multipy by 2 to account for both sides\r\n",
        "for i in range(1,nl+1):\r\n",
        "      print(\"n={}, E[{}] = {:9.4f},         Probability to be outside box={:9.3f}\".format(i,i,E[i-1],outob[i-1]))"
      ],
      "execution_count": 24,
      "outputs": [
        {
          "output_type": "stream",
          "text": [
            "n=1, E[1] =    0.8237,         Probability to be outside box=    0.002\n",
            "n=2, E[2] =    3.2884,         Probability to be outside box=    0.007\n",
            "n=3, E[3] =    7.3732,         Probability to be outside box=    0.017\n",
            "n=4, E[4] =   13.0364,         Probability to be outside box=    0.033\n",
            "n=5, E[5] =   20.1974,         Probability to be outside box=    0.059\n",
            "n=6, E[6] =   28.6799,         Probability to be outside box=    0.107\n",
            "n=7, E[7] =   37.8823,         Probability to be outside box=    0.259\n"
          ],
          "name": "stdout"
        }
      ]
    },
    {
      "cell_type": "markdown",
      "metadata": {
        "id": "_oXianwGlFY-"
      },
      "source": [
        ""
      ]
    }
  ]
}
