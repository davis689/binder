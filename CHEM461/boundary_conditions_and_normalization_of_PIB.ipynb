{
  "nbformat": 4,
  "nbformat_minor": 0,
  "metadata": {
    "colab": {
      "name": "boundary conditions and normalization of PIB.ipynb",
      "provenance": [],
      "authorship_tag": "ABX9TyPyKSZTdW9tXOUo5ZF08SMA",
      "include_colab_link": true
    },
    "kernelspec": {
      "name": "python3",
      "display_name": "Python 3"
    }
  },
  "cells": [
    {
      "cell_type": "markdown",
      "metadata": {
        "id": "view-in-github",
        "colab_type": "text"
      },
      "source": [
        "<a href=\"https://colab.research.google.com/github/davis689/binder/blob/master/CHEM461/boundary_conditions_and_normalization_of_PIB.ipynb\" target=\"_parent\"><img src=\"https://colab.research.google.com/assets/colab-badge.svg\" alt=\"Open In Colab\"/></a>"
      ]
    },
    {
      "cell_type": "markdown",
      "metadata": {
        "id": "ZsmZHPNMVN7V"
      },
      "source": [
        "# Particle-in-a-box\n",
        "## Symbolic manipulation of the wavefunction\n",
        "Here we will practice using Jupyter notebooks and Python to symbolically manipulate equations. The package that allows this functionality is called SymPy.\n",
        "### Applying the boundary and normalization conditions\n",
        "For the particle in a box that is contrained to be between  x =0 and  x = L , assume that we have found an initial wavefunction,\n",
        "ψ=Asin(nπx/L)+Bcos(nπx/L)\n",
        "This solution is generic in that  A,B , and  k  are arbitrary. We first apply the boundary conditions to begin determining their values that apply to our specific solution. Let's first set up the problem. Since we'll be solving this symbolically, set up the symbols we want to use in the wavefunction. Some of them are going to be positive so if we specify that, it may be easier to solve in some cases. Then we'll set up wavefunction expression using sp.Eq(). Inside the parentheses we put the two sides of the equation separated by a comma. Then display the results."
      ]
    },
    {
      "cell_type": "code",
      "metadata": {
        "id": "RDTxR1NsVGAE"
      },
      "source": [
        "# import and initialize libraries\n",
        "import matplotlib.pyplot as plt # for plotting if we want to do it.\n",
        "\n",
        "import sympy as sp # deal with symbolic calculations\n",
        "from sympy import oo, E, I # specifically import infinity, exponential, and complex numbers so we don't have to do sp.oo and sp.E and sp.I\n",
        "\n",
        "sp.init_printing() # make equations look nice"
      ],
      "execution_count": 1,
      "outputs": []
    },
    {
      "cell_type": "code",
      "metadata": {
        "id": "gO0ELbhu6xSZ"
      },
      "source": [
        "x=sp.var('x', real=True) # x is the variable and it's real.\n",
        "A, k  = sp.symbols('A k',positive=True,nonzero=True) # assume that A, k and L are positive\n",
        "L=sp.symbols('L',real=True,nonzero=True,positive=True) # The length of the box is real, positive, and nonzero\n",
        "psi,B=sp.symbols('\\\\psi,B') # no assumption about these\n",
        "n=sp.symbols('n',positive=True,integer=True,nonzero=True) # the quantum number is positive and an integer and nonzero\n",
        "\n",
        "# not all the assumptions (real, positive, nonzero, etc.) are necessary here. x,A,k,L,psi,B,n='sp.symbols('x A k L psi B n') may work almost the same.\n",
        "# They do help Sympy to know how to simplify expressions. So where you know what to expect from a constant, it's useful to classify them this way."
      ],
      "execution_count": 2,
      "outputs": []
    },
    {
      "cell_type": "code",
      "metadata": {
        "id": "hlDUKj6G4mNe",
        "outputId": "78d80a38-ad1d-456f-cc22-c5f34f7fad87",
        "colab": {
          "base_uri": "https://localhost:8080/",
          "height": 38
        }
      },
      "source": [
        "solution_ABk=sp.Eq(psi,A*sp.sin(k*x)+B*sp.cos(k*x)) #The name is meant to indicate that the solution includes A, B, and k constants\n",
        "solution_ABk"
      ],
      "execution_count": 3,
      "outputs": [
        {
          "output_type": "execute_result",
          "data": {
            "text/plain": [
              "\\psi = A⋅sin(k⋅x) + B⋅cos(k⋅x)"
            ],
            "text/latex": "$\\displaystyle \\psi = A \\sin{\\left(k x \\right)} + B \\cos{\\left(k x \\right)}$"
          },
          "metadata": {},
          "execution_count": 3
        }
      ]
    },
    {
      "cell_type": "markdown",
      "metadata": {
        "id": "lc4gXjb3qst8"
      },
      "source": [
        "If we need to access one side or the other we can do that with ```.rhs``` or ```.lhs``` for right-hand-side and left-hand-side."
      ]
    },
    {
      "cell_type": "code",
      "metadata": {
        "id": "VXJduBgfq1nn",
        "outputId": "d7c4aae7-4956-4820-f87f-7eb677115258",
        "colab": {
          "base_uri": "https://localhost:8080/",
          "height": 38
        }
      },
      "source": [
        "solution_ABk.lhs"
      ],
      "execution_count": 4,
      "outputs": [
        {
          "output_type": "execute_result",
          "data": {
            "text/plain": [
              "\\psi"
            ],
            "text/latex": "$\\displaystyle \\psi$"
          },
          "metadata": {},
          "execution_count": 4
        }
      ]
    },
    {
      "cell_type": "code",
      "metadata": {
        "id": "e6TZEPlYq4EN",
        "outputId": "0f3fe1d4-4108-4066-88f5-6fb72da380b8",
        "colab": {
          "base_uri": "https://localhost:8080/",
          "height": 38
        }
      },
      "source": [
        "solution_ABk.rhs"
      ],
      "execution_count": 5,
      "outputs": [
        {
          "output_type": "execute_result",
          "data": {
            "text/plain": [
              "A⋅sin(k⋅x) + B⋅cos(k⋅x)"
            ],
            "text/latex": "$\\displaystyle A \\sin{\\left(k x \\right)} + B \\cos{\\left(k x \\right)}$"
          },
          "metadata": {},
          "execution_count": 5
        }
      ]
    },
    {
      "cell_type": "markdown",
      "metadata": {
        "id": "CqnKvYOUEQWk"
      },
      "source": [
        "## First boundary condition: $\\psi=0$ at $x=0$.\n",
        "We apply the first boundary condition. Since the wavefunction outside the box is zero, the wavefunction inside the box must go to zero at the boundaries. First we apply the boundary condition at $x=0$. To substitute $x=0$ into our equation (without actually changing it's stored form), use ```sp.subs()```."
      ]
    },
    {
      "cell_type": "code",
      "metadata": {
        "id": "aetKUU8x7PE5",
        "outputId": "ef7197b0-4489-47a4-83b9-6a47dadf46e3",
        "colab": {
          "base_uri": "https://localhost:8080/",
          "height": 38
        }
      },
      "source": [
        "solution_ABk.subs(x,0).subs(psi,0) # for multiple subsitutions there is an alternative form of .subs.\n",
        "# solutions.subs({x:0,psi:0}) would do the same thing with only one .subs."
      ],
      "execution_count": 6,
      "outputs": [
        {
          "output_type": "execute_result",
          "data": {
            "text/plain": [
              "0 = B"
            ],
            "text/latex": "$\\displaystyle 0 = B$"
          },
          "metadata": {},
          "execution_count": 6
        }
      ]
    },
    {
      "cell_type": "markdown",
      "metadata": {
        "id": "4tgDmasyNLzE"
      },
      "source": [
        "We'll update our solution to reflect this."
      ]
    },
    {
      "cell_type": "code",
      "metadata": {
        "id": "9ZHB7ImO87bV",
        "outputId": "f47caccb-b136-4a2f-f9ac-9bc680529983",
        "colab": {
          "base_uri": "https://localhost:8080/",
          "height": 38
        }
      },
      "source": [
        "solution_Ak=solution_ABk.subs(B,0) # solution with B=0 substituted. The new name doesn't include B.\n",
        "solution_Ak"
      ],
      "execution_count": 7,
      "outputs": [
        {
          "output_type": "execute_result",
          "data": {
            "text/plain": [
              "\\psi = A⋅sin(k⋅x)"
            ],
            "text/latex": "$\\displaystyle \\psi = A \\sin{\\left(k x \\right)}$"
          },
          "metadata": {},
          "execution_count": 7
        }
      ]
    },
    {
      "cell_type": "markdown",
      "metadata": {
        "id": "Ldezb8xxFmD3"
      },
      "source": [
        "# Second boundary condition: $\\psi=0$ at $x=L$\n",
        "This solution is more specific now that we have solved for $B$ but it still has two constants to be determined. To solve for another one, substitute $x=L$ and solve for $A$. The ```sp.solve()``` routine needs two inputs. The first is the equation solved so that one side is zero. The second is the variable that you want to solve for. The solve routine returns a list of solutions. Since we want the only solution, we can append [0] to get the first (and only) solution itself instead of a one element list."
      ]
    },
    {
      "cell_type": "code",
      "metadata": {
        "id": "qbK7thc38AxI",
        "outputId": "8e3a99a2-ca1b-4693-8a54-48584f598be6",
        "colab": {
          "base_uri": "https://localhost:8080/",
          "height": 47
        }
      },
      "source": [
        "sp.solve(solution_Ak.subs([(x,L),(psi,0)]),k)[0] #solve for k if psi=0 and x=L"
      ],
      "execution_count": 8,
      "outputs": [
        {
          "output_type": "execute_result",
          "data": {
            "text/plain": [
              "π\n",
              "─\n",
              "L"
            ],
            "text/latex": "$\\displaystyle \\frac{\\pi}{L}$"
          },
          "metadata": {},
          "execution_count": 8
        }
      ]
    },
    {
      "cell_type": "markdown",
      "metadata": {
        "id": "up8s4Mj9OTFg"
      },
      "source": [
        "Now the program has given us one solution but really any integer multiplied by this is also a solution. So we'll substitute $n\\pi/L$ for $k$ instead. Here we update our wavefunction with the value of $k$."
      ]
    },
    {
      "cell_type": "code",
      "metadata": {
        "id": "gZ2GwEZCOicr",
        "outputId": "716003c7-dfff-47ab-b9b3-851c131458ac",
        "colab": {
          "base_uri": "https://localhost:8080/",
          "height": 48
        }
      },
      "source": [
        "solution_A=solution_Ak.subs(k,n*sp.pi/L) #solution with k substituted and a new name not including k\n",
        "solution_A"
      ],
      "execution_count": 9,
      "outputs": [
        {
          "output_type": "execute_result",
          "data": {
            "text/plain": [
              "            ⎛π⋅n⋅x⎞\n",
              "\\psi = A⋅sin⎜─────⎟\n",
              "            ⎝  L  ⎠"
            ],
            "text/latex": "$\\displaystyle \\psi = A \\sin{\\left(\\frac{\\pi n x}{L} \\right)}$"
          },
          "metadata": {},
          "execution_count": 9
        }
      ]
    },
    {
      "cell_type": "markdown",
      "metadata": {
        "id": "5cU7ZyS5O2Le"
      },
      "source": [
        "## Normalization\n",
        "Now we need to solve for $A$. We are out of boundary conditions to apply. Here we rely on the normalization condition. The integral of $|\\psi|^2$ must be equal to 1 if integrated over the whole of space. Here that is from 0 to $L$."
      ]
    },
    {
      "cell_type": "code",
      "metadata": {
        "id": "1mNZxWRM9xWA",
        "outputId": "d9d1a54c-86bf-4a18-9fce-30f18dba0906",
        "colab": {
          "base_uri": "https://localhost:8080/",
          "height": 54
        }
      },
      "source": [
        "sp.integrate((solution_A.rhs**2),(x,0,L)) #integrate the square of the wavefunction\n"
      ],
      "execution_count": 10,
      "outputs": [
        {
          "output_type": "execute_result",
          "data": {
            "text/plain": [
              " 2  \n",
              "A ⋅L\n",
              "────\n",
              " 2  "
            ],
            "text/latex": "$\\displaystyle \\frac{A^{2} L}{2}$"
          },
          "metadata": {},
          "execution_count": 10
        }
      ]
    },
    {
      "cell_type": "markdown",
      "metadata": {
        "id": "fk4e_0Xu8qZ1"
      },
      "source": [
        "### Complex Conjugates\n",
        "In our normalization above, we elided over something that we correct here. The probability is not really the square of the wavefunction, it is the product of the complex conjugate of our wavefunction with the wavefunction itself. Here in our case there is no difference because our wavefunction is real. But in general we need to be careful just using the square of the wavefunction.\n",
        "\n",
        "Fortunately, sympy (sp), has the ability to take the complex conjugate. ```sp.conjugate()``` will show us the complex conjugate of the right-hand-side of the wavefunction. Is it the same as the wavefunction?"
      ]
    },
    {
      "cell_type": "code",
      "metadata": {
        "id": "oJBJbTSV9Z0d",
        "outputId": "93ca21c0-9d89-4919-858b-8573ebc9c7c6",
        "colab": {
          "base_uri": "https://localhost:8080/",
          "height": 48
        }
      },
      "source": [
        "sp.conjugate(solution_A.rhs)"
      ],
      "execution_count": 11,
      "outputs": [
        {
          "output_type": "execute_result",
          "data": {
            "text/plain": [
              "     ⎛π⋅n⋅x⎞\n",
              "A⋅sin⎜─────⎟\n",
              "     ⎝  L  ⎠"
            ],
            "text/latex": "$\\displaystyle A \\sin{\\left(\\frac{\\pi n x}{L} \\right)}$"
          },
          "metadata": {},
          "execution_count": 11
        }
      ]
    },
    {
      "cell_type": "markdown",
      "metadata": {
        "id": "IpXzW6bi4PMq"
      },
      "source": [
        "Assume, for a moment, our wavefunction were $e^{ikx}$. Show the complex conjugate of this wavefunction."
      ]
    },
    {
      "cell_type": "code",
      "metadata": {
        "id": "xC3MVYXK4ciz",
        "outputId": "85a367ac-31fa-4266-c8de-e5d1089457b6",
        "colab": {
          "base_uri": "https://localhost:8080/",
          "height": 39
        }
      },
      "source": [
        "psi1=E**(I*k*x)\n"
      ],
      "execution_count": 14,
      "outputs": [
        {
          "output_type": "execute_result",
          "data": {
            "text/plain": [
              " -ⅈ⋅k⋅x\n",
              "ℯ      "
            ],
            "text/latex": "$\\displaystyle e^{- i k x}$"
          },
          "metadata": {},
          "execution_count": 14
        }
      ]
    },
    {
      "cell_type": "markdown",
      "metadata": {
        "id": "lcuw20pyPyoM"
      },
      "source": [
        "### Back to Normalization\n",
        "We can use the complex conjugate in determining our normalization constant. Integrate of the righthand-side of our solution between 0 and $L$. This gives a result that should be 1 but only will be with the correct value of $A$.\n",
        "\n"
      ]
    },
    {
      "cell_type": "code",
      "metadata": {
        "id": "AjG08Gxe-bV1",
        "outputId": "b7d32ebe-1c14-4674-8934-6dcadf51c5c7",
        "colab": {
          "base_uri": "https://localhost:8080/",
          "height": 54
        }
      },
      "source": [
        "sp.integrate((sp.conjugate(solution_A.rhs))*(solution_A.rhs),(x,0,L))"
      ],
      "execution_count": 15,
      "outputs": [
        {
          "output_type": "execute_result",
          "data": {
            "text/plain": [
              " 2  \n",
              "A ⋅L\n",
              "────\n",
              " 2  "
            ],
            "text/latex": "$\\displaystyle \\frac{A^{2} L}{2}$"
          },
          "metadata": {},
          "execution_count": 15
        }
      ]
    },
    {
      "cell_type": "markdown",
      "metadata": {
        "id": "KTp7kJRK-wwn"
      },
      "source": [
        "You may be able to figure out the correct value of $A$ to make the above expression equal to 1 but we can code it too. What we need is to set up an equation setting the integral equal to 1. ```sp.Eq(left side of equation,right side of equation)``` is the form that we need. Then we solve that equation for A and choose the first ([0]) solution."
      ]
    },
    {
      "cell_type": "code",
      "metadata": {
        "id": "J0_L0eVw_CXy",
        "outputId": "a7876c53-55b5-475d-c246-bfda35bc05ea",
        "colab": {
          "base_uri": "https://localhost:8080/",
          "height": 60
        }
      },
      "source": [
        "normEq=sp.Eq(sp.integrate((sp.conjugate(solution_A.rhs))*(solution_A.rhs),(x,0,L)),1)\n",
        "normconst=sp.solve(normEq,A)[0]\n",
        "normconst"
      ],
      "execution_count": 16,
      "outputs": [
        {
          "output_type": "execute_result",
          "data": {
            "text/plain": [
              "√2\n",
              "──\n",
              "√L"
            ],
            "text/latex": "$\\displaystyle \\frac{\\sqrt{2}}{\\sqrt{L}}$"
          },
          "metadata": {},
          "execution_count": 16
        }
      ]
    },
    {
      "cell_type": "markdown",
      "metadata": {
        "id": "jY9x4lO2QxdF"
      },
      "source": [
        "So we can now present our final form of the specific solution to the Schrodinger equation that satisifies the boundary conditions of the particle-in-a-box between 0 and $L$ and the normalization condition."
      ]
    },
    {
      "cell_type": "code",
      "metadata": {
        "id": "XlUpP041RBBg",
        "outputId": "1463cc33-9f47-482c-8ef1-6fa81a111b6a",
        "colab": {
          "base_uri": "https://localhost:8080/",
          "height": 61
        }
      },
      "source": [
        "solution=solution_A.subs(A,normconst)\n",
        "solution"
      ],
      "execution_count": 17,
      "outputs": [
        {
          "output_type": "execute_result",
          "data": {
            "text/plain": [
              "             ⎛π⋅n⋅x⎞\n",
              "       √2⋅sin⎜─────⎟\n",
              "             ⎝  L  ⎠\n",
              "\\psi = ─────────────\n",
              "             √L     "
            ],
            "text/latex": "$\\displaystyle \\psi = \\frac{\\sqrt{2} \\sin{\\left(\\frac{\\pi n x}{L} \\right)}}{\\sqrt{L}}$"
          },
          "metadata": {},
          "execution_count": 17
        }
      ]
    },
    {
      "cell_type": "markdown",
      "metadata": {
        "id": "FHypQwFp7WVb"
      },
      "source": [
        "Note that we've been changing the name of our solution at each step. That helps avoid confusion if you end up going back to change things and forget that the solution has been redefined somewhere below and it also makes it possible to recall all of the different versions. ```display()``` is a fancier version of ```print()```."
      ]
    },
    {
      "cell_type": "code",
      "metadata": {
        "id": "e4hVbn4h7nDx",
        "outputId": "5e3c5698-5ce1-4407-ee27-a2bad7537816",
        "colab": {
          "base_uri": "https://localhost:8080/",
          "height": 204
        }
      },
      "source": [
        "print('Original generic solution to the SE:')\n",
        "display(solution_ABk)\n",
        "print('After application of the first boundary condition:')\n",
        "display(solution_Ak)\n",
        "print('After application of the second boundary condition:')\n",
        "\n",
        "display(solution_A)\n",
        "print('After application of the normalization condition:')\n",
        "display(solution)"
      ],
      "execution_count": 18,
      "outputs": [
        {
          "output_type": "stream",
          "name": "stdout",
          "text": [
            "Original generic solution to the SE:\n"
          ]
        },
        {
          "output_type": "display_data",
          "data": {
            "text/plain": [
              "\\psi = A⋅sin(k⋅x) + B⋅cos(k⋅x)"
            ],
            "text/latex": "$\\displaystyle \\psi = A \\sin{\\left(k x \\right)} + B \\cos{\\left(k x \\right)}$"
          },
          "metadata": {}
        },
        {
          "output_type": "stream",
          "name": "stdout",
          "text": [
            "After application of the first boundary condition:\n"
          ]
        },
        {
          "output_type": "display_data",
          "data": {
            "text/plain": [
              "\\psi = A⋅sin(k⋅x)"
            ],
            "text/latex": "$\\displaystyle \\psi = A \\sin{\\left(k x \\right)}$"
          },
          "metadata": {}
        },
        {
          "output_type": "stream",
          "name": "stdout",
          "text": [
            "After application of the second boundary condition:\n"
          ]
        },
        {
          "output_type": "display_data",
          "data": {
            "text/plain": [
              "            ⎛π⋅n⋅x⎞\n",
              "\\psi = A⋅sin⎜─────⎟\n",
              "            ⎝  L  ⎠"
            ],
            "text/latex": "$\\displaystyle \\psi = A \\sin{\\left(\\frac{\\pi n x}{L} \\right)}$"
          },
          "metadata": {}
        },
        {
          "output_type": "stream",
          "name": "stdout",
          "text": [
            "After application of the normalization condition:\n"
          ]
        },
        {
          "output_type": "display_data",
          "data": {
            "text/plain": [
              "             ⎛π⋅n⋅x⎞\n",
              "       √2⋅sin⎜─────⎟\n",
              "             ⎝  L  ⎠\n",
              "\\psi = ─────────────\n",
              "             √L     "
            ],
            "text/latex": "$\\displaystyle \\psi = \\frac{\\sqrt{2} \\sin{\\left(\\frac{\\pi n x}{L} \\right)}}{\\sqrt{L}}$"
          },
          "metadata": {}
        }
      ]
    },
    {
      "cell_type": "markdown",
      "metadata": {
        "id": "35DXlihp47Z_"
      },
      "source": [
        "## Orthonormality\n",
        "Now let's check the orthonormality of our particle-in-a-box wavefunction. This requires the evaluation of $$\\int \\psi_i^*\\psi_j d\\tau$$ If $i=j$ the result should be one (probability is one or perfect overlap of the two wavefunction expressions) and if $i\\neq j$ the result should be zero (the two eigenfunctions are 'perpendicular' to each other so don't overlap at all).\n",
        "\n",
        "Here we'll create two variables, $i$ and $j$, for the quantum numbers of the two eigenfunctions. Adjust these values and evaluate the integral to see how it changes."
      ]
    },
    {
      "cell_type": "code",
      "metadata": {
        "id": "7nieH2GurfIM",
        "outputId": "bc1606e0-f76f-4090-e1e7-27bd40cac5a2",
        "colab": {
          "base_uri": "https://localhost:8080/",
          "height": 37
        }
      },
      "source": [
        "i=1\n",
        "j=1\n",
        "sp.integrate(sp.conjugate(solution.rhs.subs(n,i))*solution.rhs.subs(n,j),(x,0,L))"
      ],
      "execution_count": 19,
      "outputs": [
        {
          "output_type": "execute_result",
          "data": {
            "text/plain": [
              "1"
            ],
            "text/latex": "$\\displaystyle 1$"
          },
          "metadata": {},
          "execution_count": 19
        }
      ]
    },
    {
      "cell_type": "markdown",
      "metadata": {
        "id": "yA1-aVQQ6fNE"
      },
      "source": [
        "We could, of course, check all values of quantum numbers in some range systematically. Here we check all combinations of values of $i$ and $j$ between 1 and 5 (remember ```range(1,6)``` makes a list of integers from 1 up to but not including 6)."
      ]
    },
    {
      "cell_type": "code",
      "metadata": {
        "colab": {
          "base_uri": "https://localhost:8080/"
        },
        "id": "z8uZJTrk3NdS",
        "outputId": "d3cb45f5-e180-4040-f26b-f4cb0f5055d0"
      },
      "source": [
        "print('i j integral')\n",
        "for i in range(1,6):\n",
        "  for j in range(1,6):\n",
        "    integ=sp.integrate(sp.conjugate(solution.rhs.subs(n,i))*solution.rhs.subs(n,j),(x,0,L))\n",
        "    print(i,j,integ)"
      ],
      "execution_count": 20,
      "outputs": [
        {
          "output_type": "stream",
          "name": "stdout",
          "text": [
            "i j integral\n",
            "1 1 1\n",
            "1 2 0\n",
            "1 3 0\n",
            "1 4 0\n",
            "1 5 0\n",
            "2 1 0\n",
            "2 2 1\n",
            "2 3 0\n",
            "2 4 0\n",
            "2 5 0\n",
            "3 1 0\n",
            "3 2 0\n",
            "3 3 1\n",
            "3 4 0\n",
            "3 5 0\n",
            "4 1 0\n",
            "4 2 0\n",
            "4 3 0\n",
            "4 4 1\n",
            "4 5 0\n",
            "5 1 0\n",
            "5 2 0\n",
            "5 3 0\n",
            "5 4 0\n",
            "5 5 1\n"
          ]
        }
      ]
    },
    {
      "cell_type": "markdown",
      "source": [
        "#Do it for yourself\n",
        "Now you can try this for a different form of the solution of the particle in a box problem. Let's use $\\psi=A e^{-ikx}+ B e^{ikx}$. First, satisfy yourself that this is a solution to the Schrödinger equation. Then use the techniques above to determine the value of A, B, and k. Finally show that the solutions are orthonormal."
      ],
      "metadata": {
        "id": "IfBN1sBERx8J"
      }
    },
    {
      "cell_type": "code",
      "source": [],
      "metadata": {
        "id": "IDw2BRmeWO0x"
      },
      "execution_count": null,
      "outputs": []
    }
  ]
}