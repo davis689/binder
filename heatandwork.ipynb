{
  "nbformat": 4,
  "nbformat_minor": 0,
  "metadata": {
    "kernelspec": {
      "name": "python3",
      "display_name": "Python 3",
      "language": "python"
    },
    "language_info": {
      "name": "python",
      "version": "3.7.8",
      "mimetype": "text/x-python",
      "codemirror_mode": {
        "name": "ipython",
        "version": 3
      },
      "pygments_lexer": "ipython3",
      "nbconvert_exporter": "python",
      "file_extension": ".py"
    },
    "deepnote_notebook_id": "3cd3f143-4705-4e7b-a31f-49aeb72b82a0",
    "deepnote_execution_queue": [],
    "colab": {
      "name": "heatandwork.ipynb",
      "provenance": []
    }
  },
  "cells": [
    {
      "cell_type": "markdown",
      "metadata": {
        "id": "wu-K1FF-otDs",
        "colab_type": "text"
      },
      "source": [
        "First we setup some system stuff to handle symbolic manipulations."
      ]
    },
    {
      "cell_type": "code",
      "metadata": {
        "tags": [],
        "cell_id": "6a580211-49e1-4b7e-9dea-76ad63915b83",
        "trusted": true,
        "id": "4nmgCGe7otDu",
        "colab_type": "code",
        "colab": {}
      },
      "source": [
        "pip install sympy # if sympy is already installed, this step can be commented out."
      ],
      "execution_count": 1,
      "outputs": []
    },
    {
      "cell_type": "code",
      "metadata": {
        "cell_id": "068ba6c2-e580-40b7-a20f-d069b0d744b2",
        "trusted": true,
        "id": "dvAVJRvdotDy",
        "colab_type": "code",
        "colab": {}
      },
      "source": [
        "import sympy as sp\n",
        "sp.init_printing()"
      ],
      "execution_count": 2,
      "outputs": []
    },
    {
      "cell_type": "markdown",
      "metadata": {
        "id": "WZ788v_potD1",
        "colab_type": "text"
      },
      "source": [
        "## The problem\n",
        "An ideal gas is compressed from 1 bar to 2 bar and warms up from 298 K to 373 K. Calculate the heat and work involved in the change. Since heat and work are not state functions, we have to define more precisely how we are changing things. First we will calculate for a scenario in which the pressure is changed from 1 to 2 bar isothermally and then the temperature is changed to 373 K isobarically. "
      ]
    },
    {
      "cell_type": "markdown",
      "metadata": {
        "tags": [],
        "cell_id": "cfafc3d6-7e86-4991-90f6-376b1315643c",
        "id": "YKFZWs_BotD2",
        "colab_type": "text"
      },
      "source": [
        "First we will define some variables and constants. These can be defined all together but it will sometimes be convenient to specify these as fully as possible so that the system knows how to treat them and here we'll keep the constants separate from the variables."
      ]
    },
    {
      "cell_type": "code",
      "metadata": {
        "tags": [],
        "cell_id": "86bc36ec-f612-40cd-aca9-e1194fcca61f",
        "trusted": true,
        "id": "YMFkmseGotD2",
        "colab_type": "code",
        "colab": {}
      },
      "source": [
        "p,V,T=sp.symbols(\"p,V,T\",real=True,positive=True) \n",
        "R,Cv,Cp=sp.symbols(\"R,Cv,Cp\",real=True,positive=True,constant=True) \n",
        "ps,Ts,Vs=[],[],[] # define some variables to contain the list of beginning, intermediate, and ending pressures (p's), temperatures (T's), and volumes (V's)\n",
        "Rs=[0.08314,8.314] # Define two R values. R[0] will be in Lbar/molK and R[1] will be in J/molK. We need to remember to use the appropriate one."
      ],
      "execution_count": 3,
      "outputs": []
    },
    {
      "cell_type": "markdown",
      "metadata": {
        "id": "aGmScZX2otEA",
        "colab_type": "text"
      },
      "source": [
        "Next we'll define the temperatures and pressures at the beginning and end of the two steps involved in our process."
      ]
    },
    {
      "cell_type": "code",
      "metadata": {
        "trusted": true,
        "id": "0rF7RXkZotEB",
        "colab_type": "code",
        "colab": {}
      },
      "source": [
        "Ts=[298,298,373] # set up the temperatures for the beginning, intermediate, and ending points.\n",
        "ps=[1,2,2] # set up the pressures for the beginning, intermediate, and ending points."
      ],
      "execution_count": 4,
      "outputs": []
    },
    {
      "cell_type": "markdown",
      "metadata": {
        "id": "bUzzGXfbotEE",
        "colab_type": "text"
      },
      "source": [
        "Now we can setup the equation of state. This is not strictly necessary since we could always manually manipulate the equation (especially the ideal gas equation) and input the form we want into the expression we need to calculate, but this will give us flexibility to change the equation without changing any of the following code if we so desire."
      ]
    },
    {
      "cell_type": "code",
      "metadata": {
        "trusted": true,
        "id": "vTK2t4dootEF",
        "colab_type": "code",
        "colab": {}
      },
      "source": [
        "ig=sp.Eq(p*V,R*T) #ideal gas equation. "
      ],
      "execution_count": 5,
      "outputs": []
    },
    {
      "cell_type": "markdown",
      "metadata": {
        "id": "UpyYcKDnotEI",
        "colab_type": "text"
      },
      "source": [
        "Now we'll use the equation to solve for the volumes at the various points using the temperatures and pressures we declared above. We first solve the equation, ig, for V and then substitute into it the values for p, T, and R."
      ]
    },
    {
      "cell_type": "code",
      "metadata": {
        "trusted": true,
        "id": "U2ouXEWyotEJ",
        "colab_type": "code",
        "colab": {}
      },
      "source": [
        "Vs=[sp.solve(ig,V)[0].subs(p,ps[i]).subs(T,Ts[i]).subs(R,Rs[0]) for i in range(len(ps))] # range(len(ps)) will make a list starting from 0 with as many members as are in ps\n"
      ],
      "execution_count": 6,
      "outputs": []
    },
    {
      "cell_type": "markdown",
      "metadata": {
        "id": "F0uB2TFRotEP",
        "colab_type": "text"
      },
      "source": [
        "Now to check that the solving and substitution (and unit manipulation) went as expected, we print the results. "
      ]
    },
    {
      "cell_type": "code",
      "metadata": {
        "trusted": true,
        "id": "ki_NeKHRotEQ",
        "colab_type": "code",
        "colab": {
          "base_uri": "https://localhost:8080/",
          "height": 34
        },
        "outputId": "405c78b5-03e1-4ab8-f0c1-88c11bb650fb"
      },
      "source": [
        "print([Vs[i].round(2) for i in range(len(Vs))]) #print the three volumes to make sure they make sense"
      ],
      "execution_count": 7,
      "outputs": [
        {
          "output_type": "stream",
          "text": [
            "[24.78, 12.39, 15.51]\n"
          ],
          "name": "stdout"
        }
      ]
    },
    {
      "cell_type": "markdown",
      "metadata": {
        "tags": [],
        "cell_id": "2152af65-2ffe-4883-acec-f08714b3eb3e",
        "id": "BboRagY2otET",
        "colab_type": "text"
      },
      "source": [
        "## 1 - in terms of dT and dp\n",
        "Let's calculate the heat using $$dq=C_p dT + l_p dp$$ The first step is isothermal so we only need to calculate using the pressure term. $$l_p=-T\\left(\\dfrac{\\partial V}{\\partial T}\\right)$$"
      ]
    },
    {
      "cell_type": "code",
      "metadata": {
        "tags": [],
        "cell_id": "1314ab7d-415a-4679-913a-7bb4a6695979",
        "trusted": true,
        "id": "a9pAoCwDotEU",
        "colab_type": "code",
        "colab": {}
      },
      "source": [
        "lp=-T*sp.diff(sp.solve(ig,V)[0],T) # find lp.\n",
        "q=sp.integrate(lp,(p,ps[0],ps[1])) # calculate the heat by integrating wrt pressure.\n",
        "q1=q.subs(R,Rs[1]).subs(T,Ts[0]).evalf() # substitute R and T, evaluate, and save as q1.\n"
      ],
      "execution_count": 8,
      "outputs": []
    },
    {
      "cell_type": "code",
      "metadata": {
        "trusted": true,
        "id": "SuStjoK0otEX",
        "colab_type": "code",
        "colab": {
          "base_uri": "https://localhost:8080/",
          "height": 34
        },
        "outputId": "aa840dcc-e33b-448f-dd3b-0be2095e5d5c"
      },
      "source": [
        "print(\"The heat in the isothermal step is \",q1.round(2),\" J/mol\")\n"
      ],
      "execution_count": 9,
      "outputs": [
        {
          "output_type": "stream",
          "text": [
            "The heat in the isothermal step is  -1717.32  J/mol\n"
          ],
          "name": "stdout"
        }
      ]
    },
    {
      "cell_type": "markdown",
      "metadata": {
        "tags": [],
        "cell_id": "97227299-ca6b-48ef-91fb-ac5016fbc67c",
        "id": "8GwiINpsotEa",
        "colab_type": "text"
      },
      "source": [
        "The second step is isobaric so we can just use the $C_pdT$ part."
      ]
    },
    {
      "cell_type": "code",
      "metadata": {
        "tags": [],
        "cell_id": "b73ed41f-4c88-4e17-bc45-527bc3c92809",
        "trusted": true,
        "id": "I2nSY15cotEd",
        "colab_type": "code",
        "colab": {}
      },
      "source": [
        "q=sp.integrate(Cp,(T,Ts[1],Ts[2])) # integrate Cp wrt to T.\n",
        "q2=q.subs(Cp,20.785) #substitute Cp value and save as q2.\n"
      ],
      "execution_count": 10,
      "outputs": []
    },
    {
      "cell_type": "code",
      "metadata": {
        "trusted": true,
        "id": "PL9K5w-uotEg",
        "colab_type": "code",
        "colab": {
          "base_uri": "https://localhost:8080/",
          "height": 34
        },
        "outputId": "d26c24e6-72de-4813-9637-130e120b141c"
      },
      "source": [
        "print(\"The heat in the isobaric step is \",q2.round(2), \" J/mol\")"
      ],
      "execution_count": 11,
      "outputs": [
        {
          "output_type": "stream",
          "text": [
            "The heat in the isobaric step is  1558.88  J/mol\n"
          ],
          "name": "stdout"
        }
      ]
    },
    {
      "cell_type": "code",
      "metadata": {
        "tags": [],
        "cell_id": "b686e517-41e5-49fa-8e5e-ba3b00457e0a",
        "trusted": true,
        "id": "hQZLztFSotEj",
        "colab_type": "code",
        "colab": {
          "base_uri": "https://localhost:8080/",
          "height": 34
        },
        "outputId": "5d646460-8c20-4564-c880-c12f215a76e6"
      },
      "source": [
        "q_tot1=q1+q2\n",
        "print(\"The total heat for the two steps is \",q_tot1.round(2), \" J/mol\")"
      ],
      "execution_count": 12,
      "outputs": [
        {
          "output_type": "stream",
          "text": [
            "The total heat for the two steps is  -158.45  J/mol\n"
          ],
          "name": "stdout"
        }
      ]
    },
    {
      "cell_type": "markdown",
      "metadata": {
        "tags": [],
        "cell_id": "6b0e0e11-555b-4ef1-b370-b441dd1bf783",
        "id": "Ui_uh0aEotEm",
        "colab_type": "text"
      },
      "source": [
        "## 2 - In terms of dT and dV\n",
        "Let's calculate the same change using a different heat equation. $$dq=C_VdT+l_vdV$$"
      ]
    },
    {
      "cell_type": "code",
      "metadata": {
        "tags": [],
        "cell_id": "a6dd6e68-47cc-443d-9c16-5a32e9ecb3ef",
        "trusted": true,
        "id": "74O6d3d-otEm",
        "colab_type": "code",
        "colab": {
          "base_uri": "https://localhost:8080/",
          "height": 34
        },
        "outputId": "7663fd1d-73de-4ed1-8774-96d71d43bfd5"
      },
      "source": [
        "lv=T*sp.diff(sp.solve(ig,p)[0],T)\n",
        "q=sp.integrate(lv,(V,Vs[0],Vs[1]))\n",
        "q1=q.subs(R,Rs[1]).subs(T,Ts[0]).evalf()\n",
        "\n",
        "print(\"The heat in the isothermal step is \",q1.round(2),\" J/mol\")\n"
      ],
      "execution_count": 13,
      "outputs": [
        {
          "output_type": "stream",
          "text": [
            "The heat in the isothermal step is  -1717.32  J/mol\n"
          ],
          "name": "stdout"
        }
      ]
    },
    {
      "cell_type": "markdown",
      "metadata": {
        "tags": [],
        "cell_id": "d0fc0560-a143-4df2-8ba3-4adba8e73fd2",
        "id": "aOJbuV1TotEp",
        "colab_type": "text"
      },
      "source": [
        "Because we didn't choose a natural equation to do the calculation, neither term is zero in the next step. We will have to do an integral for both terms."
      ]
    },
    {
      "cell_type": "code",
      "metadata": {
        "tags": [],
        "cell_id": "95a2bb92-88d8-41f4-ba4b-befaf0552c6c",
        "trusted": true,
        "id": "pd4qLWiQotEt",
        "colab_type": "code",
        "colab": {
          "base_uri": "https://localhost:8080/",
          "height": 34
        },
        "outputId": "540afe32-2e4a-4fc4-d721-d69f2e735cf8"
      },
      "source": [
        "q_a=sp.integrate(Cv,(T,Ts[1],Ts[2]))\n",
        "q_b=sp.integrate(p,(V,Vs[1],Vs[2]))*100 #100 changes pressure/volume energy to joules\n",
        "q2=q_a.subs(Cv,12.471)+q_b.subs(p,ps[2])\n",
        "\n",
        "print(\"The heat in the isobaric step is \",q2.round(2), \" J/mol\")"
      ],
      "execution_count": 14,
      "outputs": [
        {
          "output_type": "stream",
          "text": [
            "The heat in the isobaric step is  1558.88  J/mol\n"
          ],
          "name": "stdout"
        }
      ]
    },
    {
      "cell_type": "code",
      "metadata": {
        "tags": [],
        "cell_id": "dd723c5a-96b7-490e-a3c6-f67d68acdccc",
        "trusted": true,
        "id": "g4KhENeMotEz",
        "colab_type": "code",
        "colab": {
          "base_uri": "https://localhost:8080/",
          "height": 72
        },
        "outputId": "e097aa18-bd3f-4bc5-8500-3a82899634d1"
      },
      "source": [
        "q_tot2=q1+q2\n",
        "print(\"The total heat for the two steps is \",q_tot2.round(2), \" J/mol\")\n",
        "print(\"The total heat using this heat equation, \",q_tot2.round(2),\", should turn out to be identical to the heat using the other heat equation,\",q_tot1.round(2),\". If not, we've done something wrong.\")"
      ],
      "execution_count": 15,
      "outputs": [
        {
          "output_type": "stream",
          "text": [
            "The total heat for the two steps is  -158.45  J/mol\n",
            "The total heat using this heat equation,  -158.45 , should turn out to be identical to the heat using the other heat equation, -158.45 . If not, we've done something wrong.\n"
          ],
          "name": "stdout"
        }
      ]
    },
    {
      "cell_type": "markdown",
      "metadata": {
        "tags": [],
        "cell_id": "a287bcb1-fb26-4e9e-aaa7-61f558da934b",
        "id": "ZObjNZgBotE2",
        "colab_type": "text"
      },
      "source": [
        "## 3 - In terms of dp and dV\n",
        "One more time with the last heat equation...  $ dq=\\gamma_p dp + \\gamma_V dV$. This is requires a bit more work (at least in the first step) because both p and V are changing. But we should get the same result.\n"
      ]
    },
    {
      "cell_type": "code",
      "metadata": {
        "tags": [],
        "cell_id": "1fed0fa3-8188-418d-836c-3fdb7c07ff27",
        "trusted": true,
        "id": "dnUfZDC1otE2",
        "colab_type": "code",
        "colab": {
          "base_uri": "https://localhost:8080/",
          "height": 34
        },
        "outputId": "8906d3e9-2cb0-401d-f0f8-3c551e584401"
      },
      "source": [
        "gamv=Cp/sp.diff(sp.solve(ig,V)[0],T) # Don't worry about where these two lines come from for now. We'll figure out how to determine gamma later.\n",
        "gamp=Cv/sp.diff(sp.solve(ig,p)[0],T) \n",
        "\n",
        "q1a=sp.integrate(gamp.subs(V,sp.solve(ig,V)[0]),(p,ps[0],ps[1]))\n",
        "q1b=sp.integrate(gamv.subs(p,sp.solve(ig,p)[0]),(V,Vs[0],Vs[1])) #in order to get the right answer, we need to subsitute for p (or V) in terms of V (or p) before integrating.\n",
        "print(q1a+q1b)\n",
        "\n"
      ],
      "execution_count": 16,
      "outputs": [
        {
          "output_type": "stream",
          "text": [
            "-0.693147180559945*Cp*T + Cv*T*log(2)\n"
          ],
          "name": "stdout"
        }
      ]
    },
    {
      "cell_type": "code",
      "metadata": {
        "id": "HiRGaL49zuCQ",
        "colab_type": "code",
        "colab": {
          "base_uri": "https://localhost:8080/",
          "height": 34
        },
        "outputId": "995327c3-4f3d-4902-ff17-b01f49098a32"
      },
      "source": [
        "q1=(q1a+q1b).subs(Cv,12.471).subs(Cp,20.785).subs(T,Ts[0]).evalf()\n",
        "print(\"The heat in the isothermal step is \",q1.round(2),\" J/mol\")"
      ],
      "execution_count": 17,
      "outputs": [
        {
          "output_type": "stream",
          "text": [
            "The heat in the isothermal step is  -1717.32  J/mol\n"
          ],
          "name": "stdout"
        }
      ]
    },
    {
      "cell_type": "markdown",
      "metadata": {
        "tags": [],
        "cell_id": "80f9325d-b076-4779-8a0e-87fd5d39b10c",
        "id": "OC9Kr3xSotE6",
        "colab_type": "text"
      },
      "source": [
        "For the isobaric case, the $dp$ term is zero but the integral in terms of V has both T and p in it. Convert $dV$ to $dT$ before integrating\n",
        "$$dV=\\left(\\dfrac{\\partial V}{\\partial T}\\right)dT$$"
      ]
    },
    {
      "cell_type": "code",
      "metadata": {
        "tags": [],
        "cell_id": "a7b1d732-a947-4353-a602-d61f964693c5",
        "trusted": true,
        "id": "-DZItnUrotE7",
        "colab_type": "code",
        "colab": {
          "base_uri": "https://localhost:8080/",
          "height": 34
        },
        "outputId": "13bf6612-8523-4066-dd62-8a354afd97ac"
      },
      "source": [
        "q=sp.integrate(gamv*sp.diff(sp.solve(ig,V)[0],T),(T,Ts[1],Ts[2])) #integrate gamma_v*(dV/dT)dT\n",
        "q2=q.subs(p,sp.solve(ig,p)[0]).subs(Cp,20.785).evalf() #subsititute for p in terms of T (and V)\n",
        "print(\"The heat in the isothermal step is \",q2.round(2),\" J/mol\")\n"
      ],
      "execution_count": 18,
      "outputs": [
        {
          "output_type": "stream",
          "text": [
            "The heat in the isothermal step is  1558.88  J/mol\n"
          ],
          "name": "stdout"
        }
      ]
    },
    {
      "cell_type": "code",
      "metadata": {
        "tags": [],
        "cell_id": "2b33bb32-2b31-4658-bdcc-9783f62d1a04",
        "trusted": true,
        "id": "GtLJMofHotFA",
        "colab_type": "code",
        "colab": {
          "base_uri": "https://localhost:8080/",
          "height": 52
        },
        "outputId": "02073f24-291a-4ba2-9545-8b5f74008012"
      },
      "source": [
        "q_tot3=q1+q2\n",
        "print(\"The total heat for the two steps is \",q_tot3.round(2), \" J/mol\")\n",
        "print(\"The total heat \",q_tot3.round(2),\" should turn out to be identical to the heat using the other heat equations\",q_tot1.round(2))"
      ],
      "execution_count": 19,
      "outputs": [
        {
          "output_type": "stream",
          "text": [
            "The total heat for the two steps is  -158.45  J/mol\n",
            "The total heat  -158.45  should turn out to be identical to the heat using the other heat equations -158.45\n"
          ],
          "name": "stdout"
        }
      ]
    },
    {
      "cell_type": "markdown",
      "metadata": {
        "tags": [],
        "cell_id": "aa08053b-e5f7-4085-83cd-0609b88a63fe",
        "id": "w1ZGta3SotFC",
        "colab_type": "text"
      },
      "source": [
        "## Work too!"
      ]
    },
    {
      "cell_type": "code",
      "metadata": {
        "tags": [],
        "cell_id": "7c2f5a85-4f55-4079-be41-0c64c04b9a6b",
        "trusted": true,
        "id": "2isP0sNwotFD",
        "colab_type": "code",
        "colab": {
          "base_uri": "https://localhost:8080/",
          "height": 52
        },
        "outputId": "81fc812a-2c19-4cfb-b16f-0eba9d90c811"
      },
      "source": [
        "w1=-sp.integrate(sp.solve(ig,p)[0],(V,Vs[0],Vs[1])) #isothermal at 298 K\n",
        "print(w1)\n",
        "w2=-sp.integrate(p,(V,Vs[1],Vs[2]))*100 # isobaric at 2 bar.\n",
        "print(w2)"
      ],
      "execution_count": 26,
      "outputs": [
        {
          "output_type": "stream",
          "text": [
            "0.693147180559945*R*T\n",
            "-311.775*p\n"
          ],
          "name": "stdout"
        }
      ]
    },
    {
      "cell_type": "code",
      "metadata": {
        "id": "J5_o_jbm5XMc",
        "colab_type": "code",
        "colab": {
          "base_uri": "https://localhost:8080/",
          "height": 34
        },
        "outputId": "b296eeb7-ceef-4f81-f300-aba6f1626acc"
      },
      "source": [
        "w_tot1=(w1.subs(R,Rs[1]).subs(T,Ts[0])+w2.subs(p,ps[1]))\n",
        "print(w_tot1.round(2),\"J/mol\")"
      ],
      "execution_count": 31,
      "outputs": [
        {
          "output_type": "stream",
          "text": [
            "1093.77 J/mol\n"
          ],
          "name": "stdout"
        }
      ]
    },
    {
      "cell_type": "code",
      "metadata": {
        "id": "jyvoeeLuRExa",
        "colab_type": "code",
        "colab": {
          "base_uri": "https://localhost:8080/",
          "height": 34
        },
        "outputId": "f83f37ee-5a07-48b1-d5b5-b24e8a4cda12"
      },
      "source": [
        "DeltaU=w_tot1+q_tot3\n",
        "print(\"The change in internal energy (heat + work) is \",DeltaU.round(2),\"J/mol\")"
      ],
      "execution_count": 30,
      "outputs": [
        {
          "output_type": "stream",
          "text": [
            "The change in internal energy (heat + work) is  935.32 J/mol\n"
          ],
          "name": "stdout"
        }
      ]
    },
    {
      "cell_type": "markdown",
      "metadata": {
        "tags": [],
        "cell_id": "a608a96e-6aa2-4003-b042-85a4a729327b",
        "id": "hmb677vnotFF",
        "colab_type": "text"
      },
      "source": [
        "## Setup second problem\n",
        "Let's change the order of the steps. First isobaric followed by isothermal. \n",
        "Now we'll setup the temperatures, pressures and volumes."
      ]
    },
    {
      "cell_type": "code",
      "metadata": {
        "tags": [],
        "cell_id": "d4e07b91-1ef3-42e8-99c4-802b3955aee9",
        "trusted": true,
        "id": "MMrb5nDbotFG",
        "colab_type": "code",
        "colab": {}
      },
      "source": [
        "p,V,T=sp.symbols(\"p,V,T\",real=True,positive=True)\n",
        "R,Cv,Cp=sp.symbols(\"R,Cv,Cp\",real=True,constant=True)\n",
        "Ts=[298,373,373]\n",
        "ps=[1,1,2]\n",
        "Rs=[0.08314,8.314]\n",
        "ig=sp.Eq(p*V,R*T)\n",
        "\n",
        "Vs=[sp.solve(ig,V)[0].subs(p,ps[i]).subs(T,Ts[i]).subs(R,Rs[0]) for i in range(len(ps))]"
      ],
      "execution_count": 32,
      "outputs": []
    },
    {
      "cell_type": "markdown",
      "metadata": {
        "tags": [],
        "cell_id": "cf1e07b8-133d-4841-bb16-a4e3bd7f1265",
        "id": "n_rOv8MZotFI",
        "colab_type": "text"
      },
      "source": [
        "## 1 - in terms of dT and dp\n",
        "Let's calculate the heat using $$dq=C_p dT + l_p dp$$. The first step is isobaric so we only need to calculate using the pressure term. $$l_p=-T\\left(\\dfrac{\\partial V}{\\partial T}\\right)$$"
      ]
    },
    {
      "cell_type": "code",
      "metadata": {
        "tags": [],
        "cell_id": "d44109fe-d8b3-4a65-a6a3-8e9de2313d87",
        "trusted": true,
        "id": "OMXDYOffotFJ",
        "colab_type": "code",
        "colab": {
          "base_uri": "https://localhost:8080/",
          "height": 34
        },
        "outputId": "1119d411-91a2-4b96-95dd-fafb85cbaca4"
      },
      "source": [
        "q=sp.integrate(Cp,(T,Ts[0],Ts[1]))\n",
        "q1=q.subs(Cp,20.785)\n",
        "print(\"The heat in the isobaric step is \",q1.round(2), \" J/mol\")\n",
        "\n"
      ],
      "execution_count": 33,
      "outputs": [
        {
          "output_type": "stream",
          "text": [
            "The heat in the isobaric step is  1558.88  J/mol\n"
          ],
          "name": "stdout"
        }
      ]
    },
    {
      "cell_type": "markdown",
      "metadata": {
        "tags": [],
        "cell_id": "575c5761-0c7f-4b19-972c-542c15235d27",
        "id": "VjMuSufpotFP",
        "colab_type": "text"
      },
      "source": [
        "The second step is isothermal."
      ]
    },
    {
      "cell_type": "code",
      "metadata": {
        "tags": [],
        "cell_id": "edcca88a-f9ca-48b1-ae34-b6f2590c4c2b",
        "trusted": true,
        "id": "kZejuY7CotFP",
        "colab_type": "code",
        "colab": {
          "base_uri": "https://localhost:8080/",
          "height": 34
        },
        "outputId": "051a45e0-4bb9-4af8-dbc5-c4ce64e78d8e"
      },
      "source": [
        "lp=-T*sp.diff(sp.solve(ig,V)[0],T)\n",
        "q=sp.integrate(lp,(p,ps[1],ps[2]))\n",
        "q2=q.subs(R,Rs[1]).subs(T,Ts[2]).evalf()\n",
        "print(\"The heat in the isothermal step is \",q2.round(2),\" J/mol\")"
      ],
      "execution_count": 34,
      "outputs": [
        {
          "output_type": "stream",
          "text": [
            "The heat in the isothermal step is  -2149.53  J/mol\n"
          ],
          "name": "stdout"
        }
      ]
    },
    {
      "cell_type": "code",
      "metadata": {
        "tags": [],
        "cell_id": "98c4ef8c-d8e9-431a-8b6c-95e7d0337613",
        "trusted": true,
        "id": "neyCdEegotFT",
        "colab_type": "code",
        "colab": {
          "base_uri": "https://localhost:8080/",
          "height": 34
        },
        "outputId": "0df3b4f9-29ee-435d-cc69-6bcceccb585b"
      },
      "source": [
        "q_tot2=q1+q2\n",
        "print(\"The total heat for the two steps is \",q_tot2.round(2), \" J/mol\")"
      ],
      "execution_count": 35,
      "outputs": [
        {
          "output_type": "stream",
          "text": [
            "The total heat for the two steps is  -590.66  J/mol\n"
          ],
          "name": "stdout"
        }
      ]
    },
    {
      "cell_type": "markdown",
      "metadata": {
        "tags": [],
        "cell_id": "8edf6ee3-72dd-41e8-bc42-a3a7f9f5ea08",
        "id": "DjwHCGgrotFY",
        "colab_type": "text"
      },
      "source": [
        "The two pathways have different heat and work but the same heat+work"
      ]
    },
    {
      "cell_type": "code",
      "metadata": {
        "tags": [],
        "cell_id": "ef5521b4-5247-4369-9d67-eb0357360f9d",
        "trusted": false,
        "id": "KYPprTw5otFW",
        "colab_type": "code",
        "colab": {
          "base_uri": "https://localhost:8080/",
          "height": 123
        },
        "outputId": "07b92584-30f1-4bca-c34f-43f565dbfec4"
      },
      "source": [
        "w1=-sp.integrate(p,(V,Vs[0],Vs[1]))*100\n",
        "w2=-sp.integrate(sp.solve(ig,p)[0],(V,Vs[1],Vs[2]))\n",
        "print(w1+w2)\n",
        "w_tot2=(w1+w2).subs(p,ps[0]).subs(T,Ts[2]).subs(R,Rs[1])\n",
        "print(\"Work is\",w_tot2.round(2),\"J/mol\")\n",
        "\n"
      ],
      "execution_count": 41,
      "outputs": [
        {
          "output_type": "stream",
          "text": [
            "0.693147180559945*R*T - 623.55*p\n",
            "Work is 1525.98 J/mol\n",
            "The change in internal energy (work plus heat) is  935.32 J/mol\n",
            "Heat for path 1 (isothermal then isobaric) is  -158.45 J/mol compared to this path (isobaric then isothermal) -590.66  J/mol\n",
            "Work for path 1 (isothermal then isobaric) is  1093.77 J/mol compared to this path (isobaric then isothermal) 1525.98  J/mol\n",
            "Heat plus work for path 1 (isothermal then isobaric) is  935.33 J/mol compared to this path (isobaric then isothermal) 935.32  J/mol\n"
          ],
          "name": "stdout"
        }
      ]
    },
    {
      "cell_type": "markdown",
      "metadata": {
        "id": "MQWjnh1Xl50n",
        "colab_type": "text"
      },
      "source": [
        "In the first part of this exercise we calculated the heat (and work) for one sequence of paths using different equations. We got that same values for both steps of the pathway.\n",
        "Now we have also calculated the same total change in state using a different sequence of steps. Note how the heat is different for these two different path sequences,  the work is different for the different path sequences, but the sum of heat and work is the same."
      ]
    },
    {
      "cell_type": "code",
      "metadata": {
        "id": "hoRQ68_nmkUk",
        "colab_type": "code",
        "colab": {
          "base_uri": "https://localhost:8080/",
          "height": 70
        },
        "outputId": "29a1a719-f288-4ac5-ea36-ec54e3116f39"
      },
      "source": [
        "print(\"Heat for path 1 (isothermal then isobaric) is \",q_tot1.round(2),\"J/mol compared to this path (isobaric then isothermal)\", q_tot2.round(2),\" J/mol\")\n",
        "print(\"Work for path 1 (isothermal then isobaric) is \",w_tot1.round(2),\"J/mol compared to this path (isobaric then isothermal)\", w_tot2.round(2),\" J/mol\")\n",
        "print(\"Heat plus work for path 1 (isothermal then isobaric) is \",(q_tot1+w_tot1).round(2),\"J/mol compared to this path (isobaric then isothermal)\", (q_tot2+w_tot2).round(2),\" J/mol\")\n"
      ],
      "execution_count": 42,
      "outputs": [
        {
          "output_type": "stream",
          "text": [
            "Heat for path 1 (isothermal then isobaric) is  -158.45 J/mol compared to this path (isobaric then isothermal) -590.66  J/mol\n",
            "Work for path 1 (isothermal then isobaric) is  1093.77 J/mol compared to this path (isobaric then isothermal) 1525.98  J/mol\n",
            "Heat plus work for path 1 (isothermal then isobaric) is  935.33 J/mol compared to this path (isobaric then isothermal) 935.32  J/mol\n"
          ],
          "name": "stdout"
        }
      ]
    },
    {
      "cell_type": "markdown",
      "metadata": {
        "id": "uDJr1-Nsm_NN",
        "colab_type": "text"
      },
      "source": [
        "This shows that heat and work are functions that depend on the path followed and not just on the state (T, p, and V) of the beginning and end but that the sum of heat and work depends only on the beginning and ending states. We call this sum of heat and work the internal energy change of the system. Internal energy is a path independent quantity also called a state function. State functions are a lot nicer to deal with computationally since we can use any convenient path to calculate them and use an entirely different convenient path to experimentally measure them and we can be assured that since they are state functions, the results will match. We will spend a lot of our time generating and using state functions in this course."
      ]
    }
  ]
}